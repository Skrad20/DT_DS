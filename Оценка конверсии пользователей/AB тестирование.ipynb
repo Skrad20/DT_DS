{
 "cells": [
  {
   "cell_type": "markdown",
   "metadata": {},
   "source": [
    "# Загрузка библиотек"
   ]
  },
  {
   "cell_type": "code",
   "execution_count": 1,
   "metadata": {},
   "outputs": [],
   "source": [
    "import pandas as pd\n",
    "import numpy as np\n",
    "import math as mt\n",
    "import datetime as dt\n",
    "import timeit \n",
    "import requests as req\n",
    "import seaborn as sns\n",
    "import plotly.express as px\n",
    "import matplotlib.gridspec as gridspec\n",
    "\n",
    "from scipy.stats import chisquare\n",
    "from io import BytesIO\n",
    "from matplotlib import pyplot as plt\n",
    "from scipy import stats as st\n",
    "from math import factorial\n",
    "from scipy.stats import norm\n",
    "from plotly import graph_objects as go\n",
    "from sklearn.model_selection import train_test_split\n",
    "from sklearn.linear_model import LogisticRegression\n",
    "from sklearn.preprocessing import StandardScaler\n",
    "from sklearn.ensemble import RandomForestClassifier, GradientBoostingClassifier\n",
    "from sklearn.metrics import accuracy_score, precision_score, recall_score, f1_score\n",
    "from sklearn.cluster import KMeans\n",
    "from scipy.cluster.hierarchy import dendrogram, linkage \n",
    "\n",
    "ALPHA = 0.05\n",
    "import warnings\n",
    "warnings.simplefilter(\"ignore\")"
   ]
  },
  {
   "cell_type": "markdown",
   "metadata": {},
   "source": [
    "# Оглавление <a id='section_0'></a>\n",
    "\n",
    "## [Загрузка данных и предобработка данных](#section_I)\n",
    "\n",
    "* [Календарь маркетинговых событий на 2020 год](#section_I.1)\n",
    "* [Все пользователи, зарегистрировавшиеся в интернет-магазине в период с 7 по 21 декабря 2020 года ](#section_I.2)\n",
    "* [Все события новых пользователей в период с 7 декабря 2020 по 4 января 2021 года](#section_I.3)\n",
    "* [Таблица участников тестов ](#section_I.4)\n",
    "\n",
    "## [Объединение данных](#section_2)\n",
    "\n",
    "* [Провека на одинаковых пользователей тестах](#section_2.11)\n",
    "* [Проверка временных рамок теста](#section_2.4514)\n",
    "\n",
    "\n",
    "## [Проверка данных теста](#section_2.55)\n",
    "\n",
    "* [Оценка количества пользователей в каждой группе](#section_2.532323251)\n",
    "* [Проверка уникальности пользователей](#section_2.551)\n",
    "* [Распределение событий на пользователя](#section_2.552)\n",
    "* [Распределение событий по дням](#section_2.553)\n",
    "\n",
    "## [Конверсия в воронке на разных этапах](#section_2.5)\n",
    "\n",
    "* [Визуализация воронки](#section_33333)\n",
    "\n",
    "## [Анализ A/B-теста](#section_3)\n",
    "\n",
    "* [Выделение данных для метрик](#section_3.1)\n",
    "* [Выделение кумулятивных данных по каждой группе](#section_3.2)\n",
    "* [Построение графика по выручке](#section_3.3)\n",
    "* [Построение графика по среднему чеку](#section_3.5)\n",
    "* [Построение графика относительного изменения кумулятивного среднего чека группы B к группе A](#section_3.6)\n",
    "* [Расчёт и график кумулятивной конверсии по группам](#section_3.7)\n",
    "* [График относительного изменения кумулятивной конверсии группы B к группе A](#section_3.8)\n",
    "* [Статистическая значимость различий в среднем чеке между группами](#section_3.9)\n",
    "* [Статистическая значимость различий в конверсии между группами](#section_3.10)\n",
    "\n",
    "## [Заключение](#section_4)"
   ]
  },
  {
   "cell_type": "markdown",
   "metadata": {},
   "source": [
    "# Загрузка данных и предобработка данных<a id='section_I'></a>"
   ]
  },
  {
   "cell_type": "markdown",
   "metadata": {},
   "source": [
    "### Календарь маркетинговых событий на 2020 год<a id='section_I.1'></a>"
   ]
  },
  {
   "cell_type": "code",
   "execution_count": 2,
   "metadata": {},
   "outputs": [],
   "source": [
    "ab_project_marketing_events = pd.read_csv('https://code.s3.yandex.net/datasets/ab_project_marketing_events.csv')"
   ]
  },
  {
   "cell_type": "code",
   "execution_count": 3,
   "metadata": {},
   "outputs": [
    {
     "data": {
      "text/html": [
       "<div>\n",
       "<style scoped>\n",
       "    .dataframe tbody tr th:only-of-type {\n",
       "        vertical-align: middle;\n",
       "    }\n",
       "\n",
       "    .dataframe tbody tr th {\n",
       "        vertical-align: top;\n",
       "    }\n",
       "\n",
       "    .dataframe thead th {\n",
       "        text-align: right;\n",
       "    }\n",
       "</style>\n",
       "<table border=\"1\" class=\"dataframe\">\n",
       "  <thead>\n",
       "    <tr style=\"text-align: right;\">\n",
       "      <th></th>\n",
       "      <th>name</th>\n",
       "      <th>regions</th>\n",
       "      <th>start_dt</th>\n",
       "      <th>finish_dt</th>\n",
       "    </tr>\n",
       "  </thead>\n",
       "  <tbody>\n",
       "    <tr>\n",
       "      <td>0</td>\n",
       "      <td>Christmas&amp;New Year Promo</td>\n",
       "      <td>EU, N.America</td>\n",
       "      <td>2020-12-25</td>\n",
       "      <td>2021-01-03</td>\n",
       "    </tr>\n",
       "    <tr>\n",
       "      <td>1</td>\n",
       "      <td>St. Valentine's Day Giveaway</td>\n",
       "      <td>EU, CIS, APAC, N.America</td>\n",
       "      <td>2020-02-14</td>\n",
       "      <td>2020-02-16</td>\n",
       "    </tr>\n",
       "    <tr>\n",
       "      <td>2</td>\n",
       "      <td>St. Patric's Day Promo</td>\n",
       "      <td>EU, N.America</td>\n",
       "      <td>2020-03-17</td>\n",
       "      <td>2020-03-19</td>\n",
       "    </tr>\n",
       "    <tr>\n",
       "      <td>3</td>\n",
       "      <td>Easter Promo</td>\n",
       "      <td>EU, CIS, APAC, N.America</td>\n",
       "      <td>2020-04-12</td>\n",
       "      <td>2020-04-19</td>\n",
       "    </tr>\n",
       "    <tr>\n",
       "      <td>4</td>\n",
       "      <td>4th of July Promo</td>\n",
       "      <td>N.America</td>\n",
       "      <td>2020-07-04</td>\n",
       "      <td>2020-07-11</td>\n",
       "    </tr>\n",
       "    <tr>\n",
       "      <td>5</td>\n",
       "      <td>Black Friday Ads Campaign</td>\n",
       "      <td>EU, CIS, APAC, N.America</td>\n",
       "      <td>2020-11-26</td>\n",
       "      <td>2020-12-01</td>\n",
       "    </tr>\n",
       "    <tr>\n",
       "      <td>6</td>\n",
       "      <td>Chinese New Year Promo</td>\n",
       "      <td>APAC</td>\n",
       "      <td>2020-01-25</td>\n",
       "      <td>2020-02-07</td>\n",
       "    </tr>\n",
       "    <tr>\n",
       "      <td>7</td>\n",
       "      <td>Labor day (May 1st) Ads Campaign</td>\n",
       "      <td>EU, CIS, APAC</td>\n",
       "      <td>2020-05-01</td>\n",
       "      <td>2020-05-03</td>\n",
       "    </tr>\n",
       "    <tr>\n",
       "      <td>8</td>\n",
       "      <td>International Women's Day Promo</td>\n",
       "      <td>EU, CIS, APAC</td>\n",
       "      <td>2020-03-08</td>\n",
       "      <td>2020-03-10</td>\n",
       "    </tr>\n",
       "    <tr>\n",
       "      <td>9</td>\n",
       "      <td>Victory Day CIS (May 9th) Event</td>\n",
       "      <td>CIS</td>\n",
       "      <td>2020-05-09</td>\n",
       "      <td>2020-05-11</td>\n",
       "    </tr>\n",
       "    <tr>\n",
       "      <td>10</td>\n",
       "      <td>CIS New Year Gift Lottery</td>\n",
       "      <td>CIS</td>\n",
       "      <td>2020-12-30</td>\n",
       "      <td>2021-01-07</td>\n",
       "    </tr>\n",
       "    <tr>\n",
       "      <td>11</td>\n",
       "      <td>Dragon Boat Festival Giveaway</td>\n",
       "      <td>APAC</td>\n",
       "      <td>2020-06-25</td>\n",
       "      <td>2020-07-01</td>\n",
       "    </tr>\n",
       "    <tr>\n",
       "      <td>12</td>\n",
       "      <td>Single's Day Gift Promo</td>\n",
       "      <td>APAC</td>\n",
       "      <td>2020-11-11</td>\n",
       "      <td>2020-11-12</td>\n",
       "    </tr>\n",
       "    <tr>\n",
       "      <td>13</td>\n",
       "      <td>Chinese Moon Festival</td>\n",
       "      <td>APAC</td>\n",
       "      <td>2020-10-01</td>\n",
       "      <td>2020-10-07</td>\n",
       "    </tr>\n",
       "  </tbody>\n",
       "</table>\n",
       "</div>"
      ],
      "text/plain": [
       "                                name                   regions    start_dt  \\\n",
       "0           Christmas&New Year Promo             EU, N.America  2020-12-25   \n",
       "1       St. Valentine's Day Giveaway  EU, CIS, APAC, N.America  2020-02-14   \n",
       "2             St. Patric's Day Promo             EU, N.America  2020-03-17   \n",
       "3                       Easter Promo  EU, CIS, APAC, N.America  2020-04-12   \n",
       "4                  4th of July Promo                 N.America  2020-07-04   \n",
       "5          Black Friday Ads Campaign  EU, CIS, APAC, N.America  2020-11-26   \n",
       "6             Chinese New Year Promo                      APAC  2020-01-25   \n",
       "7   Labor day (May 1st) Ads Campaign             EU, CIS, APAC  2020-05-01   \n",
       "8    International Women's Day Promo             EU, CIS, APAC  2020-03-08   \n",
       "9    Victory Day CIS (May 9th) Event                       CIS  2020-05-09   \n",
       "10         CIS New Year Gift Lottery                       CIS  2020-12-30   \n",
       "11     Dragon Boat Festival Giveaway                      APAC  2020-06-25   \n",
       "12           Single's Day Gift Promo                      APAC  2020-11-11   \n",
       "13             Chinese Moon Festival                      APAC  2020-10-01   \n",
       "\n",
       "     finish_dt  \n",
       "0   2021-01-03  \n",
       "1   2020-02-16  \n",
       "2   2020-03-19  \n",
       "3   2020-04-19  \n",
       "4   2020-07-11  \n",
       "5   2020-12-01  \n",
       "6   2020-02-07  \n",
       "7   2020-05-03  \n",
       "8   2020-03-10  \n",
       "9   2020-05-11  \n",
       "10  2021-01-07  \n",
       "11  2020-07-01  \n",
       "12  2020-11-12  \n",
       "13  2020-10-07  "
      ]
     },
     "execution_count": 3,
     "metadata": {},
     "output_type": "execute_result"
    }
   ],
   "source": [
    "ab_project_marketing_events"
   ]
  },
  {
   "cell_type": "code",
   "execution_count": 4,
   "metadata": {
    "scrolled": true
   },
   "outputs": [
    {
     "name": "stdout",
     "output_type": "stream",
     "text": [
      "<class 'pandas.core.frame.DataFrame'>\n",
      "RangeIndex: 14 entries, 0 to 13\n",
      "Data columns (total 4 columns):\n",
      "name         14 non-null object\n",
      "regions      14 non-null object\n",
      "start_dt     14 non-null object\n",
      "finish_dt    14 non-null object\n",
      "dtypes: object(4)\n",
      "memory usage: 576.0+ bytes\n"
     ]
    }
   ],
   "source": [
    "ab_project_marketing_events.info()"
   ]
  },
  {
   "cell_type": "markdown",
   "metadata": {},
   "source": [
    "Приведем к данные к нижнему регистру"
   ]
  },
  {
   "cell_type": "code",
   "execution_count": 5,
   "metadata": {},
   "outputs": [],
   "source": [
    "ab_project_marketing_events['name'] = ab_project_marketing_events['name'].str.lower()\n",
    "ab_project_marketing_events['regions'] = ab_project_marketing_events['regions'].str.lower()"
   ]
  },
  {
   "cell_type": "markdown",
   "metadata": {},
   "source": [
    "Ищем дупликаты"
   ]
  },
  {
   "cell_type": "code",
   "execution_count": 6,
   "metadata": {},
   "outputs": [
    {
     "data": {
      "text/plain": [
       "0"
      ]
     },
     "execution_count": 6,
     "metadata": {},
     "output_type": "execute_result"
    }
   ],
   "source": [
    "ab_project_marketing_events.duplicated().sum()"
   ]
  },
  {
   "cell_type": "markdown",
   "metadata": {},
   "source": [
    "Приведем к нужным типам данных"
   ]
  },
  {
   "cell_type": "code",
   "execution_count": 7,
   "metadata": {},
   "outputs": [],
   "source": [
    "ab_project_marketing_events['start_dt'] = (pd.\n",
    "                                   to_datetime(ab_project_marketing_events['start_dt'], \n",
    "                                               format='%Y-%m-%dT')) \n",
    "ab_project_marketing_events['finish_dt'] = (pd.\n",
    "                                   to_datetime(ab_project_marketing_events['finish_dt'], \n",
    "                                               format='%Y-%m-%dT')) "
   ]
  },
  {
   "cell_type": "markdown",
   "metadata": {},
   "source": [
    "### Все пользователи, зарегистрировавшиеся в интернет-магазине в период с 7 по 21 декабря 2020 года <a id='section_I.2'></a>"
   ]
  },
  {
   "cell_type": "code",
   "execution_count": 8,
   "metadata": {},
   "outputs": [],
   "source": [
    "final_ab_new_users = pd.read_csv('https://code.s3.yandex.net/datasets/final_ab_new_users.csv')"
   ]
  },
  {
   "cell_type": "code",
   "execution_count": 9,
   "metadata": {
    "scrolled": true
   },
   "outputs": [
    {
     "data": {
      "text/html": [
       "<div>\n",
       "<style scoped>\n",
       "    .dataframe tbody tr th:only-of-type {\n",
       "        vertical-align: middle;\n",
       "    }\n",
       "\n",
       "    .dataframe tbody tr th {\n",
       "        vertical-align: top;\n",
       "    }\n",
       "\n",
       "    .dataframe thead th {\n",
       "        text-align: right;\n",
       "    }\n",
       "</style>\n",
       "<table border=\"1\" class=\"dataframe\">\n",
       "  <thead>\n",
       "    <tr style=\"text-align: right;\">\n",
       "      <th></th>\n",
       "      <th>user_id</th>\n",
       "      <th>first_date</th>\n",
       "      <th>region</th>\n",
       "      <th>device</th>\n",
       "    </tr>\n",
       "  </thead>\n",
       "  <tbody>\n",
       "    <tr>\n",
       "      <td>0</td>\n",
       "      <td>D72A72121175D8BE</td>\n",
       "      <td>2020-12-07</td>\n",
       "      <td>EU</td>\n",
       "      <td>PC</td>\n",
       "    </tr>\n",
       "    <tr>\n",
       "      <td>1</td>\n",
       "      <td>F1C668619DFE6E65</td>\n",
       "      <td>2020-12-07</td>\n",
       "      <td>N.America</td>\n",
       "      <td>Android</td>\n",
       "    </tr>\n",
       "    <tr>\n",
       "      <td>2</td>\n",
       "      <td>2E1BF1D4C37EA01F</td>\n",
       "      <td>2020-12-07</td>\n",
       "      <td>EU</td>\n",
       "      <td>PC</td>\n",
       "    </tr>\n",
       "    <tr>\n",
       "      <td>3</td>\n",
       "      <td>50734A22C0C63768</td>\n",
       "      <td>2020-12-07</td>\n",
       "      <td>EU</td>\n",
       "      <td>iPhone</td>\n",
       "    </tr>\n",
       "    <tr>\n",
       "      <td>4</td>\n",
       "      <td>E1BDDCE0DAFA2679</td>\n",
       "      <td>2020-12-07</td>\n",
       "      <td>N.America</td>\n",
       "      <td>iPhone</td>\n",
       "    </tr>\n",
       "  </tbody>\n",
       "</table>\n",
       "</div>"
      ],
      "text/plain": [
       "            user_id  first_date     region   device\n",
       "0  D72A72121175D8BE  2020-12-07         EU       PC\n",
       "1  F1C668619DFE6E65  2020-12-07  N.America  Android\n",
       "2  2E1BF1D4C37EA01F  2020-12-07         EU       PC\n",
       "3  50734A22C0C63768  2020-12-07         EU   iPhone\n",
       "4  E1BDDCE0DAFA2679  2020-12-07  N.America   iPhone"
      ]
     },
     "execution_count": 9,
     "metadata": {},
     "output_type": "execute_result"
    }
   ],
   "source": [
    "final_ab_new_users.head()"
   ]
  },
  {
   "cell_type": "code",
   "execution_count": 10,
   "metadata": {
    "scrolled": true
   },
   "outputs": [
    {
     "name": "stdout",
     "output_type": "stream",
     "text": [
      "<class 'pandas.core.frame.DataFrame'>\n",
      "RangeIndex: 61733 entries, 0 to 61732\n",
      "Data columns (total 4 columns):\n",
      "user_id       61733 non-null object\n",
      "first_date    61733 non-null object\n",
      "region        61733 non-null object\n",
      "device        61733 non-null object\n",
      "dtypes: object(4)\n",
      "memory usage: 1.9+ MB\n"
     ]
    }
   ],
   "source": [
    "final_ab_new_users.info()"
   ]
  },
  {
   "cell_type": "markdown",
   "metadata": {},
   "source": [
    "Приведем к данные к нижнему регистру"
   ]
  },
  {
   "cell_type": "code",
   "execution_count": 11,
   "metadata": {},
   "outputs": [],
   "source": [
    "final_ab_new_users['region'] = final_ab_new_users['region'].str.lower()\n",
    "final_ab_new_users['device'] = final_ab_new_users['device'].str.lower()"
   ]
  },
  {
   "cell_type": "markdown",
   "metadata": {},
   "source": [
    "Ищем дупликаты"
   ]
  },
  {
   "cell_type": "code",
   "execution_count": 12,
   "metadata": {},
   "outputs": [
    {
     "data": {
      "text/plain": [
       "0"
      ]
     },
     "execution_count": 12,
     "metadata": {},
     "output_type": "execute_result"
    }
   ],
   "source": [
    "final_ab_new_users.duplicated().sum()"
   ]
  },
  {
   "cell_type": "markdown",
   "metadata": {},
   "source": [
    "Приведем к нужным типам данных"
   ]
  },
  {
   "cell_type": "code",
   "execution_count": 13,
   "metadata": {},
   "outputs": [],
   "source": [
    "final_ab_new_users['first_date'] = (pd.\n",
    "                                   to_datetime(final_ab_new_users['first_date'], \n",
    "                                               format='%Y-%m-%dT')) \n"
   ]
  },
  {
   "cell_type": "markdown",
   "metadata": {},
   "source": [
    "### Все события новых пользователей в период с 7 декабря 2020 по 4 января 2021 года <a id='section_I.3'></a>"
   ]
  },
  {
   "cell_type": "code",
   "execution_count": 14,
   "metadata": {},
   "outputs": [],
   "source": [
    "final_ab_events = pd.read_csv('https://code.s3.yandex.net/datasets/final_ab_events.csv')"
   ]
  },
  {
   "cell_type": "code",
   "execution_count": 15,
   "metadata": {
    "scrolled": false
   },
   "outputs": [
    {
     "data": {
      "text/html": [
       "<div>\n",
       "<style scoped>\n",
       "    .dataframe tbody tr th:only-of-type {\n",
       "        vertical-align: middle;\n",
       "    }\n",
       "\n",
       "    .dataframe tbody tr th {\n",
       "        vertical-align: top;\n",
       "    }\n",
       "\n",
       "    .dataframe thead th {\n",
       "        text-align: right;\n",
       "    }\n",
       "</style>\n",
       "<table border=\"1\" class=\"dataframe\">\n",
       "  <thead>\n",
       "    <tr style=\"text-align: right;\">\n",
       "      <th></th>\n",
       "      <th>user_id</th>\n",
       "      <th>event_dt</th>\n",
       "      <th>event_name</th>\n",
       "      <th>details</th>\n",
       "    </tr>\n",
       "  </thead>\n",
       "  <tbody>\n",
       "    <tr>\n",
       "      <td>0</td>\n",
       "      <td>E1BDDCE0DAFA2679</td>\n",
       "      <td>2020-12-07 20:22:03</td>\n",
       "      <td>purchase</td>\n",
       "      <td>99.99</td>\n",
       "    </tr>\n",
       "    <tr>\n",
       "      <td>1</td>\n",
       "      <td>7B6452F081F49504</td>\n",
       "      <td>2020-12-07 09:22:53</td>\n",
       "      <td>purchase</td>\n",
       "      <td>9.99</td>\n",
       "    </tr>\n",
       "    <tr>\n",
       "      <td>2</td>\n",
       "      <td>9CD9F34546DF254C</td>\n",
       "      <td>2020-12-07 12:59:29</td>\n",
       "      <td>purchase</td>\n",
       "      <td>4.99</td>\n",
       "    </tr>\n",
       "    <tr>\n",
       "      <td>3</td>\n",
       "      <td>96F27A054B191457</td>\n",
       "      <td>2020-12-07 04:02:40</td>\n",
       "      <td>purchase</td>\n",
       "      <td>4.99</td>\n",
       "    </tr>\n",
       "    <tr>\n",
       "      <td>4</td>\n",
       "      <td>1FD7660FDF94CA1F</td>\n",
       "      <td>2020-12-07 10:15:09</td>\n",
       "      <td>purchase</td>\n",
       "      <td>4.99</td>\n",
       "    </tr>\n",
       "  </tbody>\n",
       "</table>\n",
       "</div>"
      ],
      "text/plain": [
       "            user_id             event_dt event_name  details\n",
       "0  E1BDDCE0DAFA2679  2020-12-07 20:22:03   purchase    99.99\n",
       "1  7B6452F081F49504  2020-12-07 09:22:53   purchase     9.99\n",
       "2  9CD9F34546DF254C  2020-12-07 12:59:29   purchase     4.99\n",
       "3  96F27A054B191457  2020-12-07 04:02:40   purchase     4.99\n",
       "4  1FD7660FDF94CA1F  2020-12-07 10:15:09   purchase     4.99"
      ]
     },
     "execution_count": 15,
     "metadata": {},
     "output_type": "execute_result"
    }
   ],
   "source": [
    "final_ab_events.head()"
   ]
  },
  {
   "cell_type": "code",
   "execution_count": 16,
   "metadata": {},
   "outputs": [
    {
     "name": "stdout",
     "output_type": "stream",
     "text": [
      "<class 'pandas.core.frame.DataFrame'>\n",
      "RangeIndex: 440317 entries, 0 to 440316\n",
      "Data columns (total 4 columns):\n",
      "user_id       440317 non-null object\n",
      "event_dt      440317 non-null object\n",
      "event_name    440317 non-null object\n",
      "details       62740 non-null float64\n",
      "dtypes: float64(1), object(3)\n",
      "memory usage: 13.4+ MB\n"
     ]
    }
   ],
   "source": [
    "final_ab_events.info()"
   ]
  },
  {
   "cell_type": "code",
   "execution_count": 17,
   "metadata": {},
   "outputs": [
    {
     "data": {
      "text/plain": [
       "login           189552\n",
       "product_page    125563\n",
       "purchase         62740\n",
       "product_cart     62462\n",
       "Name: event_name, dtype: int64"
      ]
     },
     "execution_count": 17,
     "metadata": {},
     "output_type": "execute_result"
    }
   ],
   "source": [
    "final_ab_events['event_name'].value_counts()"
   ]
  },
  {
   "cell_type": "code",
   "execution_count": 18,
   "metadata": {},
   "outputs": [],
   "source": [
    "final_ab_events['details_bool'] = final_ab_events['details'].isnull()"
   ]
  },
  {
   "cell_type": "code",
   "execution_count": 19,
   "metadata": {
    "scrolled": false
   },
   "outputs": [
    {
     "data": {
      "text/plain": [
       "login           189552\n",
       "product_page    125563\n",
       "product_cart     62462\n",
       "Name: event_name, dtype: int64"
      ]
     },
     "execution_count": 19,
     "metadata": {},
     "output_type": "execute_result"
    }
   ],
   "source": [
    "final_ab_events.query('details_bool == 1')['event_name'].value_counts()"
   ]
  },
  {
   "cell_type": "markdown",
   "metadata": {},
   "source": [
    "Есть большое количество пропусков в столбце details. Они появляются так как нет деталей по операциям login, product_page, product_cart."
   ]
  },
  {
   "cell_type": "code",
   "execution_count": 20,
   "metadata": {},
   "outputs": [],
   "source": [
    "final_ab_events = final_ab_events.drop('details_bool', axis=1)"
   ]
  },
  {
   "cell_type": "markdown",
   "metadata": {},
   "source": [
    "Заполним пропуски для удобства работы"
   ]
  },
  {
   "cell_type": "code",
   "execution_count": 21,
   "metadata": {},
   "outputs": [],
   "source": [
    "final_ab_events = final_ab_events.fillna(0)"
   ]
  },
  {
   "cell_type": "markdown",
   "metadata": {},
   "source": [
    "Ищем дупликаты"
   ]
  },
  {
   "cell_type": "code",
   "execution_count": 22,
   "metadata": {},
   "outputs": [
    {
     "data": {
      "text/plain": [
       "0"
      ]
     },
     "execution_count": 22,
     "metadata": {},
     "output_type": "execute_result"
    }
   ],
   "source": [
    "final_ab_events.duplicated().sum()"
   ]
  },
  {
   "cell_type": "markdown",
   "metadata": {},
   "source": [
    "Нет дупликатов"
   ]
  },
  {
   "cell_type": "markdown",
   "metadata": {},
   "source": [
    "Приведем к нужным типам данных значения времени"
   ]
  },
  {
   "cell_type": "code",
   "execution_count": 23,
   "metadata": {},
   "outputs": [],
   "source": [
    "final_ab_events['event_dt'] = (pd.\n",
    "                               to_datetime\n",
    "                               (final_ab_events['event_dt'],\n",
    "                                format='%Y-%m-%dT')) \n",
    " "
   ]
  },
  {
   "cell_type": "markdown",
   "metadata": {},
   "source": [
    "### Таблица участников тестов <a id='section_I.4'></a>"
   ]
  },
  {
   "cell_type": "code",
   "execution_count": 24,
   "metadata": {},
   "outputs": [],
   "source": [
    "final_ab_participants = pd.read_csv('https://code.s3.yandex.net/datasets/final_ab_participants.csv')"
   ]
  },
  {
   "cell_type": "code",
   "execution_count": 25,
   "metadata": {},
   "outputs": [
    {
     "data": {
      "text/html": [
       "<div>\n",
       "<style scoped>\n",
       "    .dataframe tbody tr th:only-of-type {\n",
       "        vertical-align: middle;\n",
       "    }\n",
       "\n",
       "    .dataframe tbody tr th {\n",
       "        vertical-align: top;\n",
       "    }\n",
       "\n",
       "    .dataframe thead th {\n",
       "        text-align: right;\n",
       "    }\n",
       "</style>\n",
       "<table border=\"1\" class=\"dataframe\">\n",
       "  <thead>\n",
       "    <tr style=\"text-align: right;\">\n",
       "      <th></th>\n",
       "      <th>user_id</th>\n",
       "      <th>group</th>\n",
       "      <th>ab_test</th>\n",
       "    </tr>\n",
       "  </thead>\n",
       "  <tbody>\n",
       "    <tr>\n",
       "      <td>0</td>\n",
       "      <td>D1ABA3E2887B6A73</td>\n",
       "      <td>A</td>\n",
       "      <td>recommender_system_test</td>\n",
       "    </tr>\n",
       "    <tr>\n",
       "      <td>1</td>\n",
       "      <td>A7A3664BD6242119</td>\n",
       "      <td>A</td>\n",
       "      <td>recommender_system_test</td>\n",
       "    </tr>\n",
       "    <tr>\n",
       "      <td>2</td>\n",
       "      <td>DABC14FDDFADD29E</td>\n",
       "      <td>A</td>\n",
       "      <td>recommender_system_test</td>\n",
       "    </tr>\n",
       "    <tr>\n",
       "      <td>3</td>\n",
       "      <td>04988C5DF189632E</td>\n",
       "      <td>A</td>\n",
       "      <td>recommender_system_test</td>\n",
       "    </tr>\n",
       "    <tr>\n",
       "      <td>4</td>\n",
       "      <td>482F14783456D21B</td>\n",
       "      <td>B</td>\n",
       "      <td>recommender_system_test</td>\n",
       "    </tr>\n",
       "  </tbody>\n",
       "</table>\n",
       "</div>"
      ],
      "text/plain": [
       "            user_id group                  ab_test\n",
       "0  D1ABA3E2887B6A73     A  recommender_system_test\n",
       "1  A7A3664BD6242119     A  recommender_system_test\n",
       "2  DABC14FDDFADD29E     A  recommender_system_test\n",
       "3  04988C5DF189632E     A  recommender_system_test\n",
       "4  482F14783456D21B     B  recommender_system_test"
      ]
     },
     "execution_count": 25,
     "metadata": {},
     "output_type": "execute_result"
    }
   ],
   "source": [
    "final_ab_participants.head()"
   ]
  },
  {
   "cell_type": "code",
   "execution_count": 26,
   "metadata": {},
   "outputs": [
    {
     "name": "stdout",
     "output_type": "stream",
     "text": [
      "<class 'pandas.core.frame.DataFrame'>\n",
      "RangeIndex: 18268 entries, 0 to 18267\n",
      "Data columns (total 3 columns):\n",
      "user_id    18268 non-null object\n",
      "group      18268 non-null object\n",
      "ab_test    18268 non-null object\n",
      "dtypes: object(3)\n",
      "memory usage: 428.3+ KB\n"
     ]
    }
   ],
   "source": [
    "final_ab_participants.info()"
   ]
  },
  {
   "cell_type": "markdown",
   "metadata": {},
   "source": [
    "Пропусков нет"
   ]
  },
  {
   "cell_type": "markdown",
   "metadata": {},
   "source": [
    "Ищем дупликаты"
   ]
  },
  {
   "cell_type": "code",
   "execution_count": 27,
   "metadata": {},
   "outputs": [
    {
     "data": {
      "text/plain": [
       "0"
      ]
     },
     "execution_count": 27,
     "metadata": {},
     "output_type": "execute_result"
    }
   ],
   "source": [
    "final_ab_participants.duplicated().sum()"
   ]
  },
  {
   "cell_type": "markdown",
   "metadata": {},
   "source": [
    "Преобразование типов не требуется, повторов и пропусков нет."
   ]
  },
  {
   "cell_type": "markdown",
   "metadata": {},
   "source": [
    "# Объединение данных <a id='section_2'></a>"
   ]
  },
  {
   "cell_type": "markdown",
   "metadata": {},
   "source": [
    "В данных имеются два теста"
   ]
  },
  {
   "cell_type": "code",
   "execution_count": 28,
   "metadata": {
    "scrolled": true
   },
   "outputs": [
    {
     "data": {
      "text/plain": [
       "interface_eu_test          11567\n",
       "recommender_system_test     6701\n",
       "Name: ab_test, dtype: int64"
      ]
     },
     "execution_count": 28,
     "metadata": {},
     "output_type": "execute_result"
    }
   ],
   "source": [
    "final_ab_participants['ab_test'].value_counts()"
   ]
  },
  {
   "cell_type": "markdown",
   "metadata": {},
   "source": [
    "### Провека на одинаковых пользователей тестах  <a id='section_2.11'></a>"
   ]
  },
  {
   "cell_type": "markdown",
   "metadata": {},
   "source": [
    "Выделим данные по дополнительному тесту"
   ]
  },
  {
   "cell_type": "code",
   "execution_count": 29,
   "metadata": {},
   "outputs": [],
   "source": [
    "final_ab_participants_interface_eu_test = final_ab_participants.query('ab_test == \"interface_eu_test\"')"
   ]
  },
  {
   "cell_type": "markdown",
   "metadata": {},
   "source": [
    "Выделим данные по целевому AB-тесту"
   ]
  },
  {
   "cell_type": "code",
   "execution_count": 30,
   "metadata": {},
   "outputs": [],
   "source": [
    "final_ab_participants_test = final_ab_participants.query('ab_test == \"recommender_system_test\"')"
   ]
  },
  {
   "cell_type": "code",
   "execution_count": 31,
   "metadata": {},
   "outputs": [],
   "source": [
    "user_id_final_ab_participants_interface_eu_test = final_ab_participants_interface_eu_test['user_id'].unique()"
   ]
  },
  {
   "cell_type": "code",
   "execution_count": 32,
   "metadata": {},
   "outputs": [],
   "source": [
    "user_id_final_ab_participants_test = final_ab_participants_test['user_id'].unique()"
   ]
  },
  {
   "cell_type": "markdown",
   "metadata": {},
   "source": [
    "Проверим на сходство"
   ]
  },
  {
   "cell_type": "code",
   "execution_count": 33,
   "metadata": {},
   "outputs": [],
   "source": [
    "del_lis_user = []\n",
    "for user_name in user_id_final_ab_participants_test:\n",
    "    if user_name in  user_id_final_ab_participants_interface_eu_test:\n",
    "        del_lis_user.append(user_name)"
   ]
  },
  {
   "cell_type": "code",
   "execution_count": 34,
   "metadata": {},
   "outputs": [],
   "source": [
    "final_ab_participants_test.index = final_ab_participants_test['user_id']"
   ]
  },
  {
   "cell_type": "markdown",
   "metadata": {},
   "source": [
    "Удалим пользователей находящихся в двух тестах сразу"
   ]
  },
  {
   "cell_type": "code",
   "execution_count": 35,
   "metadata": {},
   "outputs": [],
   "source": [
    "final_ab_participants_test = final_ab_participants_test.drop(del_lis_user, axis=0) "
   ]
  },
  {
   "cell_type": "code",
   "execution_count": 36,
   "metadata": {},
   "outputs": [],
   "source": [
    "final_ab_participants_test = final_ab_participants_test.drop(['user_id'],  axis=1) "
   ]
  },
  {
   "cell_type": "code",
   "execution_count": 37,
   "metadata": {},
   "outputs": [],
   "source": [
    "final_ab_participants_test = final_ab_participants_test.reset_index()"
   ]
  },
  {
   "cell_type": "code",
   "execution_count": 38,
   "metadata": {
    "scrolled": true
   },
   "outputs": [
    {
     "data": {
      "text/html": [
       "<div>\n",
       "<style scoped>\n",
       "    .dataframe tbody tr th:only-of-type {\n",
       "        vertical-align: middle;\n",
       "    }\n",
       "\n",
       "    .dataframe tbody tr th {\n",
       "        vertical-align: top;\n",
       "    }\n",
       "\n",
       "    .dataframe thead th {\n",
       "        text-align: right;\n",
       "    }\n",
       "</style>\n",
       "<table border=\"1\" class=\"dataframe\">\n",
       "  <thead>\n",
       "    <tr style=\"text-align: right;\">\n",
       "      <th></th>\n",
       "      <th>user_id</th>\n",
       "      <th>group</th>\n",
       "      <th>ab_test</th>\n",
       "    </tr>\n",
       "  </thead>\n",
       "  <tbody>\n",
       "    <tr>\n",
       "      <td>0</td>\n",
       "      <td>D1ABA3E2887B6A73</td>\n",
       "      <td>A</td>\n",
       "      <td>recommender_system_test</td>\n",
       "    </tr>\n",
       "    <tr>\n",
       "      <td>1</td>\n",
       "      <td>A7A3664BD6242119</td>\n",
       "      <td>A</td>\n",
       "      <td>recommender_system_test</td>\n",
       "    </tr>\n",
       "    <tr>\n",
       "      <td>2</td>\n",
       "      <td>482F14783456D21B</td>\n",
       "      <td>B</td>\n",
       "      <td>recommender_system_test</td>\n",
       "    </tr>\n",
       "    <tr>\n",
       "      <td>3</td>\n",
       "      <td>4FF2998A348C484F</td>\n",
       "      <td>A</td>\n",
       "      <td>recommender_system_test</td>\n",
       "    </tr>\n",
       "    <tr>\n",
       "      <td>4</td>\n",
       "      <td>7473E0943673C09E</td>\n",
       "      <td>A</td>\n",
       "      <td>recommender_system_test</td>\n",
       "    </tr>\n",
       "  </tbody>\n",
       "</table>\n",
       "</div>"
      ],
      "text/plain": [
       "            user_id group                  ab_test\n",
       "0  D1ABA3E2887B6A73     A  recommender_system_test\n",
       "1  A7A3664BD6242119     A  recommender_system_test\n",
       "2  482F14783456D21B     B  recommender_system_test\n",
       "3  4FF2998A348C484F     A  recommender_system_test\n",
       "4  7473E0943673C09E     A  recommender_system_test"
      ]
     },
     "execution_count": 38,
     "metadata": {},
     "output_type": "execute_result"
    }
   ],
   "source": [
    "final_ab_participants_test.head()"
   ]
  },
  {
   "cell_type": "markdown",
   "metadata": {},
   "source": [
    "Проверим пользователей на уникальность"
   ]
  },
  {
   "cell_type": "code",
   "execution_count": 39,
   "metadata": {},
   "outputs": [
    {
     "data": {
      "text/plain": [
       "6166273FF727F34F    1\n",
       "73B8260CB2EC2469    1\n",
       "08E17E11A2BD8CF9    1\n",
       "876918802E20EE1C    1\n",
       "83F4A600114DB3CF    1\n",
       "                   ..\n",
       "36FDEFCF5AB2F663    1\n",
       "F5D6BFBBC749C924    1\n",
       "ED0C78CCC155B1E8    1\n",
       "5813F642DCC5984A    1\n",
       "42ECCBA921AFE086    1\n",
       "Name: user_id, Length: 5099, dtype: int64"
      ]
     },
     "execution_count": 39,
     "metadata": {},
     "output_type": "execute_result"
    }
   ],
   "source": [
    "final_ab_participants_test['user_id'].value_counts()"
   ]
  },
  {
   "cell_type": "markdown",
   "metadata": {},
   "source": [
    "Объединим данные и удалим те строки, в которых будут пропуски, т.к. это будет означать отсутсnвие этих пользователей в целевом тесте."
   ]
  },
  {
   "cell_type": "code",
   "execution_count": 40,
   "metadata": {},
   "outputs": [
    {
     "data": {
      "text/html": [
       "<div>\n",
       "<style scoped>\n",
       "    .dataframe tbody tr th:only-of-type {\n",
       "        vertical-align: middle;\n",
       "    }\n",
       "\n",
       "    .dataframe tbody tr th {\n",
       "        vertical-align: top;\n",
       "    }\n",
       "\n",
       "    .dataframe thead th {\n",
       "        text-align: right;\n",
       "    }\n",
       "</style>\n",
       "<table border=\"1\" class=\"dataframe\">\n",
       "  <thead>\n",
       "    <tr style=\"text-align: right;\">\n",
       "      <th></th>\n",
       "      <th>user_id</th>\n",
       "      <th>event_dt</th>\n",
       "      <th>event_name</th>\n",
       "      <th>details</th>\n",
       "    </tr>\n",
       "  </thead>\n",
       "  <tbody>\n",
       "    <tr>\n",
       "      <td>0</td>\n",
       "      <td>E1BDDCE0DAFA2679</td>\n",
       "      <td>2020-12-07 20:22:03</td>\n",
       "      <td>purchase</td>\n",
       "      <td>99.99</td>\n",
       "    </tr>\n",
       "    <tr>\n",
       "      <td>1</td>\n",
       "      <td>7B6452F081F49504</td>\n",
       "      <td>2020-12-07 09:22:53</td>\n",
       "      <td>purchase</td>\n",
       "      <td>9.99</td>\n",
       "    </tr>\n",
       "    <tr>\n",
       "      <td>2</td>\n",
       "      <td>9CD9F34546DF254C</td>\n",
       "      <td>2020-12-07 12:59:29</td>\n",
       "      <td>purchase</td>\n",
       "      <td>4.99</td>\n",
       "    </tr>\n",
       "    <tr>\n",
       "      <td>3</td>\n",
       "      <td>96F27A054B191457</td>\n",
       "      <td>2020-12-07 04:02:40</td>\n",
       "      <td>purchase</td>\n",
       "      <td>4.99</td>\n",
       "    </tr>\n",
       "    <tr>\n",
       "      <td>4</td>\n",
       "      <td>1FD7660FDF94CA1F</td>\n",
       "      <td>2020-12-07 10:15:09</td>\n",
       "      <td>purchase</td>\n",
       "      <td>4.99</td>\n",
       "    </tr>\n",
       "  </tbody>\n",
       "</table>\n",
       "</div>"
      ],
      "text/plain": [
       "            user_id            event_dt event_name  details\n",
       "0  E1BDDCE0DAFA2679 2020-12-07 20:22:03   purchase    99.99\n",
       "1  7B6452F081F49504 2020-12-07 09:22:53   purchase     9.99\n",
       "2  9CD9F34546DF254C 2020-12-07 12:59:29   purchase     4.99\n",
       "3  96F27A054B191457 2020-12-07 04:02:40   purchase     4.99\n",
       "4  1FD7660FDF94CA1F 2020-12-07 10:15:09   purchase     4.99"
      ]
     },
     "execution_count": 40,
     "metadata": {},
     "output_type": "execute_result"
    }
   ],
   "source": [
    "final_ab_events.head()"
   ]
  },
  {
   "cell_type": "code",
   "execution_count": 41,
   "metadata": {},
   "outputs": [
    {
     "data": {
      "text/html": [
       "<div>\n",
       "<style scoped>\n",
       "    .dataframe tbody tr th:only-of-type {\n",
       "        vertical-align: middle;\n",
       "    }\n",
       "\n",
       "    .dataframe tbody tr th {\n",
       "        vertical-align: top;\n",
       "    }\n",
       "\n",
       "    .dataframe thead th {\n",
       "        text-align: right;\n",
       "    }\n",
       "</style>\n",
       "<table border=\"1\" class=\"dataframe\">\n",
       "  <thead>\n",
       "    <tr style=\"text-align: right;\">\n",
       "      <th></th>\n",
       "      <th>user_id</th>\n",
       "      <th>group</th>\n",
       "      <th>ab_test</th>\n",
       "    </tr>\n",
       "  </thead>\n",
       "  <tbody>\n",
       "    <tr>\n",
       "      <td>0</td>\n",
       "      <td>D1ABA3E2887B6A73</td>\n",
       "      <td>A</td>\n",
       "      <td>recommender_system_test</td>\n",
       "    </tr>\n",
       "    <tr>\n",
       "      <td>1</td>\n",
       "      <td>A7A3664BD6242119</td>\n",
       "      <td>A</td>\n",
       "      <td>recommender_system_test</td>\n",
       "    </tr>\n",
       "    <tr>\n",
       "      <td>2</td>\n",
       "      <td>482F14783456D21B</td>\n",
       "      <td>B</td>\n",
       "      <td>recommender_system_test</td>\n",
       "    </tr>\n",
       "    <tr>\n",
       "      <td>3</td>\n",
       "      <td>4FF2998A348C484F</td>\n",
       "      <td>A</td>\n",
       "      <td>recommender_system_test</td>\n",
       "    </tr>\n",
       "    <tr>\n",
       "      <td>4</td>\n",
       "      <td>7473E0943673C09E</td>\n",
       "      <td>A</td>\n",
       "      <td>recommender_system_test</td>\n",
       "    </tr>\n",
       "  </tbody>\n",
       "</table>\n",
       "</div>"
      ],
      "text/plain": [
       "            user_id group                  ab_test\n",
       "0  D1ABA3E2887B6A73     A  recommender_system_test\n",
       "1  A7A3664BD6242119     A  recommender_system_test\n",
       "2  482F14783456D21B     B  recommender_system_test\n",
       "3  4FF2998A348C484F     A  recommender_system_test\n",
       "4  7473E0943673C09E     A  recommender_system_test"
      ]
     },
     "execution_count": 41,
     "metadata": {},
     "output_type": "execute_result"
    }
   ],
   "source": [
    "final_ab_participants_test.head()"
   ]
  },
  {
   "cell_type": "code",
   "execution_count": 42,
   "metadata": {},
   "outputs": [],
   "source": [
    "final_ab_data = final_ab_events.merge(final_ab_participants_test, \n",
    "                                      on = 'user_id', \n",
    "                                      how = 'inner')"
   ]
  },
  {
   "cell_type": "code",
   "execution_count": 43,
   "metadata": {
    "scrolled": true
   },
   "outputs": [
    {
     "data": {
      "text/html": [
       "<div>\n",
       "<style scoped>\n",
       "    .dataframe tbody tr th:only-of-type {\n",
       "        vertical-align: middle;\n",
       "    }\n",
       "\n",
       "    .dataframe tbody tr th {\n",
       "        vertical-align: top;\n",
       "    }\n",
       "\n",
       "    .dataframe thead th {\n",
       "        text-align: right;\n",
       "    }\n",
       "</style>\n",
       "<table border=\"1\" class=\"dataframe\">\n",
       "  <thead>\n",
       "    <tr style=\"text-align: right;\">\n",
       "      <th></th>\n",
       "      <th>user_id</th>\n",
       "      <th>event_dt</th>\n",
       "      <th>event_name</th>\n",
       "      <th>details</th>\n",
       "      <th>group</th>\n",
       "      <th>ab_test</th>\n",
       "    </tr>\n",
       "  </thead>\n",
       "  <tbody>\n",
       "    <tr>\n",
       "      <td>0</td>\n",
       "      <td>831887FE7F2D6CBA</td>\n",
       "      <td>2020-12-07 06:50:29</td>\n",
       "      <td>purchase</td>\n",
       "      <td>4.99</td>\n",
       "      <td>A</td>\n",
       "      <td>recommender_system_test</td>\n",
       "    </tr>\n",
       "    <tr>\n",
       "      <td>1</td>\n",
       "      <td>831887FE7F2D6CBA</td>\n",
       "      <td>2020-12-09 02:19:17</td>\n",
       "      <td>purchase</td>\n",
       "      <td>99.99</td>\n",
       "      <td>A</td>\n",
       "      <td>recommender_system_test</td>\n",
       "    </tr>\n",
       "    <tr>\n",
       "      <td>2</td>\n",
       "      <td>831887FE7F2D6CBA</td>\n",
       "      <td>2020-12-07 06:50:30</td>\n",
       "      <td>product_cart</td>\n",
       "      <td>0.00</td>\n",
       "      <td>A</td>\n",
       "      <td>recommender_system_test</td>\n",
       "    </tr>\n",
       "    <tr>\n",
       "      <td>3</td>\n",
       "      <td>831887FE7F2D6CBA</td>\n",
       "      <td>2020-12-08 10:52:27</td>\n",
       "      <td>product_cart</td>\n",
       "      <td>0.00</td>\n",
       "      <td>A</td>\n",
       "      <td>recommender_system_test</td>\n",
       "    </tr>\n",
       "    <tr>\n",
       "      <td>4</td>\n",
       "      <td>831887FE7F2D6CBA</td>\n",
       "      <td>2020-12-09 02:19:17</td>\n",
       "      <td>product_cart</td>\n",
       "      <td>0.00</td>\n",
       "      <td>A</td>\n",
       "      <td>recommender_system_test</td>\n",
       "    </tr>\n",
       "  </tbody>\n",
       "</table>\n",
       "</div>"
      ],
      "text/plain": [
       "            user_id            event_dt    event_name  details group  \\\n",
       "0  831887FE7F2D6CBA 2020-12-07 06:50:29      purchase     4.99     A   \n",
       "1  831887FE7F2D6CBA 2020-12-09 02:19:17      purchase    99.99     A   \n",
       "2  831887FE7F2D6CBA 2020-12-07 06:50:30  product_cart     0.00     A   \n",
       "3  831887FE7F2D6CBA 2020-12-08 10:52:27  product_cart     0.00     A   \n",
       "4  831887FE7F2D6CBA 2020-12-09 02:19:17  product_cart     0.00     A   \n",
       "\n",
       "                   ab_test  \n",
       "0  recommender_system_test  \n",
       "1  recommender_system_test  \n",
       "2  recommender_system_test  \n",
       "3  recommender_system_test  \n",
       "4  recommender_system_test  "
      ]
     },
     "execution_count": 43,
     "metadata": {},
     "output_type": "execute_result"
    }
   ],
   "source": [
    "final_ab_data.head()"
   ]
  },
  {
   "cell_type": "markdown",
   "metadata": {},
   "source": [
    "Объединим с данными о новых клиентах, чтобы зенать, количество прибывших людей"
   ]
  },
  {
   "cell_type": "code",
   "execution_count": 44,
   "metadata": {},
   "outputs": [],
   "source": [
    "final_ab_data = final_ab_data.merge(final_ab_new_users, \n",
    "                                      on = 'user_id', \n",
    "                                      how = 'left')"
   ]
  },
  {
   "cell_type": "code",
   "execution_count": 45,
   "metadata": {},
   "outputs": [
    {
     "data": {
      "text/html": [
       "<div>\n",
       "<style scoped>\n",
       "    .dataframe tbody tr th:only-of-type {\n",
       "        vertical-align: middle;\n",
       "    }\n",
       "\n",
       "    .dataframe tbody tr th {\n",
       "        vertical-align: top;\n",
       "    }\n",
       "\n",
       "    .dataframe thead th {\n",
       "        text-align: right;\n",
       "    }\n",
       "</style>\n",
       "<table border=\"1\" class=\"dataframe\">\n",
       "  <thead>\n",
       "    <tr style=\"text-align: right;\">\n",
       "      <th></th>\n",
       "      <th>user_id</th>\n",
       "      <th>event_dt</th>\n",
       "      <th>event_name</th>\n",
       "      <th>details</th>\n",
       "      <th>group</th>\n",
       "      <th>ab_test</th>\n",
       "      <th>first_date</th>\n",
       "      <th>region</th>\n",
       "      <th>device</th>\n",
       "    </tr>\n",
       "  </thead>\n",
       "  <tbody>\n",
       "    <tr>\n",
       "      <td>0</td>\n",
       "      <td>831887FE7F2D6CBA</td>\n",
       "      <td>2020-12-07 06:50:29</td>\n",
       "      <td>purchase</td>\n",
       "      <td>4.99</td>\n",
       "      <td>A</td>\n",
       "      <td>recommender_system_test</td>\n",
       "      <td>2020-12-07</td>\n",
       "      <td>eu</td>\n",
       "      <td>android</td>\n",
       "    </tr>\n",
       "    <tr>\n",
       "      <td>1</td>\n",
       "      <td>831887FE7F2D6CBA</td>\n",
       "      <td>2020-12-09 02:19:17</td>\n",
       "      <td>purchase</td>\n",
       "      <td>99.99</td>\n",
       "      <td>A</td>\n",
       "      <td>recommender_system_test</td>\n",
       "      <td>2020-12-07</td>\n",
       "      <td>eu</td>\n",
       "      <td>android</td>\n",
       "    </tr>\n",
       "    <tr>\n",
       "      <td>2</td>\n",
       "      <td>831887FE7F2D6CBA</td>\n",
       "      <td>2020-12-07 06:50:30</td>\n",
       "      <td>product_cart</td>\n",
       "      <td>0.00</td>\n",
       "      <td>A</td>\n",
       "      <td>recommender_system_test</td>\n",
       "      <td>2020-12-07</td>\n",
       "      <td>eu</td>\n",
       "      <td>android</td>\n",
       "    </tr>\n",
       "    <tr>\n",
       "      <td>3</td>\n",
       "      <td>831887FE7F2D6CBA</td>\n",
       "      <td>2020-12-08 10:52:27</td>\n",
       "      <td>product_cart</td>\n",
       "      <td>0.00</td>\n",
       "      <td>A</td>\n",
       "      <td>recommender_system_test</td>\n",
       "      <td>2020-12-07</td>\n",
       "      <td>eu</td>\n",
       "      <td>android</td>\n",
       "    </tr>\n",
       "    <tr>\n",
       "      <td>4</td>\n",
       "      <td>831887FE7F2D6CBA</td>\n",
       "      <td>2020-12-09 02:19:17</td>\n",
       "      <td>product_cart</td>\n",
       "      <td>0.00</td>\n",
       "      <td>A</td>\n",
       "      <td>recommender_system_test</td>\n",
       "      <td>2020-12-07</td>\n",
       "      <td>eu</td>\n",
       "      <td>android</td>\n",
       "    </tr>\n",
       "  </tbody>\n",
       "</table>\n",
       "</div>"
      ],
      "text/plain": [
       "            user_id            event_dt    event_name  details group  \\\n",
       "0  831887FE7F2D6CBA 2020-12-07 06:50:29      purchase     4.99     A   \n",
       "1  831887FE7F2D6CBA 2020-12-09 02:19:17      purchase    99.99     A   \n",
       "2  831887FE7F2D6CBA 2020-12-07 06:50:30  product_cart     0.00     A   \n",
       "3  831887FE7F2D6CBA 2020-12-08 10:52:27  product_cart     0.00     A   \n",
       "4  831887FE7F2D6CBA 2020-12-09 02:19:17  product_cart     0.00     A   \n",
       "\n",
       "                   ab_test first_date region   device  \n",
       "0  recommender_system_test 2020-12-07     eu  android  \n",
       "1  recommender_system_test 2020-12-07     eu  android  \n",
       "2  recommender_system_test 2020-12-07     eu  android  \n",
       "3  recommender_system_test 2020-12-07     eu  android  \n",
       "4  recommender_system_test 2020-12-07     eu  android  "
      ]
     },
     "execution_count": 45,
     "metadata": {},
     "output_type": "execute_result"
    }
   ],
   "source": [
    "final_ab_data.head()"
   ]
  },
  {
   "cell_type": "code",
   "execution_count": 46,
   "metadata": {},
   "outputs": [
    {
     "data": {
      "text/plain": [
       "eu           17526\n",
       "n.america      838\n",
       "apac           232\n",
       "cis            208\n",
       "Name: region, dtype: int64"
      ]
     },
     "execution_count": 46,
     "metadata": {},
     "output_type": "execute_result"
    }
   ],
   "source": [
    "final_ab_data['region'].value_counts()"
   ]
  },
  {
   "cell_type": "markdown",
   "metadata": {},
   "source": [
    "В данных большинство клиентов представлено из Европы, так же тест проводится на покупателях из этого региона. Для того чтобы избежать выбросов и некорректных сравнений, оставим в датасете пользователей только из Европы"
   ]
  },
  {
   "cell_type": "code",
   "execution_count": 47,
   "metadata": {},
   "outputs": [],
   "source": [
    "final_ab_data = final_ab_data.query('region == \"eu\"')"
   ]
  },
  {
   "cell_type": "code",
   "execution_count": 48,
   "metadata": {},
   "outputs": [
    {
     "data": {
      "text/html": [
       "<div>\n",
       "<style scoped>\n",
       "    .dataframe tbody tr th:only-of-type {\n",
       "        vertical-align: middle;\n",
       "    }\n",
       "\n",
       "    .dataframe tbody tr th {\n",
       "        vertical-align: top;\n",
       "    }\n",
       "\n",
       "    .dataframe thead th {\n",
       "        text-align: right;\n",
       "    }\n",
       "</style>\n",
       "<table border=\"1\" class=\"dataframe\">\n",
       "  <thead>\n",
       "    <tr style=\"text-align: right;\">\n",
       "      <th></th>\n",
       "      <th>user_id</th>\n",
       "      <th>event_dt</th>\n",
       "      <th>event_name</th>\n",
       "      <th>details</th>\n",
       "      <th>group</th>\n",
       "      <th>ab_test</th>\n",
       "      <th>first_date</th>\n",
       "      <th>region</th>\n",
       "      <th>device</th>\n",
       "    </tr>\n",
       "  </thead>\n",
       "  <tbody>\n",
       "    <tr>\n",
       "      <td>0</td>\n",
       "      <td>831887FE7F2D6CBA</td>\n",
       "      <td>2020-12-07 06:50:29</td>\n",
       "      <td>purchase</td>\n",
       "      <td>4.99</td>\n",
       "      <td>A</td>\n",
       "      <td>recommender_system_test</td>\n",
       "      <td>2020-12-07</td>\n",
       "      <td>eu</td>\n",
       "      <td>android</td>\n",
       "    </tr>\n",
       "    <tr>\n",
       "      <td>1</td>\n",
       "      <td>831887FE7F2D6CBA</td>\n",
       "      <td>2020-12-09 02:19:17</td>\n",
       "      <td>purchase</td>\n",
       "      <td>99.99</td>\n",
       "      <td>A</td>\n",
       "      <td>recommender_system_test</td>\n",
       "      <td>2020-12-07</td>\n",
       "      <td>eu</td>\n",
       "      <td>android</td>\n",
       "    </tr>\n",
       "    <tr>\n",
       "      <td>2</td>\n",
       "      <td>831887FE7F2D6CBA</td>\n",
       "      <td>2020-12-07 06:50:30</td>\n",
       "      <td>product_cart</td>\n",
       "      <td>0.00</td>\n",
       "      <td>A</td>\n",
       "      <td>recommender_system_test</td>\n",
       "      <td>2020-12-07</td>\n",
       "      <td>eu</td>\n",
       "      <td>android</td>\n",
       "    </tr>\n",
       "    <tr>\n",
       "      <td>3</td>\n",
       "      <td>831887FE7F2D6CBA</td>\n",
       "      <td>2020-12-08 10:52:27</td>\n",
       "      <td>product_cart</td>\n",
       "      <td>0.00</td>\n",
       "      <td>A</td>\n",
       "      <td>recommender_system_test</td>\n",
       "      <td>2020-12-07</td>\n",
       "      <td>eu</td>\n",
       "      <td>android</td>\n",
       "    </tr>\n",
       "    <tr>\n",
       "      <td>4</td>\n",
       "      <td>831887FE7F2D6CBA</td>\n",
       "      <td>2020-12-09 02:19:17</td>\n",
       "      <td>product_cart</td>\n",
       "      <td>0.00</td>\n",
       "      <td>A</td>\n",
       "      <td>recommender_system_test</td>\n",
       "      <td>2020-12-07</td>\n",
       "      <td>eu</td>\n",
       "      <td>android</td>\n",
       "    </tr>\n",
       "  </tbody>\n",
       "</table>\n",
       "</div>"
      ],
      "text/plain": [
       "            user_id            event_dt    event_name  details group  \\\n",
       "0  831887FE7F2D6CBA 2020-12-07 06:50:29      purchase     4.99     A   \n",
       "1  831887FE7F2D6CBA 2020-12-09 02:19:17      purchase    99.99     A   \n",
       "2  831887FE7F2D6CBA 2020-12-07 06:50:30  product_cart     0.00     A   \n",
       "3  831887FE7F2D6CBA 2020-12-08 10:52:27  product_cart     0.00     A   \n",
       "4  831887FE7F2D6CBA 2020-12-09 02:19:17  product_cart     0.00     A   \n",
       "\n",
       "                   ab_test first_date region   device  \n",
       "0  recommender_system_test 2020-12-07     eu  android  \n",
       "1  recommender_system_test 2020-12-07     eu  android  \n",
       "2  recommender_system_test 2020-12-07     eu  android  \n",
       "3  recommender_system_test 2020-12-07     eu  android  \n",
       "4  recommender_system_test 2020-12-07     eu  android  "
      ]
     },
     "execution_count": 48,
     "metadata": {},
     "output_type": "execute_result"
    }
   ],
   "source": [
    "final_ab_data.head()"
   ]
  },
  {
   "cell_type": "markdown",
   "metadata": {},
   "source": [
    "#### Выделим события, которые могли бы повлиять на проведение теста"
   ]
  },
  {
   "cell_type": "code",
   "execution_count": 49,
   "metadata": {},
   "outputs": [],
   "source": [
    "start_test = dt.datetime(2020, 12, 7, 0, 0, 0)"
   ]
  },
  {
   "cell_type": "code",
   "execution_count": 50,
   "metadata": {},
   "outputs": [],
   "source": [
    "ab_project_marketing_events = ab_project_marketing_events.query('finish_dt > @start_test')"
   ]
  },
  {
   "cell_type": "code",
   "execution_count": 51,
   "metadata": {
    "scrolled": false
   },
   "outputs": [
    {
     "data": {
      "text/html": [
       "<div>\n",
       "<style scoped>\n",
       "    .dataframe tbody tr th:only-of-type {\n",
       "        vertical-align: middle;\n",
       "    }\n",
       "\n",
       "    .dataframe tbody tr th {\n",
       "        vertical-align: top;\n",
       "    }\n",
       "\n",
       "    .dataframe thead th {\n",
       "        text-align: right;\n",
       "    }\n",
       "</style>\n",
       "<table border=\"1\" class=\"dataframe\">\n",
       "  <thead>\n",
       "    <tr style=\"text-align: right;\">\n",
       "      <th></th>\n",
       "      <th>name</th>\n",
       "      <th>regions</th>\n",
       "      <th>start_dt</th>\n",
       "      <th>finish_dt</th>\n",
       "    </tr>\n",
       "  </thead>\n",
       "  <tbody>\n",
       "    <tr>\n",
       "      <td>0</td>\n",
       "      <td>christmas&amp;new year promo</td>\n",
       "      <td>eu, n.america</td>\n",
       "      <td>2020-12-25</td>\n",
       "      <td>2021-01-03</td>\n",
       "    </tr>\n",
       "    <tr>\n",
       "      <td>10</td>\n",
       "      <td>cis new year gift lottery</td>\n",
       "      <td>cis</td>\n",
       "      <td>2020-12-30</td>\n",
       "      <td>2021-01-07</td>\n",
       "    </tr>\n",
       "  </tbody>\n",
       "</table>\n",
       "</div>"
      ],
      "text/plain": [
       "                         name        regions   start_dt  finish_dt\n",
       "0    christmas&new year promo  eu, n.america 2020-12-25 2021-01-03\n",
       "10  cis new year gift lottery            cis 2020-12-30 2021-01-07"
      ]
     },
     "execution_count": 51,
     "metadata": {},
     "output_type": "execute_result"
    }
   ],
   "source": [
    "ab_project_marketing_events"
   ]
  },
  {
   "cell_type": "markdown",
   "metadata": {},
   "source": [
    "Только одно событие могло повлиять на прохождение A/B теста - **\"christmas&new year promo\"**"
   ]
  },
  {
   "cell_type": "markdown",
   "metadata": {},
   "source": [
    "### Проверка временных рамок теста <a id='section_2.4514'></a>"
   ]
  },
  {
   "cell_type": "markdown",
   "metadata": {},
   "source": [
    "Временные параметры теста\n",
    "* старт: 07-12-2020\n",
    "* окончание регистрации новых клиентов: 21-12-2020\n",
    "* окончание теста: 04-01-2021"
   ]
  },
  {
   "cell_type": "code",
   "execution_count": 52,
   "metadata": {},
   "outputs": [],
   "source": [
    "end_set_group = dt.datetime(2020, 12, 21, 0, 0, 0)\n",
    "end_test = dt.datetime(2021, 1, 4, 0, 0, 0)"
   ]
  },
  {
   "cell_type": "code",
   "execution_count": 53,
   "metadata": {},
   "outputs": [],
   "source": [
    "final_ab_data = final_ab_data.query('first_date >= @start_test and first_date <= @end_set_group and event_dt >= @start_test and event_dt <= @end_test')"
   ]
  },
  {
   "cell_type": "markdown",
   "metadata": {},
   "source": [
    "Выделим данные по каждой группе"
   ]
  },
  {
   "cell_type": "code",
   "execution_count": 54,
   "metadata": {},
   "outputs": [],
   "source": [
    "final_ab_data_A = final_ab_data.query('group == \"A\"')\n",
    "final_ab_data_B = final_ab_data.query('group == \"B\"')"
   ]
  },
  {
   "cell_type": "markdown",
   "metadata": {},
   "source": [
    "# Проверка данных теста <a id='section_2.55'></a>"
   ]
  },
  {
   "cell_type": "markdown",
   "metadata": {},
   "source": [
    "### Оценка количества пользователей в каждой группе <a id='section_2.532323251'></a>"
   ]
  },
  {
   "cell_type": "code",
   "execution_count": 55,
   "metadata": {},
   "outputs": [],
   "source": [
    "quantity_user_A = final_ab_data_A['user_id'].nunique()"
   ]
  },
  {
   "cell_type": "code",
   "execution_count": 56,
   "metadata": {},
   "outputs": [],
   "source": [
    "quantity_user_B = final_ab_data_B['user_id'].nunique()"
   ]
  },
  {
   "cell_type": "code",
   "execution_count": 57,
   "metadata": {},
   "outputs": [],
   "source": [
    "pec_b = round((quantity_user_B/(quantity_user_A+quantity_user_B)), 4)"
   ]
  },
  {
   "cell_type": "code",
   "execution_count": 58,
   "metadata": {},
   "outputs": [
    {
     "name": "stdout",
     "output_type": "stream",
     "text": [
      "Количество уникальных пользователей в группе А: 1939, в группе В: 655, \n",
      "доля группы В в выборке: 0.2525\n"
     ]
    }
   ],
   "source": [
    "print(f'Количество уникальных пользователей в группе А: {quantity_user_A}, \\\n",
    "в группе В: {quantity_user_B}, \\nдоля группы В в выборке: {pec_b}') "
   ]
  },
  {
   "cell_type": "markdown",
   "metadata": {},
   "source": [
    "Группа B имеет очень низку представленность в тесте, что может сказываться на результатах, т.к. при проведении тестов необходимо стремится к равным выборкам."
   ]
  },
  {
   "cell_type": "markdown",
   "metadata": {},
   "source": [
    "### Проверим уникальность пользователей в каждой группе <a id='section_2.551'></a>"
   ]
  },
  {
   "cell_type": "code",
   "execution_count": 59,
   "metadata": {},
   "outputs": [],
   "source": [
    "count = 0\n",
    "for i in range(len(final_ab_data_A['user_id'].unique())):\n",
    "    if final_ab_data_A['user_id'].unique()[i] in final_ab_data_B['user_id'].unique():\n",
    "        count += 1\n",
    "        print(final_ab_data_A['user_id'].unique()[i])"
   ]
  },
  {
   "cell_type": "code",
   "execution_count": 60,
   "metadata": {},
   "outputs": [
    {
     "data": {
      "text/plain": [
       "0"
      ]
     },
     "execution_count": 60,
     "metadata": {},
     "output_type": "execute_result"
    }
   ],
   "source": [
    "count"
   ]
  },
  {
   "cell_type": "markdown",
   "metadata": {},
   "source": [
    "Повторяющихся пользователей нет."
   ]
  },
  {
   "cell_type": "markdown",
   "metadata": {},
   "source": [
    "### Распределение событий на пользователя<a id='section_2.552'></a>\n"
   ]
  },
  {
   "cell_type": "markdown",
   "metadata": {},
   "source": [
    "Группа А"
   ]
  },
  {
   "cell_type": "code",
   "execution_count": 61,
   "metadata": {},
   "outputs": [],
   "source": [
    "final_ab_data_A_pivot_table = final_ab_data_A.pivot_table(index='user_id', \n",
    "                            columns = 'event_name', \n",
    "                            aggfunc = 'count').reset_index()"
   ]
  },
  {
   "cell_type": "code",
   "execution_count": 62,
   "metadata": {},
   "outputs": [],
   "source": [
    "final_ab_data_A_pivot_table = final_ab_data_A_pivot_table.iloc[:,0:5]"
   ]
  },
  {
   "cell_type": "code",
   "execution_count": 63,
   "metadata": {},
   "outputs": [],
   "source": [
    "final_ab_data_A_pivot_table.columns = ['user_id', 'login', 'product_cart', 'product_page', 'purchase']"
   ]
  },
  {
   "cell_type": "code",
   "execution_count": 64,
   "metadata": {},
   "outputs": [],
   "source": [
    "final_ab_data_A_pivot_table = final_ab_data_A_pivot_table.fillna(0)"
   ]
  },
  {
   "cell_type": "code",
   "execution_count": 65,
   "metadata": {},
   "outputs": [
    {
     "data": {
      "text/html": [
       "<div>\n",
       "<style scoped>\n",
       "    .dataframe tbody tr th:only-of-type {\n",
       "        vertical-align: middle;\n",
       "    }\n",
       "\n",
       "    .dataframe tbody tr th {\n",
       "        vertical-align: top;\n",
       "    }\n",
       "\n",
       "    .dataframe thead th {\n",
       "        text-align: right;\n",
       "    }\n",
       "</style>\n",
       "<table border=\"1\" class=\"dataframe\">\n",
       "  <thead>\n",
       "    <tr style=\"text-align: right;\">\n",
       "      <th></th>\n",
       "      <th>user_id</th>\n",
       "      <th>login</th>\n",
       "      <th>product_cart</th>\n",
       "      <th>product_page</th>\n",
       "      <th>purchase</th>\n",
       "    </tr>\n",
       "  </thead>\n",
       "  <tbody>\n",
       "    <tr>\n",
       "      <td>0</td>\n",
       "      <td>0010A1C096941592</td>\n",
       "      <td>4.0</td>\n",
       "      <td>0.0</td>\n",
       "      <td>4.0</td>\n",
       "      <td>4.0</td>\n",
       "    </tr>\n",
       "    <tr>\n",
       "      <td>1</td>\n",
       "      <td>003DF44D7589BBD4</td>\n",
       "      <td>5.0</td>\n",
       "      <td>5.0</td>\n",
       "      <td>5.0</td>\n",
       "      <td>0.0</td>\n",
       "    </tr>\n",
       "    <tr>\n",
       "      <td>2</td>\n",
       "      <td>00505E15A9D81546</td>\n",
       "      <td>5.0</td>\n",
       "      <td>0.0</td>\n",
       "      <td>0.0</td>\n",
       "      <td>0.0</td>\n",
       "    </tr>\n",
       "    <tr>\n",
       "      <td>3</td>\n",
       "      <td>006E3E4E232CE760</td>\n",
       "      <td>3.0</td>\n",
       "      <td>0.0</td>\n",
       "      <td>3.0</td>\n",
       "      <td>0.0</td>\n",
       "    </tr>\n",
       "    <tr>\n",
       "      <td>4</td>\n",
       "      <td>00A52DCF85F1BE03</td>\n",
       "      <td>2.0</td>\n",
       "      <td>0.0</td>\n",
       "      <td>0.0</td>\n",
       "      <td>0.0</td>\n",
       "    </tr>\n",
       "  </tbody>\n",
       "</table>\n",
       "</div>"
      ],
      "text/plain": [
       "            user_id  login  product_cart  product_page  purchase\n",
       "0  0010A1C096941592    4.0           0.0           4.0       4.0\n",
       "1  003DF44D7589BBD4    5.0           5.0           5.0       0.0\n",
       "2  00505E15A9D81546    5.0           0.0           0.0       0.0\n",
       "3  006E3E4E232CE760    3.0           0.0           3.0       0.0\n",
       "4  00A52DCF85F1BE03    2.0           0.0           0.0       0.0"
      ]
     },
     "execution_count": 65,
     "metadata": {},
     "output_type": "execute_result"
    }
   ],
   "source": [
    "final_ab_data_A_pivot_table.head()"
   ]
  },
  {
   "cell_type": "markdown",
   "metadata": {},
   "source": [
    "Группа В"
   ]
  },
  {
   "cell_type": "code",
   "execution_count": 66,
   "metadata": {},
   "outputs": [],
   "source": [
    "final_ab_data_B_pivot_table = final_ab_data_B.pivot_table(index='user_id', \n",
    "                            columns = 'event_name', \n",
    "                            aggfunc = 'count').reset_index()"
   ]
  },
  {
   "cell_type": "code",
   "execution_count": 67,
   "metadata": {},
   "outputs": [
    {
     "data": {
      "text/html": [
       "<div>\n",
       "<style scoped>\n",
       "    .dataframe tbody tr th:only-of-type {\n",
       "        vertical-align: middle;\n",
       "    }\n",
       "\n",
       "    .dataframe tbody tr th {\n",
       "        vertical-align: top;\n",
       "    }\n",
       "\n",
       "    .dataframe thead th {\n",
       "        text-align: right;\n",
       "    }\n",
       "</style>\n",
       "<table border=\"1\" class=\"dataframe\">\n",
       "  <thead>\n",
       "    <tr style=\"text-align: right;\">\n",
       "      <th></th>\n",
       "      <th>user_id</th>\n",
       "      <th>login</th>\n",
       "      <th>product_cart</th>\n",
       "      <th>product_page</th>\n",
       "      <th>purchase</th>\n",
       "    </tr>\n",
       "  </thead>\n",
       "  <tbody>\n",
       "    <tr>\n",
       "      <td>0</td>\n",
       "      <td>005E096DBD379BCF</td>\n",
       "      <td>2.0</td>\n",
       "      <td>0.0</td>\n",
       "      <td>0.0</td>\n",
       "      <td>2.0</td>\n",
       "    </tr>\n",
       "    <tr>\n",
       "      <td>1</td>\n",
       "      <td>015D1E3BB893349D</td>\n",
       "      <td>3.0</td>\n",
       "      <td>0.0</td>\n",
       "      <td>3.0</td>\n",
       "      <td>0.0</td>\n",
       "    </tr>\n",
       "    <tr>\n",
       "      <td>2</td>\n",
       "      <td>015FF3EC72C1F4F6</td>\n",
       "      <td>1.0</td>\n",
       "      <td>0.0</td>\n",
       "      <td>1.0</td>\n",
       "      <td>0.0</td>\n",
       "    </tr>\n",
       "    <tr>\n",
       "      <td>3</td>\n",
       "      <td>01B0B891CA513468</td>\n",
       "      <td>4.0</td>\n",
       "      <td>4.0</td>\n",
       "      <td>4.0</td>\n",
       "      <td>0.0</td>\n",
       "    </tr>\n",
       "    <tr>\n",
       "      <td>4</td>\n",
       "      <td>020F8E77125B9F7A</td>\n",
       "      <td>4.0</td>\n",
       "      <td>4.0</td>\n",
       "      <td>0.0</td>\n",
       "      <td>0.0</td>\n",
       "    </tr>\n",
       "  </tbody>\n",
       "</table>\n",
       "</div>"
      ],
      "text/plain": [
       "            user_id  login  product_cart  product_page  purchase\n",
       "0  005E096DBD379BCF    2.0           0.0           0.0       2.0\n",
       "1  015D1E3BB893349D    3.0           0.0           3.0       0.0\n",
       "2  015FF3EC72C1F4F6    1.0           0.0           1.0       0.0\n",
       "3  01B0B891CA513468    4.0           4.0           4.0       0.0\n",
       "4  020F8E77125B9F7A    4.0           4.0           0.0       0.0"
      ]
     },
     "execution_count": 67,
     "metadata": {},
     "output_type": "execute_result"
    }
   ],
   "source": [
    "final_ab_data_B_pivot_table = final_ab_data_B_pivot_table.iloc[:,0:5]\n",
    "final_ab_data_B_pivot_table.columns = ['user_id', 'login', 'product_cart', 'product_page', 'purchase']\n",
    "final_ab_data_B_pivot_table = final_ab_data_B_pivot_table.fillna(0)\n",
    "final_ab_data_B_pivot_table.head()"
   ]
  },
  {
   "cell_type": "code",
   "execution_count": 68,
   "metadata": {},
   "outputs": [],
   "source": [
    "final_ab_data_A_pivot_table_mean = final_ab_data_A_pivot_table.mean()\n",
    "final_ab_data_B_pivot_table_mean = final_ab_data_B_pivot_table.mean()"
   ]
  },
  {
   "cell_type": "code",
   "execution_count": 69,
   "metadata": {},
   "outputs": [
    {
     "data": {
      "image/png": "[encoded data removed]",
      "text/plain": [
       "<Figure size 720x720 with 1 Axes>"
      ]
     },
     "metadata": {
      "needs_background": "light"
     },
     "output_type": "display_data"
    }
   ],
   "source": [
    "plt.figure(figsize=(10, 10))\n",
    "plt.plot(final_ab_data_A_pivot_table_mean, label='A', color= 'b')\n",
    "plt.plot(final_ab_data_B_pivot_table_mean, label='B', color= 'r')\n",
    "plt.legend()\n",
    "plt.title('Распределение событий на пользователя', fontsize=15)\n",
    "plt.ylabel('Среднее количество событий на пользователя')\n",
    "plt.xlabel('События');"
   ]
  },
  {
   "cell_type": "markdown",
   "metadata": {},
   "source": [
    "Резких разлийчий в соотношении событий на каждого пользователя не наблюдает. Группы схожи."
   ]
  },
  {
   "cell_type": "markdown",
   "metadata": {},
   "source": [
    "### Распределение событий по дням<a id='section_2.553'></a>"
   ]
  },
  {
   "cell_type": "markdown",
   "metadata": {},
   "source": [
    "Группа А"
   ]
  },
  {
   "cell_type": "code",
   "execution_count": 70,
   "metadata": {},
   "outputs": [],
   "source": [
    "final_ab_data_A_dop = final_ab_data_A\n",
    "final_ab_data_A_dop['event_dt'] = final_ab_data_A_dop['event_dt'].dt.date"
   ]
  },
  {
   "cell_type": "code",
   "execution_count": 71,
   "metadata": {},
   "outputs": [],
   "source": [
    "final_ab_data_A_date = final_ab_data_A_dop.pivot_table(index='user_id', \n",
    "                            values = 'event_dt', \n",
    "                            aggfunc = 'min').reset_index()"
   ]
  },
  {
   "cell_type": "code",
   "execution_count": 72,
   "metadata": {},
   "outputs": [],
   "source": [
    "final_ab_data_A_days = final_ab_data_A_date.merge(final_ab_data_A_pivot_table, on='user_id')"
   ]
  },
  {
   "cell_type": "code",
   "execution_count": 73,
   "metadata": {},
   "outputs": [],
   "source": [
    "final_ab_data_A_days['sum_event'] = (final_ab_data_A_days['login'] + \n",
    "                                     final_ab_data_A_days['product_cart'] +\n",
    "                                     final_ab_data_A_days['product_page'] + \n",
    "                                     final_ab_data_A_days['purchase'])"
   ]
  },
  {
   "cell_type": "code",
   "execution_count": 74,
   "metadata": {
    "scrolled": true
   },
   "outputs": [],
   "source": [
    "A_days = final_ab_data_A_days.groupby(by='event_dt')['sum_event'].sum()"
   ]
  },
  {
   "cell_type": "markdown",
   "metadata": {},
   "source": [
    "Группа В"
   ]
  },
  {
   "cell_type": "code",
   "execution_count": 75,
   "metadata": {},
   "outputs": [],
   "source": [
    "final_ab_data_B_dop = final_ab_data_B\n",
    "final_ab_data_B_dop['event_dt'] = final_ab_data_B_dop['event_dt'].dt.date"
   ]
  },
  {
   "cell_type": "code",
   "execution_count": 76,
   "metadata": {},
   "outputs": [],
   "source": [
    "final_ab_data_B_date = final_ab_data_B_dop.pivot_table(index='user_id', \n",
    "                            values = 'event_dt', \n",
    "                            aggfunc = 'min').reset_index()\n"
   ]
  },
  {
   "cell_type": "code",
   "execution_count": 77,
   "metadata": {},
   "outputs": [],
   "source": [
    "final_ab_data_B_days = final_ab_data_B_date.merge(final_ab_data_B_pivot_table, on='user_id')"
   ]
  },
  {
   "cell_type": "code",
   "execution_count": 78,
   "metadata": {},
   "outputs": [],
   "source": [
    "final_ab_data_B_days['sum_event'] = (final_ab_data_B_days['login'] + \n",
    "                                     final_ab_data_B_days['product_cart'] +\n",
    "                                     final_ab_data_B_days['product_page'] + \n",
    "                                     final_ab_data_B_days['purchase'])"
   ]
  },
  {
   "cell_type": "code",
   "execution_count": 79,
   "metadata": {
    "scrolled": true
   },
   "outputs": [],
   "source": [
    "B_days = final_ab_data_B_days.groupby(by='event_dt')['sum_event'].sum()"
   ]
  },
  {
   "cell_type": "code",
   "execution_count": 80,
   "metadata": {
    "scrolled": false
   },
   "outputs": [
    {
     "data": {
      "image/png": "[encoded data removed]",
      "text/plain": [
       "<Figure size 720x720 with 1 Axes>"
      ]
     },
     "metadata": {
      "needs_background": "light"
     },
     "output_type": "display_data"
    }
   ],
   "source": [
    "plt.figure(figsize=(10, 10))\n",
    "plt.plot(A_days, label='A', color= 'b')\n",
    "plt.plot(B_days, label='B', color= 'r')\n",
    "plt.legend()\n",
    "plt.title('Распределение событий по дням', fontsize=15)\n",
    "plt.ylabel('Количество событий на день')\n",
    "plt.xlabel('Дата');"
   ]
  },
  {
   "cell_type": "markdown",
   "metadata": {},
   "source": [
    "Распределение событий по группам схоже до 2020-12-13. После наблюдается резкий скачок количества событий в группе А. Возможно, это связано с выбраным периодом для проведеня теста. Подготовка к рождеству могла вызват увеличение пользовательской активности, которая не характерна в остальное время года."
   ]
  },
  {
   "cell_type": "markdown",
   "metadata": {},
   "source": [
    "# Конверсия в воронке на разных этапах <a id='section_2.5'></a>"
   ]
  },
  {
   "cell_type": "markdown",
   "metadata": {},
   "source": [
    "Воронка по группе А"
   ]
  },
  {
   "cell_type": "code",
   "execution_count": 81,
   "metadata": {},
   "outputs": [],
   "source": [
    "users_count_A = final_ab_data_A.groupby('event_name').agg({'user_id': 'nunique'})\n",
    "users_count_A = users_count_A.sort_values(by = 'user_id', ascending=False).reset_index()"
   ]
  },
  {
   "cell_type": "markdown",
   "metadata": {},
   "source": [
    "Посчитаем доли переходов"
   ]
  },
  {
   "cell_type": "code",
   "execution_count": 82,
   "metadata": {
    "scrolled": true
   },
   "outputs": [
    {
     "data": {
      "text/html": [
       "<div>\n",
       "<style scoped>\n",
       "    .dataframe tbody tr th:only-of-type {\n",
       "        vertical-align: middle;\n",
       "    }\n",
       "\n",
       "    .dataframe tbody tr th {\n",
       "        vertical-align: top;\n",
       "    }\n",
       "\n",
       "    .dataframe thead th {\n",
       "        text-align: right;\n",
       "    }\n",
       "</style>\n",
       "<table border=\"1\" class=\"dataframe\">\n",
       "  <thead>\n",
       "    <tr style=\"text-align: right;\">\n",
       "      <th></th>\n",
       "      <th>event_name</th>\n",
       "      <th>user_id</th>\n",
       "    </tr>\n",
       "  </thead>\n",
       "  <tbody>\n",
       "    <tr>\n",
       "      <td>0</td>\n",
       "      <td>login</td>\n",
       "      <td>1939</td>\n",
       "    </tr>\n",
       "    <tr>\n",
       "      <td>1</td>\n",
       "      <td>product_page</td>\n",
       "      <td>1265</td>\n",
       "    </tr>\n",
       "    <tr>\n",
       "      <td>2</td>\n",
       "      <td>purchase</td>\n",
       "      <td>613</td>\n",
       "    </tr>\n",
       "    <tr>\n",
       "      <td>3</td>\n",
       "      <td>product_cart</td>\n",
       "      <td>589</td>\n",
       "    </tr>\n",
       "  </tbody>\n",
       "</table>\n",
       "</div>"
      ],
      "text/plain": [
       "     event_name  user_id\n",
       "0         login     1939\n",
       "1  product_page     1265\n",
       "2      purchase      613\n",
       "3  product_cart      589"
      ]
     },
     "execution_count": 82,
     "metadata": {},
     "output_type": "execute_result"
    }
   ],
   "source": [
    "users_count_A"
   ]
  },
  {
   "cell_type": "code",
   "execution_count": 83,
   "metadata": {},
   "outputs": [
    {
     "data": {
      "text/html": [
       "<div>\n",
       "<style scoped>\n",
       "    .dataframe tbody tr th:only-of-type {\n",
       "        vertical-align: middle;\n",
       "    }\n",
       "\n",
       "    .dataframe tbody tr th {\n",
       "        vertical-align: top;\n",
       "    }\n",
       "\n",
       "    .dataframe thead th {\n",
       "        text-align: right;\n",
       "    }\n",
       "</style>\n",
       "<table border=\"1\" class=\"dataframe\">\n",
       "  <thead>\n",
       "    <tr style=\"text-align: right;\">\n",
       "      <th></th>\n",
       "      <th>user_id</th>\n",
       "      <th>event_dt</th>\n",
       "      <th>event_name</th>\n",
       "      <th>details</th>\n",
       "      <th>group</th>\n",
       "      <th>ab_test</th>\n",
       "      <th>first_date</th>\n",
       "      <th>region</th>\n",
       "      <th>device</th>\n",
       "    </tr>\n",
       "  </thead>\n",
       "  <tbody>\n",
       "    <tr>\n",
       "      <td>0</td>\n",
       "      <td>831887FE7F2D6CBA</td>\n",
       "      <td>2020-12-07</td>\n",
       "      <td>purchase</td>\n",
       "      <td>4.99</td>\n",
       "      <td>A</td>\n",
       "      <td>recommender_system_test</td>\n",
       "      <td>2020-12-07</td>\n",
       "      <td>eu</td>\n",
       "      <td>android</td>\n",
       "    </tr>\n",
       "    <tr>\n",
       "      <td>1</td>\n",
       "      <td>831887FE7F2D6CBA</td>\n",
       "      <td>2020-12-09</td>\n",
       "      <td>purchase</td>\n",
       "      <td>99.99</td>\n",
       "      <td>A</td>\n",
       "      <td>recommender_system_test</td>\n",
       "      <td>2020-12-07</td>\n",
       "      <td>eu</td>\n",
       "      <td>android</td>\n",
       "    </tr>\n",
       "    <tr>\n",
       "      <td>2</td>\n",
       "      <td>831887FE7F2D6CBA</td>\n",
       "      <td>2020-12-07</td>\n",
       "      <td>product_cart</td>\n",
       "      <td>0.00</td>\n",
       "      <td>A</td>\n",
       "      <td>recommender_system_test</td>\n",
       "      <td>2020-12-07</td>\n",
       "      <td>eu</td>\n",
       "      <td>android</td>\n",
       "    </tr>\n",
       "    <tr>\n",
       "      <td>3</td>\n",
       "      <td>831887FE7F2D6CBA</td>\n",
       "      <td>2020-12-08</td>\n",
       "      <td>product_cart</td>\n",
       "      <td>0.00</td>\n",
       "      <td>A</td>\n",
       "      <td>recommender_system_test</td>\n",
       "      <td>2020-12-07</td>\n",
       "      <td>eu</td>\n",
       "      <td>android</td>\n",
       "    </tr>\n",
       "    <tr>\n",
       "      <td>4</td>\n",
       "      <td>831887FE7F2D6CBA</td>\n",
       "      <td>2020-12-09</td>\n",
       "      <td>product_cart</td>\n",
       "      <td>0.00</td>\n",
       "      <td>A</td>\n",
       "      <td>recommender_system_test</td>\n",
       "      <td>2020-12-07</td>\n",
       "      <td>eu</td>\n",
       "      <td>android</td>\n",
       "    </tr>\n",
       "    <tr>\n",
       "      <td>...</td>\n",
       "      <td>...</td>\n",
       "      <td>...</td>\n",
       "      <td>...</td>\n",
       "      <td>...</td>\n",
       "      <td>...</td>\n",
       "      <td>...</td>\n",
       "      <td>...</td>\n",
       "      <td>...</td>\n",
       "      <td>...</td>\n",
       "    </tr>\n",
       "    <tr>\n",
       "      <td>18794</td>\n",
       "      <td>64597B30278462F5</td>\n",
       "      <td>2020-12-23</td>\n",
       "      <td>login</td>\n",
       "      <td>0.00</td>\n",
       "      <td>A</td>\n",
       "      <td>recommender_system_test</td>\n",
       "      <td>2020-12-21</td>\n",
       "      <td>eu</td>\n",
       "      <td>android</td>\n",
       "    </tr>\n",
       "    <tr>\n",
       "      <td>18795</td>\n",
       "      <td>1484BBF124DB1B18</td>\n",
       "      <td>2020-12-21</td>\n",
       "      <td>login</td>\n",
       "      <td>0.00</td>\n",
       "      <td>A</td>\n",
       "      <td>recommender_system_test</td>\n",
       "      <td>2020-12-21</td>\n",
       "      <td>eu</td>\n",
       "      <td>pc</td>\n",
       "    </tr>\n",
       "    <tr>\n",
       "      <td>18796</td>\n",
       "      <td>1484BBF124DB1B18</td>\n",
       "      <td>2020-12-22</td>\n",
       "      <td>login</td>\n",
       "      <td>0.00</td>\n",
       "      <td>A</td>\n",
       "      <td>recommender_system_test</td>\n",
       "      <td>2020-12-21</td>\n",
       "      <td>eu</td>\n",
       "      <td>pc</td>\n",
       "    </tr>\n",
       "    <tr>\n",
       "      <td>18797</td>\n",
       "      <td>1484BBF124DB1B18</td>\n",
       "      <td>2020-12-27</td>\n",
       "      <td>login</td>\n",
       "      <td>0.00</td>\n",
       "      <td>A</td>\n",
       "      <td>recommender_system_test</td>\n",
       "      <td>2020-12-21</td>\n",
       "      <td>eu</td>\n",
       "      <td>pc</td>\n",
       "    </tr>\n",
       "    <tr>\n",
       "      <td>18803</td>\n",
       "      <td>23DDD27AC3FEFA63</td>\n",
       "      <td>2020-12-21</td>\n",
       "      <td>login</td>\n",
       "      <td>0.00</td>\n",
       "      <td>A</td>\n",
       "      <td>recommender_system_test</td>\n",
       "      <td>2020-12-21</td>\n",
       "      <td>eu</td>\n",
       "      <td>pc</td>\n",
       "    </tr>\n",
       "  </tbody>\n",
       "</table>\n",
       "<p>13742 rows × 9 columns</p>\n",
       "</div>"
      ],
      "text/plain": [
       "                user_id    event_dt    event_name  details group  \\\n",
       "0      831887FE7F2D6CBA  2020-12-07      purchase     4.99     A   \n",
       "1      831887FE7F2D6CBA  2020-12-09      purchase    99.99     A   \n",
       "2      831887FE7F2D6CBA  2020-12-07  product_cart     0.00     A   \n",
       "3      831887FE7F2D6CBA  2020-12-08  product_cart     0.00     A   \n",
       "4      831887FE7F2D6CBA  2020-12-09  product_cart     0.00     A   \n",
       "...                 ...         ...           ...      ...   ...   \n",
       "18794  64597B30278462F5  2020-12-23         login     0.00     A   \n",
       "18795  1484BBF124DB1B18  2020-12-21         login     0.00     A   \n",
       "18796  1484BBF124DB1B18  2020-12-22         login     0.00     A   \n",
       "18797  1484BBF124DB1B18  2020-12-27         login     0.00     A   \n",
       "18803  23DDD27AC3FEFA63  2020-12-21         login     0.00     A   \n",
       "\n",
       "                       ab_test first_date region   device  \n",
       "0      recommender_system_test 2020-12-07     eu  android  \n",
       "1      recommender_system_test 2020-12-07     eu  android  \n",
       "2      recommender_system_test 2020-12-07     eu  android  \n",
       "3      recommender_system_test 2020-12-07     eu  android  \n",
       "4      recommender_system_test 2020-12-07     eu  android  \n",
       "...                        ...        ...    ...      ...  \n",
       "18794  recommender_system_test 2020-12-21     eu  android  \n",
       "18795  recommender_system_test 2020-12-21     eu       pc  \n",
       "18796  recommender_system_test 2020-12-21     eu       pc  \n",
       "18797  recommender_system_test 2020-12-21     eu       pc  \n",
       "18803  recommender_system_test 2020-12-21     eu       pc  \n",
       "\n",
       "[13742 rows x 9 columns]"
      ]
     },
     "execution_count": 83,
     "metadata": {},
     "output_type": "execute_result"
    }
   ],
   "source": [
    "final_ab_data_A"
   ]
  },
  {
   "cell_type": "code",
   "execution_count": 84,
   "metadata": {},
   "outputs": [],
   "source": [
    "users_A = final_ab_data_A.pivot_table(\n",
    "    index='user_id', \n",
    "    columns='event_name', \n",
    "    values='event_dt',\n",
    "    aggfunc='min')"
   ]
  },
  {
   "cell_type": "code",
   "execution_count": 85,
   "metadata": {},
   "outputs": [
    {
     "name": "stdout",
     "output_type": "stream",
     "text": [
      "Авторизовались: 1939\n",
      "Зашли на страницу товара: 1265\n",
      "Оплатили: 421\n",
      "Просмотрели корзину: 133\n"
     ]
    }
   ],
   "source": [
    "step_1 = ~users_A['login'].isna()\n",
    "step_2 = step_1 & (users_A['login'] <= users_A['product_page'])\n",
    "step_3 =  step_2 & (users_A['product_page'] <= users_A['purchase'])\n",
    "step_4 = step_3 & (users_A['purchase'] <= users_A['product_cart'])\n",
    "\n",
    "login_A = step_1.sum()\n",
    "product_page_A = step_2.sum()\n",
    "product_cart_A = step_3.sum()\n",
    "purchase_A = step_4.sum()\n",
    "\n",
    "print('Авторизовались:', login_A)\n",
    "print('Зашли на страницу товара:', product_page_A)\n",
    "print('Оплатили:', product_cart_A)\n",
    "print('Просмотрели корзину:', purchase_A)"
   ]
  },
  {
   "cell_type": "markdown",
   "metadata": {},
   "source": [
    "Воронка по группе В"
   ]
  },
  {
   "cell_type": "code",
   "execution_count": 86,
   "metadata": {},
   "outputs": [],
   "source": [
    "users_count_B = final_ab_data_B.groupby('event_name').agg({'user_id': 'nunique'})\n",
    "users_count_B = users_count_B.sort_values(by = 'user_id', ascending=False).reset_index()"
   ]
  },
  {
   "cell_type": "code",
   "execution_count": 87,
   "metadata": {},
   "outputs": [
    {
     "data": {
      "text/html": [
       "<div>\n",
       "<style scoped>\n",
       "    .dataframe tbody tr th:only-of-type {\n",
       "        vertical-align: middle;\n",
       "    }\n",
       "\n",
       "    .dataframe tbody tr th {\n",
       "        vertical-align: top;\n",
       "    }\n",
       "\n",
       "    .dataframe thead th {\n",
       "        text-align: right;\n",
       "    }\n",
       "</style>\n",
       "<table border=\"1\" class=\"dataframe\">\n",
       "  <thead>\n",
       "    <tr style=\"text-align: right;\">\n",
       "      <th></th>\n",
       "      <th>event_name</th>\n",
       "      <th>user_id</th>\n",
       "    </tr>\n",
       "  </thead>\n",
       "  <tbody>\n",
       "    <tr>\n",
       "      <td>0</td>\n",
       "      <td>login</td>\n",
       "      <td>655</td>\n",
       "    </tr>\n",
       "    <tr>\n",
       "      <td>1</td>\n",
       "      <td>product_page</td>\n",
       "      <td>367</td>\n",
       "    </tr>\n",
       "    <tr>\n",
       "      <td>2</td>\n",
       "      <td>purchase</td>\n",
       "      <td>191</td>\n",
       "    </tr>\n",
       "    <tr>\n",
       "      <td>3</td>\n",
       "      <td>product_cart</td>\n",
       "      <td>184</td>\n",
       "    </tr>\n",
       "  </tbody>\n",
       "</table>\n",
       "</div>"
      ],
      "text/plain": [
       "     event_name  user_id\n",
       "0         login      655\n",
       "1  product_page      367\n",
       "2      purchase      191\n",
       "3  product_cart      184"
      ]
     },
     "execution_count": 87,
     "metadata": {},
     "output_type": "execute_result"
    }
   ],
   "source": [
    "users_count_B"
   ]
  },
  {
   "cell_type": "code",
   "execution_count": 88,
   "metadata": {},
   "outputs": [],
   "source": [
    "users_B = final_ab_data_B.pivot_table(\n",
    "    index='user_id', \n",
    "    columns='event_name', \n",
    "    values='event_dt',\n",
    "    aggfunc='min')"
   ]
  },
  {
   "cell_type": "code",
   "execution_count": 89,
   "metadata": {},
   "outputs": [
    {
     "name": "stdout",
     "output_type": "stream",
     "text": [
      "Авторизовались: 655\n",
      "Зашли на страницу товара: 367\n",
      "Оплатили: 118\n",
      "Просмотрели корзину: 33\n"
     ]
    }
   ],
   "source": [
    "step_1 = ~users_B['login'].isna()\n",
    "step_2 = step_1 & (users_B['login'] <= users_B['product_page'])\n",
    "step_3 =  step_2 & (users_B['product_page'] <= users_B['purchase'])\n",
    "step_4 = step_3 & (users_B['purchase'] <= users_B['product_cart'])\n",
    "\n",
    "login_B = step_1.sum()\n",
    "product_page_B = step_2.sum()\n",
    "product_cart_B = step_3.sum()\n",
    "purchase_B = step_4.sum()\n",
    "\n",
    "print('Авторизовались:', login_B)\n",
    "\n",
    "print('Зашли на страницу товара:', product_page_B)\n",
    "\n",
    "print('Оплатили:', product_cart_B)\n",
    "\n",
    "print('Просмотрели корзину:', purchase_B)\n"
   ]
  },
  {
   "cell_type": "code",
   "execution_count": 90,
   "metadata": {},
   "outputs": [],
   "source": [
    "users_count = users_count_A.merge(users_count_B, on='event_name', suffixes=('_A', '_B'))"
   ]
  },
  {
   "cell_type": "markdown",
   "metadata": {},
   "source": [
    "Простая воронка. Конверсия купивших к авторизовавшимся "
   ]
  },
  {
   "cell_type": "code",
   "execution_count": 91,
   "metadata": {
    "scrolled": true
   },
   "outputs": [],
   "source": [
    "login_count_A = users_count.loc[0,'user_id_A'] \n",
    "login_count_B = users_count.loc[0,'user_id_B'] \n",
    "purchase_count_A = users_count.loc[2,'user_id_A'] \n",
    "purchase_count_B = users_count.loc[2,'user_id_B'] "
   ]
  },
  {
   "cell_type": "code",
   "execution_count": 92,
   "metadata": {},
   "outputs": [
    {
     "name": "stdout",
     "output_type": "stream",
     "text": [
      "0.31614234141309955 0.2916030534351145\n"
     ]
    }
   ],
   "source": [
    "conversion_A = purchase_count_A / login_count_A\n",
    "conversion_B = purchase_count_B / login_count_B\n",
    "print(conversion_A, conversion_B)"
   ]
  },
  {
   "cell_type": "code",
   "execution_count": 93,
   "metadata": {},
   "outputs": [
    {
     "name": "stdout",
     "output_type": "stream",
     "text": [
      "p-значение:  0.24035836270660704\n",
      "Не получилось отвергнуть нулевую гипотезу, нет оснований считать доли разными\n"
     ]
    }
   ],
   "source": [
    "p_combined = (purchase_count_A + purchase_count_B) / (login_count_A + login_count_B)\n",
    "difference = conversion_A - conversion_B\n",
    "\n",
    "z_value = difference / np.sqrt(p_combined * (1 - p_combined) * (1/login_count_A  + 1/login_count_B))\n",
    "\n",
    "distr = st.norm(0,1)\n",
    "p_value = (1 - distr.cdf(abs(z_value))) * 2\n",
    "\n",
    "print('p-значение: ', p_value)\n",
    "\n",
    "if p_value < ALPHA:\n",
    "    print(\"Отвергаем нулевую гипотезу: между долями есть значимая разница\")\n",
    "else:\n",
    "    print(\"Не получилось отвергнуть нулевую гипотезу, нет оснований считать доли разными\")"
   ]
  },
  {
   "cell_type": "code",
   "execution_count": 94,
   "metadata": {},
   "outputs": [
    {
     "name": "stdout",
     "output_type": "stream",
     "text": [
      "Относительное изменение конверсии группы В к А: -7.8%\n"
     ]
    }
   ],
   "source": [
    "conversion_dev = (conversion_B / conversion_A - 1).round(3) * 100\n",
    "print(f\"Относительное изменение конверсии группы В к А: {conversion_dev}%\")"
   ]
  },
  {
   "cell_type": "markdown",
   "metadata": {},
   "source": [
    "Воронка с учётом последовательности "
   ]
  },
  {
   "cell_type": "code",
   "execution_count": 95,
   "metadata": {},
   "outputs": [
    {
     "name": "stdout",
     "output_type": "stream",
     "text": [
      "0.06859205776173286 0.050381679389312976\n"
     ]
    }
   ],
   "source": [
    "conversion_A = purchase_A / login_A\n",
    "conversion_B = purchase_B / login_B\n",
    "print(conversion_A, conversion_B)"
   ]
  },
  {
   "cell_type": "code",
   "execution_count": 96,
   "metadata": {},
   "outputs": [
    {
     "name": "stdout",
     "output_type": "stream",
     "text": [
      "p-значение:  0.18409413859086343\n",
      "Не получилось отвергнуть нулевую гипотезу, нет оснований считать доли разными\n"
     ]
    }
   ],
   "source": [
    "p_combined = (purchase_A + purchase_A) / (login_A + login_B)\n",
    "difference = conversion_A - conversion_B\n",
    "\n",
    "z_value = difference / np.sqrt(p_combined * (1 - p_combined) * (1/login_A  + 1/login_B))\n",
    "\n",
    "distr = st.norm(0,1)\n",
    "p_value = (1 - distr.cdf(abs(z_value))) * 2\n",
    "\n",
    "print('p-значение: ', p_value)\n",
    "\n",
    "if p_value < ALPHA:\n",
    "    print(\"Отвергаем нулевую гипотезу: между долями есть значимая разница\")\n",
    "else:\n",
    "    print(\"Не получилось отвергнуть нулевую гипотезу, нет оснований считать доли разными\")"
   ]
  },
  {
   "cell_type": "code",
   "execution_count": 97,
   "metadata": {},
   "outputs": [
    {
     "name": "stdout",
     "output_type": "stream",
     "text": [
      "Относительное изменение конверсии  группы В к А: -26.5%\n"
     ]
    }
   ],
   "source": [
    "conversion_dev = (conversion_B / conversion_A - 1).round(3) * 100\n",
    "print(f\"Относительное изменение конверсии  группы В к А: {conversion_dev}%\")"
   ]
  },
  {
   "cell_type": "markdown",
   "metadata": {},
   "source": [
    "В обоих случаях происходит снижение конверсии к покупкам на 8-26,5%. Что говорит, о понижении количества клиентов проходящих путь продуктовой воронки"
   ]
  },
  {
   "cell_type": "markdown",
   "metadata": {},
   "source": [
    "### Визуализация воронки <a id='section_33333'></a>"
   ]
  },
  {
   "cell_type": "code",
   "execution_count": 98,
   "metadata": {},
   "outputs": [
    {
     "data": {
      "image/png": "[encoded data removed]",
      "text/plain": [
       "<Figure size 720x720 with 1 Axes>"
      ]
     },
     "metadata": {
      "needs_background": "light"
     },
     "output_type": "display_data"
    }
   ],
   "source": [
    "fig, ax = plt.subplots(figsize=(10, 10))\n",
    "rects1 = ax.bar(users_count['event_name'], \n",
    "                users_count['user_id_A'], \n",
    "                color='b', \n",
    "                label='Группа А',width=0.4)\n",
    "rects2 = ax.bar(users_count['event_name'], \n",
    "                users_count['user_id_B'], \n",
    "                color='r', \n",
    "                label='Группа В',width=0.4)\n",
    "ax.set_title('Воронка продаж для групп теста А и В')\n",
    "ax.set_xlabel('Этапы')\n",
    "ax.set_ylabel('Количество пользователей')\n",
    "ax.legend();"
   ]
  },
  {
   "cell_type": "markdown",
   "metadata": {},
   "source": [
    "# Анализ A/B-теста <a id='section_3'></a>"
   ]
  },
  {
   "cell_type": "markdown",
   "metadata": {},
   "source": [
    "## Выделение данных для метрик <a id='section_3.1'></a>"
   ]
  },
  {
   "cell_type": "markdown",
   "metadata": {},
   "source": [
    "Покупки"
   ]
  },
  {
   "cell_type": "code",
   "execution_count": 99,
   "metadata": {},
   "outputs": [],
   "source": [
    "final_ab_data_purchase =final_ab_data.query('event_name == \"purchase\"') "
   ]
  },
  {
   "cell_type": "code",
   "execution_count": 100,
   "metadata": {},
   "outputs": [
    {
     "data": {
      "text/html": [
       "<div>\n",
       "<style scoped>\n",
       "    .dataframe tbody tr th:only-of-type {\n",
       "        vertical-align: middle;\n",
       "    }\n",
       "\n",
       "    .dataframe tbody tr th {\n",
       "        vertical-align: top;\n",
       "    }\n",
       "\n",
       "    .dataframe thead th {\n",
       "        text-align: right;\n",
       "    }\n",
       "</style>\n",
       "<table border=\"1\" class=\"dataframe\">\n",
       "  <thead>\n",
       "    <tr style=\"text-align: right;\">\n",
       "      <th></th>\n",
       "      <th>user_id</th>\n",
       "      <th>event_dt</th>\n",
       "      <th>event_name</th>\n",
       "      <th>details</th>\n",
       "      <th>group</th>\n",
       "      <th>ab_test</th>\n",
       "      <th>first_date</th>\n",
       "      <th>region</th>\n",
       "      <th>device</th>\n",
       "    </tr>\n",
       "  </thead>\n",
       "  <tbody>\n",
       "    <tr>\n",
       "      <td>0</td>\n",
       "      <td>831887FE7F2D6CBA</td>\n",
       "      <td>2020-12-07 06:50:29</td>\n",
       "      <td>purchase</td>\n",
       "      <td>4.99</td>\n",
       "      <td>A</td>\n",
       "      <td>recommender_system_test</td>\n",
       "      <td>2020-12-07</td>\n",
       "      <td>eu</td>\n",
       "      <td>android</td>\n",
       "    </tr>\n",
       "    <tr>\n",
       "      <td>1</td>\n",
       "      <td>831887FE7F2D6CBA</td>\n",
       "      <td>2020-12-09 02:19:17</td>\n",
       "      <td>purchase</td>\n",
       "      <td>99.99</td>\n",
       "      <td>A</td>\n",
       "      <td>recommender_system_test</td>\n",
       "      <td>2020-12-07</td>\n",
       "      <td>eu</td>\n",
       "      <td>android</td>\n",
       "    </tr>\n",
       "    <tr>\n",
       "      <td>8</td>\n",
       "      <td>3C5DD0288AC4FE23</td>\n",
       "      <td>2020-12-07 19:42:40</td>\n",
       "      <td>purchase</td>\n",
       "      <td>4.99</td>\n",
       "      <td>A</td>\n",
       "      <td>recommender_system_test</td>\n",
       "      <td>2020-12-07</td>\n",
       "      <td>eu</td>\n",
       "      <td>pc</td>\n",
       "    </tr>\n",
       "    <tr>\n",
       "      <td>11</td>\n",
       "      <td>49EA242586C87836</td>\n",
       "      <td>2020-12-07 06:31:24</td>\n",
       "      <td>purchase</td>\n",
       "      <td>99.99</td>\n",
       "      <td>B</td>\n",
       "      <td>recommender_system_test</td>\n",
       "      <td>2020-12-07</td>\n",
       "      <td>eu</td>\n",
       "      <td>iphone</td>\n",
       "    </tr>\n",
       "    <tr>\n",
       "      <td>12</td>\n",
       "      <td>49EA242586C87836</td>\n",
       "      <td>2020-12-09 15:39:47</td>\n",
       "      <td>purchase</td>\n",
       "      <td>9.99</td>\n",
       "      <td>B</td>\n",
       "      <td>recommender_system_test</td>\n",
       "      <td>2020-12-07</td>\n",
       "      <td>eu</td>\n",
       "      <td>iphone</td>\n",
       "    </tr>\n",
       "  </tbody>\n",
       "</table>\n",
       "</div>"
      ],
      "text/plain": [
       "             user_id            event_dt event_name  details group  \\\n",
       "0   831887FE7F2D6CBA 2020-12-07 06:50:29   purchase     4.99     A   \n",
       "1   831887FE7F2D6CBA 2020-12-09 02:19:17   purchase    99.99     A   \n",
       "8   3C5DD0288AC4FE23 2020-12-07 19:42:40   purchase     4.99     A   \n",
       "11  49EA242586C87836 2020-12-07 06:31:24   purchase    99.99     B   \n",
       "12  49EA242586C87836 2020-12-09 15:39:47   purchase     9.99     B   \n",
       "\n",
       "                    ab_test first_date region   device  \n",
       "0   recommender_system_test 2020-12-07     eu  android  \n",
       "1   recommender_system_test 2020-12-07     eu  android  \n",
       "8   recommender_system_test 2020-12-07     eu       pc  \n",
       "11  recommender_system_test 2020-12-07     eu   iphone  \n",
       "12  recommender_system_test 2020-12-07     eu   iphone  "
      ]
     },
     "execution_count": 100,
     "metadata": {},
     "output_type": "execute_result"
    }
   ],
   "source": [
    "final_ab_data_purchase.head()"
   ]
  },
  {
   "cell_type": "code",
   "execution_count": 101,
   "metadata": {},
   "outputs": [],
   "source": [
    "final_ab_data_purchase['event_dt'] = final_ab_data_purchase['event_dt'].dt.date"
   ]
  },
  {
   "cell_type": "code",
   "execution_count": 102,
   "metadata": {},
   "outputs": [],
   "source": [
    "datagroup_purchase = final_ab_data_purchase[['event_dt','group']].drop_duplicates()"
   ]
  },
  {
   "cell_type": "code",
   "execution_count": 103,
   "metadata": {},
   "outputs": [],
   "source": [
    "select_final_ab_data_purchase = (datagroup_purchase\n",
    "                                 .apply(lambda x: final_ab_data_purchase\n",
    "                                        [np.logical_and(final_ab_data_purchase['event_dt'] <= x['event_dt'], \n",
    "                                                        final_ab_data_purchase['group'] == x['group'])]\n",
    "                                        .agg({'event_dt':'max', \n",
    "                                              'group':'max',\n",
    "                                              'user_id':pd.Series.nunique,\n",
    "                                              'details':'sum'}), axis=1)\n",
    "                                 .sort_values(by=['event_dt','group']))"
   ]
  },
  {
   "cell_type": "code",
   "execution_count": 104,
   "metadata": {},
   "outputs": [],
   "source": [
    "select_final_ab_data_purchase = (select_final_ab_data_purchase\n",
    "                                 .reset_index()\n",
    "                                 .drop('index', axis=1))"
   ]
  },
  {
   "cell_type": "code",
   "execution_count": 105,
   "metadata": {},
   "outputs": [],
   "source": [
    "select_final_ab_data_purchase = (select_final_ab_data_purchase\n",
    "                                 .rename(columns={'event_dt' : 'date', \n",
    "                                                  'user_id':'user_count_purchase', \n",
    "                                                  'details':'revenue'}))"
   ]
  },
  {
   "cell_type": "code",
   "execution_count": 106,
   "metadata": {},
   "outputs": [
    {
     "name": "stdout",
     "output_type": "stream",
     "text": [
      "<class 'pandas.core.frame.DataFrame'>\n",
      "RangeIndex: 46 entries, 0 to 45\n",
      "Data columns (total 4 columns):\n",
      "date                   46 non-null object\n",
      "group                  46 non-null object\n",
      "user_count_purchase    46 non-null int64\n",
      "revenue                46 non-null float64\n",
      "dtypes: float64(1), int64(1), object(2)\n",
      "memory usage: 1.6+ KB\n"
     ]
    }
   ],
   "source": [
    "select_final_ab_data_purchase.info()"
   ]
  },
  {
   "cell_type": "markdown",
   "metadata": {},
   "source": [
    "Просмотры корзины"
   ]
  },
  {
   "cell_type": "code",
   "execution_count": 107,
   "metadata": {},
   "outputs": [],
   "source": [
    "final_ab_data_product_cart =final_ab_data.query('event_name == \"product_cart\"') "
   ]
  },
  {
   "cell_type": "code",
   "execution_count": 108,
   "metadata": {
    "scrolled": true
   },
   "outputs": [
    {
     "data": {
      "text/html": [
       "<div>\n",
       "<style scoped>\n",
       "    .dataframe tbody tr th:only-of-type {\n",
       "        vertical-align: middle;\n",
       "    }\n",
       "\n",
       "    .dataframe tbody tr th {\n",
       "        vertical-align: top;\n",
       "    }\n",
       "\n",
       "    .dataframe thead th {\n",
       "        text-align: right;\n",
       "    }\n",
       "</style>\n",
       "<table border=\"1\" class=\"dataframe\">\n",
       "  <thead>\n",
       "    <tr style=\"text-align: right;\">\n",
       "      <th></th>\n",
       "      <th>user_id</th>\n",
       "      <th>event_dt</th>\n",
       "      <th>event_name</th>\n",
       "      <th>details</th>\n",
       "      <th>group</th>\n",
       "      <th>ab_test</th>\n",
       "      <th>first_date</th>\n",
       "      <th>region</th>\n",
       "      <th>device</th>\n",
       "    </tr>\n",
       "  </thead>\n",
       "  <tbody>\n",
       "    <tr>\n",
       "      <td>2</td>\n",
       "      <td>831887FE7F2D6CBA</td>\n",
       "      <td>2020-12-07 06:50:30</td>\n",
       "      <td>product_cart</td>\n",
       "      <td>0.0</td>\n",
       "      <td>A</td>\n",
       "      <td>recommender_system_test</td>\n",
       "      <td>2020-12-07</td>\n",
       "      <td>eu</td>\n",
       "      <td>android</td>\n",
       "    </tr>\n",
       "    <tr>\n",
       "      <td>3</td>\n",
       "      <td>831887FE7F2D6CBA</td>\n",
       "      <td>2020-12-08 10:52:27</td>\n",
       "      <td>product_cart</td>\n",
       "      <td>0.0</td>\n",
       "      <td>A</td>\n",
       "      <td>recommender_system_test</td>\n",
       "      <td>2020-12-07</td>\n",
       "      <td>eu</td>\n",
       "      <td>android</td>\n",
       "    </tr>\n",
       "    <tr>\n",
       "      <td>4</td>\n",
       "      <td>831887FE7F2D6CBA</td>\n",
       "      <td>2020-12-09 02:19:17</td>\n",
       "      <td>product_cart</td>\n",
       "      <td>0.0</td>\n",
       "      <td>A</td>\n",
       "      <td>recommender_system_test</td>\n",
       "      <td>2020-12-07</td>\n",
       "      <td>eu</td>\n",
       "      <td>android</td>\n",
       "    </tr>\n",
       "    <tr>\n",
       "      <td>28</td>\n",
       "      <td>A640F31CAC7823A6</td>\n",
       "      <td>2020-12-07 18:48:27</td>\n",
       "      <td>product_cart</td>\n",
       "      <td>0.0</td>\n",
       "      <td>B</td>\n",
       "      <td>recommender_system_test</td>\n",
       "      <td>2020-12-07</td>\n",
       "      <td>eu</td>\n",
       "      <td>pc</td>\n",
       "    </tr>\n",
       "    <tr>\n",
       "      <td>29</td>\n",
       "      <td>A640F31CAC7823A6</td>\n",
       "      <td>2020-12-15 10:22:28</td>\n",
       "      <td>product_cart</td>\n",
       "      <td>0.0</td>\n",
       "      <td>B</td>\n",
       "      <td>recommender_system_test</td>\n",
       "      <td>2020-12-07</td>\n",
       "      <td>eu</td>\n",
       "      <td>pc</td>\n",
       "    </tr>\n",
       "  </tbody>\n",
       "</table>\n",
       "</div>"
      ],
      "text/plain": [
       "             user_id            event_dt    event_name  details group  \\\n",
       "2   831887FE7F2D6CBA 2020-12-07 06:50:30  product_cart      0.0     A   \n",
       "3   831887FE7F2D6CBA 2020-12-08 10:52:27  product_cart      0.0     A   \n",
       "4   831887FE7F2D6CBA 2020-12-09 02:19:17  product_cart      0.0     A   \n",
       "28  A640F31CAC7823A6 2020-12-07 18:48:27  product_cart      0.0     B   \n",
       "29  A640F31CAC7823A6 2020-12-15 10:22:28  product_cart      0.0     B   \n",
       "\n",
       "                    ab_test first_date region   device  \n",
       "2   recommender_system_test 2020-12-07     eu  android  \n",
       "3   recommender_system_test 2020-12-07     eu  android  \n",
       "4   recommender_system_test 2020-12-07     eu  android  \n",
       "28  recommender_system_test 2020-12-07     eu       pc  \n",
       "29  recommender_system_test 2020-12-07     eu       pc  "
      ]
     },
     "execution_count": 108,
     "metadata": {},
     "output_type": "execute_result"
    }
   ],
   "source": [
    "final_ab_data_product_cart.head()"
   ]
  },
  {
   "cell_type": "code",
   "execution_count": 109,
   "metadata": {},
   "outputs": [],
   "source": [
    "final_ab_data_product_cart['event_dt'] = final_ab_data_product_cart['event_dt'].dt.date"
   ]
  },
  {
   "cell_type": "code",
   "execution_count": 110,
   "metadata": {},
   "outputs": [],
   "source": [
    "datagroup_product_cart = final_ab_data_product_cart[['event_dt','group']].drop_duplicates()"
   ]
  },
  {
   "cell_type": "code",
   "execution_count": 111,
   "metadata": {},
   "outputs": [],
   "source": [
    "select_final_ab_data_product_cart = (datagroup_product_cart\n",
    "                                 .apply(lambda x: final_ab_data_product_cart\n",
    "                                        [np.logical_and(final_ab_data_product_cart['event_dt'] <= x['event_dt'], \n",
    "                                                        final_ab_data_product_cart['group'] == x['group'])]\n",
    "                                        .agg({'event_dt':'max', \n",
    "                                              'group':'max',\n",
    "                                              'user_id':pd.Series.nunique}), axis=1)\n",
    "                                 .sort_values(by=['event_dt','group']))"
   ]
  },
  {
   "cell_type": "code",
   "execution_count": 112,
   "metadata": {},
   "outputs": [],
   "source": [
    "select_final_ab_data_product_cart = (select_final_ab_data_product_cart\n",
    "                                 .reset_index()\n",
    "                                 .drop('index', axis=1))"
   ]
  },
  {
   "cell_type": "code",
   "execution_count": 113,
   "metadata": {},
   "outputs": [],
   "source": [
    "select_final_ab_data_product_cart = (select_final_ab_data_product_cart\n",
    "                                 .rename(columns={'event_dt' : 'date', \n",
    "                                                  'user_id':'user_count_product_cart'}))"
   ]
  },
  {
   "cell_type": "code",
   "execution_count": 114,
   "metadata": {},
   "outputs": [
    {
     "name": "stdout",
     "output_type": "stream",
     "text": [
      "<class 'pandas.core.frame.DataFrame'>\n",
      "RangeIndex: 47 entries, 0 to 46\n",
      "Data columns (total 3 columns):\n",
      "date                       47 non-null object\n",
      "group                      47 non-null object\n",
      "user_count_product_cart    47 non-null int64\n",
      "dtypes: int64(1), object(2)\n",
      "memory usage: 1.2+ KB\n"
     ]
    }
   ],
   "source": [
    "select_final_ab_data_product_cart.info()"
   ]
  },
  {
   "cell_type": "markdown",
   "metadata": {},
   "source": [
    "Просмотр карточек товаров"
   ]
  },
  {
   "cell_type": "code",
   "execution_count": 115,
   "metadata": {},
   "outputs": [],
   "source": [
    "final_ab_data_product_page =final_ab_data.query('event_name == \"product_page\"') "
   ]
  },
  {
   "cell_type": "code",
   "execution_count": 116,
   "metadata": {},
   "outputs": [],
   "source": [
    "final_ab_data_product_page['event_dt'] = final_ab_data_product_page['event_dt'].dt.date"
   ]
  },
  {
   "cell_type": "code",
   "execution_count": 117,
   "metadata": {},
   "outputs": [],
   "source": [
    "datagroup_product_page = final_ab_data_product_page[['event_dt','group']].drop_duplicates()"
   ]
  },
  {
   "cell_type": "code",
   "execution_count": 118,
   "metadata": {},
   "outputs": [],
   "source": [
    "select_final_ab_data_product_page = (datagroup_product_page\n",
    "                                 .apply(lambda x: final_ab_data_product_page\n",
    "                                        [np.logical_and(final_ab_data_product_page['event_dt'] <= x['event_dt'], \n",
    "                                                        final_ab_data_product_page['group'] == x['group'])]\n",
    "                                        .agg({'event_dt':'max', \n",
    "                                              'group':'max',\n",
    "                                              'user_id':pd.Series.nunique}), axis=1)\n",
    "                                 .sort_values(by=['event_dt','group']))"
   ]
  },
  {
   "cell_type": "code",
   "execution_count": 119,
   "metadata": {},
   "outputs": [],
   "source": [
    "select_final_ab_data_product_page = (select_final_ab_data_product_page\n",
    "                                 .reset_index()\n",
    "                                 .drop('index', axis=1))"
   ]
  },
  {
   "cell_type": "code",
   "execution_count": 120,
   "metadata": {},
   "outputs": [],
   "source": [
    "select_final_ab_data_product_page = (select_final_ab_data_product_page\n",
    "                                 .rename(columns={'event_dt' : 'date', \n",
    "                                                  'user_id':'user_count_product_page'}))"
   ]
  },
  {
   "cell_type": "code",
   "execution_count": 121,
   "metadata": {
    "scrolled": true
   },
   "outputs": [
    {
     "name": "stdout",
     "output_type": "stream",
     "text": [
      "<class 'pandas.core.frame.DataFrame'>\n",
      "RangeIndex: 46 entries, 0 to 45\n",
      "Data columns (total 3 columns):\n",
      "date                       46 non-null object\n",
      "group                      46 non-null object\n",
      "user_count_product_page    46 non-null int64\n",
      "dtypes: int64(1), object(2)\n",
      "memory usage: 1.2+ KB\n"
     ]
    }
   ],
   "source": [
    "select_final_ab_data_product_page.info()"
   ]
  },
  {
   "cell_type": "markdown",
   "metadata": {},
   "source": [
    "Авторизация"
   ]
  },
  {
   "cell_type": "code",
   "execution_count": 122,
   "metadata": {},
   "outputs": [],
   "source": [
    "final_ab_data_login =final_ab_data.query('event_name == \"login\"') "
   ]
  },
  {
   "cell_type": "code",
   "execution_count": 123,
   "metadata": {},
   "outputs": [],
   "source": [
    "final_ab_data_login['event_dt'] = final_ab_data_login['event_dt'].dt.date"
   ]
  },
  {
   "cell_type": "code",
   "execution_count": 124,
   "metadata": {},
   "outputs": [],
   "source": [
    "datagroup_login = final_ab_data_login[['event_dt','group']].drop_duplicates()"
   ]
  },
  {
   "cell_type": "code",
   "execution_count": 125,
   "metadata": {},
   "outputs": [],
   "source": [
    "select_final_ab_data_login= (datagroup_login\n",
    "                                 .apply(lambda x: final_ab_data_login\n",
    "                                        [np.logical_and(final_ab_data_login['event_dt'] <= x['event_dt'], \n",
    "                                                        final_ab_data_login['group'] == x['group'])]\n",
    "                                        .agg({'event_dt':'max', \n",
    "                                              'group':'max',\n",
    "                                              'user_id':pd.Series.nunique}), axis=1)\n",
    "                                 .sort_values(by=['event_dt','group']))"
   ]
  },
  {
   "cell_type": "code",
   "execution_count": 126,
   "metadata": {},
   "outputs": [],
   "source": [
    "select_final_ab_data_login = (select_final_ab_data_login\n",
    "                                 .reset_index()\n",
    "                                 .drop('index', axis=1))"
   ]
  },
  {
   "cell_type": "code",
   "execution_count": 127,
   "metadata": {},
   "outputs": [],
   "source": [
    "select_final_ab_data_login = (select_final_ab_data_login\n",
    "                                 .rename(columns={'event_dt' : 'date', \n",
    "                                                  'user_id':'user_count_login'}))"
   ]
  },
  {
   "cell_type": "code",
   "execution_count": 128,
   "metadata": {
    "scrolled": false
   },
   "outputs": [
    {
     "name": "stdout",
     "output_type": "stream",
     "text": [
      "<class 'pandas.core.frame.DataFrame'>\n",
      "RangeIndex: 47 entries, 0 to 46\n",
      "Data columns (total 3 columns):\n",
      "date                47 non-null object\n",
      "group               47 non-null object\n",
      "user_count_login    47 non-null int64\n",
      "dtypes: int64(1), object(2)\n",
      "memory usage: 1.2+ KB\n"
     ]
    }
   ],
   "source": [
    "select_final_ab_data_login.info()"
   ]
  },
  {
   "cell_type": "markdown",
   "metadata": {},
   "source": [
    "Объединим таблицы для получения сводной таблицы по кумулятивным данным"
   ]
  },
  {
   "cell_type": "code",
   "execution_count": 129,
   "metadata": {},
   "outputs": [],
   "source": [
    "cumulativedata = pd.merge(select_final_ab_data_purchase, select_final_ab_data_product_page,on=['date','group'])"
   ]
  },
  {
   "cell_type": "code",
   "execution_count": 130,
   "metadata": {},
   "outputs": [],
   "source": [
    "cumulativedata = pd.merge(cumulativedata, select_final_ab_data_product_cart,on=['date','group'])"
   ]
  },
  {
   "cell_type": "code",
   "execution_count": 131,
   "metadata": {},
   "outputs": [],
   "source": [
    "cumulativedata = pd.merge(cumulativedata, select_final_ab_data_login,on=['date','group'])"
   ]
  },
  {
   "cell_type": "code",
   "execution_count": 132,
   "metadata": {},
   "outputs": [
    {
     "data": {
      "text/html": [
       "<div>\n",
       "<style scoped>\n",
       "    .dataframe tbody tr th:only-of-type {\n",
       "        vertical-align: middle;\n",
       "    }\n",
       "\n",
       "    .dataframe tbody tr th {\n",
       "        vertical-align: top;\n",
       "    }\n",
       "\n",
       "    .dataframe thead th {\n",
       "        text-align: right;\n",
       "    }\n",
       "</style>\n",
       "<table border=\"1\" class=\"dataframe\">\n",
       "  <thead>\n",
       "    <tr style=\"text-align: right;\">\n",
       "      <th></th>\n",
       "      <th>date</th>\n",
       "      <th>group</th>\n",
       "      <th>user_count_purchase</th>\n",
       "      <th>revenue</th>\n",
       "      <th>user_count_product_page</th>\n",
       "      <th>user_count_product_cart</th>\n",
       "      <th>user_count_login</th>\n",
       "    </tr>\n",
       "  </thead>\n",
       "  <tbody>\n",
       "    <tr>\n",
       "      <td>0</td>\n",
       "      <td>2020-12-07</td>\n",
       "      <td>A</td>\n",
       "      <td>27</td>\n",
       "      <td>634.73</td>\n",
       "      <td>66</td>\n",
       "      <td>25</td>\n",
       "      <td>103</td>\n",
       "    </tr>\n",
       "    <tr>\n",
       "      <td>1</td>\n",
       "      <td>2020-12-07</td>\n",
       "      <td>B</td>\n",
       "      <td>47</td>\n",
       "      <td>639.53</td>\n",
       "      <td>76</td>\n",
       "      <td>31</td>\n",
       "      <td>114</td>\n",
       "    </tr>\n",
       "    <tr>\n",
       "      <td>2</td>\n",
       "      <td>2020-12-08</td>\n",
       "      <td>A</td>\n",
       "      <td>45</td>\n",
       "      <td>1344.47</td>\n",
       "      <td>113</td>\n",
       "      <td>45</td>\n",
       "      <td>170</td>\n",
       "    </tr>\n",
       "    <tr>\n",
       "      <td>3</td>\n",
       "      <td>2020-12-08</td>\n",
       "      <td>B</td>\n",
       "      <td>52</td>\n",
       "      <td>974.29</td>\n",
       "      <td>89</td>\n",
       "      <td>41</td>\n",
       "      <td>149</td>\n",
       "    </tr>\n",
       "    <tr>\n",
       "      <td>4</td>\n",
       "      <td>2020-12-09</td>\n",
       "      <td>A</td>\n",
       "      <td>64</td>\n",
       "      <td>2059.08</td>\n",
       "      <td>147</td>\n",
       "      <td>60</td>\n",
       "      <td>227</td>\n",
       "    </tr>\n",
       "  </tbody>\n",
       "</table>\n",
       "</div>"
      ],
      "text/plain": [
       "         date group  user_count_purchase  revenue  user_count_product_page  \\\n",
       "0  2020-12-07     A                   27   634.73                       66   \n",
       "1  2020-12-07     B                   47   639.53                       76   \n",
       "2  2020-12-08     A                   45  1344.47                      113   \n",
       "3  2020-12-08     B                   52   974.29                       89   \n",
       "4  2020-12-09     A                   64  2059.08                      147   \n",
       "\n",
       "   user_count_product_cart  user_count_login  \n",
       "0                       25               103  \n",
       "1                       31               114  \n",
       "2                       45               170  \n",
       "3                       41               149  \n",
       "4                       60               227  "
      ]
     },
     "execution_count": 132,
     "metadata": {},
     "output_type": "execute_result"
    }
   ],
   "source": [
    "cumulativedata.head()"
   ]
  },
  {
   "cell_type": "markdown",
   "metadata": {},
   "source": [
    "### Выделим кумулятивные данные по каждой группе  <a id='section_3.2'></a>"
   ]
  },
  {
   "cell_type": "code",
   "execution_count": 133,
   "metadata": {},
   "outputs": [],
   "source": [
    "cumul_A = (cumulativedata[cumulativedata['group'] == 'A']\n",
    "           [['date',\n",
    "             'user_count_purchase', \n",
    "             'user_count_product_page', \n",
    "             'user_count_product_cart',\n",
    "             'user_count_login',\n",
    "             'revenue']])\n",
    "cumul_B = (cumulativedata[cumulativedata['group'] == 'B']\n",
    "           [['date','user_count_purchase', \n",
    "             'user_count_product_page', \n",
    "             'user_count_product_cart',\n",
    "             'user_count_login', \n",
    "             'revenue']])\n"
   ]
  },
  {
   "cell_type": "markdown",
   "metadata": {},
   "source": [
    "### Построение графика по выручке <a id='section_3.3'></a>"
   ]
  },
  {
   "cell_type": "code",
   "execution_count": 134,
   "metadata": {},
   "outputs": [
    {
     "data": {
      "image/png": "[encoded data removed]",
      "text/plain": [
       "<Figure size 720x720 with 1 Axes>"
      ]
     },
     "metadata": {
      "needs_background": "light"
     },
     "output_type": "display_data"
    }
   ],
   "source": [
    "plt.figure(figsize=(10, 10))\n",
    "plt.plot(cumul_A['date'],cumul_A['revenue'], label='A', color= 'b')\n",
    "plt.plot(cumul_B['date'],cumul_B['revenue'], label='B', color= 'r')\n",
    "plt.legend()\n",
    "plt.title('Изменение комулятивной выручки во времени', fontsize=15)\n",
    "plt.ylabel('Объем выручки')\n",
    "plt.xlabel('Дата')\n",
    "plt.xticks(rotation=-5);"
   ]
  },
  {
   "cell_type": "markdown",
   "metadata": {},
   "source": [
    "Выручка группы A увеличивается равномерно до 13.12.2020, после происходит резкий рост выручуки. Выручка группы B увеличивается равномерно втечении всего теста. Возможно, это связано, приготвлениями к праздникам, но вызывает вопрос такое различие в данныхю."
   ]
  },
  {
   "cell_type": "markdown",
   "metadata": {},
   "source": [
    "### Построение графика по среднему чеку <a id='section_3.5'></a>"
   ]
  },
  {
   "cell_type": "code",
   "execution_count": 135,
   "metadata": {},
   "outputs": [
    {
     "data": {
      "image/png": "[encoded data removed]",
      "text/plain": [
       "<Figure size 1440x720 with 2 Axes>"
      ]
     },
     "metadata": {
      "needs_background": "light"
     },
     "output_type": "display_data"
    }
   ],
   "source": [
    "plt.figure(figsize=(20, 10))\n",
    "plt.subplot(1, 2, 1)\n",
    "plt.plot(cumul_A['date'], \n",
    "         cumul_A['revenue']/cumul_A['user_count_purchase'],\n",
    "         label='A', color='b')\n",
    "plt.plot(cumul_B['date'], \n",
    "         cumul_B['revenue']/cumul_B['user_count_purchase'],\n",
    "         label='B', \n",
    "         color='r')\n",
    "plt.legend()\n",
    "plt.title('Изменение комулятивного среднего чека во времени',\\\n",
    "          fontsize=15)\n",
    "plt.grid()\n",
    "plt.ylabel('Размер среднего чека, $')\n",
    "plt.xlabel('Дата')\n",
    "\n",
    "plt.subplot(1, 2, 2)\n",
    "plt.plot(cumul_A['date'], \n",
    "         cumul_A['user_count_purchase'],\n",
    "         label='A', color='b')\n",
    "plt.plot(cumul_B['date'], \n",
    "         cumul_B['user_count_purchase'],\n",
    "         label='B', \n",
    "         color='r')\n",
    "plt.legend()\n",
    "plt.title('Изменение количества покупателей во времени',\\\n",
    "          fontsize=15)\n",
    "plt.ylabel('Количество покупателей')\n",
    "plt.xlabel('Дата')\n",
    "\n",
    "plt.grid();"
   ]
  },
  {
   "cell_type": "markdown",
   "metadata": {},
   "source": [
    "Изменения среднего чека имеют сходную тенденцию в группах теста - происходит увеличение размера среднего чека. Но при этом руппа В на протяжении опыта имеет более низкие показатели. С 2020-12-13 до 2020-12-21 происходит аномально быстрый рост количества клиентов в группе А, что могло вызвать изменение среднего чека."
   ]
  },
  {
   "cell_type": "markdown",
   "metadata": {},
   "source": [
    "### Построение графика относительного изменения кумулятивного среднего чека группы B к группе A <a id='section_3.6'></a>"
   ]
  },
  {
   "cell_type": "code",
   "execution_count": 136,
   "metadata": {},
   "outputs": [
    {
     "data": {
      "text/html": [
       "<div>\n",
       "<style scoped>\n",
       "    .dataframe tbody tr th:only-of-type {\n",
       "        vertical-align: middle;\n",
       "    }\n",
       "\n",
       "    .dataframe tbody tr th {\n",
       "        vertical-align: top;\n",
       "    }\n",
       "\n",
       "    .dataframe thead th {\n",
       "        text-align: right;\n",
       "    }\n",
       "</style>\n",
       "<table border=\"1\" class=\"dataframe\">\n",
       "  <thead>\n",
       "    <tr style=\"text-align: right;\">\n",
       "      <th></th>\n",
       "      <th>date</th>\n",
       "      <th>user_count_purchaseA</th>\n",
       "      <th>user_count_product_pageA</th>\n",
       "      <th>user_count_product_cartA</th>\n",
       "      <th>user_count_loginA</th>\n",
       "      <th>revenueA</th>\n",
       "      <th>user_count_purchaseB</th>\n",
       "      <th>user_count_product_pageB</th>\n",
       "      <th>user_count_product_cartB</th>\n",
       "      <th>user_count_loginB</th>\n",
       "      <th>revenueB</th>\n",
       "    </tr>\n",
       "  </thead>\n",
       "  <tbody>\n",
       "    <tr>\n",
       "      <td>0</td>\n",
       "      <td>2020-12-07</td>\n",
       "      <td>27</td>\n",
       "      <td>66</td>\n",
       "      <td>25</td>\n",
       "      <td>103</td>\n",
       "      <td>634.73</td>\n",
       "      <td>47</td>\n",
       "      <td>76</td>\n",
       "      <td>31</td>\n",
       "      <td>114</td>\n",
       "      <td>639.53</td>\n",
       "    </tr>\n",
       "    <tr>\n",
       "      <td>1</td>\n",
       "      <td>2020-12-08</td>\n",
       "      <td>45</td>\n",
       "      <td>113</td>\n",
       "      <td>45</td>\n",
       "      <td>170</td>\n",
       "      <td>1344.47</td>\n",
       "      <td>52</td>\n",
       "      <td>89</td>\n",
       "      <td>41</td>\n",
       "      <td>149</td>\n",
       "      <td>974.29</td>\n",
       "    </tr>\n",
       "    <tr>\n",
       "      <td>2</td>\n",
       "      <td>2020-12-09</td>\n",
       "      <td>64</td>\n",
       "      <td>147</td>\n",
       "      <td>60</td>\n",
       "      <td>227</td>\n",
       "      <td>2059.08</td>\n",
       "      <td>63</td>\n",
       "      <td>123</td>\n",
       "      <td>58</td>\n",
       "      <td>205</td>\n",
       "      <td>1324.02</td>\n",
       "    </tr>\n",
       "    <tr>\n",
       "      <td>3</td>\n",
       "      <td>2020-12-10</td>\n",
       "      <td>79</td>\n",
       "      <td>171</td>\n",
       "      <td>73</td>\n",
       "      <td>273</td>\n",
       "      <td>2728.74</td>\n",
       "      <td>70</td>\n",
       "      <td>134</td>\n",
       "      <td>63</td>\n",
       "      <td>234</td>\n",
       "      <td>1933.82</td>\n",
       "    </tr>\n",
       "    <tr>\n",
       "      <td>4</td>\n",
       "      <td>2020-12-11</td>\n",
       "      <td>90</td>\n",
       "      <td>208</td>\n",
       "      <td>95</td>\n",
       "      <td>343</td>\n",
       "      <td>3678.43</td>\n",
       "      <td>72</td>\n",
       "      <td>140</td>\n",
       "      <td>66</td>\n",
       "      <td>247</td>\n",
       "      <td>2003.71</td>\n",
       "    </tr>\n",
       "  </tbody>\n",
       "</table>\n",
       "</div>"
      ],
      "text/plain": [
       "         date  user_count_purchaseA  user_count_product_pageA  \\\n",
       "0  2020-12-07                    27                        66   \n",
       "1  2020-12-08                    45                       113   \n",
       "2  2020-12-09                    64                       147   \n",
       "3  2020-12-10                    79                       171   \n",
       "4  2020-12-11                    90                       208   \n",
       "\n",
       "   user_count_product_cartA  user_count_loginA  revenueA  \\\n",
       "0                        25                103    634.73   \n",
       "1                        45                170   1344.47   \n",
       "2                        60                227   2059.08   \n",
       "3                        73                273   2728.74   \n",
       "4                        95                343   3678.43   \n",
       "\n",
       "   user_count_purchaseB  user_count_product_pageB  user_count_product_cartB  \\\n",
       "0                    47                        76                        31   \n",
       "1                    52                        89                        41   \n",
       "2                    63                       123                        58   \n",
       "3                    70                       134                        63   \n",
       "4                    72                       140                        66   \n",
       "\n",
       "   user_count_loginB  revenueB  \n",
       "0                114    639.53  \n",
       "1                149    974.29  \n",
       "2                205   1324.02  \n",
       "3                234   1933.82  \n",
       "4                247   2003.71  "
      ]
     },
     "execution_count": 136,
     "metadata": {},
     "output_type": "execute_result"
    }
   ],
   "source": [
    "cumul_merge = cumul_A.merge(cumul_B, \n",
    "                            on=['date'], \n",
    "                            how='left', \n",
    "                            suffixes=['A', 'B'])\n",
    "cumul_merge.head()"
   ]
  },
  {
   "cell_type": "code",
   "execution_count": 137,
   "metadata": {},
   "outputs": [
    {
     "data": {
      "image/png": "[encoded data removed]",
      "text/plain": [
       "<Figure size 720x720 with 1 Axes>"
      ]
     },
     "metadata": {
      "needs_background": "light"
     },
     "output_type": "display_data"
    }
   ],
   "source": [
    "plt.figure(figsize=(10, 10))\n",
    "plt.plot(cumul_merge['date'],\n",
    "         (((cumul_merge['revenueB']/cumul_merge['user_count_purchaseB'])/\n",
    "           (cumul_merge['revenueA']/cumul_merge['user_count_purchaseA']))-1), color='g')\n",
    "plt.axhline(y=0, color='red', linestyle='-')\n",
    "plt.title('Изменение соотношения комулятивного среднего чека во времени',\\\n",
    "          fontsize=15)\n",
    "plt.ylabel('Отношение среднего чека группы В к группе А')\n",
    "plt.xlabel('Дата');"
   ]
  },
  {
   "cell_type": "markdown",
   "metadata": {},
   "source": [
    "Здесь также можно увидеть значительно увеличение среднего чека группы А над средним чеком группы В, кроме периода резкого роста количества клиентов в группе А (с 2020-12-13 до 2020-12-21), происходит понижение соотношения среднего чека, и становит близким у обеих групп."
   ]
  },
  {
   "cell_type": "markdown",
   "metadata": {},
   "source": [
    "### Расчёт и график кумулятивной конверсии по группам <a id='section_3.7'></a>"
   ]
  },
  {
   "cell_type": "code",
   "execution_count": 138,
   "metadata": {},
   "outputs": [],
   "source": [
    "cumul_A['conversion'] = cumul_A['user_count_purchase']/cumul_A['user_count_login']\n",
    "cumul_B['conversion'] = cumul_B['user_count_purchase']/cumul_B['user_count_login']"
   ]
  },
  {
   "cell_type": "code",
   "execution_count": 139,
   "metadata": {},
   "outputs": [
    {
     "data": {
      "image/png": "[encoded data removed]",
      "text/plain": [
       "<Figure size 720x720 with 1 Axes>"
      ]
     },
     "metadata": {
      "needs_background": "light"
     },
     "output_type": "display_data"
    }
   ],
   "source": [
    "plt.figure(figsize=(10, 10))\n",
    "plt.plot(cumul_A['date'], \n",
    "         cumul_A['conversion'],\n",
    "         label='A', \n",
    "         color='b')\n",
    "plt.plot(cumul_B['date'], \n",
    "         cumul_B['conversion'],\n",
    "         label='B', \n",
    "         color='r')\n",
    "plt.legend()\n",
    "plt.title('Изменение конверсии во времени',\n",
    "          fontsize=15)\n",
    "plt.ylabel('Конверсия в группах исследования')\n",
    "plt.grid()\n",
    "plt.xlabel('Дата');"
   ]
  },
  {
   "cell_type": "markdown",
   "metadata": {},
   "source": [
    "По графику видно, что обе группы вначале теряют в конвверсии к покупкам. Группа В с 2020-12-21 выходит на плато и имеет конверсию на уровне 0.29, в тоже время в группе А, в результате притока большого количества клиентов, происходит увеличение конверсии на уровне 0.32."
   ]
  },
  {
   "cell_type": "markdown",
   "metadata": {},
   "source": [
    "### График относительного изменения кумулятивной конверсии группы B к группе A  <a id='section_3.8'></a>"
   ]
  },
  {
   "cell_type": "markdown",
   "metadata": {},
   "source": [
    "Объединим данные по конверсии в группе\n"
   ]
  },
  {
   "cell_type": "code",
   "execution_count": 140,
   "metadata": {},
   "outputs": [
    {
     "data": {
      "text/html": [
       "<div>\n",
       "<style scoped>\n",
       "    .dataframe tbody tr th:only-of-type {\n",
       "        vertical-align: middle;\n",
       "    }\n",
       "\n",
       "    .dataframe tbody tr th {\n",
       "        vertical-align: top;\n",
       "    }\n",
       "\n",
       "    .dataframe thead th {\n",
       "        text-align: right;\n",
       "    }\n",
       "</style>\n",
       "<table border=\"1\" class=\"dataframe\">\n",
       "  <thead>\n",
       "    <tr style=\"text-align: right;\">\n",
       "      <th></th>\n",
       "      <th>date</th>\n",
       "      <th>conversionA</th>\n",
       "      <th>conversionB</th>\n",
       "    </tr>\n",
       "  </thead>\n",
       "  <tbody>\n",
       "    <tr>\n",
       "      <td>0</td>\n",
       "      <td>2020-12-07</td>\n",
       "      <td>0.262136</td>\n",
       "      <td>0.412281</td>\n",
       "    </tr>\n",
       "    <tr>\n",
       "      <td>1</td>\n",
       "      <td>2020-12-08</td>\n",
       "      <td>0.264706</td>\n",
       "      <td>0.348993</td>\n",
       "    </tr>\n",
       "    <tr>\n",
       "      <td>2</td>\n",
       "      <td>2020-12-09</td>\n",
       "      <td>0.281938</td>\n",
       "      <td>0.307317</td>\n",
       "    </tr>\n",
       "    <tr>\n",
       "      <td>3</td>\n",
       "      <td>2020-12-10</td>\n",
       "      <td>0.289377</td>\n",
       "      <td>0.299145</td>\n",
       "    </tr>\n",
       "    <tr>\n",
       "      <td>4</td>\n",
       "      <td>2020-12-11</td>\n",
       "      <td>0.262391</td>\n",
       "      <td>0.291498</td>\n",
       "    </tr>\n",
       "  </tbody>\n",
       "</table>\n",
       "</div>"
      ],
      "text/plain": [
       "         date  conversionA  conversionB\n",
       "0  2020-12-07     0.262136     0.412281\n",
       "1  2020-12-08     0.264706     0.348993\n",
       "2  2020-12-09     0.281938     0.307317\n",
       "3  2020-12-10     0.289377     0.299145\n",
       "4  2020-12-11     0.262391     0.291498"
      ]
     },
     "execution_count": 140,
     "metadata": {},
     "output_type": "execute_result"
    }
   ],
   "source": [
    "cumul_merge_conversion = (cumul_A[['date','conversion']]\n",
    "                        .merge(cumul_B[['date','conversion']],\\\n",
    "                               on='date', suffixes=['A','B']))\n",
    "cumul_merge_conversion.head()"
   ]
  },
  {
   "cell_type": "code",
   "execution_count": 141,
   "metadata": {
    "scrolled": false
   },
   "outputs": [
    {
     "data": {
      "image/png": "[encoded data removed]",
      "text/plain": [
       "<Figure size 720x720 with 1 Axes>"
      ]
     },
     "metadata": {
      "needs_background": "light"
     },
     "output_type": "display_data"
    }
   ],
   "source": [
    "plt.figure(figsize=(10, 10))\n",
    "plt.plot(cumul_merge_conversion['date'],\n",
    "         (cumul_merge_conversion['conversionB']/cumul_merge_conversion['conversionA'])-1, \n",
    "         color='g')\n",
    "plt.title('Изменение соотношения кумятивной конверсии во времени', fontsize=15)\n",
    "plt.ylabel('Отношение конверссии  B/A')\n",
    "plt.xlabel('Дата')\n",
    "plt.axhline(y=0, color='red', linestyle='--');"
   ]
  },
  {
   "cell_type": "markdown",
   "metadata": {},
   "source": [
    "Сходная динамика наблюдается прри построении графика соотношения кумулятивной конверсии, перелом в ситуации наблюдается в период резкого повышения количества клиентов в группе А."
   ]
  },
  {
   "cell_type": "markdown",
   "metadata": {},
   "source": [
    "### Статистическая значимость различий в среднем чеке между группами <a id='section_3.9'></a>"
   ]
  },
  {
   "cell_type": "code",
   "execution_count": 142,
   "metadata": {},
   "outputs": [],
   "source": [
    "cumul_merge_mean_chek_B = cumul_merge['revenueB']\n",
    "cumul_merge_mean_chek_A = cumul_merge['revenueA']\n"
   ]
  },
  {
   "cell_type": "markdown",
   "metadata": {},
   "source": [
    "Расчитаем значение критерия Шапиро-Уилка и определим принадлежность распределения к нормальному.\n"
   ]
  },
  {
   "cell_type": "code",
   "execution_count": 143,
   "metadata": {},
   "outputs": [
    {
     "name": "stdout",
     "output_type": "stream",
     "text": [
      "Отвергаем нулевую гипотезу: распределение не нормально. p=0.027357393875718117\n"
     ]
    }
   ],
   "source": [
    "resultA = st.shapiro(cumul_merge_mean_chek_B)\n",
    "p_valueA = resultA[1]\n",
    "if p_valueA < ALPHA:\n",
    "    print(f\"Отвергаем нулевую гипотезу: распределение не нормально. p={p_valueA}\")\n",
    "else:\n",
    "    print(f\"Не получилось отвергнуть нулевую гипотезу, всё нормально. p={p_valueA}\")"
   ]
  },
  {
   "cell_type": "code",
   "execution_count": 144,
   "metadata": {},
   "outputs": [
    {
     "name": "stdout",
     "output_type": "stream",
     "text": [
      "Отвергаем нулевую гипотезу: распределение не нормально. p=0.007296720519661903\n"
     ]
    }
   ],
   "source": [
    "resultB = st.shapiro(cumul_merge_mean_chek_A)\n",
    "p_valueB = resultB[1]\n",
    "if p_valueB < ALPHA:\n",
    "    print(f\"Отвергаем нулевую гипотезу: распределение не нормально. p={p_valueB}\")\n",
    "else:\n",
    "    print(f\"Не получилось отвергнуть нулевую гипотезу, всё нормально. p={p_valueB}\")"
   ]
  },
  {
   "cell_type": "markdown",
   "metadata": {},
   "source": [
    "Т.к. выборки распределены не нормально, используем для сравнения критерий Манна-Уитни"
   ]
  },
  {
   "cell_type": "code",
   "execution_count": 145,
   "metadata": {},
   "outputs": [
    {
     "name": "stdout",
     "output_type": "stream",
     "text": [
      "Отвергаем нулевую гипотезу: разница статистически значима. p=0.0018662191\n"
     ]
    }
   ],
   "source": [
    "resultsAB = st.mannwhitneyu(cumul_merge_mean_chek_B,\n",
    "                            cumul_merge_mean_chek_A)\n",
    "p_valueAB = resultsAB[1]\n",
    "if p_valueAB < ALPHA:\n",
    "    print(f\"Отвергаем нулевую гипотезу: разница статистически значима. p={(p_valueAB).round(10)}\")\n",
    "else:\n",
    "    print(f\"Не получилось отвергнуть нулевую гипотезу, вывод о различии сделать нельзя. p={(p_valueAB).round(10)}\")"
   ]
  },
  {
   "cell_type": "code",
   "execution_count": 146,
   "metadata": {},
   "outputs": [
    {
     "name": "stdout",
     "output_type": "stream",
     "text": [
      "Относительное изменение среднего чека группы В к А: -71.0%\n"
     ]
    }
   ],
   "source": [
    "revenue_rev = (cumul_merge_mean_chek_B.mean() / cumul_merge_mean_chek_A.mean() - 1).round(3) * 100\n",
    "print(f\"Относительное изменение среднего чека группы В к А: {revenue_rev}%\")"
   ]
  },
  {
   "cell_type": "markdown",
   "metadata": {},
   "source": [
    "Средний чек в группах значительно различается и в группе В он ниже на 71% по отношению к группе А."
   ]
  },
  {
   "cell_type": "markdown",
   "metadata": {},
   "source": [
    "### Статистическая значимость различий в конверсии между группами <a id='section_3.10'></a>"
   ]
  },
  {
   "cell_type": "markdown",
   "metadata": {},
   "source": [
    "Расчитаем значение критерия Шапиро-Уилка и определим принадлежность распределения к нормальному.\n"
   ]
  },
  {
   "cell_type": "code",
   "execution_count": 147,
   "metadata": {},
   "outputs": [
    {
     "name": "stdout",
     "output_type": "stream",
     "text": [
      "Отвергаем нулевую гипотезу: распределение не нормально. p=0.0010169149609282613\n"
     ]
    }
   ],
   "source": [
    "resultA = st.shapiro(cumul_merge_conversion['conversionA'])\n",
    "p_valueA = resultA[1]\n",
    "if p_valueA < ALPHA:\n",
    "    print(f\"Отвергаем нулевую гипотезу: распределение не нормально. p={p_valueA}\")\n",
    "else:\n",
    "    print(f\"Не получилось отвергнуть нулевую гипотезу, всё нормально. p={p_valueA}\")"
   ]
  },
  {
   "cell_type": "code",
   "execution_count": 148,
   "metadata": {},
   "outputs": [
    {
     "name": "stdout",
     "output_type": "stream",
     "text": [
      "Отвергаем нулевую гипотезу: распределение не нормально. p=4.2522543708400917e-07\n"
     ]
    }
   ],
   "source": [
    "resultB = st.shapiro(cumul_merge_conversion['conversionB'])\n",
    "p_valueB = resultB[1]\n",
    "if p_valueB < ALPHA:\n",
    "    print(f\"Отвергаем нулевую гипотезу: распределение не нормально. p={p_valueB}\")\n",
    "else:\n",
    "    print(f\"Не получилось отвергнуть нулевую гипотезу, всё нормально. p={p_valueB}\")"
   ]
  },
  {
   "cell_type": "markdown",
   "metadata": {},
   "source": [
    "Т.к. выборки распределены не нормально, используем для сравнения критерий Манна-Уитни"
   ]
  },
  {
   "cell_type": "code",
   "execution_count": 149,
   "metadata": {},
   "outputs": [
    {
     "name": "stdout",
     "output_type": "stream",
     "text": [
      "Не получилось отвергнуть нулевую гипотезу, вывод о различии сделать нельзя. p=0.1603019189\n"
     ]
    }
   ],
   "source": [
    "resultsAB = st.mannwhitneyu(cumul_merge_conversion['conversionA'],\n",
    "                            cumul_merge_conversion['conversionB'])\n",
    "p_valueAB = resultsAB[1]\n",
    "if p_valueAB < ALPHA:\n",
    "    print(f\"Отвергаем нулевую гипотезу: разница статистически значима. p={(p_valueAB).round(10)}\")\n",
    "else:\n",
    "    print(f\"Не получилось отвергнуть нулевую гипотезу, вывод о различии сделать нельзя. p={(p_valueAB).round(10)}\")"
   ]
  },
  {
   "cell_type": "code",
   "execution_count": 150,
   "metadata": {},
   "outputs": [
    {
     "name": "stdout",
     "output_type": "stream",
     "text": [
      "Относительное изменение конверсии группы В к А: 0.5%\n"
     ]
    }
   ],
   "source": [
    "revenue_rev = (cumul_merge_conversion['conversionB'].mean() / cumul_merge_conversion['conversionA'].mean() - 1).round(3) * 100\n",
    "print(f\"Относительное изменение конверсии группы В к А: {revenue_rev}%\")"
   ]
  },
  {
   "cell_type": "markdown",
   "metadata": {},
   "source": [
    "Среднее соотношений конверсий в группах В к А составляет всего -0,5%, и не является достоверным изменением."
   ]
  },
  {
   "cell_type": "markdown",
   "metadata": {},
   "source": [
    "# Заключение <a id='section_4'></a>"
   ]
  },
  {
   "cell_type": "markdown",
   "metadata": {},
   "source": [
    "###### Анализ результатов\n",
    "\n",
    "* В целом, изменения применяемые в группе В приводят к снижению конверсии клиентов к покупкам. Т.о. снижается количество людей дошедших до этапа покупки товаров.\n",
    "* Изменения среднего чека иемют сходную тенденцию в группах теста - происходит увеличение размера среднего чека. При этом группа А значительно опережает группу В (в среднем на 70%)\n",
    "\n",
    "Результаты указывают на то, что **тест нельзя считать успешным**, т.к. недостигнуты ключевые ожидаемые эффекты.\n",
    "\n",
    "###### Основными проблемами проведенного теста являются выбранное времяб нарушение отбора пользователей, и количество пользователей в группах\n",
    "\n",
    "* В датасете было представлено значительно количество данных не относящихся или некорректных по отношению к тесту. Так были представлены данные из другого теста и данные из других регионов. Они были удалены из датасета и не использовались при оценке А/Б теста. \n",
    "\n",
    "* В период с 7.12 по 4.01 пользовательская активность может меняться. Такой тест имел бы место, если бы иследовалось поведение конкретно в этот, период, но об этом нет явного указания в ТЗ. \n",
    "\n",
    "* Группы представлены не равномерно, группа В занимает только 25% от всей выборки теста. Такое распределение может сильно сказываться на результатах теста, приводя к неверным выводам.\n",
    "\n",
    "* Вызывает вопрос резкий рост количества клиентов в период с 2020-12-13 до 2020-12-21 в группе А. \n",
    "\n",
    "На данный момент, **тест нельзя считать корректным**. Большое количество нарушений не пзволяет считать выводы достоверными."
   ]
  },
  {
   "cell_type": "markdown",
   "metadata": {},
   "source": [
    "[К оглавлению](#section_0)"
   ]
  }
 ],
 "metadata": {
  "kernelspec": {
   "display_name": "Python 3 (ipykernel)",
   "language": "python",
   "name": "python3"
  },
  "language_info": {
   "codemirror_mode": {
    "name": "ipython",
    "version": 3
   },
   "file_extension": ".py",
   "mimetype": "text/x-python",
   "name": "python",
   "nbconvert_exporter": "python",
   "pygments_lexer": "ipython3",
   "version": "3.9.7"
  },
  "toc": {
   "base_numbering": 1,
   "nav_menu": {},
   "number_sections": true,
   "sideBar": true,
   "skip_h1_title": true,
   "title_cell": "Table of Contents",
   "title_sidebar": "Contents",
   "toc_cell": false,
   "toc_position": {},
   "toc_section_display": true,
   "toc_window_display": false
  }
 },
 "nbformat": 4,
 "nbformat_minor": 2
}

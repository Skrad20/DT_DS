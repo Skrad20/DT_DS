{
 "cells": [
  {
   "cell_type": "markdown",
   "metadata": {
    "id": "E0vqbgi9ay0H"
   },
   "source": [
    "# Яндекс.Музыка"
   ]
  },
  {
   "cell_type": "markdown",
   "metadata": {
    "id": "VUC88oWjTJw2"
   },
   "source": [
    "Сравнение Москвы и Петербурга окружено мифами. Например:\n",
    " * Москва — мегаполис, подчинённый жёсткому ритму рабочей недели;\n",
    " * Петербург — культурная столица, со своими вкусами.\n",
    "\n",
    "На данных Яндекс.Музыки вы сравните поведение пользователей двух столиц.\n",
    "\n",
    "**Цель исследования** — проверьте три гипотезы:\n",
    "1. Активность пользователей зависит от дня недели. Причём в Москве и Петербурге это проявляется по-разному.\n",
    "2. В понедельник утром в Москве преобладают одни жанры, а в Петербурге — другие. Так же и вечером пятницы преобладают разные жанры — в зависимости от города. \n",
    "3. Москва и Петербург предпочитают разные жанры музыки. В Москве чаще слушают поп-музыку, в Петербурге — русский рэп.\n",
    "\n",
    "**Ход исследования**\n",
    "\n",
    "Данные о поведении пользователей вы получите из файла `yandex_music_project.csv`. О качестве данных ничего не известно. Поэтому перед проверкой гипотез понадобится обзор данных. \n",
    "\n",
    "Вы проверите данные на ошибки и оцените их влияние на исследование. Затем, на этапе предобработки вы поищете возможность исправить самые критичные ошибки данных.\n",
    " \n",
    "Таким образом, исследование пройдёт в три этапа:\n",
    " 1. Обзор данных.\n",
    " 2. Предобработка данных.\n",
    " 3. Проверка гипотез.\n",
    "\n"
   ]
  },
  {
   "cell_type": "markdown",
   "metadata": {
    "id": "Ml1hmfXC_Zcs"
   },
   "source": [
    "## Обзор данных\n",
    "\n",
    "Составьте первое представление о данных Яндекс.Музыки.\n",
    "\n",
    "\n"
   ]
  },
  {
   "cell_type": "markdown",
   "metadata": {
    "id": "57eAOGIz_Zcs"
   },
   "source": [
    "Основной инструмент аналитика — `pandas`. Импортируйте эту библиотеку."
   ]
  },
  {
   "cell_type": "code",
   "execution_count": 1,
   "metadata": {
    "id": "AXN7PHPN_Zcs"
   },
   "outputs": [],
   "source": [
    "import pandas as pd"
   ]
  },
  {
   "cell_type": "markdown",
   "metadata": {
    "id": "SG23P8tt_Zcs"
   },
   "source": [
    "Прочитайте файл `yandex_music_project.csv` из папки `/datasets` и сохраните его в переменной `df`:"
   ]
  },
  {
   "cell_type": "code",
   "execution_count": 2,
   "metadata": {
    "id": "fFVu7vqh_Zct"
   },
   "outputs": [],
   "source": [
    "df = pd.read_csv(\"/datasets/yandex_music_project.csv\")"
   ]
  },
  {
   "cell_type": "markdown",
   "metadata": {
    "id": "rDoOMd3uTqnZ"
   },
   "source": [
    "Выведите на экран первые десять строк таблицы:"
   ]
  },
  {
   "cell_type": "code",
   "execution_count": 3,
   "metadata": {
    "id": "oWTVX3gW_Zct",
    "scrolled": true
   },
   "outputs": [
    {
     "data": {
      "text/html": [
       "<div>\n",
       "<style scoped>\n",
       "    .dataframe tbody tr th:only-of-type {\n",
       "        vertical-align: middle;\n",
       "    }\n",
       "\n",
       "    .dataframe tbody tr th {\n",
       "        vertical-align: top;\n",
       "    }\n",
       "\n",
       "    .dataframe thead th {\n",
       "        text-align: right;\n",
       "    }\n",
       "</style>\n",
       "<table border=\"1\" class=\"dataframe\">\n",
       "  <thead>\n",
       "    <tr style=\"text-align: right;\">\n",
       "      <th></th>\n",
       "      <th>userID</th>\n",
       "      <th>Track</th>\n",
       "      <th>artist</th>\n",
       "      <th>genre</th>\n",
       "      <th>City</th>\n",
       "      <th>time</th>\n",
       "      <th>Day</th>\n",
       "    </tr>\n",
       "  </thead>\n",
       "  <tbody>\n",
       "    <tr>\n",
       "      <td>0</td>\n",
       "      <td>FFB692EC</td>\n",
       "      <td>Kamigata To Boots</td>\n",
       "      <td>The Mass Missile</td>\n",
       "      <td>rock</td>\n",
       "      <td>Saint-Petersburg</td>\n",
       "      <td>20:28:33</td>\n",
       "      <td>Wednesday</td>\n",
       "    </tr>\n",
       "    <tr>\n",
       "      <td>1</td>\n",
       "      <td>55204538</td>\n",
       "      <td>Delayed Because of Accident</td>\n",
       "      <td>Andreas Rönnberg</td>\n",
       "      <td>rock</td>\n",
       "      <td>Moscow</td>\n",
       "      <td>14:07:09</td>\n",
       "      <td>Friday</td>\n",
       "    </tr>\n",
       "    <tr>\n",
       "      <td>2</td>\n",
       "      <td>20EC38</td>\n",
       "      <td>Funiculì funiculà</td>\n",
       "      <td>Mario Lanza</td>\n",
       "      <td>pop</td>\n",
       "      <td>Saint-Petersburg</td>\n",
       "      <td>20:58:07</td>\n",
       "      <td>Wednesday</td>\n",
       "    </tr>\n",
       "    <tr>\n",
       "      <td>3</td>\n",
       "      <td>A3DD03C9</td>\n",
       "      <td>Dragons in the Sunset</td>\n",
       "      <td>Fire + Ice</td>\n",
       "      <td>folk</td>\n",
       "      <td>Saint-Petersburg</td>\n",
       "      <td>08:37:09</td>\n",
       "      <td>Monday</td>\n",
       "    </tr>\n",
       "    <tr>\n",
       "      <td>4</td>\n",
       "      <td>E2DC1FAE</td>\n",
       "      <td>Soul People</td>\n",
       "      <td>Space Echo</td>\n",
       "      <td>dance</td>\n",
       "      <td>Moscow</td>\n",
       "      <td>08:34:34</td>\n",
       "      <td>Monday</td>\n",
       "    </tr>\n",
       "    <tr>\n",
       "      <td>5</td>\n",
       "      <td>842029A1</td>\n",
       "      <td>Преданная</td>\n",
       "      <td>IMPERVTOR</td>\n",
       "      <td>rusrap</td>\n",
       "      <td>Saint-Petersburg</td>\n",
       "      <td>13:09:41</td>\n",
       "      <td>Friday</td>\n",
       "    </tr>\n",
       "    <tr>\n",
       "      <td>6</td>\n",
       "      <td>4CB90AA5</td>\n",
       "      <td>True</td>\n",
       "      <td>Roman Messer</td>\n",
       "      <td>dance</td>\n",
       "      <td>Moscow</td>\n",
       "      <td>13:00:07</td>\n",
       "      <td>Wednesday</td>\n",
       "    </tr>\n",
       "    <tr>\n",
       "      <td>7</td>\n",
       "      <td>F03E1C1F</td>\n",
       "      <td>Feeling This Way</td>\n",
       "      <td>Polina Griffith</td>\n",
       "      <td>dance</td>\n",
       "      <td>Moscow</td>\n",
       "      <td>20:47:49</td>\n",
       "      <td>Wednesday</td>\n",
       "    </tr>\n",
       "    <tr>\n",
       "      <td>8</td>\n",
       "      <td>8FA1D3BE</td>\n",
       "      <td>И вновь продолжается бой</td>\n",
       "      <td>NaN</td>\n",
       "      <td>ruspop</td>\n",
       "      <td>Moscow</td>\n",
       "      <td>09:17:40</td>\n",
       "      <td>Friday</td>\n",
       "    </tr>\n",
       "    <tr>\n",
       "      <td>9</td>\n",
       "      <td>E772D5C0</td>\n",
       "      <td>Pessimist</td>\n",
       "      <td>NaN</td>\n",
       "      <td>dance</td>\n",
       "      <td>Saint-Petersburg</td>\n",
       "      <td>21:20:49</td>\n",
       "      <td>Wednesday</td>\n",
       "    </tr>\n",
       "  </tbody>\n",
       "</table>\n",
       "</div>"
      ],
      "text/plain": [
       "     userID                        Track            artist   genre  \\\n",
       "0  FFB692EC            Kamigata To Boots  The Mass Missile    rock   \n",
       "1  55204538  Delayed Because of Accident  Andreas Rönnberg    rock   \n",
       "2    20EC38            Funiculì funiculà       Mario Lanza     pop   \n",
       "3  A3DD03C9        Dragons in the Sunset        Fire + Ice    folk   \n",
       "4  E2DC1FAE                  Soul People        Space Echo   dance   \n",
       "5  842029A1                    Преданная         IMPERVTOR  rusrap   \n",
       "6  4CB90AA5                         True      Roman Messer   dance   \n",
       "7  F03E1C1F             Feeling This Way   Polina Griffith   dance   \n",
       "8  8FA1D3BE     И вновь продолжается бой               NaN  ruspop   \n",
       "9  E772D5C0                    Pessimist               NaN   dance   \n",
       "\n",
       "             City        time        Day  \n",
       "0  Saint-Petersburg  20:28:33  Wednesday  \n",
       "1            Moscow  14:07:09     Friday  \n",
       "2  Saint-Petersburg  20:58:07  Wednesday  \n",
       "3  Saint-Petersburg  08:37:09     Monday  \n",
       "4            Moscow  08:34:34     Monday  \n",
       "5  Saint-Petersburg  13:09:41     Friday  \n",
       "6            Moscow  13:00:07  Wednesday  \n",
       "7            Moscow  20:47:49  Wednesday  \n",
       "8            Moscow  09:17:40     Friday  \n",
       "9  Saint-Petersburg  21:20:49  Wednesday  "
      ]
     },
     "execution_count": 3,
     "metadata": {},
     "output_type": "execute_result"
    }
   ],
   "source": [
    "df.head(10)"
   ]
  },
  {
   "cell_type": "markdown",
   "metadata": {
    "id": "EO73Kwic_Zct"
   },
   "source": [
    "Одной командой получить общую информацию о таблице:"
   ]
  },
  {
   "cell_type": "code",
   "execution_count": 4,
   "metadata": {
    "id": "DSf2kIb-_Zct",
    "scrolled": true
   },
   "outputs": [
    {
     "name": "stdout",
     "output_type": "stream",
     "text": [
      "<class 'pandas.core.frame.DataFrame'>\n",
      "RangeIndex: 65079 entries, 0 to 65078\n",
      "Data columns (total 7 columns):\n",
      "  userID    65079 non-null object\n",
      "Track       63848 non-null object\n",
      "artist      57876 non-null object\n",
      "genre       63881 non-null object\n",
      "  City      65079 non-null object\n",
      "time        65079 non-null object\n",
      "Day         65079 non-null object\n",
      "dtypes: object(7)\n",
      "memory usage: 3.5+ MB\n"
     ]
    }
   ],
   "source": [
    "df.info()"
   ]
  },
  {
   "cell_type": "markdown",
   "metadata": {
    "id": "TaQ2Iwbr_Zct"
   },
   "source": [
    "Итак, в таблице семь столбцов. Тип данных во всех столбцах — `object`.\n",
    "\n",
    "Согласно документации к данным:\n",
    "* `userID` — идентификатор пользователя;\n",
    "* `Track` — название трека;  \n",
    "* `artist` — имя исполнителя;\n",
    "* `genre` — название жанра;\n",
    "* `City` — город пользователя;\n",
    "* `time` — время начала прослушивания;\n",
    "* `Day` — день недели.\n",
    "\n",
    "В названиях колонок видны три нарушения стиля:\n",
    "1. Строчные буквы сочетаются с прописными.\n",
    "2. Встречаются пробелы.\n",
    "3. Найдите ещё одну проблему в названии колонок и опишите её в этом пункте.\n",
    "\n",
    "\n",
    "\n",
    "Количество значений в столбцах различается. Значит, в данных есть пропущенные значения.\n"
   ]
  },
  {
   "cell_type": "markdown",
   "metadata": {
    "id": "MCB6-dXG_Zct"
   },
   "source": [
    "**Выводы**\n",
    "\n",
    "В каждой строке таблицы — данные о прослушанном треке. Часть колонок описывает саму композицию: название, исполнителя и жанр. Остальные данные рассказывают о пользователе: из какого он города, когда он слушал музыку. \n",
    "\n",
    "Предварительно можно утверждать, что, данных достаточно для проверки гипотез. Но встречаются пропуски в данных, а в названиях колонок — расхождения с хорошим стилем.\n",
    "\n",
    "Чтобы двигаться дальше, нужно устранить проблемы в данных."
   ]
  },
  {
   "cell_type": "markdown",
   "metadata": {
    "id": "SjYF6Ub9_Zct"
   },
   "source": [
    "## Предобработка данных\n",
    "Исправьте стиль в заголовках столбцов, исключите пропуски. Затем проверьте данные на дубликаты."
   ]
  },
  {
   "cell_type": "markdown",
   "metadata": {
    "id": "dIaKXr29_Zct"
   },
   "source": [
    "### Стиль заголовков\n",
    "Выведите на экран названия столбцов:"
   ]
  },
  {
   "cell_type": "code",
   "execution_count": 5,
   "metadata": {
    "id": "oKOTdF_Q_Zct"
   },
   "outputs": [
    {
     "data": {
      "text/plain": [
       "Index(['  userID', 'Track', 'artist', 'genre', '  City  ', 'time', 'Day'], dtype='object')"
      ]
     },
     "execution_count": 5,
     "metadata": {},
     "output_type": "execute_result"
    }
   ],
   "source": [
    "df.columns"
   ]
  },
  {
   "cell_type": "markdown",
   "metadata": {},
   "source": [
    "<div class=\"alert alert-info\"> <b>Комментарий студента:</b> Исправил. Мне показалось так удобнее смотреть. Без перевода в list много лишних символов.</div>"
   ]
  },
  {
   "cell_type": "markdown",
   "metadata": {
    "id": "zj5534cv_Zct"
   },
   "source": [
    "Приведите названия в соответствие с хорошим стилем:\n",
    "* несколько слов в названии запишите в «змеином_регистре»,\n",
    "* все символы сделайте строчными,\n",
    "* устраните пробелы.\n",
    "\n",
    "Для этого переименуйте колонки так:\n",
    "* `'  userID'` → `'user_id'`;\n",
    "* `'Track'` → `'track'`;\n",
    "* `'  City  '` → `'city'`;\n",
    "* `'Day'` → `'day'`."
   ]
  },
  {
   "cell_type": "code",
   "execution_count": 6,
   "metadata": {
    "id": "ISlFqs5y_Zct"
   },
   "outputs": [],
   "source": [
    "df = df.rename(\n",
    "    columns={\n",
    "        '  userID': 'user_id',\n",
    "        'Track': 'track',\n",
    "        '  City  ': 'city',\n",
    "        'Day': 'day', \n",
    "    }\n",
    ")"
   ]
  },
  {
   "cell_type": "markdown",
   "metadata": {
    "id": "1dqbh00J_Zct"
   },
   "source": [
    "Проверьте результат. Для этого ещё раз выведите на экран названия столбцов:"
   ]
  },
  {
   "cell_type": "code",
   "execution_count": 7,
   "metadata": {
    "id": "d4NOAmTW_Zct",
    "scrolled": true
   },
   "outputs": [
    {
     "data": {
      "text/plain": [
       "['user_id', 'track', 'artist', 'genre', 'city', 'time', 'day']"
      ]
     },
     "execution_count": 7,
     "metadata": {},
     "output_type": "execute_result"
    }
   ],
   "source": [
    "list(df.columns)"
   ]
  },
  {
   "cell_type": "markdown",
   "metadata": {
    "id": "5ISfbcfY_Zct"
   },
   "source": [
    "### Пропуски значений\n",
    "Сначала посчитайте, сколько в таблице пропущенных значений. Для этого достаточно двух методов `pandas`:"
   ]
  },
  {
   "cell_type": "code",
   "execution_count": 8,
   "metadata": {
    "id": "RskX29qr_Zct",
    "scrolled": true
   },
   "outputs": [
    {
     "data": {
      "text/plain": [
       "user_id       0\n",
       "track      1231\n",
       "artist     7203\n",
       "genre      1198\n",
       "city          0\n",
       "time          0\n",
       "day           0\n",
       "dtype: int64"
      ]
     },
     "execution_count": 8,
     "metadata": {},
     "output_type": "execute_result"
    }
   ],
   "source": [
    "df.isna().sum()"
   ]
  },
  {
   "cell_type": "markdown",
   "metadata": {
    "id": "qubhgnlO_Zct"
   },
   "source": [
    "Не все пропущенные значения влияют на исследование. Так в `track` и `artist` пропуски не важны для вашей работы. Достаточно заменить их явными обозначениями.\n",
    "\n",
    "Но пропуски в `genre` могут помешать сравнению музыкальных вкусов в Москве и Санкт-Петербурге. На практике было бы правильно установить причину пропусков и восстановить данные. Такой возможности нет в учебном проекте. Придётся:\n",
    "* заполнить и эти пропуски явными обозначениями,\n",
    "* оценить, насколько они повредят расчётам. "
   ]
  },
  {
   "cell_type": "markdown",
   "metadata": {
    "id": "fSv2laPA_Zct"
   },
   "source": [
    "Замените пропущенные значения в столбцах `track`, `artist` и `genre` на строку `'unknown'`. Для этого создайте список `columns_to_replace`, переберите его элементы циклом `for` и для каждого столбца выполните замену пропущенных значений:"
   ]
  },
  {
   "cell_type": "code",
   "execution_count": 9,
   "metadata": {
    "id": "KplB5qWs_Zct"
   },
   "outputs": [],
   "source": [
    "columns_to_replace = [\n",
    "    'track', 'artist', 'genre'\n",
    "]\n",
    "\n",
    "for col in columns_to_replace:\n",
    "    df[col] = df[col].fillna('unknown')"
   ]
  },
  {
   "cell_type": "markdown",
   "metadata": {
    "id": "Ilsm-MZo_Zct"
   },
   "source": [
    "Убедитесь, что в таблице не осталось пропусков. Для этого ещё раз посчитайте пропущенные значения."
   ]
  },
  {
   "cell_type": "code",
   "execution_count": 10,
   "metadata": {
    "id": "Tq4nYRX4_Zct",
    "scrolled": true
   },
   "outputs": [
    {
     "data": {
      "text/plain": [
       "user_id    0\n",
       "track      0\n",
       "artist     0\n",
       "genre      0\n",
       "city       0\n",
       "time       0\n",
       "day        0\n",
       "dtype: int64"
      ]
     },
     "execution_count": 10,
     "metadata": {},
     "output_type": "execute_result"
    }
   ],
   "source": [
    "df.isna().sum()"
   ]
  },
  {
   "cell_type": "markdown",
   "metadata": {
    "id": "BWKRtBJ3_Zct"
   },
   "source": [
    "### Дубликаты\n",
    "Посчитайте явные дубликаты в таблице одной командой:"
   ]
  },
  {
   "cell_type": "code",
   "execution_count": 11,
   "metadata": {
    "id": "36eES_S0_Zct",
    "scrolled": true
   },
   "outputs": [
    {
     "data": {
      "text/plain": [
       "3826"
      ]
     },
     "execution_count": 11,
     "metadata": {},
     "output_type": "execute_result"
    }
   ],
   "source": [
    "df.duplicated().sum()"
   ]
  },
  {
   "cell_type": "markdown",
   "metadata": {
    "id": "Ot25h6XR_Zct"
   },
   "source": [
    "Вызовите специальный метод `pandas`, чтобы удалить явные дубликаты:"
   ]
  },
  {
   "cell_type": "code",
   "execution_count": 12,
   "metadata": {
    "id": "exFHq6tt_Zct"
   },
   "outputs": [],
   "source": [
    "df = df.drop_duplicates().reset_index(drop=True)"
   ]
  },
  {
   "cell_type": "markdown",
   "metadata": {
    "id": "Im2YwBEG_Zct"
   },
   "source": [
    "Ещё раз посчитайте явные дубликаты в таблице — убедитесь, что полностью от них избавились:"
   ]
  },
  {
   "cell_type": "code",
   "execution_count": 13,
   "metadata": {
    "id": "-8PuNWQ0_Zct"
   },
   "outputs": [
    {
     "data": {
      "text/plain": [
       "0"
      ]
     },
     "execution_count": 13,
     "metadata": {},
     "output_type": "execute_result"
    }
   ],
   "source": [
    "df.duplicated().sum()"
   ]
  },
  {
   "cell_type": "markdown",
   "metadata": {
    "id": "QlFBsxAr_Zct"
   },
   "source": [
    "Теперь избавьтесь от неявных дубликатов в колонке `genre`. Например, название одного и того же жанра может быть записано немного по-разному. Такие ошибки тоже повлияют на результат исследования."
   ]
  },
  {
   "cell_type": "markdown",
   "metadata": {
    "id": "eSjWwsOh_Zct"
   },
   "source": [
    "Выведите на экран список уникальных названий жанров, отсортированный в алфавитном порядке. Для этого:\n",
    "* извлеките нужный столбец датафрейма, \n",
    "* примените к нему метод сортировки,\n",
    "* для отсортированного столбца вызовите метод, который вернёт уникальные значения из столбца."
   ]
  },
  {
   "cell_type": "code",
   "execution_count": 14,
   "metadata": {
    "id": "JIUcqzZN_Zct",
    "scrolled": true
   },
   "outputs": [
    {
     "data": {
      "text/plain": [
       "array(['acid', 'acoustic', 'action', 'adult', 'africa', 'afrikaans',\n",
       "       'alternative', 'alternativepunk', 'ambient', 'americana',\n",
       "       'animated', 'anime', 'arabesk', 'arabic', 'arena',\n",
       "       'argentinetango', 'art', 'audiobook', 'author', 'avantgarde',\n",
       "       'axé', 'baile', 'balkan', 'beats', 'bigroom', 'black', 'bluegrass',\n",
       "       'blues', 'bollywood', 'bossa', 'brazilian', 'breakbeat', 'breaks',\n",
       "       'broadway', 'cantautori', 'cantopop', 'canzone', 'caribbean',\n",
       "       'caucasian', 'celtic', 'chamber', 'chanson', 'children', 'chill',\n",
       "       'chinese', 'choral', 'christian', 'christmas', 'classical',\n",
       "       'classicmetal', 'club', 'colombian', 'comedy', 'conjazz',\n",
       "       'contemporary', 'country', 'cuban', 'dance', 'dancehall',\n",
       "       'dancepop', 'dark', 'death', 'deep', 'deutschrock', 'deutschspr',\n",
       "       'dirty', 'disco', 'dnb', 'documentary', 'downbeat', 'downtempo',\n",
       "       'drum', 'dub', 'dubstep', 'eastern', 'easy', 'electronic',\n",
       "       'electropop', 'emo', 'entehno', 'epicmetal', 'estrada', 'ethnic',\n",
       "       'eurofolk', 'european', 'experimental', 'extrememetal', 'fado',\n",
       "       'fairytail', 'film', 'fitness', 'flamenco', 'folk', 'folklore',\n",
       "       'folkmetal', 'folkrock', 'folktronica', 'forró', 'frankreich',\n",
       "       'französisch', 'french', 'funk', 'future', 'gangsta', 'garage',\n",
       "       'german', 'ghazal', 'gitarre', 'glitch', 'gospel', 'gothic',\n",
       "       'grime', 'grunge', 'gypsy', 'handsup', \"hard'n'heavy\", 'hardcore',\n",
       "       'hardstyle', 'hardtechno', 'hip', 'hip-hop', 'hiphop',\n",
       "       'historisch', 'holiday', 'hop', 'horror', 'house', 'hymn', 'idm',\n",
       "       'independent', 'indian', 'indie', 'indipop', 'industrial',\n",
       "       'inspirational', 'instrumental', 'international', 'irish', 'jam',\n",
       "       'japanese', 'jazz', 'jewish', 'jpop', 'jungle', 'k-pop',\n",
       "       'karadeniz', 'karaoke', 'kayokyoku', 'korean', 'laiko', 'latin',\n",
       "       'latino', 'leftfield', 'local', 'lounge', 'loungeelectronic',\n",
       "       'lovers', 'malaysian', 'mandopop', 'marschmusik', 'meditative',\n",
       "       'mediterranean', 'melodic', 'metal', 'metalcore', 'mexican',\n",
       "       'middle', 'minimal', 'miscellaneous', 'modern', 'mood', 'mpb',\n",
       "       'muslim', 'native', 'neoklassik', 'neue', 'new', 'newage',\n",
       "       'newwave', 'nu', 'nujazz', 'numetal', 'oceania', 'old', 'opera',\n",
       "       'orchestral', 'other', 'piano', 'podcasts', 'pop', 'popdance',\n",
       "       'popelectronic', 'popeurodance', 'poprussian', 'post',\n",
       "       'posthardcore', 'postrock', 'power', 'progmetal', 'progressive',\n",
       "       'psychedelic', 'punjabi', 'punk', 'quebecois', 'ragga', 'ram',\n",
       "       'rancheras', 'rap', 'rave', 'reggae', 'reggaeton', 'regional',\n",
       "       'relax', 'religious', 'retro', 'rhythm', 'rnb', 'rnr', 'rock',\n",
       "       'rockabilly', 'rockalternative', 'rockindie', 'rockother',\n",
       "       'romance', 'roots', 'ruspop', 'rusrap', 'rusrock', 'russian',\n",
       "       'salsa', 'samba', 'scenic', 'schlager', 'self', 'sertanejo',\n",
       "       'shanson', 'shoegazing', 'showtunes', 'singer', 'ska', 'skarock',\n",
       "       'slow', 'smooth', 'soft', 'soul', 'soulful', 'sound', 'soundtrack',\n",
       "       'southern', 'specialty', 'speech', 'spiritual', 'sport',\n",
       "       'stonerrock', 'surf', 'swing', 'synthpop', 'synthrock',\n",
       "       'sängerportrait', 'tango', 'tanzorchester', 'taraftar', 'tatar',\n",
       "       'tech', 'techno', 'teen', 'thrash', 'top', 'traditional',\n",
       "       'tradjazz', 'trance', 'tribal', 'trip', 'triphop', 'tropical',\n",
       "       'türk', 'türkçe', 'ukrrock', 'unknown', 'urban', 'uzbek',\n",
       "       'variété', 'vi', 'videogame', 'vocal', 'western', 'world',\n",
       "       'worldbeat', 'ïîï', 'электроника'], dtype=object)"
      ]
     },
     "execution_count": 14,
     "metadata": {},
     "output_type": "execute_result"
    }
   ],
   "source": [
    "df.genre.sort_values().unique()"
   ]
  },
  {
   "cell_type": "markdown",
   "metadata": {
    "id": "qej-Qmuo_Zct"
   },
   "source": [
    "Просмотрите список и найдите неявные дубликаты названия `hiphop`. Это могут быть названия с ошибками или альтернативные названия того же жанра.\n",
    "\n",
    "Вы увидите следующие неявные дубликаты:\n",
    "* *hip*,\n",
    "* *hop*,\n",
    "* *hip-hop*.\n",
    "\n",
    "Чтобы очистить от них таблицу, напишите функцию `replace_wrong_genres()` с двумя параметрами: \n",
    "* `wrong_genres` — список дубликатов,\n",
    "* `correct_genre` — строка с правильным значением.\n",
    "\n",
    "Функция должна исправить колонку `genre` в таблице `df`: заменить каждое значение из списка `wrong_genres` на значение из `correct_genre`."
   ]
  },
  {
   "cell_type": "code",
   "execution_count": 15,
   "metadata": {
    "id": "ErNDkmns_Zct"
   },
   "outputs": [],
   "source": [
    "def replace_wrong_genres(wrong_genres: list, correct_genre: str) -> None:\n",
    "    \"\"\"\n",
    "    Заменяет некорректные значения (wrong_genres) в датасете df\n",
    "    в столбце 'genre'на корректное (correct_genre).\n",
    "    \"\"\"\n",
    "    for wrong in wrong_genres:\n",
    "        df['genre'] = df['genre'].replace(wrong, correct_genre)\n"
   ]
  },
  {
   "cell_type": "markdown",
   "metadata": {
    "id": "aDoBJxbA_Zct"
   },
   "source": [
    "Вызовите `replace_wrong_genres()` и передайте ей такие аргументы, чтобы она устранила неявные дубликаты: вместо `hip`, `hop` и `hip-hop` в таблице должно быть значение `hiphop`:"
   ]
  },
  {
   "cell_type": "code",
   "execution_count": 16,
   "metadata": {
    "id": "YN5i2hpmSo09"
   },
   "outputs": [],
   "source": [
    "list_duplicates_hiphop = [\n",
    "    \"hip\",\n",
    "    \"hop\",\n",
    "    \"hip-hop\",\n",
    "]\n",
    "correct_genre = 'hiphop'\n",
    "replace_wrong_genres(list_duplicates_hiphop, correct_genre)"
   ]
  },
  {
   "cell_type": "markdown",
   "metadata": {
    "id": "zQKF16_RG15m"
   },
   "source": [
    "Проверьте, что заменили неправильные названия:\n",
    "\n",
    "*   hip\n",
    "*   hop\n",
    "*   hip-hop\n",
    "\n",
    "Выведите отсортированный список уникальных значений столбца `genre`:"
   ]
  },
  {
   "cell_type": "code",
   "execution_count": 17,
   "metadata": {
    "id": "wvixALnFG15m",
    "scrolled": true
   },
   "outputs": [
    {
     "name": "stdout",
     "output_type": "stream",
     "text": [
      "Отсутсвует hip\n",
      "Отсутсвует hop\n",
      "Отсутсвует hip-hop\n"
     ]
    }
   ],
   "source": [
    "for wrong in list_duplicates_hiphop:\n",
    "    if wrong in list(df.genre.unique()):\n",
    "        print(f\"Присутвует {wrong}\")\n",
    "    else:\n",
    "        print(f\"Отсутсвует {wrong}\")"
   ]
  },
  {
   "cell_type": "markdown",
   "metadata": {
    "id": "jz6a9-7HQUDd"
   },
   "source": [
    "**Выводы**\n",
    "\n",
    "Предобработка обнаружила три проблемы в данных:\n",
    "\n",
    "- нарушения в стиле заголовков,\n",
    "- пропущенные значения,\n",
    "- дубликаты — явные и неявные.\n",
    "\n",
    "Вы исправили заголовки, чтобы упростить работу с таблицей. Без дубликатов исследование станет более точным.\n",
    "\n",
    "Пропущенные значения вы заменили на `'unknown'`. Ещё предстоит увидеть, не повредят ли исследованию пропуски в колонке `genre`.\n",
    "\n",
    "Теперь можно перейти к проверке гипотез. "
   ]
  },
  {
   "cell_type": "markdown",
   "metadata": {
    "id": "WttZHXH0SqKk"
   },
   "source": [
    "## Проверка гипотез"
   ]
  },
  {
   "cell_type": "markdown",
   "metadata": {
    "id": "Im936VVi_Zcu"
   },
   "source": [
    "### Сравнение поведения пользователей двух столиц"
   ]
  },
  {
   "cell_type": "markdown",
   "metadata": {
    "id": "nwt_MuaL_Zcu"
   },
   "source": [
    "Первая гипотеза утверждает, что пользователи по-разному слушают музыку в Москве и Санкт-Петербурге. Проверьте это предположение по данным о трёх днях недели — понедельнике, среде и пятнице. Для этого:\n",
    "\n",
    "* Разделите пользователей Москвы и Санкт-Петербурга\n",
    "* Сравните, сколько треков послушала каждая группа пользователей в понедельник, среду и пятницу.\n"
   ]
  },
  {
   "cell_type": "markdown",
   "metadata": {
    "id": "8Dw_YMmT_Zcu"
   },
   "source": [
    "Для тренировки сначала выполните каждый из расчётов по отдельности. \n",
    "\n",
    "Оцените активность пользователей в каждом городе. Сгруппируйте данные по городу и посчитайте прослушивания в каждой группе.\n",
    "\n"
   ]
  },
  {
   "cell_type": "code",
   "execution_count": 18,
   "metadata": {
    "id": "0_Qs96oh_Zcu",
    "scrolled": false
   },
   "outputs": [
    {
     "data": {
      "text/plain": [
       "city\n",
       "Moscow              42741\n",
       "Saint-Petersburg    18512\n",
       "Name: track, dtype: int64"
      ]
     },
     "execution_count": 18,
     "metadata": {},
     "output_type": "execute_result"
    }
   ],
   "source": [
    "df.groupby(by='city')['track'].count()"
   ]
  },
  {
   "cell_type": "markdown",
   "metadata": {
    "id": "dzli3w8o_Zcu"
   },
   "source": [
    "В Москве прослушиваний больше, чем в Петербурге. Из этого не следует, что московские пользователи чаще слушают музыку. Просто самих пользователей в Москве больше.\n",
    "\n",
    "Теперь сгруппируйте данные по дню недели и подсчитайте прослушивания в понедельник, среду и пятницу. Учтите, что в данных есть информация только о прослушиваниях только за эти дни.\n"
   ]
  },
  {
   "cell_type": "code",
   "execution_count": 19,
   "metadata": {
    "id": "uZMKjiJz_Zcu",
    "scrolled": true
   },
   "outputs": [
    {
     "data": {
      "text/plain": [
       "day\n",
       "Friday       21840\n",
       "Monday       21354\n",
       "Wednesday    18059\n",
       "Name: track, dtype: int64"
      ]
     },
     "execution_count": 19,
     "metadata": {},
     "output_type": "execute_result"
    }
   ],
   "source": [
    "df.groupby(by='day')['track'].count()"
   ]
  },
  {
   "cell_type": "markdown",
   "metadata": {
    "id": "cC2tNrlL_Zcu"
   },
   "source": [
    "В среднем пользователи из двух городов менее активны по средам. Но картина может измениться, если рассмотреть каждый город в отдельности."
   ]
  },
  {
   "cell_type": "markdown",
   "metadata": {
    "id": "POzs8bGa_Zcu"
   },
   "source": [
    "Вы видели, как работает группировка по городу и по дням недели. Теперь напишите функцию, которая объединит два эти расчёта.\n",
    "\n",
    "Создайте функцию `number_tracks()`, которая посчитает прослушивания для заданного дня и города. Ей понадобятся два параметра:\n",
    "* день недели,\n",
    "* название города.\n",
    "\n",
    "В функции сохраните в переменную строки исходной таблицы, у которых значение:\n",
    "  * в колонке `day` равно параметру `day`,\n",
    "  * в колонке `city` равно параметру `city`.\n",
    "\n",
    "Для этого примените последовательную фильтрацию с логической индексацией.\n",
    "\n",
    "Затем посчитайте значения в столбце `user_id` получившейся таблицы. Результат сохраните в новую переменную. Верните эту переменную из функции."
   ]
  },
  {
   "cell_type": "code",
   "execution_count": 20,
   "metadata": {
    "id": "Nz3GdQB1_Zcu"
   },
   "outputs": [],
   "source": [
    "def number_tracks(day: str, city: str) -> int:\n",
    "    \"\"\"\n",
    "    Расcчитывает количество прослушиваний в датасете (df)\n",
    "    в определный день (day) и определннном городе (city).\n",
    "    \"\"\"\n",
    "    track_list = df[(df['day'] == day) & (df['city'] == city)]\n",
    "    track_list_count = track_list['user_id'].count()\n",
    "    return track_list_count"
   ]
  },
  {
   "cell_type": "markdown",
   "metadata": {
    "id": "ytf7xFrFJQ2r"
   },
   "source": [
    "Вызовите `number_tracks()` шесть раз, меняя значение параметров — так, чтобы получить данные для каждого города в каждый из трёх дней."
   ]
  },
  {
   "cell_type": "code",
   "execution_count": 21,
   "metadata": {},
   "outputs": [],
   "source": [
    "list_city = list(df['city'].unique())\n",
    "list_day = list(df['day'].unique())"
   ]
  },
  {
   "cell_type": "code",
   "execution_count": 22,
   "metadata": {},
   "outputs": [],
   "source": [
    "day_number = {\n",
    "    \"Monday\": 1,\n",
    "    \"Wednesday\": 3,\n",
    "    \"Friday\": 5,\n",
    "}"
   ]
  },
  {
   "cell_type": "code",
   "execution_count": 23,
   "metadata": {},
   "outputs": [],
   "source": [
    "list_day = sorted(list_day, key=day_number.get)"
   ]
  },
  {
   "cell_type": "code",
   "execution_count": 24,
   "metadata": {
    "scrolled": true
   },
   "outputs": [
    {
     "name": "stdout",
     "output_type": "stream",
     "text": [
      "Количество прослушиваний в Saint-Petersburg по Monday 5614\n",
      "Количество прослушиваний в Saint-Petersburg по Wednesday 7003\n",
      "Количество прослушиваний в Saint-Petersburg по Friday 5895\n",
      "Количество прослушиваний в Moscow по Monday 15740\n",
      "Количество прослушиваний в Moscow по Wednesday 11056\n",
      "Количество прослушиваний в Moscow по Friday 15945\n"
     ]
    }
   ],
   "source": [
    "number_tracks_city_day = pd.DataFrame(index=list_city, columns=list_day)\n",
    "for city in list_city:\n",
    "    for day in list_day:\n",
    "        count_track = number_tracks(day, city)\n",
    "        print(f'Количество прослушиваний в {city} по {day} {count_track}')\n",
    "        number_tracks_city_day.loc[city, day] = count_track"
   ]
  },
  {
   "cell_type": "markdown",
   "metadata": {
    "id": "7QXffbO-_Zcu"
   },
   "source": [
    "Создайте c помощью конструктора `pd.DataFrame` таблицу, где\n",
    "* названия колонок — `['city', 'monday', 'wednesday', 'friday']`;\n",
    "* данные — результаты, которые вы получили с помощью `number_tracks`."
   ]
  },
  {
   "cell_type": "code",
   "execution_count": 25,
   "metadata": {
    "id": "APAcLpOr_Zcu",
    "scrolled": true
   },
   "outputs": [
    {
     "data": {
      "text/html": [
       "<div>\n",
       "<style scoped>\n",
       "    .dataframe tbody tr th:only-of-type {\n",
       "        vertical-align: middle;\n",
       "    }\n",
       "\n",
       "    .dataframe tbody tr th {\n",
       "        vertical-align: top;\n",
       "    }\n",
       "\n",
       "    .dataframe thead th {\n",
       "        text-align: right;\n",
       "    }\n",
       "</style>\n",
       "<table border=\"1\" class=\"dataframe\">\n",
       "  <thead>\n",
       "    <tr style=\"text-align: right;\">\n",
       "      <th></th>\n",
       "      <th>Monday</th>\n",
       "      <th>Wednesday</th>\n",
       "      <th>Friday</th>\n",
       "    </tr>\n",
       "  </thead>\n",
       "  <tbody>\n",
       "    <tr>\n",
       "      <td>Saint-Petersburg</td>\n",
       "      <td>5614</td>\n",
       "      <td>7003</td>\n",
       "      <td>5895</td>\n",
       "    </tr>\n",
       "    <tr>\n",
       "      <td>Moscow</td>\n",
       "      <td>15740</td>\n",
       "      <td>11056</td>\n",
       "      <td>15945</td>\n",
       "    </tr>\n",
       "  </tbody>\n",
       "</table>\n",
       "</div>"
      ],
      "text/plain": [
       "                  Monday  Wednesday  Friday\n",
       "Saint-Petersburg    5614       7003    5895\n",
       "Moscow             15740      11056   15945"
      ]
     },
     "metadata": {},
     "output_type": "display_data"
    }
   ],
   "source": [
    "display(number_tracks_city_day)"
   ]
  },
  {
   "cell_type": "markdown",
   "metadata": {
    "id": "-EgPIHYu_Zcu"
   },
   "source": [
    "**Выводы**\n",
    "\n",
    "Данные показывают разницу поведения пользователей:\n",
    "\n",
    "- В Москве пик прослушиваний приходится на понедельник и пятницу, а в среду заметен спад.\n",
    "- В Петербурге, наоборот, больше слушают музыку по средам. Активность в понедельник и пятницу здесь почти в равной мере уступает среде.\n",
    "\n",
    "Значит, данные говорят в пользу первой гипотезы."
   ]
  },
  {
   "cell_type": "markdown",
   "metadata": {
    "id": "atZAxtq4_Zcu"
   },
   "source": [
    "### Музыка в начале и в конце недели"
   ]
  },
  {
   "cell_type": "markdown",
   "metadata": {
    "id": "eXrQqXFH_Zcu"
   },
   "source": [
    "Согласно второй гипотезе, утром в понедельник в Москве преобладают одни жанры, а в Петербурге — другие. Так же и вечером пятницы преобладают разные жанры — в зависимости от города."
   ]
  },
  {
   "cell_type": "markdown",
   "metadata": {
    "id": "S8UcW6Hw_Zcu"
   },
   "source": [
    "Сохраните таблицы с данными в две переменные:\n",
    "* по Москве — в `moscow_general`;\n",
    "* по Санкт-Петербургу — в `spb_general`."
   ]
  },
  {
   "cell_type": "code",
   "execution_count": 26,
   "metadata": {
    "id": "qeaFfM_P_Zcu"
   },
   "outputs": [],
   "source": [
    "moscow_general = df[df['city'] == 'Moscow']"
   ]
  },
  {
   "cell_type": "code",
   "execution_count": 27,
   "metadata": {
    "id": "ORaVRKto_Zcu"
   },
   "outputs": [],
   "source": [
    "spb_general = df[df['city'] == 'Saint-Petersburg']"
   ]
  },
  {
   "cell_type": "markdown",
   "metadata": {
    "id": "MEJV-CX2_Zcu"
   },
   "source": [
    "Создайте функцию `genre_weekday()` с четырьмя параметрами:\n",
    "* таблица (датафрейм) с данными,\n",
    "* день недели,\n",
    "* начальная временная метка в формате 'hh:mm', \n",
    "* последняя временная метка в формате 'hh:mm'.\n",
    "\n",
    "Функция должна вернуть информацию о топ-10 жанров тех треков, которые прослушивали в указанный день, в промежутке между двумя отметками времени."
   ]
  },
  {
   "cell_type": "code",
   "execution_count": 28,
   "metadata": {
    "id": "laJT9BYl_Zcu"
   },
   "outputs": [],
   "source": [
    "def  genre_weekday(df: pd.DataFrame, day: str, time1: str, time2: str) -> pd.Series:\n",
    "    \"\"\"\n",
    "    Возвращает информацию о самых популярных жанрах в \n",
    "    указанный день в заданное время:\n",
    "    1) в переменную genre_df сохраняются те строки переданного датафрейма table, \n",
    "       для которых одновременно:\n",
    "       - значение в столбце day равно значению аргумента day\n",
    "       - значение в столбце time больше значения аргумента time1\n",
    "       - значение в столбце time меньше значения аргумента time2\n",
    "       Используйте последовательную фильтрацию с помощью логической индексации.\n",
    "    2) сгруппировать датафрейм genre_df по столбцу genre, взять один из его\n",
    "       столбцов и посчитать методом count() количество записей для каждого из\n",
    "       присутствующих жанров, получившийся Series записать в переменную\n",
    "       genre_df_count\n",
    "    3) отсортировать genre_df_count по убыванию встречаемости и сохранить\n",
    "       в переменную genre_df_sorted\n",
    "    4) вернуть Series из 10 первых значений genre_df_sorted, это будут топ-10\n",
    "       популярных жанров (в указанный день, в заданное время)\n",
    "    \"\"\"\n",
    "    genre_df = df[(df['day'] == day) & (df['time'] > time1) & (df['time'] < time2)]\n",
    "    genre_df_count = genre_df.groupby(by='genre')['genre'].count()\n",
    "    genre_df_sorted = genre_df_count.sort_values(ascending=False)\n",
    "    return genre_df_sorted[:10]"
   ]
  },
  {
   "cell_type": "markdown",
   "metadata": {
    "id": "la2s2_PF_Zcu"
   },
   "source": [
    "Cравните результаты функции `genre_weekday()` для Москвы и Санкт-Петербурга в понедельник утром (с 7:00 до 11:00) и в пятницу вечером (с 17:00 до 23:00):"
   ]
  },
  {
   "cell_type": "code",
   "execution_count": 29,
   "metadata": {},
   "outputs": [],
   "source": [
    "time_list = [['07:00', '11:00'],['17:00', '23:00']]"
   ]
  },
  {
   "cell_type": "code",
   "execution_count": 30,
   "metadata": {
    "scrolled": false
   },
   "outputs": [
    {
     "name": "stdout",
     "output_type": "stream",
     "text": [
      "Day: Monday, time: 07:00-11:00\n"
     ]
    },
    {
     "data": {
      "text/html": [
       "<div>\n",
       "<style scoped>\n",
       "    .dataframe tbody tr th:only-of-type {\n",
       "        vertical-align: middle;\n",
       "    }\n",
       "\n",
       "    .dataframe tbody tr th {\n",
       "        vertical-align: top;\n",
       "    }\n",
       "\n",
       "    .dataframe thead th {\n",
       "        text-align: right;\n",
       "    }\n",
       "</style>\n",
       "<table border=\"1\" class=\"dataframe\">\n",
       "  <thead>\n",
       "    <tr style=\"text-align: right;\">\n",
       "      <th></th>\n",
       "      <th>Moscow_genre</th>\n",
       "      <th>Moscow_count</th>\n",
       "      <th>Saint-Petersburg_genre</th>\n",
       "      <th>Saint-Petersburg_count</th>\n",
       "    </tr>\n",
       "  </thead>\n",
       "  <tbody>\n",
       "    <tr>\n",
       "      <td>0</td>\n",
       "      <td>pop</td>\n",
       "      <td>781</td>\n",
       "      <td>pop</td>\n",
       "      <td>218</td>\n",
       "    </tr>\n",
       "    <tr>\n",
       "      <td>1</td>\n",
       "      <td>dance</td>\n",
       "      <td>549</td>\n",
       "      <td>dance</td>\n",
       "      <td>182</td>\n",
       "    </tr>\n",
       "    <tr>\n",
       "      <td>2</td>\n",
       "      <td>electronic</td>\n",
       "      <td>480</td>\n",
       "      <td>rock</td>\n",
       "      <td>162</td>\n",
       "    </tr>\n",
       "    <tr>\n",
       "      <td>3</td>\n",
       "      <td>rock</td>\n",
       "      <td>474</td>\n",
       "      <td>electronic</td>\n",
       "      <td>147</td>\n",
       "    </tr>\n",
       "    <tr>\n",
       "      <td>4</td>\n",
       "      <td>hiphop</td>\n",
       "      <td>286</td>\n",
       "      <td>hiphop</td>\n",
       "      <td>80</td>\n",
       "    </tr>\n",
       "    <tr>\n",
       "      <td>5</td>\n",
       "      <td>ruspop</td>\n",
       "      <td>186</td>\n",
       "      <td>ruspop</td>\n",
       "      <td>64</td>\n",
       "    </tr>\n",
       "    <tr>\n",
       "      <td>6</td>\n",
       "      <td>world</td>\n",
       "      <td>181</td>\n",
       "      <td>alternative</td>\n",
       "      <td>58</td>\n",
       "    </tr>\n",
       "    <tr>\n",
       "      <td>7</td>\n",
       "      <td>rusrap</td>\n",
       "      <td>175</td>\n",
       "      <td>rusrap</td>\n",
       "      <td>55</td>\n",
       "    </tr>\n",
       "    <tr>\n",
       "      <td>8</td>\n",
       "      <td>alternative</td>\n",
       "      <td>164</td>\n",
       "      <td>jazz</td>\n",
       "      <td>44</td>\n",
       "    </tr>\n",
       "    <tr>\n",
       "      <td>9</td>\n",
       "      <td>unknown</td>\n",
       "      <td>161</td>\n",
       "      <td>classical</td>\n",
       "      <td>40</td>\n",
       "    </tr>\n",
       "  </tbody>\n",
       "</table>\n",
       "</div>"
      ],
      "text/plain": [
       "  Moscow_genre  Moscow_count Saint-Petersburg_genre  Saint-Petersburg_count\n",
       "0          pop           781                    pop                     218\n",
       "1        dance           549                  dance                     182\n",
       "2   electronic           480                   rock                     162\n",
       "3         rock           474             electronic                     147\n",
       "4       hiphop           286                 hiphop                      80\n",
       "5       ruspop           186                 ruspop                      64\n",
       "6        world           181            alternative                      58\n",
       "7       rusrap           175                 rusrap                      55\n",
       "8  alternative           164                   jazz                      44\n",
       "9      unknown           161              classical                      40"
      ]
     },
     "metadata": {},
     "output_type": "display_data"
    },
    {
     "name": "stdout",
     "output_type": "stream",
     "text": [
      "Day: Friday, time: 17:00-23:00\n"
     ]
    },
    {
     "data": {
      "text/html": [
       "<div>\n",
       "<style scoped>\n",
       "    .dataframe tbody tr th:only-of-type {\n",
       "        vertical-align: middle;\n",
       "    }\n",
       "\n",
       "    .dataframe tbody tr th {\n",
       "        vertical-align: top;\n",
       "    }\n",
       "\n",
       "    .dataframe thead th {\n",
       "        text-align: right;\n",
       "    }\n",
       "</style>\n",
       "<table border=\"1\" class=\"dataframe\">\n",
       "  <thead>\n",
       "    <tr style=\"text-align: right;\">\n",
       "      <th></th>\n",
       "      <th>Moscow_genre</th>\n",
       "      <th>Moscow_count</th>\n",
       "      <th>Saint-Petersburg_genre</th>\n",
       "      <th>Saint-Petersburg_count</th>\n",
       "    </tr>\n",
       "  </thead>\n",
       "  <tbody>\n",
       "    <tr>\n",
       "      <td>0</td>\n",
       "      <td>pop</td>\n",
       "      <td>713</td>\n",
       "      <td>pop</td>\n",
       "      <td>256</td>\n",
       "    </tr>\n",
       "    <tr>\n",
       "      <td>1</td>\n",
       "      <td>rock</td>\n",
       "      <td>517</td>\n",
       "      <td>rock</td>\n",
       "      <td>216</td>\n",
       "    </tr>\n",
       "    <tr>\n",
       "      <td>2</td>\n",
       "      <td>dance</td>\n",
       "      <td>495</td>\n",
       "      <td>electronic</td>\n",
       "      <td>216</td>\n",
       "    </tr>\n",
       "    <tr>\n",
       "      <td>3</td>\n",
       "      <td>electronic</td>\n",
       "      <td>482</td>\n",
       "      <td>dance</td>\n",
       "      <td>210</td>\n",
       "    </tr>\n",
       "    <tr>\n",
       "      <td>4</td>\n",
       "      <td>hiphop</td>\n",
       "      <td>273</td>\n",
       "      <td>hiphop</td>\n",
       "      <td>97</td>\n",
       "    </tr>\n",
       "    <tr>\n",
       "      <td>5</td>\n",
       "      <td>world</td>\n",
       "      <td>208</td>\n",
       "      <td>alternative</td>\n",
       "      <td>63</td>\n",
       "    </tr>\n",
       "    <tr>\n",
       "      <td>6</td>\n",
       "      <td>ruspop</td>\n",
       "      <td>170</td>\n",
       "      <td>jazz</td>\n",
       "      <td>61</td>\n",
       "    </tr>\n",
       "    <tr>\n",
       "      <td>7</td>\n",
       "      <td>alternative</td>\n",
       "      <td>163</td>\n",
       "      <td>classical</td>\n",
       "      <td>60</td>\n",
       "    </tr>\n",
       "    <tr>\n",
       "      <td>8</td>\n",
       "      <td>classical</td>\n",
       "      <td>163</td>\n",
       "      <td>rusrap</td>\n",
       "      <td>59</td>\n",
       "    </tr>\n",
       "    <tr>\n",
       "      <td>9</td>\n",
       "      <td>rusrap</td>\n",
       "      <td>142</td>\n",
       "      <td>world</td>\n",
       "      <td>54</td>\n",
       "    </tr>\n",
       "  </tbody>\n",
       "</table>\n",
       "</div>"
      ],
      "text/plain": [
       "  Moscow_genre  Moscow_count Saint-Petersburg_genre  Saint-Petersburg_count\n",
       "0          pop           713                    pop                     256\n",
       "1         rock           517                   rock                     216\n",
       "2        dance           495             electronic                     216\n",
       "3   electronic           482                  dance                     210\n",
       "4       hiphop           273                 hiphop                      97\n",
       "5        world           208            alternative                      63\n",
       "6       ruspop           170                   jazz                      61\n",
       "7  alternative           163              classical                      60\n",
       "8    classical           163                 rusrap                      59\n",
       "9       rusrap           142                  world                      54"
      ]
     },
     "metadata": {},
     "output_type": "display_data"
    }
   ],
   "source": [
    "for day in list_day[::2]:\n",
    "    if day == 'Monday':\n",
    "        ind = 0\n",
    "        print(f'Day: {day}, time: {time_list[ind][0]}-{time_list[ind][1]}')\n",
    "        df_res_monday = pd.DataFrame()\n",
    "        df_res_monday['Moscow_genre'] = genre_weekday(\n",
    "            moscow_general,\n",
    "            day,\n",
    "            time_list[ind][0],\n",
    "            time_list[ind][1]\n",
    "        ).index\n",
    "        df_res_monday['Moscow_count'] = genre_weekday(\n",
    "            moscow_general,\n",
    "            day,\n",
    "            time_list[ind][0],\n",
    "            time_list[ind][1]\n",
    "        ).values\n",
    "        \n",
    "        df_res_monday['Saint-Petersburg_genre'] = genre_weekday(\n",
    "            spb_general,\n",
    "            day,\n",
    "            time_list[ind][0],\n",
    "            time_list[ind][1]\n",
    "        ).index\n",
    "        df_res_monday['Saint-Petersburg_count'] = genre_weekday(\n",
    "            spb_general,\n",
    "            day,\n",
    "            time_list[ind][0],\n",
    "            time_list[ind][1]\n",
    "        ).values\n",
    "        \n",
    "        display(df_res_monday)\n",
    "\n",
    "    elif day == 'Friday':\n",
    "        ind = 1\n",
    "        print(f'Day: {day}, time: {time_list[ind][0]}-{time_list[ind][1]}')\n",
    "        \n",
    "        df_res_friday = pd.DataFrame()\n",
    "        df_res_friday['Moscow_genre'] = genre_weekday(\n",
    "            moscow_general,\n",
    "            day,\n",
    "            time_list[ind][0],\n",
    "            time_list[ind][1]\n",
    "        ).index\n",
    "        df_res_friday['Moscow_count'] = genre_weekday(\n",
    "            moscow_general,\n",
    "            day,\n",
    "            time_list[ind][0],\n",
    "            time_list[ind][1]\n",
    "        ).values\n",
    "        \n",
    "        df_res_friday['Saint-Petersburg_genre'] = genre_weekday(\n",
    "            spb_general,\n",
    "            day,\n",
    "            time_list[ind][0],\n",
    "            time_list[ind][1]\n",
    "        ).index\n",
    "        df_res_friday['Saint-Petersburg_count'] = genre_weekday(\n",
    "            spb_general,\n",
    "            day,\n",
    "            time_list[ind][0],\n",
    "            time_list[ind][1]\n",
    "        ).values\n",
    "        \n",
    "        display(df_res_friday)\n"
   ]
  },
  {
   "cell_type": "markdown",
   "metadata": {
    "id": "wrCe4MNX_Zcu"
   },
   "source": [
    "**Выводы**\n",
    "\n",
    "Если сравнить топ-10 жанров в понедельник утром, можно сделать такие выводы:\n",
    "\n",
    "1. В Москве и Петербурге слушают похожую музыку. Единственное отличие — в московский рейтинг вошёл жанр “world”, а в петербургский — джаз и классика.\n",
    "\n",
    "2. В Москве пропущенных значений оказалось так много, что значение `'unknown'` заняло десятое место среди самых популярных жанров. Значит, пропущенные значения занимают существенную долю в данных и угрожают достоверности исследования.\n",
    "\n",
    "Вечер пятницы не меняет эту картину. Некоторые жанры поднимаются немного выше, другие спускаются, но в целом топ-10 остаётся тем же самым.\n",
    "\n",
    "Таким образом, вторая гипотеза подтвердилась лишь частично:\n",
    "* Пользователи слушают похожую музыку в начале недели и в конце.\n",
    "* Разница между Москвой и Петербургом не слишком выражена. В Москве чаще слушают русскую популярную музыку, в Петербурге — джаз.\n",
    "\n",
    "Однако пропуски в данных ставят под сомнение этот результат. В Москве их так много, что рейтинг топ-10 мог бы выглядеть иначе, если бы не утерянные  данные о жанрах."
   ]
  },
  {
   "cell_type": "markdown",
   "metadata": {
    "id": "JolODAqr_Zcu"
   },
   "source": [
    "### Жанровые предпочтения в Москве и Петербурге\n",
    "\n",
    "Гипотеза: Петербург — столица рэпа, музыку этого жанра там слушают чаще, чем в Москве.  А Москва — город контрастов, в котором, тем не менее, преобладает поп-музыка."
   ]
  },
  {
   "cell_type": "markdown",
   "metadata": {
    "id": "DlegSvaT_Zcu"
   },
   "source": [
    "Сгруппируйте таблицу `moscow_general` по жанру и посчитайте прослушивания треков каждого жанра методом `count()`. Затем отсортируйте результат в порядке убывания и сохраните его в таблице `moscow_genres`."
   ]
  },
  {
   "cell_type": "code",
   "execution_count": 31,
   "metadata": {
    "id": "r19lIPke_Zcu"
   },
   "outputs": [],
   "source": [
    "moscow_genres = (\n",
    "    moscow_general\n",
    "    .groupby(by='genre')['genre']\n",
    "    .count()\n",
    "    .sort_values(ascending=False)\n",
    ")"
   ]
  },
  {
   "cell_type": "markdown",
   "metadata": {
    "id": "6kMuomxTiIr8"
   },
   "source": [
    "Выведите на экран первые десять строк `moscow_genres`:"
   ]
  },
  {
   "cell_type": "code",
   "execution_count": 32,
   "metadata": {
    "id": "WhCSooF8_Zcv",
    "scrolled": true
   },
   "outputs": [
    {
     "data": {
      "text/plain": [
       "genre\n",
       "pop            5892\n",
       "dance          4435\n",
       "rock           3965\n",
       "electronic     3786\n",
       "hiphop         2096\n",
       "classical      1616\n",
       "world          1432\n",
       "alternative    1379\n",
       "ruspop         1372\n",
       "rusrap         1161\n",
       "Name: genre, dtype: int64"
      ]
     },
     "execution_count": 32,
     "metadata": {},
     "output_type": "execute_result"
    }
   ],
   "source": [
    "moscow_genres[:10]"
   ]
  },
  {
   "cell_type": "markdown",
   "metadata": {
    "id": "cnPG2vnN_Zcv"
   },
   "source": [
    "Теперь повторите то же и для Петербурга.\n",
    "\n",
    "Сгруппируйте таблицу `spb_general` по жанру. Посчитайте прослушивания треков каждого жанра. Результат отсортируйте в порядке убывания и сохраните в таблице `spb_genres`:\n"
   ]
  },
  {
   "cell_type": "code",
   "execution_count": 33,
   "metadata": {
    "id": "gluLIpE7_Zcv"
   },
   "outputs": [],
   "source": [
    "spb_genres = (\n",
    "    spb_general\n",
    "    .groupby(by='genre')['genre']\n",
    "    .count()\n",
    "    .sort_values(ascending=False)\n",
    ")"
   ]
  },
  {
   "cell_type": "markdown",
   "metadata": {
    "id": "5Doha_ODgyQ8"
   },
   "source": [
    "Выведите на экран первые десять строк `spb_genres`:"
   ]
  },
  {
   "cell_type": "code",
   "execution_count": 34,
   "metadata": {
    "id": "uaGJHjVU_Zcv",
    "scrolled": true
   },
   "outputs": [
    {
     "data": {
      "text/plain": [
       "genre\n",
       "pop            2431\n",
       "dance          1932\n",
       "rock           1879\n",
       "electronic     1736\n",
       "hiphop          960\n",
       "alternative     649\n",
       "classical       646\n",
       "rusrap          564\n",
       "ruspop          538\n",
       "world           515\n",
       "Name: genre, dtype: int64"
      ]
     },
     "execution_count": 34,
     "metadata": {},
     "output_type": "execute_result"
    }
   ],
   "source": [
    "spb_genres[:10]"
   ]
  },
  {
   "cell_type": "markdown",
   "metadata": {
    "id": "RY51YJYu_Zcv"
   },
   "source": [
    "**Выводы**"
   ]
  },
  {
   "cell_type": "markdown",
   "metadata": {
    "id": "nVhnJEm__Zcv"
   },
   "source": [
    "Гипотеза частично подтвердилась:\n",
    "* Поп-музыка — самый популярный жанр в Москве, как и предполагала гипотеза. Более того, в топ-10 жанров встречается близкий жанр — русская популярная музыка.\n",
    "* Вопреки ожиданиям, рэп одинаково популярен в Москве и Петербурге. \n"
   ]
  },
  {
   "cell_type": "markdown",
   "metadata": {
    "id": "ykKQ0N65_Zcv"
   },
   "source": [
    "## Итоги исследования"
   ]
  },
  {
   "cell_type": "markdown",
   "metadata": {
    "id": "tjUwbHb3_Zcv"
   },
   "source": [
    "Вы проверили три гипотезы и установили:\n",
    "\n",
    "1. День недели по-разному влияет на активность пользователей в Москве и Петербурге. \n",
    "\n",
    "Первая гипотеза полностью подтвердилась.\n",
    "\n",
    "2. Музыкальные предпочтения не сильно меняются в течение недели — будь то Москва или Петербург. Небольшие различия заметны в начале недели, по понедельникам:\n",
    "* в Москве слушают музыку жанра “world”,\n",
    "* в Петербурге — джаз и классику.\n",
    "\n",
    "Таким образом, вторая гипотеза подтвердилась лишь отчасти. Этот результат мог оказаться иным, если бы не пропуски в данных.\n",
    "\n",
    "3. Во вкусах пользователей Москвы и Петербурга больше общего чем различий. Вопреки ожиданиям, предпочтения жанров в Петербурге напоминают московские.\n",
    "\n",
    "Третья гипотеза не подтвердилась. Если различия в предпочтениях и существуют, на основной массе пользователей они незаметны.\n",
    "\n",
    "**На практике исследования содержат проверки статистических гипотез.**\n",
    "Из данных одного сервиса не всегда можно сделать вывод о всех жителях города.\n",
    "Проверки статистических гипотез покажут, насколько они достоверны, исходя из имеющихся данных. \n",
    "С методами проверок гипотез вы ещё познакомитесь в следующих темах."
   ]
  }
 ],
 "metadata": {
  "ExecuteTimeLog": [
   {
    "duration": 572,
    "start_time": "2022-02-06T19:08:05.971Z"
   },
   {
    "duration": 135,
    "start_time": "2022-02-06T19:08:45.291Z"
   },
   {
    "duration": 19,
    "start_time": "2022-02-06T19:09:06.829Z"
   },
   {
    "duration": 21,
    "start_time": "2022-02-06T19:09:36.174Z"
   },
   {
    "duration": 3,
    "start_time": "2022-02-06T19:10:26.913Z"
   },
   {
    "duration": 3,
    "start_time": "2022-02-06T19:10:42.387Z"
   },
   {
    "duration": 4,
    "start_time": "2022-02-06T19:14:06.383Z"
   },
   {
    "duration": 16,
    "start_time": "2022-02-06T19:15:29.651Z"
   },
   {
    "duration": 4,
    "start_time": "2022-02-06T19:15:35.857Z"
   },
   {
    "duration": 27,
    "start_time": "2022-02-06T19:15:56.780Z"
   },
   {
    "duration": 26,
    "start_time": "2022-02-06T19:16:02.230Z"
   },
   {
    "duration": 29,
    "start_time": "2022-02-06T19:16:29.098Z"
   },
   {
    "duration": 21,
    "start_time": "2022-02-06T19:16:50.153Z"
   },
   {
    "duration": 17,
    "start_time": "2022-02-06T19:18:43.543Z"
   },
   {
    "duration": 34,
    "start_time": "2022-02-06T19:18:54.143Z"
   },
   {
    "duration": 61,
    "start_time": "2022-02-06T19:19:27.330Z"
   },
   {
    "duration": 50,
    "start_time": "2022-02-06T19:19:36.381Z"
   },
   {
    "duration": 60,
    "start_time": "2022-02-06T19:20:00.344Z"
   },
   {
    "duration": 46,
    "start_time": "2022-02-06T19:20:08.181Z"
   },
   {
    "duration": 7,
    "start_time": "2022-02-06T19:20:26.750Z"
   },
   {
    "duration": 14,
    "start_time": "2022-02-06T19:20:43.027Z"
   },
   {
    "duration": 6,
    "start_time": "2022-02-06T19:21:05.887Z"
   },
   {
    "duration": 2,
    "start_time": "2022-02-06T19:32:49.851Z"
   },
   {
    "duration": 14,
    "start_time": "2022-02-06T19:35:06.951Z"
   },
   {
    "duration": 6,
    "start_time": "2022-02-06T19:36:38.903Z"
   },
   {
    "duration": 6,
    "start_time": "2022-02-06T19:36:46.084Z"
   },
   {
    "duration": 131,
    "start_time": "2022-02-06T19:39:31.880Z"
   },
   {
    "duration": 10,
    "start_time": "2022-02-06T19:39:42.083Z"
   },
   {
    "duration": 11,
    "start_time": "2022-02-06T19:40:17.897Z"
   },
   {
    "duration": 639,
    "start_time": "2022-02-06T19:40:42.103Z"
   },
   {
    "duration": 10,
    "start_time": "2022-02-06T19:40:47.678Z"
   },
   {
    "duration": 27,
    "start_time": "2022-02-06T19:42:11.790Z"
   },
   {
    "duration": 10,
    "start_time": "2022-02-06T19:42:27.955Z"
   },
   {
    "duration": 10,
    "start_time": "2022-02-06T19:42:39.568Z"
   },
   {
    "duration": 10,
    "start_time": "2022-02-06T19:42:47.888Z"
   },
   {
    "duration": 11,
    "start_time": "2022-02-06T19:43:39.840Z"
   },
   {
    "duration": 3,
    "start_time": "2022-02-06T19:55:32.201Z"
   },
   {
    "duration": 2,
    "start_time": "2022-02-06T19:55:45.137Z"
   },
   {
    "duration": 5,
    "start_time": "2022-02-06T19:57:02.971Z"
   },
   {
    "duration": 6,
    "start_time": "2022-02-06T19:58:23.459Z"
   },
   {
    "duration": 369,
    "start_time": "2022-02-06T20:05:40.888Z"
   },
   {
    "duration": 51,
    "start_time": "2022-02-06T20:07:34.549Z"
   },
   {
    "duration": 57,
    "start_time": "2022-02-06T20:10:50.467Z"
   },
   {
    "duration": 6,
    "start_time": "2022-02-06T20:10:56.523Z"
   },
   {
    "duration": 308,
    "start_time": "2022-02-06T20:11:19.936Z"
   },
   {
    "duration": 6,
    "start_time": "2022-02-06T20:11:23.674Z"
   },
   {
    "duration": 7,
    "start_time": "2022-02-06T20:11:30.429Z"
   },
   {
    "duration": 5,
    "start_time": "2022-02-06T20:14:05.076Z"
   },
   {
    "duration": 318,
    "start_time": "2022-02-06T20:15:10.320Z"
   },
   {
    "duration": 8,
    "start_time": "2022-02-06T20:15:28.020Z"
   },
   {
    "duration": 11,
    "start_time": "2022-02-06T20:15:30.466Z"
   },
   {
    "duration": 3,
    "start_time": "2022-02-06T20:22:43.068Z"
   },
   {
    "duration": 641,
    "start_time": "2022-02-06T20:22:58.104Z"
   },
   {
    "duration": 4,
    "start_time": "2022-02-06T20:23:24.972Z"
   },
   {
    "duration": 13,
    "start_time": "2022-02-06T20:23:27.794Z"
   },
   {
    "duration": 3,
    "start_time": "2022-02-06T20:23:39.080Z"
   },
   {
    "duration": 15,
    "start_time": "2022-02-06T20:23:41.232Z"
   },
   {
    "duration": 4,
    "start_time": "2022-02-06T20:24:50.492Z"
   },
   {
    "duration": 16,
    "start_time": "2022-02-06T20:24:52.384Z"
   },
   {
    "duration": 2,
    "start_time": "2022-02-06T20:26:01.298Z"
   },
   {
    "duration": 3,
    "start_time": "2022-02-06T20:26:28.210Z"
   },
   {
    "duration": 3,
    "start_time": "2022-02-06T20:26:38.355Z"
   },
   {
    "duration": 3,
    "start_time": "2022-02-06T20:26:44.062Z"
   },
   {
    "duration": 3,
    "start_time": "2022-02-06T20:26:47.066Z"
   },
   {
    "duration": 44,
    "start_time": "2022-02-06T20:28:18.065Z"
   },
   {
    "duration": 52,
    "start_time": "2022-02-06T20:28:30.611Z"
   },
   {
    "duration": 83,
    "start_time": "2022-02-06T20:30:15.860Z"
   },
   {
    "duration": 127,
    "start_time": "2022-02-06T20:30:56.105Z"
   },
   {
    "duration": 83,
    "start_time": "2022-02-06T20:31:14.322Z"
   },
   {
    "duration": 7,
    "start_time": "2022-02-06T20:33:02.580Z"
   },
   {
    "duration": 5,
    "start_time": "2022-02-06T20:33:15.650Z"
   },
   {
    "duration": 11,
    "start_time": "2022-02-06T20:33:46.707Z"
   },
   {
    "duration": 4,
    "start_time": "2022-02-06T20:33:48.321Z"
   },
   {
    "duration": 5,
    "start_time": "2022-02-06T20:34:10.025Z"
   },
   {
    "duration": 2,
    "start_time": "2022-02-06T20:34:56.158Z"
   },
   {
    "duration": 5,
    "start_time": "2022-02-06T20:34:57.933Z"
   },
   {
    "duration": 752,
    "start_time": "2022-02-06T20:35:34.696Z"
   },
   {
    "duration": 118,
    "start_time": "2022-02-06T20:35:35.450Z"
   },
   {
    "duration": 17,
    "start_time": "2022-02-06T20:35:35.572Z"
   },
   {
    "duration": 36,
    "start_time": "2022-02-06T20:35:35.591Z"
   },
   {
    "duration": 4,
    "start_time": "2022-02-06T20:35:35.628Z"
   },
   {
    "duration": 17,
    "start_time": "2022-02-06T20:35:35.634Z"
   },
   {
    "duration": 3,
    "start_time": "2022-02-06T20:35:35.654Z"
   },
   {
    "duration": 21,
    "start_time": "2022-02-06T20:35:35.659Z"
   },
   {
    "duration": 15,
    "start_time": "2022-02-06T20:35:35.682Z"
   },
   {
    "duration": 20,
    "start_time": "2022-02-06T20:35:35.727Z"
   },
   {
    "duration": 52,
    "start_time": "2022-02-06T20:35:35.748Z"
   },
   {
    "duration": 78,
    "start_time": "2022-02-06T20:35:35.802Z"
   },
   {
    "duration": 48,
    "start_time": "2022-02-06T20:35:35.883Z"
   },
   {
    "duration": 6,
    "start_time": "2022-02-06T20:35:35.932Z"
   },
   {
    "duration": 126,
    "start_time": "2022-02-06T20:35:35.939Z"
   },
   {
    "duration": 881,
    "start_time": "2022-02-06T20:35:35.186Z"
   },
   {
    "duration": 878,
    "start_time": "2022-02-06T20:35:35.190Z"
   },
   {
    "duration": 875,
    "start_time": "2022-02-06T20:35:35.194Z"
   },
   {
    "duration": 868,
    "start_time": "2022-02-06T20:35:35.202Z"
   },
   {
    "duration": 865,
    "start_time": "2022-02-06T20:35:35.206Z"
   },
   {
    "duration": 863,
    "start_time": "2022-02-06T20:35:35.209Z"
   },
   {
    "duration": 854,
    "start_time": "2022-02-06T20:35:35.219Z"
   },
   {
    "duration": 852,
    "start_time": "2022-02-06T20:35:35.222Z"
   },
   {
    "duration": 850,
    "start_time": "2022-02-06T20:35:35.225Z"
   },
   {
    "duration": 843,
    "start_time": "2022-02-06T20:35:35.233Z"
   },
   {
    "duration": 841,
    "start_time": "2022-02-06T20:35:35.236Z"
   },
   {
    "duration": 838,
    "start_time": "2022-02-06T20:35:35.240Z"
   },
   {
    "duration": 835,
    "start_time": "2022-02-06T20:35:35.244Z"
   },
   {
    "duration": 828,
    "start_time": "2022-02-06T20:35:35.252Z"
   },
   {
    "duration": 826,
    "start_time": "2022-02-06T20:35:35.255Z"
   },
   {
    "duration": 822,
    "start_time": "2022-02-06T20:35:35.260Z"
   },
   {
    "duration": 814,
    "start_time": "2022-02-06T20:35:35.268Z"
   },
   {
    "duration": 4,
    "start_time": "2022-02-06T20:35:56.500Z"
   },
   {
    "duration": 640,
    "start_time": "2022-02-06T20:36:04.898Z"
   },
   {
    "duration": 123,
    "start_time": "2022-02-06T20:36:05.539Z"
   },
   {
    "duration": 15,
    "start_time": "2022-02-06T20:36:05.666Z"
   },
   {
    "duration": 29,
    "start_time": "2022-02-06T20:36:05.683Z"
   },
   {
    "duration": 4,
    "start_time": "2022-02-06T20:36:05.727Z"
   },
   {
    "duration": 17,
    "start_time": "2022-02-06T20:36:05.732Z"
   },
   {
    "duration": 3,
    "start_time": "2022-02-06T20:36:05.752Z"
   },
   {
    "duration": 20,
    "start_time": "2022-02-06T20:36:05.757Z"
   },
   {
    "duration": 14,
    "start_time": "2022-02-06T20:36:05.779Z"
   },
   {
    "duration": 50,
    "start_time": "2022-02-06T20:36:05.794Z"
   },
   {
    "duration": 63,
    "start_time": "2022-02-06T20:36:05.846Z"
   },
   {
    "duration": 62,
    "start_time": "2022-02-06T20:36:05.910Z"
   },
   {
    "duration": 44,
    "start_time": "2022-02-06T20:36:05.973Z"
   },
   {
    "duration": 13,
    "start_time": "2022-02-06T20:36:06.018Z"
   },
   {
    "duration": 3,
    "start_time": "2022-02-06T20:36:06.032Z"
   },
   {
    "duration": 16,
    "start_time": "2022-02-06T20:36:06.037Z"
   },
   {
    "duration": 10,
    "start_time": "2022-02-06T20:36:06.054Z"
   },
   {
    "duration": 9,
    "start_time": "2022-02-06T20:36:06.066Z"
   },
   {
    "duration": 8,
    "start_time": "2022-02-06T20:36:06.077Z"
   },
   {
    "duration": 6,
    "start_time": "2022-02-06T20:36:06.087Z"
   },
   {
    "duration": 7,
    "start_time": "2022-02-06T20:36:06.127Z"
   },
   {
    "duration": 65,
    "start_time": "2022-02-06T20:36:06.136Z"
   },
   {
    "duration": 5,
    "start_time": "2022-02-06T20:36:06.203Z"
   },
   {
    "duration": 26,
    "start_time": "2022-02-06T20:36:06.209Z"
   },
   {
    "duration": 18,
    "start_time": "2022-02-06T20:36:06.236Z"
   },
   {
    "duration": 19,
    "start_time": "2022-02-06T20:36:06.255Z"
   },
   {
    "duration": 11,
    "start_time": "2022-02-06T20:36:06.276Z"
   },
   {
    "duration": 103,
    "start_time": "2022-02-06T20:36:06.289Z"
   },
   {
    "duration": 33,
    "start_time": "2022-02-06T20:36:06.394Z"
   },
   {
    "duration": 4,
    "start_time": "2022-02-06T20:36:06.428Z"
   },
   {
    "duration": 6,
    "start_time": "2022-02-06T20:36:06.434Z"
   },
   {
    "duration": 4,
    "start_time": "2022-02-06T20:36:06.442Z"
   },
   {
    "duration": 8,
    "start_time": "2022-02-06T20:36:53.389Z"
   },
   {
    "duration": 7,
    "start_time": "2022-02-06T20:37:10.814Z"
   },
   {
    "duration": 6,
    "start_time": "2022-02-06T20:37:30.753Z"
   },
   {
    "duration": 536,
    "start_time": "2022-02-06T20:38:20.660Z"
   },
   {
    "duration": 117,
    "start_time": "2022-02-06T20:38:21.197Z"
   },
   {
    "duration": 16,
    "start_time": "2022-02-06T20:38:21.316Z"
   },
   {
    "duration": 21,
    "start_time": "2022-02-06T20:38:21.334Z"
   },
   {
    "duration": 3,
    "start_time": "2022-02-06T20:38:21.357Z"
   },
   {
    "duration": 21,
    "start_time": "2022-02-06T20:38:21.361Z"
   },
   {
    "duration": 4,
    "start_time": "2022-02-06T20:38:21.383Z"
   },
   {
    "duration": 41,
    "start_time": "2022-02-06T20:38:21.389Z"
   },
   {
    "duration": 15,
    "start_time": "2022-02-06T20:38:21.432Z"
   },
   {
    "duration": 22,
    "start_time": "2022-02-06T20:38:21.448Z"
   },
   {
    "duration": 67,
    "start_time": "2022-02-06T20:38:21.472Z"
   },
   {
    "duration": 52,
    "start_time": "2022-02-06T20:38:21.540Z"
   },
   {
    "duration": 51,
    "start_time": "2022-02-06T20:38:21.594Z"
   },
   {
    "duration": 5,
    "start_time": "2022-02-06T20:38:21.647Z"
   },
   {
    "duration": 3,
    "start_time": "2022-02-06T20:38:21.654Z"
   },
   {
    "duration": 17,
    "start_time": "2022-02-06T20:38:21.658Z"
   },
   {
    "duration": 10,
    "start_time": "2022-02-06T20:38:21.676Z"
   },
   {
    "duration": 9,
    "start_time": "2022-02-06T20:38:21.688Z"
   },
   {
    "duration": 36,
    "start_time": "2022-02-06T20:38:21.699Z"
   },
   {
    "duration": 3,
    "start_time": "2022-02-06T20:38:21.736Z"
   },
   {
    "duration": 10,
    "start_time": "2022-02-06T20:38:21.740Z"
   },
   {
    "duration": 55,
    "start_time": "2022-02-06T20:38:21.751Z"
   },
   {
    "duration": 21,
    "start_time": "2022-02-06T20:38:21.809Z"
   },
   {
    "duration": 9,
    "start_time": "2022-02-06T20:38:21.832Z"
   },
   {
    "duration": 7,
    "start_time": "2022-02-06T20:38:21.842Z"
   },
   {
    "duration": 5,
    "start_time": "2022-02-06T20:38:21.850Z"
   },
   {
    "duration": 7,
    "start_time": "2022-02-06T20:38:21.856Z"
   },
   {
    "duration": 110,
    "start_time": "2022-02-06T20:38:21.864Z"
   },
   {
    "duration": 6,
    "start_time": "2022-02-06T20:38:21.976Z"
   },
   {
    "duration": 3,
    "start_time": "2022-02-06T20:38:21.984Z"
   },
   {
    "duration": 6,
    "start_time": "2022-02-06T20:38:21.989Z"
   },
   {
    "duration": 32,
    "start_time": "2022-02-06T20:38:21.997Z"
   },
   {
    "duration": 556,
    "start_time": "2022-02-13T08:18:19.062Z"
   },
   {
    "duration": 147,
    "start_time": "2022-02-13T08:18:19.620Z"
   },
   {
    "duration": 18,
    "start_time": "2022-02-13T08:18:19.770Z"
   },
   {
    "duration": 31,
    "start_time": "2022-02-13T08:18:19.790Z"
   },
   {
    "duration": 4,
    "start_time": "2022-02-13T08:18:19.823Z"
   },
   {
    "duration": 23,
    "start_time": "2022-02-13T08:18:19.829Z"
   },
   {
    "duration": 4,
    "start_time": "2022-02-13T08:18:19.853Z"
   },
   {
    "duration": 49,
    "start_time": "2022-02-13T08:18:19.860Z"
   },
   {
    "duration": 17,
    "start_time": "2022-02-13T08:18:19.912Z"
   },
   {
    "duration": 25,
    "start_time": "2022-02-13T08:18:19.930Z"
   },
   {
    "duration": 83,
    "start_time": "2022-02-13T08:18:19.957Z"
   },
   {
    "duration": 78,
    "start_time": "2022-02-13T08:18:20.042Z"
   },
   {
    "duration": 52,
    "start_time": "2022-02-13T08:18:20.122Z"
   },
   {
    "duration": 23,
    "start_time": "2022-02-13T08:18:20.176Z"
   },
   {
    "duration": 3,
    "start_time": "2022-02-13T08:18:20.201Z"
   },
   {
    "duration": 18,
    "start_time": "2022-02-13T08:18:20.206Z"
   },
   {
    "duration": 12,
    "start_time": "2022-02-13T08:18:20.226Z"
   },
   {
    "duration": 11,
    "start_time": "2022-02-13T08:18:20.240Z"
   },
   {
    "duration": 12,
    "start_time": "2022-02-13T08:18:20.253Z"
   },
   {
    "duration": 4,
    "start_time": "2022-02-13T08:18:20.299Z"
   },
   {
    "duration": 18,
    "start_time": "2022-02-13T08:18:20.305Z"
   },
   {
    "duration": 80,
    "start_time": "2022-02-13T08:18:20.325Z"
   },
   {
    "duration": 7,
    "start_time": "2022-02-13T08:18:20.408Z"
   },
   {
    "duration": 15,
    "start_time": "2022-02-13T08:18:20.417Z"
   },
   {
    "duration": 17,
    "start_time": "2022-02-13T08:18:20.434Z"
   },
   {
    "duration": 17,
    "start_time": "2022-02-13T08:18:20.453Z"
   },
   {
    "duration": 10,
    "start_time": "2022-02-13T08:18:20.471Z"
   },
   {
    "duration": 136,
    "start_time": "2022-02-13T08:18:20.483Z"
   },
   {
    "duration": 8,
    "start_time": "2022-02-13T08:18:20.621Z"
   },
   {
    "duration": 14,
    "start_time": "2022-02-13T08:18:20.631Z"
   },
   {
    "duration": 19,
    "start_time": "2022-02-13T08:18:20.646Z"
   },
   {
    "duration": 18,
    "start_time": "2022-02-13T08:18:20.666Z"
   },
   {
    "duration": 58,
    "start_time": "2022-02-13T08:22:26.953Z"
   },
   {
    "duration": 503,
    "start_time": "2022-02-13T08:36:25.309Z"
   },
   {
    "duration": 56,
    "start_time": "2022-02-13T08:38:27.539Z"
   },
   {
    "duration": 83,
    "start_time": "2022-02-13T08:43:15.665Z"
   },
   {
    "duration": 58,
    "start_time": "2022-02-13T08:44:26.626Z"
   },
   {
    "duration": 69,
    "start_time": "2022-02-13T08:45:43.729Z"
   },
   {
    "duration": 641,
    "start_time": "2022-02-13T15:24:08.073Z"
   },
   {
    "duration": 141,
    "start_time": "2022-02-13T15:24:08.716Z"
   },
   {
    "duration": 15,
    "start_time": "2022-02-13T15:24:08.858Z"
   },
   {
    "duration": 36,
    "start_time": "2022-02-13T15:24:08.875Z"
   },
   {
    "duration": 4,
    "start_time": "2022-02-13T15:24:08.927Z"
   },
   {
    "duration": 40,
    "start_time": "2022-02-13T15:24:08.933Z"
   },
   {
    "duration": 5,
    "start_time": "2022-02-13T15:24:08.975Z"
   },
   {
    "duration": 19,
    "start_time": "2022-02-13T15:24:08.983Z"
   },
   {
    "duration": 14,
    "start_time": "2022-02-13T15:24:09.004Z"
   },
   {
    "duration": 36,
    "start_time": "2022-02-13T15:24:09.020Z"
   },
   {
    "duration": 60,
    "start_time": "2022-02-13T15:24:09.058Z"
   },
   {
    "duration": 107,
    "start_time": "2022-02-13T15:24:09.120Z"
   },
   {
    "duration": 73,
    "start_time": "2022-02-13T15:24:09.229Z"
   },
   {
    "duration": 6,
    "start_time": "2022-02-13T15:24:09.304Z"
   },
   {
    "duration": 17,
    "start_time": "2022-02-13T15:24:09.311Z"
   },
   {
    "duration": 22,
    "start_time": "2022-02-13T15:24:09.330Z"
   },
   {
    "duration": 19,
    "start_time": "2022-02-13T15:24:09.354Z"
   },
   {
    "duration": 10,
    "start_time": "2022-02-13T15:24:09.374Z"
   },
   {
    "duration": 10,
    "start_time": "2022-02-13T15:24:09.385Z"
   },
   {
    "duration": 3,
    "start_time": "2022-02-13T15:24:09.396Z"
   },
   {
    "duration": 27,
    "start_time": "2022-02-13T15:24:09.401Z"
   },
   {
    "duration": 88,
    "start_time": "2022-02-13T15:24:09.430Z"
   },
   {
    "duration": 5,
    "start_time": "2022-02-13T15:24:09.521Z"
   },
   {
    "duration": 11,
    "start_time": "2022-02-13T15:24:09.529Z"
   },
   {
    "duration": 13,
    "start_time": "2022-02-13T15:24:09.542Z"
   },
   {
    "duration": 4,
    "start_time": "2022-02-13T15:24:09.557Z"
   },
   {
    "duration": 9,
    "start_time": "2022-02-13T15:24:09.562Z"
   },
   {
    "duration": 134,
    "start_time": "2022-02-13T15:24:09.572Z"
   },
   {
    "duration": 9,
    "start_time": "2022-02-13T15:24:09.727Z"
   },
   {
    "duration": 5,
    "start_time": "2022-02-13T15:24:09.738Z"
   },
   {
    "duration": 11,
    "start_time": "2022-02-13T15:24:09.745Z"
   },
   {
    "duration": 7,
    "start_time": "2022-02-13T15:24:09.757Z"
   },
   {
    "duration": 391,
    "start_time": "2022-02-13T15:26:36.603Z"
   },
   {
    "duration": 54,
    "start_time": "2022-02-13T15:26:43.372Z"
   },
   {
    "duration": 35,
    "start_time": "2022-02-13T15:31:52.451Z"
   },
   {
    "duration": 93,
    "start_time": "2022-02-13T15:31:54.380Z"
   },
   {
    "duration": 6,
    "start_time": "2022-02-13T15:31:56.555Z"
   },
   {
    "duration": 7,
    "start_time": "2022-02-13T15:33:50.113Z"
   },
   {
    "duration": 48,
    "start_time": "2022-02-13T15:34:12.827Z"
   },
   {
    "duration": 47,
    "start_time": "2022-02-13T15:34:24.009Z"
   },
   {
    "duration": 61,
    "start_time": "2022-02-13T15:34:26.324Z"
   },
   {
    "duration": 7,
    "start_time": "2022-02-13T15:34:33.932Z"
   },
   {
    "duration": 3,
    "start_time": "2022-02-13T15:49:38.155Z"
   },
   {
    "duration": 39,
    "start_time": "2022-02-13T16:24:18.093Z"
   },
   {
    "duration": 332,
    "start_time": "2022-02-13T16:25:51.766Z"
   },
   {
    "duration": 324,
    "start_time": "2022-02-13T16:26:23.715Z"
   },
   {
    "duration": 324,
    "start_time": "2022-02-13T16:26:38.458Z"
   },
   {
    "duration": 435,
    "start_time": "2022-02-13T16:27:24.072Z"
   },
   {
    "duration": 4,
    "start_time": "2022-02-13T16:27:41.666Z"
   },
   {
    "duration": 163,
    "start_time": "2022-02-13T16:27:58.719Z"
   },
   {
    "duration": 4,
    "start_time": "2022-02-13T16:28:04.313Z"
   },
   {
    "duration": 4,
    "start_time": "2022-02-13T16:28:10.282Z"
   },
   {
    "duration": 130,
    "start_time": "2022-02-13T16:30:08.054Z"
   },
   {
    "duration": 414,
    "start_time": "2022-02-13T16:30:10.079Z"
   },
   {
    "duration": 9,
    "start_time": "2022-02-13T16:30:55.303Z"
   },
   {
    "duration": 42,
    "start_time": "2022-02-13T16:31:02.134Z"
   },
   {
    "duration": 158,
    "start_time": "2022-02-13T16:31:06.831Z"
   },
   {
    "duration": 9,
    "start_time": "2022-02-13T16:31:10.217Z"
   },
   {
    "duration": 3,
    "start_time": "2022-02-13T16:32:16.508Z"
   },
   {
    "duration": 6,
    "start_time": "2022-02-13T16:32:22.815Z"
   },
   {
    "duration": 3,
    "start_time": "2022-02-13T16:44:02.360Z"
   },
   {
    "duration": 12777,
    "start_time": "2022-02-13T16:44:36.158Z"
   },
   {
    "duration": -149,
    "start_time": "2022-02-13T16:44:49.087Z"
   },
   {
    "duration": 8704,
    "start_time": "2022-02-13T16:45:09.512Z"
   },
   {
    "duration": 10342,
    "start_time": "2022-02-13T16:46:44.145Z"
   },
   {
    "duration": 3,
    "start_time": "2022-02-13T16:48:22.508Z"
   },
   {
    "duration": 3,
    "start_time": "2022-02-13T16:49:56.455Z"
   },
   {
    "duration": 9115,
    "start_time": "2022-02-13T16:50:06.568Z"
   },
   {
    "duration": -3372,
    "start_time": "2022-02-13T16:50:34.335Z"
   },
   {
    "duration": 8961,
    "start_time": "2022-02-13T16:50:36.747Z"
   },
   {
    "duration": -7513,
    "start_time": "2022-02-13T16:50:53.223Z"
   },
   {
    "duration": 144,
    "start_time": "2022-02-13T16:50:54.843Z"
   },
   {
    "duration": 11,
    "start_time": "2022-02-13T16:50:55.608Z"
   },
   {
    "duration": 22,
    "start_time": "2022-02-13T16:50:55.781Z"
   },
   {
    "duration": 4,
    "start_time": "2022-02-13T16:50:56.478Z"
   },
   {
    "duration": 18,
    "start_time": "2022-02-13T16:50:57.671Z"
   },
   {
    "duration": 4,
    "start_time": "2022-02-13T16:50:57.989Z"
   },
   {
    "duration": 25,
    "start_time": "2022-02-13T16:50:58.487Z"
   },
   {
    "duration": 16,
    "start_time": "2022-02-13T16:50:59.164Z"
   },
   {
    "duration": 22,
    "start_time": "2022-02-13T16:50:59.700Z"
   },
   {
    "duration": 60,
    "start_time": "2022-02-13T16:51:00.255Z"
   },
   {
    "duration": 72,
    "start_time": "2022-02-13T16:51:01.521Z"
   },
   {
    "duration": 68,
    "start_time": "2022-02-13T16:51:01.594Z"
   },
   {
    "duration": 43,
    "start_time": "2022-02-13T16:51:01.845Z"
   },
   {
    "duration": 4,
    "start_time": "2022-02-13T16:51:03.151Z"
   },
   {
    "duration": 8,
    "start_time": "2022-02-13T16:51:05.195Z"
   },
   {
    "duration": 12,
    "start_time": "2022-02-13T16:51:05.641Z"
   },
   {
    "duration": 13,
    "start_time": "2022-02-13T16:51:08.390Z"
   },
   {
    "duration": 14,
    "start_time": "2022-02-13T16:51:09.718Z"
   },
   {
    "duration": 3,
    "start_time": "2022-02-13T16:51:12.018Z"
   },
   {
    "duration": 9,
    "start_time": "2022-02-13T16:51:12.873Z"
   },
   {
    "duration": 3,
    "start_time": "2022-02-13T16:51:13.044Z"
   },
   {
    "duration": 579,
    "start_time": "2022-02-13T16:51:15.272Z"
   },
   {
    "duration": 593,
    "start_time": "2022-02-13T16:51:15.261Z"
   },
   {
    "duration": 6,
    "start_time": "2022-02-13T16:51:16.990Z"
   },
   {
    "duration": 3,
    "start_time": "2022-02-13T16:51:30.519Z"
   },
   {
    "duration": 3,
    "start_time": "2022-02-13T16:52:18.546Z"
   },
   {
    "duration": 321,
    "start_time": "2022-02-13T16:52:20.295Z"
   },
   {
    "duration": 4,
    "start_time": "2022-02-13T16:52:23.689Z"
   },
   {
    "duration": 3,
    "start_time": "2022-02-13T16:52:31.504Z"
   },
   {
    "duration": 63,
    "start_time": "2022-02-13T16:52:33.845Z"
   },
   {
    "duration": 58,
    "start_time": "2022-02-13T16:52:37.269Z"
   },
   {
    "duration": 6,
    "start_time": "2022-02-13T16:52:38.521Z"
   },
   {
    "duration": 120,
    "start_time": "2022-02-13T17:01:44.548Z"
   },
   {
    "duration": 4,
    "start_time": "2022-02-13T17:01:48.319Z"
   },
   {
    "duration": 4,
    "start_time": "2022-02-13T17:01:54.116Z"
   },
   {
    "duration": 4,
    "start_time": "2022-02-13T17:02:12.689Z"
   },
   {
    "duration": 39,
    "start_time": "2022-02-13T17:02:28.219Z"
   },
   {
    "duration": 29,
    "start_time": "2022-02-13T17:03:23.707Z"
   },
   {
    "duration": 48,
    "start_time": "2022-02-13T17:03:32.355Z"
   },
   {
    "duration": 66,
    "start_time": "2022-02-13T17:03:50.500Z"
   },
   {
    "duration": 57,
    "start_time": "2022-02-13T17:06:07.752Z"
   },
   {
    "duration": 52,
    "start_time": "2022-02-13T17:06:31.647Z"
   },
   {
    "duration": 681,
    "start_time": "2022-02-13T17:06:53.142Z"
   },
   {
    "duration": 63,
    "start_time": "2022-02-13T17:07:09.114Z"
   },
   {
    "duration": 58,
    "start_time": "2022-02-13T17:09:32.194Z"
   },
   {
    "duration": 335,
    "start_time": "2022-02-13T17:20:41.996Z"
   },
   {
    "duration": 339,
    "start_time": "2022-02-13T17:21:02.191Z"
   },
   {
    "duration": 2,
    "start_time": "2022-02-13T17:21:38.690Z"
   },
   {
    "duration": 2,
    "start_time": "2022-02-13T17:21:41.196Z"
   },
   {
    "duration": 335,
    "start_time": "2022-02-13T17:21:41.717Z"
   },
   {
    "duration": 16,
    "start_time": "2022-02-13T17:22:02.003Z"
   },
   {
    "duration": 333,
    "start_time": "2022-02-13T17:22:10.756Z"
   },
   {
    "duration": 16,
    "start_time": "2022-02-13T17:22:18.118Z"
   },
   {
    "duration": 66,
    "start_time": "2022-02-13T17:22:46.797Z"
   },
   {
    "duration": 16,
    "start_time": "2022-02-13T17:23:07.123Z"
   },
   {
    "duration": 16,
    "start_time": "2022-02-13T17:23:11.985Z"
   },
   {
    "duration": 67,
    "start_time": "2022-02-13T17:23:24.843Z"
   },
   {
    "duration": 84,
    "start_time": "2022-02-13T17:24:39.240Z"
   },
   {
    "duration": 92,
    "start_time": "2022-02-13T17:24:56.324Z"
   },
   {
    "duration": 94,
    "start_time": "2022-02-13T17:26:14.964Z"
   },
   {
    "duration": 87,
    "start_time": "2022-02-13T17:26:23.462Z"
   },
   {
    "duration": 89,
    "start_time": "2022-02-13T17:27:26.747Z"
   },
   {
    "duration": 90,
    "start_time": "2022-02-13T17:29:19.038Z"
   },
   {
    "duration": 85,
    "start_time": "2022-02-13T17:29:58.234Z"
   },
   {
    "duration": 88,
    "start_time": "2022-02-13T17:30:11.458Z"
   },
   {
    "duration": 84,
    "start_time": "2022-02-13T17:57:06.401Z"
   },
   {
    "duration": 584,
    "start_time": "2022-02-13T17:57:17.817Z"
   },
   {
    "duration": 122,
    "start_time": "2022-02-13T17:57:18.403Z"
   },
   {
    "duration": 15,
    "start_time": "2022-02-13T17:57:18.527Z"
   },
   {
    "duration": 22,
    "start_time": "2022-02-13T17:57:18.544Z"
   },
   {
    "duration": 4,
    "start_time": "2022-02-13T17:57:18.568Z"
   },
   {
    "duration": 18,
    "start_time": "2022-02-13T17:57:18.573Z"
   },
   {
    "duration": 35,
    "start_time": "2022-02-13T17:57:18.593Z"
   },
   {
    "duration": 22,
    "start_time": "2022-02-13T17:57:18.630Z"
   },
   {
    "duration": 13,
    "start_time": "2022-02-13T17:57:18.654Z"
   },
   {
    "duration": 21,
    "start_time": "2022-02-13T17:57:18.669Z"
   },
   {
    "duration": 70,
    "start_time": "2022-02-13T17:57:18.692Z"
   },
   {
    "duration": 66,
    "start_time": "2022-02-13T17:57:18.764Z"
   },
   {
    "duration": 45,
    "start_time": "2022-02-13T17:57:18.831Z"
   },
   {
    "duration": 36,
    "start_time": "2022-02-13T17:57:18.877Z"
   },
   {
    "duration": 3,
    "start_time": "2022-02-13T17:57:18.927Z"
   },
   {
    "duration": 12,
    "start_time": "2022-02-13T17:57:18.932Z"
   },
   {
    "duration": 10,
    "start_time": "2022-02-13T17:57:18.945Z"
   },
   {
    "duration": 10,
    "start_time": "2022-02-13T17:57:18.956Z"
   },
   {
    "duration": 8,
    "start_time": "2022-02-13T17:57:18.967Z"
   },
   {
    "duration": 2,
    "start_time": "2022-02-13T17:57:18.977Z"
   },
   {
    "duration": 8,
    "start_time": "2022-02-13T17:57:18.981Z"
   },
   {
    "duration": 2,
    "start_time": "2022-02-13T17:57:18.991Z"
   },
   {
    "duration": 34,
    "start_time": "2022-02-13T17:57:18.995Z"
   },
   {
    "duration": 79,
    "start_time": "2022-02-13T17:57:19.031Z"
   },
   {
    "duration": 15,
    "start_time": "2022-02-13T17:57:19.112Z"
   },
   {
    "duration": 13,
    "start_time": "2022-02-13T17:57:19.129Z"
   },
   {
    "duration": 11,
    "start_time": "2022-02-13T17:57:19.143Z"
   },
   {
    "duration": 5,
    "start_time": "2022-02-13T17:57:19.155Z"
   },
   {
    "duration": 6,
    "start_time": "2022-02-13T17:57:19.162Z"
   },
   {
    "duration": 370,
    "start_time": "2022-02-13T17:57:19.169Z"
   },
   {
    "duration": 1169,
    "start_time": "2022-02-13T17:57:18.372Z"
   },
   {
    "duration": 1165,
    "start_time": "2022-02-13T17:57:18.377Z"
   },
   {
    "duration": 1157,
    "start_time": "2022-02-13T17:57:18.385Z"
   },
   {
    "duration": 1152,
    "start_time": "2022-02-13T17:57:18.391Z"
   },
   {
    "duration": 1149,
    "start_time": "2022-02-13T17:57:18.395Z"
   },
   {
    "duration": 617,
    "start_time": "2022-02-13T18:05:30.790Z"
   },
   {
    "duration": 120,
    "start_time": "2022-02-13T18:05:31.411Z"
   },
   {
    "duration": 14,
    "start_time": "2022-02-13T18:05:31.533Z"
   },
   {
    "duration": 26,
    "start_time": "2022-02-13T18:05:31.549Z"
   },
   {
    "duration": 4,
    "start_time": "2022-02-13T18:05:31.576Z"
   },
   {
    "duration": 17,
    "start_time": "2022-02-13T18:05:31.581Z"
   },
   {
    "duration": 3,
    "start_time": "2022-02-13T18:05:31.601Z"
   },
   {
    "duration": 36,
    "start_time": "2022-02-13T18:05:31.605Z"
   },
   {
    "duration": 14,
    "start_time": "2022-02-13T18:05:31.643Z"
   },
   {
    "duration": 19,
    "start_time": "2022-02-13T18:05:31.658Z"
   },
   {
    "duration": 77,
    "start_time": "2022-02-13T18:05:31.679Z"
   },
   {
    "duration": 55,
    "start_time": "2022-02-13T18:05:31.757Z"
   },
   {
    "duration": 55,
    "start_time": "2022-02-13T18:05:31.814Z"
   },
   {
    "duration": 37,
    "start_time": "2022-02-13T18:05:31.870Z"
   },
   {
    "duration": 3,
    "start_time": "2022-02-13T18:05:31.908Z"
   },
   {
    "duration": 19,
    "start_time": "2022-02-13T18:05:31.912Z"
   },
   {
    "duration": 12,
    "start_time": "2022-02-13T18:05:31.932Z"
   },
   {
    "duration": 9,
    "start_time": "2022-02-13T18:05:31.946Z"
   },
   {
    "duration": 9,
    "start_time": "2022-02-13T18:05:31.956Z"
   },
   {
    "duration": 2,
    "start_time": "2022-02-13T18:05:31.967Z"
   },
   {
    "duration": 7,
    "start_time": "2022-02-13T18:05:31.971Z"
   },
   {
    "duration": 2,
    "start_time": "2022-02-13T18:05:31.981Z"
   },
   {
    "duration": 4,
    "start_time": "2022-02-13T18:05:31.985Z"
   },
   {
    "duration": 94,
    "start_time": "2022-02-13T18:05:31.990Z"
   },
   {
    "duration": 5,
    "start_time": "2022-02-13T18:05:32.086Z"
   },
   {
    "duration": 12,
    "start_time": "2022-02-13T18:05:32.092Z"
   },
   {
    "duration": 24,
    "start_time": "2022-02-13T18:05:32.105Z"
   },
   {
    "duration": 4,
    "start_time": "2022-02-13T18:05:32.130Z"
   },
   {
    "duration": 6,
    "start_time": "2022-02-13T18:05:32.135Z"
   },
   {
    "duration": 95,
    "start_time": "2022-02-13T18:05:32.142Z"
   },
   {
    "duration": 8,
    "start_time": "2022-02-13T18:05:32.239Z"
   },
   {
    "duration": 5,
    "start_time": "2022-02-13T18:05:32.248Z"
   },
   {
    "duration": 8,
    "start_time": "2022-02-13T18:05:32.254Z"
   },
   {
    "duration": 5,
    "start_time": "2022-02-13T18:05:32.263Z"
   },
   {
    "duration": 105,
    "start_time": "2022-02-13T18:16:09.585Z"
   },
   {
    "duration": 570,
    "start_time": "2022-02-13T18:16:46.633Z"
   },
   {
    "duration": 121,
    "start_time": "2022-02-13T18:16:47.204Z"
   },
   {
    "duration": 15,
    "start_time": "2022-02-13T18:16:47.327Z"
   },
   {
    "duration": 22,
    "start_time": "2022-02-13T18:16:47.343Z"
   },
   {
    "duration": 3,
    "start_time": "2022-02-13T18:16:47.367Z"
   },
   {
    "duration": 16,
    "start_time": "2022-02-13T18:16:47.372Z"
   },
   {
    "duration": 5,
    "start_time": "2022-02-13T18:16:47.389Z"
   },
   {
    "duration": 41,
    "start_time": "2022-02-13T18:16:47.396Z"
   },
   {
    "duration": 13,
    "start_time": "2022-02-13T18:16:47.439Z"
   },
   {
    "duration": 20,
    "start_time": "2022-02-13T18:16:47.454Z"
   },
   {
    "duration": 62,
    "start_time": "2022-02-13T18:16:47.475Z"
   },
   {
    "duration": 60,
    "start_time": "2022-02-13T18:16:47.538Z"
   },
   {
    "duration": 56,
    "start_time": "2022-02-13T18:16:47.599Z"
   },
   {
    "duration": 34,
    "start_time": "2022-02-13T18:16:47.657Z"
   },
   {
    "duration": 3,
    "start_time": "2022-02-13T18:16:47.692Z"
   },
   {
    "duration": 10,
    "start_time": "2022-02-13T18:16:47.696Z"
   },
   {
    "duration": 10,
    "start_time": "2022-02-13T18:16:47.726Z"
   },
   {
    "duration": 11,
    "start_time": "2022-02-13T18:16:47.737Z"
   },
   {
    "duration": 10,
    "start_time": "2022-02-13T18:16:47.750Z"
   },
   {
    "duration": 4,
    "start_time": "2022-02-13T18:16:47.761Z"
   },
   {
    "duration": 13,
    "start_time": "2022-02-13T18:16:47.767Z"
   },
   {
    "duration": 3,
    "start_time": "2022-02-13T18:16:47.781Z"
   },
   {
    "duration": 2,
    "start_time": "2022-02-13T18:16:47.787Z"
   },
   {
    "duration": 88,
    "start_time": "2022-02-13T18:16:47.792Z"
   },
   {
    "duration": 6,
    "start_time": "2022-02-13T18:16:47.881Z"
   },
   {
    "duration": 12,
    "start_time": "2022-02-13T18:16:47.889Z"
   },
   {
    "duration": 8,
    "start_time": "2022-02-13T18:16:47.902Z"
   },
   {
    "duration": 4,
    "start_time": "2022-02-13T18:16:47.927Z"
   },
   {
    "duration": 6,
    "start_time": "2022-02-13T18:16:47.932Z"
   },
   {
    "duration": 91,
    "start_time": "2022-02-13T18:16:47.939Z"
   },
   {
    "duration": 6,
    "start_time": "2022-02-13T18:16:48.032Z"
   },
   {
    "duration": 4,
    "start_time": "2022-02-13T18:16:48.040Z"
   },
   {
    "duration": 8,
    "start_time": "2022-02-13T18:16:48.045Z"
   },
   {
    "duration": 4,
    "start_time": "2022-02-13T18:16:48.054Z"
   },
   {
    "duration": 733,
    "start_time": "2022-02-13T18:17:59.619Z"
   },
   {
    "duration": 132,
    "start_time": "2022-02-13T18:18:00.354Z"
   },
   {
    "duration": 16,
    "start_time": "2022-02-13T18:18:00.487Z"
   },
   {
    "duration": 34,
    "start_time": "2022-02-13T18:18:00.505Z"
   },
   {
    "duration": 4,
    "start_time": "2022-02-13T18:18:00.541Z"
   },
   {
    "duration": 22,
    "start_time": "2022-02-13T18:18:00.546Z"
   },
   {
    "duration": 4,
    "start_time": "2022-02-13T18:18:00.569Z"
   },
   {
    "duration": 27,
    "start_time": "2022-02-13T18:18:00.575Z"
   },
   {
    "duration": 33,
    "start_time": "2022-02-13T18:18:00.604Z"
   },
   {
    "duration": 20,
    "start_time": "2022-02-13T18:18:00.639Z"
   },
   {
    "duration": 68,
    "start_time": "2022-02-13T18:18:00.660Z"
   },
   {
    "duration": 61,
    "start_time": "2022-02-13T18:18:00.730Z"
   },
   {
    "duration": 63,
    "start_time": "2022-02-13T18:18:00.793Z"
   },
   {
    "duration": 40,
    "start_time": "2022-02-13T18:18:00.857Z"
   },
   {
    "duration": 9,
    "start_time": "2022-02-13T18:18:00.898Z"
   },
   {
    "duration": 19,
    "start_time": "2022-02-13T18:18:00.908Z"
   },
   {
    "duration": 17,
    "start_time": "2022-02-13T18:18:00.929Z"
   },
   {
    "duration": 14,
    "start_time": "2022-02-13T18:18:00.948Z"
   },
   {
    "duration": 10,
    "start_time": "2022-02-13T18:18:00.963Z"
   },
   {
    "duration": 5,
    "start_time": "2022-02-13T18:18:00.975Z"
   },
   {
    "duration": 11,
    "start_time": "2022-02-13T18:18:00.981Z"
   },
   {
    "duration": 6,
    "start_time": "2022-02-13T18:18:00.993Z"
   },
   {
    "duration": 9,
    "start_time": "2022-02-13T18:18:01.002Z"
   },
   {
    "duration": 73,
    "start_time": "2022-02-13T18:18:01.012Z"
   },
   {
    "duration": 6,
    "start_time": "2022-02-13T18:18:01.087Z"
   },
   {
    "duration": 12,
    "start_time": "2022-02-13T18:18:01.095Z"
   },
   {
    "duration": 25,
    "start_time": "2022-02-13T18:18:01.108Z"
   },
   {
    "duration": 4,
    "start_time": "2022-02-13T18:18:01.135Z"
   },
   {
    "duration": 11,
    "start_time": "2022-02-13T18:18:01.140Z"
   },
   {
    "duration": 105,
    "start_time": "2022-02-13T18:18:01.153Z"
   },
   {
    "duration": 7,
    "start_time": "2022-02-13T18:18:01.260Z"
   },
   {
    "duration": 5,
    "start_time": "2022-02-13T18:18:01.268Z"
   },
   {
    "duration": 13,
    "start_time": "2022-02-13T18:18:01.275Z"
   },
   {
    "duration": 11,
    "start_time": "2022-02-13T18:18:01.290Z"
   }
  ],
  "colab": {
   "collapsed_sections": [
    "E0vqbgi9ay0H",
    "VUC88oWjTJw2"
   ],
   "name": "yandex_music_project_2021.2.ipynb",
   "provenance": []
  },
  "kernelspec": {
   "display_name": "Python 3 (ipykernel)",
   "language": "python",
   "name": "python3"
  },
  "language_info": {
   "codemirror_mode": {
    "name": "ipython",
    "version": 3
   },
   "file_extension": ".py",
   "mimetype": "text/x-python",
   "name": "python",
   "nbconvert_exporter": "python",
   "pygments_lexer": "ipython3",
   "version": "3.9.7"
  },
  "toc": {
   "base_numbering": 1,
   "nav_menu": {},
   "number_sections": true,
   "sideBar": true,
   "skip_h1_title": true,
   "title_cell": "Table of Contents",
   "title_sidebar": "Contents",
   "toc_cell": false,
   "toc_position": {
    "height": "calc(100% - 180px)",
    "left": "10px",
    "top": "150px",
    "width": "429.112px"
   },
   "toc_section_display": true,
   "toc_window_display": true
  }
 },
 "nbformat": 4,
 "nbformat_minor": 1
}

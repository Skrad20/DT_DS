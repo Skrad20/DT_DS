{
 "cells": [
  {
   "cell_type": "markdown",
   "metadata": {},
   "source": [
    "# Аналитика тарифов мегалайн\n",
    "\n",
    "«Мегалайн» — федеральный оператор сотовой связи. \n",
    "Клиентам предлагают два тарифных плана: \n",
    "* «Смарт» \n",
    "* «Ультра». \n",
    "\n",
    "Чтобы скорректировать рекламный бюджет, коммерческому департаменту нужно понять, какой тариф приносит больше денег.\n",
    "Необходимо сделать предварительный анализ тарифов на небольшой выборке клиентов. \n",
    "\n",
    "Имеются данные 500 пользователей «Мегалайна»: кто они, откуда, каким тарифом пользуются, сколько звонков и сообщений каждый отправил за 2018 год. Нужно проанализировать поведение клиентов и сделать вывод — какой тариф лучше.\n",
    "\n",
    "Описание тарифов\n",
    "Тариф «Смарт»\n",
    "\n",
    "    Ежемесячная плата: 550 рублей\n",
    "    Включено 500 минут разговора, 50 сообщений и 15 Гб интернет-трафика\n",
    "    Стоимость услуг сверх тарифного пакета:\n",
    "        минута разговора: 3 рубля\n",
    "        сообщение: 3 рубля\n",
    "        1 Гб интернет-трафика: 200 рублей\n",
    "\n",
    "Тариф «Ультра»\n",
    "\n",
    "    Ежемесячная плата: 1950 рублей\n",
    "    Включено 3000 минут разговора, 1000 сообщений и 30 Гб интернет-трафика\n",
    "    Стоимость услуг сверх тарифного пакета:\n",
    "        минута разговора: 1 рубль\n",
    "        сообщение: 1 рубль\n",
    "        1 Гб интернет-трафика: 150 рублей\n",
    "\n",
    "Примечание:\n",
    "«Мегалайн» всегда округляет секунды до минут, а мегабайты — до гигабайт. Каждый звонок округляется отдельно: даже если он длился всего 1 секунду, будет засчитан как 1 минута.\n",
    "Для веб-трафика отдельные сессии не считаются. Вместо этого общая сумма за месяц округляется в бо́льшую сторону. Если абонент использует 1025 мегабайт в этом месяце, с него возьмут плату за 2 гигабайта.\n",
    "\n",
    "\n",
    "План работы:\n",
    "\n",
    "Шаг 1. Подготовка данных и расчёты\n",
    "\n",
    "Расчитать:\n",
    "*    количество сделанных звонков и израсходованных минут разговора по месяцам;\n",
    "*    количество отправленных сообщений по месяцам;\n",
    "*    объем израсходованного интернет-трафика по месяцам;\n",
    "*    помесячную выручку с каждого пользователя.\n",
    "\n",
    "Шаг 2. Проанализировать данные\n",
    "\n",
    "Описание поведения клиентов оператора, исходя из выборки. Сколько минут разговора, сколько сообщений и какой объём интернет-трафика требуется пользователям каждого тарифа в месяц? Расчитать среднее количество, дисперсию и стандартное отклонение.\n",
    "\n",
    "Шаг 3. Проверка гипотез\n",
    "\n",
    "*    средняя выручка пользователей тарифов «Ультра» и «Смарт» различаются;\n",
    "*    средняя выручка пользователей из Москвы отличается от выручки пользователей из других регионов.\n",
    "\n",
    "Шаг 5. Заключерние"
   ]
  },
  {
   "cell_type": "markdown",
   "metadata": {},
   "source": [
    "##  Импорт библиотек и константы"
   ]
  },
  {
   "cell_type": "code",
   "execution_count": 1,
   "metadata": {},
   "outputs": [],
   "source": [
    "import pandas as pd\n",
    "import numpy as np\n",
    "import seaborn as sns\n",
    "import matplotlib.pyplot as plt\n",
    "from scipy import stats as st\n",
    "from typing import Final\n",
    "import matplotlib as mpl\n",
    "import warnings\n",
    "\n",
    "warnings.filterwarnings(\"ignore\")"
   ]
  },
  {
   "cell_type": "code",
   "execution_count": 2,
   "metadata": {},
   "outputs": [],
   "source": [
    "plt.rcParams['font.size'] = 14\n",
    "ALPHA: Final = 0.05"
   ]
  },
  {
   "cell_type": "markdown",
   "metadata": {},
   "source": [
    "## Функции и их тестирование"
   ]
  },
  {
   "cell_type": "markdown",
   "metadata": {},
   "source": [
    "### Функция для расчёта суммы прибыли"
   ]
  },
  {
   "cell_type": "code",
   "execution_count": 3,
   "metadata": {},
   "outputs": [],
   "source": [
    "def calculating_amount_of_profit(\n",
    "    row: pd.Series,\n",
    "    tariff: pd.DataFrame\n",
    "):\n",
    "    \"\"\"\n",
    "    Расчитывает прибыль с каждого пользователя, \n",
    "    агрегируя данные из датасета с тарифами и \n",
    "    затратами клиента.\n",
    "    \"\"\"\n",
    "    name_tarif = row['tariff']\n",
    "    excess_minutes = row['counts_minutes'] - tariff.loc[name_tarif, 'minutes_included']\n",
    "    if excess_minutes < 0:\n",
    "        excess_minutes = 0\n",
    "    excess_messsange = row['counts_message'] - tariff.loc[name_tarif, 'messages_included']\n",
    "    if excess_messsange < 0:\n",
    "        excess_messsange = 0\n",
    "    excess_gb = row['counts_gb_used'] - tariff.loc[name_tarif, 'gb_per_month_included']\n",
    "    if excess_gb < 0:\n",
    "        excess_gb = 0\n",
    "    sum_res = (\n",
    "        tariff.loc[name_tarif, 'rub_monthly_fee'] + \n",
    "        excess_minutes * tariff.loc[name_tarif, 'rub_per_minute'] +\n",
    "        excess_messsange * tariff.loc[name_tarif, 'rub_per_message'] +\n",
    "        excess_gb * tariff.loc[name_tarif, 'rub_per_gb']\n",
    "    )\n",
    "    return sum_res"
   ]
  },
  {
   "cell_type": "code",
   "execution_count": 4,
   "metadata": {},
   "outputs": [],
   "source": [
    "test_row = pd.DataFrame(\n",
    "    data={\n",
    "        \"tariff\": \"smart\",\n",
    "        \"counts_minutes\": {1:400, 2: 555, 3: 15},\n",
    "        \"counts_message\": {1:20, 2: 20, 3:50000},\n",
    "        \"counts_gb_used\": {1:36, 2:2 ,3:1}\n",
    "    }\n",
    ")"
   ]
  },
  {
   "cell_type": "code",
   "execution_count": 5,
   "metadata": {},
   "outputs": [],
   "source": [
    "test_tariff = pd.DataFrame(\n",
    "    data={'messages_included': {'smart': 50, 'ultra': 1000},\n",
    "     'mb_per_month_included': {'smart': 15360, 'ultra': 30720},\n",
    "     'minutes_included': {'smart': 500, 'ultra': 3000},\n",
    "     'rub_monthly_fee': {'smart': 550, 'ultra': 1950},\n",
    "     'rub_per_gb': {'smart': 200, 'ultra': 150},\n",
    "     'rub_per_message': {'smart': 3, 'ultra': 1},\n",
    "     'rub_per_minute': {'smart': 3, 'ultra': 1},\n",
    "     'gb_per_month_included': {'smart': 15.0, 'ultra': 30.0}}\n",
    "    \n",
    ")"
   ]
  },
  {
   "cell_type": "code",
   "execution_count": 6,
   "metadata": {
    "scrolled": true
   },
   "outputs": [
    {
     "data": {
      "text/plain": [
       "1      4750.0\n",
       "2       715.0\n",
       "3    150400.0\n",
       "dtype: float64"
      ]
     },
     "execution_count": 6,
     "metadata": {},
     "output_type": "execute_result"
    }
   ],
   "source": [
    "answer_func = test_row.apply(\n",
    "    calculating_amount_of_profit,\n",
    "    axis=1,\n",
    "    tariff=test_tariff\n",
    ")\n",
    "answer_func"
   ]
  },
  {
   "cell_type": "markdown",
   "metadata": {},
   "source": [
    "Расчитаем вручную, абоненская плата плюс перерерасходы"
   ]
  },
  {
   "cell_type": "code",
   "execution_count": 7,
   "metadata": {},
   "outputs": [
    {
     "data": {
      "text/plain": [
       "1      4750\n",
       "2       715\n",
       "3    150400\n",
       "dtype: int64"
      ]
     },
     "execution_count": 7,
     "metadata": {},
     "output_type": "execute_result"
    }
   ],
   "source": [
    "test_answer = pd.Series(\n",
    "    data={\n",
    "        1: 550 + (36-15)*200,\n",
    "        2: 550 + (555-500)*3,\n",
    "        3: 550 + (50000-50)*3\n",
    "    }\n",
    ")\n",
    "test_answer"
   ]
  },
  {
   "cell_type": "code",
   "execution_count": 8,
   "metadata": {},
   "outputs": [
    {
     "data": {
      "text/plain": [
       "1    True\n",
       "2    True\n",
       "3    True\n",
       "dtype: bool"
      ]
     },
     "execution_count": 8,
     "metadata": {},
     "output_type": "execute_result"
    }
   ],
   "source": [
    "answer_func == test_answer"
   ]
  },
  {
   "cell_type": "markdown",
   "metadata": {},
   "source": [
    "Тест успешен"
   ]
  },
  {
   "cell_type": "markdown",
   "metadata": {},
   "source": [
    "## Загрузка данных"
   ]
  },
  {
   "cell_type": "markdown",
   "metadata": {},
   "source": [
    "### Импорт данных по звонкам\n",
    "    id — уникальный номер звонка\n",
    "    call_date — дата звонка\n",
    "    duration — длительность звонка в минутах\n",
    "    user_id — идентификатор пользователя, сделавшего звонок"
   ]
  },
  {
   "cell_type": "code",
   "execution_count": 9,
   "metadata": {},
   "outputs": [],
   "source": [
    "calls = pd.read_csv(\"/datasets/calls.csv\")"
   ]
  },
  {
   "cell_type": "markdown",
   "metadata": {},
   "source": [
    "Посмотрим на данные"
   ]
  },
  {
   "cell_type": "code",
   "execution_count": 10,
   "metadata": {},
   "outputs": [
    {
     "data": {
      "text/html": [
       "<div>\n",
       "<style scoped>\n",
       "    .dataframe tbody tr th:only-of-type {\n",
       "        vertical-align: middle;\n",
       "    }\n",
       "\n",
       "    .dataframe tbody tr th {\n",
       "        vertical-align: top;\n",
       "    }\n",
       "\n",
       "    .dataframe thead th {\n",
       "        text-align: right;\n",
       "    }\n",
       "</style>\n",
       "<table border=\"1\" class=\"dataframe\">\n",
       "  <thead>\n",
       "    <tr style=\"text-align: right;\">\n",
       "      <th></th>\n",
       "      <th>id</th>\n",
       "      <th>call_date</th>\n",
       "      <th>duration</th>\n",
       "      <th>user_id</th>\n",
       "    </tr>\n",
       "  </thead>\n",
       "  <tbody>\n",
       "    <tr>\n",
       "      <th>0</th>\n",
       "      <td>1000_0</td>\n",
       "      <td>2018-07-25</td>\n",
       "      <td>0.00</td>\n",
       "      <td>1000</td>\n",
       "    </tr>\n",
       "    <tr>\n",
       "      <th>1</th>\n",
       "      <td>1000_1</td>\n",
       "      <td>2018-08-17</td>\n",
       "      <td>0.00</td>\n",
       "      <td>1000</td>\n",
       "    </tr>\n",
       "    <tr>\n",
       "      <th>2</th>\n",
       "      <td>1000_2</td>\n",
       "      <td>2018-06-11</td>\n",
       "      <td>2.85</td>\n",
       "      <td>1000</td>\n",
       "    </tr>\n",
       "    <tr>\n",
       "      <th>3</th>\n",
       "      <td>1000_3</td>\n",
       "      <td>2018-09-21</td>\n",
       "      <td>13.80</td>\n",
       "      <td>1000</td>\n",
       "    </tr>\n",
       "    <tr>\n",
       "      <th>4</th>\n",
       "      <td>1000_4</td>\n",
       "      <td>2018-12-15</td>\n",
       "      <td>5.18</td>\n",
       "      <td>1000</td>\n",
       "    </tr>\n",
       "  </tbody>\n",
       "</table>\n",
       "</div>"
      ],
      "text/plain": [
       "       id   call_date  duration  user_id\n",
       "0  1000_0  2018-07-25      0.00     1000\n",
       "1  1000_1  2018-08-17      0.00     1000\n",
       "2  1000_2  2018-06-11      2.85     1000\n",
       "3  1000_3  2018-09-21     13.80     1000\n",
       "4  1000_4  2018-12-15      5.18     1000"
      ]
     },
     "execution_count": 10,
     "metadata": {},
     "output_type": "execute_result"
    }
   ],
   "source": [
    "calls.head()"
   ]
  },
  {
   "cell_type": "markdown",
   "metadata": {},
   "source": [
    "Открылись правильно. Посмотрим на общую информацию"
   ]
  },
  {
   "cell_type": "code",
   "execution_count": 11,
   "metadata": {},
   "outputs": [
    {
     "name": "stdout",
     "output_type": "stream",
     "text": [
      "<class 'pandas.core.frame.DataFrame'>\n",
      "RangeIndex: 202607 entries, 0 to 202606\n",
      "Data columns (total 4 columns):\n",
      " #   Column     Non-Null Count   Dtype  \n",
      "---  ------     --------------   -----  \n",
      " 0   id         202607 non-null  object \n",
      " 1   call_date  202607 non-null  object \n",
      " 2   duration   202607 non-null  float64\n",
      " 3   user_id    202607 non-null  int64  \n",
      "dtypes: float64(1), int64(1), object(2)\n",
      "memory usage: 6.2+ MB\n"
     ]
    }
   ],
   "source": [
    "calls.info()"
   ]
  },
  {
   "cell_type": "markdown",
   "metadata": {},
   "source": [
    "Всего в данных 200 тыс. строк. Пропущенных значений нет. Тип данных не соответствует только в дате звонка. Посмотрим аномалии и повторы в данных."
   ]
  },
  {
   "cell_type": "code",
   "execution_count": 12,
   "metadata": {},
   "outputs": [
    {
     "data": {
      "text/plain": [
       "0"
      ]
     },
     "execution_count": 12,
     "metadata": {},
     "output_type": "execute_result"
    }
   ],
   "source": [
    "calls.duplicated().sum()"
   ]
  },
  {
   "cell_type": "markdown",
   "metadata": {},
   "source": [
    "Повторы не обнаружены"
   ]
  },
  {
   "cell_type": "code",
   "execution_count": 13,
   "metadata": {},
   "outputs": [
    {
     "data": {
      "text/plain": [
       "count    202607.000000\n",
       "mean          6.755887\n",
       "std           5.843365\n",
       "min           0.000000\n",
       "25%           1.300000\n",
       "50%           6.000000\n",
       "75%          10.700000\n",
       "max          38.000000\n",
       "Name: duration, dtype: float64"
      ]
     },
     "execution_count": 13,
     "metadata": {},
     "output_type": "execute_result"
    }
   ],
   "source": [
    "calls['duration'].describe()"
   ]
  },
  {
   "cell_type": "code",
   "execution_count": 14,
   "metadata": {},
   "outputs": [
    {
     "data": {
      "image/png": "[encoded data removed]",
      "text/plain": [
       "<Figure size 576x576 with 1 Axes>"
      ]
     },
     "metadata": {
      "needs_background": "light"
     },
     "output_type": "display_data"
    }
   ],
   "source": [
    "fig = plt.figure(figsize = (8, 8))\n",
    "\n",
    "ax = sns.histplot(\n",
    "    data=calls, x=\"duration\",\n",
    "    element=\"step\", stat=\"density\",\n",
    ")\n",
    "ax.set_xlabel('Трафик, мб')\n",
    "ax.set_ylabel('Частота')\n",
    "ax.set_title('Распределение количества потраченных минут')\n",
    "plt.show()"
   ]
  },
  {
   "cell_type": "markdown",
   "metadata": {},
   "source": [
    "Данные распределены адекватно. Значительная доля значений равных нулю, говорит о пропущенных звонках (из описания данных). Эти данные могут пригодится для расчёта успешных звонков."
   ]
  },
  {
   "cell_type": "markdown",
   "metadata": {},
   "source": [
    "Что необходимо поправить:\n",
    "* привести типы данных в столбцах датах звонка"
   ]
  },
  {
   "cell_type": "markdown",
   "metadata": {},
   "source": [
    "### Импорт данных по интернету\n",
    "    id — уникальный номер сессии\n",
    "    mb_used — объём потраченного за сессию интернет-трафика (в мегабайтах)\n",
    "    session_date — дата интернет-сессии\n",
    "    user_id — идентификатор пользователя\n"
   ]
  },
  {
   "cell_type": "code",
   "execution_count": 15,
   "metadata": {},
   "outputs": [],
   "source": [
    "internet = pd.read_csv(\"/datasets/internet.csv\", index_col=0)"
   ]
  },
  {
   "cell_type": "markdown",
   "metadata": {},
   "source": [
    "Посмотрим на данные"
   ]
  },
  {
   "cell_type": "code",
   "execution_count": 16,
   "metadata": {},
   "outputs": [
    {
     "data": {
      "text/html": [
       "<div>\n",
       "<style scoped>\n",
       "    .dataframe tbody tr th:only-of-type {\n",
       "        vertical-align: middle;\n",
       "    }\n",
       "\n",
       "    .dataframe tbody tr th {\n",
       "        vertical-align: top;\n",
       "    }\n",
       "\n",
       "    .dataframe thead th {\n",
       "        text-align: right;\n",
       "    }\n",
       "</style>\n",
       "<table border=\"1\" class=\"dataframe\">\n",
       "  <thead>\n",
       "    <tr style=\"text-align: right;\">\n",
       "      <th></th>\n",
       "      <th>id</th>\n",
       "      <th>mb_used</th>\n",
       "      <th>session_date</th>\n",
       "      <th>user_id</th>\n",
       "    </tr>\n",
       "  </thead>\n",
       "  <tbody>\n",
       "    <tr>\n",
       "      <th>0</th>\n",
       "      <td>1000_0</td>\n",
       "      <td>112.95</td>\n",
       "      <td>2018-11-25</td>\n",
       "      <td>1000</td>\n",
       "    </tr>\n",
       "    <tr>\n",
       "      <th>1</th>\n",
       "      <td>1000_1</td>\n",
       "      <td>1052.81</td>\n",
       "      <td>2018-09-07</td>\n",
       "      <td>1000</td>\n",
       "    </tr>\n",
       "    <tr>\n",
       "      <th>2</th>\n",
       "      <td>1000_2</td>\n",
       "      <td>1197.26</td>\n",
       "      <td>2018-06-25</td>\n",
       "      <td>1000</td>\n",
       "    </tr>\n",
       "    <tr>\n",
       "      <th>3</th>\n",
       "      <td>1000_3</td>\n",
       "      <td>550.27</td>\n",
       "      <td>2018-08-22</td>\n",
       "      <td>1000</td>\n",
       "    </tr>\n",
       "    <tr>\n",
       "      <th>4</th>\n",
       "      <td>1000_4</td>\n",
       "      <td>302.56</td>\n",
       "      <td>2018-09-24</td>\n",
       "      <td>1000</td>\n",
       "    </tr>\n",
       "  </tbody>\n",
       "</table>\n",
       "</div>"
      ],
      "text/plain": [
       "       id  mb_used session_date  user_id\n",
       "0  1000_0   112.95   2018-11-25     1000\n",
       "1  1000_1  1052.81   2018-09-07     1000\n",
       "2  1000_2  1197.26   2018-06-25     1000\n",
       "3  1000_3   550.27   2018-08-22     1000\n",
       "4  1000_4   302.56   2018-09-24     1000"
      ]
     },
     "execution_count": 16,
     "metadata": {},
     "output_type": "execute_result"
    }
   ],
   "source": [
    "internet.head()"
   ]
  },
  {
   "cell_type": "markdown",
   "metadata": {},
   "source": [
    "Открылись правильно. Посмотрим на общую информацию"
   ]
  },
  {
   "cell_type": "code",
   "execution_count": 17,
   "metadata": {},
   "outputs": [
    {
     "name": "stdout",
     "output_type": "stream",
     "text": [
      "<class 'pandas.core.frame.DataFrame'>\n",
      "Int64Index: 149396 entries, 0 to 149395\n",
      "Data columns (total 4 columns):\n",
      " #   Column        Non-Null Count   Dtype  \n",
      "---  ------        --------------   -----  \n",
      " 0   id            149396 non-null  object \n",
      " 1   mb_used       149396 non-null  float64\n",
      " 2   session_date  149396 non-null  object \n",
      " 3   user_id       149396 non-null  int64  \n",
      "dtypes: float64(1), int64(1), object(2)\n",
      "memory usage: 5.7+ MB\n"
     ]
    }
   ],
   "source": [
    "internet.info()"
   ]
  },
  {
   "cell_type": "markdown",
   "metadata": {},
   "source": [
    "Всего в данных 150 тыс. строк. Пропущенных значений нет. Тип данных не соответствует только в дате сессии. Посмотрим аномалии и повторы в данных."
   ]
  },
  {
   "cell_type": "code",
   "execution_count": 18,
   "metadata": {},
   "outputs": [
    {
     "data": {
      "text/plain": [
       "0"
      ]
     },
     "execution_count": 18,
     "metadata": {},
     "output_type": "execute_result"
    }
   ],
   "source": [
    "internet.duplicated().sum()"
   ]
  },
  {
   "cell_type": "markdown",
   "metadata": {},
   "source": [
    "Повторы не обнаружены"
   ]
  },
  {
   "cell_type": "code",
   "execution_count": 19,
   "metadata": {},
   "outputs": [
    {
     "data": {
      "text/plain": [
       "count    149396.000000\n",
       "mean        370.192426\n",
       "std         278.300951\n",
       "min           0.000000\n",
       "25%         138.187500\n",
       "50%         348.015000\n",
       "75%         559.552500\n",
       "max        1724.830000\n",
       "Name: mb_used, dtype: float64"
      ]
     },
     "execution_count": 19,
     "metadata": {},
     "output_type": "execute_result"
    }
   ],
   "source": [
    "internet['mb_used'].describe()"
   ]
  },
  {
   "cell_type": "code",
   "execution_count": 20,
   "metadata": {},
   "outputs": [
    {
     "data": {
      "image/png": "[encoded data removed]",
      "text/plain": [
       "<Figure size 576x576 with 1 Axes>"
      ]
     },
     "metadata": {
      "needs_background": "light"
     },
     "output_type": "display_data"
    }
   ],
   "source": [
    "fig = plt.figure(figsize = (8, 8))\n",
    "\n",
    "ax = sns.histplot(\n",
    "    data=internet, x=\"mb_used\",\n",
    "    element=\"step\", stat=\"density\",\n",
    ")\n",
    "ax.set_xlabel('Трафик, мб')\n",
    "ax.set_ylabel('Частота')\n",
    "ax.set_title('Распределение количества потраченных мб')\n",
    "plt.show()"
   ]
  },
  {
   "cell_type": "markdown",
   "metadata": {},
   "source": [
    "Данные по трафику распределены адекватно. Значительная доля минимальных значения равных нулю, вероятно говорит о несостоявшемся подключении. И таких данных очень большое количество. Они не повлияют на расчёт затрат клиета. "
   ]
  },
  {
   "cell_type": "markdown",
   "metadata": {},
   "source": [
    "Что необходимо поправить:\n",
    "* привести типы данных в столбцах даты сессии"
   ]
  },
  {
   "cell_type": "markdown",
   "metadata": {},
   "source": [
    "### Импорт данных по сообщениям\n",
    "    id — уникальный номер сообщения\n",
    "    message_date — дата сообщения\n",
    "    user_id — идентификатор пользователя, отправившего сообщение"
   ]
  },
  {
   "cell_type": "code",
   "execution_count": 21,
   "metadata": {},
   "outputs": [],
   "source": [
    "messages = pd.read_csv(\"/datasets/messages.csv\")"
   ]
  },
  {
   "cell_type": "markdown",
   "metadata": {},
   "source": [
    "Посмотрим на данные"
   ]
  },
  {
   "cell_type": "code",
   "execution_count": 22,
   "metadata": {},
   "outputs": [
    {
     "data": {
      "text/html": [
       "<div>\n",
       "<style scoped>\n",
       "    .dataframe tbody tr th:only-of-type {\n",
       "        vertical-align: middle;\n",
       "    }\n",
       "\n",
       "    .dataframe tbody tr th {\n",
       "        vertical-align: top;\n",
       "    }\n",
       "\n",
       "    .dataframe thead th {\n",
       "        text-align: right;\n",
       "    }\n",
       "</style>\n",
       "<table border=\"1\" class=\"dataframe\">\n",
       "  <thead>\n",
       "    <tr style=\"text-align: right;\">\n",
       "      <th></th>\n",
       "      <th>id</th>\n",
       "      <th>message_date</th>\n",
       "      <th>user_id</th>\n",
       "    </tr>\n",
       "  </thead>\n",
       "  <tbody>\n",
       "    <tr>\n",
       "      <th>0</th>\n",
       "      <td>1000_0</td>\n",
       "      <td>2018-06-27</td>\n",
       "      <td>1000</td>\n",
       "    </tr>\n",
       "    <tr>\n",
       "      <th>1</th>\n",
       "      <td>1000_1</td>\n",
       "      <td>2018-10-08</td>\n",
       "      <td>1000</td>\n",
       "    </tr>\n",
       "    <tr>\n",
       "      <th>2</th>\n",
       "      <td>1000_2</td>\n",
       "      <td>2018-08-04</td>\n",
       "      <td>1000</td>\n",
       "    </tr>\n",
       "    <tr>\n",
       "      <th>3</th>\n",
       "      <td>1000_3</td>\n",
       "      <td>2018-06-16</td>\n",
       "      <td>1000</td>\n",
       "    </tr>\n",
       "    <tr>\n",
       "      <th>4</th>\n",
       "      <td>1000_4</td>\n",
       "      <td>2018-12-05</td>\n",
       "      <td>1000</td>\n",
       "    </tr>\n",
       "  </tbody>\n",
       "</table>\n",
       "</div>"
      ],
      "text/plain": [
       "       id message_date  user_id\n",
       "0  1000_0   2018-06-27     1000\n",
       "1  1000_1   2018-10-08     1000\n",
       "2  1000_2   2018-08-04     1000\n",
       "3  1000_3   2018-06-16     1000\n",
       "4  1000_4   2018-12-05     1000"
      ]
     },
     "execution_count": 22,
     "metadata": {},
     "output_type": "execute_result"
    }
   ],
   "source": [
    "messages.head()"
   ]
  },
  {
   "cell_type": "markdown",
   "metadata": {},
   "source": [
    "Открылись правильно. Посмотрим на общую информацию"
   ]
  },
  {
   "cell_type": "code",
   "execution_count": 23,
   "metadata": {},
   "outputs": [
    {
     "name": "stdout",
     "output_type": "stream",
     "text": [
      "<class 'pandas.core.frame.DataFrame'>\n",
      "RangeIndex: 123036 entries, 0 to 123035\n",
      "Data columns (total 3 columns):\n",
      " #   Column        Non-Null Count   Dtype \n",
      "---  ------        --------------   ----- \n",
      " 0   id            123036 non-null  object\n",
      " 1   message_date  123036 non-null  object\n",
      " 2   user_id       123036 non-null  int64 \n",
      "dtypes: int64(1), object(2)\n",
      "memory usage: 2.8+ MB\n"
     ]
    }
   ],
   "source": [
    "messages.info()"
   ]
  },
  {
   "cell_type": "markdown",
   "metadata": {},
   "source": [
    "Всего в данных 123 тыс. строк. Пропущенных значений нет. Тип данных не соответствует только в дате отправки сообщений. Посмотрим повторы в данных."
   ]
  },
  {
   "cell_type": "code",
   "execution_count": 24,
   "metadata": {},
   "outputs": [
    {
     "data": {
      "text/plain": [
       "0"
      ]
     },
     "execution_count": 24,
     "metadata": {},
     "output_type": "execute_result"
    }
   ],
   "source": [
    "messages.duplicated().sum()"
   ]
  },
  {
   "cell_type": "markdown",
   "metadata": {},
   "source": [
    "Повторы не обнаружены"
   ]
  },
  {
   "cell_type": "markdown",
   "metadata": {},
   "source": [
    "Что необходимо поправить:\n",
    "* привести типы данных в столбцах даты отправки сообщения"
   ]
  },
  {
   "cell_type": "markdown",
   "metadata": {},
   "source": [
    "### Импорт данных по тарифу\n",
    "    tariff_name — название тарифа\n",
    "    rub_monthly_fee — ежемесячная абонентская плата в рублях\n",
    "    minutes_included — количество минут разговора в месяц, включённых в абонентскую плату\n",
    "    messages_included — количество сообщений в месяц, включённых в абонентскую плату\n",
    "    mb_per_month_included — объём интернет-трафика, включённого в абонентскую плату (в мегабайтах)\n",
    "    rub_per_minute — стоимость минуты разговора сверх тарифного пакета (например, если в тарифе 100 минут разговора в месяц, то со 101 минуты будет взиматься плата)\n",
    "    rub_per_message — стоимость отправки сообщения сверх тарифного пакета\n",
    "    rub_per_gb — стоимость дополнительного гигабайта интернет-трафика сверх тарифного пакета (1 гигабайт = 1024 мегабайта)"
   ]
  },
  {
   "cell_type": "code",
   "execution_count": 25,
   "metadata": {},
   "outputs": [],
   "source": [
    "tariffs = pd.read_csv(\"/datasets/tariffs.csv\")"
   ]
  },
  {
   "cell_type": "markdown",
   "metadata": {},
   "source": [
    "Посмотрим на данные"
   ]
  },
  {
   "cell_type": "code",
   "execution_count": 26,
   "metadata": {},
   "outputs": [
    {
     "data": {
      "text/html": [
       "<div>\n",
       "<style scoped>\n",
       "    .dataframe tbody tr th:only-of-type {\n",
       "        vertical-align: middle;\n",
       "    }\n",
       "\n",
       "    .dataframe tbody tr th {\n",
       "        vertical-align: top;\n",
       "    }\n",
       "\n",
       "    .dataframe thead th {\n",
       "        text-align: right;\n",
       "    }\n",
       "</style>\n",
       "<table border=\"1\" class=\"dataframe\">\n",
       "  <thead>\n",
       "    <tr style=\"text-align: right;\">\n",
       "      <th></th>\n",
       "      <th>messages_included</th>\n",
       "      <th>mb_per_month_included</th>\n",
       "      <th>minutes_included</th>\n",
       "      <th>rub_monthly_fee</th>\n",
       "      <th>rub_per_gb</th>\n",
       "      <th>rub_per_message</th>\n",
       "      <th>rub_per_minute</th>\n",
       "      <th>tariff_name</th>\n",
       "    </tr>\n",
       "  </thead>\n",
       "  <tbody>\n",
       "    <tr>\n",
       "      <th>0</th>\n",
       "      <td>50</td>\n",
       "      <td>15360</td>\n",
       "      <td>500</td>\n",
       "      <td>550</td>\n",
       "      <td>200</td>\n",
       "      <td>3</td>\n",
       "      <td>3</td>\n",
       "      <td>smart</td>\n",
       "    </tr>\n",
       "    <tr>\n",
       "      <th>1</th>\n",
       "      <td>1000</td>\n",
       "      <td>30720</td>\n",
       "      <td>3000</td>\n",
       "      <td>1950</td>\n",
       "      <td>150</td>\n",
       "      <td>1</td>\n",
       "      <td>1</td>\n",
       "      <td>ultra</td>\n",
       "    </tr>\n",
       "  </tbody>\n",
       "</table>\n",
       "</div>"
      ],
      "text/plain": [
       "   messages_included  mb_per_month_included  minutes_included  \\\n",
       "0                 50                  15360               500   \n",
       "1               1000                  30720              3000   \n",
       "\n",
       "   rub_monthly_fee  rub_per_gb  rub_per_message  rub_per_minute tariff_name  \n",
       "0              550         200                3               3       smart  \n",
       "1             1950         150                1               1       ultra  "
      ]
     },
     "execution_count": 26,
     "metadata": {},
     "output_type": "execute_result"
    }
   ],
   "source": [
    "tariffs.head()"
   ]
  },
  {
   "cell_type": "markdown",
   "metadata": {},
   "source": [
    "Открылись правильно. Посмотрим на общую информацию"
   ]
  },
  {
   "cell_type": "code",
   "execution_count": 27,
   "metadata": {},
   "outputs": [
    {
     "name": "stdout",
     "output_type": "stream",
     "text": [
      "<class 'pandas.core.frame.DataFrame'>\n",
      "RangeIndex: 2 entries, 0 to 1\n",
      "Data columns (total 8 columns):\n",
      " #   Column                 Non-Null Count  Dtype \n",
      "---  ------                 --------------  ----- \n",
      " 0   messages_included      2 non-null      int64 \n",
      " 1   mb_per_month_included  2 non-null      int64 \n",
      " 2   minutes_included       2 non-null      int64 \n",
      " 3   rub_monthly_fee        2 non-null      int64 \n",
      " 4   rub_per_gb             2 non-null      int64 \n",
      " 5   rub_per_message        2 non-null      int64 \n",
      " 6   rub_per_minute         2 non-null      int64 \n",
      " 7   tariff_name            2 non-null      object\n",
      "dtypes: int64(7), object(1)\n",
      "memory usage: 256.0+ bytes\n"
     ]
    }
   ],
   "source": [
    "tariffs.info()"
   ]
  },
  {
   "cell_type": "markdown",
   "metadata": {},
   "source": [
    "Пропусков нет. Типы данных указаны верно"
   ]
  },
  {
   "cell_type": "markdown",
   "metadata": {},
   "source": [
    "Ошибок в данных не обнаружено"
   ]
  },
  {
   "cell_type": "markdown",
   "metadata": {},
   "source": [
    "### Импорт данных по пользователям \n",
    "    user_id — уникальный идентификатор пользователя\n",
    "    first_name — имя пользователя\n",
    "    last_name — фамилия пользователя\n",
    "    age — возраст пользователя (годы)\n",
    "    reg_date — дата подключения тарифа (день, месяц, год)\n",
    "    churn_date — дата прекращения пользования тарифом (если значение пропущено, то тариф ещё действовал на момент выгрузки данных)\n",
    "    city — город проживания пользователя\n",
    "    tariff — название тарифного плана"
   ]
  },
  {
   "cell_type": "code",
   "execution_count": 28,
   "metadata": {},
   "outputs": [],
   "source": [
    "users = pd.read_csv(\"/datasets/users.csv\")"
   ]
  },
  {
   "cell_type": "markdown",
   "metadata": {},
   "source": [
    "Посмотрим на данные"
   ]
  },
  {
   "cell_type": "code",
   "execution_count": 29,
   "metadata": {},
   "outputs": [
    {
     "data": {
      "text/html": [
       "<div>\n",
       "<style scoped>\n",
       "    .dataframe tbody tr th:only-of-type {\n",
       "        vertical-align: middle;\n",
       "    }\n",
       "\n",
       "    .dataframe tbody tr th {\n",
       "        vertical-align: top;\n",
       "    }\n",
       "\n",
       "    .dataframe thead th {\n",
       "        text-align: right;\n",
       "    }\n",
       "</style>\n",
       "<table border=\"1\" class=\"dataframe\">\n",
       "  <thead>\n",
       "    <tr style=\"text-align: right;\">\n",
       "      <th></th>\n",
       "      <th>user_id</th>\n",
       "      <th>age</th>\n",
       "      <th>churn_date</th>\n",
       "      <th>city</th>\n",
       "      <th>first_name</th>\n",
       "      <th>last_name</th>\n",
       "      <th>reg_date</th>\n",
       "      <th>tariff</th>\n",
       "    </tr>\n",
       "  </thead>\n",
       "  <tbody>\n",
       "    <tr>\n",
       "      <th>0</th>\n",
       "      <td>1000</td>\n",
       "      <td>52</td>\n",
       "      <td>NaN</td>\n",
       "      <td>Краснодар</td>\n",
       "      <td>Рафаил</td>\n",
       "      <td>Верещагин</td>\n",
       "      <td>2018-05-25</td>\n",
       "      <td>ultra</td>\n",
       "    </tr>\n",
       "    <tr>\n",
       "      <th>1</th>\n",
       "      <td>1001</td>\n",
       "      <td>41</td>\n",
       "      <td>NaN</td>\n",
       "      <td>Москва</td>\n",
       "      <td>Иван</td>\n",
       "      <td>Ежов</td>\n",
       "      <td>2018-11-01</td>\n",
       "      <td>smart</td>\n",
       "    </tr>\n",
       "    <tr>\n",
       "      <th>2</th>\n",
       "      <td>1002</td>\n",
       "      <td>59</td>\n",
       "      <td>NaN</td>\n",
       "      <td>Стерлитамак</td>\n",
       "      <td>Евгений</td>\n",
       "      <td>Абрамович</td>\n",
       "      <td>2018-06-17</td>\n",
       "      <td>smart</td>\n",
       "    </tr>\n",
       "    <tr>\n",
       "      <th>3</th>\n",
       "      <td>1003</td>\n",
       "      <td>23</td>\n",
       "      <td>NaN</td>\n",
       "      <td>Москва</td>\n",
       "      <td>Белла</td>\n",
       "      <td>Белякова</td>\n",
       "      <td>2018-08-17</td>\n",
       "      <td>ultra</td>\n",
       "    </tr>\n",
       "    <tr>\n",
       "      <th>4</th>\n",
       "      <td>1004</td>\n",
       "      <td>68</td>\n",
       "      <td>NaN</td>\n",
       "      <td>Новокузнецк</td>\n",
       "      <td>Татьяна</td>\n",
       "      <td>Авдеенко</td>\n",
       "      <td>2018-05-14</td>\n",
       "      <td>ultra</td>\n",
       "    </tr>\n",
       "  </tbody>\n",
       "</table>\n",
       "</div>"
      ],
      "text/plain": [
       "   user_id  age churn_date         city first_name  last_name    reg_date  \\\n",
       "0     1000   52        NaN    Краснодар     Рафаил  Верещагин  2018-05-25   \n",
       "1     1001   41        NaN       Москва       Иван       Ежов  2018-11-01   \n",
       "2     1002   59        NaN  Стерлитамак    Евгений  Абрамович  2018-06-17   \n",
       "3     1003   23        NaN       Москва      Белла   Белякова  2018-08-17   \n",
       "4     1004   68        NaN  Новокузнецк    Татьяна   Авдеенко  2018-05-14   \n",
       "\n",
       "  tariff  \n",
       "0  ultra  \n",
       "1  smart  \n",
       "2  smart  \n",
       "3  ultra  \n",
       "4  ultra  "
      ]
     },
     "execution_count": 29,
     "metadata": {},
     "output_type": "execute_result"
    }
   ],
   "source": [
    "users.head()"
   ]
  },
  {
   "cell_type": "markdown",
   "metadata": {},
   "source": [
    "Открылись правильно. Посмотрим на общую информацию"
   ]
  },
  {
   "cell_type": "code",
   "execution_count": 30,
   "metadata": {},
   "outputs": [
    {
     "name": "stdout",
     "output_type": "stream",
     "text": [
      "<class 'pandas.core.frame.DataFrame'>\n",
      "RangeIndex: 500 entries, 0 to 499\n",
      "Data columns (total 8 columns):\n",
      " #   Column      Non-Null Count  Dtype \n",
      "---  ------      --------------  ----- \n",
      " 0   user_id     500 non-null    int64 \n",
      " 1   age         500 non-null    int64 \n",
      " 2   churn_date  38 non-null     object\n",
      " 3   city        500 non-null    object\n",
      " 4   first_name  500 non-null    object\n",
      " 5   last_name   500 non-null    object\n",
      " 6   reg_date    500 non-null    object\n",
      " 7   tariff      500 non-null    object\n",
      "dtypes: int64(2), object(6)\n",
      "memory usage: 31.4+ KB\n"
     ]
    }
   ],
   "source": [
    "users.info()"
   ]
  },
  {
   "cell_type": "markdown",
   "metadata": {},
   "source": [
    "Всего в данных 200 тыс. строк. Есть пропущенные значения в cтолбце активности тарифа. Пропуски можно оставить, приняв их во внимание. Можно создать стобец отвечающий за описание активности тарифа. И воспринимать как булевые значения.\n",
    "Тип данных не соответствует только в дате регистрации. Посмотрим аномалии и повторы в данных."
   ]
  },
  {
   "cell_type": "code",
   "execution_count": 31,
   "metadata": {},
   "outputs": [
    {
     "data": {
      "text/plain": [
       "0"
      ]
     },
     "execution_count": 31,
     "metadata": {},
     "output_type": "execute_result"
    }
   ],
   "source": [
    "users.duplicated().sum()"
   ]
  },
  {
   "cell_type": "markdown",
   "metadata": {},
   "source": [
    "Повторы не обнаружены"
   ]
  },
  {
   "cell_type": "markdown",
   "metadata": {},
   "source": [
    "Проверим на наличие анамалий "
   ]
  },
  {
   "cell_type": "code",
   "execution_count": 32,
   "metadata": {},
   "outputs": [
    {
     "data": {
      "text/plain": [
       "['Архангельск',\n",
       " 'Астрахань',\n",
       " 'Балашиха',\n",
       " 'Барнаул',\n",
       " 'Белгород',\n",
       " 'Брянск',\n",
       " 'Владивосток',\n",
       " 'Владикавказ',\n",
       " 'Владимир',\n",
       " 'Волгоград',\n",
       " 'Волжский',\n",
       " 'Вологда',\n",
       " 'Воронеж',\n",
       " 'Грозный',\n",
       " 'Екатеринбург',\n",
       " 'Иваново',\n",
       " 'Ижевск',\n",
       " 'Иркутск',\n",
       " 'Казань',\n",
       " 'Калининград',\n",
       " 'Калуга',\n",
       " 'Кемерово',\n",
       " 'Киров',\n",
       " 'Кострома',\n",
       " 'Краснодар',\n",
       " 'Красноярск',\n",
       " 'Курган',\n",
       " 'Курск',\n",
       " 'Липецк',\n",
       " 'Магнитогорск',\n",
       " 'Махачкала',\n",
       " 'Москва',\n",
       " 'Мурманск',\n",
       " 'Набережные Челны',\n",
       " 'Нижневартовск',\n",
       " 'Нижний Новгород',\n",
       " 'Нижний Тагил',\n",
       " 'Новокузнецк',\n",
       " 'Новороссийск',\n",
       " 'Новосибирск',\n",
       " 'Омск',\n",
       " 'Оренбург',\n",
       " 'Орёл',\n",
       " 'Пенза',\n",
       " 'Пермь',\n",
       " 'Петрозаводск',\n",
       " 'Подольск',\n",
       " 'Ростов-на-Дону',\n",
       " 'Рязань',\n",
       " 'Самара',\n",
       " 'Санкт-Петербург',\n",
       " 'Саранск',\n",
       " 'Саратов',\n",
       " 'Севастополь',\n",
       " 'Смоленск',\n",
       " 'Сочи',\n",
       " 'Ставрополь',\n",
       " 'Стерлитамак',\n",
       " 'Сургут',\n",
       " 'Тамбов',\n",
       " 'Тверь',\n",
       " 'Тольятти',\n",
       " 'Томск',\n",
       " 'Тула',\n",
       " 'Тюмень',\n",
       " 'Улан-Удэ',\n",
       " 'Ульяновск',\n",
       " 'Уфа',\n",
       " 'Хабаровск',\n",
       " 'Химки',\n",
       " 'Чебоксары',\n",
       " 'Челябинск',\n",
       " 'Череповец',\n",
       " 'Чита',\n",
       " 'Якутск',\n",
       " 'Ярославль']"
      ]
     },
     "execution_count": 32,
     "metadata": {},
     "output_type": "execute_result"
    }
   ],
   "source": [
    "sorted(users['city'].unique())"
   ]
  },
  {
   "cell_type": "markdown",
   "metadata": {},
   "source": [
    "Нарушений в написании городов не обнаружено"
   ]
  },
  {
   "cell_type": "code",
   "execution_count": 33,
   "metadata": {},
   "outputs": [
    {
     "data": {
      "text/plain": [
       "count    500.00000\n",
       "mean      46.58800\n",
       "std       16.66763\n",
       "min       18.00000\n",
       "25%       32.00000\n",
       "50%       46.00000\n",
       "75%       62.00000\n",
       "max       75.00000\n",
       "Name: age, dtype: float64"
      ]
     },
     "execution_count": 33,
     "metadata": {},
     "output_type": "execute_result"
    }
   ],
   "source": [
    "users['age'].describe()"
   ]
  },
  {
   "cell_type": "markdown",
   "metadata": {},
   "source": [
    "Данные по возрасту распределены адекватно."
   ]
  },
  {
   "cell_type": "code",
   "execution_count": 34,
   "metadata": {},
   "outputs": [
    {
     "data": {
      "text/plain": [
       "1024    1\n",
       "1353    1\n",
       "1366    1\n",
       "1365    1\n",
       "1364    1\n",
       "Name: user_id, dtype: int64"
      ]
     },
     "execution_count": 34,
     "metadata": {},
     "output_type": "execute_result"
    }
   ],
   "source": [
    "users['user_id'].value_counts().head(5)"
   ]
  },
  {
   "cell_type": "markdown",
   "metadata": {},
   "source": [
    "Повторов id не обнаружено"
   ]
  },
  {
   "cell_type": "code",
   "execution_count": 35,
   "metadata": {},
   "outputs": [
    {
     "data": {
      "text/plain": [
       "array(['ultra', 'smart'], dtype=object)"
      ]
     },
     "execution_count": 35,
     "metadata": {},
     "output_type": "execute_result"
    }
   ],
   "source": [
    "users['tariff'].unique()"
   ]
  },
  {
   "cell_type": "markdown",
   "metadata": {},
   "source": [
    "Написание названий тарифов верное"
   ]
  },
  {
   "cell_type": "code",
   "execution_count": 36,
   "metadata": {},
   "outputs": [
    {
     "data": {
      "text/plain": [
       "0"
      ]
     },
     "execution_count": 36,
     "metadata": {},
     "output_type": "execute_result"
    }
   ],
   "source": [
    "users[['first_name', 'last_name']].duplicated().sum()"
   ]
  },
  {
   "cell_type": "markdown",
   "metadata": {},
   "source": [
    "Повторов в пользователях не обнаружено"
   ]
  },
  {
   "cell_type": "markdown",
   "metadata": {},
   "source": [
    "Что необходимо поправить:\n",
    "* привести типы данных в столбце даты регестрации\n",
    "* восстановавить пропущенные значения"
   ]
  },
  {
   "cell_type": "markdown",
   "metadata": {},
   "source": [
    "Данные пришли в хорошем состоянии. Столбцы названы удобно, практически все типы данных расшифрованы верно. Пропусков почти нет."
   ]
  },
  {
   "cell_type": "markdown",
   "metadata": {},
   "source": [
    "## Предобработка данных и расчёты"
   ]
  },
  {
   "cell_type": "markdown",
   "metadata": {},
   "source": [
    "### Предобработка "
   ]
  },
  {
   "cell_type": "markdown",
   "metadata": {},
   "source": [
    "#### Обработка пропусков"
   ]
  },
  {
   "cell_type": "markdown",
   "metadata": {},
   "source": [
    "Создадим столбец, описывающий активность тарифа"
   ]
  },
  {
   "cell_type": "code",
   "execution_count": 37,
   "metadata": {
    "scrolled": true
   },
   "outputs": [],
   "source": [
    "users[\"churn_status\"] = ~users['churn_date'].isna()"
   ]
  },
  {
   "cell_type": "markdown",
   "metadata": {},
   "source": [
    "Заменим пропуски в дате деактивации на нули "
   ]
  },
  {
   "cell_type": "code",
   "execution_count": 38,
   "metadata": {},
   "outputs": [],
   "source": [
    "users['churn_date'] = users['churn_date'].fillna(0)"
   ]
  },
  {
   "cell_type": "markdown",
   "metadata": {},
   "source": [
    "#### Приведение типов"
   ]
  },
  {
   "cell_type": "markdown",
   "metadata": {},
   "source": [
    "Приведем типы и проверим"
   ]
  },
  {
   "cell_type": "code",
   "execution_count": 39,
   "metadata": {},
   "outputs": [
    {
     "data": {
      "text/plain": [
       "user_id                  int64\n",
       "age                      int64\n",
       "churn_date      datetime64[ns]\n",
       "city                    object\n",
       "first_name              object\n",
       "last_name               object\n",
       "reg_date        datetime64[ns]\n",
       "tariff                  object\n",
       "churn_status              bool\n",
       "dtype: object"
      ]
     },
     "execution_count": 39,
     "metadata": {},
     "output_type": "execute_result"
    }
   ],
   "source": [
    "users.reg_date = pd.to_datetime(users['reg_date'])\n",
    "users.churn_date = pd.to_datetime(users['churn_date'])\n",
    "users.dtypes"
   ]
  },
  {
   "cell_type": "code",
   "execution_count": 40,
   "metadata": {},
   "outputs": [
    {
     "data": {
      "text/plain": [
       "id                   object\n",
       "call_date    datetime64[ns]\n",
       "duration            float64\n",
       "user_id               int64\n",
       "dtype: object"
      ]
     },
     "execution_count": 40,
     "metadata": {},
     "output_type": "execute_result"
    }
   ],
   "source": [
    "calls.call_date = pd.to_datetime(calls['call_date'])\n",
    "calls.dtypes"
   ]
  },
  {
   "cell_type": "code",
   "execution_count": 41,
   "metadata": {},
   "outputs": [
    {
     "data": {
      "text/plain": [
       "id                      object\n",
       "mb_used                float64\n",
       "session_date    datetime64[ns]\n",
       "user_id                  int64\n",
       "dtype: object"
      ]
     },
     "execution_count": 41,
     "metadata": {},
     "output_type": "execute_result"
    }
   ],
   "source": [
    "internet.session_date = pd.to_datetime(internet['session_date'])\n",
    "internet.dtypes"
   ]
  },
  {
   "cell_type": "code",
   "execution_count": 42,
   "metadata": {},
   "outputs": [
    {
     "data": {
      "text/plain": [
       "id                      object\n",
       "message_date    datetime64[ns]\n",
       "user_id                  int64\n",
       "dtype: object"
      ]
     },
     "execution_count": 42,
     "metadata": {},
     "output_type": "execute_result"
    }
   ],
   "source": [
    "messages.message_date = pd.to_datetime(messages['message_date'])\n",
    "messages.dtypes"
   ]
  },
  {
   "cell_type": "markdown",
   "metadata": {},
   "source": [
    "Типы приведены"
   ]
  },
  {
   "cell_type": "markdown",
   "metadata": {},
   "source": [
    "#### Индексация в дастасетах\n",
    "Поправим индексацию в датасете тарифов, чтобы сделать код более читаемым"
   ]
  },
  {
   "cell_type": "code",
   "execution_count": 43,
   "metadata": {},
   "outputs": [],
   "source": [
    "tariffs.index = tariffs.pop('tariff_name')"
   ]
  },
  {
   "cell_type": "code",
   "execution_count": 44,
   "metadata": {
    "scrolled": true
   },
   "outputs": [
    {
     "data": {
      "text/html": [
       "<div>\n",
       "<style scoped>\n",
       "    .dataframe tbody tr th:only-of-type {\n",
       "        vertical-align: middle;\n",
       "    }\n",
       "\n",
       "    .dataframe tbody tr th {\n",
       "        vertical-align: top;\n",
       "    }\n",
       "\n",
       "    .dataframe thead th {\n",
       "        text-align: right;\n",
       "    }\n",
       "</style>\n",
       "<table border=\"1\" class=\"dataframe\">\n",
       "  <thead>\n",
       "    <tr style=\"text-align: right;\">\n",
       "      <th></th>\n",
       "      <th>messages_included</th>\n",
       "      <th>mb_per_month_included</th>\n",
       "      <th>minutes_included</th>\n",
       "      <th>rub_monthly_fee</th>\n",
       "      <th>rub_per_gb</th>\n",
       "      <th>rub_per_message</th>\n",
       "      <th>rub_per_minute</th>\n",
       "    </tr>\n",
       "    <tr>\n",
       "      <th>tariff_name</th>\n",
       "      <th></th>\n",
       "      <th></th>\n",
       "      <th></th>\n",
       "      <th></th>\n",
       "      <th></th>\n",
       "      <th></th>\n",
       "      <th></th>\n",
       "    </tr>\n",
       "  </thead>\n",
       "  <tbody>\n",
       "    <tr>\n",
       "      <th>smart</th>\n",
       "      <td>50</td>\n",
       "      <td>15360</td>\n",
       "      <td>500</td>\n",
       "      <td>550</td>\n",
       "      <td>200</td>\n",
       "      <td>3</td>\n",
       "      <td>3</td>\n",
       "    </tr>\n",
       "    <tr>\n",
       "      <th>ultra</th>\n",
       "      <td>1000</td>\n",
       "      <td>30720</td>\n",
       "      <td>3000</td>\n",
       "      <td>1950</td>\n",
       "      <td>150</td>\n",
       "      <td>1</td>\n",
       "      <td>1</td>\n",
       "    </tr>\n",
       "  </tbody>\n",
       "</table>\n",
       "</div>"
      ],
      "text/plain": [
       "             messages_included  mb_per_month_included  minutes_included  \\\n",
       "tariff_name                                                               \n",
       "smart                       50                  15360               500   \n",
       "ultra                     1000                  30720              3000   \n",
       "\n",
       "             rub_monthly_fee  rub_per_gb  rub_per_message  rub_per_minute  \n",
       "tariff_name                                                                \n",
       "smart                    550         200                3               3  \n",
       "ultra                   1950         150                1               1  "
      ]
     },
     "execution_count": 44,
     "metadata": {},
     "output_type": "execute_result"
    }
   ],
   "source": [
    "tariffs"
   ]
  },
  {
   "cell_type": "markdown",
   "metadata": {},
   "source": [
    "### Объединение данных\n",
    "Объедим данные по формам затрат с данными о пользователях, для удоства расчётов"
   ]
  },
  {
   "cell_type": "code",
   "execution_count": 45,
   "metadata": {},
   "outputs": [],
   "source": [
    "messages = messages.merge(users, on='user_id', how='left')"
   ]
  },
  {
   "cell_type": "code",
   "execution_count": 46,
   "metadata": {},
   "outputs": [
    {
     "data": {
      "text/html": [
       "<div>\n",
       "<style scoped>\n",
       "    .dataframe tbody tr th:only-of-type {\n",
       "        vertical-align: middle;\n",
       "    }\n",
       "\n",
       "    .dataframe tbody tr th {\n",
       "        vertical-align: top;\n",
       "    }\n",
       "\n",
       "    .dataframe thead th {\n",
       "        text-align: right;\n",
       "    }\n",
       "</style>\n",
       "<table border=\"1\" class=\"dataframe\">\n",
       "  <thead>\n",
       "    <tr style=\"text-align: right;\">\n",
       "      <th></th>\n",
       "      <th>id</th>\n",
       "      <th>message_date</th>\n",
       "      <th>user_id</th>\n",
       "      <th>age</th>\n",
       "      <th>churn_date</th>\n",
       "      <th>city</th>\n",
       "      <th>first_name</th>\n",
       "      <th>last_name</th>\n",
       "      <th>reg_date</th>\n",
       "      <th>tariff</th>\n",
       "      <th>churn_status</th>\n",
       "    </tr>\n",
       "  </thead>\n",
       "  <tbody>\n",
       "    <tr>\n",
       "      <th>0</th>\n",
       "      <td>1000_0</td>\n",
       "      <td>2018-06-27</td>\n",
       "      <td>1000</td>\n",
       "      <td>52</td>\n",
       "      <td>1970-01-01</td>\n",
       "      <td>Краснодар</td>\n",
       "      <td>Рафаил</td>\n",
       "      <td>Верещагин</td>\n",
       "      <td>2018-05-25</td>\n",
       "      <td>ultra</td>\n",
       "      <td>False</td>\n",
       "    </tr>\n",
       "    <tr>\n",
       "      <th>1</th>\n",
       "      <td>1000_1</td>\n",
       "      <td>2018-10-08</td>\n",
       "      <td>1000</td>\n",
       "      <td>52</td>\n",
       "      <td>1970-01-01</td>\n",
       "      <td>Краснодар</td>\n",
       "      <td>Рафаил</td>\n",
       "      <td>Верещагин</td>\n",
       "      <td>2018-05-25</td>\n",
       "      <td>ultra</td>\n",
       "      <td>False</td>\n",
       "    </tr>\n",
       "    <tr>\n",
       "      <th>2</th>\n",
       "      <td>1000_2</td>\n",
       "      <td>2018-08-04</td>\n",
       "      <td>1000</td>\n",
       "      <td>52</td>\n",
       "      <td>1970-01-01</td>\n",
       "      <td>Краснодар</td>\n",
       "      <td>Рафаил</td>\n",
       "      <td>Верещагин</td>\n",
       "      <td>2018-05-25</td>\n",
       "      <td>ultra</td>\n",
       "      <td>False</td>\n",
       "    </tr>\n",
       "    <tr>\n",
       "      <th>3</th>\n",
       "      <td>1000_3</td>\n",
       "      <td>2018-06-16</td>\n",
       "      <td>1000</td>\n",
       "      <td>52</td>\n",
       "      <td>1970-01-01</td>\n",
       "      <td>Краснодар</td>\n",
       "      <td>Рафаил</td>\n",
       "      <td>Верещагин</td>\n",
       "      <td>2018-05-25</td>\n",
       "      <td>ultra</td>\n",
       "      <td>False</td>\n",
       "    </tr>\n",
       "    <tr>\n",
       "      <th>4</th>\n",
       "      <td>1000_4</td>\n",
       "      <td>2018-12-05</td>\n",
       "      <td>1000</td>\n",
       "      <td>52</td>\n",
       "      <td>1970-01-01</td>\n",
       "      <td>Краснодар</td>\n",
       "      <td>Рафаил</td>\n",
       "      <td>Верещагин</td>\n",
       "      <td>2018-05-25</td>\n",
       "      <td>ultra</td>\n",
       "      <td>False</td>\n",
       "    </tr>\n",
       "  </tbody>\n",
       "</table>\n",
       "</div>"
      ],
      "text/plain": [
       "       id message_date  user_id  age churn_date       city first_name  \\\n",
       "0  1000_0   2018-06-27     1000   52 1970-01-01  Краснодар     Рафаил   \n",
       "1  1000_1   2018-10-08     1000   52 1970-01-01  Краснодар     Рафаил   \n",
       "2  1000_2   2018-08-04     1000   52 1970-01-01  Краснодар     Рафаил   \n",
       "3  1000_3   2018-06-16     1000   52 1970-01-01  Краснодар     Рафаил   \n",
       "4  1000_4   2018-12-05     1000   52 1970-01-01  Краснодар     Рафаил   \n",
       "\n",
       "   last_name   reg_date tariff  churn_status  \n",
       "0  Верещагин 2018-05-25  ultra         False  \n",
       "1  Верещагин 2018-05-25  ultra         False  \n",
       "2  Верещагин 2018-05-25  ultra         False  \n",
       "3  Верещагин 2018-05-25  ultra         False  \n",
       "4  Верещагин 2018-05-25  ultra         False  "
      ]
     },
     "execution_count": 46,
     "metadata": {},
     "output_type": "execute_result"
    }
   ],
   "source": [
    "messages.head()"
   ]
  },
  {
   "cell_type": "code",
   "execution_count": 47,
   "metadata": {},
   "outputs": [
    {
     "data": {
      "text/html": [
       "<div>\n",
       "<style scoped>\n",
       "    .dataframe tbody tr th:only-of-type {\n",
       "        vertical-align: middle;\n",
       "    }\n",
       "\n",
       "    .dataframe tbody tr th {\n",
       "        vertical-align: top;\n",
       "    }\n",
       "\n",
       "    .dataframe thead th {\n",
       "        text-align: right;\n",
       "    }\n",
       "</style>\n",
       "<table border=\"1\" class=\"dataframe\">\n",
       "  <thead>\n",
       "    <tr style=\"text-align: right;\">\n",
       "      <th></th>\n",
       "      <th>id</th>\n",
       "      <th>call_date</th>\n",
       "      <th>duration</th>\n",
       "      <th>user_id</th>\n",
       "      <th>age</th>\n",
       "      <th>churn_date</th>\n",
       "      <th>city</th>\n",
       "      <th>first_name</th>\n",
       "      <th>last_name</th>\n",
       "      <th>reg_date</th>\n",
       "      <th>tariff</th>\n",
       "      <th>churn_status</th>\n",
       "    </tr>\n",
       "  </thead>\n",
       "  <tbody>\n",
       "    <tr>\n",
       "      <th>0</th>\n",
       "      <td>1000_0</td>\n",
       "      <td>2018-07-25</td>\n",
       "      <td>0.00</td>\n",
       "      <td>1000</td>\n",
       "      <td>52</td>\n",
       "      <td>1970-01-01</td>\n",
       "      <td>Краснодар</td>\n",
       "      <td>Рафаил</td>\n",
       "      <td>Верещагин</td>\n",
       "      <td>2018-05-25</td>\n",
       "      <td>ultra</td>\n",
       "      <td>False</td>\n",
       "    </tr>\n",
       "    <tr>\n",
       "      <th>1</th>\n",
       "      <td>1000_1</td>\n",
       "      <td>2018-08-17</td>\n",
       "      <td>0.00</td>\n",
       "      <td>1000</td>\n",
       "      <td>52</td>\n",
       "      <td>1970-01-01</td>\n",
       "      <td>Краснодар</td>\n",
       "      <td>Рафаил</td>\n",
       "      <td>Верещагин</td>\n",
       "      <td>2018-05-25</td>\n",
       "      <td>ultra</td>\n",
       "      <td>False</td>\n",
       "    </tr>\n",
       "    <tr>\n",
       "      <th>2</th>\n",
       "      <td>1000_2</td>\n",
       "      <td>2018-06-11</td>\n",
       "      <td>2.85</td>\n",
       "      <td>1000</td>\n",
       "      <td>52</td>\n",
       "      <td>1970-01-01</td>\n",
       "      <td>Краснодар</td>\n",
       "      <td>Рафаил</td>\n",
       "      <td>Верещагин</td>\n",
       "      <td>2018-05-25</td>\n",
       "      <td>ultra</td>\n",
       "      <td>False</td>\n",
       "    </tr>\n",
       "    <tr>\n",
       "      <th>3</th>\n",
       "      <td>1000_3</td>\n",
       "      <td>2018-09-21</td>\n",
       "      <td>13.80</td>\n",
       "      <td>1000</td>\n",
       "      <td>52</td>\n",
       "      <td>1970-01-01</td>\n",
       "      <td>Краснодар</td>\n",
       "      <td>Рафаил</td>\n",
       "      <td>Верещагин</td>\n",
       "      <td>2018-05-25</td>\n",
       "      <td>ultra</td>\n",
       "      <td>False</td>\n",
       "    </tr>\n",
       "    <tr>\n",
       "      <th>4</th>\n",
       "      <td>1000_4</td>\n",
       "      <td>2018-12-15</td>\n",
       "      <td>5.18</td>\n",
       "      <td>1000</td>\n",
       "      <td>52</td>\n",
       "      <td>1970-01-01</td>\n",
       "      <td>Краснодар</td>\n",
       "      <td>Рафаил</td>\n",
       "      <td>Верещагин</td>\n",
       "      <td>2018-05-25</td>\n",
       "      <td>ultra</td>\n",
       "      <td>False</td>\n",
       "    </tr>\n",
       "  </tbody>\n",
       "</table>\n",
       "</div>"
      ],
      "text/plain": [
       "       id  call_date  duration  user_id  age churn_date       city first_name  \\\n",
       "0  1000_0 2018-07-25      0.00     1000   52 1970-01-01  Краснодар     Рафаил   \n",
       "1  1000_1 2018-08-17      0.00     1000   52 1970-01-01  Краснодар     Рафаил   \n",
       "2  1000_2 2018-06-11      2.85     1000   52 1970-01-01  Краснодар     Рафаил   \n",
       "3  1000_3 2018-09-21     13.80     1000   52 1970-01-01  Краснодар     Рафаил   \n",
       "4  1000_4 2018-12-15      5.18     1000   52 1970-01-01  Краснодар     Рафаил   \n",
       "\n",
       "   last_name   reg_date tariff  churn_status  \n",
       "0  Верещагин 2018-05-25  ultra         False  \n",
       "1  Верещагин 2018-05-25  ultra         False  \n",
       "2  Верещагин 2018-05-25  ultra         False  \n",
       "3  Верещагин 2018-05-25  ultra         False  \n",
       "4  Верещагин 2018-05-25  ultra         False  "
      ]
     },
     "execution_count": 47,
     "metadata": {},
     "output_type": "execute_result"
    }
   ],
   "source": [
    "calls = calls.merge(users, on='user_id', how='left')\n",
    "calls.head()"
   ]
  },
  {
   "cell_type": "code",
   "execution_count": 48,
   "metadata": {},
   "outputs": [
    {
     "data": {
      "text/html": [
       "<div>\n",
       "<style scoped>\n",
       "    .dataframe tbody tr th:only-of-type {\n",
       "        vertical-align: middle;\n",
       "    }\n",
       "\n",
       "    .dataframe tbody tr th {\n",
       "        vertical-align: top;\n",
       "    }\n",
       "\n",
       "    .dataframe thead th {\n",
       "        text-align: right;\n",
       "    }\n",
       "</style>\n",
       "<table border=\"1\" class=\"dataframe\">\n",
       "  <thead>\n",
       "    <tr style=\"text-align: right;\">\n",
       "      <th></th>\n",
       "      <th>id</th>\n",
       "      <th>mb_used</th>\n",
       "      <th>session_date</th>\n",
       "      <th>user_id</th>\n",
       "      <th>age</th>\n",
       "      <th>churn_date</th>\n",
       "      <th>city</th>\n",
       "      <th>first_name</th>\n",
       "      <th>last_name</th>\n",
       "      <th>reg_date</th>\n",
       "      <th>tariff</th>\n",
       "      <th>churn_status</th>\n",
       "    </tr>\n",
       "  </thead>\n",
       "  <tbody>\n",
       "    <tr>\n",
       "      <th>0</th>\n",
       "      <td>1000_0</td>\n",
       "      <td>112.95</td>\n",
       "      <td>2018-11-25</td>\n",
       "      <td>1000</td>\n",
       "      <td>52</td>\n",
       "      <td>1970-01-01</td>\n",
       "      <td>Краснодар</td>\n",
       "      <td>Рафаил</td>\n",
       "      <td>Верещагин</td>\n",
       "      <td>2018-05-25</td>\n",
       "      <td>ultra</td>\n",
       "      <td>False</td>\n",
       "    </tr>\n",
       "    <tr>\n",
       "      <th>1</th>\n",
       "      <td>1000_1</td>\n",
       "      <td>1052.81</td>\n",
       "      <td>2018-09-07</td>\n",
       "      <td>1000</td>\n",
       "      <td>52</td>\n",
       "      <td>1970-01-01</td>\n",
       "      <td>Краснодар</td>\n",
       "      <td>Рафаил</td>\n",
       "      <td>Верещагин</td>\n",
       "      <td>2018-05-25</td>\n",
       "      <td>ultra</td>\n",
       "      <td>False</td>\n",
       "    </tr>\n",
       "    <tr>\n",
       "      <th>2</th>\n",
       "      <td>1000_2</td>\n",
       "      <td>1197.26</td>\n",
       "      <td>2018-06-25</td>\n",
       "      <td>1000</td>\n",
       "      <td>52</td>\n",
       "      <td>1970-01-01</td>\n",
       "      <td>Краснодар</td>\n",
       "      <td>Рафаил</td>\n",
       "      <td>Верещагин</td>\n",
       "      <td>2018-05-25</td>\n",
       "      <td>ultra</td>\n",
       "      <td>False</td>\n",
       "    </tr>\n",
       "    <tr>\n",
       "      <th>3</th>\n",
       "      <td>1000_3</td>\n",
       "      <td>550.27</td>\n",
       "      <td>2018-08-22</td>\n",
       "      <td>1000</td>\n",
       "      <td>52</td>\n",
       "      <td>1970-01-01</td>\n",
       "      <td>Краснодар</td>\n",
       "      <td>Рафаил</td>\n",
       "      <td>Верещагин</td>\n",
       "      <td>2018-05-25</td>\n",
       "      <td>ultra</td>\n",
       "      <td>False</td>\n",
       "    </tr>\n",
       "    <tr>\n",
       "      <th>4</th>\n",
       "      <td>1000_4</td>\n",
       "      <td>302.56</td>\n",
       "      <td>2018-09-24</td>\n",
       "      <td>1000</td>\n",
       "      <td>52</td>\n",
       "      <td>1970-01-01</td>\n",
       "      <td>Краснодар</td>\n",
       "      <td>Рафаил</td>\n",
       "      <td>Верещагин</td>\n",
       "      <td>2018-05-25</td>\n",
       "      <td>ultra</td>\n",
       "      <td>False</td>\n",
       "    </tr>\n",
       "  </tbody>\n",
       "</table>\n",
       "</div>"
      ],
      "text/plain": [
       "       id  mb_used session_date  user_id  age churn_date       city  \\\n",
       "0  1000_0   112.95   2018-11-25     1000   52 1970-01-01  Краснодар   \n",
       "1  1000_1  1052.81   2018-09-07     1000   52 1970-01-01  Краснодар   \n",
       "2  1000_2  1197.26   2018-06-25     1000   52 1970-01-01  Краснодар   \n",
       "3  1000_3   550.27   2018-08-22     1000   52 1970-01-01  Краснодар   \n",
       "4  1000_4   302.56   2018-09-24     1000   52 1970-01-01  Краснодар   \n",
       "\n",
       "  first_name  last_name   reg_date tariff  churn_status  \n",
       "0     Рафаил  Верещагин 2018-05-25  ultra         False  \n",
       "1     Рафаил  Верещагин 2018-05-25  ultra         False  \n",
       "2     Рафаил  Верещагин 2018-05-25  ultra         False  \n",
       "3     Рафаил  Верещагин 2018-05-25  ultra         False  \n",
       "4     Рафаил  Верещагин 2018-05-25  ultra         False  "
      ]
     },
     "execution_count": 48,
     "metadata": {},
     "output_type": "execute_result"
    }
   ],
   "source": [
    "internet = internet.merge(users, on='user_id', how='left')\n",
    "internet.head()"
   ]
  },
  {
   "cell_type": "markdown",
   "metadata": {},
   "source": [
    "Данные объеденены. Можно приступить к расчётам"
   ]
  },
  {
   "cell_type": "markdown",
   "metadata": {},
   "source": [
    "### Выделение дополнительных данных"
   ]
  },
  {
   "cell_type": "markdown",
   "metadata": {},
   "source": [
    "#### Выделение в датасетах месяцев из дат операции"
   ]
  },
  {
   "cell_type": "code",
   "execution_count": 49,
   "metadata": {},
   "outputs": [
    {
     "data": {
      "text/html": [
       "<div>\n",
       "<style scoped>\n",
       "    .dataframe tbody tr th:only-of-type {\n",
       "        vertical-align: middle;\n",
       "    }\n",
       "\n",
       "    .dataframe tbody tr th {\n",
       "        vertical-align: top;\n",
       "    }\n",
       "\n",
       "    .dataframe thead th {\n",
       "        text-align: right;\n",
       "    }\n",
       "</style>\n",
       "<table border=\"1\" class=\"dataframe\">\n",
       "  <thead>\n",
       "    <tr style=\"text-align: right;\">\n",
       "      <th></th>\n",
       "      <th>id</th>\n",
       "      <th>call_date</th>\n",
       "      <th>duration</th>\n",
       "      <th>user_id</th>\n",
       "      <th>age</th>\n",
       "      <th>churn_date</th>\n",
       "      <th>city</th>\n",
       "      <th>first_name</th>\n",
       "      <th>last_name</th>\n",
       "      <th>reg_date</th>\n",
       "      <th>tariff</th>\n",
       "      <th>churn_status</th>\n",
       "      <th>call_month</th>\n",
       "    </tr>\n",
       "  </thead>\n",
       "  <tbody>\n",
       "    <tr>\n",
       "      <th>0</th>\n",
       "      <td>1000_0</td>\n",
       "      <td>2018-07-25</td>\n",
       "      <td>0.00</td>\n",
       "      <td>1000</td>\n",
       "      <td>52</td>\n",
       "      <td>1970-01-01</td>\n",
       "      <td>Краснодар</td>\n",
       "      <td>Рафаил</td>\n",
       "      <td>Верещагин</td>\n",
       "      <td>2018-05-25</td>\n",
       "      <td>ultra</td>\n",
       "      <td>False</td>\n",
       "      <td>7</td>\n",
       "    </tr>\n",
       "    <tr>\n",
       "      <th>1</th>\n",
       "      <td>1000_1</td>\n",
       "      <td>2018-08-17</td>\n",
       "      <td>0.00</td>\n",
       "      <td>1000</td>\n",
       "      <td>52</td>\n",
       "      <td>1970-01-01</td>\n",
       "      <td>Краснодар</td>\n",
       "      <td>Рафаил</td>\n",
       "      <td>Верещагин</td>\n",
       "      <td>2018-05-25</td>\n",
       "      <td>ultra</td>\n",
       "      <td>False</td>\n",
       "      <td>8</td>\n",
       "    </tr>\n",
       "    <tr>\n",
       "      <th>2</th>\n",
       "      <td>1000_2</td>\n",
       "      <td>2018-06-11</td>\n",
       "      <td>2.85</td>\n",
       "      <td>1000</td>\n",
       "      <td>52</td>\n",
       "      <td>1970-01-01</td>\n",
       "      <td>Краснодар</td>\n",
       "      <td>Рафаил</td>\n",
       "      <td>Верещагин</td>\n",
       "      <td>2018-05-25</td>\n",
       "      <td>ultra</td>\n",
       "      <td>False</td>\n",
       "      <td>6</td>\n",
       "    </tr>\n",
       "    <tr>\n",
       "      <th>3</th>\n",
       "      <td>1000_3</td>\n",
       "      <td>2018-09-21</td>\n",
       "      <td>13.80</td>\n",
       "      <td>1000</td>\n",
       "      <td>52</td>\n",
       "      <td>1970-01-01</td>\n",
       "      <td>Краснодар</td>\n",
       "      <td>Рафаил</td>\n",
       "      <td>Верещагин</td>\n",
       "      <td>2018-05-25</td>\n",
       "      <td>ultra</td>\n",
       "      <td>False</td>\n",
       "      <td>9</td>\n",
       "    </tr>\n",
       "    <tr>\n",
       "      <th>4</th>\n",
       "      <td>1000_4</td>\n",
       "      <td>2018-12-15</td>\n",
       "      <td>5.18</td>\n",
       "      <td>1000</td>\n",
       "      <td>52</td>\n",
       "      <td>1970-01-01</td>\n",
       "      <td>Краснодар</td>\n",
       "      <td>Рафаил</td>\n",
       "      <td>Верещагин</td>\n",
       "      <td>2018-05-25</td>\n",
       "      <td>ultra</td>\n",
       "      <td>False</td>\n",
       "      <td>12</td>\n",
       "    </tr>\n",
       "  </tbody>\n",
       "</table>\n",
       "</div>"
      ],
      "text/plain": [
       "       id  call_date  duration  user_id  age churn_date       city first_name  \\\n",
       "0  1000_0 2018-07-25      0.00     1000   52 1970-01-01  Краснодар     Рафаил   \n",
       "1  1000_1 2018-08-17      0.00     1000   52 1970-01-01  Краснодар     Рафаил   \n",
       "2  1000_2 2018-06-11      2.85     1000   52 1970-01-01  Краснодар     Рафаил   \n",
       "3  1000_3 2018-09-21     13.80     1000   52 1970-01-01  Краснодар     Рафаил   \n",
       "4  1000_4 2018-12-15      5.18     1000   52 1970-01-01  Краснодар     Рафаил   \n",
       "\n",
       "   last_name   reg_date tariff  churn_status  call_month  \n",
       "0  Верещагин 2018-05-25  ultra         False           7  \n",
       "1  Верещагин 2018-05-25  ultra         False           8  \n",
       "2  Верещагин 2018-05-25  ultra         False           6  \n",
       "3  Верещагин 2018-05-25  ultra         False           9  \n",
       "4  Верещагин 2018-05-25  ultra         False          12  "
      ]
     },
     "execution_count": 49,
     "metadata": {},
     "output_type": "execute_result"
    }
   ],
   "source": [
    "calls['call_month'] = calls.call_date.dt.month\n",
    "calls.head()"
   ]
  },
  {
   "cell_type": "code",
   "execution_count": 50,
   "metadata": {},
   "outputs": [
    {
     "data": {
      "text/html": [
       "<div>\n",
       "<style scoped>\n",
       "    .dataframe tbody tr th:only-of-type {\n",
       "        vertical-align: middle;\n",
       "    }\n",
       "\n",
       "    .dataframe tbody tr th {\n",
       "        vertical-align: top;\n",
       "    }\n",
       "\n",
       "    .dataframe thead th {\n",
       "        text-align: right;\n",
       "    }\n",
       "</style>\n",
       "<table border=\"1\" class=\"dataframe\">\n",
       "  <thead>\n",
       "    <tr style=\"text-align: right;\">\n",
       "      <th></th>\n",
       "      <th>id</th>\n",
       "      <th>mb_used</th>\n",
       "      <th>session_date</th>\n",
       "      <th>user_id</th>\n",
       "      <th>age</th>\n",
       "      <th>churn_date</th>\n",
       "      <th>city</th>\n",
       "      <th>first_name</th>\n",
       "      <th>last_name</th>\n",
       "      <th>reg_date</th>\n",
       "      <th>tariff</th>\n",
       "      <th>churn_status</th>\n",
       "      <th>session_month</th>\n",
       "    </tr>\n",
       "  </thead>\n",
       "  <tbody>\n",
       "    <tr>\n",
       "      <th>0</th>\n",
       "      <td>1000_0</td>\n",
       "      <td>112.95</td>\n",
       "      <td>2018-11-25</td>\n",
       "      <td>1000</td>\n",
       "      <td>52</td>\n",
       "      <td>1970-01-01</td>\n",
       "      <td>Краснодар</td>\n",
       "      <td>Рафаил</td>\n",
       "      <td>Верещагин</td>\n",
       "      <td>2018-05-25</td>\n",
       "      <td>ultra</td>\n",
       "      <td>False</td>\n",
       "      <td>11</td>\n",
       "    </tr>\n",
       "    <tr>\n",
       "      <th>1</th>\n",
       "      <td>1000_1</td>\n",
       "      <td>1052.81</td>\n",
       "      <td>2018-09-07</td>\n",
       "      <td>1000</td>\n",
       "      <td>52</td>\n",
       "      <td>1970-01-01</td>\n",
       "      <td>Краснодар</td>\n",
       "      <td>Рафаил</td>\n",
       "      <td>Верещагин</td>\n",
       "      <td>2018-05-25</td>\n",
       "      <td>ultra</td>\n",
       "      <td>False</td>\n",
       "      <td>9</td>\n",
       "    </tr>\n",
       "    <tr>\n",
       "      <th>2</th>\n",
       "      <td>1000_2</td>\n",
       "      <td>1197.26</td>\n",
       "      <td>2018-06-25</td>\n",
       "      <td>1000</td>\n",
       "      <td>52</td>\n",
       "      <td>1970-01-01</td>\n",
       "      <td>Краснодар</td>\n",
       "      <td>Рафаил</td>\n",
       "      <td>Верещагин</td>\n",
       "      <td>2018-05-25</td>\n",
       "      <td>ultra</td>\n",
       "      <td>False</td>\n",
       "      <td>6</td>\n",
       "    </tr>\n",
       "    <tr>\n",
       "      <th>3</th>\n",
       "      <td>1000_3</td>\n",
       "      <td>550.27</td>\n",
       "      <td>2018-08-22</td>\n",
       "      <td>1000</td>\n",
       "      <td>52</td>\n",
       "      <td>1970-01-01</td>\n",
       "      <td>Краснодар</td>\n",
       "      <td>Рафаил</td>\n",
       "      <td>Верещагин</td>\n",
       "      <td>2018-05-25</td>\n",
       "      <td>ultra</td>\n",
       "      <td>False</td>\n",
       "      <td>8</td>\n",
       "    </tr>\n",
       "    <tr>\n",
       "      <th>4</th>\n",
       "      <td>1000_4</td>\n",
       "      <td>302.56</td>\n",
       "      <td>2018-09-24</td>\n",
       "      <td>1000</td>\n",
       "      <td>52</td>\n",
       "      <td>1970-01-01</td>\n",
       "      <td>Краснодар</td>\n",
       "      <td>Рафаил</td>\n",
       "      <td>Верещагин</td>\n",
       "      <td>2018-05-25</td>\n",
       "      <td>ultra</td>\n",
       "      <td>False</td>\n",
       "      <td>9</td>\n",
       "    </tr>\n",
       "  </tbody>\n",
       "</table>\n",
       "</div>"
      ],
      "text/plain": [
       "       id  mb_used session_date  user_id  age churn_date       city  \\\n",
       "0  1000_0   112.95   2018-11-25     1000   52 1970-01-01  Краснодар   \n",
       "1  1000_1  1052.81   2018-09-07     1000   52 1970-01-01  Краснодар   \n",
       "2  1000_2  1197.26   2018-06-25     1000   52 1970-01-01  Краснодар   \n",
       "3  1000_3   550.27   2018-08-22     1000   52 1970-01-01  Краснодар   \n",
       "4  1000_4   302.56   2018-09-24     1000   52 1970-01-01  Краснодар   \n",
       "\n",
       "  first_name  last_name   reg_date tariff  churn_status  session_month  \n",
       "0     Рафаил  Верещагин 2018-05-25  ultra         False             11  \n",
       "1     Рафаил  Верещагин 2018-05-25  ultra         False              9  \n",
       "2     Рафаил  Верещагин 2018-05-25  ultra         False              6  \n",
       "3     Рафаил  Верещагин 2018-05-25  ultra         False              8  \n",
       "4     Рафаил  Верещагин 2018-05-25  ultra         False              9  "
      ]
     },
     "execution_count": 50,
     "metadata": {},
     "output_type": "execute_result"
    }
   ],
   "source": [
    "internet['session_month'] = internet.session_date.dt.month\n",
    "internet.head()"
   ]
  },
  {
   "cell_type": "code",
   "execution_count": 51,
   "metadata": {},
   "outputs": [
    {
     "data": {
      "text/html": [
       "<div>\n",
       "<style scoped>\n",
       "    .dataframe tbody tr th:only-of-type {\n",
       "        vertical-align: middle;\n",
       "    }\n",
       "\n",
       "    .dataframe tbody tr th {\n",
       "        vertical-align: top;\n",
       "    }\n",
       "\n",
       "    .dataframe thead th {\n",
       "        text-align: right;\n",
       "    }\n",
       "</style>\n",
       "<table border=\"1\" class=\"dataframe\">\n",
       "  <thead>\n",
       "    <tr style=\"text-align: right;\">\n",
       "      <th></th>\n",
       "      <th>id</th>\n",
       "      <th>message_date</th>\n",
       "      <th>user_id</th>\n",
       "      <th>age</th>\n",
       "      <th>churn_date</th>\n",
       "      <th>city</th>\n",
       "      <th>first_name</th>\n",
       "      <th>last_name</th>\n",
       "      <th>reg_date</th>\n",
       "      <th>tariff</th>\n",
       "      <th>churn_status</th>\n",
       "      <th>message_month</th>\n",
       "    </tr>\n",
       "  </thead>\n",
       "  <tbody>\n",
       "    <tr>\n",
       "      <th>0</th>\n",
       "      <td>1000_0</td>\n",
       "      <td>2018-06-27</td>\n",
       "      <td>1000</td>\n",
       "      <td>52</td>\n",
       "      <td>1970-01-01</td>\n",
       "      <td>Краснодар</td>\n",
       "      <td>Рафаил</td>\n",
       "      <td>Верещагин</td>\n",
       "      <td>2018-05-25</td>\n",
       "      <td>ultra</td>\n",
       "      <td>False</td>\n",
       "      <td>6</td>\n",
       "    </tr>\n",
       "    <tr>\n",
       "      <th>1</th>\n",
       "      <td>1000_1</td>\n",
       "      <td>2018-10-08</td>\n",
       "      <td>1000</td>\n",
       "      <td>52</td>\n",
       "      <td>1970-01-01</td>\n",
       "      <td>Краснодар</td>\n",
       "      <td>Рафаил</td>\n",
       "      <td>Верещагин</td>\n",
       "      <td>2018-05-25</td>\n",
       "      <td>ultra</td>\n",
       "      <td>False</td>\n",
       "      <td>10</td>\n",
       "    </tr>\n",
       "    <tr>\n",
       "      <th>2</th>\n",
       "      <td>1000_2</td>\n",
       "      <td>2018-08-04</td>\n",
       "      <td>1000</td>\n",
       "      <td>52</td>\n",
       "      <td>1970-01-01</td>\n",
       "      <td>Краснодар</td>\n",
       "      <td>Рафаил</td>\n",
       "      <td>Верещагин</td>\n",
       "      <td>2018-05-25</td>\n",
       "      <td>ultra</td>\n",
       "      <td>False</td>\n",
       "      <td>8</td>\n",
       "    </tr>\n",
       "    <tr>\n",
       "      <th>3</th>\n",
       "      <td>1000_3</td>\n",
       "      <td>2018-06-16</td>\n",
       "      <td>1000</td>\n",
       "      <td>52</td>\n",
       "      <td>1970-01-01</td>\n",
       "      <td>Краснодар</td>\n",
       "      <td>Рафаил</td>\n",
       "      <td>Верещагин</td>\n",
       "      <td>2018-05-25</td>\n",
       "      <td>ultra</td>\n",
       "      <td>False</td>\n",
       "      <td>6</td>\n",
       "    </tr>\n",
       "    <tr>\n",
       "      <th>4</th>\n",
       "      <td>1000_4</td>\n",
       "      <td>2018-12-05</td>\n",
       "      <td>1000</td>\n",
       "      <td>52</td>\n",
       "      <td>1970-01-01</td>\n",
       "      <td>Краснодар</td>\n",
       "      <td>Рафаил</td>\n",
       "      <td>Верещагин</td>\n",
       "      <td>2018-05-25</td>\n",
       "      <td>ultra</td>\n",
       "      <td>False</td>\n",
       "      <td>12</td>\n",
       "    </tr>\n",
       "  </tbody>\n",
       "</table>\n",
       "</div>"
      ],
      "text/plain": [
       "       id message_date  user_id  age churn_date       city first_name  \\\n",
       "0  1000_0   2018-06-27     1000   52 1970-01-01  Краснодар     Рафаил   \n",
       "1  1000_1   2018-10-08     1000   52 1970-01-01  Краснодар     Рафаил   \n",
       "2  1000_2   2018-08-04     1000   52 1970-01-01  Краснодар     Рафаил   \n",
       "3  1000_3   2018-06-16     1000   52 1970-01-01  Краснодар     Рафаил   \n",
       "4  1000_4   2018-12-05     1000   52 1970-01-01  Краснодар     Рафаил   \n",
       "\n",
       "   last_name   reg_date tariff  churn_status  message_month  \n",
       "0  Верещагин 2018-05-25  ultra         False              6  \n",
       "1  Верещагин 2018-05-25  ultra         False             10  \n",
       "2  Верещагин 2018-05-25  ultra         False              8  \n",
       "3  Верещагин 2018-05-25  ultra         False              6  \n",
       "4  Верещагин 2018-05-25  ultra         False             12  "
      ]
     },
     "execution_count": 51,
     "metadata": {},
     "output_type": "execute_result"
    }
   ],
   "source": [
    "messages['message_month'] = messages.message_date.dt.month\n",
    "messages.head()"
   ]
  },
  {
   "cell_type": "markdown",
   "metadata": {},
   "source": [
    "### Расчёты\n",
    "Для каждого пользователя:\n",
    "\n",
    "* количество сделанных звонков и израсходованных минут разговора по месяцам;\n",
    "* количество отправленных сообщений по месяцам;\n",
    "* объем израсходованного интернет-трафика по месяцам;\n",
    "* помесячную выручку с каждого пользователя (вычтите бесплатный лимит из суммарного количества звонков, сообщений и интернет-трафика; остаток умножьте на значение из тарифного плана; прибавьте абонентскую плату, соответствующую тарифному плану)."
   ]
  },
  {
   "cell_type": "markdown",
   "metadata": {},
   "source": [
    "#### Расчёт количества сделанных звонков и израсходованных минут"
   ]
  },
  {
   "cell_type": "markdown",
   "metadata": {},
   "source": [
    "Так как мегалайн округляет секунлы до минуты по каждому звонку, сделаем тоже самое в датасете"
   ]
  },
  {
   "cell_type": "code",
   "execution_count": 52,
   "metadata": {},
   "outputs": [],
   "source": [
    "calls['duration'] = np.ceil(calls['duration'])"
   ]
  },
  {
   "cell_type": "markdown",
   "metadata": {},
   "source": [
    "Расчитаем затраты мину каждого абонента в месяц"
   ]
  },
  {
   "cell_type": "code",
   "execution_count": 53,
   "metadata": {},
   "outputs": [],
   "source": [
    "minut_per_user_of_month = (\n",
    "    calls\n",
    "    .groupby(\n",
    "        by=['user_id', 'call_month']\n",
    "    )[['duration', 'tariff']]\n",
    "    .agg({'duration': 'sum', 'tariff': 'max'})\n",
    ").reset_index()"
   ]
  },
  {
   "cell_type": "code",
   "execution_count": 54,
   "metadata": {},
   "outputs": [],
   "source": [
    "minut_per_user_of_month = minut_per_user_of_month.rename(\n",
    "    columns={\n",
    "        'duration': 'counts_minutes',\n",
    "        'call_month': 'month'\n",
    "    }\n",
    "\n",
    ")"
   ]
  },
  {
   "cell_type": "code",
   "execution_count": 55,
   "metadata": {},
   "outputs": [
    {
     "data": {
      "text/html": [
       "<div>\n",
       "<style scoped>\n",
       "    .dataframe tbody tr th:only-of-type {\n",
       "        vertical-align: middle;\n",
       "    }\n",
       "\n",
       "    .dataframe tbody tr th {\n",
       "        vertical-align: top;\n",
       "    }\n",
       "\n",
       "    .dataframe thead th {\n",
       "        text-align: right;\n",
       "    }\n",
       "</style>\n",
       "<table border=\"1\" class=\"dataframe\">\n",
       "  <thead>\n",
       "    <tr style=\"text-align: right;\">\n",
       "      <th></th>\n",
       "      <th>user_id</th>\n",
       "      <th>month</th>\n",
       "      <th>counts_minutes</th>\n",
       "      <th>tariff</th>\n",
       "    </tr>\n",
       "  </thead>\n",
       "  <tbody>\n",
       "    <tr>\n",
       "      <th>0</th>\n",
       "      <td>1000</td>\n",
       "      <td>5</td>\n",
       "      <td>159.0</td>\n",
       "      <td>ultra</td>\n",
       "    </tr>\n",
       "    <tr>\n",
       "      <th>1</th>\n",
       "      <td>1000</td>\n",
       "      <td>6</td>\n",
       "      <td>172.0</td>\n",
       "      <td>ultra</td>\n",
       "    </tr>\n",
       "    <tr>\n",
       "      <th>2</th>\n",
       "      <td>1000</td>\n",
       "      <td>7</td>\n",
       "      <td>340.0</td>\n",
       "      <td>ultra</td>\n",
       "    </tr>\n",
       "    <tr>\n",
       "      <th>3</th>\n",
       "      <td>1000</td>\n",
       "      <td>8</td>\n",
       "      <td>408.0</td>\n",
       "      <td>ultra</td>\n",
       "    </tr>\n",
       "    <tr>\n",
       "      <th>4</th>\n",
       "      <td>1000</td>\n",
       "      <td>9</td>\n",
       "      <td>466.0</td>\n",
       "      <td>ultra</td>\n",
       "    </tr>\n",
       "  </tbody>\n",
       "</table>\n",
       "</div>"
      ],
      "text/plain": [
       "   user_id  month  counts_minutes tariff\n",
       "0     1000      5           159.0  ultra\n",
       "1     1000      6           172.0  ultra\n",
       "2     1000      7           340.0  ultra\n",
       "3     1000      8           408.0  ultra\n",
       "4     1000      9           466.0  ultra"
      ]
     },
     "execution_count": 55,
     "metadata": {},
     "output_type": "execute_result"
    }
   ],
   "source": [
    "minut_per_user_of_month.head()"
   ]
  },
  {
   "cell_type": "markdown",
   "metadata": {},
   "source": [
    "Расчитаем количество звонков на каждого абонента в месяц"
   ]
  },
  {
   "cell_type": "code",
   "execution_count": 56,
   "metadata": {},
   "outputs": [],
   "source": [
    "count_calls_per_user_of_month = (\n",
    "    calls.groupby(\n",
    "        by=['user_id', 'call_month']\n",
    "    )[['duration', 'tariff']]\n",
    "    .agg({'duration': 'count', 'tariff': 'max'})\n",
    ").reset_index()"
   ]
  },
  {
   "cell_type": "code",
   "execution_count": 57,
   "metadata": {},
   "outputs": [],
   "source": [
    "count_calls_per_user_of_month = count_calls_per_user_of_month.rename(\n",
    "    columns={\n",
    "        'duration': 'counts_calls',\n",
    "        'call_month': 'month'\n",
    "    }\n",
    ")"
   ]
  },
  {
   "cell_type": "code",
   "execution_count": 58,
   "metadata": {},
   "outputs": [
    {
     "data": {
      "text/html": [
       "<div>\n",
       "<style scoped>\n",
       "    .dataframe tbody tr th:only-of-type {\n",
       "        vertical-align: middle;\n",
       "    }\n",
       "\n",
       "    .dataframe tbody tr th {\n",
       "        vertical-align: top;\n",
       "    }\n",
       "\n",
       "    .dataframe thead th {\n",
       "        text-align: right;\n",
       "    }\n",
       "</style>\n",
       "<table border=\"1\" class=\"dataframe\">\n",
       "  <thead>\n",
       "    <tr style=\"text-align: right;\">\n",
       "      <th></th>\n",
       "      <th>user_id</th>\n",
       "      <th>month</th>\n",
       "      <th>counts_calls</th>\n",
       "      <th>tariff</th>\n",
       "    </tr>\n",
       "  </thead>\n",
       "  <tbody>\n",
       "    <tr>\n",
       "      <th>0</th>\n",
       "      <td>1000</td>\n",
       "      <td>5</td>\n",
       "      <td>22</td>\n",
       "      <td>ultra</td>\n",
       "    </tr>\n",
       "    <tr>\n",
       "      <th>1</th>\n",
       "      <td>1000</td>\n",
       "      <td>6</td>\n",
       "      <td>43</td>\n",
       "      <td>ultra</td>\n",
       "    </tr>\n",
       "    <tr>\n",
       "      <th>2</th>\n",
       "      <td>1000</td>\n",
       "      <td>7</td>\n",
       "      <td>47</td>\n",
       "      <td>ultra</td>\n",
       "    </tr>\n",
       "    <tr>\n",
       "      <th>3</th>\n",
       "      <td>1000</td>\n",
       "      <td>8</td>\n",
       "      <td>52</td>\n",
       "      <td>ultra</td>\n",
       "    </tr>\n",
       "    <tr>\n",
       "      <th>4</th>\n",
       "      <td>1000</td>\n",
       "      <td>9</td>\n",
       "      <td>58</td>\n",
       "      <td>ultra</td>\n",
       "    </tr>\n",
       "  </tbody>\n",
       "</table>\n",
       "</div>"
      ],
      "text/plain": [
       "   user_id  month  counts_calls tariff\n",
       "0     1000      5            22  ultra\n",
       "1     1000      6            43  ultra\n",
       "2     1000      7            47  ultra\n",
       "3     1000      8            52  ultra\n",
       "4     1000      9            58  ultra"
      ]
     },
     "execution_count": 58,
     "metadata": {},
     "output_type": "execute_result"
    }
   ],
   "source": [
    "count_calls_per_user_of_month.head()"
   ]
  },
  {
   "cell_type": "markdown",
   "metadata": {},
   "source": [
    "#### Расчёт количества отправленных сообщений на месяц"
   ]
  },
  {
   "cell_type": "markdown",
   "metadata": {},
   "source": [
    "Расчитаем количество сообщений на каждого абонента в месяц"
   ]
  },
  {
   "cell_type": "code",
   "execution_count": 59,
   "metadata": {},
   "outputs": [],
   "source": [
    "count_messages_per_user_of_month = (\n",
    "    messages\n",
    "    .groupby(\n",
    "        by=['user_id', 'message_month']\n",
    "    )[['id', 'tariff']]\n",
    "    .agg({'id': 'count', 'tariff': 'max'})\n",
    ").reset_index()"
   ]
  },
  {
   "cell_type": "code",
   "execution_count": 60,
   "metadata": {},
   "outputs": [],
   "source": [
    "count_messages_per_user_of_month = count_messages_per_user_of_month.rename(\n",
    "    columns={\n",
    "        'id': 'counts_message',\n",
    "        'message_month': 'month'\n",
    "    }\n",
    ")"
   ]
  },
  {
   "cell_type": "code",
   "execution_count": 61,
   "metadata": {},
   "outputs": [
    {
     "data": {
      "text/html": [
       "<div>\n",
       "<style scoped>\n",
       "    .dataframe tbody tr th:only-of-type {\n",
       "        vertical-align: middle;\n",
       "    }\n",
       "\n",
       "    .dataframe tbody tr th {\n",
       "        vertical-align: top;\n",
       "    }\n",
       "\n",
       "    .dataframe thead th {\n",
       "        text-align: right;\n",
       "    }\n",
       "</style>\n",
       "<table border=\"1\" class=\"dataframe\">\n",
       "  <thead>\n",
       "    <tr style=\"text-align: right;\">\n",
       "      <th></th>\n",
       "      <th>user_id</th>\n",
       "      <th>month</th>\n",
       "      <th>counts_message</th>\n",
       "      <th>tariff</th>\n",
       "    </tr>\n",
       "  </thead>\n",
       "  <tbody>\n",
       "    <tr>\n",
       "      <th>0</th>\n",
       "      <td>1000</td>\n",
       "      <td>5</td>\n",
       "      <td>22</td>\n",
       "      <td>ultra</td>\n",
       "    </tr>\n",
       "    <tr>\n",
       "      <th>1</th>\n",
       "      <td>1000</td>\n",
       "      <td>6</td>\n",
       "      <td>60</td>\n",
       "      <td>ultra</td>\n",
       "    </tr>\n",
       "    <tr>\n",
       "      <th>2</th>\n",
       "      <td>1000</td>\n",
       "      <td>7</td>\n",
       "      <td>75</td>\n",
       "      <td>ultra</td>\n",
       "    </tr>\n",
       "    <tr>\n",
       "      <th>3</th>\n",
       "      <td>1000</td>\n",
       "      <td>8</td>\n",
       "      <td>81</td>\n",
       "      <td>ultra</td>\n",
       "    </tr>\n",
       "    <tr>\n",
       "      <th>4</th>\n",
       "      <td>1000</td>\n",
       "      <td>9</td>\n",
       "      <td>57</td>\n",
       "      <td>ultra</td>\n",
       "    </tr>\n",
       "  </tbody>\n",
       "</table>\n",
       "</div>"
      ],
      "text/plain": [
       "   user_id  month  counts_message tariff\n",
       "0     1000      5              22  ultra\n",
       "1     1000      6              60  ultra\n",
       "2     1000      7              75  ultra\n",
       "3     1000      8              81  ultra\n",
       "4     1000      9              57  ultra"
      ]
     },
     "execution_count": 61,
     "metadata": {},
     "output_type": "execute_result"
    }
   ],
   "source": [
    "count_messages_per_user_of_month.head()"
   ]
  },
  {
   "cell_type": "markdown",
   "metadata": {},
   "source": [
    "#### Расчёт затрат интерент-трафика"
   ]
  },
  {
   "cell_type": "markdown",
   "metadata": {},
   "source": [
    "Расчитаем количество мб на каждого абонента в месяц"
   ]
  },
  {
   "cell_type": "code",
   "execution_count": 62,
   "metadata": {},
   "outputs": [],
   "source": [
    "sum_mb_per_user_of_month = (\n",
    "    internet\n",
    "    .groupby(\n",
    "        by=['user_id', 'session_month']\n",
    "    )[['mb_used', 'tariff']]\n",
    "    .agg({'mb_used': 'sum', 'tariff': 'max'})\n",
    ").reset_index()"
   ]
  },
  {
   "cell_type": "markdown",
   "metadata": {},
   "source": [
    "Пересчитаем график на гигабайты"
   ]
  },
  {
   "cell_type": "code",
   "execution_count": 63,
   "metadata": {},
   "outputs": [],
   "source": [
    "sum_mb_per_user_of_month['gb_used'] = sum_mb_per_user_of_month.pop('mb_used')/1024"
   ]
  },
  {
   "cell_type": "code",
   "execution_count": 64,
   "metadata": {},
   "outputs": [],
   "source": [
    "sum_mb_per_user_of_month = sum_mb_per_user_of_month.rename(\n",
    "    columns={\n",
    "        'gb_used': 'counts_gb_used',\n",
    "        'session_month': 'month'\n",
    "    }\n",
    ")"
   ]
  },
  {
   "cell_type": "markdown",
   "metadata": {},
   "source": [
    "Округлим месячные расходы трафика согластно принципам мегалайн"
   ]
  },
  {
   "cell_type": "code",
   "execution_count": 65,
   "metadata": {},
   "outputs": [],
   "source": [
    "sum_mb_per_user_of_month['counts_gb_used'] = np.ceil(sum_mb_per_user_of_month['counts_gb_used'])"
   ]
  },
  {
   "cell_type": "code",
   "execution_count": 66,
   "metadata": {},
   "outputs": [
    {
     "data": {
      "text/html": [
       "<div>\n",
       "<style scoped>\n",
       "    .dataframe tbody tr th:only-of-type {\n",
       "        vertical-align: middle;\n",
       "    }\n",
       "\n",
       "    .dataframe tbody tr th {\n",
       "        vertical-align: top;\n",
       "    }\n",
       "\n",
       "    .dataframe thead th {\n",
       "        text-align: right;\n",
       "    }\n",
       "</style>\n",
       "<table border=\"1\" class=\"dataframe\">\n",
       "  <thead>\n",
       "    <tr style=\"text-align: right;\">\n",
       "      <th></th>\n",
       "      <th>user_id</th>\n",
       "      <th>month</th>\n",
       "      <th>tariff</th>\n",
       "      <th>counts_gb_used</th>\n",
       "    </tr>\n",
       "  </thead>\n",
       "  <tbody>\n",
       "    <tr>\n",
       "      <th>0</th>\n",
       "      <td>1000</td>\n",
       "      <td>5</td>\n",
       "      <td>ultra</td>\n",
       "      <td>3.0</td>\n",
       "    </tr>\n",
       "    <tr>\n",
       "      <th>1</th>\n",
       "      <td>1000</td>\n",
       "      <td>6</td>\n",
       "      <td>ultra</td>\n",
       "      <td>23.0</td>\n",
       "    </tr>\n",
       "    <tr>\n",
       "      <th>2</th>\n",
       "      <td>1000</td>\n",
       "      <td>7</td>\n",
       "      <td>ultra</td>\n",
       "      <td>14.0</td>\n",
       "    </tr>\n",
       "    <tr>\n",
       "      <th>3</th>\n",
       "      <td>1000</td>\n",
       "      <td>8</td>\n",
       "      <td>ultra</td>\n",
       "      <td>14.0</td>\n",
       "    </tr>\n",
       "    <tr>\n",
       "      <th>4</th>\n",
       "      <td>1000</td>\n",
       "      <td>9</td>\n",
       "      <td>ultra</td>\n",
       "      <td>15.0</td>\n",
       "    </tr>\n",
       "  </tbody>\n",
       "</table>\n",
       "</div>"
      ],
      "text/plain": [
       "   user_id  month tariff  counts_gb_used\n",
       "0     1000      5  ultra             3.0\n",
       "1     1000      6  ultra            23.0\n",
       "2     1000      7  ultra            14.0\n",
       "3     1000      8  ultra            14.0\n",
       "4     1000      9  ultra            15.0"
      ]
     },
     "execution_count": 66,
     "metadata": {},
     "output_type": "execute_result"
    }
   ],
   "source": [
    "sum_mb_per_user_of_month.head()"
   ]
  },
  {
   "cell_type": "markdown",
   "metadata": {},
   "source": [
    "#### Расчёт помесячной прибыли с пользователя"
   ]
  },
  {
   "cell_type": "markdown",
   "metadata": {},
   "source": [
    "Приведем значениня трафика к гигобатам, так как все расчёты далее будем вести в ниъ"
   ]
  },
  {
   "cell_type": "code",
   "execution_count": 67,
   "metadata": {},
   "outputs": [],
   "source": [
    "tariffs['gb_per_month_included'] = tariffs.mb_per_month_included/1024"
   ]
  },
  {
   "cell_type": "code",
   "execution_count": 68,
   "metadata": {
    "scrolled": false
   },
   "outputs": [
    {
     "data": {
      "text/html": [
       "<div>\n",
       "<style scoped>\n",
       "    .dataframe tbody tr th:only-of-type {\n",
       "        vertical-align: middle;\n",
       "    }\n",
       "\n",
       "    .dataframe tbody tr th {\n",
       "        vertical-align: top;\n",
       "    }\n",
       "\n",
       "    .dataframe thead th {\n",
       "        text-align: right;\n",
       "    }\n",
       "</style>\n",
       "<table border=\"1\" class=\"dataframe\">\n",
       "  <thead>\n",
       "    <tr style=\"text-align: right;\">\n",
       "      <th></th>\n",
       "      <th>messages_included</th>\n",
       "      <th>mb_per_month_included</th>\n",
       "      <th>minutes_included</th>\n",
       "      <th>rub_monthly_fee</th>\n",
       "      <th>rub_per_gb</th>\n",
       "      <th>rub_per_message</th>\n",
       "      <th>rub_per_minute</th>\n",
       "      <th>gb_per_month_included</th>\n",
       "    </tr>\n",
       "    <tr>\n",
       "      <th>tariff_name</th>\n",
       "      <th></th>\n",
       "      <th></th>\n",
       "      <th></th>\n",
       "      <th></th>\n",
       "      <th></th>\n",
       "      <th></th>\n",
       "      <th></th>\n",
       "      <th></th>\n",
       "    </tr>\n",
       "  </thead>\n",
       "  <tbody>\n",
       "    <tr>\n",
       "      <th>smart</th>\n",
       "      <td>50</td>\n",
       "      <td>15360</td>\n",
       "      <td>500</td>\n",
       "      <td>550</td>\n",
       "      <td>200</td>\n",
       "      <td>3</td>\n",
       "      <td>3</td>\n",
       "      <td>15.0</td>\n",
       "    </tr>\n",
       "    <tr>\n",
       "      <th>ultra</th>\n",
       "      <td>1000</td>\n",
       "      <td>30720</td>\n",
       "      <td>3000</td>\n",
       "      <td>1950</td>\n",
       "      <td>150</td>\n",
       "      <td>1</td>\n",
       "      <td>1</td>\n",
       "      <td>30.0</td>\n",
       "    </tr>\n",
       "  </tbody>\n",
       "</table>\n",
       "</div>"
      ],
      "text/plain": [
       "             messages_included  mb_per_month_included  minutes_included  \\\n",
       "tariff_name                                                               \n",
       "smart                       50                  15360               500   \n",
       "ultra                     1000                  30720              3000   \n",
       "\n",
       "             rub_monthly_fee  rub_per_gb  rub_per_message  rub_per_minute  \\\n",
       "tariff_name                                                                 \n",
       "smart                    550         200                3               3   \n",
       "ultra                   1950         150                1               1   \n",
       "\n",
       "             gb_per_month_included  \n",
       "tariff_name                         \n",
       "smart                         15.0  \n",
       "ultra                         30.0  "
      ]
     },
     "execution_count": 68,
     "metadata": {},
     "output_type": "execute_result"
    }
   ],
   "source": [
    "tariffs"
   ]
  },
  {
   "cell_type": "markdown",
   "metadata": {},
   "source": [
    "##### Сведем данные в один датасет"
   ]
  },
  {
   "cell_type": "code",
   "execution_count": 69,
   "metadata": {},
   "outputs": [],
   "source": [
    "df_expenses = minut_per_user_of_month.merge(\n",
    "    count_calls_per_user_of_month,\n",
    "    how='outer',\n",
    "    on=['user_id', 'month', 'tariff']\n",
    ")"
   ]
  },
  {
   "cell_type": "code",
   "execution_count": 70,
   "metadata": {},
   "outputs": [],
   "source": [
    "df_expenses = df_expenses.merge(\n",
    "    count_messages_per_user_of_month,\n",
    "    how='outer',\n",
    "    on=['user_id', 'month', 'tariff']\n",
    ")"
   ]
  },
  {
   "cell_type": "code",
   "execution_count": 71,
   "metadata": {},
   "outputs": [],
   "source": [
    "df_expenses = df_expenses.merge(\n",
    "    sum_mb_per_user_of_month,\n",
    "    how='outer',\n",
    "    on=['user_id', 'month', 'tariff']\n",
    ")"
   ]
  },
  {
   "cell_type": "code",
   "execution_count": 72,
   "metadata": {},
   "outputs": [],
   "source": [
    "df_expenses = df_expenses.fillna(0)"
   ]
  },
  {
   "cell_type": "code",
   "execution_count": 73,
   "metadata": {},
   "outputs": [
    {
     "data": {
      "text/html": [
       "<div>\n",
       "<style scoped>\n",
       "    .dataframe tbody tr th:only-of-type {\n",
       "        vertical-align: middle;\n",
       "    }\n",
       "\n",
       "    .dataframe tbody tr th {\n",
       "        vertical-align: top;\n",
       "    }\n",
       "\n",
       "    .dataframe thead th {\n",
       "        text-align: right;\n",
       "    }\n",
       "</style>\n",
       "<table border=\"1\" class=\"dataframe\">\n",
       "  <thead>\n",
       "    <tr style=\"text-align: right;\">\n",
       "      <th></th>\n",
       "      <th>user_id</th>\n",
       "      <th>month</th>\n",
       "      <th>counts_minutes</th>\n",
       "      <th>counts_calls</th>\n",
       "      <th>counts_message</th>\n",
       "      <th>counts_gb_used</th>\n",
       "    </tr>\n",
       "  </thead>\n",
       "  <tbody>\n",
       "    <tr>\n",
       "      <th>count</th>\n",
       "      <td>3214.000000</td>\n",
       "      <td>3214.000000</td>\n",
       "      <td>3214.000000</td>\n",
       "      <td>3214.000000</td>\n",
       "      <td>3214.000000</td>\n",
       "      <td>3214.000000</td>\n",
       "    </tr>\n",
       "    <tr>\n",
       "      <th>mean</th>\n",
       "      <td>1251.590230</td>\n",
       "      <td>8.317362</td>\n",
       "      <td>451.244866</td>\n",
       "      <td>63.038892</td>\n",
       "      <td>38.281269</td>\n",
       "      <td>17.299004</td>\n",
       "    </tr>\n",
       "    <tr>\n",
       "      <th>std</th>\n",
       "      <td>144.659172</td>\n",
       "      <td>2.905413</td>\n",
       "      <td>241.909978</td>\n",
       "      <td>33.236368</td>\n",
       "      <td>36.148326</td>\n",
       "      <td>7.400584</td>\n",
       "    </tr>\n",
       "    <tr>\n",
       "      <th>min</th>\n",
       "      <td>1000.000000</td>\n",
       "      <td>1.000000</td>\n",
       "      <td>0.000000</td>\n",
       "      <td>0.000000</td>\n",
       "      <td>0.000000</td>\n",
       "      <td>0.000000</td>\n",
       "    </tr>\n",
       "    <tr>\n",
       "      <th>25%</th>\n",
       "      <td>1125.000000</td>\n",
       "      <td>6.000000</td>\n",
       "      <td>282.000000</td>\n",
       "      <td>40.000000</td>\n",
       "      <td>9.000000</td>\n",
       "      <td>13.000000</td>\n",
       "    </tr>\n",
       "    <tr>\n",
       "      <th>50%</th>\n",
       "      <td>1253.000000</td>\n",
       "      <td>9.000000</td>\n",
       "      <td>443.000000</td>\n",
       "      <td>62.000000</td>\n",
       "      <td>30.000000</td>\n",
       "      <td>17.000000</td>\n",
       "    </tr>\n",
       "    <tr>\n",
       "      <th>75%</th>\n",
       "      <td>1378.750000</td>\n",
       "      <td>11.000000</td>\n",
       "      <td>589.000000</td>\n",
       "      <td>82.000000</td>\n",
       "      <td>57.000000</td>\n",
       "      <td>21.000000</td>\n",
       "    </tr>\n",
       "    <tr>\n",
       "      <th>max</th>\n",
       "      <td>1499.000000</td>\n",
       "      <td>12.000000</td>\n",
       "      <td>1673.000000</td>\n",
       "      <td>244.000000</td>\n",
       "      <td>224.000000</td>\n",
       "      <td>49.000000</td>\n",
       "    </tr>\n",
       "  </tbody>\n",
       "</table>\n",
       "</div>"
      ],
      "text/plain": [
       "           user_id        month  counts_minutes  counts_calls  counts_message  \\\n",
       "count  3214.000000  3214.000000     3214.000000   3214.000000     3214.000000   \n",
       "mean   1251.590230     8.317362      451.244866     63.038892       38.281269   \n",
       "std     144.659172     2.905413      241.909978     33.236368       36.148326   \n",
       "min    1000.000000     1.000000        0.000000      0.000000        0.000000   \n",
       "25%    1125.000000     6.000000      282.000000     40.000000        9.000000   \n",
       "50%    1253.000000     9.000000      443.000000     62.000000       30.000000   \n",
       "75%    1378.750000    11.000000      589.000000     82.000000       57.000000   \n",
       "max    1499.000000    12.000000     1673.000000    244.000000      224.000000   \n",
       "\n",
       "       counts_gb_used  \n",
       "count     3214.000000  \n",
       "mean        17.299004  \n",
       "std          7.400584  \n",
       "min          0.000000  \n",
       "25%         13.000000  \n",
       "50%         17.000000  \n",
       "75%         21.000000  \n",
       "max         49.000000  "
      ]
     },
     "execution_count": 73,
     "metadata": {},
     "output_type": "execute_result"
    }
   ],
   "source": [
    "df_expenses.describe()"
   ]
  },
  {
   "cell_type": "markdown",
   "metadata": {},
   "source": [
    "#####  Расчитаем прибыль с каждого клиента"
   ]
  },
  {
   "cell_type": "code",
   "execution_count": 74,
   "metadata": {},
   "outputs": [],
   "source": [
    "df_expenses['amout_profit'] = (\n",
    "    df_expenses.apply(\n",
    "        calculating_amount_of_profit,\n",
    "        axis=1,\n",
    "        tariff=tariffs\n",
    "    )\n",
    ")"
   ]
  },
  {
   "cell_type": "markdown",
   "metadata": {},
   "source": [
    "Расчёт прошел успешно. Можно передавать данные дальше."
   ]
  },
  {
   "cell_type": "code",
   "execution_count": 75,
   "metadata": {},
   "outputs": [
    {
     "data": {
      "text/html": [
       "<div>\n",
       "<style scoped>\n",
       "    .dataframe tbody tr th:only-of-type {\n",
       "        vertical-align: middle;\n",
       "    }\n",
       "\n",
       "    .dataframe tbody tr th {\n",
       "        vertical-align: top;\n",
       "    }\n",
       "\n",
       "    .dataframe thead th {\n",
       "        text-align: right;\n",
       "    }\n",
       "</style>\n",
       "<table border=\"1\" class=\"dataframe\">\n",
       "  <thead>\n",
       "    <tr style=\"text-align: right;\">\n",
       "      <th></th>\n",
       "      <th>user_id</th>\n",
       "      <th>month</th>\n",
       "      <th>counts_minutes</th>\n",
       "      <th>tariff</th>\n",
       "      <th>counts_calls</th>\n",
       "      <th>counts_message</th>\n",
       "      <th>counts_gb_used</th>\n",
       "      <th>amout_profit</th>\n",
       "    </tr>\n",
       "  </thead>\n",
       "  <tbody>\n",
       "    <tr>\n",
       "      <th>0</th>\n",
       "      <td>1000</td>\n",
       "      <td>5</td>\n",
       "      <td>159.0</td>\n",
       "      <td>ultra</td>\n",
       "      <td>22.0</td>\n",
       "      <td>22.0</td>\n",
       "      <td>3.0</td>\n",
       "      <td>1950.0</td>\n",
       "    </tr>\n",
       "    <tr>\n",
       "      <th>1</th>\n",
       "      <td>1000</td>\n",
       "      <td>6</td>\n",
       "      <td>172.0</td>\n",
       "      <td>ultra</td>\n",
       "      <td>43.0</td>\n",
       "      <td>60.0</td>\n",
       "      <td>23.0</td>\n",
       "      <td>1950.0</td>\n",
       "    </tr>\n",
       "    <tr>\n",
       "      <th>2</th>\n",
       "      <td>1000</td>\n",
       "      <td>7</td>\n",
       "      <td>340.0</td>\n",
       "      <td>ultra</td>\n",
       "      <td>47.0</td>\n",
       "      <td>75.0</td>\n",
       "      <td>14.0</td>\n",
       "      <td>1950.0</td>\n",
       "    </tr>\n",
       "    <tr>\n",
       "      <th>3</th>\n",
       "      <td>1000</td>\n",
       "      <td>8</td>\n",
       "      <td>408.0</td>\n",
       "      <td>ultra</td>\n",
       "      <td>52.0</td>\n",
       "      <td>81.0</td>\n",
       "      <td>14.0</td>\n",
       "      <td>1950.0</td>\n",
       "    </tr>\n",
       "    <tr>\n",
       "      <th>4</th>\n",
       "      <td>1000</td>\n",
       "      <td>9</td>\n",
       "      <td>466.0</td>\n",
       "      <td>ultra</td>\n",
       "      <td>58.0</td>\n",
       "      <td>57.0</td>\n",
       "      <td>15.0</td>\n",
       "      <td>1950.0</td>\n",
       "    </tr>\n",
       "  </tbody>\n",
       "</table>\n",
       "</div>"
      ],
      "text/plain": [
       "   user_id  month  counts_minutes tariff  counts_calls  counts_message  \\\n",
       "0     1000      5           159.0  ultra          22.0            22.0   \n",
       "1     1000      6           172.0  ultra          43.0            60.0   \n",
       "2     1000      7           340.0  ultra          47.0            75.0   \n",
       "3     1000      8           408.0  ultra          52.0            81.0   \n",
       "4     1000      9           466.0  ultra          58.0            57.0   \n",
       "\n",
       "   counts_gb_used  amout_profit  \n",
       "0             3.0        1950.0  \n",
       "1            23.0        1950.0  \n",
       "2            14.0        1950.0  \n",
       "3            14.0        1950.0  \n",
       "4            15.0        1950.0  "
      ]
     },
     "execution_count": 75,
     "metadata": {},
     "output_type": "execute_result"
    }
   ],
   "source": [
    "# проверка ревьюера\n",
    "df_expenses[df_expenses['tariff'] == 'ultra'].head()"
   ]
  },
  {
   "cell_type": "markdown",
   "metadata": {},
   "source": [
    "В ходе предобработки привели типы данных к адекватным. Объединили данные в один датасет для удобства работы. Рассчитали полученную прибыл с каждого клиента. "
   ]
  },
  {
   "cell_type": "markdown",
   "metadata": {},
   "source": [
    "## Исследовательский анализ данных"
   ]
  },
  {
   "cell_type": "markdown",
   "metadata": {},
   "source": [
    "Поведение клиентов оператора, исходя из выборки. \n",
    "* Сколько минут разговора, сколько сообщений и какой объём интернет-трафика требуется пользователям каждого тарифа в месяц? \n",
    "\n",
    "Среднее количество, дисперсию и стандартное отклонение. Гистограммы и распределения."
   ]
  },
  {
   "cell_type": "markdown",
   "metadata": {},
   "source": [
    "### Затраты минут"
   ]
  },
  {
   "cell_type": "code",
   "execution_count": 76,
   "metadata": {
    "scrolled": false
   },
   "outputs": [
    {
     "data": {
      "image/png": "[encoded data removed]",
      "text/plain": [
       "<Figure size 1152x576 with 4 Axes>"
      ]
     },
     "metadata": {
      "needs_background": "light"
     },
     "output_type": "display_data"
    }
   ],
   "source": [
    "fig = plt.figure(figsize = (16, 8))\n",
    "ax = fig.add_subplot(1,2,1) \n",
    "ax.set_xlabel('Количество звонков, мин')\n",
    "ax.set_ylabel('Частота')\n",
    "ax.set_title('Распределение количества\\n звонков по тарифам')\n",
    "sns.histplot(\n",
    "    data=df_expenses, x=\"counts_minutes\", hue=\"tariff\",\n",
    "    element=\"step\", stat=\"density\",\n",
    ")\n",
    "ax.axvline(\n",
    "    tariffs.loc['smart', 'minutes_included'],\n",
    "    color='orange'\n",
    ")\n",
    "ax.axvline(\n",
    "    tariffs.loc['ultra', 'minutes_included'],\n",
    "    color='blue'\n",
    ")\n",
    "ax.grid()\n",
    "ax = fig.add_subplot(1,2,2) \n",
    "ax.set_xlabel('Количество звонков, мин')\n",
    "ax.set_ylabel('Тарифы')\n",
    "ax.set_title('Распределение количества\\n звонков по тарифам')\n",
    "sns.histplot(\n",
    "    df_expenses, x=\"counts_minutes\", y=\"tariff\", hue=\"tariff\", legend=False,\n",
    "    cbar=True,\n",
    ")\n",
    "ax.axvline(\n",
    "    tariffs.loc['smart', 'minutes_included'],\n",
    "    color='red'\n",
    ")\n",
    "ax.axvline(\n",
    "    tariffs.loc['ultra', 'minutes_included'],\n",
    "    color='blue'\n",
    ")\n",
    "plt.show()"
   ]
  },
  {
   "cell_type": "code",
   "execution_count": 77,
   "metadata": {},
   "outputs": [
    {
     "data": {
      "text/html": [
       "<div>\n",
       "<style scoped>\n",
       "    .dataframe tbody tr th:only-of-type {\n",
       "        vertical-align: middle;\n",
       "    }\n",
       "\n",
       "    .dataframe tbody tr th {\n",
       "        vertical-align: top;\n",
       "    }\n",
       "\n",
       "    .dataframe thead th {\n",
       "        text-align: right;\n",
       "    }\n",
       "</style>\n",
       "<table border=\"1\" class=\"dataframe\">\n",
       "  <thead>\n",
       "    <tr style=\"text-align: right;\">\n",
       "      <th></th>\n",
       "      <th>mean</th>\n",
       "      <th>var</th>\n",
       "      <th>median</th>\n",
       "      <th>std</th>\n",
       "      <th>minutes_included</th>\n",
       "    </tr>\n",
       "    <tr>\n",
       "      <th>tariff</th>\n",
       "      <th></th>\n",
       "      <th></th>\n",
       "      <th></th>\n",
       "      <th></th>\n",
       "      <th></th>\n",
       "    </tr>\n",
       "  </thead>\n",
       "  <tbody>\n",
       "    <tr>\n",
       "      <th>smart</th>\n",
       "      <td>417.934948</td>\n",
       "      <td>36219.315784</td>\n",
       "      <td>422.0</td>\n",
       "      <td>190.313730</td>\n",
       "      <td>500</td>\n",
       "    </tr>\n",
       "    <tr>\n",
       "      <th>ultra</th>\n",
       "      <td>526.623350</td>\n",
       "      <td>100873.633397</td>\n",
       "      <td>518.0</td>\n",
       "      <td>317.606098</td>\n",
       "      <td>3000</td>\n",
       "    </tr>\n",
       "  </tbody>\n",
       "</table>\n",
       "</div>"
      ],
      "text/plain": [
       "              mean            var  median         std  minutes_included\n",
       "tariff                                                                 \n",
       "smart   417.934948   36219.315784   422.0  190.313730               500\n",
       "ultra   526.623350  100873.633397   518.0  317.606098              3000"
      ]
     },
     "execution_count": 77,
     "metadata": {},
     "output_type": "execute_result"
    }
   ],
   "source": [
    "counts_pivot = df_expenses.groupby(by='tariff')['counts_minutes'].agg(\n",
    "    ['mean',\n",
    "     np.var,\n",
    "     'median',\n",
    "     'std']\n",
    ")\n",
    "counts_pivot['minutes_included'] = tariffs.loc[:, 'minutes_included']\n",
    "counts_pivot"
   ]
  },
  {
   "cell_type": "markdown",
   "metadata": {},
   "source": [
    "Из рисунков видно, что распределения количества минут по тарифам близко. Оба распределения находятся в области от 0 до 1500 минут. \n",
    "* Распределение **smart** более собранное около значений 420 мин. При этом ежемесячная квота приходится на середину распределения. Вероятно, сумма перерасхода минут будет высоким.\n",
    "* Распределение **ultra** более распределенное плоское около значений 520 мин. При этом ежемесячная квота приходится на далеко за границей распределения. Перерасход минут встречается редко. Очень большое количество нерасходованных сообщений.\n",
    "\n",
    "Вероятно, среднее и медианное значение выше в тарифе **ultra**, а перерасход будет чаще на тарифе **smart**. Для обоих номеров необходимо более 500 минут в месяц.\n"
   ]
  },
  {
   "cell_type": "markdown",
   "metadata": {},
   "source": [
    "### Затраты сообщений"
   ]
  },
  {
   "cell_type": "code",
   "execution_count": 78,
   "metadata": {
    "scrolled": false
   },
   "outputs": [
    {
     "data": {
      "image/png": "[encoded data removed]",
      "text/plain": [
       "<Figure size 1152x576 with 4 Axes>"
      ]
     },
     "metadata": {
      "needs_background": "light"
     },
     "output_type": "display_data"
    }
   ],
   "source": [
    "fig = plt.figure(figsize = (16, 8))\n",
    "ax = fig.add_subplot(1,2,1) \n",
    "ax.set_xlabel('Количество сообщений, шт')\n",
    "ax.set_ylabel('Частота')\n",
    "ax.set_title('Распределение количества\\n сообщений по тарифам')\n",
    "sns.histplot(\n",
    "    data=df_expenses, x=\"counts_message\", hue=\"tariff\",\n",
    "    element=\"step\", stat=\"density\",\n",
    ")\n",
    "ax.axvline(\n",
    "    tariffs.loc['smart', 'messages_included'],\n",
    "    color='orange'\n",
    ")\n",
    "ax.axvline(\n",
    "    tariffs.loc['ultra', 'messages_included'],\n",
    "    color='blue'\n",
    ")\n",
    "ax.grid()\n",
    "ax = fig.add_subplot(1,2,2) \n",
    "ax.set_xlabel('Количество сообщений, шт')\n",
    "ax.set_ylabel('Тарифы')\n",
    "ax.set_title('Распределение количества\\n сообщений по тарифам')\n",
    "sns.histplot(\n",
    "    df_expenses, x=\"counts_message\", y=\"tariff\", hue=\"tariff\", legend=False,\n",
    "    cbar=True,\n",
    ")\n",
    "ax.axvline(\n",
    "    tariffs.loc['smart', 'messages_included'],\n",
    "    color='red'\n",
    ")\n",
    "ax.axvline(\n",
    "    tariffs.loc['ultra', 'messages_included'],\n",
    "    color='blue'\n",
    ")\n",
    "plt.show()"
   ]
  },
  {
   "cell_type": "code",
   "execution_count": 79,
   "metadata": {},
   "outputs": [
    {
     "data": {
      "text/html": [
       "<div>\n",
       "<style scoped>\n",
       "    .dataframe tbody tr th:only-of-type {\n",
       "        vertical-align: middle;\n",
       "    }\n",
       "\n",
       "    .dataframe tbody tr th {\n",
       "        vertical-align: top;\n",
       "    }\n",
       "\n",
       "    .dataframe thead th {\n",
       "        text-align: right;\n",
       "    }\n",
       "</style>\n",
       "<table border=\"1\" class=\"dataframe\">\n",
       "  <thead>\n",
       "    <tr style=\"text-align: right;\">\n",
       "      <th></th>\n",
       "      <th>mean</th>\n",
       "      <th>var</th>\n",
       "      <th>median</th>\n",
       "      <th>std</th>\n",
       "      <th>messages_included</th>\n",
       "    </tr>\n",
       "    <tr>\n",
       "      <th>tariff</th>\n",
       "      <th></th>\n",
       "      <th></th>\n",
       "      <th></th>\n",
       "      <th></th>\n",
       "      <th></th>\n",
       "    </tr>\n",
       "  </thead>\n",
       "  <tbody>\n",
       "    <tr>\n",
       "      <th>smart</th>\n",
       "      <td>33.384029</td>\n",
       "      <td>796.812958</td>\n",
       "      <td>28.0</td>\n",
       "      <td>28.227876</td>\n",
       "      <td>50</td>\n",
       "    </tr>\n",
       "    <tr>\n",
       "      <th>ultra</th>\n",
       "      <td>49.363452</td>\n",
       "      <td>2285.266143</td>\n",
       "      <td>38.0</td>\n",
       "      <td>47.804457</td>\n",
       "      <td>1000</td>\n",
       "    </tr>\n",
       "  </tbody>\n",
       "</table>\n",
       "</div>"
      ],
      "text/plain": [
       "             mean          var  median        std  messages_included\n",
       "tariff                                                              \n",
       "smart   33.384029   796.812958    28.0  28.227876                 50\n",
       "ultra   49.363452  2285.266143    38.0  47.804457               1000"
      ]
     },
     "execution_count": 79,
     "metadata": {},
     "output_type": "execute_result"
    }
   ],
   "source": [
    "message_pivot = df_expenses.groupby(by='tariff')['counts_message'].agg(\n",
    "    ['mean',\n",
    "     np.var,\n",
    "     'median',\n",
    "     'std']\n",
    ")\n",
    "message_pivot['messages_included'] = tariffs.loc[:, 'messages_included']\n",
    "message_pivot"
   ]
  },
  {
   "cell_type": "markdown",
   "metadata": {},
   "source": [
    "Распределение количества сообщений по тарифам близко. Оба распределения находятся в области от 0 до 230 сообщений.\n",
    "\n",
    "* Распределение **smart** более собранное около значений 30 сообщений. При этом ежемесячная квота приходится на вторую терть распределения. Вероятно, сумма перерасхода сообщений будет высоким.\n",
    "* Распределение **ultra** более пологое около значений 50 сообщений. При этом ежемесячная квота приходится на далеко за границей распределения. Перерасход сообщений встречается редко. Очень большой объём нерасходованных сообщений.\n",
    "\n",
    "Вероятно, среднее и медианное значение выше в тарифе **ultra**, а перерасход будет чаще на тарифе **smart**. Обоим группам нажно около 200 сообщений в месяц, чтобы покрывать большую часть потребности."
   ]
  },
  {
   "cell_type": "markdown",
   "metadata": {},
   "source": [
    "### Затраты трафика"
   ]
  },
  {
   "cell_type": "code",
   "execution_count": 80,
   "metadata": {
    "scrolled": false
   },
   "outputs": [
    {
     "data": {
      "image/png": "[encoded data removed]",
      "text/plain": [
       "<Figure size 1152x576 with 4 Axes>"
      ]
     },
     "metadata": {
      "needs_background": "light"
     },
     "output_type": "display_data"
    }
   ],
   "source": [
    "fig = plt.figure(figsize = (16, 8))\n",
    "ax = fig.add_subplot(1,2,1) \n",
    "ax.set_xlabel('Объём трафика, гб')\n",
    "ax.set_ylabel('Частота')\n",
    "ax.set_title('Распределение объёма\\n трафика по тарифам')\n",
    "sns.histplot(\n",
    "    data=df_expenses, x=\"counts_gb_used\", hue=\"tariff\",\n",
    "    element=\"step\", stat=\"density\",\n",
    ")\n",
    "ax.axvline(\n",
    "    tariffs.loc['smart', 'gb_per_month_included'],\n",
    "    color='orange'\n",
    ")\n",
    "ax.axvline(\n",
    "    tariffs.loc['ultra', 'gb_per_month_included'],\n",
    "    color='blue'\n",
    ")\n",
    "ax.grid()\n",
    "ax = fig.add_subplot(1,2,2) \n",
    "ax.set_xlabel('Объём трафика, гб')\n",
    "ax.set_ylabel('Тарифы')\n",
    "ax.set_title('Распределение объёма\\n трафика по тарифам')\n",
    "sns.histplot(\n",
    "    df_expenses, x=\"counts_gb_used\", y=\"tariff\", hue=\"tariff\", legend=False,\n",
    "    cbar=True,\n",
    ")\n",
    "ax.axvline(\n",
    "    tariffs.loc['smart', 'gb_per_month_included'],\n",
    "    color='red'\n",
    ")\n",
    "ax.axvline(\n",
    "    tariffs.loc['ultra', 'gb_per_month_included'],\n",
    "    color='blue'\n",
    ")\n",
    "plt.show()"
   ]
  },
  {
   "cell_type": "code",
   "execution_count": 81,
   "metadata": {},
   "outputs": [
    {
     "data": {
      "text/html": [
       "<div>\n",
       "<style scoped>\n",
       "    .dataframe tbody tr th:only-of-type {\n",
       "        vertical-align: middle;\n",
       "    }\n",
       "\n",
       "    .dataframe tbody tr th {\n",
       "        vertical-align: top;\n",
       "    }\n",
       "\n",
       "    .dataframe thead th {\n",
       "        text-align: right;\n",
       "    }\n",
       "</style>\n",
       "<table border=\"1\" class=\"dataframe\">\n",
       "  <thead>\n",
       "    <tr style=\"text-align: right;\">\n",
       "      <th></th>\n",
       "      <th>mean</th>\n",
       "      <th>var</th>\n",
       "      <th>median</th>\n",
       "      <th>std</th>\n",
       "      <th>gb_per_month_included</th>\n",
       "    </tr>\n",
       "    <tr>\n",
       "      <th>tariff</th>\n",
       "      <th></th>\n",
       "      <th></th>\n",
       "      <th></th>\n",
       "      <th></th>\n",
       "      <th></th>\n",
       "    </tr>\n",
       "  </thead>\n",
       "  <tbody>\n",
       "    <tr>\n",
       "      <th>smart</th>\n",
       "      <td>16.328847</td>\n",
       "      <td>33.028705</td>\n",
       "      <td>17.0</td>\n",
       "      <td>5.747061</td>\n",
       "      <td>15.0</td>\n",
       "    </tr>\n",
       "    <tr>\n",
       "      <th>ultra</th>\n",
       "      <td>19.494416</td>\n",
       "      <td>97.091686</td>\n",
       "      <td>19.0</td>\n",
       "      <td>9.853511</td>\n",
       "      <td>30.0</td>\n",
       "    </tr>\n",
       "  </tbody>\n",
       "</table>\n",
       "</div>"
      ],
      "text/plain": [
       "             mean        var  median       std  gb_per_month_included\n",
       "tariff                                                               \n",
       "smart   16.328847  33.028705    17.0  5.747061                   15.0\n",
       "ultra   19.494416  97.091686    19.0  9.853511                   30.0"
      ]
     },
     "execution_count": 81,
     "metadata": {},
     "output_type": "execute_result"
    }
   ],
   "source": [
    "trafik_counts = df_expenses.groupby(\n",
    "    by='tariff'\n",
    ")['counts_gb_used'].agg(\n",
    "    ['mean',\n",
    "     np.var,\n",
    "     'median',\n",
    "     'std']\n",
    ")\n",
    "trafik_counts['gb_per_month_included'] = tariffs.loc[:, 'gb_per_month_included']\n",
    "trafik_counts"
   ]
  },
  {
   "cell_type": "code",
   "execution_count": 82,
   "metadata": {},
   "outputs": [
    {
     "data": {
      "text/plain": [
       "30.0"
      ]
     },
     "execution_count": 82,
     "metadata": {},
     "output_type": "execute_result"
    }
   ],
   "source": [
    "df_expenses.query(\"tariff == 'ultra'\")['counts_gb_used'].quantile(.85)\n"
   ]
  },
  {
   "cell_type": "markdown",
   "metadata": {},
   "source": [
    "Распределение количества трафика по тарифам близко. Оба распределения находятся в области от 0 до 50 гб.\n",
    "\n",
    "* Распределение **smart** более собранное около значений 17 гб. При этом ежемесячная квота приходится на вторую терть распределения. Вероятно, сумма перерасхода трафика будет высоким.\n",
    "* Распределение **ultra** более пологое и равномерное около значений 20 гб. При этом ежемесячная квота приходится на второй половине распределения (85 квантиль). Перерасход трафика встречается регулярно (15% распределения).\n",
    "\n",
    "Вероятно, среднее и медианное значение выше в тарифе **ultra**, а перерасход будет чаще на тарифе **smart**. Большинству достаточно 30 гб в месяц, но чтобы покрывать потребность всех нужно до 50 гб в месяц."
   ]
  },
  {
   "cell_type": "markdown",
   "metadata": {},
   "source": [
    "###  Полученная прибыль"
   ]
  },
  {
   "cell_type": "code",
   "execution_count": 83,
   "metadata": {
    "scrolled": false
   },
   "outputs": [
    {
     "data": {
      "image/png": "[encoded data removed]",
      "text/plain": [
       "<Figure size 1152x576 with 4 Axes>"
      ]
     },
     "metadata": {
      "needs_background": "light"
     },
     "output_type": "display_data"
    }
   ],
   "source": [
    "fig = plt.figure(figsize = (16, 8))\n",
    "ax = fig.add_subplot(1,2,1) \n",
    "ax.set_xlabel('Прибыль, ед.')\n",
    "ax.set_ylabel('Частота')\n",
    "ax.set_title('Распределение прибыли\\n по тарифам')\n",
    "sns.histplot(\n",
    "    data=df_expenses, x=\"amout_profit\", hue=\"tariff\",\n",
    "    element=\"step\", stat=\"density\",\n",
    ")\n",
    "ax.grid()\n",
    "ax = fig.add_subplot(1,2,2) \n",
    "ax.set_xlabel('Прибыль, ед.')\n",
    "ax.set_ylabel('Тарифы')\n",
    "ax.set_title('Распределение прибыли\\n по тарифам')\n",
    "sns.histplot(\n",
    "    df_expenses, x=\"amout_profit\", y=\"tariff\", hue=\"tariff\", legend=False,\n",
    "    cbar=True,\n",
    ")\n",
    "plt.show()"
   ]
  },
  {
   "cell_type": "code",
   "execution_count": 84,
   "metadata": {},
   "outputs": [
    {
     "data": {
      "text/html": [
       "<div>\n",
       "<style scoped>\n",
       "    .dataframe tbody tr th:only-of-type {\n",
       "        vertical-align: middle;\n",
       "    }\n",
       "\n",
       "    .dataframe tbody tr th {\n",
       "        vertical-align: top;\n",
       "    }\n",
       "\n",
       "    .dataframe thead th {\n",
       "        text-align: right;\n",
       "    }\n",
       "</style>\n",
       "<table border=\"1\" class=\"dataframe\">\n",
       "  <thead>\n",
       "    <tr style=\"text-align: right;\">\n",
       "      <th></th>\n",
       "      <th>mean</th>\n",
       "      <th>var</th>\n",
       "      <th>median</th>\n",
       "      <th>std</th>\n",
       "    </tr>\n",
       "    <tr>\n",
       "      <th>tariff</th>\n",
       "      <th></th>\n",
       "      <th></th>\n",
       "      <th></th>\n",
       "      <th></th>\n",
       "    </tr>\n",
       "  </thead>\n",
       "  <tbody>\n",
       "    <tr>\n",
       "      <th>smart</th>\n",
       "      <td>1289.973531</td>\n",
       "      <td>669785.708006</td>\n",
       "      <td>1023.0</td>\n",
       "      <td>818.404367</td>\n",
       "    </tr>\n",
       "    <tr>\n",
       "      <th>ultra</th>\n",
       "      <td>2070.152284</td>\n",
       "      <td>141516.745079</td>\n",
       "      <td>1950.0</td>\n",
       "      <td>376.187114</td>\n",
       "    </tr>\n",
       "  </tbody>\n",
       "</table>\n",
       "</div>"
      ],
      "text/plain": [
       "               mean            var  median         std\n",
       "tariff                                                \n",
       "smart   1289.973531  669785.708006  1023.0  818.404367\n",
       "ultra   2070.152284  141516.745079  1950.0  376.187114"
      ]
     },
     "execution_count": 84,
     "metadata": {},
     "output_type": "execute_result"
    }
   ],
   "source": [
    "df_expenses.groupby(\n",
    "    by='tariff'\n",
    ")['amout_profit'].agg(\n",
    "    ['mean', np.var,\n",
    "     'median', 'std']\n",
    ")"
   ]
  },
  {
   "cell_type": "markdown",
   "metadata": {},
   "source": [
    "Распределение количества прибыли по тарифам различается. \n",
    "Распределение по тарифу **smart** находятся в области от 0 до 7 000 ед.\n",
    "Распределение по тарифу **ultra** находятся в области от 1950 до 5 000 ед.\n",
    "\n",
    "* Распределение **smart** скошенное справа около значений 1200 ед. \n",
    "* Распределение **ultra** скошенное справа к значению 2000 ед. так как стоимость тарифа в месяц 1950 ед. \n",
    "\n",
    "Вероятно, среднее и медианное значение выше в тарифе **ultra**"
   ]
  },
  {
   "cell_type": "markdown",
   "metadata": {},
   "source": [
    "###  Описание среднего клиента"
   ]
  },
  {
   "cell_type": "code",
   "execution_count": 85,
   "metadata": {},
   "outputs": [
    {
     "data": {
      "text/html": [
       "<div>\n",
       "<style scoped>\n",
       "    .dataframe tbody tr th:only-of-type {\n",
       "        vertical-align: middle;\n",
       "    }\n",
       "\n",
       "    .dataframe tbody tr th {\n",
       "        vertical-align: top;\n",
       "    }\n",
       "\n",
       "    .dataframe thead tr th {\n",
       "        text-align: left;\n",
       "    }\n",
       "\n",
       "    .dataframe thead tr:last-of-type th {\n",
       "        text-align: right;\n",
       "    }\n",
       "</style>\n",
       "<table border=\"1\" class=\"dataframe\">\n",
       "  <thead>\n",
       "    <tr>\n",
       "      <th></th>\n",
       "      <th colspan=\"2\" halign=\"left\">counts_minutes</th>\n",
       "      <th colspan=\"2\" halign=\"left\">counts_message</th>\n",
       "      <th colspan=\"2\" halign=\"left\">counts_gb_used</th>\n",
       "      <th colspan=\"2\" halign=\"left\">amout_profit</th>\n",
       "    </tr>\n",
       "    <tr>\n",
       "      <th></th>\n",
       "      <th>mean</th>\n",
       "      <th>median</th>\n",
       "      <th>mean</th>\n",
       "      <th>median</th>\n",
       "      <th>mean</th>\n",
       "      <th>median</th>\n",
       "      <th>mean</th>\n",
       "      <th>median</th>\n",
       "    </tr>\n",
       "    <tr>\n",
       "      <th>tariff</th>\n",
       "      <th></th>\n",
       "      <th></th>\n",
       "      <th></th>\n",
       "      <th></th>\n",
       "      <th></th>\n",
       "      <th></th>\n",
       "      <th></th>\n",
       "      <th></th>\n",
       "    </tr>\n",
       "  </thead>\n",
       "  <tbody>\n",
       "    <tr>\n",
       "      <th>smart</th>\n",
       "      <td>417.934948</td>\n",
       "      <td>422.0</td>\n",
       "      <td>33.384029</td>\n",
       "      <td>28.0</td>\n",
       "      <td>16.328847</td>\n",
       "      <td>17.0</td>\n",
       "      <td>1289.973531</td>\n",
       "      <td>1023.0</td>\n",
       "    </tr>\n",
       "    <tr>\n",
       "      <th>ultra</th>\n",
       "      <td>526.623350</td>\n",
       "      <td>518.0</td>\n",
       "      <td>49.363452</td>\n",
       "      <td>38.0</td>\n",
       "      <td>19.494416</td>\n",
       "      <td>19.0</td>\n",
       "      <td>2070.152284</td>\n",
       "      <td>1950.0</td>\n",
       "    </tr>\n",
       "  </tbody>\n",
       "</table>\n",
       "</div>"
      ],
      "text/plain": [
       "       counts_minutes        counts_message        counts_gb_used         \\\n",
       "                 mean median           mean median           mean median   \n",
       "tariff                                                                     \n",
       "smart      417.934948  422.0      33.384029   28.0      16.328847   17.0   \n",
       "ultra      526.623350  518.0      49.363452   38.0      19.494416   19.0   \n",
       "\n",
       "       amout_profit          \n",
       "               mean  median  \n",
       "tariff                       \n",
       "smart   1289.973531  1023.0  \n",
       "ultra   2070.152284  1950.0  "
      ]
     },
     "execution_count": 85,
     "metadata": {},
     "output_type": "execute_result"
    }
   ],
   "source": [
    "df_expenses.groupby(\n",
    "    by='tariff'\n",
    ")[\n",
    "    'counts_minutes',\n",
    "    'counts_message',\n",
    "    'counts_gb_used',\n",
    "    'amout_profit',\n",
    "].agg(\n",
    "    ['mean', 'median']\n",
    ")"
   ]
  },
  {
   "cell_type": "markdown",
   "metadata": {},
   "source": [
    "Средний пользователь *smart* в среднем меньше пользуются услугами, чем средний клиент *ultra*."
   ]
  },
  {
   "cell_type": "markdown",
   "metadata": {},
   "source": [
    "## Проверка гипотез"
   ]
  },
  {
   "cell_type": "markdown",
   "metadata": {},
   "source": [
    "* средняя выручка пользователей тарифов «Ультра» и «Смарт» различаются;\n",
    "* средняя выручка пользователей из Москвы отличается от выручки пользователей из других регионов."
   ]
  },
  {
   "cell_type": "markdown",
   "metadata": {},
   "source": [
    "### Средняя выручка пользователей тарифов «Ультра» и «Смарт» различаются"
   ]
  },
  {
   "cell_type": "markdown",
   "metadata": {},
   "source": [
    "Сформулируем статистические гипотезы:\n",
    "\n",
    "Ho - Средняя выручка пользователей тарифов «Ультра» и «Смарт» не различаются\n",
    "\n",
    "Hа - Средняя выручка пользователей тарифов «Ультра» и «Смарт» различаются"
   ]
  },
  {
   "cell_type": "markdown",
   "metadata": {},
   "source": [
    "Выделим группы сравнения и проведем статистический анализ"
   ]
  },
  {
   "cell_type": "code",
   "execution_count": 86,
   "metadata": {},
   "outputs": [
    {
     "name": "stdout",
     "output_type": "stream",
     "text": [
      "smart 2229\n",
      "ultra 985\n"
     ]
    }
   ],
   "source": [
    "dict_tariff_amount = {}\n",
    "for group in df_expenses.groupby(by='tariff')['amout_profit']:\n",
    "    print(group[0], len(group[1]))\n",
    "    dict_tariff_amount[group[0]] = list(group[1])"
   ]
  },
  {
   "cell_type": "markdown",
   "metadata": {},
   "source": [
    "Будем сравнивать двухстороним тестом Стьюдента. Так как у нас две независимые группы и достаточное количество записей"
   ]
  },
  {
   "cell_type": "code",
   "execution_count": 87,
   "metadata": {},
   "outputs": [
    {
     "data": {
      "text/plain": [
       "1.4229814360764067e-160"
      ]
     },
     "execution_count": 87,
     "metadata": {},
     "output_type": "execute_result"
    }
   ],
   "source": [
    "stat, p_value= st.ttest_ind(dict_tariff_amount['smart'], dict_tariff_amount['ultra'])\n",
    "p_value"
   ]
  },
  {
   "cell_type": "code",
   "execution_count": 88,
   "metadata": {
    "scrolled": true
   },
   "outputs": [
    {
     "name": "stdout",
     "output_type": "stream",
     "text": [
      "Принимаем альтернативную гипотезу. Среднее вероятно различаются.\n",
      "Отношение между прибылью smart/ultra = 0.6231297767496938\n"
     ]
    }
   ],
   "source": [
    "if p_value < ALPHA:\n",
    "    print(\"Принимаем альтернативную гипотезу. Среднее вероятно различаются.\")\n",
    "    relationships =(\n",
    "        (np.mean(dict_tariff_amount['smart']) / np.mean(dict_tariff_amount['ultra']))\n",
    "    )\n",
    "    print(f\"Отношение между прибылью smart/ultra = {relationships}\")\n",
    "else:\n",
    "    print(\"Принимаем нулевую гипотезу. Среднее вероятно не различается.\")"
   ]
  },
  {
   "cell_type": "markdown",
   "metadata": {},
   "source": [
    "### Средняя выручка пользователей из Москвы отличается от выручки пользователей из других регионов"
   ]
  },
  {
   "cell_type": "markdown",
   "metadata": {},
   "source": [
    "Сформулируем статистические гипотезы:\n",
    "\n",
    "Ho - Средняя выручка пользователей из Москвы не отличается от выручки пользователей из других регионов\n",
    "\n",
    "Hа - Средняя выручка пользователей из Москвы отличается от выручки пользователей из других регионов"
   ]
  },
  {
   "cell_type": "markdown",
   "metadata": {},
   "source": [
    "Выделим группы сравнения и проведем статистический анализ"
   ]
  },
  {
   "cell_type": "code",
   "execution_count": 89,
   "metadata": {},
   "outputs": [],
   "source": [
    "comparison_city = df_expenses.merge(users[['user_id', 'city']], on='user_id', how='left')"
   ]
  },
  {
   "cell_type": "code",
   "execution_count": 90,
   "metadata": {},
   "outputs": [],
   "source": [
    "func_comparison_city = comparison_city['city'] ==  'Москва'\n",
    "comparison_city['city_group'] = comparison_city['city'].where(func_comparison_city, 'Регионы')"
   ]
  },
  {
   "cell_type": "code",
   "execution_count": 91,
   "metadata": {},
   "outputs": [
    {
     "name": "stdout",
     "output_type": "stream",
     "text": [
      "Москва 611\n",
      "Регионы 2603\n"
     ]
    }
   ],
   "source": [
    "dict_redion_amount = {}\n",
    "for group in comparison_city.groupby(by='city_group')['amout_profit']:\n",
    "    print(group[0], len(group[1]))\n",
    "    dict_redion_amount[group[0]] = list(group[1])"
   ]
  },
  {
   "cell_type": "markdown",
   "metadata": {},
   "source": [
    "Будем сравнивать двухстороним тестом Стьюдента. Так как у нас две независимые группы и достаточное количество записей"
   ]
  },
  {
   "cell_type": "code",
   "execution_count": 92,
   "metadata": {},
   "outputs": [
    {
     "data": {
      "text/plain": [
       "0.5440152911670224"
      ]
     },
     "execution_count": 92,
     "metadata": {},
     "output_type": "execute_result"
    }
   ],
   "source": [
    "stat, p_value= st.ttest_ind(dict_redion_amount['Москва'], dict_redion_amount['Регионы'])\n",
    "p_value"
   ]
  },
  {
   "cell_type": "code",
   "execution_count": 93,
   "metadata": {
    "scrolled": true
   },
   "outputs": [
    {
     "name": "stdout",
     "output_type": "stream",
     "text": [
      "Принимаем нулевую гипотезу. Среднее вероятно не различается.\n"
     ]
    }
   ],
   "source": [
    "if p_value < ALPHA:\n",
    "    print(\"Принимаем альтернативную гипотезу. Среднее вероятно различаются.\")\n",
    "    relationships =(\n",
    "        (np.mean(dict_redion_amount['Москва']) / np.mean(dict_redion_amount['Регионы']))\n",
    "    )\n",
    "    print(f\"Отношение между прибылью Москва/Регионы = {relationships}\")\n",
    "else:\n",
    "    print(\"Принимаем нулевую гипотезу. Среднее вероятно не различается.\")"
   ]
  },
  {
   "cell_type": "markdown",
   "metadata": {},
   "source": [
    "## Заключение"
   ]
  },
  {
   "cell_type": "markdown",
   "metadata": {},
   "source": [
    "В целом, ползователи тарифа **smart** перерасходуют квоту выделенную на месяц. Пользователи тарифа **ultra** часто нерасходуют выделеную квоту. \n",
    "\n",
    "Большинству пользователей будет достаточно:\n",
    "* Минуты: 400-500 минут;\n",
    "* Сообщения: 30-50 сообщений;\n",
    "* Трафик: 15-20 ГБ.\n",
    "\n",
    "Проверка гипотез:\n",
    "* Больший перерасход наблюдается на тарифе **smart**, чем на тарифе **ultra**. При этом прибыль с тарифа **ultra** выше чем с тарифа **smart**. \n",
    "* Регионы и Москва не различаются по средней выручкой.\n",
    "\n",
    "Рекламный бюджет лучше перераспределить на тариф **ultra** в Москве и регионах."
   ]
  }
 ],
 "metadata": {
  "ExecuteTimeLog": [
   {
    "duration": 1064,
    "start_time": "2022-03-23T17:44:00.385Z"
   },
   {
    "duration": 3,
    "start_time": "2022-03-23T17:44:18.667Z"
   },
   {
    "duration": 4,
    "start_time": "2022-03-23T17:45:26.606Z"
   },
   {
    "duration": 152,
    "start_time": "2022-03-23T17:46:24.811Z"
   },
   {
    "duration": 159,
    "start_time": "2022-03-23T17:47:09.255Z"
   },
   {
    "duration": 129,
    "start_time": "2022-03-23T17:47:09.446Z"
   },
   {
    "duration": 91,
    "start_time": "2022-03-23T17:47:09.631Z"
   },
   {
    "duration": 10,
    "start_time": "2022-03-23T17:47:09.825Z"
   },
   {
    "duration": 25,
    "start_time": "2022-03-23T17:47:10.015Z"
   },
   {
    "duration": 17,
    "start_time": "2022-03-23T17:51:12.504Z"
   },
   {
    "duration": 8,
    "start_time": "2022-03-23T17:51:30.317Z"
   },
   {
    "duration": 30,
    "start_time": "2022-03-23T17:51:40.269Z"
   },
   {
    "duration": 104,
    "start_time": "2022-03-23T17:58:36.023Z"
   },
   {
    "duration": 28,
    "start_time": "2022-03-23T17:59:03.059Z"
   },
   {
    "duration": 15,
    "start_time": "2022-03-23T17:59:18.047Z"
   },
   {
    "duration": 5,
    "start_time": "2022-03-23T18:01:09.577Z"
   },
   {
    "duration": 6,
    "start_time": "2022-03-23T18:01:24.881Z"
   },
   {
    "duration": 6,
    "start_time": "2022-03-23T18:02:23.296Z"
   },
   {
    "duration": 9,
    "start_time": "2022-03-23T18:05:01.429Z"
   },
   {
    "duration": 24,
    "start_time": "2022-03-23T18:05:14.023Z"
   },
   {
    "duration": 95,
    "start_time": "2022-03-23T18:06:35.430Z"
   },
   {
    "duration": 140,
    "start_time": "2022-03-23T18:07:41.850Z"
   },
   {
    "duration": 9,
    "start_time": "2022-03-23T18:07:44.603Z"
   },
   {
    "duration": 23,
    "start_time": "2022-03-23T18:07:48.181Z"
   },
   {
    "duration": 47,
    "start_time": "2022-03-23T18:08:22.063Z"
   },
   {
    "duration": 15,
    "start_time": "2022-03-23T18:08:36.606Z"
   },
   {
    "duration": 8,
    "start_time": "2022-03-23T18:10:23.442Z"
   },
   {
    "duration": 19,
    "start_time": "2022-03-23T18:10:30.842Z"
   },
   {
    "duration": 103,
    "start_time": "2022-03-23T18:11:01.571Z"
   },
   {
    "duration": 44,
    "start_time": "2022-03-23T18:11:05.231Z"
   },
   {
    "duration": 8,
    "start_time": "2022-03-23T18:11:30.990Z"
   },
   {
    "duration": 11,
    "start_time": "2022-03-23T18:12:06.052Z"
   },
   {
    "duration": 16,
    "start_time": "2022-03-23T18:12:55.646Z"
   },
   {
    "duration": 8,
    "start_time": "2022-03-23T18:12:56.426Z"
   },
   {
    "duration": 10,
    "start_time": "2022-03-23T18:13:00.974Z"
   },
   {
    "duration": 15,
    "start_time": "2022-03-23T18:14:08.548Z"
   },
   {
    "duration": 7,
    "start_time": "2022-03-23T18:14:23.315Z"
   },
   {
    "duration": 7,
    "start_time": "2022-03-23T18:16:00.619Z"
   },
   {
    "duration": 6,
    "start_time": "2022-03-23T18:17:03.092Z"
   },
   {
    "duration": 61,
    "start_time": "2022-03-23T18:17:20.201Z"
   },
   {
    "duration": 5,
    "start_time": "2022-03-23T18:17:23.350Z"
   },
   {
    "duration": 3,
    "start_time": "2022-03-23T18:17:34.229Z"
   },
   {
    "duration": 5,
    "start_time": "2022-03-23T18:17:44.323Z"
   },
   {
    "duration": 62,
    "start_time": "2022-03-23T18:18:25.886Z"
   },
   {
    "duration": 13,
    "start_time": "2022-03-23T18:19:42.168Z"
   },
   {
    "duration": 14,
    "start_time": "2022-03-23T18:19:48.154Z"
   },
   {
    "duration": 8,
    "start_time": "2022-03-23T18:20:00.483Z"
   },
   {
    "duration": 14,
    "start_time": "2022-03-23T18:20:29.469Z"
   },
   {
    "duration": 11,
    "start_time": "2022-03-23T18:20:43.940Z"
   },
   {
    "duration": 6,
    "start_time": "2022-03-23T18:20:47.442Z"
   },
   {
    "duration": 9,
    "start_time": "2022-03-23T18:20:50.564Z"
   },
   {
    "duration": 6,
    "start_time": "2022-03-23T18:20:54.174Z"
   },
   {
    "duration": 5,
    "start_time": "2022-03-23T18:20:59.344Z"
   },
   {
    "duration": 19,
    "start_time": "2022-03-23T18:22:19.744Z"
   },
   {
    "duration": 4,
    "start_time": "2022-03-23T18:22:40.856Z"
   },
   {
    "duration": 13,
    "start_time": "2022-03-23T18:23:29.373Z"
   },
   {
    "duration": 7,
    "start_time": "2022-03-23T18:23:52.849Z"
   },
   {
    "duration": 6,
    "start_time": "2022-03-23T18:23:56.985Z"
   },
   {
    "duration": 9,
    "start_time": "2022-03-23T18:28:12.698Z"
   },
   {
    "duration": 9,
    "start_time": "2022-03-23T18:28:17.104Z"
   },
   {
    "duration": 15,
    "start_time": "2022-03-23T18:28:20.369Z"
   },
   {
    "duration": 4,
    "start_time": "2022-03-23T18:31:20.899Z"
   },
   {
    "duration": 13,
    "start_time": "2022-03-23T18:31:28.574Z"
   },
   {
    "duration": 10,
    "start_time": "2022-03-23T18:31:40.170Z"
   },
   {
    "duration": 8,
    "start_time": "2022-03-23T18:31:42.423Z"
   },
   {
    "duration": 6,
    "start_time": "2022-03-23T18:32:10.894Z"
   },
   {
    "duration": 7,
    "start_time": "2022-03-23T18:32:17.495Z"
   },
   {
    "duration": 5,
    "start_time": "2022-03-23T18:32:59.581Z"
   },
   {
    "duration": 36,
    "start_time": "2022-03-23T18:33:10.323Z"
   },
   {
    "duration": 6,
    "start_time": "2022-03-23T18:33:21.395Z"
   },
   {
    "duration": 9,
    "start_time": "2022-03-23T18:33:37.298Z"
   },
   {
    "duration": 26,
    "start_time": "2022-03-23T18:33:42.586Z"
   },
   {
    "duration": 5,
    "start_time": "2022-03-23T18:33:54.940Z"
   },
   {
    "duration": 5,
    "start_time": "2022-03-23T18:34:08.088Z"
   },
   {
    "duration": 20,
    "start_time": "2022-03-23T18:34:23.349Z"
   },
   {
    "duration": 14,
    "start_time": "2022-03-23T18:35:22.039Z"
   },
   {
    "duration": 9,
    "start_time": "2022-03-23T18:35:39.939Z"
   },
   {
    "duration": 63,
    "start_time": "2022-03-23T18:35:45.268Z"
   },
   {
    "duration": 16,
    "start_time": "2022-03-23T18:35:46.818Z"
   },
   {
    "duration": 5,
    "start_time": "2022-03-23T18:35:51.191Z"
   },
   {
    "duration": 6,
    "start_time": "2022-03-23T18:35:56.034Z"
   },
   {
    "duration": 90,
    "start_time": "2022-03-23T18:36:06.964Z"
   },
   {
    "duration": 6,
    "start_time": "2022-03-23T18:36:11.050Z"
   },
   {
    "duration": 4,
    "start_time": "2022-03-23T18:36:18.686Z"
   },
   {
    "duration": 5,
    "start_time": "2022-03-23T18:37:14.472Z"
   },
   {
    "duration": 7,
    "start_time": "2022-03-23T18:37:30.530Z"
   },
   {
    "duration": 6,
    "start_time": "2022-03-23T18:38:16.474Z"
   },
   {
    "duration": 4,
    "start_time": "2022-03-23T18:38:26.089Z"
   },
   {
    "duration": 9,
    "start_time": "2022-03-23T18:38:27.718Z"
   },
   {
    "duration": 3,
    "start_time": "2022-03-23T18:38:54.089Z"
   },
   {
    "duration": 8,
    "start_time": "2022-03-23T18:38:56.147Z"
   },
   {
    "duration": 1145,
    "start_time": "2022-03-23T18:39:23.491Z"
   },
   {
    "duration": 2,
    "start_time": "2022-03-23T18:39:24.638Z"
   },
   {
    "duration": 155,
    "start_time": "2022-03-23T18:39:24.642Z"
   },
   {
    "duration": 14,
    "start_time": "2022-03-23T18:39:24.799Z"
   },
   {
    "duration": 26,
    "start_time": "2022-03-23T18:39:24.815Z"
   },
   {
    "duration": 127,
    "start_time": "2022-03-23T18:39:24.842Z"
   },
   {
    "duration": 18,
    "start_time": "2022-03-23T18:39:24.970Z"
   },
   {
    "duration": 152,
    "start_time": "2022-03-23T18:39:24.989Z"
   },
   {
    "duration": 9,
    "start_time": "2022-03-23T18:39:25.142Z"
   },
   {
    "duration": 23,
    "start_time": "2022-03-23T18:39:25.153Z"
   },
   {
    "duration": 62,
    "start_time": "2022-03-23T18:39:25.177Z"
   },
   {
    "duration": 13,
    "start_time": "2022-03-23T18:39:25.241Z"
   },
   {
    "duration": 91,
    "start_time": "2022-03-23T18:39:25.255Z"
   },
   {
    "duration": 7,
    "start_time": "2022-03-23T18:39:25.348Z"
   },
   {
    "duration": 19,
    "start_time": "2022-03-23T18:39:25.357Z"
   },
   {
    "duration": 61,
    "start_time": "2022-03-23T18:39:25.378Z"
   },
   {
    "duration": 9,
    "start_time": "2022-03-23T18:39:25.441Z"
   },
   {
    "duration": 8,
    "start_time": "2022-03-23T18:39:25.452Z"
   },
   {
    "duration": 14,
    "start_time": "2022-03-23T18:39:25.461Z"
   },
   {
    "duration": 23,
    "start_time": "2022-03-23T18:39:25.476Z"
   },
   {
    "duration": 13,
    "start_time": "2022-03-23T18:39:25.501Z"
   },
   {
    "duration": 11,
    "start_time": "2022-03-23T18:39:25.516Z"
   },
   {
    "duration": 6,
    "start_time": "2022-03-23T18:39:25.528Z"
   },
   {
    "duration": 4,
    "start_time": "2022-03-23T18:39:25.536Z"
   },
   {
    "duration": 7,
    "start_time": "2022-03-23T18:39:25.542Z"
   },
   {
    "duration": 5,
    "start_time": "2022-03-23T18:39:25.551Z"
   },
   {
    "duration": 5,
    "start_time": "2022-03-23T18:39:25.558Z"
   },
   {
    "duration": 45,
    "start_time": "2022-03-23T18:39:25.566Z"
   },
   {
    "duration": 4,
    "start_time": "2022-03-23T18:39:25.613Z"
   },
   {
    "duration": 7,
    "start_time": "2022-03-23T18:39:25.618Z"
   },
   {
    "duration": 9,
    "start_time": "2022-03-23T18:39:25.627Z"
   },
   {
    "duration": 34,
    "start_time": "2022-03-23T18:39:25.638Z"
   },
   {
    "duration": 51,
    "start_time": "2022-03-23T18:39:25.673Z"
   },
   {
    "duration": 20,
    "start_time": "2022-03-23T18:39:25.726Z"
   },
   {
    "duration": 17,
    "start_time": "2022-03-23T18:40:32.115Z"
   },
   {
    "duration": 10,
    "start_time": "2022-03-23T18:42:43.407Z"
   },
   {
    "duration": 102,
    "start_time": "2022-03-23T18:42:51.335Z"
   },
   {
    "duration": 9,
    "start_time": "2022-03-23T18:42:58.741Z"
   },
   {
    "duration": 14,
    "start_time": "2022-03-23T18:43:19.613Z"
   },
   {
    "duration": 18,
    "start_time": "2022-03-23T18:43:28.816Z"
   },
   {
    "duration": 12,
    "start_time": "2022-03-23T18:44:34.396Z"
   },
   {
    "duration": 38,
    "start_time": "2022-03-23T18:45:13.262Z"
   },
   {
    "duration": 22,
    "start_time": "2022-03-23T18:45:19.612Z"
   },
   {
    "duration": 11,
    "start_time": "2022-03-23T18:47:33.409Z"
   },
   {
    "duration": 9,
    "start_time": "2022-03-23T18:48:01.952Z"
   },
   {
    "duration": 9,
    "start_time": "2022-03-23T18:48:05.390Z"
   },
   {
    "duration": 4,
    "start_time": "2022-03-23T18:48:11.571Z"
   },
   {
    "duration": 7,
    "start_time": "2022-03-23T18:48:25.507Z"
   },
   {
    "duration": 14,
    "start_time": "2022-03-23T18:49:10.555Z"
   },
   {
    "duration": 73,
    "start_time": "2022-03-23T18:49:36.106Z"
   },
   {
    "duration": 52,
    "start_time": "2022-03-23T18:49:54.828Z"
   },
   {
    "duration": 24,
    "start_time": "2022-03-23T18:52:13.852Z"
   },
   {
    "duration": 5,
    "start_time": "2022-03-23T18:55:00.958Z"
   },
   {
    "duration": 4,
    "start_time": "2022-03-23T18:55:56.250Z"
   },
   {
    "duration": 4,
    "start_time": "2022-03-23T18:56:07.661Z"
   },
   {
    "duration": 24,
    "start_time": "2022-03-23T18:56:11.585Z"
   },
   {
    "duration": 16,
    "start_time": "2022-03-23T18:56:17.542Z"
   },
   {
    "duration": 22,
    "start_time": "2022-03-23T18:58:10.754Z"
   },
   {
    "duration": 22,
    "start_time": "2022-03-23T18:58:45.490Z"
   },
   {
    "duration": 24,
    "start_time": "2022-03-23T18:58:48.741Z"
   },
   {
    "duration": 5,
    "start_time": "2022-03-23T18:59:00.731Z"
   },
   {
    "duration": 21,
    "start_time": "2022-03-23T18:59:01.220Z"
   },
   {
    "duration": 23,
    "start_time": "2022-03-23T18:59:05.454Z"
   },
   {
    "duration": 23,
    "start_time": "2022-03-23T18:59:05.626Z"
   },
   {
    "duration": 14,
    "start_time": "2022-03-23T18:59:09.992Z"
   },
   {
    "duration": 21,
    "start_time": "2022-03-23T18:59:32.965Z"
   },
   {
    "duration": 29,
    "start_time": "2022-03-23T18:59:43.670Z"
   },
   {
    "duration": 19,
    "start_time": "2022-03-23T18:59:54.605Z"
   },
   {
    "duration": 26,
    "start_time": "2022-03-23T19:00:12.613Z"
   },
   {
    "duration": 33,
    "start_time": "2022-03-23T19:00:25.414Z"
   },
   {
    "duration": 15,
    "start_time": "2022-03-23T19:00:34.799Z"
   },
   {
    "duration": 21,
    "start_time": "2022-03-23T19:01:48.956Z"
   },
   {
    "duration": 12,
    "start_time": "2022-03-23T19:02:19.454Z"
   },
   {
    "duration": 11,
    "start_time": "2022-03-23T19:02:37.057Z"
   },
   {
    "duration": 11,
    "start_time": "2022-03-23T19:04:06.928Z"
   },
   {
    "duration": 9,
    "start_time": "2022-03-23T19:05:21.987Z"
   },
   {
    "duration": 22,
    "start_time": "2022-03-23T19:05:24.708Z"
   },
   {
    "duration": 13,
    "start_time": "2022-03-23T19:05:59.155Z"
   },
   {
    "duration": 14,
    "start_time": "2022-03-23T19:06:14.691Z"
   },
   {
    "duration": 24,
    "start_time": "2022-03-23T19:09:20.826Z"
   },
   {
    "duration": 10,
    "start_time": "2022-03-23T19:09:43.857Z"
   },
   {
    "duration": 9,
    "start_time": "2022-03-23T19:09:49.020Z"
   },
   {
    "duration": 8,
    "start_time": "2022-03-23T19:10:00.224Z"
   },
   {
    "duration": 6,
    "start_time": "2022-03-23T19:12:24.553Z"
   },
   {
    "duration": 7,
    "start_time": "2022-03-23T19:12:29.542Z"
   },
   {
    "duration": 4,
    "start_time": "2022-03-23T19:15:24.534Z"
   },
   {
    "duration": 9,
    "start_time": "2022-03-23T19:15:33.270Z"
   },
   {
    "duration": 6,
    "start_time": "2022-03-23T19:15:58.905Z"
   },
   {
    "duration": 14,
    "start_time": "2022-03-23T19:15:59.343Z"
   },
   {
    "duration": 1225,
    "start_time": "2022-03-23T19:16:07.766Z"
   },
   {
    "duration": 3,
    "start_time": "2022-03-23T19:16:08.993Z"
   },
   {
    "duration": 180,
    "start_time": "2022-03-23T19:16:08.998Z"
   },
   {
    "duration": 14,
    "start_time": "2022-03-23T19:16:09.181Z"
   },
   {
    "duration": 37,
    "start_time": "2022-03-23T19:16:09.198Z"
   },
   {
    "duration": 137,
    "start_time": "2022-03-23T19:16:09.237Z"
   },
   {
    "duration": 18,
    "start_time": "2022-03-23T19:16:09.376Z"
   },
   {
    "duration": 160,
    "start_time": "2022-03-23T19:16:09.396Z"
   },
   {
    "duration": 10,
    "start_time": "2022-03-23T19:16:09.558Z"
   },
   {
    "duration": 44,
    "start_time": "2022-03-23T19:16:09.571Z"
   },
   {
    "duration": 50,
    "start_time": "2022-03-23T19:16:09.617Z"
   },
   {
    "duration": 13,
    "start_time": "2022-03-23T19:16:09.669Z"
   },
   {
    "duration": 103,
    "start_time": "2022-03-23T19:16:09.684Z"
   },
   {
    "duration": 20,
    "start_time": "2022-03-23T19:16:09.789Z"
   },
   {
    "duration": 22,
    "start_time": "2022-03-23T19:16:09.811Z"
   },
   {
    "duration": 49,
    "start_time": "2022-03-23T19:16:09.835Z"
   },
   {
    "duration": 28,
    "start_time": "2022-03-23T19:16:09.886Z"
   },
   {
    "duration": 10,
    "start_time": "2022-03-23T19:16:09.916Z"
   },
   {
    "duration": 15,
    "start_time": "2022-03-23T19:16:09.928Z"
   },
   {
    "duration": 17,
    "start_time": "2022-03-23T19:16:09.945Z"
   },
   {
    "duration": 12,
    "start_time": "2022-03-23T19:16:09.964Z"
   },
   {
    "duration": 14,
    "start_time": "2022-03-23T19:16:10.009Z"
   },
   {
    "duration": 12,
    "start_time": "2022-03-23T19:16:10.025Z"
   },
   {
    "duration": 6,
    "start_time": "2022-03-23T19:16:10.038Z"
   },
   {
    "duration": 12,
    "start_time": "2022-03-23T19:16:10.046Z"
   },
   {
    "duration": 11,
    "start_time": "2022-03-23T19:16:10.060Z"
   },
   {
    "duration": 39,
    "start_time": "2022-03-23T19:16:10.073Z"
   },
   {
    "duration": 9,
    "start_time": "2022-03-23T19:16:10.119Z"
   },
   {
    "duration": 9,
    "start_time": "2022-03-23T19:16:10.129Z"
   },
   {
    "duration": 10,
    "start_time": "2022-03-23T19:16:10.140Z"
   },
   {
    "duration": 13,
    "start_time": "2022-03-23T19:16:10.151Z"
   },
   {
    "duration": 56,
    "start_time": "2022-03-23T19:16:10.167Z"
   },
   {
    "duration": 33,
    "start_time": "2022-03-23T19:16:10.225Z"
   },
   {
    "duration": 79,
    "start_time": "2022-03-23T19:16:10.260Z"
   },
   {
    "duration": 4,
    "start_time": "2022-03-23T19:16:10.341Z"
   },
   {
    "duration": 62,
    "start_time": "2022-03-23T19:16:10.348Z"
   },
   {
    "duration": 104,
    "start_time": "2022-03-23T19:16:10.412Z"
   },
   {
    "duration": 14,
    "start_time": "2022-03-23T19:16:10.518Z"
   },
   {
    "duration": 275,
    "start_time": "2022-03-23T19:16:10.535Z"
   },
   {
    "duration": 106,
    "start_time": "2022-03-23T19:16:10.812Z"
   },
   {
    "duration": 90,
    "start_time": "2022-03-23T19:16:10.920Z"
   },
   {
    "duration": 30,
    "start_time": "2022-03-23T19:16:11.011Z"
   },
   {
    "duration": 79,
    "start_time": "2022-03-23T19:16:11.044Z"
   },
   {
    "duration": 4,
    "start_time": "2022-03-23T19:16:11.125Z"
   },
   {
    "duration": 82,
    "start_time": "2022-03-23T19:16:11.131Z"
   },
   {
    "duration": 19,
    "start_time": "2022-03-23T19:16:11.216Z"
   },
   {
    "duration": 14,
    "start_time": "2022-03-23T19:16:11.237Z"
   },
   {
    "duration": 11,
    "start_time": "2022-03-23T19:16:11.308Z"
   },
   {
    "duration": 6,
    "start_time": "2022-03-23T19:16:11.321Z"
   },
   {
    "duration": 5,
    "start_time": "2022-03-23T19:16:11.330Z"
   },
   {
    "duration": 14,
    "start_time": "2022-03-23T19:16:11.337Z"
   },
   {
    "duration": 25,
    "start_time": "2022-03-23T19:17:04.782Z"
   },
   {
    "duration": 8,
    "start_time": "2022-03-23T19:17:25.739Z"
   },
   {
    "duration": 12,
    "start_time": "2022-03-23T19:17:36.642Z"
   },
   {
    "duration": 34,
    "start_time": "2022-03-23T19:18:51.987Z"
   },
   {
    "duration": 121,
    "start_time": "2022-03-23T19:20:06.211Z"
   },
   {
    "duration": 12,
    "start_time": "2022-03-23T19:20:14.338Z"
   },
   {
    "duration": 11,
    "start_time": "2022-03-23T19:20:19.381Z"
   },
   {
    "duration": 10,
    "start_time": "2022-03-23T19:20:49.136Z"
   },
   {
    "duration": 339,
    "start_time": "2022-03-23T19:21:25.885Z"
   },
   {
    "duration": 261,
    "start_time": "2022-03-23T19:22:27.835Z"
   },
   {
    "duration": 12,
    "start_time": "2022-03-23T19:22:35.005Z"
   },
   {
    "duration": 84,
    "start_time": "2022-03-23T19:23:11.454Z"
   },
   {
    "duration": 66,
    "start_time": "2022-03-23T19:23:13.733Z"
   },
   {
    "duration": 58,
    "start_time": "2022-03-23T19:23:16.365Z"
   },
   {
    "duration": 20,
    "start_time": "2022-03-23T19:23:21.405Z"
   },
   {
    "duration": 258,
    "start_time": "2022-03-23T19:23:33.542Z"
   },
   {
    "duration": 248,
    "start_time": "2022-03-23T19:23:40.777Z"
   },
   {
    "duration": 236,
    "start_time": "2022-03-23T19:24:55.422Z"
   },
   {
    "duration": 13,
    "start_time": "2022-03-23T19:24:58.553Z"
   },
   {
    "duration": 247,
    "start_time": "2022-03-23T19:25:17.049Z"
   },
   {
    "duration": 279,
    "start_time": "2022-03-23T19:25:33.301Z"
   },
   {
    "duration": 12,
    "start_time": "2022-03-23T19:25:33.582Z"
   },
   {
    "duration": 10,
    "start_time": "2022-03-23T19:25:38.799Z"
   },
   {
    "duration": 296,
    "start_time": "2022-03-23T19:26:08.400Z"
   },
   {
    "duration": 243,
    "start_time": "2022-03-23T19:26:18.039Z"
   },
   {
    "duration": 8,
    "start_time": "2022-03-23T19:26:26.333Z"
   },
   {
    "duration": 229,
    "start_time": "2022-03-23T19:27:18.994Z"
   },
   {
    "duration": 12,
    "start_time": "2022-03-23T19:27:31.390Z"
   },
   {
    "duration": 293,
    "start_time": "2022-03-23T19:28:14.028Z"
   },
   {
    "duration": 8,
    "start_time": "2022-03-23T19:28:22.137Z"
   },
   {
    "duration": 8,
    "start_time": "2022-03-23T19:28:59.549Z"
   },
   {
    "duration": 11,
    "start_time": "2022-03-23T19:29:05.824Z"
   },
   {
    "duration": 8,
    "start_time": "2022-03-23T19:29:12.298Z"
   },
   {
    "duration": 8,
    "start_time": "2022-03-23T19:29:23.876Z"
   },
   {
    "duration": 247,
    "start_time": "2022-03-23T19:29:25.612Z"
   },
   {
    "duration": 6,
    "start_time": "2022-03-23T19:29:26.855Z"
   },
   {
    "duration": 8,
    "start_time": "2022-03-23T19:29:27.065Z"
   },
   {
    "duration": 242,
    "start_time": "2022-03-23T19:29:30.153Z"
   },
   {
    "duration": 6,
    "start_time": "2022-03-23T19:29:38.551Z"
   },
   {
    "duration": 232,
    "start_time": "2022-03-23T19:29:50.464Z"
   },
   {
    "duration": 4,
    "start_time": "2022-03-23T19:29:50.811Z"
   },
   {
    "duration": 8,
    "start_time": "2022-03-23T19:29:50.970Z"
   },
   {
    "duration": 6,
    "start_time": "2022-03-23T19:32:20.880Z"
   },
   {
    "duration": 6,
    "start_time": "2022-03-23T19:32:39.256Z"
   },
   {
    "duration": 6,
    "start_time": "2022-03-23T19:32:39.431Z"
   },
   {
    "duration": 14,
    "start_time": "2022-03-23T19:32:45.094Z"
   },
   {
    "duration": 15,
    "start_time": "2022-03-23T19:35:24.435Z"
   },
   {
    "duration": 15,
    "start_time": "2022-03-23T19:35:56.525Z"
   },
   {
    "duration": 18,
    "start_time": "2022-03-23T19:36:34.496Z"
   },
   {
    "duration": 10,
    "start_time": "2022-03-23T19:36:56.392Z"
   },
   {
    "duration": 19,
    "start_time": "2022-03-23T19:37:01.872Z"
   },
   {
    "duration": 3,
    "start_time": "2022-03-23T19:38:22.979Z"
   },
   {
    "duration": 10,
    "start_time": "2022-03-23T19:38:23.521Z"
   },
   {
    "duration": 4,
    "start_time": "2022-03-23T19:38:56.529Z"
   },
   {
    "duration": 7,
    "start_time": "2022-03-23T19:38:56.986Z"
   },
   {
    "duration": 8,
    "start_time": "2022-03-23T19:39:36.382Z"
   },
   {
    "duration": 309,
    "start_time": "2022-03-23T19:39:39.264Z"
   },
   {
    "duration": 3,
    "start_time": "2022-03-23T19:39:39.575Z"
   },
   {
    "duration": 7,
    "start_time": "2022-03-23T19:39:39.592Z"
   },
   {
    "duration": 4,
    "start_time": "2022-03-23T19:39:49.611Z"
   },
   {
    "duration": 11,
    "start_time": "2022-03-23T19:39:49.806Z"
   },
   {
    "duration": 214,
    "start_time": "2022-03-23T19:40:25.371Z"
   },
   {
    "duration": 4,
    "start_time": "2022-03-23T19:40:25.586Z"
   },
   {
    "duration": 7,
    "start_time": "2022-03-23T19:40:25.678Z"
   },
   {
    "duration": 4,
    "start_time": "2022-03-23T19:41:06.448Z"
   },
   {
    "duration": 9,
    "start_time": "2022-03-23T19:41:06.859Z"
   },
   {
    "duration": 4,
    "start_time": "2022-03-23T19:41:11.158Z"
   },
   {
    "duration": 9,
    "start_time": "2022-03-23T19:41:11.347Z"
   },
   {
    "duration": 11,
    "start_time": "2022-03-23T19:41:22.478Z"
   },
   {
    "duration": 18,
    "start_time": "2022-03-23T19:41:23.726Z"
   },
   {
    "duration": 11,
    "start_time": "2022-03-23T19:41:38.733Z"
   },
   {
    "duration": 15,
    "start_time": "2022-03-23T19:41:39.096Z"
   },
   {
    "duration": 9,
    "start_time": "2022-03-23T19:42:24.687Z"
   },
   {
    "duration": 12,
    "start_time": "2022-03-23T19:42:24.910Z"
   },
   {
    "duration": 9,
    "start_time": "2022-03-23T19:42:47.554Z"
   },
   {
    "duration": 18,
    "start_time": "2022-03-23T19:43:01.707Z"
   },
   {
    "duration": 1142,
    "start_time": "2022-03-23T19:43:32.000Z"
   },
   {
    "duration": 3,
    "start_time": "2022-03-23T19:43:33.143Z"
   },
   {
    "duration": 158,
    "start_time": "2022-03-23T19:43:33.148Z"
   },
   {
    "duration": 14,
    "start_time": "2022-03-23T19:43:33.308Z"
   },
   {
    "duration": 30,
    "start_time": "2022-03-23T19:43:33.324Z"
   },
   {
    "duration": 130,
    "start_time": "2022-03-23T19:43:33.356Z"
   },
   {
    "duration": 24,
    "start_time": "2022-03-23T19:43:33.488Z"
   },
   {
    "duration": 146,
    "start_time": "2022-03-23T19:43:33.514Z"
   },
   {
    "duration": 9,
    "start_time": "2022-03-23T19:43:33.661Z"
   },
   {
    "duration": 50,
    "start_time": "2022-03-23T19:43:33.674Z"
   },
   {
    "duration": 51,
    "start_time": "2022-03-23T19:43:33.727Z"
   },
   {
    "duration": 39,
    "start_time": "2022-03-23T19:43:33.780Z"
   },
   {
    "duration": 85,
    "start_time": "2022-03-23T19:43:33.821Z"
   },
   {
    "duration": 9,
    "start_time": "2022-03-23T19:43:33.907Z"
   },
   {
    "duration": 21,
    "start_time": "2022-03-23T19:43:33.918Z"
   },
   {
    "duration": 69,
    "start_time": "2022-03-23T19:43:33.941Z"
   },
   {
    "duration": 10,
    "start_time": "2022-03-23T19:43:34.011Z"
   },
   {
    "duration": 9,
    "start_time": "2022-03-23T19:43:34.022Z"
   },
   {
    "duration": 12,
    "start_time": "2022-03-23T19:43:34.033Z"
   },
   {
    "duration": 18,
    "start_time": "2022-03-23T19:43:34.047Z"
   },
   {
    "duration": 10,
    "start_time": "2022-03-23T19:43:34.066Z"
   },
   {
    "duration": 30,
    "start_time": "2022-03-23T19:43:34.078Z"
   },
   {
    "duration": 11,
    "start_time": "2022-03-23T19:43:34.110Z"
   },
   {
    "duration": 5,
    "start_time": "2022-03-23T19:43:34.123Z"
   },
   {
    "duration": 8,
    "start_time": "2022-03-23T19:43:34.129Z"
   },
   {
    "duration": 6,
    "start_time": "2022-03-23T19:43:34.139Z"
   },
   {
    "duration": 5,
    "start_time": "2022-03-23T19:43:34.147Z"
   },
   {
    "duration": 10,
    "start_time": "2022-03-23T19:43:34.157Z"
   },
   {
    "duration": 5,
    "start_time": "2022-03-23T19:43:34.169Z"
   },
   {
    "duration": 4,
    "start_time": "2022-03-23T19:43:34.209Z"
   },
   {
    "duration": 11,
    "start_time": "2022-03-23T19:43:34.215Z"
   },
   {
    "duration": 37,
    "start_time": "2022-03-23T19:43:34.227Z"
   },
   {
    "duration": 49,
    "start_time": "2022-03-23T19:43:34.265Z"
   },
   {
    "duration": 22,
    "start_time": "2022-03-23T19:43:34.316Z"
   },
   {
    "duration": 3,
    "start_time": "2022-03-23T19:43:34.340Z"
   },
   {
    "duration": 10,
    "start_time": "2022-03-23T19:43:34.345Z"
   },
   {
    "duration": 69,
    "start_time": "2022-03-23T19:43:34.356Z"
   },
   {
    "duration": 13,
    "start_time": "2022-03-23T19:43:34.426Z"
   },
   {
    "duration": 90,
    "start_time": "2022-03-23T19:43:34.440Z"
   },
   {
    "duration": 48,
    "start_time": "2022-03-23T19:43:34.532Z"
   },
   {
    "duration": 50,
    "start_time": "2022-03-23T19:43:34.582Z"
   },
   {
    "duration": 26,
    "start_time": "2022-03-23T19:43:34.634Z"
   },
   {
    "duration": 24,
    "start_time": "2022-03-23T19:43:34.662Z"
   },
   {
    "duration": 5,
    "start_time": "2022-03-23T19:43:34.709Z"
   },
   {
    "duration": 300,
    "start_time": "2022-03-23T19:43:34.715Z"
   },
   {
    "duration": 3,
    "start_time": "2022-03-23T19:43:35.017Z"
   },
   {
    "duration": 11,
    "start_time": "2022-03-23T19:43:35.022Z"
   },
   {
    "duration": 256,
    "start_time": "2022-03-23T19:43:35.035Z"
   },
   {
    "duration": 3,
    "start_time": "2022-03-23T19:43:35.293Z"
   },
   {
    "duration": 7,
    "start_time": "2022-03-23T19:43:35.309Z"
   },
   {
    "duration": 254,
    "start_time": "2022-03-23T19:43:35.317Z"
   },
   {
    "duration": 3,
    "start_time": "2022-03-23T19:43:35.573Z"
   },
   {
    "duration": 9,
    "start_time": "2022-03-23T19:43:35.577Z"
   },
   {
    "duration": 274,
    "start_time": "2022-03-23T19:43:35.608Z"
   },
   {
    "duration": 6,
    "start_time": "2022-03-23T19:43:35.883Z"
   },
   {
    "duration": 5,
    "start_time": "2022-03-23T19:43:35.891Z"
   },
   {
    "duration": 8,
    "start_time": "2022-03-23T19:43:35.909Z"
   },
   {
    "duration": 5,
    "start_time": "2022-03-23T19:43:35.919Z"
   },
   {
    "duration": 13,
    "start_time": "2022-03-23T19:43:35.926Z"
   },
   {
    "duration": 17,
    "start_time": "2022-03-23T19:43:35.940Z"
   },
   {
    "duration": 10,
    "start_time": "2022-03-23T19:43:35.959Z"
   },
   {
    "duration": 38,
    "start_time": "2022-03-23T19:43:35.971Z"
   },
   {
    "duration": 16,
    "start_time": "2022-03-23T19:43:36.011Z"
   },
   {
    "duration": 122,
    "start_time": "2022-03-23T19:43:36.029Z"
   },
   {
    "duration": 0,
    "start_time": "2022-03-23T19:43:36.153Z"
   },
   {
    "duration": 0,
    "start_time": "2022-03-23T19:43:36.154Z"
   },
   {
    "duration": 0,
    "start_time": "2022-03-23T19:43:36.155Z"
   },
   {
    "duration": 0,
    "start_time": "2022-03-23T19:43:36.156Z"
   },
   {
    "duration": 0,
    "start_time": "2022-03-23T19:43:36.157Z"
   },
   {
    "duration": 0,
    "start_time": "2022-03-23T19:43:36.158Z"
   },
   {
    "duration": 0,
    "start_time": "2022-03-23T19:43:36.160Z"
   },
   {
    "duration": 18,
    "start_time": "2022-03-23T19:44:11.477Z"
   },
   {
    "duration": 4,
    "start_time": "2022-03-23T19:44:23.879Z"
   },
   {
    "duration": 26,
    "start_time": "2022-03-23T19:44:31.409Z"
   },
   {
    "duration": 6,
    "start_time": "2022-03-23T19:45:11.477Z"
   },
   {
    "duration": 27,
    "start_time": "2022-03-23T19:45:28.062Z"
   },
   {
    "duration": 5,
    "start_time": "2022-03-23T19:45:52.112Z"
   },
   {
    "duration": 29,
    "start_time": "2022-03-23T19:46:08.519Z"
   },
   {
    "duration": 9,
    "start_time": "2022-03-23T19:49:11.780Z"
   },
   {
    "duration": 5,
    "start_time": "2022-03-23T19:50:53.268Z"
   },
   {
    "duration": 4,
    "start_time": "2022-03-23T19:58:23.454Z"
   },
   {
    "duration": 9,
    "start_time": "2022-03-23T19:58:24.108Z"
   },
   {
    "duration": 107,
    "start_time": "2022-03-23T20:00:08.847Z"
   },
   {
    "duration": 4,
    "start_time": "2022-03-23T20:00:15.078Z"
   },
   {
    "duration": 146,
    "start_time": "2022-03-23T20:00:15.447Z"
   },
   {
    "duration": 16,
    "start_time": "2022-03-23T20:00:22.455Z"
   },
   {
    "duration": 1490,
    "start_time": "2022-03-24T19:23:56.291Z"
   },
   {
    "duration": 3,
    "start_time": "2022-03-24T19:23:57.784Z"
   },
   {
    "duration": 181,
    "start_time": "2022-03-24T19:23:57.788Z"
   },
   {
    "duration": 14,
    "start_time": "2022-03-24T19:23:57.971Z"
   },
   {
    "duration": 30,
    "start_time": "2022-03-24T19:23:57.987Z"
   },
   {
    "duration": 120,
    "start_time": "2022-03-24T19:23:58.032Z"
   },
   {
    "duration": 17,
    "start_time": "2022-03-24T19:23:58.153Z"
   },
   {
    "duration": 148,
    "start_time": "2022-03-24T19:23:58.172Z"
   },
   {
    "duration": 16,
    "start_time": "2022-03-24T19:23:58.322Z"
   },
   {
    "duration": 27,
    "start_time": "2022-03-24T19:23:58.341Z"
   },
   {
    "duration": 69,
    "start_time": "2022-03-24T19:23:58.370Z"
   },
   {
    "duration": 16,
    "start_time": "2022-03-24T19:23:58.441Z"
   },
   {
    "duration": 91,
    "start_time": "2022-03-24T19:23:58.458Z"
   },
   {
    "duration": 8,
    "start_time": "2022-03-24T19:23:58.551Z"
   },
   {
    "duration": 25,
    "start_time": "2022-03-24T19:23:58.560Z"
   },
   {
    "duration": 68,
    "start_time": "2022-03-24T19:23:58.587Z"
   },
   {
    "duration": 20,
    "start_time": "2022-03-24T19:23:58.657Z"
   },
   {
    "duration": 11,
    "start_time": "2022-03-24T19:23:58.681Z"
   },
   {
    "duration": 18,
    "start_time": "2022-03-24T19:23:58.694Z"
   },
   {
    "duration": 46,
    "start_time": "2022-03-24T19:23:58.714Z"
   },
   {
    "duration": 10,
    "start_time": "2022-03-24T19:23:58.762Z"
   },
   {
    "duration": 29,
    "start_time": "2022-03-24T19:23:58.774Z"
   },
   {
    "duration": 23,
    "start_time": "2022-03-24T19:23:58.805Z"
   },
   {
    "duration": 28,
    "start_time": "2022-03-24T19:23:58.830Z"
   },
   {
    "duration": 25,
    "start_time": "2022-03-24T19:23:58.860Z"
   },
   {
    "duration": 21,
    "start_time": "2022-03-24T19:23:58.887Z"
   },
   {
    "duration": 25,
    "start_time": "2022-03-24T19:23:58.910Z"
   },
   {
    "duration": 14,
    "start_time": "2022-03-24T19:23:58.940Z"
   },
   {
    "duration": 20,
    "start_time": "2022-03-24T19:23:58.956Z"
   },
   {
    "duration": 21,
    "start_time": "2022-03-24T19:23:58.978Z"
   },
   {
    "duration": 20,
    "start_time": "2022-03-24T19:23:59.001Z"
   },
   {
    "duration": 43,
    "start_time": "2022-03-24T19:23:59.023Z"
   },
   {
    "duration": 28,
    "start_time": "2022-03-24T19:23:59.067Z"
   },
   {
    "duration": 37,
    "start_time": "2022-03-24T19:23:59.097Z"
   },
   {
    "duration": 3,
    "start_time": "2022-03-24T19:23:59.136Z"
   },
   {
    "duration": 20,
    "start_time": "2022-03-24T19:23:59.141Z"
   },
   {
    "duration": 47,
    "start_time": "2022-03-24T19:23:59.163Z"
   },
   {
    "duration": 13,
    "start_time": "2022-03-24T19:23:59.211Z"
   },
   {
    "duration": 70,
    "start_time": "2022-03-24T19:23:59.231Z"
   },
   {
    "duration": 71,
    "start_time": "2022-03-24T19:23:59.303Z"
   },
   {
    "duration": 36,
    "start_time": "2022-03-24T19:23:59.376Z"
   },
   {
    "duration": 44,
    "start_time": "2022-03-24T19:23:59.414Z"
   },
   {
    "duration": 27,
    "start_time": "2022-03-24T19:23:59.460Z"
   },
   {
    "duration": 4,
    "start_time": "2022-03-24T19:23:59.489Z"
   },
   {
    "duration": 333,
    "start_time": "2022-03-24T19:23:59.495Z"
   },
   {
    "duration": 4,
    "start_time": "2022-03-24T19:23:59.830Z"
   },
   {
    "duration": 13,
    "start_time": "2022-03-24T19:23:59.835Z"
   },
   {
    "duration": 298,
    "start_time": "2022-03-24T19:23:59.850Z"
   },
   {
    "duration": 4,
    "start_time": "2022-03-24T19:24:00.150Z"
   },
   {
    "duration": 12,
    "start_time": "2022-03-24T19:24:00.155Z"
   },
   {
    "duration": 264,
    "start_time": "2022-03-24T19:24:00.169Z"
   },
   {
    "duration": 4,
    "start_time": "2022-03-24T19:24:00.435Z"
   },
   {
    "duration": 12,
    "start_time": "2022-03-24T19:24:00.441Z"
   },
   {
    "duration": 307,
    "start_time": "2022-03-24T19:24:00.456Z"
   },
   {
    "duration": 6,
    "start_time": "2022-03-24T19:24:00.765Z"
   },
   {
    "duration": 10,
    "start_time": "2022-03-24T19:24:00.773Z"
   },
   {
    "duration": 7,
    "start_time": "2022-03-24T19:24:00.785Z"
   },
   {
    "duration": 26,
    "start_time": "2022-03-24T19:24:00.794Z"
   },
   {
    "duration": 13,
    "start_time": "2022-03-24T19:24:00.822Z"
   },
   {
    "duration": 22,
    "start_time": "2022-03-24T19:24:00.837Z"
   },
   {
    "duration": 18,
    "start_time": "2022-03-24T19:24:00.861Z"
   },
   {
    "duration": 21,
    "start_time": "2022-03-24T19:24:00.881Z"
   },
   {
    "duration": 19,
    "start_time": "2022-03-24T19:24:00.904Z"
   },
   {
    "duration": 6,
    "start_time": "2022-03-24T19:24:00.925Z"
   },
   {
    "duration": 30,
    "start_time": "2022-03-24T19:24:00.933Z"
   },
   {
    "duration": 6,
    "start_time": "2022-03-24T19:24:00.964Z"
   },
   {
    "duration": 41,
    "start_time": "2022-03-24T19:24:00.972Z"
   },
   {
    "duration": 4,
    "start_time": "2022-03-24T19:24:01.015Z"
   },
   {
    "duration": 13,
    "start_time": "2022-03-24T19:24:01.021Z"
   },
   {
    "duration": 189,
    "start_time": "2022-03-24T19:24:01.036Z"
   },
   {
    "duration": 21,
    "start_time": "2022-03-24T19:24:01.227Z"
   },
   {
    "duration": 13,
    "start_time": "2022-03-24T19:24:01.250Z"
   },
   {
    "duration": 37,
    "start_time": "2022-03-24T19:24:01.266Z"
   },
   {
    "duration": 1280,
    "start_time": "2022-03-24T19:24:44.965Z"
   },
   {
    "duration": 4,
    "start_time": "2022-03-24T19:24:46.247Z"
   },
   {
    "duration": 168,
    "start_time": "2022-03-24T19:24:46.253Z"
   },
   {
    "duration": 16,
    "start_time": "2022-03-24T19:24:46.424Z"
   },
   {
    "duration": 29,
    "start_time": "2022-03-24T19:24:46.442Z"
   },
   {
    "duration": 135,
    "start_time": "2022-03-24T19:24:46.473Z"
   },
   {
    "duration": 31,
    "start_time": "2022-03-24T19:24:46.610Z"
   },
   {
    "duration": 157,
    "start_time": "2022-03-24T19:24:46.642Z"
   },
   {
    "duration": 10,
    "start_time": "2022-03-24T19:24:46.801Z"
   },
   {
    "duration": 27,
    "start_time": "2022-03-24T19:24:46.824Z"
   },
   {
    "duration": 67,
    "start_time": "2022-03-24T19:24:46.853Z"
   },
   {
    "duration": 14,
    "start_time": "2022-03-24T19:24:46.932Z"
   },
   {
    "duration": 101,
    "start_time": "2022-03-24T19:24:46.948Z"
   },
   {
    "duration": 8,
    "start_time": "2022-03-24T19:24:47.051Z"
   },
   {
    "duration": 37,
    "start_time": "2022-03-24T19:24:47.061Z"
   },
   {
    "duration": 64,
    "start_time": "2022-03-24T19:24:47.100Z"
   },
   {
    "duration": 16,
    "start_time": "2022-03-24T19:24:47.165Z"
   },
   {
    "duration": 10,
    "start_time": "2022-03-24T19:24:47.183Z"
   },
   {
    "duration": 29,
    "start_time": "2022-03-24T19:24:47.195Z"
   },
   {
    "duration": 56,
    "start_time": "2022-03-24T19:24:47.227Z"
   },
   {
    "duration": 11,
    "start_time": "2022-03-24T19:24:47.285Z"
   },
   {
    "duration": 26,
    "start_time": "2022-03-24T19:24:47.298Z"
   },
   {
    "duration": 23,
    "start_time": "2022-03-24T19:24:47.326Z"
   },
   {
    "duration": 28,
    "start_time": "2022-03-24T19:24:47.351Z"
   },
   {
    "duration": 22,
    "start_time": "2022-03-24T19:24:47.380Z"
   },
   {
    "duration": 26,
    "start_time": "2022-03-24T19:24:47.404Z"
   },
   {
    "duration": 9,
    "start_time": "2022-03-24T19:24:47.432Z"
   },
   {
    "duration": 7,
    "start_time": "2022-03-24T19:24:47.446Z"
   },
   {
    "duration": 12,
    "start_time": "2022-03-24T19:24:47.455Z"
   },
   {
    "duration": 10,
    "start_time": "2022-03-24T19:24:47.469Z"
   },
   {
    "duration": 20,
    "start_time": "2022-03-24T19:24:47.481Z"
   },
   {
    "duration": 49,
    "start_time": "2022-03-24T19:24:47.503Z"
   },
   {
    "duration": 44,
    "start_time": "2022-03-24T19:24:47.553Z"
   },
   {
    "duration": 30,
    "start_time": "2022-03-24T19:24:47.598Z"
   },
   {
    "duration": 8,
    "start_time": "2022-03-24T19:24:47.630Z"
   },
   {
    "duration": 20,
    "start_time": "2022-03-24T19:24:47.640Z"
   },
   {
    "duration": 54,
    "start_time": "2022-03-24T19:24:47.662Z"
   },
   {
    "duration": 13,
    "start_time": "2022-03-24T19:24:47.718Z"
   },
   {
    "duration": 94,
    "start_time": "2022-03-24T19:24:47.733Z"
   },
   {
    "duration": 52,
    "start_time": "2022-03-24T19:24:47.829Z"
   },
   {
    "duration": 36,
    "start_time": "2022-03-24T19:24:47.883Z"
   },
   {
    "duration": 40,
    "start_time": "2022-03-24T19:24:47.921Z"
   },
   {
    "duration": 27,
    "start_time": "2022-03-24T19:24:47.963Z"
   },
   {
    "duration": 5,
    "start_time": "2022-03-24T19:24:47.992Z"
   },
   {
    "duration": 384,
    "start_time": "2022-03-24T19:24:47.999Z"
   },
   {
    "duration": 4,
    "start_time": "2022-03-24T19:24:48.384Z"
   },
   {
    "duration": 34,
    "start_time": "2022-03-24T19:24:48.390Z"
   },
   {
    "duration": 308,
    "start_time": "2022-03-24T19:24:48.426Z"
   },
   {
    "duration": 4,
    "start_time": "2022-03-24T19:24:48.736Z"
   },
   {
    "duration": 36,
    "start_time": "2022-03-24T19:24:48.742Z"
   },
   {
    "duration": 262,
    "start_time": "2022-03-24T19:24:48.780Z"
   },
   {
    "duration": 4,
    "start_time": "2022-03-24T19:24:49.044Z"
   },
   {
    "duration": 27,
    "start_time": "2022-03-24T19:24:49.050Z"
   },
   {
    "duration": 319,
    "start_time": "2022-03-24T19:24:49.079Z"
   },
   {
    "duration": 6,
    "start_time": "2022-03-24T19:24:49.400Z"
   },
   {
    "duration": 10,
    "start_time": "2022-03-24T19:24:49.407Z"
   },
   {
    "duration": 10,
    "start_time": "2022-03-24T19:24:49.431Z"
   },
   {
    "duration": 15,
    "start_time": "2022-03-24T19:24:49.442Z"
   },
   {
    "duration": 12,
    "start_time": "2022-03-24T19:24:49.459Z"
   },
   {
    "duration": 27,
    "start_time": "2022-03-24T19:24:49.473Z"
   },
   {
    "duration": 26,
    "start_time": "2022-03-24T19:24:49.502Z"
   },
   {
    "duration": 22,
    "start_time": "2022-03-24T19:24:49.530Z"
   },
   {
    "duration": 25,
    "start_time": "2022-03-24T19:24:49.554Z"
   },
   {
    "duration": 20,
    "start_time": "2022-03-24T19:24:49.581Z"
   },
   {
    "duration": 48,
    "start_time": "2022-03-24T19:24:49.603Z"
   },
   {
    "duration": 22,
    "start_time": "2022-03-24T19:24:49.653Z"
   },
   {
    "duration": 36,
    "start_time": "2022-03-24T19:24:49.677Z"
   },
   {
    "duration": 5,
    "start_time": "2022-03-24T19:24:49.714Z"
   },
   {
    "duration": 18,
    "start_time": "2022-03-24T19:24:49.720Z"
   },
   {
    "duration": 168,
    "start_time": "2022-03-24T19:24:49.739Z"
   },
   {
    "duration": 25,
    "start_time": "2022-03-24T19:24:49.909Z"
   },
   {
    "duration": 11,
    "start_time": "2022-03-24T19:24:49.936Z"
   },
   {
    "duration": 45,
    "start_time": "2022-03-24T19:24:49.949Z"
   },
   {
    "duration": 13,
    "start_time": "2022-03-24T19:25:07.541Z"
   },
   {
    "duration": 5,
    "start_time": "2022-03-24T19:26:35.485Z"
   },
   {
    "duration": 3,
    "start_time": "2022-03-24T19:28:01.467Z"
   },
   {
    "duration": 4,
    "start_time": "2022-03-24T19:28:05.612Z"
   },
   {
    "duration": 10,
    "start_time": "2022-03-24T19:28:24.146Z"
   },
   {
    "duration": 26,
    "start_time": "2022-03-24T19:28:49.664Z"
   },
   {
    "duration": 4,
    "start_time": "2022-03-24T19:29:37.382Z"
   },
   {
    "duration": 4,
    "start_time": "2022-03-24T19:33:28.184Z"
   },
   {
    "duration": 5,
    "start_time": "2022-03-24T19:33:41.082Z"
   },
   {
    "duration": 5,
    "start_time": "2022-03-24T19:34:06.280Z"
   },
   {
    "duration": 9,
    "start_time": "2022-03-24T19:34:10.136Z"
   },
   {
    "duration": 871,
    "start_time": "2022-03-24T19:36:56.490Z"
   },
   {
    "duration": 6,
    "start_time": "2022-03-24T19:37:54.415Z"
   },
   {
    "duration": 8,
    "start_time": "2022-03-24T19:37:59.224Z"
   },
   {
    "duration": 6,
    "start_time": "2022-03-24T19:38:27.820Z"
   },
   {
    "duration": 4,
    "start_time": "2022-03-24T19:40:30.647Z"
   },
   {
    "duration": 5,
    "start_time": "2022-03-24T19:41:06.701Z"
   },
   {
    "duration": 4,
    "start_time": "2022-03-24T19:41:06.894Z"
   },
   {
    "duration": 6,
    "start_time": "2022-03-24T19:41:07.061Z"
   },
   {
    "duration": 7,
    "start_time": "2022-03-24T19:41:07.586Z"
   },
   {
    "duration": 4,
    "start_time": "2022-03-24T19:41:14.302Z"
   },
   {
    "duration": 5,
    "start_time": "2022-03-24T19:43:14.138Z"
   },
   {
    "duration": 6,
    "start_time": "2022-03-24T19:43:14.660Z"
   },
   {
    "duration": 8,
    "start_time": "2022-03-24T19:43:15.056Z"
   },
   {
    "duration": 4,
    "start_time": "2022-03-24T19:44:29.495Z"
   },
   {
    "duration": 4,
    "start_time": "2022-03-24T19:45:35.807Z"
   },
   {
    "duration": 4,
    "start_time": "2022-03-24T19:47:02.407Z"
   },
   {
    "duration": 4,
    "start_time": "2022-03-24T19:47:15.497Z"
   },
   {
    "duration": 6,
    "start_time": "2022-03-24T19:47:37.915Z"
   },
   {
    "duration": 6,
    "start_time": "2022-03-24T19:47:39.016Z"
   },
   {
    "duration": 6,
    "start_time": "2022-03-24T19:47:48.607Z"
   },
   {
    "duration": 1311,
    "start_time": "2022-03-24T19:48:20.506Z"
   },
   {
    "duration": 3,
    "start_time": "2022-03-24T19:48:21.819Z"
   },
   {
    "duration": 14,
    "start_time": "2022-03-24T19:48:21.824Z"
   },
   {
    "duration": 27,
    "start_time": "2022-03-24T19:48:21.840Z"
   },
   {
    "duration": 25,
    "start_time": "2022-03-24T19:48:21.869Z"
   },
   {
    "duration": 23,
    "start_time": "2022-03-24T19:48:21.896Z"
   },
   {
    "duration": 11,
    "start_time": "2022-03-24T19:48:21.921Z"
   },
   {
    "duration": 17,
    "start_time": "2022-03-24T19:48:21.934Z"
   },
   {
    "duration": 173,
    "start_time": "2022-03-24T19:48:21.953Z"
   },
   {
    "duration": 11,
    "start_time": "2022-03-24T19:48:22.128Z"
   },
   {
    "duration": 29,
    "start_time": "2022-03-24T19:48:22.141Z"
   },
   {
    "duration": 130,
    "start_time": "2022-03-24T19:48:22.172Z"
   },
   {
    "duration": 18,
    "start_time": "2022-03-24T19:48:22.303Z"
   },
   {
    "duration": 152,
    "start_time": "2022-03-24T19:48:22.331Z"
   },
   {
    "duration": 10,
    "start_time": "2022-03-24T19:48:22.485Z"
   },
   {
    "duration": 36,
    "start_time": "2022-03-24T19:48:22.496Z"
   },
   {
    "duration": 50,
    "start_time": "2022-03-24T19:48:22.533Z"
   },
   {
    "duration": 14,
    "start_time": "2022-03-24T19:48:22.585Z"
   },
   {
    "duration": 115,
    "start_time": "2022-03-24T19:48:22.601Z"
   },
   {
    "duration": 14,
    "start_time": "2022-03-24T19:48:22.718Z"
   },
   {
    "duration": 20,
    "start_time": "2022-03-24T19:48:22.734Z"
   },
   {
    "duration": 52,
    "start_time": "2022-03-24T19:48:22.756Z"
   },
   {
    "duration": 38,
    "start_time": "2022-03-24T19:48:22.810Z"
   },
   {
    "duration": 8,
    "start_time": "2022-03-24T19:48:22.850Z"
   },
   {
    "duration": 24,
    "start_time": "2022-03-24T19:48:22.860Z"
   },
   {
    "duration": 70,
    "start_time": "2022-03-24T19:48:22.886Z"
   },
   {
    "duration": 10,
    "start_time": "2022-03-24T19:48:22.958Z"
   },
   {
    "duration": 15,
    "start_time": "2022-03-24T19:48:22.969Z"
   },
   {
    "duration": 10,
    "start_time": "2022-03-24T19:48:22.986Z"
   },
   {
    "duration": 7,
    "start_time": "2022-03-24T19:48:22.997Z"
   },
   {
    "duration": 12,
    "start_time": "2022-03-24T19:48:23.006Z"
   },
   {
    "duration": 12,
    "start_time": "2022-03-24T19:48:23.019Z"
   },
   {
    "duration": 6,
    "start_time": "2022-03-24T19:48:23.033Z"
   },
   {
    "duration": 17,
    "start_time": "2022-03-24T19:48:23.041Z"
   },
   {
    "duration": 5,
    "start_time": "2022-03-24T19:48:23.060Z"
   },
   {
    "duration": 18,
    "start_time": "2022-03-24T19:48:23.066Z"
   },
   {
    "duration": 12,
    "start_time": "2022-03-24T19:48:23.086Z"
   },
   {
    "duration": 43,
    "start_time": "2022-03-24T19:48:23.100Z"
   },
   {
    "duration": 28,
    "start_time": "2022-03-24T19:48:23.145Z"
   },
   {
    "duration": 24,
    "start_time": "2022-03-24T19:48:23.175Z"
   },
   {
    "duration": 4,
    "start_time": "2022-03-24T19:48:23.234Z"
   },
   {
    "duration": 12,
    "start_time": "2022-03-24T19:48:23.240Z"
   },
   {
    "duration": 41,
    "start_time": "2022-03-24T19:48:23.254Z"
   },
   {
    "duration": 34,
    "start_time": "2022-03-24T19:48:23.297Z"
   },
   {
    "duration": 79,
    "start_time": "2022-03-24T19:48:23.334Z"
   },
   {
    "duration": 66,
    "start_time": "2022-03-24T19:48:23.415Z"
   },
   {
    "duration": 50,
    "start_time": "2022-03-24T19:48:23.483Z"
   },
   {
    "duration": 30,
    "start_time": "2022-03-24T19:48:23.534Z"
   },
   {
    "duration": 27,
    "start_time": "2022-03-24T19:48:23.566Z"
   },
   {
    "duration": 5,
    "start_time": "2022-03-24T19:48:23.594Z"
   },
   {
    "duration": 358,
    "start_time": "2022-03-24T19:48:23.631Z"
   },
   {
    "duration": 5,
    "start_time": "2022-03-24T19:48:23.991Z"
   },
   {
    "duration": 14,
    "start_time": "2022-03-24T19:48:23.997Z"
   },
   {
    "duration": 283,
    "start_time": "2022-03-24T19:48:24.012Z"
   },
   {
    "duration": 3,
    "start_time": "2022-03-24T19:48:24.297Z"
   },
   {
    "duration": 31,
    "start_time": "2022-03-24T19:48:24.302Z"
   },
   {
    "duration": 257,
    "start_time": "2022-03-24T19:48:24.335Z"
   },
   {
    "duration": 4,
    "start_time": "2022-03-24T19:48:24.593Z"
   },
   {
    "duration": 12,
    "start_time": "2022-03-24T19:48:24.599Z"
   },
   {
    "duration": 300,
    "start_time": "2022-03-24T19:48:24.613Z"
   },
   {
    "duration": 4,
    "start_time": "2022-03-24T19:48:24.915Z"
   },
   {
    "duration": 4,
    "start_time": "2022-03-24T19:48:24.931Z"
   },
   {
    "duration": 8,
    "start_time": "2022-03-24T19:48:24.936Z"
   },
   {
    "duration": 18,
    "start_time": "2022-03-24T19:48:24.946Z"
   },
   {
    "duration": 12,
    "start_time": "2022-03-24T19:48:24.965Z"
   },
   {
    "duration": 13,
    "start_time": "2022-03-24T19:48:24.978Z"
   },
   {
    "duration": 12,
    "start_time": "2022-03-24T19:48:24.993Z"
   },
   {
    "duration": 25,
    "start_time": "2022-03-24T19:48:25.007Z"
   },
   {
    "duration": 12,
    "start_time": "2022-03-24T19:48:25.034Z"
   },
   {
    "duration": 6,
    "start_time": "2022-03-24T19:48:25.048Z"
   },
   {
    "duration": 30,
    "start_time": "2022-03-24T19:48:25.056Z"
   },
   {
    "duration": 6,
    "start_time": "2022-03-24T19:48:25.089Z"
   },
   {
    "duration": 62,
    "start_time": "2022-03-24T19:48:25.098Z"
   },
   {
    "duration": 5,
    "start_time": "2022-03-24T19:48:25.162Z"
   },
   {
    "duration": 198,
    "start_time": "2022-03-24T19:48:25.169Z"
   },
   {
    "duration": 13,
    "start_time": "2022-03-24T19:48:25.369Z"
   },
   {
    "duration": 13,
    "start_time": "2022-03-24T19:48:25.385Z"
   },
   {
    "duration": 46,
    "start_time": "2022-03-24T19:48:25.400Z"
   },
   {
    "duration": 170,
    "start_time": "2022-03-24T19:48:54.920Z"
   },
   {
    "duration": 14,
    "start_time": "2022-03-24T19:49:22.138Z"
   },
   {
    "duration": 162,
    "start_time": "2022-03-24T19:49:29.048Z"
   },
   {
    "duration": 23,
    "start_time": "2022-03-24T19:49:31.019Z"
   },
   {
    "duration": 1306,
    "start_time": "2022-03-24T19:49:41.504Z"
   },
   {
    "duration": 3,
    "start_time": "2022-03-24T19:49:42.812Z"
   },
   {
    "duration": 16,
    "start_time": "2022-03-24T19:49:42.817Z"
   },
   {
    "duration": 8,
    "start_time": "2022-03-24T19:49:42.835Z"
   },
   {
    "duration": 8,
    "start_time": "2022-03-24T19:49:42.845Z"
   },
   {
    "duration": 17,
    "start_time": "2022-03-24T19:49:42.855Z"
   },
   {
    "duration": 6,
    "start_time": "2022-03-24T19:49:42.874Z"
   },
   {
    "duration": 10,
    "start_time": "2022-03-24T19:49:42.882Z"
   },
   {
    "duration": 188,
    "start_time": "2022-03-24T19:49:42.894Z"
   },
   {
    "duration": 12,
    "start_time": "2022-03-24T19:49:43.086Z"
   },
   {
    "duration": 42,
    "start_time": "2022-03-24T19:49:43.100Z"
   },
   {
    "duration": 128,
    "start_time": "2022-03-24T19:49:43.144Z"
   },
   {
    "duration": 17,
    "start_time": "2022-03-24T19:49:43.273Z"
   },
   {
    "duration": 163,
    "start_time": "2022-03-24T19:49:43.292Z"
   },
   {
    "duration": 10,
    "start_time": "2022-03-24T19:49:43.456Z"
   },
   {
    "duration": 29,
    "start_time": "2022-03-24T19:49:43.468Z"
   },
   {
    "duration": 70,
    "start_time": "2022-03-24T19:49:43.499Z"
   },
   {
    "duration": 16,
    "start_time": "2022-03-24T19:49:43.571Z"
   },
   {
    "duration": 107,
    "start_time": "2022-03-24T19:49:43.589Z"
   },
   {
    "duration": 8,
    "start_time": "2022-03-24T19:49:43.698Z"
   },
   {
    "duration": 32,
    "start_time": "2022-03-24T19:49:43.709Z"
   },
   {
    "duration": 52,
    "start_time": "2022-03-24T19:49:43.743Z"
   },
   {
    "duration": 16,
    "start_time": "2022-03-24T19:49:43.797Z"
   },
   {
    "duration": 19,
    "start_time": "2022-03-24T19:49:43.814Z"
   },
   {
    "duration": 14,
    "start_time": "2022-03-24T19:49:43.835Z"
   },
   {
    "duration": 61,
    "start_time": "2022-03-24T19:49:43.851Z"
   },
   {
    "duration": 11,
    "start_time": "2022-03-24T19:49:43.913Z"
   },
   {
    "duration": 12,
    "start_time": "2022-03-24T19:49:43.929Z"
   },
   {
    "duration": 9,
    "start_time": "2022-03-24T19:49:43.943Z"
   },
   {
    "duration": 7,
    "start_time": "2022-03-24T19:49:43.953Z"
   },
   {
    "duration": 11,
    "start_time": "2022-03-24T19:49:43.962Z"
   },
   {
    "duration": 10,
    "start_time": "2022-03-24T19:49:43.975Z"
   },
   {
    "duration": 8,
    "start_time": "2022-03-24T19:49:43.987Z"
   },
   {
    "duration": 36,
    "start_time": "2022-03-24T19:49:43.997Z"
   },
   {
    "duration": 5,
    "start_time": "2022-03-24T19:49:44.034Z"
   },
   {
    "duration": 6,
    "start_time": "2022-03-24T19:49:44.041Z"
   },
   {
    "duration": 14,
    "start_time": "2022-03-24T19:49:44.048Z"
   },
   {
    "duration": 36,
    "start_time": "2022-03-24T19:49:44.063Z"
   },
   {
    "duration": 49,
    "start_time": "2022-03-24T19:49:44.101Z"
   },
   {
    "duration": 23,
    "start_time": "2022-03-24T19:49:44.152Z"
   },
   {
    "duration": 4,
    "start_time": "2022-03-24T19:49:44.176Z"
   },
   {
    "duration": 11,
    "start_time": "2022-03-24T19:49:44.181Z"
   },
   {
    "duration": 70,
    "start_time": "2022-03-24T19:49:44.194Z"
   },
   {
    "duration": 14,
    "start_time": "2022-03-24T19:49:44.266Z"
   },
   {
    "duration": 95,
    "start_time": "2022-03-24T19:49:44.282Z"
   },
   {
    "duration": 64,
    "start_time": "2022-03-24T19:49:44.379Z"
   },
   {
    "duration": 36,
    "start_time": "2022-03-24T19:49:44.445Z"
   },
   {
    "duration": 29,
    "start_time": "2022-03-24T19:49:44.483Z"
   },
   {
    "duration": 26,
    "start_time": "2022-03-24T19:49:44.532Z"
   },
   {
    "duration": 5,
    "start_time": "2022-03-24T19:49:44.560Z"
   },
   {
    "duration": 334,
    "start_time": "2022-03-24T19:49:44.566Z"
   },
   {
    "duration": 4,
    "start_time": "2022-03-24T19:49:44.901Z"
   },
   {
    "duration": 15,
    "start_time": "2022-03-24T19:49:44.907Z"
   },
   {
    "duration": 274,
    "start_time": "2022-03-24T19:49:44.931Z"
   },
   {
    "duration": 4,
    "start_time": "2022-03-24T19:49:45.207Z"
   },
   {
    "duration": 19,
    "start_time": "2022-03-24T19:49:45.213Z"
   },
   {
    "duration": 278,
    "start_time": "2022-03-24T19:49:45.235Z"
   },
   {
    "duration": 4,
    "start_time": "2022-03-24T19:49:45.515Z"
   },
   {
    "duration": 18,
    "start_time": "2022-03-24T19:49:45.520Z"
   },
   {
    "duration": 301,
    "start_time": "2022-03-24T19:49:45.540Z"
   },
   {
    "duration": 4,
    "start_time": "2022-03-24T19:49:45.843Z"
   },
   {
    "duration": 9,
    "start_time": "2022-03-24T19:49:45.849Z"
   },
   {
    "duration": 6,
    "start_time": "2022-03-24T19:49:45.860Z"
   },
   {
    "duration": 11,
    "start_time": "2022-03-24T19:49:45.868Z"
   },
   {
    "duration": 7,
    "start_time": "2022-03-24T19:49:45.880Z"
   },
   {
    "duration": 15,
    "start_time": "2022-03-24T19:49:45.889Z"
   },
   {
    "duration": 31,
    "start_time": "2022-03-24T19:49:45.906Z"
   },
   {
    "duration": 11,
    "start_time": "2022-03-24T19:49:45.939Z"
   },
   {
    "duration": 10,
    "start_time": "2022-03-24T19:49:45.952Z"
   },
   {
    "duration": 5,
    "start_time": "2022-03-24T19:49:45.964Z"
   },
   {
    "duration": 28,
    "start_time": "2022-03-24T19:49:45.971Z"
   },
   {
    "duration": 32,
    "start_time": "2022-03-24T19:49:46.001Z"
   },
   {
    "duration": 28,
    "start_time": "2022-03-24T19:49:46.035Z"
   },
   {
    "duration": 4,
    "start_time": "2022-03-24T19:49:46.066Z"
   },
   {
    "duration": 198,
    "start_time": "2022-03-24T19:49:46.072Z"
   },
   {
    "duration": 13,
    "start_time": "2022-03-24T19:49:46.272Z"
   },
   {
    "duration": 13,
    "start_time": "2022-03-24T19:49:46.287Z"
   },
   {
    "duration": 43,
    "start_time": "2022-03-24T19:49:46.301Z"
   },
   {
    "duration": 166,
    "start_time": "2022-03-24T19:52:11.642Z"
   },
   {
    "duration": 31,
    "start_time": "2022-03-24T19:52:12.633Z"
   },
   {
    "duration": 172,
    "start_time": "2022-03-24T19:52:14.336Z"
   },
   {
    "duration": 192,
    "start_time": "2022-03-24T19:53:00.264Z"
   },
   {
    "duration": 84,
    "start_time": "2022-03-24T19:53:36.947Z"
   },
   {
    "duration": 81,
    "start_time": "2022-03-24T19:53:43.527Z"
   },
   {
    "duration": 26,
    "start_time": "2022-03-24T19:53:44.760Z"
   },
   {
    "duration": 81,
    "start_time": "2022-03-24T19:53:55.067Z"
   },
   {
    "duration": 27,
    "start_time": "2022-03-24T19:53:56.293Z"
   },
   {
    "duration": 80,
    "start_time": "2022-03-24T19:54:12.051Z"
   },
   {
    "duration": 32,
    "start_time": "2022-03-24T19:54:15.070Z"
   },
   {
    "duration": 167,
    "start_time": "2022-03-24T19:54:34.549Z"
   },
   {
    "duration": 30,
    "start_time": "2022-03-24T19:54:35.783Z"
   },
   {
    "duration": 30,
    "start_time": "2022-03-24T20:09:14.509Z"
   },
   {
    "duration": 20,
    "start_time": "2022-03-24T20:09:15.238Z"
   },
   {
    "duration": 21,
    "start_time": "2022-03-24T20:09:21.597Z"
   },
   {
    "duration": 1387,
    "start_time": "2022-03-24T20:09:35.812Z"
   },
   {
    "duration": 6,
    "start_time": "2022-03-24T20:09:37.201Z"
   },
   {
    "duration": 5,
    "start_time": "2022-03-24T20:09:37.209Z"
   },
   {
    "duration": 16,
    "start_time": "2022-03-24T20:09:37.216Z"
   },
   {
    "duration": 12,
    "start_time": "2022-03-24T20:09:37.233Z"
   },
   {
    "duration": 14,
    "start_time": "2022-03-24T20:09:37.247Z"
   },
   {
    "duration": 5,
    "start_time": "2022-03-24T20:09:37.263Z"
   },
   {
    "duration": 8,
    "start_time": "2022-03-24T20:09:37.270Z"
   },
   {
    "duration": 176,
    "start_time": "2022-03-24T20:09:37.279Z"
   },
   {
    "duration": 12,
    "start_time": "2022-03-24T20:09:37.458Z"
   },
   {
    "duration": 28,
    "start_time": "2022-03-24T20:09:37.471Z"
   },
   {
    "duration": 139,
    "start_time": "2022-03-24T20:09:37.501Z"
   },
   {
    "duration": 18,
    "start_time": "2022-03-24T20:09:37.641Z"
   },
   {
    "duration": 156,
    "start_time": "2022-03-24T20:09:37.661Z"
   },
   {
    "duration": 14,
    "start_time": "2022-03-24T20:09:37.818Z"
   },
   {
    "duration": 31,
    "start_time": "2022-03-24T20:09:37.834Z"
   },
   {
    "duration": 64,
    "start_time": "2022-03-24T20:09:37.867Z"
   },
   {
    "duration": 15,
    "start_time": "2022-03-24T20:09:37.933Z"
   },
   {
    "duration": 100,
    "start_time": "2022-03-24T20:09:37.949Z"
   },
   {
    "duration": 8,
    "start_time": "2022-03-24T20:09:38.051Z"
   },
   {
    "duration": 24,
    "start_time": "2022-03-24T20:09:38.061Z"
   },
   {
    "duration": 73,
    "start_time": "2022-03-24T20:09:38.087Z"
   },
   {
    "duration": 16,
    "start_time": "2022-03-24T20:09:38.162Z"
   },
   {
    "duration": 8,
    "start_time": "2022-03-24T20:09:38.180Z"
   },
   {
    "duration": 13,
    "start_time": "2022-03-24T20:09:38.190Z"
   },
   {
    "duration": 41,
    "start_time": "2022-03-24T20:09:38.205Z"
   },
   {
    "duration": 10,
    "start_time": "2022-03-24T20:09:38.247Z"
   },
   {
    "duration": 11,
    "start_time": "2022-03-24T20:09:38.262Z"
   },
   {
    "duration": 8,
    "start_time": "2022-03-24T20:09:38.275Z"
   },
   {
    "duration": 7,
    "start_time": "2022-03-24T20:09:38.285Z"
   },
   {
    "duration": 10,
    "start_time": "2022-03-24T20:09:38.294Z"
   },
   {
    "duration": 26,
    "start_time": "2022-03-24T20:09:38.306Z"
   },
   {
    "duration": 4,
    "start_time": "2022-03-24T20:09:38.334Z"
   },
   {
    "duration": 9,
    "start_time": "2022-03-24T20:09:38.340Z"
   },
   {
    "duration": 5,
    "start_time": "2022-03-24T20:09:38.351Z"
   },
   {
    "duration": 6,
    "start_time": "2022-03-24T20:09:38.358Z"
   },
   {
    "duration": 15,
    "start_time": "2022-03-24T20:09:38.365Z"
   },
   {
    "duration": 60,
    "start_time": "2022-03-24T20:09:38.382Z"
   },
   {
    "duration": 26,
    "start_time": "2022-03-24T20:09:38.444Z"
   },
   {
    "duration": 23,
    "start_time": "2022-03-24T20:09:38.472Z"
   },
   {
    "duration": 3,
    "start_time": "2022-03-24T20:09:38.497Z"
   },
   {
    "duration": 26,
    "start_time": "2022-03-24T20:09:38.542Z"
   },
   {
    "duration": 51,
    "start_time": "2022-03-24T20:09:38.570Z"
   },
   {
    "duration": 13,
    "start_time": "2022-03-24T20:09:38.624Z"
   },
   {
    "duration": 79,
    "start_time": "2022-03-24T20:09:38.639Z"
   },
   {
    "duration": 57,
    "start_time": "2022-03-24T20:09:38.720Z"
   },
   {
    "duration": 35,
    "start_time": "2022-03-24T20:09:38.778Z"
   },
   {
    "duration": 45,
    "start_time": "2022-03-24T20:09:38.815Z"
   },
   {
    "duration": 26,
    "start_time": "2022-03-24T20:09:38.862Z"
   },
   {
    "duration": 4,
    "start_time": "2022-03-24T20:09:38.890Z"
   },
   {
    "duration": 335,
    "start_time": "2022-03-24T20:09:38.896Z"
   },
   {
    "duration": 4,
    "start_time": "2022-03-24T20:09:39.233Z"
   },
   {
    "duration": 15,
    "start_time": "2022-03-24T20:09:39.238Z"
   },
   {
    "duration": 277,
    "start_time": "2022-03-24T20:09:39.254Z"
   },
   {
    "duration": 4,
    "start_time": "2022-03-24T20:09:39.533Z"
   },
   {
    "duration": 10,
    "start_time": "2022-03-24T20:09:39.539Z"
   },
   {
    "duration": 313,
    "start_time": "2022-03-24T20:09:39.550Z"
   },
   {
    "duration": 3,
    "start_time": "2022-03-24T20:09:39.865Z"
   },
   {
    "duration": 13,
    "start_time": "2022-03-24T20:09:39.870Z"
   },
   {
    "duration": 304,
    "start_time": "2022-03-24T20:09:39.884Z"
   },
   {
    "duration": 5,
    "start_time": "2022-03-24T20:09:40.189Z"
   },
   {
    "duration": 7,
    "start_time": "2022-03-24T20:09:40.196Z"
   },
   {
    "duration": 10,
    "start_time": "2022-03-24T20:09:40.205Z"
   },
   {
    "duration": 22,
    "start_time": "2022-03-24T20:09:40.216Z"
   },
   {
    "duration": 6,
    "start_time": "2022-03-24T20:09:40.240Z"
   },
   {
    "duration": 13,
    "start_time": "2022-03-24T20:09:40.248Z"
   },
   {
    "duration": 9,
    "start_time": "2022-03-24T20:09:40.263Z"
   },
   {
    "duration": 9,
    "start_time": "2022-03-24T20:09:40.274Z"
   },
   {
    "duration": 14,
    "start_time": "2022-03-24T20:09:40.285Z"
   },
   {
    "duration": 31,
    "start_time": "2022-03-24T20:09:40.301Z"
   },
   {
    "duration": 26,
    "start_time": "2022-03-24T20:09:40.334Z"
   },
   {
    "duration": 6,
    "start_time": "2022-03-24T20:09:40.362Z"
   },
   {
    "duration": 195,
    "start_time": "2022-03-24T20:09:40.370Z"
   },
   {
    "duration": 33,
    "start_time": "2022-03-24T20:09:40.568Z"
   },
   {
    "duration": 5,
    "start_time": "2022-03-24T20:09:40.603Z"
   },
   {
    "duration": 79,
    "start_time": "2022-03-24T20:09:40.631Z"
   },
   {
    "duration": 43,
    "start_time": "2022-03-24T20:09:40.712Z"
   },
   {
    "duration": 19,
    "start_time": "2022-03-24T20:09:40.757Z"
   },
   {
    "duration": 20,
    "start_time": "2022-03-24T20:09:40.777Z"
   },
   {
    "duration": 48,
    "start_time": "2022-03-24T20:09:40.799Z"
   },
   {
    "duration": 20,
    "start_time": "2022-03-24T20:09:40.849Z"
   },
   {
    "duration": 167,
    "start_time": "2022-03-24T20:10:13.650Z"
   },
   {
    "duration": 31,
    "start_time": "2022-03-24T20:10:14.353Z"
   },
   {
    "duration": 159,
    "start_time": "2022-03-24T20:10:17.905Z"
   },
   {
    "duration": 171,
    "start_time": "2022-03-24T20:10:39.739Z"
   },
   {
    "duration": 29,
    "start_time": "2022-03-24T20:10:40.503Z"
   },
   {
    "duration": 6,
    "start_time": "2022-03-24T20:10:43.299Z"
   },
   {
    "duration": 78,
    "start_time": "2022-03-24T20:10:43.626Z"
   },
   {
    "duration": 86,
    "start_time": "2022-03-24T20:12:32.917Z"
   },
   {
    "duration": 78,
    "start_time": "2022-03-24T20:12:39.287Z"
   },
   {
    "duration": 30,
    "start_time": "2022-03-24T20:12:43.872Z"
   },
   {
    "duration": 173,
    "start_time": "2022-03-24T20:13:04.649Z"
   },
   {
    "duration": 163,
    "start_time": "2022-03-24T20:13:08.548Z"
   },
   {
    "duration": 1348,
    "start_time": "2022-03-24T20:13:17.348Z"
   },
   {
    "duration": 3,
    "start_time": "2022-03-24T20:13:18.698Z"
   },
   {
    "duration": 8,
    "start_time": "2022-03-24T20:13:18.703Z"
   },
   {
    "duration": 18,
    "start_time": "2022-03-24T20:13:18.714Z"
   },
   {
    "duration": 8,
    "start_time": "2022-03-24T20:13:18.734Z"
   },
   {
    "duration": 19,
    "start_time": "2022-03-24T20:13:18.744Z"
   },
   {
    "duration": 7,
    "start_time": "2022-03-24T20:13:18.766Z"
   },
   {
    "duration": 8,
    "start_time": "2022-03-24T20:13:18.774Z"
   },
   {
    "duration": 170,
    "start_time": "2022-03-24T20:13:18.784Z"
   },
   {
    "duration": 12,
    "start_time": "2022-03-24T20:13:18.957Z"
   },
   {
    "duration": 34,
    "start_time": "2022-03-24T20:13:18.971Z"
   },
   {
    "duration": 138,
    "start_time": "2022-03-24T20:13:19.007Z"
   },
   {
    "duration": 19,
    "start_time": "2022-03-24T20:13:19.146Z"
   },
   {
    "duration": 158,
    "start_time": "2022-03-24T20:13:19.167Z"
   },
   {
    "duration": 10,
    "start_time": "2022-03-24T20:13:19.327Z"
   },
   {
    "duration": 27,
    "start_time": "2022-03-24T20:13:19.339Z"
   },
   {
    "duration": 71,
    "start_time": "2022-03-24T20:13:19.367Z"
   },
   {
    "duration": 14,
    "start_time": "2022-03-24T20:13:19.440Z"
   },
   {
    "duration": 100,
    "start_time": "2022-03-24T20:13:19.456Z"
   },
   {
    "duration": 8,
    "start_time": "2022-03-24T20:13:19.558Z"
   },
   {
    "duration": 22,
    "start_time": "2022-03-24T20:13:19.568Z"
   },
   {
    "duration": 74,
    "start_time": "2022-03-24T20:13:19.592Z"
   },
   {
    "duration": 28,
    "start_time": "2022-03-24T20:13:19.668Z"
   },
   {
    "duration": 10,
    "start_time": "2022-03-24T20:13:19.698Z"
   },
   {
    "duration": 15,
    "start_time": "2022-03-24T20:13:19.709Z"
   },
   {
    "duration": 61,
    "start_time": "2022-03-24T20:13:19.726Z"
   },
   {
    "duration": 11,
    "start_time": "2022-03-24T20:13:19.789Z"
   },
   {
    "duration": 11,
    "start_time": "2022-03-24T20:13:19.805Z"
   },
   {
    "duration": 9,
    "start_time": "2022-03-24T20:13:19.818Z"
   },
   {
    "duration": 8,
    "start_time": "2022-03-24T20:13:19.829Z"
   },
   {
    "duration": 9,
    "start_time": "2022-03-24T20:13:19.839Z"
   },
   {
    "duration": 8,
    "start_time": "2022-03-24T20:13:19.850Z"
   },
   {
    "duration": 6,
    "start_time": "2022-03-24T20:13:19.859Z"
   },
   {
    "duration": 9,
    "start_time": "2022-03-24T20:13:19.867Z"
   },
   {
    "duration": 4,
    "start_time": "2022-03-24T20:13:19.878Z"
   },
   {
    "duration": 5,
    "start_time": "2022-03-24T20:13:19.884Z"
   },
   {
    "duration": 44,
    "start_time": "2022-03-24T20:13:19.891Z"
   },
   {
    "duration": 45,
    "start_time": "2022-03-24T20:13:19.937Z"
   },
   {
    "duration": 28,
    "start_time": "2022-03-24T20:13:19.984Z"
   },
   {
    "duration": 38,
    "start_time": "2022-03-24T20:13:20.014Z"
   },
   {
    "duration": 4,
    "start_time": "2022-03-24T20:13:20.054Z"
   },
   {
    "duration": 13,
    "start_time": "2022-03-24T20:13:20.060Z"
   },
   {
    "duration": 66,
    "start_time": "2022-03-24T20:13:20.075Z"
   },
   {
    "duration": 14,
    "start_time": "2022-03-24T20:13:20.143Z"
   },
   {
    "duration": 93,
    "start_time": "2022-03-24T20:13:20.159Z"
   },
   {
    "duration": 53,
    "start_time": "2022-03-24T20:13:20.254Z"
   },
   {
    "duration": 53,
    "start_time": "2022-03-24T20:13:20.309Z"
   },
   {
    "duration": 31,
    "start_time": "2022-03-24T20:13:20.364Z"
   },
   {
    "duration": 48,
    "start_time": "2022-03-24T20:13:20.396Z"
   },
   {
    "duration": 4,
    "start_time": "2022-03-24T20:13:20.446Z"
   },
   {
    "duration": 326,
    "start_time": "2022-03-24T20:13:20.452Z"
   },
   {
    "duration": 3,
    "start_time": "2022-03-24T20:13:20.780Z"
   },
   {
    "duration": 12,
    "start_time": "2022-03-24T20:13:20.785Z"
   },
   {
    "duration": 287,
    "start_time": "2022-03-24T20:13:20.798Z"
   },
   {
    "duration": 4,
    "start_time": "2022-03-24T20:13:21.087Z"
   },
   {
    "duration": 15,
    "start_time": "2022-03-24T20:13:21.093Z"
   },
   {
    "duration": 252,
    "start_time": "2022-03-24T20:13:21.110Z"
   },
   {
    "duration": 3,
    "start_time": "2022-03-24T20:13:21.365Z"
   },
   {
    "duration": 17,
    "start_time": "2022-03-24T20:13:21.369Z"
   },
   {
    "duration": 325,
    "start_time": "2022-03-24T20:13:21.388Z"
   },
   {
    "duration": 5,
    "start_time": "2022-03-24T20:13:21.714Z"
   },
   {
    "duration": 4,
    "start_time": "2022-03-24T20:13:21.732Z"
   },
   {
    "duration": 7,
    "start_time": "2022-03-24T20:13:21.737Z"
   },
   {
    "duration": 11,
    "start_time": "2022-03-24T20:13:21.746Z"
   },
   {
    "duration": 6,
    "start_time": "2022-03-24T20:13:21.759Z"
   },
   {
    "duration": 22,
    "start_time": "2022-03-24T20:13:21.768Z"
   },
   {
    "duration": 12,
    "start_time": "2022-03-24T20:13:21.793Z"
   },
   {
    "duration": 31,
    "start_time": "2022-03-24T20:13:21.807Z"
   },
   {
    "duration": 10,
    "start_time": "2022-03-24T20:13:21.840Z"
   },
   {
    "duration": 4,
    "start_time": "2022-03-24T20:13:21.852Z"
   },
   {
    "duration": 28,
    "start_time": "2022-03-24T20:13:21.858Z"
   },
   {
    "duration": 6,
    "start_time": "2022-03-24T20:13:21.888Z"
   },
   {
    "duration": 196,
    "start_time": "2022-03-24T20:13:21.896Z"
   },
   {
    "duration": 39,
    "start_time": "2022-03-24T20:13:22.094Z"
   },
   {
    "duration": 7,
    "start_time": "2022-03-24T20:13:22.135Z"
   },
   {
    "duration": 89,
    "start_time": "2022-03-24T20:13:22.143Z"
   },
   {
    "duration": 31,
    "start_time": "2022-03-24T20:13:22.234Z"
   },
   {
    "duration": 17,
    "start_time": "2022-03-24T20:13:22.267Z"
   },
   {
    "duration": 19,
    "start_time": "2022-03-24T20:13:22.286Z"
   },
   {
    "duration": 19,
    "start_time": "2022-03-24T20:13:22.331Z"
   },
   {
    "duration": 20,
    "start_time": "2022-03-24T20:13:22.352Z"
   },
   {
    "duration": 1326,
    "start_time": "2022-03-24T20:15:19.481Z"
   },
   {
    "duration": 2,
    "start_time": "2022-03-24T20:15:20.810Z"
   },
   {
    "duration": 20,
    "start_time": "2022-03-24T20:15:20.814Z"
   },
   {
    "duration": 26,
    "start_time": "2022-03-24T20:15:20.836Z"
   },
   {
    "duration": 19,
    "start_time": "2022-03-24T20:15:20.864Z"
   },
   {
    "duration": 20,
    "start_time": "2022-03-24T20:15:20.885Z"
   },
   {
    "duration": 29,
    "start_time": "2022-03-24T20:15:20.907Z"
   },
   {
    "duration": 42,
    "start_time": "2022-03-24T20:15:20.938Z"
   },
   {
    "duration": 215,
    "start_time": "2022-03-24T20:15:20.982Z"
   },
   {
    "duration": 12,
    "start_time": "2022-03-24T20:15:21.201Z"
   },
   {
    "duration": 41,
    "start_time": "2022-03-24T20:15:21.215Z"
   },
   {
    "duration": 127,
    "start_time": "2022-03-24T20:15:21.258Z"
   },
   {
    "duration": 18,
    "start_time": "2022-03-24T20:15:21.387Z"
   },
   {
    "duration": 158,
    "start_time": "2022-03-24T20:15:21.407Z"
   },
   {
    "duration": 8,
    "start_time": "2022-03-24T20:15:21.567Z"
   },
   {
    "duration": 30,
    "start_time": "2022-03-24T20:15:21.577Z"
   },
   {
    "duration": 67,
    "start_time": "2022-03-24T20:15:21.608Z"
   },
   {
    "duration": 17,
    "start_time": "2022-03-24T20:15:21.678Z"
   },
   {
    "duration": 115,
    "start_time": "2022-03-24T20:15:21.697Z"
   },
   {
    "duration": 8,
    "start_time": "2022-03-24T20:15:21.814Z"
   },
   {
    "duration": 32,
    "start_time": "2022-03-24T20:15:21.832Z"
   },
   {
    "duration": 69,
    "start_time": "2022-03-24T20:15:21.866Z"
   },
   {
    "duration": 16,
    "start_time": "2022-03-24T20:15:21.937Z"
   },
   {
    "duration": 13,
    "start_time": "2022-03-24T20:15:21.955Z"
   },
   {
    "duration": 22,
    "start_time": "2022-03-24T20:15:21.970Z"
   },
   {
    "duration": 58,
    "start_time": "2022-03-24T20:15:21.994Z"
   },
   {
    "duration": 10,
    "start_time": "2022-03-24T20:15:22.054Z"
   },
   {
    "duration": 17,
    "start_time": "2022-03-24T20:15:22.069Z"
   },
   {
    "duration": 24,
    "start_time": "2022-03-24T20:15:22.087Z"
   },
   {
    "duration": 13,
    "start_time": "2022-03-24T20:15:22.113Z"
   },
   {
    "duration": 28,
    "start_time": "2022-03-24T20:15:22.128Z"
   },
   {
    "duration": 30,
    "start_time": "2022-03-24T20:15:22.158Z"
   },
   {
    "duration": 17,
    "start_time": "2022-03-24T20:15:22.189Z"
   },
   {
    "duration": 24,
    "start_time": "2022-03-24T20:15:22.208Z"
   },
   {
    "duration": 15,
    "start_time": "2022-03-24T20:15:22.234Z"
   },
   {
    "duration": 19,
    "start_time": "2022-03-24T20:15:22.250Z"
   },
   {
    "duration": 25,
    "start_time": "2022-03-24T20:15:22.271Z"
   },
   {
    "duration": 57,
    "start_time": "2022-03-24T20:15:22.298Z"
   },
   {
    "duration": 26,
    "start_time": "2022-03-24T20:15:22.357Z"
   },
   {
    "duration": 21,
    "start_time": "2022-03-24T20:15:22.385Z"
   },
   {
    "duration": 24,
    "start_time": "2022-03-24T20:15:22.409Z"
   },
   {
    "duration": 35,
    "start_time": "2022-03-24T20:15:22.435Z"
   },
   {
    "duration": 56,
    "start_time": "2022-03-24T20:15:22.472Z"
   },
   {
    "duration": 14,
    "start_time": "2022-03-24T20:15:22.530Z"
   },
   {
    "duration": 95,
    "start_time": "2022-03-24T20:15:22.546Z"
   },
   {
    "duration": 56,
    "start_time": "2022-03-24T20:15:22.643Z"
   },
   {
    "duration": 53,
    "start_time": "2022-03-24T20:15:22.701Z"
   },
   {
    "duration": 30,
    "start_time": "2022-03-24T20:15:22.757Z"
   },
   {
    "duration": 44,
    "start_time": "2022-03-24T20:15:22.788Z"
   },
   {
    "duration": 4,
    "start_time": "2022-03-24T20:15:22.834Z"
   },
   {
    "duration": 337,
    "start_time": "2022-03-24T20:15:22.840Z"
   },
   {
    "duration": 3,
    "start_time": "2022-03-24T20:15:23.179Z"
   },
   {
    "duration": 34,
    "start_time": "2022-03-24T20:15:23.184Z"
   },
   {
    "duration": 300,
    "start_time": "2022-03-24T20:15:23.219Z"
   },
   {
    "duration": 11,
    "start_time": "2022-03-24T20:15:23.521Z"
   },
   {
    "duration": 22,
    "start_time": "2022-03-24T20:15:23.534Z"
   },
   {
    "duration": 242,
    "start_time": "2022-03-24T20:15:23.558Z"
   },
   {
    "duration": 4,
    "start_time": "2022-03-24T20:15:23.803Z"
   },
   {
    "duration": 19,
    "start_time": "2022-03-24T20:15:23.809Z"
   },
   {
    "duration": 289,
    "start_time": "2022-03-24T20:15:23.832Z"
   },
   {
    "duration": 8,
    "start_time": "2022-03-24T20:15:24.123Z"
   },
   {
    "duration": 25,
    "start_time": "2022-03-24T20:15:24.133Z"
   },
   {
    "duration": 26,
    "start_time": "2022-03-24T20:15:24.160Z"
   },
   {
    "duration": 18,
    "start_time": "2022-03-24T20:15:24.188Z"
   },
   {
    "duration": 15,
    "start_time": "2022-03-24T20:15:24.208Z"
   },
   {
    "duration": 32,
    "start_time": "2022-03-24T20:15:24.225Z"
   },
   {
    "duration": 22,
    "start_time": "2022-03-24T20:15:24.259Z"
   },
   {
    "duration": 35,
    "start_time": "2022-03-24T20:15:24.283Z"
   },
   {
    "duration": 20,
    "start_time": "2022-03-24T20:15:24.320Z"
   },
   {
    "duration": 8,
    "start_time": "2022-03-24T20:15:24.342Z"
   },
   {
    "duration": 44,
    "start_time": "2022-03-24T20:15:24.351Z"
   },
   {
    "duration": 7,
    "start_time": "2022-03-24T20:15:24.397Z"
   },
   {
    "duration": 179,
    "start_time": "2022-03-24T20:15:24.406Z"
   },
   {
    "duration": 30,
    "start_time": "2022-03-24T20:15:24.587Z"
   },
   {
    "duration": 14,
    "start_time": "2022-03-24T20:15:24.619Z"
   },
   {
    "duration": 75,
    "start_time": "2022-03-24T20:15:24.635Z"
   },
   {
    "duration": 47,
    "start_time": "2022-03-24T20:15:24.712Z"
   },
   {
    "duration": 19,
    "start_time": "2022-03-24T20:15:24.761Z"
   },
   {
    "duration": 19,
    "start_time": "2022-03-24T20:15:24.782Z"
   },
   {
    "duration": 41,
    "start_time": "2022-03-24T20:15:24.803Z"
   },
   {
    "duration": 21,
    "start_time": "2022-03-24T20:15:24.846Z"
   },
   {
    "duration": 75,
    "start_time": "2022-03-24T20:16:11.180Z"
   },
   {
    "duration": 73,
    "start_time": "2022-03-24T20:16:13.282Z"
   },
   {
    "duration": 76,
    "start_time": "2022-03-24T20:16:16.717Z"
   },
   {
    "duration": 1571,
    "start_time": "2022-03-25T09:14:17.889Z"
   },
   {
    "duration": 3,
    "start_time": "2022-03-25T09:14:19.463Z"
   },
   {
    "duration": 11,
    "start_time": "2022-03-25T09:14:19.468Z"
   },
   {
    "duration": 60,
    "start_time": "2022-03-25T09:14:19.483Z"
   },
   {
    "duration": 17,
    "start_time": "2022-03-25T09:14:19.551Z"
   },
   {
    "duration": 16,
    "start_time": "2022-03-25T09:14:19.570Z"
   },
   {
    "duration": 53,
    "start_time": "2022-03-25T09:14:19.589Z"
   },
   {
    "duration": 12,
    "start_time": "2022-03-25T09:14:19.647Z"
   },
   {
    "duration": 383,
    "start_time": "2022-03-25T09:14:19.661Z"
   },
   {
    "duration": 17,
    "start_time": "2022-03-25T09:14:20.048Z"
   },
   {
    "duration": 102,
    "start_time": "2022-03-25T09:14:20.068Z"
   },
   {
    "duration": 293,
    "start_time": "2022-03-25T09:14:20.172Z"
   },
   {
    "duration": 79,
    "start_time": "2022-03-25T09:14:20.466Z"
   },
   {
    "duration": 432,
    "start_time": "2022-03-25T09:14:20.547Z"
   },
   {
    "duration": 62,
    "start_time": "2022-03-25T09:14:20.981Z"
   },
   {
    "duration": 31,
    "start_time": "2022-03-25T09:14:21.045Z"
   },
   {
    "duration": 173,
    "start_time": "2022-03-25T09:14:21.079Z"
   },
   {
    "duration": 18,
    "start_time": "2022-03-25T09:14:21.254Z"
   },
   {
    "duration": 198,
    "start_time": "2022-03-25T09:14:21.273Z"
   },
   {
    "duration": 9,
    "start_time": "2022-03-25T09:14:21.473Z"
   },
   {
    "duration": 29,
    "start_time": "2022-03-25T09:14:21.538Z"
   },
   {
    "duration": 108,
    "start_time": "2022-03-25T09:14:21.569Z"
   },
   {
    "duration": 75,
    "start_time": "2022-03-25T09:14:21.680Z"
   },
   {
    "duration": 12,
    "start_time": "2022-03-25T09:14:21.757Z"
   },
   {
    "duration": 15,
    "start_time": "2022-03-25T09:14:21.771Z"
   },
   {
    "duration": 28,
    "start_time": "2022-03-25T09:14:21.839Z"
   },
   {
    "duration": 14,
    "start_time": "2022-03-25T09:14:21.869Z"
   },
   {
    "duration": 59,
    "start_time": "2022-03-25T09:14:21.890Z"
   },
   {
    "duration": 11,
    "start_time": "2022-03-25T09:14:21.951Z"
   },
   {
    "duration": 7,
    "start_time": "2022-03-25T09:14:21.964Z"
   },
   {
    "duration": 10,
    "start_time": "2022-03-25T09:14:21.973Z"
   },
   {
    "duration": 54,
    "start_time": "2022-03-25T09:14:21.985Z"
   },
   {
    "duration": 17,
    "start_time": "2022-03-25T09:14:22.040Z"
   },
   {
    "duration": 9,
    "start_time": "2022-03-25T09:14:22.059Z"
   },
   {
    "duration": 4,
    "start_time": "2022-03-25T09:14:22.070Z"
   },
   {
    "duration": 6,
    "start_time": "2022-03-25T09:14:22.075Z"
   },
   {
    "duration": 64,
    "start_time": "2022-03-25T09:14:22.083Z"
   },
   {
    "duration": 100,
    "start_time": "2022-03-25T09:14:22.148Z"
   },
   {
    "duration": 25,
    "start_time": "2022-03-25T09:14:22.256Z"
   },
   {
    "duration": 79,
    "start_time": "2022-03-25T09:14:22.283Z"
   },
   {
    "duration": 4,
    "start_time": "2022-03-25T09:14:22.364Z"
   },
   {
    "duration": 15,
    "start_time": "2022-03-25T09:14:22.370Z"
   },
   {
    "duration": 44,
    "start_time": "2022-03-25T09:14:22.440Z"
   },
   {
    "duration": 69,
    "start_time": "2022-03-25T09:14:22.486Z"
   },
   {
    "duration": 181,
    "start_time": "2022-03-25T09:14:22.558Z"
   },
   {
    "duration": 112,
    "start_time": "2022-03-25T09:14:22.741Z"
   },
   {
    "duration": 93,
    "start_time": "2022-03-25T09:14:22.855Z"
   },
   {
    "duration": 90,
    "start_time": "2022-03-25T09:14:22.953Z"
   },
   {
    "duration": 37,
    "start_time": "2022-03-25T09:14:23.045Z"
   },
   {
    "duration": 55,
    "start_time": "2022-03-25T09:14:23.084Z"
   },
   {
    "duration": 896,
    "start_time": "2022-03-25T09:14:23.144Z"
   },
   {
    "duration": 8,
    "start_time": "2022-03-25T09:14:24.045Z"
   },
   {
    "duration": 49,
    "start_time": "2022-03-25T09:14:24.058Z"
   },
   {
    "duration": 546,
    "start_time": "2022-03-25T09:14:24.138Z"
   },
   {
    "duration": 10,
    "start_time": "2022-03-25T09:14:24.738Z"
   },
   {
    "duration": 24,
    "start_time": "2022-03-25T09:14:24.751Z"
   },
   {
    "duration": 251,
    "start_time": "2022-03-25T09:14:24.777Z"
   },
   {
    "duration": 4,
    "start_time": "2022-03-25T09:14:25.029Z"
   },
   {
    "duration": 27,
    "start_time": "2022-03-25T09:14:25.035Z"
   },
   {
    "duration": 287,
    "start_time": "2022-03-25T09:14:25.064Z"
   },
   {
    "duration": 5,
    "start_time": "2022-03-25T09:14:25.353Z"
   },
   {
    "duration": 9,
    "start_time": "2022-03-25T09:14:25.362Z"
   },
   {
    "duration": 7,
    "start_time": "2022-03-25T09:14:25.372Z"
   },
   {
    "duration": 10,
    "start_time": "2022-03-25T09:14:25.381Z"
   },
   {
    "duration": 8,
    "start_time": "2022-03-25T09:14:25.393Z"
   },
   {
    "duration": 15,
    "start_time": "2022-03-25T09:14:25.403Z"
   },
   {
    "duration": 25,
    "start_time": "2022-03-25T09:14:25.420Z"
   },
   {
    "duration": 22,
    "start_time": "2022-03-25T09:14:25.447Z"
   },
   {
    "duration": 11,
    "start_time": "2022-03-25T09:14:25.471Z"
   },
   {
    "duration": 5,
    "start_time": "2022-03-25T09:14:25.484Z"
   },
   {
    "duration": 33,
    "start_time": "2022-03-25T09:14:25.490Z"
   },
   {
    "duration": 11,
    "start_time": "2022-03-25T09:14:25.543Z"
   },
   {
    "duration": 178,
    "start_time": "2022-03-25T09:14:25.557Z"
   },
   {
    "duration": 33,
    "start_time": "2022-03-25T09:14:25.737Z"
   },
   {
    "duration": 6,
    "start_time": "2022-03-25T09:14:25.771Z"
   },
   {
    "duration": 104,
    "start_time": "2022-03-25T09:14:25.779Z"
   },
   {
    "duration": 29,
    "start_time": "2022-03-25T09:14:25.885Z"
   },
   {
    "duration": 40,
    "start_time": "2022-03-25T09:14:25.916Z"
   },
   {
    "duration": 17,
    "start_time": "2022-03-25T09:14:25.958Z"
   },
   {
    "duration": 18,
    "start_time": "2022-03-25T09:14:25.977Z"
   },
   {
    "duration": 46,
    "start_time": "2022-03-25T09:14:25.996Z"
   },
   {
    "duration": 3,
    "start_time": "2022-03-25T09:17:03.868Z"
   },
   {
    "duration": 4,
    "start_time": "2022-03-25T09:17:09.648Z"
   },
   {
    "duration": 3,
    "start_time": "2022-03-25T09:17:16.290Z"
   },
   {
    "duration": 3,
    "start_time": "2022-03-25T09:17:39.689Z"
   },
   {
    "duration": 3,
    "start_time": "2022-03-25T09:17:43.453Z"
   },
   {
    "duration": 127,
    "start_time": "2022-03-25T09:19:41.894Z"
   },
   {
    "duration": 210,
    "start_time": "2022-03-25T09:19:44.509Z"
   },
   {
    "duration": 23,
    "start_time": "2022-03-25T09:20:07.536Z"
   },
   {
    "duration": 114,
    "start_time": "2022-03-25T09:20:22.028Z"
   },
   {
    "duration": 239,
    "start_time": "2022-03-25T09:20:29.735Z"
   },
   {
    "duration": 355,
    "start_time": "2022-03-25T09:21:23.178Z"
   },
   {
    "duration": 150,
    "start_time": "2022-03-25T09:21:43.433Z"
   },
   {
    "duration": 173,
    "start_time": "2022-03-25T09:22:46.226Z"
   },
   {
    "duration": 153,
    "start_time": "2022-03-25T09:22:50.707Z"
   },
   {
    "duration": 201,
    "start_time": "2022-03-25T09:22:53.323Z"
   },
   {
    "duration": 574,
    "start_time": "2022-03-25T09:24:06.680Z"
   },
   {
    "duration": 318,
    "start_time": "2022-03-25T09:24:45.688Z"
   },
   {
    "duration": 239,
    "start_time": "2022-03-25T09:25:52.114Z"
   },
   {
    "duration": 320,
    "start_time": "2022-03-25T09:26:11.005Z"
   },
   {
    "duration": 359,
    "start_time": "2022-03-25T09:26:37.075Z"
   },
   {
    "duration": 403,
    "start_time": "2022-03-25T09:26:44.505Z"
   },
   {
    "duration": 303,
    "start_time": "2022-03-25T09:26:50.492Z"
   },
   {
    "duration": 248,
    "start_time": "2022-03-25T09:27:17.663Z"
   },
   {
    "duration": 194,
    "start_time": "2022-03-25T09:27:23.444Z"
   },
   {
    "duration": 404,
    "start_time": "2022-03-25T09:27:26.828Z"
   },
   {
    "duration": 202,
    "start_time": "2022-03-25T09:27:38.551Z"
   },
   {
    "duration": 295,
    "start_time": "2022-03-25T09:27:58.886Z"
   },
   {
    "duration": 195,
    "start_time": "2022-03-25T09:28:29.028Z"
   },
   {
    "duration": 248,
    "start_time": "2022-03-25T09:28:47.589Z"
   },
   {
    "duration": 546,
    "start_time": "2022-03-25T09:31:09.067Z"
   },
   {
    "duration": 404,
    "start_time": "2022-03-25T09:31:23.623Z"
   },
   {
    "duration": 450,
    "start_time": "2022-03-25T09:31:31.729Z"
   },
   {
    "duration": 428,
    "start_time": "2022-03-25T09:31:35.681Z"
   },
   {
    "duration": 4,
    "start_time": "2022-03-25T09:32:06.816Z"
   },
   {
    "duration": 5,
    "start_time": "2022-03-25T09:32:06.966Z"
   },
   {
    "duration": 445,
    "start_time": "2022-03-25T09:32:11.632Z"
   },
   {
    "duration": 3,
    "start_time": "2022-03-25T09:33:50.760Z"
   },
   {
    "duration": 433,
    "start_time": "2022-03-25T09:33:55.185Z"
   },
   {
    "duration": 473,
    "start_time": "2022-03-25T09:34:02.506Z"
   },
   {
    "duration": 126,
    "start_time": "2022-03-25T09:34:06.763Z"
   },
   {
    "duration": 345,
    "start_time": "2022-03-25T09:34:10.867Z"
   },
   {
    "duration": 19,
    "start_time": "2022-03-25T09:34:16.913Z"
   },
   {
    "duration": 132,
    "start_time": "2022-03-25T09:34:20.649Z"
   },
   {
    "duration": 354,
    "start_time": "2022-03-25T09:34:58.621Z"
   },
   {
    "duration": 236,
    "start_time": "2022-03-25T09:35:26.992Z"
   },
   {
    "duration": 231,
    "start_time": "2022-03-25T09:35:31.245Z"
   },
   {
    "duration": 243,
    "start_time": "2022-03-25T09:35:46.779Z"
   },
   {
    "duration": 268,
    "start_time": "2022-03-25T09:36:16.903Z"
   },
   {
    "duration": 248,
    "start_time": "2022-03-25T09:36:44.106Z"
   },
   {
    "duration": 246,
    "start_time": "2022-03-25T09:37:13.133Z"
   },
   {
    "duration": 341,
    "start_time": "2022-03-25T09:38:14.272Z"
   },
   {
    "duration": 270,
    "start_time": "2022-03-25T09:38:35.914Z"
   },
   {
    "duration": 242,
    "start_time": "2022-03-25T09:38:41.462Z"
   },
   {
    "duration": 391,
    "start_time": "2022-03-25T09:38:46.711Z"
   },
   {
    "duration": 509,
    "start_time": "2022-03-25T09:38:50.390Z"
   },
   {
    "duration": 419,
    "start_time": "2022-03-25T09:38:55.915Z"
   },
   {
    "duration": 482,
    "start_time": "2022-03-25T09:39:08.889Z"
   },
   {
    "duration": 498,
    "start_time": "2022-03-25T09:39:41.232Z"
   },
   {
    "duration": 515,
    "start_time": "2022-03-25T09:39:56.121Z"
   },
   {
    "duration": 500,
    "start_time": "2022-03-25T09:40:07.084Z"
   },
   {
    "duration": 502,
    "start_time": "2022-03-25T09:40:12.938Z"
   },
   {
    "duration": 690,
    "start_time": "2022-03-25T09:40:44.138Z"
   },
   {
    "duration": 509,
    "start_time": "2022-03-25T09:41:08.294Z"
   },
   {
    "duration": 445,
    "start_time": "2022-03-25T09:41:51.136Z"
   },
   {
    "duration": 436,
    "start_time": "2022-03-25T09:42:06.987Z"
   },
   {
    "duration": 517,
    "start_time": "2022-03-25T09:43:15.034Z"
   },
   {
    "duration": 505,
    "start_time": "2022-03-25T09:44:13.232Z"
   },
   {
    "duration": 704,
    "start_time": "2022-03-25T09:44:54.244Z"
   },
   {
    "duration": 463,
    "start_time": "2022-03-25T09:44:54.953Z"
   },
   {
    "duration": 500,
    "start_time": "2022-03-25T09:44:55.418Z"
   },
   {
    "duration": 217,
    "start_time": "2022-03-25T09:46:39.907Z"
   },
   {
    "duration": 219,
    "start_time": "2022-03-25T09:46:48.249Z"
   },
   {
    "duration": 511,
    "start_time": "2022-03-25T09:47:01.116Z"
   },
   {
    "duration": 541,
    "start_time": "2022-03-25T09:47:13.357Z"
   },
   {
    "duration": 503,
    "start_time": "2022-03-25T09:47:23.407Z"
   },
   {
    "duration": 10,
    "start_time": "2022-03-25T09:47:35.104Z"
   },
   {
    "duration": 498,
    "start_time": "2022-03-25T09:48:27.528Z"
   },
   {
    "duration": 489,
    "start_time": "2022-03-25T09:48:34.915Z"
   },
   {
    "duration": 492,
    "start_time": "2022-03-25T09:49:03.010Z"
   },
   {
    "duration": 652,
    "start_time": "2022-03-25T09:49:44.062Z"
   },
   {
    "duration": 586,
    "start_time": "2022-03-25T09:49:51.566Z"
   },
   {
    "duration": 607,
    "start_time": "2022-03-25T09:50:00.486Z"
   },
   {
    "duration": 969,
    "start_time": "2022-03-25T09:50:09.211Z"
   },
   {
    "duration": 747,
    "start_time": "2022-03-25T09:50:17.884Z"
   },
   {
    "duration": 713,
    "start_time": "2022-03-25T09:50:54.194Z"
   },
   {
    "duration": 715,
    "start_time": "2022-03-25T09:51:51.055Z"
   },
   {
    "duration": 737,
    "start_time": "2022-03-25T09:52:31.064Z"
   },
   {
    "duration": 13,
    "start_time": "2022-03-25T09:53:47.404Z"
   },
   {
    "duration": 15,
    "start_time": "2022-03-25T09:53:56.693Z"
   },
   {
    "duration": 41,
    "start_time": "2022-03-25T09:54:01.055Z"
   },
   {
    "duration": 11,
    "start_time": "2022-03-25T09:54:12.480Z"
   },
   {
    "duration": 5,
    "start_time": "2022-03-25T09:54:40.661Z"
   },
   {
    "duration": 5,
    "start_time": "2022-03-25T09:54:54.268Z"
   },
   {
    "duration": 4,
    "start_time": "2022-03-25T09:54:58.457Z"
   },
   {
    "duration": 12,
    "start_time": "2022-03-25T09:55:05.198Z"
   },
   {
    "duration": 1366,
    "start_time": "2022-03-25T09:56:14.916Z"
   },
   {
    "duration": 3,
    "start_time": "2022-03-25T09:56:16.284Z"
   },
   {
    "duration": 7,
    "start_time": "2022-03-25T09:56:16.289Z"
   },
   {
    "duration": 9,
    "start_time": "2022-03-25T09:56:16.298Z"
   },
   {
    "duration": 9,
    "start_time": "2022-03-25T09:56:16.309Z"
   },
   {
    "duration": 23,
    "start_time": "2022-03-25T09:56:16.320Z"
   },
   {
    "duration": 10,
    "start_time": "2022-03-25T09:56:16.345Z"
   },
   {
    "duration": 10,
    "start_time": "2022-03-25T09:56:16.357Z"
   },
   {
    "duration": 257,
    "start_time": "2022-03-25T09:56:16.369Z"
   },
   {
    "duration": 14,
    "start_time": "2022-03-25T09:56:16.630Z"
   },
   {
    "duration": 38,
    "start_time": "2022-03-25T09:56:16.646Z"
   },
   {
    "duration": 132,
    "start_time": "2022-03-25T09:56:16.688Z"
   },
   {
    "duration": 22,
    "start_time": "2022-03-25T09:56:16.822Z"
   },
   {
    "duration": 577,
    "start_time": "2022-03-25T09:56:16.846Z"
   },
   {
    "duration": 9,
    "start_time": "2022-03-25T09:56:17.425Z"
   },
   {
    "duration": 44,
    "start_time": "2022-03-25T09:56:17.435Z"
   },
   {
    "duration": 63,
    "start_time": "2022-03-25T09:56:17.481Z"
   },
   {
    "duration": 17,
    "start_time": "2022-03-25T09:56:17.545Z"
   },
   {
    "duration": 147,
    "start_time": "2022-03-25T09:56:17.564Z"
   },
   {
    "duration": 8,
    "start_time": "2022-03-25T09:56:17.713Z"
   },
   {
    "duration": 33,
    "start_time": "2022-03-25T09:56:17.723Z"
   },
   {
    "duration": 60,
    "start_time": "2022-03-25T09:56:17.760Z"
   },
   {
    "duration": 34,
    "start_time": "2022-03-25T09:56:17.837Z"
   },
   {
    "duration": 10,
    "start_time": "2022-03-25T09:56:17.872Z"
   },
   {
    "duration": 13,
    "start_time": "2022-03-25T09:56:17.884Z"
   },
   {
    "duration": 35,
    "start_time": "2022-03-25T09:56:17.899Z"
   },
   {
    "duration": 14,
    "start_time": "2022-03-25T09:56:17.936Z"
   },
   {
    "duration": 25,
    "start_time": "2022-03-25T09:56:17.957Z"
   },
   {
    "duration": 15,
    "start_time": "2022-03-25T09:56:17.985Z"
   },
   {
    "duration": 7,
    "start_time": "2022-03-25T09:56:18.002Z"
   },
   {
    "duration": 34,
    "start_time": "2022-03-25T09:56:18.012Z"
   },
   {
    "duration": 15,
    "start_time": "2022-03-25T09:56:18.049Z"
   },
   {
    "duration": 7,
    "start_time": "2022-03-25T09:56:18.066Z"
   },
   {
    "duration": 11,
    "start_time": "2022-03-25T09:56:18.075Z"
   },
   {
    "duration": 5,
    "start_time": "2022-03-25T09:56:18.089Z"
   },
   {
    "duration": 10,
    "start_time": "2022-03-25T09:56:18.096Z"
   },
   {
    "duration": 39,
    "start_time": "2022-03-25T09:56:18.109Z"
   },
   {
    "duration": 48,
    "start_time": "2022-03-25T09:56:18.152Z"
   },
   {
    "duration": 28,
    "start_time": "2022-03-25T09:56:18.203Z"
   },
   {
    "duration": 33,
    "start_time": "2022-03-25T09:56:18.233Z"
   },
   {
    "duration": 4,
    "start_time": "2022-03-25T09:56:18.267Z"
   },
   {
    "duration": 9,
    "start_time": "2022-03-25T09:56:18.273Z"
   },
   {
    "duration": 69,
    "start_time": "2022-03-25T09:56:18.284Z"
   },
   {
    "duration": 14,
    "start_time": "2022-03-25T09:56:18.355Z"
   },
   {
    "duration": 104,
    "start_time": "2022-03-25T09:56:18.371Z"
   },
   {
    "duration": 71,
    "start_time": "2022-03-25T09:56:18.477Z"
   },
   {
    "duration": 36,
    "start_time": "2022-03-25T09:56:18.550Z"
   },
   {
    "duration": 30,
    "start_time": "2022-03-25T09:56:18.588Z"
   },
   {
    "duration": 48,
    "start_time": "2022-03-25T09:56:18.620Z"
   },
   {
    "duration": 4,
    "start_time": "2022-03-25T09:56:18.670Z"
   },
   {
    "duration": 338,
    "start_time": "2022-03-25T09:56:18.676Z"
   },
   {
    "duration": 4,
    "start_time": "2022-03-25T09:56:19.016Z"
   },
   {
    "duration": 19,
    "start_time": "2022-03-25T09:56:19.022Z"
   },
   {
    "duration": 272,
    "start_time": "2022-03-25T09:56:19.045Z"
   },
   {
    "duration": 4,
    "start_time": "2022-03-25T09:56:19.319Z"
   },
   {
    "duration": 19,
    "start_time": "2022-03-25T09:56:19.324Z"
   },
   {
    "duration": 251,
    "start_time": "2022-03-25T09:56:19.345Z"
   },
   {
    "duration": 5,
    "start_time": "2022-03-25T09:56:19.598Z"
   },
   {
    "duration": 26,
    "start_time": "2022-03-25T09:56:19.605Z"
   },
   {
    "duration": 382,
    "start_time": "2022-03-25T09:56:19.633Z"
   },
   {
    "duration": 22,
    "start_time": "2022-03-25T09:56:20.017Z"
   },
   {
    "duration": 23,
    "start_time": "2022-03-25T09:56:20.040Z"
   },
   {
    "duration": 8,
    "start_time": "2022-03-25T09:56:20.065Z"
   },
   {
    "duration": 24,
    "start_time": "2022-03-25T09:56:20.075Z"
   },
   {
    "duration": 12,
    "start_time": "2022-03-25T09:56:20.101Z"
   },
   {
    "duration": 32,
    "start_time": "2022-03-25T09:56:20.115Z"
   },
   {
    "duration": 20,
    "start_time": "2022-03-25T09:56:20.149Z"
   },
   {
    "duration": 25,
    "start_time": "2022-03-25T09:56:20.171Z"
   },
   {
    "duration": 28,
    "start_time": "2022-03-25T09:56:20.198Z"
   },
   {
    "duration": 19,
    "start_time": "2022-03-25T09:56:20.228Z"
   },
   {
    "duration": 47,
    "start_time": "2022-03-25T09:56:20.249Z"
   },
   {
    "duration": 246,
    "start_time": "2022-03-25T09:56:20.298Z"
   },
   {
    "duration": 7,
    "start_time": "2022-03-25T09:56:20.548Z"
   },
   {
    "duration": 30,
    "start_time": "2022-03-25T09:56:20.557Z"
   },
   {
    "duration": 5,
    "start_time": "2022-03-25T09:56:20.589Z"
   },
   {
    "duration": 38,
    "start_time": "2022-03-25T09:56:20.595Z"
   },
   {
    "duration": 742,
    "start_time": "2022-03-25T09:56:20.637Z"
   },
   {
    "duration": 13,
    "start_time": "2022-03-25T09:56:21.380Z"
   },
   {
    "duration": 139,
    "start_time": "2022-03-25T09:56:21.394Z"
   },
   {
    "duration": 0,
    "start_time": "2022-03-25T09:56:21.535Z"
   },
   {
    "duration": 0,
    "start_time": "2022-03-25T09:56:21.536Z"
   },
   {
    "duration": 0,
    "start_time": "2022-03-25T09:56:21.539Z"
   },
   {
    "duration": 1,
    "start_time": "2022-03-25T09:56:21.540Z"
   },
   {
    "duration": 0,
    "start_time": "2022-03-25T09:56:21.542Z"
   },
   {
    "duration": 0,
    "start_time": "2022-03-25T09:56:21.544Z"
   },
   {
    "duration": 0,
    "start_time": "2022-03-25T09:56:21.545Z"
   },
   {
    "duration": 630,
    "start_time": "2022-03-25T09:56:41.777Z"
   },
   {
    "duration": 13,
    "start_time": "2022-03-25T09:56:42.409Z"
   },
   {
    "duration": 729,
    "start_time": "2022-03-25T09:56:42.687Z"
   },
   {
    "duration": 22,
    "start_time": "2022-03-25T09:56:43.419Z"
   },
   {
    "duration": 483,
    "start_time": "2022-03-25T09:56:43.705Z"
   },
   {
    "duration": 12,
    "start_time": "2022-03-25T09:57:38.825Z"
   },
   {
    "duration": 937,
    "start_time": "2022-03-25T09:59:41.592Z"
   },
   {
    "duration": 15,
    "start_time": "2022-03-25T10:01:10.883Z"
   },
   {
    "duration": 10,
    "start_time": "2022-03-25T10:01:45.335Z"
   },
   {
    "duration": 19,
    "start_time": "2022-03-25T10:01:53.021Z"
   },
   {
    "duration": 11,
    "start_time": "2022-03-25T10:02:30.688Z"
   },
   {
    "duration": 19,
    "start_time": "2022-03-25T10:03:03.811Z"
   },
   {
    "duration": 105,
    "start_time": "2022-03-25T10:07:16.503Z"
   },
   {
    "duration": 14,
    "start_time": "2022-03-25T10:07:24.611Z"
   },
   {
    "duration": 14,
    "start_time": "2022-03-25T10:16:56.950Z"
   },
   {
    "duration": 15,
    "start_time": "2022-03-25T10:17:18.891Z"
   },
   {
    "duration": 17,
    "start_time": "2022-03-25T10:17:21.577Z"
   },
   {
    "duration": 458,
    "start_time": "2022-03-25T10:17:23.094Z"
   },
   {
    "duration": 14,
    "start_time": "2022-03-25T10:17:39.254Z"
   },
   {
    "duration": 8,
    "start_time": "2022-03-25T10:40:25.924Z"
   },
   {
    "duration": 8,
    "start_time": "2022-03-25T10:40:33.149Z"
   },
   {
    "duration": 10,
    "start_time": "2022-03-25T10:43:30.722Z"
   },
   {
    "duration": 9,
    "start_time": "2022-03-25T10:43:34.056Z"
   },
   {
    "duration": 21,
    "start_time": "2022-03-25T10:49:48.172Z"
   },
   {
    "duration": 24,
    "start_time": "2022-03-25T10:50:18.312Z"
   },
   {
    "duration": 17,
    "start_time": "2022-03-25T10:56:54.694Z"
   },
   {
    "duration": 20,
    "start_time": "2022-03-25T10:57:32.651Z"
   },
   {
    "duration": 9,
    "start_time": "2022-03-25T10:57:43.670Z"
   },
   {
    "duration": 11,
    "start_time": "2022-03-25T10:57:56.992Z"
   },
   {
    "duration": 119,
    "start_time": "2022-03-25T10:58:05.963Z"
   },
   {
    "duration": 4,
    "start_time": "2022-03-25T10:58:09.859Z"
   },
   {
    "duration": 7,
    "start_time": "2022-03-25T11:00:46.102Z"
   },
   {
    "duration": 8,
    "start_time": "2022-03-25T11:00:54.984Z"
   },
   {
    "duration": 9,
    "start_time": "2022-03-25T11:01:01.560Z"
   },
   {
    "duration": 8,
    "start_time": "2022-03-25T11:01:15.675Z"
   },
   {
    "duration": 9,
    "start_time": "2022-03-25T11:03:03.618Z"
   },
   {
    "duration": 4,
    "start_time": "2022-03-25T11:03:06.810Z"
   },
   {
    "duration": 9,
    "start_time": "2022-03-25T11:03:10.107Z"
   },
   {
    "duration": 4,
    "start_time": "2022-03-25T11:05:08.769Z"
   },
   {
    "duration": 5,
    "start_time": "2022-03-25T11:06:21.381Z"
   },
   {
    "duration": 5,
    "start_time": "2022-03-25T11:06:24.973Z"
   },
   {
    "duration": 5,
    "start_time": "2022-03-25T11:06:34.662Z"
   },
   {
    "duration": 10,
    "start_time": "2022-03-25T11:10:34.263Z"
   },
   {
    "duration": 4,
    "start_time": "2022-03-25T11:10:42.955Z"
   },
   {
    "duration": 6,
    "start_time": "2022-03-25T11:11:03.241Z"
   },
   {
    "duration": 5,
    "start_time": "2022-03-25T11:11:12.320Z"
   },
   {
    "duration": 18,
    "start_time": "2022-03-25T11:11:58.259Z"
   },
   {
    "duration": 9,
    "start_time": "2022-03-25T11:12:03.508Z"
   },
   {
    "duration": 17,
    "start_time": "2022-03-25T11:12:15.700Z"
   },
   {
    "duration": 37,
    "start_time": "2022-03-25T11:12:40.221Z"
   },
   {
    "duration": 2001,
    "start_time": "2022-03-25T11:13:00.393Z"
   },
   {
    "duration": 28,
    "start_time": "2022-03-25T11:13:08.899Z"
   },
   {
    "duration": 8,
    "start_time": "2022-03-25T11:13:59.891Z"
   },
   {
    "duration": 7,
    "start_time": "2022-03-25T11:14:11.505Z"
   },
   {
    "duration": 12,
    "start_time": "2022-03-25T11:15:10.316Z"
   },
   {
    "duration": 137,
    "start_time": "2022-03-25T11:15:36.437Z"
   },
   {
    "duration": 15,
    "start_time": "2022-03-25T11:15:50.320Z"
   },
   {
    "duration": 6,
    "start_time": "2022-03-25T11:16:03.750Z"
   },
   {
    "duration": 7,
    "start_time": "2022-03-25T11:16:05.661Z"
   },
   {
    "duration": 7,
    "start_time": "2022-03-25T11:16:12.371Z"
   },
   {
    "duration": 5,
    "start_time": "2022-03-25T11:16:43.752Z"
   },
   {
    "duration": 8,
    "start_time": "2022-03-25T11:16:53.539Z"
   },
   {
    "duration": 11,
    "start_time": "2022-03-25T11:17:24.851Z"
   },
   {
    "duration": 10,
    "start_time": "2022-03-25T11:17:29.855Z"
   },
   {
    "duration": 11,
    "start_time": "2022-03-25T11:17:30.263Z"
   },
   {
    "duration": 6,
    "start_time": "2022-03-25T11:17:53.762Z"
   },
   {
    "duration": 5,
    "start_time": "2022-03-25T11:17:54.151Z"
   },
   {
    "duration": 5,
    "start_time": "2022-03-25T11:17:54.255Z"
   },
   {
    "duration": 19,
    "start_time": "2022-03-25T11:17:54.963Z"
   },
   {
    "duration": 11,
    "start_time": "2022-03-25T11:17:55.134Z"
   },
   {
    "duration": 5,
    "start_time": "2022-03-25T11:17:55.307Z"
   },
   {
    "duration": 6,
    "start_time": "2022-03-25T11:17:55.495Z"
   },
   {
    "duration": 10,
    "start_time": "2022-03-25T11:17:55.884Z"
   },
   {
    "duration": 5,
    "start_time": "2022-03-25T11:18:12.216Z"
   },
   {
    "duration": 5,
    "start_time": "2022-03-25T11:18:12.985Z"
   },
   {
    "duration": 7,
    "start_time": "2022-03-25T11:19:17.800Z"
   },
   {
    "duration": 5,
    "start_time": "2022-03-25T11:19:34.812Z"
   },
   {
    "duration": 1276,
    "start_time": "2022-03-25T11:37:05.270Z"
   },
   {
    "duration": 3,
    "start_time": "2022-03-25T11:37:06.548Z"
   },
   {
    "duration": 5,
    "start_time": "2022-03-25T11:37:06.556Z"
   },
   {
    "duration": 11,
    "start_time": "2022-03-25T11:37:06.563Z"
   },
   {
    "duration": 11,
    "start_time": "2022-03-25T11:37:06.576Z"
   },
   {
    "duration": 13,
    "start_time": "2022-03-25T11:37:06.588Z"
   },
   {
    "duration": 7,
    "start_time": "2022-03-25T11:37:06.602Z"
   },
   {
    "duration": 7,
    "start_time": "2022-03-25T11:37:06.638Z"
   },
   {
    "duration": 171,
    "start_time": "2022-03-25T11:37:06.648Z"
   },
   {
    "duration": 17,
    "start_time": "2022-03-25T11:37:06.820Z"
   },
   {
    "duration": 32,
    "start_time": "2022-03-25T11:37:06.839Z"
   },
   {
    "duration": 137,
    "start_time": "2022-03-25T11:37:06.872Z"
   },
   {
    "duration": 28,
    "start_time": "2022-03-25T11:37:07.010Z"
   },
   {
    "duration": 148,
    "start_time": "2022-03-25T11:37:07.040Z"
   },
   {
    "duration": 8,
    "start_time": "2022-03-25T11:37:07.190Z"
   },
   {
    "duration": 38,
    "start_time": "2022-03-25T11:37:07.200Z"
   },
   {
    "duration": 63,
    "start_time": "2022-03-25T11:37:07.239Z"
   },
   {
    "duration": 15,
    "start_time": "2022-03-25T11:37:07.303Z"
   },
   {
    "duration": 96,
    "start_time": "2022-03-25T11:37:07.320Z"
   },
   {
    "duration": 8,
    "start_time": "2022-03-25T11:37:07.418Z"
   },
   {
    "duration": 26,
    "start_time": "2022-03-25T11:37:07.427Z"
   },
   {
    "duration": 59,
    "start_time": "2022-03-25T11:37:07.454Z"
   },
   {
    "duration": 10,
    "start_time": "2022-03-25T11:37:07.515Z"
   },
   {
    "duration": 9,
    "start_time": "2022-03-25T11:37:07.537Z"
   },
   {
    "duration": 32,
    "start_time": "2022-03-25T11:37:07.547Z"
   },
   {
    "duration": 21,
    "start_time": "2022-03-25T11:37:07.581Z"
   },
   {
    "duration": 10,
    "start_time": "2022-03-25T11:37:07.606Z"
   },
   {
    "duration": 48,
    "start_time": "2022-03-25T11:37:07.618Z"
   },
   {
    "duration": 33,
    "start_time": "2022-03-25T11:37:07.667Z"
   },
   {
    "duration": 38,
    "start_time": "2022-03-25T11:37:07.702Z"
   },
   {
    "duration": 41,
    "start_time": "2022-03-25T11:37:07.742Z"
   },
   {
    "duration": 12,
    "start_time": "2022-03-25T11:37:07.785Z"
   },
   {
    "duration": 26,
    "start_time": "2022-03-25T11:37:07.799Z"
   },
   {
    "duration": 38,
    "start_time": "2022-03-25T11:37:07.827Z"
   },
   {
    "duration": 21,
    "start_time": "2022-03-25T11:37:07.867Z"
   },
   {
    "duration": 39,
    "start_time": "2022-03-25T11:37:07.890Z"
   },
   {
    "duration": 19,
    "start_time": "2022-03-25T11:37:07.931Z"
   },
   {
    "duration": 63,
    "start_time": "2022-03-25T11:37:07.952Z"
   },
   {
    "duration": 26,
    "start_time": "2022-03-25T11:37:08.016Z"
   },
   {
    "duration": 21,
    "start_time": "2022-03-25T11:37:08.044Z"
   },
   {
    "duration": 3,
    "start_time": "2022-03-25T11:37:08.067Z"
   },
   {
    "duration": 20,
    "start_time": "2022-03-25T11:37:08.072Z"
   },
   {
    "duration": 58,
    "start_time": "2022-03-25T11:37:08.094Z"
   },
   {
    "duration": 13,
    "start_time": "2022-03-25T11:37:08.154Z"
   },
   {
    "duration": 102,
    "start_time": "2022-03-25T11:37:08.169Z"
   },
   {
    "duration": 51,
    "start_time": "2022-03-25T11:37:08.273Z"
   },
   {
    "duration": 41,
    "start_time": "2022-03-25T11:37:08.326Z"
   },
   {
    "duration": 28,
    "start_time": "2022-03-25T11:37:08.369Z"
   },
   {
    "duration": 43,
    "start_time": "2022-03-25T11:37:08.399Z"
   },
   {
    "duration": 4,
    "start_time": "2022-03-25T11:37:08.444Z"
   },
   {
    "duration": 305,
    "start_time": "2022-03-25T11:37:08.450Z"
   },
   {
    "duration": 3,
    "start_time": "2022-03-25T11:37:08.757Z"
   },
   {
    "duration": 36,
    "start_time": "2022-03-25T11:37:08.761Z"
   },
   {
    "duration": 245,
    "start_time": "2022-03-25T11:37:08.799Z"
   },
   {
    "duration": 3,
    "start_time": "2022-03-25T11:37:09.047Z"
   },
   {
    "duration": 46,
    "start_time": "2022-03-25T11:37:09.052Z"
   },
   {
    "duration": 239,
    "start_time": "2022-03-25T11:37:09.100Z"
   },
   {
    "duration": 4,
    "start_time": "2022-03-25T11:37:09.340Z"
   },
   {
    "duration": 28,
    "start_time": "2022-03-25T11:37:09.345Z"
   },
   {
    "duration": 274,
    "start_time": "2022-03-25T11:37:09.375Z"
   },
   {
    "duration": 4,
    "start_time": "2022-03-25T11:37:09.651Z"
   },
   {
    "duration": 27,
    "start_time": "2022-03-25T11:37:09.657Z"
   },
   {
    "duration": 10,
    "start_time": "2022-03-25T11:37:09.686Z"
   },
   {
    "duration": 27,
    "start_time": "2022-03-25T11:37:09.697Z"
   },
   {
    "duration": 19,
    "start_time": "2022-03-25T11:37:09.726Z"
   },
   {
    "duration": 21,
    "start_time": "2022-03-25T11:37:09.747Z"
   },
   {
    "duration": 23,
    "start_time": "2022-03-25T11:37:09.770Z"
   },
   {
    "duration": 15,
    "start_time": "2022-03-25T11:37:09.795Z"
   },
   {
    "duration": 36,
    "start_time": "2022-03-25T11:37:09.812Z"
   },
   {
    "duration": 27,
    "start_time": "2022-03-25T11:37:09.850Z"
   },
   {
    "duration": 44,
    "start_time": "2022-03-25T11:37:09.879Z"
   },
   {
    "duration": 216,
    "start_time": "2022-03-25T11:37:09.926Z"
   },
   {
    "duration": 701,
    "start_time": "2022-03-25T11:37:10.144Z"
   },
   {
    "duration": 16,
    "start_time": "2022-03-25T11:37:10.847Z"
   },
   {
    "duration": 665,
    "start_time": "2022-03-25T11:37:10.865Z"
   },
   {
    "duration": 14,
    "start_time": "2022-03-25T11:37:11.532Z"
   },
   {
    "duration": 647,
    "start_time": "2022-03-25T11:37:11.548Z"
   },
   {
    "duration": 14,
    "start_time": "2022-03-25T11:37:12.197Z"
   },
   {
    "duration": 24,
    "start_time": "2022-03-25T11:37:12.213Z"
   },
   {
    "duration": 458,
    "start_time": "2022-03-25T11:37:12.239Z"
   },
   {
    "duration": 13,
    "start_time": "2022-03-25T11:37:12.702Z"
   },
   {
    "duration": 53,
    "start_time": "2022-03-25T11:37:12.716Z"
   },
   {
    "duration": 15,
    "start_time": "2022-03-25T11:37:12.771Z"
   },
   {
    "duration": 26,
    "start_time": "2022-03-25T11:37:12.788Z"
   },
   {
    "duration": 19,
    "start_time": "2022-03-25T11:37:12.816Z"
   },
   {
    "duration": 33,
    "start_time": "2022-03-25T11:37:12.836Z"
   },
   {
    "duration": 27,
    "start_time": "2022-03-25T11:37:12.871Z"
   },
   {
    "duration": 24,
    "start_time": "2022-03-25T11:37:12.900Z"
   },
   {
    "duration": 29,
    "start_time": "2022-03-25T11:37:12.927Z"
   },
   {
    "duration": 18,
    "start_time": "2022-03-25T11:37:12.957Z"
   },
   {
    "duration": 1323,
    "start_time": "2022-03-25T11:40:46.455Z"
   },
   {
    "duration": 3,
    "start_time": "2022-03-25T11:40:47.780Z"
   },
   {
    "duration": 24,
    "start_time": "2022-03-25T11:40:47.784Z"
   },
   {
    "duration": 38,
    "start_time": "2022-03-25T11:40:47.810Z"
   },
   {
    "duration": 22,
    "start_time": "2022-03-25T11:40:47.850Z"
   },
   {
    "duration": 45,
    "start_time": "2022-03-25T11:40:47.873Z"
   },
   {
    "duration": 32,
    "start_time": "2022-03-25T11:40:47.920Z"
   },
   {
    "duration": 28,
    "start_time": "2022-03-25T11:40:47.954Z"
   },
   {
    "duration": 186,
    "start_time": "2022-03-25T11:40:47.983Z"
   },
   {
    "duration": 11,
    "start_time": "2022-03-25T11:40:48.172Z"
   },
   {
    "duration": 53,
    "start_time": "2022-03-25T11:40:48.185Z"
   },
   {
    "duration": 128,
    "start_time": "2022-03-25T11:40:48.239Z"
   },
   {
    "duration": 17,
    "start_time": "2022-03-25T11:40:48.369Z"
   },
   {
    "duration": 157,
    "start_time": "2022-03-25T11:40:48.388Z"
   },
   {
    "duration": 9,
    "start_time": "2022-03-25T11:40:48.546Z"
   },
   {
    "duration": 38,
    "start_time": "2022-03-25T11:40:48.557Z"
   },
   {
    "duration": 55,
    "start_time": "2022-03-25T11:40:48.597Z"
   },
   {
    "duration": 14,
    "start_time": "2022-03-25T11:40:48.654Z"
   },
   {
    "duration": 98,
    "start_time": "2022-03-25T11:40:48.669Z"
   },
   {
    "duration": 8,
    "start_time": "2022-03-25T11:40:48.769Z"
   },
   {
    "duration": 49,
    "start_time": "2022-03-25T11:40:48.779Z"
   },
   {
    "duration": 52,
    "start_time": "2022-03-25T11:40:48.830Z"
   },
   {
    "duration": 11,
    "start_time": "2022-03-25T11:40:48.883Z"
   },
   {
    "duration": 17,
    "start_time": "2022-03-25T11:40:48.895Z"
   },
   {
    "duration": 26,
    "start_time": "2022-03-25T11:40:48.914Z"
   },
   {
    "duration": 45,
    "start_time": "2022-03-25T11:40:48.942Z"
   },
   {
    "duration": 11,
    "start_time": "2022-03-25T11:40:48.988Z"
   },
   {
    "duration": 24,
    "start_time": "2022-03-25T11:40:49.004Z"
   },
   {
    "duration": 29,
    "start_time": "2022-03-25T11:40:49.029Z"
   },
   {
    "duration": 20,
    "start_time": "2022-03-25T11:40:49.060Z"
   },
   {
    "duration": 54,
    "start_time": "2022-03-25T11:40:49.081Z"
   },
   {
    "duration": 17,
    "start_time": "2022-03-25T11:40:49.137Z"
   },
   {
    "duration": 20,
    "start_time": "2022-03-25T11:40:49.156Z"
   },
   {
    "duration": 24,
    "start_time": "2022-03-25T11:40:49.178Z"
   },
   {
    "duration": 22,
    "start_time": "2022-03-25T11:40:49.205Z"
   },
   {
    "duration": 31,
    "start_time": "2022-03-25T11:40:49.228Z"
   },
   {
    "duration": 27,
    "start_time": "2022-03-25T11:40:49.261Z"
   },
   {
    "duration": 57,
    "start_time": "2022-03-25T11:40:49.290Z"
   },
   {
    "duration": 26,
    "start_time": "2022-03-25T11:40:49.350Z"
   },
   {
    "duration": 26,
    "start_time": "2022-03-25T11:40:49.379Z"
   },
   {
    "duration": 35,
    "start_time": "2022-03-25T11:40:49.407Z"
   },
   {
    "duration": 27,
    "start_time": "2022-03-25T11:40:49.444Z"
   },
   {
    "duration": 85,
    "start_time": "2022-03-25T11:40:49.474Z"
   },
   {
    "duration": 18,
    "start_time": "2022-03-25T11:40:49.561Z"
   },
   {
    "duration": 90,
    "start_time": "2022-03-25T11:40:49.581Z"
   },
   {
    "duration": 52,
    "start_time": "2022-03-25T11:40:49.672Z"
   },
   {
    "duration": 42,
    "start_time": "2022-03-25T11:40:49.726Z"
   },
   {
    "duration": 27,
    "start_time": "2022-03-25T11:40:49.770Z"
   },
   {
    "duration": 47,
    "start_time": "2022-03-25T11:40:49.799Z"
   },
   {
    "duration": 4,
    "start_time": "2022-03-25T11:40:49.848Z"
   },
   {
    "duration": 313,
    "start_time": "2022-03-25T11:40:49.854Z"
   },
   {
    "duration": 5,
    "start_time": "2022-03-25T11:40:50.169Z"
   },
   {
    "duration": 18,
    "start_time": "2022-03-25T11:40:50.175Z"
   },
   {
    "duration": 302,
    "start_time": "2022-03-25T11:40:50.195Z"
   },
   {
    "duration": 5,
    "start_time": "2022-03-25T11:40:50.499Z"
   },
   {
    "duration": 36,
    "start_time": "2022-03-25T11:40:50.505Z"
   },
   {
    "duration": 236,
    "start_time": "2022-03-25T11:40:50.543Z"
   },
   {
    "duration": 4,
    "start_time": "2022-03-25T11:40:50.781Z"
   },
   {
    "duration": 35,
    "start_time": "2022-03-25T11:40:50.786Z"
   },
   {
    "duration": 284,
    "start_time": "2022-03-25T11:40:50.822Z"
   },
   {
    "duration": 4,
    "start_time": "2022-03-25T11:40:51.108Z"
   },
   {
    "duration": 44,
    "start_time": "2022-03-25T11:40:51.114Z"
   },
   {
    "duration": 31,
    "start_time": "2022-03-25T11:40:51.160Z"
   },
   {
    "duration": 29,
    "start_time": "2022-03-25T11:40:51.193Z"
   },
   {
    "duration": 42,
    "start_time": "2022-03-25T11:40:51.224Z"
   },
   {
    "duration": 34,
    "start_time": "2022-03-25T11:40:51.267Z"
   },
   {
    "duration": 29,
    "start_time": "2022-03-25T11:40:51.303Z"
   },
   {
    "duration": 37,
    "start_time": "2022-03-25T11:40:51.334Z"
   },
   {
    "duration": 29,
    "start_time": "2022-03-25T11:40:51.373Z"
   },
   {
    "duration": 14,
    "start_time": "2022-03-25T11:40:51.404Z"
   },
   {
    "duration": 45,
    "start_time": "2022-03-25T11:40:51.419Z"
   },
   {
    "duration": 215,
    "start_time": "2022-03-25T11:40:51.466Z"
   },
   {
    "duration": 762,
    "start_time": "2022-03-25T11:40:51.683Z"
   },
   {
    "duration": 14,
    "start_time": "2022-03-25T11:40:52.446Z"
   },
   {
    "duration": 643,
    "start_time": "2022-03-25T11:40:52.462Z"
   },
   {
    "duration": 14,
    "start_time": "2022-03-25T11:40:53.107Z"
   },
   {
    "duration": 681,
    "start_time": "2022-03-25T11:40:53.137Z"
   },
   {
    "duration": 25,
    "start_time": "2022-03-25T11:40:53.820Z"
   },
   {
    "duration": 12,
    "start_time": "2022-03-25T11:40:53.847Z"
   },
   {
    "duration": 454,
    "start_time": "2022-03-25T11:40:53.861Z"
   },
   {
    "duration": 27,
    "start_time": "2022-03-25T11:40:54.317Z"
   },
   {
    "duration": 25,
    "start_time": "2022-03-25T11:40:54.351Z"
   },
   {
    "duration": 6,
    "start_time": "2022-03-25T11:40:54.377Z"
   },
   {
    "duration": 9,
    "start_time": "2022-03-25T11:40:54.385Z"
   },
   {
    "duration": 8,
    "start_time": "2022-03-25T11:40:54.395Z"
   },
   {
    "duration": 34,
    "start_time": "2022-03-25T11:40:54.404Z"
   },
   {
    "duration": 6,
    "start_time": "2022-03-25T11:40:54.439Z"
   },
   {
    "duration": 10,
    "start_time": "2022-03-25T11:40:54.447Z"
   },
   {
    "duration": 11,
    "start_time": "2022-03-25T11:40:54.458Z"
   },
   {
    "duration": 8,
    "start_time": "2022-03-25T11:40:54.471Z"
   },
   {
    "duration": 1176,
    "start_time": "2022-04-05T10:13:00.212Z"
   },
   {
    "duration": 2,
    "start_time": "2022-04-05T10:13:01.390Z"
   },
   {
    "duration": 15,
    "start_time": "2022-04-05T10:13:01.394Z"
   },
   {
    "duration": 30,
    "start_time": "2022-04-05T10:13:01.411Z"
   },
   {
    "duration": 10,
    "start_time": "2022-04-05T10:13:01.443Z"
   },
   {
    "duration": 16,
    "start_time": "2022-04-05T10:13:01.454Z"
   },
   {
    "duration": 11,
    "start_time": "2022-04-05T10:13:01.472Z"
   },
   {
    "duration": 10,
    "start_time": "2022-04-05T10:13:01.485Z"
   },
   {
    "duration": 155,
    "start_time": "2022-04-05T10:13:01.497Z"
   },
   {
    "duration": 11,
    "start_time": "2022-04-05T10:13:01.654Z"
   },
   {
    "duration": 34,
    "start_time": "2022-04-05T10:13:01.666Z"
   },
   {
    "duration": 112,
    "start_time": "2022-04-05T10:13:01.702Z"
   },
   {
    "duration": 16,
    "start_time": "2022-04-05T10:13:01.816Z"
   },
   {
    "duration": 143,
    "start_time": "2022-04-05T10:13:01.833Z"
   },
   {
    "duration": 8,
    "start_time": "2022-04-05T10:13:01.978Z"
   },
   {
    "duration": 35,
    "start_time": "2022-04-05T10:13:01.988Z"
   },
   {
    "duration": 48,
    "start_time": "2022-04-05T10:13:02.025Z"
   },
   {
    "duration": 13,
    "start_time": "2022-04-05T10:13:02.075Z"
   },
   {
    "duration": 85,
    "start_time": "2022-04-05T10:13:02.089Z"
   },
   {
    "duration": 10,
    "start_time": "2022-04-05T10:13:02.175Z"
   },
   {
    "duration": 22,
    "start_time": "2022-04-05T10:13:02.186Z"
   },
   {
    "duration": 48,
    "start_time": "2022-04-05T10:13:02.209Z"
   },
   {
    "duration": 15,
    "start_time": "2022-04-05T10:13:02.258Z"
   },
   {
    "duration": 30,
    "start_time": "2022-04-05T10:13:02.275Z"
   },
   {
    "duration": 23,
    "start_time": "2022-04-05T10:13:02.306Z"
   },
   {
    "duration": 73,
    "start_time": "2022-04-05T10:13:02.331Z"
   },
   {
    "duration": 10,
    "start_time": "2022-04-05T10:13:02.406Z"
   },
   {
    "duration": 18,
    "start_time": "2022-04-05T10:13:02.420Z"
   },
   {
    "duration": 19,
    "start_time": "2022-04-05T10:13:02.440Z"
   },
   {
    "duration": 17,
    "start_time": "2022-04-05T10:13:02.460Z"
   },
   {
    "duration": 25,
    "start_time": "2022-04-05T10:13:02.479Z"
   },
   {
    "duration": 11,
    "start_time": "2022-04-05T10:13:02.505Z"
   },
   {
    "duration": 6,
    "start_time": "2022-04-05T10:13:02.517Z"
   },
   {
    "duration": 11,
    "start_time": "2022-04-05T10:13:02.525Z"
   },
   {
    "duration": 9,
    "start_time": "2022-04-05T10:13:02.537Z"
   },
   {
    "duration": 6,
    "start_time": "2022-04-05T10:13:02.547Z"
   },
   {
    "duration": 16,
    "start_time": "2022-04-05T10:13:02.555Z"
   },
   {
    "duration": 38,
    "start_time": "2022-04-05T10:13:02.572Z"
   },
   {
    "duration": 23,
    "start_time": "2022-04-05T10:13:02.611Z"
   },
   {
    "duration": 21,
    "start_time": "2022-04-05T10:13:02.635Z"
   },
   {
    "duration": 2,
    "start_time": "2022-04-05T10:13:02.658Z"
   },
   {
    "duration": 43,
    "start_time": "2022-04-05T10:13:02.662Z"
   },
   {
    "duration": 39,
    "start_time": "2022-04-05T10:13:02.706Z"
   },
   {
    "duration": 12,
    "start_time": "2022-04-05T10:13:02.747Z"
   },
   {
    "duration": 64,
    "start_time": "2022-04-05T10:13:02.760Z"
   },
   {
    "duration": 47,
    "start_time": "2022-04-05T10:13:02.825Z"
   },
   {
    "duration": 39,
    "start_time": "2022-04-05T10:13:02.873Z"
   },
   {
    "duration": 26,
    "start_time": "2022-04-05T10:13:02.913Z"
   },
   {
    "duration": 43,
    "start_time": "2022-04-05T10:13:02.941Z"
   },
   {
    "duration": 4,
    "start_time": "2022-04-05T10:13:02.985Z"
   },
   {
    "duration": 277,
    "start_time": "2022-04-05T10:13:02.990Z"
   },
   {
    "duration": 3,
    "start_time": "2022-04-05T10:13:03.269Z"
   },
   {
    "duration": 15,
    "start_time": "2022-04-05T10:13:03.273Z"
   },
   {
    "duration": 244,
    "start_time": "2022-04-05T10:13:03.289Z"
   },
   {
    "duration": 3,
    "start_time": "2022-04-05T10:13:03.534Z"
   },
   {
    "duration": 9,
    "start_time": "2022-04-05T10:13:03.539Z"
   },
   {
    "duration": 220,
    "start_time": "2022-04-05T10:13:03.549Z"
   },
   {
    "duration": 3,
    "start_time": "2022-04-05T10:13:03.770Z"
   },
   {
    "duration": 11,
    "start_time": "2022-04-05T10:13:03.774Z"
   },
   {
    "duration": 275,
    "start_time": "2022-04-05T10:13:03.786Z"
   },
   {
    "duration": 20,
    "start_time": "2022-04-05T10:13:04.063Z"
   },
   {
    "duration": 6,
    "start_time": "2022-04-05T10:13:04.084Z"
   },
   {
    "duration": 8,
    "start_time": "2022-04-05T10:13:04.092Z"
   },
   {
    "duration": 10,
    "start_time": "2022-04-05T10:13:04.102Z"
   },
   {
    "duration": 12,
    "start_time": "2022-04-05T10:13:04.114Z"
   },
   {
    "duration": 29,
    "start_time": "2022-04-05T10:13:04.128Z"
   },
   {
    "duration": 11,
    "start_time": "2022-04-05T10:13:04.158Z"
   },
   {
    "duration": 8,
    "start_time": "2022-04-05T10:13:04.170Z"
   },
   {
    "duration": 19,
    "start_time": "2022-04-05T10:13:04.179Z"
   },
   {
    "duration": 13,
    "start_time": "2022-04-05T10:13:04.199Z"
   },
   {
    "duration": 23,
    "start_time": "2022-04-05T10:13:04.214Z"
   },
   {
    "duration": 211,
    "start_time": "2022-04-05T10:13:04.238Z"
   },
   {
    "duration": 677,
    "start_time": "2022-04-05T10:13:04.451Z"
   },
   {
    "duration": 12,
    "start_time": "2022-04-05T10:13:05.130Z"
   },
   {
    "duration": 629,
    "start_time": "2022-04-05T10:13:05.143Z"
   },
   {
    "duration": 16,
    "start_time": "2022-04-05T10:13:05.774Z"
   },
   {
    "duration": 609,
    "start_time": "2022-04-05T10:13:05.791Z"
   },
   {
    "duration": 12,
    "start_time": "2022-04-05T10:13:06.401Z"
   },
   {
    "duration": 9,
    "start_time": "2022-04-05T10:13:06.415Z"
   },
   {
    "duration": 413,
    "start_time": "2022-04-05T10:13:06.425Z"
   },
   {
    "duration": 12,
    "start_time": "2022-04-05T10:13:06.839Z"
   },
   {
    "duration": 32,
    "start_time": "2022-04-05T10:13:06.856Z"
   },
   {
    "duration": 5,
    "start_time": "2022-04-05T10:13:06.889Z"
   },
   {
    "duration": 5,
    "start_time": "2022-04-05T10:13:06.896Z"
   },
   {
    "duration": 5,
    "start_time": "2022-04-05T10:13:06.902Z"
   },
   {
    "duration": 8,
    "start_time": "2022-04-05T10:13:06.909Z"
   },
   {
    "duration": 11,
    "start_time": "2022-04-05T10:13:06.919Z"
   },
   {
    "duration": 9,
    "start_time": "2022-04-05T10:13:06.932Z"
   },
   {
    "duration": 6,
    "start_time": "2022-04-05T10:13:06.943Z"
   },
   {
    "duration": 32,
    "start_time": "2022-04-05T10:13:06.950Z"
   },
   {
    "duration": 10,
    "start_time": "2022-04-05T10:18:22.088Z"
   },
   {
    "duration": 16,
    "start_time": "2022-04-05T10:18:46.798Z"
   },
   {
    "duration": 16,
    "start_time": "2022-04-05T10:20:07.268Z"
   },
   {
    "duration": 16,
    "start_time": "2022-04-05T10:25:23.505Z"
   },
   {
    "duration": 9,
    "start_time": "2022-04-05T10:25:35.338Z"
   },
   {
    "duration": 1462,
    "start_time": "2022-04-06T05:34:21.437Z"
   },
   {
    "duration": 4,
    "start_time": "2022-04-06T05:34:22.901Z"
   },
   {
    "duration": 15,
    "start_time": "2022-04-06T05:34:22.908Z"
   },
   {
    "duration": 11,
    "start_time": "2022-04-06T05:34:22.926Z"
   },
   {
    "duration": 8,
    "start_time": "2022-04-06T05:34:22.939Z"
   },
   {
    "duration": 17,
    "start_time": "2022-04-06T05:34:22.949Z"
   },
   {
    "duration": 7,
    "start_time": "2022-04-06T05:34:22.968Z"
   },
   {
    "duration": 30,
    "start_time": "2022-04-06T05:34:22.976Z"
   },
   {
    "duration": 168,
    "start_time": "2022-04-06T05:34:23.008Z"
   },
   {
    "duration": 13,
    "start_time": "2022-04-06T05:34:23.179Z"
   },
   {
    "duration": 30,
    "start_time": "2022-04-06T05:34:23.202Z"
   },
   {
    "duration": 139,
    "start_time": "2022-04-06T05:34:23.234Z"
   },
   {
    "duration": 26,
    "start_time": "2022-04-06T05:34:23.375Z"
   },
   {
    "duration": 150,
    "start_time": "2022-04-06T05:34:23.403Z"
   },
   {
    "duration": 10,
    "start_time": "2022-04-06T05:34:23.555Z"
   },
   {
    "duration": 39,
    "start_time": "2022-04-06T05:34:23.567Z"
   },
   {
    "duration": 54,
    "start_time": "2022-04-06T05:34:23.608Z"
   },
   {
    "duration": 14,
    "start_time": "2022-04-06T05:34:23.664Z"
   },
   {
    "duration": 94,
    "start_time": "2022-04-06T05:34:23.700Z"
   },
   {
    "duration": 9,
    "start_time": "2022-04-06T05:34:23.796Z"
   },
   {
    "duration": 22,
    "start_time": "2022-04-06T05:34:23.807Z"
   },
   {
    "duration": 72,
    "start_time": "2022-04-06T05:34:23.831Z"
   },
   {
    "duration": 10,
    "start_time": "2022-04-06T05:34:23.905Z"
   },
   {
    "duration": 15,
    "start_time": "2022-04-06T05:34:23.917Z"
   },
   {
    "duration": 37,
    "start_time": "2022-04-06T05:34:23.934Z"
   },
   {
    "duration": 23,
    "start_time": "2022-04-06T05:34:23.973Z"
   },
   {
    "duration": 11,
    "start_time": "2022-04-06T05:34:23.999Z"
   },
   {
    "duration": 12,
    "start_time": "2022-04-06T05:34:24.015Z"
   },
   {
    "duration": 11,
    "start_time": "2022-04-06T05:34:24.029Z"
   },
   {
    "duration": 8,
    "start_time": "2022-04-06T05:34:24.042Z"
   },
   {
    "duration": 12,
    "start_time": "2022-04-06T05:34:24.052Z"
   },
   {
    "duration": 9,
    "start_time": "2022-04-06T05:34:24.066Z"
   },
   {
    "duration": 5,
    "start_time": "2022-04-06T05:34:24.101Z"
   },
   {
    "duration": 12,
    "start_time": "2022-04-06T05:34:24.108Z"
   },
   {
    "duration": 21,
    "start_time": "2022-04-06T05:34:24.122Z"
   },
   {
    "duration": 13,
    "start_time": "2022-04-06T05:34:24.145Z"
   },
   {
    "duration": 18,
    "start_time": "2022-04-06T05:34:24.160Z"
   },
   {
    "duration": 42,
    "start_time": "2022-04-06T05:34:24.180Z"
   },
   {
    "duration": 27,
    "start_time": "2022-04-06T05:34:24.224Z"
   },
   {
    "duration": 24,
    "start_time": "2022-04-06T05:34:24.253Z"
   },
   {
    "duration": 22,
    "start_time": "2022-04-06T05:34:24.279Z"
   },
   {
    "duration": 20,
    "start_time": "2022-04-06T05:34:24.304Z"
   },
   {
    "duration": 41,
    "start_time": "2022-04-06T05:34:24.326Z"
   },
   {
    "duration": 13,
    "start_time": "2022-04-06T05:34:24.369Z"
   },
   {
    "duration": 89,
    "start_time": "2022-04-06T05:34:24.384Z"
   },
   {
    "duration": 64,
    "start_time": "2022-04-06T05:34:24.475Z"
   },
   {
    "duration": 35,
    "start_time": "2022-04-06T05:34:24.540Z"
   },
   {
    "duration": 41,
    "start_time": "2022-04-06T05:34:24.577Z"
   },
   {
    "duration": 27,
    "start_time": "2022-04-06T05:34:24.620Z"
   },
   {
    "duration": 4,
    "start_time": "2022-04-06T05:34:24.649Z"
   },
   {
    "duration": 314,
    "start_time": "2022-04-06T05:34:24.655Z"
   },
   {
    "duration": 4,
    "start_time": "2022-04-06T05:34:24.971Z"
   },
   {
    "duration": 13,
    "start_time": "2022-04-06T05:34:24.976Z"
   },
   {
    "duration": 258,
    "start_time": "2022-04-06T05:34:25.001Z"
   },
   {
    "duration": 4,
    "start_time": "2022-04-06T05:34:25.261Z"
   },
   {
    "duration": 12,
    "start_time": "2022-04-06T05:34:25.267Z"
   },
   {
    "duration": 240,
    "start_time": "2022-04-06T05:34:25.280Z"
   },
   {
    "duration": 4,
    "start_time": "2022-04-06T05:34:25.522Z"
   },
   {
    "duration": 10,
    "start_time": "2022-04-06T05:34:25.527Z"
   },
   {
    "duration": 291,
    "start_time": "2022-04-06T05:34:25.539Z"
   },
   {
    "duration": 4,
    "start_time": "2022-04-06T05:34:25.832Z"
   },
   {
    "duration": 8,
    "start_time": "2022-04-06T05:34:25.837Z"
   },
   {
    "duration": 7,
    "start_time": "2022-04-06T05:34:25.846Z"
   },
   {
    "duration": 12,
    "start_time": "2022-04-06T05:34:25.855Z"
   },
   {
    "duration": 6,
    "start_time": "2022-04-06T05:34:25.869Z"
   },
   {
    "duration": 28,
    "start_time": "2022-04-06T05:34:25.877Z"
   },
   {
    "duration": 10,
    "start_time": "2022-04-06T05:34:25.907Z"
   },
   {
    "duration": 10,
    "start_time": "2022-04-06T05:34:25.918Z"
   },
   {
    "duration": 10,
    "start_time": "2022-04-06T05:34:25.930Z"
   },
   {
    "duration": 5,
    "start_time": "2022-04-06T05:34:25.942Z"
   },
   {
    "duration": 54,
    "start_time": "2022-04-06T05:34:25.948Z"
   },
   {
    "duration": 230,
    "start_time": "2022-04-06T05:34:26.004Z"
   },
   {
    "duration": 14,
    "start_time": "2022-04-06T05:34:26.235Z"
   },
   {
    "duration": 773,
    "start_time": "2022-04-06T05:34:26.250Z"
   },
   {
    "duration": 15,
    "start_time": "2022-04-06T05:34:27.024Z"
   },
   {
    "duration": 686,
    "start_time": "2022-04-06T05:34:27.040Z"
   },
   {
    "duration": 14,
    "start_time": "2022-04-06T05:34:27.728Z"
   },
   {
    "duration": 692,
    "start_time": "2022-04-06T05:34:27.744Z"
   },
   {
    "duration": 15,
    "start_time": "2022-04-06T05:34:28.438Z"
   },
   {
    "duration": 14,
    "start_time": "2022-04-06T05:34:28.455Z"
   },
   {
    "duration": 450,
    "start_time": "2022-04-06T05:34:28.471Z"
   },
   {
    "duration": 13,
    "start_time": "2022-04-06T05:34:28.926Z"
   },
   {
    "duration": 23,
    "start_time": "2022-04-06T05:34:28.941Z"
   },
   {
    "duration": 6,
    "start_time": "2022-04-06T05:34:28.966Z"
   },
   {
    "duration": 6,
    "start_time": "2022-04-06T05:34:29.002Z"
   },
   {
    "duration": 6,
    "start_time": "2022-04-06T05:34:29.011Z"
   },
   {
    "duration": 12,
    "start_time": "2022-04-06T05:34:29.019Z"
   },
   {
    "duration": 6,
    "start_time": "2022-04-06T05:34:29.033Z"
   },
   {
    "duration": 11,
    "start_time": "2022-04-06T05:34:29.041Z"
   },
   {
    "duration": 6,
    "start_time": "2022-04-06T05:34:29.054Z"
   },
   {
    "duration": 9,
    "start_time": "2022-04-06T05:34:29.062Z"
   },
   {
    "duration": 99,
    "start_time": "2022-04-06T05:35:26.917Z"
   },
   {
    "duration": 393,
    "start_time": "2022-04-06T05:35:33.110Z"
   },
   {
    "duration": 184,
    "start_time": "2022-04-06T05:37:17.400Z"
   },
   {
    "duration": 164,
    "start_time": "2022-04-06T05:37:26.992Z"
   },
   {
    "duration": 143,
    "start_time": "2022-04-06T05:38:09.640Z"
   },
   {
    "duration": 130,
    "start_time": "2022-04-06T05:38:14.129Z"
   },
   {
    "duration": 127,
    "start_time": "2022-04-06T05:38:18.921Z"
   },
   {
    "duration": 124,
    "start_time": "2022-04-06T05:38:25.554Z"
   },
   {
    "duration": 151,
    "start_time": "2022-04-06T05:38:34.348Z"
   },
   {
    "duration": 151,
    "start_time": "2022-04-06T05:38:45.229Z"
   },
   {
    "duration": 162,
    "start_time": "2022-04-06T05:38:57.239Z"
   },
   {
    "duration": 248,
    "start_time": "2022-04-06T05:42:35.955Z"
   },
   {
    "duration": 1253,
    "start_time": "2022-04-06T06:18:47.239Z"
   },
   {
    "duration": 3,
    "start_time": "2022-04-06T06:18:48.494Z"
   },
   {
    "duration": 16,
    "start_time": "2022-04-06T06:18:48.499Z"
   },
   {
    "duration": 8,
    "start_time": "2022-04-06T06:18:48.518Z"
   },
   {
    "duration": 12,
    "start_time": "2022-04-06T06:18:48.529Z"
   },
   {
    "duration": 24,
    "start_time": "2022-04-06T06:18:48.542Z"
   },
   {
    "duration": 7,
    "start_time": "2022-04-06T06:18:48.568Z"
   },
   {
    "duration": 45,
    "start_time": "2022-04-06T06:18:48.576Z"
   },
   {
    "duration": 171,
    "start_time": "2022-04-06T06:18:48.622Z"
   },
   {
    "duration": 12,
    "start_time": "2022-04-06T06:18:48.795Z"
   },
   {
    "duration": 55,
    "start_time": "2022-04-06T06:18:48.809Z"
   },
   {
    "duration": 111,
    "start_time": "2022-04-06T06:18:48.866Z"
   },
   {
    "duration": 16,
    "start_time": "2022-04-06T06:18:48.979Z"
   },
   {
    "duration": 193,
    "start_time": "2022-04-06T06:18:49.002Z"
   },
   {
    "duration": 149,
    "start_time": "2022-04-06T06:18:49.201Z"
   },
   {
    "duration": 10,
    "start_time": "2022-04-06T06:18:49.351Z"
   },
   {
    "duration": 64,
    "start_time": "2022-04-06T06:18:49.363Z"
   },
   {
    "duration": 60,
    "start_time": "2022-04-06T06:18:49.429Z"
   },
   {
    "duration": 17,
    "start_time": "2022-04-06T06:18:49.491Z"
   },
   {
    "duration": 175,
    "start_time": "2022-04-06T06:18:49.510Z"
   },
   {
    "duration": 86,
    "start_time": "2022-04-06T06:18:49.688Z"
   },
   {
    "duration": 8,
    "start_time": "2022-04-06T06:18:49.777Z"
   },
   {
    "duration": 31,
    "start_time": "2022-04-06T06:18:49.787Z"
   },
   {
    "duration": 55,
    "start_time": "2022-04-06T06:18:49.820Z"
   },
   {
    "duration": 10,
    "start_time": "2022-04-06T06:18:49.877Z"
   },
   {
    "duration": 9,
    "start_time": "2022-04-06T06:18:49.902Z"
   },
   {
    "duration": 30,
    "start_time": "2022-04-06T06:18:49.912Z"
   },
   {
    "duration": 24,
    "start_time": "2022-04-06T06:18:49.946Z"
   },
   {
    "duration": 21,
    "start_time": "2022-04-06T06:18:49.973Z"
   },
   {
    "duration": 17,
    "start_time": "2022-04-06T06:18:49.995Z"
   },
   {
    "duration": 24,
    "start_time": "2022-04-06T06:18:50.014Z"
   },
   {
    "duration": 35,
    "start_time": "2022-04-06T06:18:50.040Z"
   },
   {
    "duration": 20,
    "start_time": "2022-04-06T06:18:50.076Z"
   },
   {
    "duration": 22,
    "start_time": "2022-04-06T06:18:50.098Z"
   },
   {
    "duration": 11,
    "start_time": "2022-04-06T06:18:50.122Z"
   },
   {
    "duration": 15,
    "start_time": "2022-04-06T06:18:50.135Z"
   },
   {
    "duration": 24,
    "start_time": "2022-04-06T06:18:50.152Z"
   },
   {
    "duration": 21,
    "start_time": "2022-04-06T06:18:50.178Z"
   },
   {
    "duration": 19,
    "start_time": "2022-04-06T06:18:50.202Z"
   },
   {
    "duration": 49,
    "start_time": "2022-04-06T06:18:50.223Z"
   },
   {
    "duration": 27,
    "start_time": "2022-04-06T06:18:50.274Z"
   },
   {
    "duration": 28,
    "start_time": "2022-04-06T06:18:50.303Z"
   },
   {
    "duration": 9,
    "start_time": "2022-04-06T06:18:50.333Z"
   },
   {
    "duration": 15,
    "start_time": "2022-04-06T06:18:50.344Z"
   },
   {
    "duration": 54,
    "start_time": "2022-04-06T06:18:50.360Z"
   },
   {
    "duration": 14,
    "start_time": "2022-04-06T06:18:50.417Z"
   },
   {
    "duration": 94,
    "start_time": "2022-04-06T06:18:50.433Z"
   },
   {
    "duration": 53,
    "start_time": "2022-04-06T06:18:50.529Z"
   },
   {
    "duration": 42,
    "start_time": "2022-04-06T06:18:50.584Z"
   },
   {
    "duration": 29,
    "start_time": "2022-04-06T06:18:50.629Z"
   },
   {
    "duration": 51,
    "start_time": "2022-04-06T06:18:50.660Z"
   },
   {
    "duration": 5,
    "start_time": "2022-04-06T06:18:50.713Z"
   },
   {
    "duration": 324,
    "start_time": "2022-04-06T06:18:50.719Z"
   },
   {
    "duration": 4,
    "start_time": "2022-04-06T06:18:51.045Z"
   },
   {
    "duration": 23,
    "start_time": "2022-04-06T06:18:51.051Z"
   },
   {
    "duration": 254,
    "start_time": "2022-04-06T06:18:51.076Z"
   },
   {
    "duration": 4,
    "start_time": "2022-04-06T06:18:51.332Z"
   },
   {
    "duration": 15,
    "start_time": "2022-04-06T06:18:51.337Z"
   },
   {
    "duration": 243,
    "start_time": "2022-04-06T06:18:51.354Z"
   },
   {
    "duration": 3,
    "start_time": "2022-04-06T06:18:51.602Z"
   },
   {
    "duration": 15,
    "start_time": "2022-04-06T06:18:51.607Z"
   },
   {
    "duration": 279,
    "start_time": "2022-04-06T06:18:51.624Z"
   },
   {
    "duration": 5,
    "start_time": "2022-04-06T06:18:51.904Z"
   },
   {
    "duration": 8,
    "start_time": "2022-04-06T06:18:51.911Z"
   },
   {
    "duration": 6,
    "start_time": "2022-04-06T06:18:51.920Z"
   },
   {
    "duration": 11,
    "start_time": "2022-04-06T06:18:51.928Z"
   },
   {
    "duration": 5,
    "start_time": "2022-04-06T06:18:51.941Z"
   },
   {
    "duration": 12,
    "start_time": "2022-04-06T06:18:51.947Z"
   },
   {
    "duration": 15,
    "start_time": "2022-04-06T06:18:51.960Z"
   },
   {
    "duration": 11,
    "start_time": "2022-04-06T06:18:52.001Z"
   },
   {
    "duration": 23,
    "start_time": "2022-04-06T06:18:52.013Z"
   },
   {
    "duration": 4,
    "start_time": "2022-04-06T06:18:52.039Z"
   },
   {
    "duration": 29,
    "start_time": "2022-04-06T06:18:52.045Z"
   },
   {
    "duration": 118,
    "start_time": "2022-04-06T06:18:52.075Z"
   },
   {
    "duration": 0,
    "start_time": "2022-04-06T06:18:52.195Z"
   },
   {
    "duration": 0,
    "start_time": "2022-04-06T06:18:52.201Z"
   },
   {
    "duration": 0,
    "start_time": "2022-04-06T06:18:52.203Z"
   },
   {
    "duration": 0,
    "start_time": "2022-04-06T06:18:52.205Z"
   },
   {
    "duration": 0,
    "start_time": "2022-04-06T06:18:52.206Z"
   },
   {
    "duration": 0,
    "start_time": "2022-04-06T06:18:52.207Z"
   },
   {
    "duration": 0,
    "start_time": "2022-04-06T06:18:52.209Z"
   },
   {
    "duration": 0,
    "start_time": "2022-04-06T06:18:52.210Z"
   },
   {
    "duration": 0,
    "start_time": "2022-04-06T06:18:52.211Z"
   },
   {
    "duration": 1,
    "start_time": "2022-04-06T06:18:52.212Z"
   },
   {
    "duration": 0,
    "start_time": "2022-04-06T06:18:52.213Z"
   },
   {
    "duration": 0,
    "start_time": "2022-04-06T06:18:52.215Z"
   },
   {
    "duration": 0,
    "start_time": "2022-04-06T06:18:52.216Z"
   },
   {
    "duration": 0,
    "start_time": "2022-04-06T06:18:52.217Z"
   },
   {
    "duration": 0,
    "start_time": "2022-04-06T06:18:52.218Z"
   },
   {
    "duration": 0,
    "start_time": "2022-04-06T06:18:52.219Z"
   },
   {
    "duration": 0,
    "start_time": "2022-04-06T06:18:52.220Z"
   },
   {
    "duration": 0,
    "start_time": "2022-04-06T06:18:52.222Z"
   },
   {
    "duration": 0,
    "start_time": "2022-04-06T06:18:52.223Z"
   },
   {
    "duration": 0,
    "start_time": "2022-04-06T06:18:52.224Z"
   },
   {
    "duration": 17,
    "start_time": "2022-04-06T06:19:08.023Z"
   },
   {
    "duration": 5,
    "start_time": "2022-04-06T06:21:40.809Z"
   },
   {
    "duration": 6,
    "start_time": "2022-04-06T06:21:43.458Z"
   },
   {
    "duration": 9,
    "start_time": "2022-04-06T06:21:43.617Z"
   },
   {
    "duration": 7,
    "start_time": "2022-04-06T06:21:51.509Z"
   },
   {
    "duration": 6,
    "start_time": "2022-04-06T06:21:51.731Z"
   },
   {
    "duration": 5,
    "start_time": "2022-04-06T06:21:58.973Z"
   },
   {
    "duration": 5,
    "start_time": "2022-04-06T06:21:59.252Z"
   },
   {
    "duration": 6,
    "start_time": "2022-04-06T06:21:59.420Z"
   },
   {
    "duration": 7,
    "start_time": "2022-04-06T06:21:59.605Z"
   },
   {
    "duration": 7,
    "start_time": "2022-04-06T06:22:02.309Z"
   },
   {
    "duration": 6,
    "start_time": "2022-04-06T06:22:02.716Z"
   },
   {
    "duration": 5,
    "start_time": "2022-04-06T06:22:10.342Z"
   },
   {
    "duration": 6,
    "start_time": "2022-04-06T06:22:10.559Z"
   },
   {
    "duration": 8,
    "start_time": "2022-04-06T06:22:10.825Z"
   },
   {
    "duration": 6,
    "start_time": "2022-04-06T06:22:20.047Z"
   },
   {
    "duration": 6,
    "start_time": "2022-04-06T06:22:20.224Z"
   },
   {
    "duration": 18,
    "start_time": "2022-04-06T06:22:48.874Z"
   },
   {
    "duration": 221,
    "start_time": "2022-04-06T06:22:54.811Z"
   },
   {
    "duration": 21,
    "start_time": "2022-04-06T06:22:57.867Z"
   },
   {
    "duration": 15,
    "start_time": "2022-04-06T06:23:17.085Z"
   },
   {
    "duration": 723,
    "start_time": "2022-04-06T06:29:58.896Z"
   },
   {
    "duration": 722,
    "start_time": "2022-04-06T06:30:02.395Z"
   },
   {
    "duration": 15,
    "start_time": "2022-04-06T06:30:03.119Z"
   },
   {
    "duration": 664,
    "start_time": "2022-04-06T06:30:04.584Z"
   },
   {
    "duration": 17,
    "start_time": "2022-04-06T06:30:05.251Z"
   },
   {
    "duration": 767,
    "start_time": "2022-04-06T06:30:05.290Z"
   },
   {
    "duration": 17,
    "start_time": "2022-04-06T06:30:06.059Z"
   },
   {
    "duration": 10,
    "start_time": "2022-04-06T06:30:06.298Z"
   },
   {
    "duration": 473,
    "start_time": "2022-04-06T06:30:06.501Z"
   },
   {
    "duration": 26,
    "start_time": "2022-04-06T06:30:06.977Z"
   },
   {
    "duration": 24,
    "start_time": "2022-04-06T06:30:07.006Z"
   },
   {
    "duration": 7,
    "start_time": "2022-04-06T06:30:07.200Z"
   },
   {
    "duration": 5,
    "start_time": "2022-04-06T06:30:07.412Z"
   },
   {
    "duration": 5,
    "start_time": "2022-04-06T06:30:07.482Z"
   },
   {
    "duration": 10,
    "start_time": "2022-04-06T06:30:07.719Z"
   },
   {
    "duration": 5,
    "start_time": "2022-04-06T06:30:07.782Z"
   },
   {
    "duration": 6,
    "start_time": "2022-04-06T06:30:07.846Z"
   },
   {
    "duration": 6,
    "start_time": "2022-04-06T06:30:07.954Z"
   },
   {
    "duration": 5,
    "start_time": "2022-04-06T06:30:08.016Z"
   },
   {
    "duration": 1314,
    "start_time": "2022-04-06T06:30:46.462Z"
   },
   {
    "duration": 3,
    "start_time": "2022-04-06T06:30:47.779Z"
   },
   {
    "duration": 12,
    "start_time": "2022-04-06T06:30:47.784Z"
   },
   {
    "duration": 23,
    "start_time": "2022-04-06T06:30:47.800Z"
   },
   {
    "duration": 9,
    "start_time": "2022-04-06T06:30:47.825Z"
   },
   {
    "duration": 17,
    "start_time": "2022-04-06T06:30:47.836Z"
   },
   {
    "duration": 7,
    "start_time": "2022-04-06T06:30:47.854Z"
   },
   {
    "duration": 12,
    "start_time": "2022-04-06T06:30:47.863Z"
   },
   {
    "duration": 163,
    "start_time": "2022-04-06T06:30:47.877Z"
   },
   {
    "duration": 12,
    "start_time": "2022-04-06T06:30:48.044Z"
   },
   {
    "duration": 45,
    "start_time": "2022-04-06T06:30:48.057Z"
   },
   {
    "duration": 138,
    "start_time": "2022-04-06T06:30:48.104Z"
   },
   {
    "duration": 18,
    "start_time": "2022-04-06T06:30:48.244Z"
   },
   {
    "duration": 231,
    "start_time": "2022-04-06T06:30:48.264Z"
   },
   {
    "duration": 159,
    "start_time": "2022-04-06T06:30:48.498Z"
   },
   {
    "duration": 10,
    "start_time": "2022-04-06T06:30:48.658Z"
   },
   {
    "duration": 38,
    "start_time": "2022-04-06T06:30:48.671Z"
   },
   {
    "duration": 53,
    "start_time": "2022-04-06T06:30:48.711Z"
   },
   {
    "duration": 15,
    "start_time": "2022-04-06T06:30:48.765Z"
   },
   {
    "duration": 179,
    "start_time": "2022-04-06T06:30:48.802Z"
   },
   {
    "duration": 102,
    "start_time": "2022-04-06T06:30:48.983Z"
   },
   {
    "duration": 15,
    "start_time": "2022-04-06T06:30:49.087Z"
   },
   {
    "duration": 34,
    "start_time": "2022-04-06T06:30:49.104Z"
   },
   {
    "duration": 84,
    "start_time": "2022-04-06T06:30:49.141Z"
   },
   {
    "duration": 10,
    "start_time": "2022-04-06T06:30:49.227Z"
   },
   {
    "duration": 11,
    "start_time": "2022-04-06T06:30:49.239Z"
   },
   {
    "duration": 18,
    "start_time": "2022-04-06T06:30:49.252Z"
   },
   {
    "duration": 25,
    "start_time": "2022-04-06T06:30:49.276Z"
   },
   {
    "duration": 12,
    "start_time": "2022-04-06T06:30:49.303Z"
   },
   {
    "duration": 19,
    "start_time": "2022-04-06T06:30:49.316Z"
   },
   {
    "duration": 10,
    "start_time": "2022-04-06T06:30:49.337Z"
   },
   {
    "duration": 18,
    "start_time": "2022-04-06T06:30:49.349Z"
   },
   {
    "duration": 12,
    "start_time": "2022-04-06T06:30:49.369Z"
   },
   {
    "duration": 7,
    "start_time": "2022-04-06T06:30:49.401Z"
   },
   {
    "duration": 8,
    "start_time": "2022-04-06T06:30:49.410Z"
   },
   {
    "duration": 10,
    "start_time": "2022-04-06T06:30:49.421Z"
   },
   {
    "duration": 10,
    "start_time": "2022-04-06T06:30:49.433Z"
   },
   {
    "duration": 10,
    "start_time": "2022-04-06T06:30:49.445Z"
   },
   {
    "duration": 17,
    "start_time": "2022-04-06T06:30:49.457Z"
   },
   {
    "duration": 60,
    "start_time": "2022-04-06T06:30:49.478Z"
   },
   {
    "duration": 30,
    "start_time": "2022-04-06T06:30:49.540Z"
   },
   {
    "duration": 45,
    "start_time": "2022-04-06T06:30:49.571Z"
   },
   {
    "duration": 6,
    "start_time": "2022-04-06T06:30:49.618Z"
   },
   {
    "duration": 24,
    "start_time": "2022-04-06T06:30:49.626Z"
   },
   {
    "duration": 56,
    "start_time": "2022-04-06T06:30:49.652Z"
   },
   {
    "duration": 19,
    "start_time": "2022-04-06T06:30:49.710Z"
   },
   {
    "duration": 112,
    "start_time": "2022-04-06T06:30:49.732Z"
   },
   {
    "duration": 72,
    "start_time": "2022-04-06T06:30:49.846Z"
   },
   {
    "duration": 36,
    "start_time": "2022-04-06T06:30:49.920Z"
   },
   {
    "duration": 48,
    "start_time": "2022-04-06T06:30:49.958Z"
   },
   {
    "duration": 28,
    "start_time": "2022-04-06T06:30:50.008Z"
   },
   {
    "duration": 4,
    "start_time": "2022-04-06T06:30:50.038Z"
   },
   {
    "duration": 339,
    "start_time": "2022-04-06T06:30:50.044Z"
   },
   {
    "duration": 3,
    "start_time": "2022-04-06T06:30:50.385Z"
   },
   {
    "duration": 17,
    "start_time": "2022-04-06T06:30:50.390Z"
   },
   {
    "duration": 271,
    "start_time": "2022-04-06T06:30:50.408Z"
   },
   {
    "duration": 4,
    "start_time": "2022-04-06T06:30:50.681Z"
   },
   {
    "duration": 24,
    "start_time": "2022-04-06T06:30:50.686Z"
   },
   {
    "duration": 405,
    "start_time": "2022-04-06T06:30:50.713Z"
   },
   {
    "duration": 5,
    "start_time": "2022-04-06T06:30:51.120Z"
   },
   {
    "duration": 11,
    "start_time": "2022-04-06T06:30:51.127Z"
   },
   {
    "duration": 332,
    "start_time": "2022-04-06T06:30:51.141Z"
   },
   {
    "duration": 6,
    "start_time": "2022-04-06T06:30:51.475Z"
   },
   {
    "duration": 22,
    "start_time": "2022-04-06T06:30:51.483Z"
   },
   {
    "duration": 7,
    "start_time": "2022-04-06T06:30:51.507Z"
   },
   {
    "duration": 14,
    "start_time": "2022-04-06T06:30:51.515Z"
   },
   {
    "duration": 8,
    "start_time": "2022-04-06T06:30:51.531Z"
   },
   {
    "duration": 13,
    "start_time": "2022-04-06T06:30:51.541Z"
   },
   {
    "duration": 20,
    "start_time": "2022-04-06T06:30:51.556Z"
   },
   {
    "duration": 29,
    "start_time": "2022-04-06T06:30:51.577Z"
   },
   {
    "duration": 14,
    "start_time": "2022-04-06T06:30:51.609Z"
   },
   {
    "duration": 5,
    "start_time": "2022-04-06T06:30:51.626Z"
   },
   {
    "duration": 43,
    "start_time": "2022-04-06T06:30:51.633Z"
   },
   {
    "duration": 306,
    "start_time": "2022-04-06T06:30:51.702Z"
   },
   {
    "duration": 15,
    "start_time": "2022-04-06T06:30:52.010Z"
   },
   {
    "duration": 775,
    "start_time": "2022-04-06T06:30:52.028Z"
   },
   {
    "duration": 14,
    "start_time": "2022-04-06T06:30:52.806Z"
   },
   {
    "duration": 658,
    "start_time": "2022-04-06T06:30:52.822Z"
   },
   {
    "duration": 23,
    "start_time": "2022-04-06T06:30:53.483Z"
   },
   {
    "duration": 723,
    "start_time": "2022-04-06T06:30:53.509Z"
   },
   {
    "duration": 20,
    "start_time": "2022-04-06T06:30:54.235Z"
   },
   {
    "duration": 20,
    "start_time": "2022-04-06T06:30:54.263Z"
   },
   {
    "duration": 610,
    "start_time": "2022-04-06T06:30:54.285Z"
   },
   {
    "duration": 12,
    "start_time": "2022-04-06T06:30:54.901Z"
   },
   {
    "duration": 78,
    "start_time": "2022-04-06T06:30:54.915Z"
   },
   {
    "duration": 24,
    "start_time": "2022-04-06T06:30:54.995Z"
   },
   {
    "duration": 33,
    "start_time": "2022-04-06T06:30:55.021Z"
   },
   {
    "duration": 27,
    "start_time": "2022-04-06T06:30:55.055Z"
   },
   {
    "duration": 44,
    "start_time": "2022-04-06T06:30:55.084Z"
   },
   {
    "duration": 66,
    "start_time": "2022-04-06T06:30:55.130Z"
   },
   {
    "duration": 23,
    "start_time": "2022-04-06T06:30:55.198Z"
   },
   {
    "duration": 31,
    "start_time": "2022-04-06T06:30:55.223Z"
   },
   {
    "duration": 23,
    "start_time": "2022-04-06T06:30:55.257Z"
   },
   {
    "duration": 3,
    "start_time": "2022-04-06T06:34:47.343Z"
   },
   {
    "duration": 1304,
    "start_time": "2022-04-06T06:35:18.657Z"
   },
   {
    "duration": 3,
    "start_time": "2022-04-06T06:35:19.963Z"
   },
   {
    "duration": 11,
    "start_time": "2022-04-06T06:35:19.967Z"
   },
   {
    "duration": 16,
    "start_time": "2022-04-06T06:35:19.981Z"
   },
   {
    "duration": 10,
    "start_time": "2022-04-06T06:35:19.999Z"
   },
   {
    "duration": 31,
    "start_time": "2022-04-06T06:35:20.011Z"
   },
   {
    "duration": 9,
    "start_time": "2022-04-06T06:35:20.045Z"
   },
   {
    "duration": 10,
    "start_time": "2022-04-06T06:35:20.056Z"
   },
   {
    "duration": 166,
    "start_time": "2022-04-06T06:35:20.068Z"
   },
   {
    "duration": 12,
    "start_time": "2022-04-06T06:35:20.237Z"
   },
   {
    "duration": 30,
    "start_time": "2022-04-06T06:35:20.251Z"
   },
   {
    "duration": 148,
    "start_time": "2022-04-06T06:35:20.283Z"
   },
   {
    "duration": 17,
    "start_time": "2022-04-06T06:35:20.433Z"
   },
   {
    "duration": 199,
    "start_time": "2022-04-06T06:35:20.452Z"
   },
   {
    "duration": 151,
    "start_time": "2022-04-06T06:35:20.653Z"
   },
   {
    "duration": 10,
    "start_time": "2022-04-06T06:35:20.806Z"
   },
   {
    "duration": 32,
    "start_time": "2022-04-06T06:35:20.818Z"
   },
   {
    "duration": 76,
    "start_time": "2022-04-06T06:35:20.852Z"
   },
   {
    "duration": 13,
    "start_time": "2022-04-06T06:35:20.931Z"
   },
   {
    "duration": 184,
    "start_time": "2022-04-06T06:35:20.946Z"
   },
   {
    "duration": 93,
    "start_time": "2022-04-06T06:35:21.132Z"
   },
   {
    "duration": 9,
    "start_time": "2022-04-06T06:35:21.227Z"
   },
   {
    "duration": 28,
    "start_time": "2022-04-06T06:35:21.238Z"
   },
   {
    "duration": 72,
    "start_time": "2022-04-06T06:35:21.268Z"
   },
   {
    "duration": 10,
    "start_time": "2022-04-06T06:35:21.342Z"
   },
   {
    "duration": 9,
    "start_time": "2022-04-06T06:35:21.354Z"
   },
   {
    "duration": 17,
    "start_time": "2022-04-06T06:35:21.365Z"
   },
   {
    "duration": 22,
    "start_time": "2022-04-06T06:35:21.400Z"
   },
   {
    "duration": 13,
    "start_time": "2022-04-06T06:35:21.424Z"
   },
   {
    "duration": 12,
    "start_time": "2022-04-06T06:35:21.439Z"
   },
   {
    "duration": 11,
    "start_time": "2022-04-06T06:35:21.453Z"
   },
   {
    "duration": 9,
    "start_time": "2022-04-06T06:35:21.466Z"
   },
   {
    "duration": 39,
    "start_time": "2022-04-06T06:35:21.477Z"
   },
   {
    "duration": 7,
    "start_time": "2022-04-06T06:35:21.518Z"
   },
   {
    "duration": 11,
    "start_time": "2022-04-06T06:35:21.526Z"
   },
   {
    "duration": 11,
    "start_time": "2022-04-06T06:35:21.539Z"
   },
   {
    "duration": 8,
    "start_time": "2022-04-06T06:35:21.551Z"
   },
   {
    "duration": 14,
    "start_time": "2022-04-06T06:35:21.562Z"
   },
   {
    "duration": 25,
    "start_time": "2022-04-06T06:35:21.578Z"
   },
   {
    "duration": 40,
    "start_time": "2022-04-06T06:35:21.605Z"
   },
   {
    "duration": 28,
    "start_time": "2022-04-06T06:35:21.647Z"
   },
   {
    "duration": 41,
    "start_time": "2022-04-06T06:35:21.676Z"
   },
   {
    "duration": 4,
    "start_time": "2022-04-06T06:35:21.719Z"
   },
   {
    "duration": 17,
    "start_time": "2022-04-06T06:35:21.725Z"
   },
   {
    "duration": 59,
    "start_time": "2022-04-06T06:35:21.743Z"
   },
   {
    "duration": 15,
    "start_time": "2022-04-06T06:35:21.804Z"
   },
   {
    "duration": 88,
    "start_time": "2022-04-06T06:35:21.820Z"
   },
   {
    "duration": 54,
    "start_time": "2022-04-06T06:35:21.910Z"
   },
   {
    "duration": 52,
    "start_time": "2022-04-06T06:35:21.966Z"
   },
   {
    "duration": 29,
    "start_time": "2022-04-06T06:35:22.020Z"
   },
   {
    "duration": 26,
    "start_time": "2022-04-06T06:35:22.051Z"
   },
   {
    "duration": 26,
    "start_time": "2022-04-06T06:35:22.079Z"
   },
   {
    "duration": 317,
    "start_time": "2022-04-06T06:35:22.107Z"
   },
   {
    "duration": 3,
    "start_time": "2022-04-06T06:35:22.426Z"
   },
   {
    "duration": 11,
    "start_time": "2022-04-06T06:35:22.431Z"
   },
   {
    "duration": 300,
    "start_time": "2022-04-06T06:35:22.444Z"
   },
   {
    "duration": 4,
    "start_time": "2022-04-06T06:35:22.746Z"
   },
   {
    "duration": 12,
    "start_time": "2022-04-06T06:35:22.751Z"
   },
   {
    "duration": 271,
    "start_time": "2022-04-06T06:35:22.765Z"
   },
   {
    "duration": 3,
    "start_time": "2022-04-06T06:35:23.038Z"
   },
   {
    "duration": 18,
    "start_time": "2022-04-06T06:35:23.043Z"
   },
   {
    "duration": 289,
    "start_time": "2022-04-06T06:35:23.063Z"
   },
   {
    "duration": 4,
    "start_time": "2022-04-06T06:35:23.354Z"
   },
   {
    "duration": 15,
    "start_time": "2022-04-06T06:35:23.361Z"
   },
   {
    "duration": 10,
    "start_time": "2022-04-06T06:35:23.378Z"
   },
   {
    "duration": 12,
    "start_time": "2022-04-06T06:35:23.391Z"
   },
   {
    "duration": 6,
    "start_time": "2022-04-06T06:35:23.404Z"
   },
   {
    "duration": 11,
    "start_time": "2022-04-06T06:35:23.412Z"
   },
   {
    "duration": 27,
    "start_time": "2022-04-06T06:35:23.424Z"
   },
   {
    "duration": 15,
    "start_time": "2022-04-06T06:35:23.453Z"
   },
   {
    "duration": 13,
    "start_time": "2022-04-06T06:35:23.470Z"
   },
   {
    "duration": 16,
    "start_time": "2022-04-06T06:35:23.485Z"
   },
   {
    "duration": 26,
    "start_time": "2022-04-06T06:35:23.503Z"
   },
   {
    "duration": 251,
    "start_time": "2022-04-06T06:35:23.531Z"
   },
   {
    "duration": 19,
    "start_time": "2022-04-06T06:35:23.784Z"
   },
   {
    "duration": 670,
    "start_time": "2022-04-06T06:35:23.805Z"
   },
   {
    "duration": 26,
    "start_time": "2022-04-06T06:35:24.477Z"
   },
   {
    "duration": 630,
    "start_time": "2022-04-06T06:35:24.505Z"
   },
   {
    "duration": 14,
    "start_time": "2022-04-06T06:35:25.137Z"
   },
   {
    "duration": 693,
    "start_time": "2022-04-06T06:35:25.153Z"
   },
   {
    "duration": 15,
    "start_time": "2022-04-06T06:35:25.847Z"
   },
   {
    "duration": 10,
    "start_time": "2022-04-06T06:35:25.869Z"
   },
   {
    "duration": 532,
    "start_time": "2022-04-06T06:35:25.901Z"
   },
   {
    "duration": 15,
    "start_time": "2022-04-06T06:35:26.435Z"
   },
   {
    "duration": 23,
    "start_time": "2022-04-06T06:35:26.452Z"
   },
   {
    "duration": 6,
    "start_time": "2022-04-06T06:35:26.501Z"
   },
   {
    "duration": 8,
    "start_time": "2022-04-06T06:35:26.510Z"
   },
   {
    "duration": 11,
    "start_time": "2022-04-06T06:35:26.520Z"
   },
   {
    "duration": 12,
    "start_time": "2022-04-06T06:35:26.533Z"
   },
   {
    "duration": 7,
    "start_time": "2022-04-06T06:35:26.547Z"
   },
   {
    "duration": 10,
    "start_time": "2022-04-06T06:35:26.555Z"
   },
   {
    "duration": 7,
    "start_time": "2022-04-06T06:35:26.566Z"
   },
   {
    "duration": 29,
    "start_time": "2022-04-06T06:35:26.575Z"
   },
   {
    "duration": 1236,
    "start_time": "2022-04-06T06:38:47.323Z"
   },
   {
    "duration": 3,
    "start_time": "2022-04-06T06:38:48.561Z"
   },
   {
    "duration": 8,
    "start_time": "2022-04-06T06:38:48.565Z"
   },
   {
    "duration": 11,
    "start_time": "2022-04-06T06:38:48.575Z"
   },
   {
    "duration": 21,
    "start_time": "2022-04-06T06:38:48.588Z"
   },
   {
    "duration": 15,
    "start_time": "2022-04-06T06:38:48.611Z"
   },
   {
    "duration": 6,
    "start_time": "2022-04-06T06:38:48.628Z"
   },
   {
    "duration": 12,
    "start_time": "2022-04-06T06:38:48.635Z"
   },
   {
    "duration": 166,
    "start_time": "2022-04-06T06:38:48.649Z"
   },
   {
    "duration": 11,
    "start_time": "2022-04-06T06:38:48.818Z"
   },
   {
    "duration": 35,
    "start_time": "2022-04-06T06:38:48.831Z"
   },
   {
    "duration": 123,
    "start_time": "2022-04-06T06:38:48.868Z"
   },
   {
    "duration": 18,
    "start_time": "2022-04-06T06:38:49.000Z"
   },
   {
    "duration": 201,
    "start_time": "2022-04-06T06:38:49.020Z"
   },
   {
    "duration": 146,
    "start_time": "2022-04-06T06:38:49.223Z"
   },
   {
    "duration": 9,
    "start_time": "2022-04-06T06:38:49.372Z"
   },
   {
    "duration": 39,
    "start_time": "2022-04-06T06:38:49.382Z"
   },
   {
    "duration": 52,
    "start_time": "2022-04-06T06:38:49.423Z"
   },
   {
    "duration": 31,
    "start_time": "2022-04-06T06:38:49.477Z"
   },
   {
    "duration": 172,
    "start_time": "2022-04-06T06:38:49.510Z"
   },
   {
    "duration": 94,
    "start_time": "2022-04-06T06:38:49.683Z"
   },
   {
    "duration": 8,
    "start_time": "2022-04-06T06:38:49.779Z"
   },
   {
    "duration": 29,
    "start_time": "2022-04-06T06:38:49.789Z"
   },
   {
    "duration": 55,
    "start_time": "2022-04-06T06:38:49.819Z"
   },
   {
    "duration": 27,
    "start_time": "2022-04-06T06:38:49.876Z"
   },
   {
    "duration": 10,
    "start_time": "2022-04-06T06:38:49.904Z"
   },
   {
    "duration": 15,
    "start_time": "2022-04-06T06:38:49.915Z"
   },
   {
    "duration": 16,
    "start_time": "2022-04-06T06:38:49.935Z"
   },
   {
    "duration": 11,
    "start_time": "2022-04-06T06:38:49.953Z"
   },
   {
    "duration": 36,
    "start_time": "2022-04-06T06:38:49.966Z"
   },
   {
    "duration": 11,
    "start_time": "2022-04-06T06:38:50.004Z"
   },
   {
    "duration": 7,
    "start_time": "2022-04-06T06:38:50.017Z"
   },
   {
    "duration": 10,
    "start_time": "2022-04-06T06:38:50.026Z"
   },
   {
    "duration": 9,
    "start_time": "2022-04-06T06:38:50.038Z"
   },
   {
    "duration": 7,
    "start_time": "2022-04-06T06:38:50.049Z"
   },
   {
    "duration": 10,
    "start_time": "2022-04-06T06:38:50.058Z"
   },
   {
    "duration": 4,
    "start_time": "2022-04-06T06:38:50.100Z"
   },
   {
    "duration": 8,
    "start_time": "2022-04-06T06:38:50.106Z"
   },
   {
    "duration": 14,
    "start_time": "2022-04-06T06:38:50.115Z"
   },
   {
    "duration": 40,
    "start_time": "2022-04-06T06:38:50.131Z"
   },
   {
    "duration": 43,
    "start_time": "2022-04-06T06:38:50.173Z"
   },
   {
    "duration": 23,
    "start_time": "2022-04-06T06:38:50.218Z"
   },
   {
    "duration": 4,
    "start_time": "2022-04-06T06:38:50.243Z"
   },
   {
    "duration": 11,
    "start_time": "2022-04-06T06:38:50.249Z"
   },
   {
    "duration": 66,
    "start_time": "2022-04-06T06:38:50.262Z"
   },
   {
    "duration": 14,
    "start_time": "2022-04-06T06:38:50.331Z"
   },
   {
    "duration": 91,
    "start_time": "2022-04-06T06:38:50.347Z"
   },
   {
    "duration": 52,
    "start_time": "2022-04-06T06:38:50.440Z"
   },
   {
    "duration": 34,
    "start_time": "2022-04-06T06:38:50.502Z"
   },
   {
    "duration": 31,
    "start_time": "2022-04-06T06:38:50.538Z"
   },
   {
    "duration": 47,
    "start_time": "2022-04-06T06:38:50.570Z"
   },
   {
    "duration": 4,
    "start_time": "2022-04-06T06:38:50.619Z"
   },
   {
    "duration": 318,
    "start_time": "2022-04-06T06:38:50.625Z"
   },
   {
    "duration": 4,
    "start_time": "2022-04-06T06:38:50.945Z"
   },
   {
    "duration": 28,
    "start_time": "2022-04-06T06:38:50.951Z"
   },
   {
    "duration": 344,
    "start_time": "2022-04-06T06:38:50.981Z"
   },
   {
    "duration": 4,
    "start_time": "2022-04-06T06:38:51.327Z"
   },
   {
    "duration": 47,
    "start_time": "2022-04-06T06:38:51.333Z"
   },
   {
    "duration": 254,
    "start_time": "2022-04-06T06:38:51.382Z"
   },
   {
    "duration": 4,
    "start_time": "2022-04-06T06:38:51.638Z"
   },
   {
    "duration": 20,
    "start_time": "2022-04-06T06:38:51.644Z"
   },
   {
    "duration": 350,
    "start_time": "2022-04-06T06:38:51.665Z"
   },
   {
    "duration": 5,
    "start_time": "2022-04-06T06:38:52.017Z"
   },
   {
    "duration": 14,
    "start_time": "2022-04-06T06:38:52.023Z"
   },
   {
    "duration": 15,
    "start_time": "2022-04-06T06:38:52.038Z"
   },
   {
    "duration": 11,
    "start_time": "2022-04-06T06:38:52.055Z"
   },
   {
    "duration": 8,
    "start_time": "2022-04-06T06:38:52.068Z"
   },
   {
    "duration": 16,
    "start_time": "2022-04-06T06:38:52.077Z"
   },
   {
    "duration": 14,
    "start_time": "2022-04-06T06:38:52.094Z"
   },
   {
    "duration": 16,
    "start_time": "2022-04-06T06:38:52.110Z"
   },
   {
    "duration": 11,
    "start_time": "2022-04-06T06:38:52.128Z"
   },
   {
    "duration": 7,
    "start_time": "2022-04-06T06:38:52.141Z"
   },
   {
    "duration": 45,
    "start_time": "2022-04-06T06:38:52.150Z"
   },
   {
    "duration": 240,
    "start_time": "2022-04-06T06:38:52.197Z"
   },
   {
    "duration": 13,
    "start_time": "2022-04-06T06:38:52.439Z"
   },
   {
    "duration": 744,
    "start_time": "2022-04-06T06:38:52.454Z"
   },
   {
    "duration": 15,
    "start_time": "2022-04-06T06:38:53.199Z"
   },
   {
    "duration": 631,
    "start_time": "2022-04-06T06:38:53.216Z"
   },
   {
    "duration": 14,
    "start_time": "2022-04-06T06:38:53.849Z"
   },
   {
    "duration": 695,
    "start_time": "2022-04-06T06:38:53.865Z"
   },
   {
    "duration": 15,
    "start_time": "2022-04-06T06:38:54.561Z"
   },
   {
    "duration": 25,
    "start_time": "2022-04-06T06:38:54.582Z"
   },
   {
    "duration": 535,
    "start_time": "2022-04-06T06:38:54.608Z"
   },
   {
    "duration": 14,
    "start_time": "2022-04-06T06:38:55.145Z"
   },
   {
    "duration": 47,
    "start_time": "2022-04-06T06:38:55.161Z"
   },
   {
    "duration": 6,
    "start_time": "2022-04-06T06:38:55.210Z"
   },
   {
    "duration": 11,
    "start_time": "2022-04-06T06:38:55.218Z"
   },
   {
    "duration": 9,
    "start_time": "2022-04-06T06:38:55.230Z"
   },
   {
    "duration": 12,
    "start_time": "2022-04-06T06:38:55.241Z"
   },
   {
    "duration": 7,
    "start_time": "2022-04-06T06:38:55.255Z"
   },
   {
    "duration": 10,
    "start_time": "2022-04-06T06:38:55.264Z"
   },
   {
    "duration": 7,
    "start_time": "2022-04-06T06:38:55.300Z"
   },
   {
    "duration": 6,
    "start_time": "2022-04-06T06:38:55.309Z"
   },
   {
    "duration": 1306,
    "start_time": "2022-04-06T06:46:03.267Z"
   },
   {
    "duration": 3,
    "start_time": "2022-04-06T06:46:04.576Z"
   },
   {
    "duration": 11,
    "start_time": "2022-04-06T06:46:04.581Z"
   },
   {
    "duration": 10,
    "start_time": "2022-04-06T06:46:04.595Z"
   },
   {
    "duration": 13,
    "start_time": "2022-04-06T06:46:04.608Z"
   },
   {
    "duration": 15,
    "start_time": "2022-04-06T06:46:04.622Z"
   },
   {
    "duration": 13,
    "start_time": "2022-04-06T06:46:04.639Z"
   },
   {
    "duration": 21,
    "start_time": "2022-04-06T06:46:04.654Z"
   },
   {
    "duration": 180,
    "start_time": "2022-04-06T06:46:04.677Z"
   },
   {
    "duration": 12,
    "start_time": "2022-04-06T06:46:04.859Z"
   },
   {
    "duration": 38,
    "start_time": "2022-04-06T06:46:04.872Z"
   },
   {
    "duration": 129,
    "start_time": "2022-04-06T06:46:04.912Z"
   },
   {
    "duration": 18,
    "start_time": "2022-04-06T06:46:05.042Z"
   },
   {
    "duration": 203,
    "start_time": "2022-04-06T06:46:05.062Z"
   },
   {
    "duration": 155,
    "start_time": "2022-04-06T06:46:05.267Z"
   },
   {
    "duration": 11,
    "start_time": "2022-04-06T06:46:05.423Z"
   },
   {
    "duration": 31,
    "start_time": "2022-04-06T06:46:05.436Z"
   },
   {
    "duration": 71,
    "start_time": "2022-04-06T06:46:05.469Z"
   },
   {
    "duration": 15,
    "start_time": "2022-04-06T06:46:05.542Z"
   },
   {
    "duration": 193,
    "start_time": "2022-04-06T06:46:05.559Z"
   },
   {
    "duration": 105,
    "start_time": "2022-04-06T06:46:05.754Z"
   },
   {
    "duration": 8,
    "start_time": "2022-04-06T06:46:05.861Z"
   },
   {
    "duration": 35,
    "start_time": "2022-04-06T06:46:05.871Z"
   },
   {
    "duration": 62,
    "start_time": "2022-04-06T06:46:05.908Z"
   },
   {
    "duration": 10,
    "start_time": "2022-04-06T06:46:05.972Z"
   },
   {
    "duration": 18,
    "start_time": "2022-04-06T06:46:05.985Z"
   },
   {
    "duration": 22,
    "start_time": "2022-04-06T06:46:06.005Z"
   },
   {
    "duration": 21,
    "start_time": "2022-04-06T06:46:06.033Z"
   },
   {
    "duration": 11,
    "start_time": "2022-04-06T06:46:06.056Z"
   },
   {
    "duration": 34,
    "start_time": "2022-04-06T06:46:06.068Z"
   },
   {
    "duration": 11,
    "start_time": "2022-04-06T06:46:06.104Z"
   },
   {
    "duration": 16,
    "start_time": "2022-04-06T06:46:06.117Z"
   },
   {
    "duration": 37,
    "start_time": "2022-04-06T06:46:06.135Z"
   },
   {
    "duration": 19,
    "start_time": "2022-04-06T06:46:06.174Z"
   },
   {
    "duration": 14,
    "start_time": "2022-04-06T06:46:06.194Z"
   },
   {
    "duration": 12,
    "start_time": "2022-04-06T06:46:06.210Z"
   },
   {
    "duration": 5,
    "start_time": "2022-04-06T06:46:06.224Z"
   },
   {
    "duration": 7,
    "start_time": "2022-04-06T06:46:06.231Z"
   },
   {
    "duration": 12,
    "start_time": "2022-04-06T06:46:06.240Z"
   },
   {
    "duration": 49,
    "start_time": "2022-04-06T06:46:06.253Z"
   },
   {
    "duration": 28,
    "start_time": "2022-04-06T06:46:06.304Z"
   },
   {
    "duration": 24,
    "start_time": "2022-04-06T06:46:06.333Z"
   },
   {
    "duration": 4,
    "start_time": "2022-04-06T06:46:06.359Z"
   },
   {
    "duration": 37,
    "start_time": "2022-04-06T06:46:06.365Z"
   },
   {
    "duration": 46,
    "start_time": "2022-04-06T06:46:06.404Z"
   },
   {
    "duration": 15,
    "start_time": "2022-04-06T06:46:06.451Z"
   },
   {
    "duration": 95,
    "start_time": "2022-04-06T06:46:06.468Z"
   },
   {
    "duration": 63,
    "start_time": "2022-04-06T06:46:06.565Z"
   },
   {
    "duration": 36,
    "start_time": "2022-04-06T06:46:06.629Z"
   },
   {
    "duration": 47,
    "start_time": "2022-04-06T06:46:06.667Z"
   },
   {
    "duration": 29,
    "start_time": "2022-04-06T06:46:06.716Z"
   },
   {
    "duration": 18,
    "start_time": "2022-04-06T06:46:06.748Z"
   },
   {
    "duration": 351,
    "start_time": "2022-04-06T06:46:06.768Z"
   },
   {
    "duration": 4,
    "start_time": "2022-04-06T06:46:07.121Z"
   },
   {
    "duration": 17,
    "start_time": "2022-04-06T06:46:07.126Z"
   },
   {
    "duration": 285,
    "start_time": "2022-04-06T06:46:07.145Z"
   },
   {
    "duration": 4,
    "start_time": "2022-04-06T06:46:07.432Z"
   },
   {
    "duration": 12,
    "start_time": "2022-04-06T06:46:07.438Z"
   },
   {
    "duration": 259,
    "start_time": "2022-04-06T06:46:07.453Z"
   },
   {
    "duration": 4,
    "start_time": "2022-04-06T06:46:07.714Z"
   },
   {
    "duration": 15,
    "start_time": "2022-04-06T06:46:07.721Z"
   },
   {
    "duration": 306,
    "start_time": "2022-04-06T06:46:07.739Z"
   },
   {
    "duration": 5,
    "start_time": "2022-04-06T06:46:08.047Z"
   },
   {
    "duration": 13,
    "start_time": "2022-04-06T06:46:08.054Z"
   },
   {
    "duration": 7,
    "start_time": "2022-04-06T06:46:08.069Z"
   },
   {
    "duration": 11,
    "start_time": "2022-04-06T06:46:08.078Z"
   },
   {
    "duration": 4,
    "start_time": "2022-04-06T06:46:08.102Z"
   },
   {
    "duration": 13,
    "start_time": "2022-04-06T06:46:08.108Z"
   },
   {
    "duration": 11,
    "start_time": "2022-04-06T06:46:08.122Z"
   },
   {
    "duration": 12,
    "start_time": "2022-04-06T06:46:08.135Z"
   },
   {
    "duration": 15,
    "start_time": "2022-04-06T06:46:08.149Z"
   },
   {
    "duration": 5,
    "start_time": "2022-04-06T06:46:08.166Z"
   },
   {
    "duration": 51,
    "start_time": "2022-04-06T06:46:08.173Z"
   },
   {
    "duration": 245,
    "start_time": "2022-04-06T06:46:08.226Z"
   },
   {
    "duration": 14,
    "start_time": "2022-04-06T06:46:08.473Z"
   },
   {
    "duration": 699,
    "start_time": "2022-04-06T06:46:08.489Z"
   },
   {
    "duration": 19,
    "start_time": "2022-04-06T06:46:09.190Z"
   },
   {
    "duration": 661,
    "start_time": "2022-04-06T06:46:09.211Z"
   },
   {
    "duration": 16,
    "start_time": "2022-04-06T06:46:09.874Z"
   },
   {
    "duration": 666,
    "start_time": "2022-04-06T06:46:09.902Z"
   },
   {
    "duration": 15,
    "start_time": "2022-04-06T06:46:10.570Z"
   },
   {
    "duration": 10,
    "start_time": "2022-04-06T06:46:10.604Z"
   },
   {
    "duration": 549,
    "start_time": "2022-04-06T06:46:10.615Z"
   },
   {
    "duration": 13,
    "start_time": "2022-04-06T06:46:11.166Z"
   },
   {
    "duration": 38,
    "start_time": "2022-04-06T06:46:11.181Z"
   },
   {
    "duration": 6,
    "start_time": "2022-04-06T06:46:11.221Z"
   },
   {
    "duration": 10,
    "start_time": "2022-04-06T06:46:11.229Z"
   },
   {
    "duration": 7,
    "start_time": "2022-04-06T06:46:11.241Z"
   },
   {
    "duration": 16,
    "start_time": "2022-04-06T06:46:11.250Z"
   },
   {
    "duration": 6,
    "start_time": "2022-04-06T06:46:11.268Z"
   },
   {
    "duration": 29,
    "start_time": "2022-04-06T06:46:11.276Z"
   },
   {
    "duration": 12,
    "start_time": "2022-04-06T06:46:11.307Z"
   },
   {
    "duration": 10,
    "start_time": "2022-04-06T06:46:11.321Z"
   },
   {
    "duration": 1225,
    "start_time": "2022-04-06T06:47:58.651Z"
   },
   {
    "duration": 3,
    "start_time": "2022-04-06T06:47:59.879Z"
   },
   {
    "duration": 13,
    "start_time": "2022-04-06T06:47:59.883Z"
   },
   {
    "duration": 8,
    "start_time": "2022-04-06T06:47:59.902Z"
   },
   {
    "duration": 13,
    "start_time": "2022-04-06T06:47:59.912Z"
   },
   {
    "duration": 14,
    "start_time": "2022-04-06T06:47:59.927Z"
   },
   {
    "duration": 12,
    "start_time": "2022-04-06T06:47:59.943Z"
   },
   {
    "duration": 10,
    "start_time": "2022-04-06T06:47:59.957Z"
   },
   {
    "duration": 178,
    "start_time": "2022-04-06T06:47:59.969Z"
   },
   {
    "duration": 12,
    "start_time": "2022-04-06T06:48:00.151Z"
   },
   {
    "duration": 39,
    "start_time": "2022-04-06T06:48:00.165Z"
   },
   {
    "duration": 133,
    "start_time": "2022-04-06T06:48:00.206Z"
   },
   {
    "duration": 17,
    "start_time": "2022-04-06T06:48:00.341Z"
   },
   {
    "duration": 203,
    "start_time": "2022-04-06T06:48:00.360Z"
   },
   {
    "duration": 148,
    "start_time": "2022-04-06T06:48:00.564Z"
   },
   {
    "duration": 10,
    "start_time": "2022-04-06T06:48:00.714Z"
   },
   {
    "duration": 38,
    "start_time": "2022-04-06T06:48:00.725Z"
   },
   {
    "duration": 66,
    "start_time": "2022-04-06T06:48:00.764Z"
   },
   {
    "duration": 15,
    "start_time": "2022-04-06T06:48:00.831Z"
   },
   {
    "duration": 181,
    "start_time": "2022-04-06T06:48:00.847Z"
   },
   {
    "duration": 92,
    "start_time": "2022-04-06T06:48:01.030Z"
   },
   {
    "duration": 8,
    "start_time": "2022-04-06T06:48:01.124Z"
   },
   {
    "duration": 32,
    "start_time": "2022-04-06T06:48:01.134Z"
   },
   {
    "duration": 77,
    "start_time": "2022-04-06T06:48:01.168Z"
   },
   {
    "duration": 10,
    "start_time": "2022-04-06T06:48:01.247Z"
   },
   {
    "duration": 14,
    "start_time": "2022-04-06T06:48:01.259Z"
   },
   {
    "duration": 36,
    "start_time": "2022-04-06T06:48:01.275Z"
   },
   {
    "duration": 32,
    "start_time": "2022-04-06T06:48:01.317Z"
   },
   {
    "duration": 13,
    "start_time": "2022-04-06T06:48:01.351Z"
   },
   {
    "duration": 24,
    "start_time": "2022-04-06T06:48:01.366Z"
   },
   {
    "duration": 22,
    "start_time": "2022-04-06T06:48:01.391Z"
   },
   {
    "duration": 21,
    "start_time": "2022-04-06T06:48:01.415Z"
   },
   {
    "duration": 21,
    "start_time": "2022-04-06T06:48:01.438Z"
   },
   {
    "duration": 18,
    "start_time": "2022-04-06T06:48:01.460Z"
   },
   {
    "duration": 25,
    "start_time": "2022-04-06T06:48:01.479Z"
   },
   {
    "duration": 18,
    "start_time": "2022-04-06T06:48:01.506Z"
   },
   {
    "duration": 17,
    "start_time": "2022-04-06T06:48:01.525Z"
   },
   {
    "duration": 21,
    "start_time": "2022-04-06T06:48:01.543Z"
   },
   {
    "duration": 39,
    "start_time": "2022-04-06T06:48:01.566Z"
   },
   {
    "duration": 47,
    "start_time": "2022-04-06T06:48:01.607Z"
   },
   {
    "duration": 28,
    "start_time": "2022-04-06T06:48:01.657Z"
   },
   {
    "duration": 35,
    "start_time": "2022-04-06T06:48:01.687Z"
   },
   {
    "duration": 13,
    "start_time": "2022-04-06T06:48:01.724Z"
   },
   {
    "duration": 29,
    "start_time": "2022-04-06T06:48:01.739Z"
   },
   {
    "duration": 60,
    "start_time": "2022-04-06T06:48:01.771Z"
   },
   {
    "duration": 16,
    "start_time": "2022-04-06T06:48:01.833Z"
   },
   {
    "duration": 100,
    "start_time": "2022-04-06T06:48:01.852Z"
   },
   {
    "duration": 68,
    "start_time": "2022-04-06T06:48:01.954Z"
   },
   {
    "duration": 36,
    "start_time": "2022-04-06T06:48:02.024Z"
   },
   {
    "duration": 48,
    "start_time": "2022-04-06T06:48:02.062Z"
   },
   {
    "duration": 27,
    "start_time": "2022-04-06T06:48:02.112Z"
   },
   {
    "duration": 12,
    "start_time": "2022-04-06T06:48:02.141Z"
   },
   {
    "duration": 353,
    "start_time": "2022-04-06T06:48:02.155Z"
   },
   {
    "duration": 4,
    "start_time": "2022-04-06T06:48:02.510Z"
   },
   {
    "duration": 17,
    "start_time": "2022-04-06T06:48:02.516Z"
   },
   {
    "duration": 347,
    "start_time": "2022-04-06T06:48:02.535Z"
   },
   {
    "duration": 4,
    "start_time": "2022-04-06T06:48:02.884Z"
   },
   {
    "duration": 21,
    "start_time": "2022-04-06T06:48:02.889Z"
   },
   {
    "duration": 249,
    "start_time": "2022-04-06T06:48:02.912Z"
   },
   {
    "duration": 4,
    "start_time": "2022-04-06T06:48:03.163Z"
   },
   {
    "duration": 42,
    "start_time": "2022-04-06T06:48:03.169Z"
   },
   {
    "duration": 302,
    "start_time": "2022-04-06T06:48:03.213Z"
   },
   {
    "duration": 5,
    "start_time": "2022-04-06T06:48:03.517Z"
   },
   {
    "duration": 13,
    "start_time": "2022-04-06T06:48:03.524Z"
   },
   {
    "duration": 11,
    "start_time": "2022-04-06T06:48:03.539Z"
   },
   {
    "duration": 19,
    "start_time": "2022-04-06T06:48:03.553Z"
   },
   {
    "duration": 11,
    "start_time": "2022-04-06T06:48:03.574Z"
   },
   {
    "duration": 19,
    "start_time": "2022-04-06T06:48:03.587Z"
   },
   {
    "duration": 16,
    "start_time": "2022-04-06T06:48:03.608Z"
   },
   {
    "duration": 21,
    "start_time": "2022-04-06T06:48:03.626Z"
   },
   {
    "duration": 18,
    "start_time": "2022-04-06T06:48:03.649Z"
   },
   {
    "duration": 5,
    "start_time": "2022-04-06T06:48:03.669Z"
   },
   {
    "duration": 39,
    "start_time": "2022-04-06T06:48:03.676Z"
   },
   {
    "duration": 240,
    "start_time": "2022-04-06T06:48:03.717Z"
   },
   {
    "duration": 15,
    "start_time": "2022-04-06T06:48:03.959Z"
   },
   {
    "duration": 722,
    "start_time": "2022-04-06T06:48:03.976Z"
   },
   {
    "duration": 15,
    "start_time": "2022-04-06T06:48:04.700Z"
   },
   {
    "duration": 652,
    "start_time": "2022-04-06T06:48:04.717Z"
   },
   {
    "duration": 15,
    "start_time": "2022-04-06T06:48:05.372Z"
   },
   {
    "duration": 685,
    "start_time": "2022-04-06T06:48:05.402Z"
   },
   {
    "duration": 26,
    "start_time": "2022-04-06T06:48:06.090Z"
   },
   {
    "duration": 11,
    "start_time": "2022-04-06T06:48:06.124Z"
   },
   {
    "duration": 581,
    "start_time": "2022-04-06T06:48:06.137Z"
   },
   {
    "duration": 16,
    "start_time": "2022-04-06T06:48:06.720Z"
   },
   {
    "duration": 25,
    "start_time": "2022-04-06T06:48:06.738Z"
   },
   {
    "duration": 38,
    "start_time": "2022-04-06T06:48:06.765Z"
   },
   {
    "duration": 9,
    "start_time": "2022-04-06T06:48:06.806Z"
   },
   {
    "duration": 9,
    "start_time": "2022-04-06T06:48:06.817Z"
   },
   {
    "duration": 12,
    "start_time": "2022-04-06T06:48:06.828Z"
   },
   {
    "duration": 7,
    "start_time": "2022-04-06T06:48:06.842Z"
   },
   {
    "duration": 10,
    "start_time": "2022-04-06T06:48:06.851Z"
   },
   {
    "duration": 42,
    "start_time": "2022-04-06T06:48:06.863Z"
   },
   {
    "duration": 7,
    "start_time": "2022-04-06T06:48:06.907Z"
   },
   {
    "duration": 1560,
    "start_time": "2022-04-06T08:02:19.266Z"
   },
   {
    "duration": 4,
    "start_time": "2022-04-06T08:02:20.828Z"
   },
   {
    "duration": 7,
    "start_time": "2022-04-06T08:02:20.834Z"
   },
   {
    "duration": 10,
    "start_time": "2022-04-06T08:02:20.843Z"
   },
   {
    "duration": 29,
    "start_time": "2022-04-06T08:02:20.855Z"
   },
   {
    "duration": 15,
    "start_time": "2022-04-06T08:02:20.889Z"
   },
   {
    "duration": 8,
    "start_time": "2022-04-06T08:02:20.906Z"
   },
   {
    "duration": 13,
    "start_time": "2022-04-06T08:02:20.916Z"
   },
   {
    "duration": 232,
    "start_time": "2022-04-06T08:02:20.931Z"
   },
   {
    "duration": 25,
    "start_time": "2022-04-06T08:02:21.167Z"
   },
   {
    "duration": 37,
    "start_time": "2022-04-06T08:02:21.194Z"
   },
   {
    "duration": 179,
    "start_time": "2022-04-06T08:02:21.233Z"
   },
   {
    "duration": 19,
    "start_time": "2022-04-06T08:02:21.413Z"
   },
   {
    "duration": 325,
    "start_time": "2022-04-06T08:02:21.434Z"
   },
   {
    "duration": 193,
    "start_time": "2022-04-06T08:02:21.761Z"
   },
   {
    "duration": 20,
    "start_time": "2022-04-06T08:02:21.957Z"
   },
   {
    "duration": 43,
    "start_time": "2022-04-06T08:02:21.980Z"
   },
   {
    "duration": 111,
    "start_time": "2022-04-06T08:02:22.026Z"
   },
   {
    "duration": 17,
    "start_time": "2022-04-06T08:02:22.140Z"
   },
   {
    "duration": 304,
    "start_time": "2022-04-06T08:02:22.159Z"
   },
   {
    "duration": 135,
    "start_time": "2022-04-06T08:02:22.465Z"
   },
   {
    "duration": 10,
    "start_time": "2022-04-06T08:02:22.603Z"
   },
   {
    "duration": 29,
    "start_time": "2022-04-06T08:02:22.616Z"
   },
   {
    "duration": 103,
    "start_time": "2022-04-06T08:02:22.648Z"
   },
   {
    "duration": 12,
    "start_time": "2022-04-06T08:02:22.754Z"
   },
   {
    "duration": 21,
    "start_time": "2022-04-06T08:02:22.768Z"
   },
   {
    "duration": 18,
    "start_time": "2022-04-06T08:02:22.792Z"
   },
   {
    "duration": 21,
    "start_time": "2022-04-06T08:02:22.817Z"
   },
   {
    "duration": 15,
    "start_time": "2022-04-06T08:02:22.840Z"
   },
   {
    "duration": 28,
    "start_time": "2022-04-06T08:02:22.875Z"
   },
   {
    "duration": 14,
    "start_time": "2022-04-06T08:02:22.905Z"
   },
   {
    "duration": 8,
    "start_time": "2022-04-06T08:02:22.921Z"
   },
   {
    "duration": 15,
    "start_time": "2022-04-06T08:02:22.931Z"
   },
   {
    "duration": 32,
    "start_time": "2022-04-06T08:02:22.948Z"
   },
   {
    "duration": 17,
    "start_time": "2022-04-06T08:02:22.983Z"
   },
   {
    "duration": 13,
    "start_time": "2022-04-06T08:02:23.002Z"
   },
   {
    "duration": 5,
    "start_time": "2022-04-06T08:02:23.017Z"
   },
   {
    "duration": 15,
    "start_time": "2022-04-06T08:02:23.024Z"
   },
   {
    "duration": 41,
    "start_time": "2022-04-06T08:02:23.042Z"
   },
   {
    "duration": 61,
    "start_time": "2022-04-06T08:02:23.086Z"
   },
   {
    "duration": 54,
    "start_time": "2022-04-06T08:02:23.149Z"
   },
   {
    "duration": 30,
    "start_time": "2022-04-06T08:02:23.206Z"
   },
   {
    "duration": 5,
    "start_time": "2022-04-06T08:02:23.238Z"
   },
   {
    "duration": 45,
    "start_time": "2022-04-06T08:02:23.244Z"
   },
   {
    "duration": 67,
    "start_time": "2022-04-06T08:02:23.292Z"
   },
   {
    "duration": 35,
    "start_time": "2022-04-06T08:02:23.362Z"
   },
   {
    "duration": 133,
    "start_time": "2022-04-06T08:02:23.399Z"
   },
   {
    "duration": 90,
    "start_time": "2022-04-06T08:02:23.534Z"
   },
   {
    "duration": 73,
    "start_time": "2022-04-06T08:02:23.627Z"
   },
   {
    "duration": 44,
    "start_time": "2022-04-06T08:02:23.703Z"
   },
   {
    "duration": 61,
    "start_time": "2022-04-06T08:02:23.750Z"
   },
   {
    "duration": 5,
    "start_time": "2022-04-06T08:02:23.814Z"
   },
   {
    "duration": 604,
    "start_time": "2022-04-06T08:02:23.821Z"
   },
   {
    "duration": 6,
    "start_time": "2022-04-06T08:02:24.427Z"
   },
   {
    "duration": 35,
    "start_time": "2022-04-06T08:02:24.436Z"
   },
   {
    "duration": 624,
    "start_time": "2022-04-06T08:02:24.473Z"
   },
   {
    "duration": 5,
    "start_time": "2022-04-06T08:02:25.100Z"
   },
   {
    "duration": 14,
    "start_time": "2022-04-06T08:02:25.107Z"
   },
   {
    "duration": 482,
    "start_time": "2022-04-06T08:02:25.123Z"
   },
   {
    "duration": 5,
    "start_time": "2022-04-06T08:02:25.607Z"
   },
   {
    "duration": 16,
    "start_time": "2022-04-06T08:02:25.614Z"
   },
   {
    "duration": 556,
    "start_time": "2022-04-06T08:02:25.632Z"
   },
   {
    "duration": 5,
    "start_time": "2022-04-06T08:02:26.190Z"
   },
   {
    "duration": 16,
    "start_time": "2022-04-06T08:02:26.197Z"
   },
   {
    "duration": 10,
    "start_time": "2022-04-06T08:02:26.215Z"
   },
   {
    "duration": 14,
    "start_time": "2022-04-06T08:02:26.227Z"
   },
   {
    "duration": 7,
    "start_time": "2022-04-06T08:02:26.243Z"
   },
   {
    "duration": 18,
    "start_time": "2022-04-06T08:02:26.274Z"
   },
   {
    "duration": 13,
    "start_time": "2022-04-06T08:02:26.294Z"
   },
   {
    "duration": 12,
    "start_time": "2022-04-06T08:02:26.310Z"
   },
   {
    "duration": 14,
    "start_time": "2022-04-06T08:02:26.324Z"
   },
   {
    "duration": 41,
    "start_time": "2022-04-06T08:02:26.340Z"
   },
   {
    "duration": 48,
    "start_time": "2022-04-06T08:02:26.384Z"
   },
   {
    "duration": 458,
    "start_time": "2022-04-06T08:02:26.434Z"
   },
   {
    "duration": 18,
    "start_time": "2022-04-06T08:02:26.894Z"
   },
   {
    "duration": 1169,
    "start_time": "2022-04-06T08:02:26.914Z"
   },
   {
    "duration": 19,
    "start_time": "2022-04-06T08:02:28.087Z"
   },
   {
    "duration": 994,
    "start_time": "2022-04-06T08:02:28.108Z"
   },
   {
    "duration": 20,
    "start_time": "2022-04-06T08:02:29.104Z"
   },
   {
    "duration": 1040,
    "start_time": "2022-04-06T08:02:29.126Z"
   },
   {
    "duration": 27,
    "start_time": "2022-04-06T08:02:30.168Z"
   },
   {
    "duration": 11,
    "start_time": "2022-04-06T08:02:30.204Z"
   },
   {
    "duration": 891,
    "start_time": "2022-04-06T08:02:30.217Z"
   },
   {
    "duration": 18,
    "start_time": "2022-04-06T08:02:31.110Z"
   },
   {
    "duration": 59,
    "start_time": "2022-04-06T08:02:31.130Z"
   },
   {
    "duration": 10,
    "start_time": "2022-04-06T08:02:31.192Z"
   },
   {
    "duration": 10,
    "start_time": "2022-04-06T08:02:31.205Z"
   },
   {
    "duration": 9,
    "start_time": "2022-04-06T08:02:31.218Z"
   },
   {
    "duration": 53,
    "start_time": "2022-04-06T08:02:31.230Z"
   },
   {
    "duration": 8,
    "start_time": "2022-04-06T08:02:31.286Z"
   },
   {
    "duration": 20,
    "start_time": "2022-04-06T08:02:31.297Z"
   },
   {
    "duration": 9,
    "start_time": "2022-04-06T08:02:31.320Z"
   },
   {
    "duration": 45,
    "start_time": "2022-04-06T08:02:31.331Z"
   },
   {
    "duration": 16,
    "start_time": "2022-04-06T08:05:25.120Z"
   }
  ],
  "kernelspec": {
   "display_name": "Python 3 (ipykernel)",
   "language": "python",
   "name": "python3"
  },
  "language_info": {
   "codemirror_mode": {
    "name": "ipython",
    "version": 3
   },
   "file_extension": ".py",
   "mimetype": "text/x-python",
   "name": "python",
   "nbconvert_exporter": "python",
   "pygments_lexer": "ipython3",
   "version": "3.9.7"
  },
  "toc": {
   "base_numbering": 1,
   "nav_menu": {},
   "number_sections": false,
   "sideBar": true,
   "skip_h1_title": false,
   "title_cell": "Table of Contents",
   "title_sidebar": "Contents",
   "toc_cell": false,
   "toc_position": {
    "height": "531.2px",
    "left": "354px",
    "top": "110.533px",
    "width": "342.135px"
   },
   "toc_section_display": true,
   "toc_window_display": true
  }
 },
 "nbformat": 4,
 "nbformat_minor": 2
}

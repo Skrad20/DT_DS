{
 "cells": [
  {
   "cell_type": "markdown",
   "metadata": {},
   "source": [
    "# Выбор локации для скважины"
   ]
  },
  {
   "cell_type": "markdown",
   "metadata": {},
   "source": [
    "Допустим, вы работаете в добывающей компании «ГлавРосГосНефть». Нужно решить, где бурить новую скважину.\n",
    "\n",
    "Вам предоставлены пробы нефти в трёх регионах: в каждом 10 000 месторождений, где измерили качество нефти и объём её запасов. Постройте модель машинного обучения, которая поможет определить регион, где добыча принесёт наибольшую прибыль. Проанализируйте возможную прибыль и риски техникой *Bootstrap.*\n",
    "\n",
    "Шаги для выбора локации:\n",
    "\n",
    "- В избранном регионе ищут месторождения, для каждого определяют значения признаков;\n",
    "- Строят модель и оценивают объём запасов;\n",
    "- Выбирают месторождения с самым высокими оценками значений. Количество месторождений зависит от бюджета компании и стоимости разработки одной скважины;\n",
    "- Прибыль равна суммарной прибыли отобранных месторождений."
   ]
  },
  {
   "cell_type": "markdown",
   "metadata": {},
   "source": [
    "## Загрузка библиотек и константы"
   ]
  },
  {
   "cell_type": "code",
   "execution_count": 1,
   "metadata": {},
   "outputs": [],
   "source": [
    "import datetime\n",
    "import matplotlib.pyplot as plt\n",
    "import numpy as np\n",
    "import pandas as pd\n",
    "import seaborn as sns\n",
    "from sklearn.metrics import (\n",
    "    mean_squared_error,\n",
    "    mean_absolute_percentage_error,\n",
    "    r2_score,\n",
    "    mean_absolute_error,\n",
    ")\n",
    "from sklearn.model_selection import (\n",
    "    train_test_split\n",
    ")\n",
    "from sklearn.preprocessing import (\n",
    "    StandardScaler\n",
    ")\n",
    "\n",
    "from sklearn.linear_model import LinearRegression\n",
    "from tqdm import tqdm"
   ]
  },
  {
   "cell_type": "code",
   "execution_count": 2,
   "metadata": {},
   "outputs": [],
   "source": [
    "ALPHA = 0.05\n",
    "CONFIDANCE_INTERVAL = 0.95\n",
    "BUDGET = 10_000_000_000\n",
    "PRICE_BARREL_MATERIALS = 450 \n",
    "REVENUE_PER_UNIT_PRODUCT = 450_000\n",
    "THRESHOLD_PROBABILITY_LOSSES = 2.5\n",
    "BOOTSTRAP = 1_000\n",
    "\n",
    "NUMBER_BEST_WELLS = 200\n",
    "START_NUMBER_WELLS = 500\n",
    "\n",
    "RANDOM_STATE = 42"
   ]
  },
  {
   "cell_type": "markdown",
   "metadata": {},
   "source": [
    "## Функции и их тестирование"
   ]
  },
  {
   "cell_type": "markdown",
   "metadata": {},
   "source": [
    "### Информация о датасете"
   ]
  },
  {
   "cell_type": "code",
   "execution_count": 3,
   "metadata": {},
   "outputs": [],
   "source": [
    "def about_data(df: pd.DataFrame) -> None:\n",
    "    \"\"\"\n",
    "    Выводит информацию о датасете:\n",
    "        Первые пять строк датасета,\n",
    "        Иформация о датасете (столбцы и количество данных),\n",
    "        Описательная статистика данных.\n",
    "    ----------\n",
    "    Параметры:\n",
    "        df: pd.DataFrame - Датасет.\n",
    "        test = pd.DataFrame([1,2,3,4,5,6])\n",
    "    Возращается:\n",
    "        None\n",
    "    Выводится:\n",
    "        Первые пять строк датасета,\n",
    "        Иформация о датасете (столбцы и количество данных),\n",
    "        Описательная статистика данных.\n",
    "    \"\"\"\n",
    "    print(\"Датасет\")\n",
    "    display(df.head())\n",
    "    print(\"\\n\", \"Информация о датасете\")\n",
    "    display(df.info())\n",
    "    print(\"\\n\", \"Описательная статитика\")\n",
    "    display(df.describe())\n",
    "    print(\"\\n\", \"Количество дубликатов\")\n",
    "    display(df.duplicated('id').sum())\n",
    "    print(\"\\n\", \"Корреляции признаков\")\n",
    "    display(df.corr())"
   ]
  },
  {
   "cell_type": "code",
   "execution_count": 4,
   "metadata": {},
   "outputs": [],
   "source": [
    "test = pd.DataFrame([1,2,3,4,5,6], columns=['id'])"
   ]
  },
  {
   "cell_type": "code",
   "execution_count": 5,
   "metadata": {
    "scrolled": false
   },
   "outputs": [
    {
     "name": "stdout",
     "output_type": "stream",
     "text": [
      "Датасет\n"
     ]
    },
    {
     "data": {
      "text/html": [
       "<div>\n",
       "<style scoped>\n",
       "    .dataframe tbody tr th:only-of-type {\n",
       "        vertical-align: middle;\n",
       "    }\n",
       "\n",
       "    .dataframe tbody tr th {\n",
       "        vertical-align: top;\n",
       "    }\n",
       "\n",
       "    .dataframe thead th {\n",
       "        text-align: right;\n",
       "    }\n",
       "</style>\n",
       "<table border=\"1\" class=\"dataframe\">\n",
       "  <thead>\n",
       "    <tr style=\"text-align: right;\">\n",
       "      <th></th>\n",
       "      <th>id</th>\n",
       "    </tr>\n",
       "  </thead>\n",
       "  <tbody>\n",
       "    <tr>\n",
       "      <th>0</th>\n",
       "      <td>1</td>\n",
       "    </tr>\n",
       "    <tr>\n",
       "      <th>1</th>\n",
       "      <td>2</td>\n",
       "    </tr>\n",
       "    <tr>\n",
       "      <th>2</th>\n",
       "      <td>3</td>\n",
       "    </tr>\n",
       "    <tr>\n",
       "      <th>3</th>\n",
       "      <td>4</td>\n",
       "    </tr>\n",
       "    <tr>\n",
       "      <th>4</th>\n",
       "      <td>5</td>\n",
       "    </tr>\n",
       "  </tbody>\n",
       "</table>\n",
       "</div>"
      ],
      "text/plain": [
       "   id\n",
       "0   1\n",
       "1   2\n",
       "2   3\n",
       "3   4\n",
       "4   5"
      ]
     },
     "metadata": {},
     "output_type": "display_data"
    },
    {
     "name": "stdout",
     "output_type": "stream",
     "text": [
      "\n",
      " Информация о датасете\n",
      "<class 'pandas.core.frame.DataFrame'>\n",
      "RangeIndex: 6 entries, 0 to 5\n",
      "Data columns (total 1 columns):\n",
      " #   Column  Non-Null Count  Dtype\n",
      "---  ------  --------------  -----\n",
      " 0   id      6 non-null      int64\n",
      "dtypes: int64(1)\n",
      "memory usage: 176.0 bytes\n"
     ]
    },
    {
     "data": {
      "text/plain": [
       "None"
      ]
     },
     "metadata": {},
     "output_type": "display_data"
    },
    {
     "name": "stdout",
     "output_type": "stream",
     "text": [
      "\n",
      " Описательная статитика\n"
     ]
    },
    {
     "data": {
      "text/html": [
       "<div>\n",
       "<style scoped>\n",
       "    .dataframe tbody tr th:only-of-type {\n",
       "        vertical-align: middle;\n",
       "    }\n",
       "\n",
       "    .dataframe tbody tr th {\n",
       "        vertical-align: top;\n",
       "    }\n",
       "\n",
       "    .dataframe thead th {\n",
       "        text-align: right;\n",
       "    }\n",
       "</style>\n",
       "<table border=\"1\" class=\"dataframe\">\n",
       "  <thead>\n",
       "    <tr style=\"text-align: right;\">\n",
       "      <th></th>\n",
       "      <th>id</th>\n",
       "    </tr>\n",
       "  </thead>\n",
       "  <tbody>\n",
       "    <tr>\n",
       "      <th>count</th>\n",
       "      <td>6.000000</td>\n",
       "    </tr>\n",
       "    <tr>\n",
       "      <th>mean</th>\n",
       "      <td>3.500000</td>\n",
       "    </tr>\n",
       "    <tr>\n",
       "      <th>std</th>\n",
       "      <td>1.870829</td>\n",
       "    </tr>\n",
       "    <tr>\n",
       "      <th>min</th>\n",
       "      <td>1.000000</td>\n",
       "    </tr>\n",
       "    <tr>\n",
       "      <th>25%</th>\n",
       "      <td>2.250000</td>\n",
       "    </tr>\n",
       "    <tr>\n",
       "      <th>50%</th>\n",
       "      <td>3.500000</td>\n",
       "    </tr>\n",
       "    <tr>\n",
       "      <th>75%</th>\n",
       "      <td>4.750000</td>\n",
       "    </tr>\n",
       "    <tr>\n",
       "      <th>max</th>\n",
       "      <td>6.000000</td>\n",
       "    </tr>\n",
       "  </tbody>\n",
       "</table>\n",
       "</div>"
      ],
      "text/plain": [
       "             id\n",
       "count  6.000000\n",
       "mean   3.500000\n",
       "std    1.870829\n",
       "min    1.000000\n",
       "25%    2.250000\n",
       "50%    3.500000\n",
       "75%    4.750000\n",
       "max    6.000000"
      ]
     },
     "metadata": {},
     "output_type": "display_data"
    },
    {
     "name": "stdout",
     "output_type": "stream",
     "text": [
      "\n",
      " Количество дубликатов\n"
     ]
    },
    {
     "data": {
      "text/plain": [
       "0"
      ]
     },
     "metadata": {},
     "output_type": "display_data"
    },
    {
     "name": "stdout",
     "output_type": "stream",
     "text": [
      "\n",
      " Корреляции признаков\n"
     ]
    },
    {
     "data": {
      "text/html": [
       "<div>\n",
       "<style scoped>\n",
       "    .dataframe tbody tr th:only-of-type {\n",
       "        vertical-align: middle;\n",
       "    }\n",
       "\n",
       "    .dataframe tbody tr th {\n",
       "        vertical-align: top;\n",
       "    }\n",
       "\n",
       "    .dataframe thead th {\n",
       "        text-align: right;\n",
       "    }\n",
       "</style>\n",
       "<table border=\"1\" class=\"dataframe\">\n",
       "  <thead>\n",
       "    <tr style=\"text-align: right;\">\n",
       "      <th></th>\n",
       "      <th>id</th>\n",
       "    </tr>\n",
       "  </thead>\n",
       "  <tbody>\n",
       "    <tr>\n",
       "      <th>id</th>\n",
       "      <td>1.0</td>\n",
       "    </tr>\n",
       "  </tbody>\n",
       "</table>\n",
       "</div>"
      ],
      "text/plain": [
       "     id\n",
       "id  1.0"
      ]
     },
     "metadata": {},
     "output_type": "display_data"
    }
   ],
   "source": [
    "about_data(test)"
   ]
  },
  {
   "cell_type": "markdown",
   "metadata": {},
   "source": [
    "### Класс для работы с регрессией"
   ]
  },
  {
   "cell_type": "code",
   "execution_count": 6,
   "metadata": {},
   "outputs": [],
   "source": [
    "class LinearRegressionData:\n",
    "    \"\"\"\n",
    "    Класс для работы с линейной регрессией.\n",
    "    ...\n",
    "    Атрибуты\n",
    "    --------\n",
    "    features : pd.DataFrame \n",
    "        Признаки для обучения модели.\n",
    "    target : pd.DataFrame \n",
    "        Целевые признаки для обучения модели.\n",
    "    features_valid : pd.DataFrame = []\n",
    "        Признаки для тестирования модели.\n",
    "    target_valid: pd.DataFrame = []\n",
    "        Целевые признаки для тестирования модели.\n",
    "    Методы\n",
    "    ------\n",
    "    fit_line_regress(self) -> None:\n",
    "        Обучение модели\n",
    "\n",
    "    get_model(self) -> LinearRegression:\n",
    "        Возвращает обученную модель\n",
    "\n",
    "    model_estimates(self, y_true, y_pred) -> dict:\n",
    "        Возращает словарь оценок модели\n",
    "\n",
    "    get_coef_model(self) -> dict:\n",
    "        Возвращает словарь с коэффициентами уравнения регресси\n",
    "\n",
    "        Возвращает словарь с оценками модели по  данным\n",
    "    predict_line_regression(self, features_valid = []) -> list:\n",
    "        Возвращает предсказания по полученным данным\n",
    "\n",
    "    prediction_evaluation(\n",
    "        self, features_valid = [], target_valid = []\n",
    "        ) -> dict:\n",
    "        Предсказывает целевые значения по полученным данным\n",
    "        \n",
    "    data_valid_input_or_self(self,\n",
    "        features_valid: pd.DataFrame = [],\n",
    "        target_valid: pd.DataFrame = []\n",
    "    ) -> pd.DataFrame, pd.DataFrame:\n",
    "        Проверяет были ли ли переданы новые данные для предсказания\n",
    "\n",
    "    standartize_data(self, features):\n",
    "        Стандартизирует и возвращает данные внутри класса для работы модели\n",
    "\n",
    "    \"\"\"\n",
    "    def __init__(\n",
    "        self,\n",
    "        features: pd.DataFrame,\n",
    "        target: pd.DataFrame,\n",
    "        features_valid: pd.DataFrame = [],\n",
    "        target_valid: pd.DataFrame = [],\n",
    "    ) -> None:\n",
    "        \n",
    "        import pandas as pd\n",
    "        self.name_model = ''\n",
    "        self.features = self.standartize_data(features)\n",
    "        self.target = target\n",
    "        if len(features_valid) > 0:\n",
    "            self.features_valid = self.standartize_data(features_valid)\n",
    "        else:\n",
    "            self.features_valid  = features_valid\n",
    "        self.target_valid = target_valid\n",
    "        self.flag_fit_model = False\n",
    "\n",
    "    def fit_line_regress(self) -> None:\n",
    "        \"\"\"\n",
    "        Обучение модели по данным предаставленным при создании класса:\n",
    "            features\n",
    "            target\n",
    "        \"\"\"\n",
    "        from sklearn.linear_model import LinearRegression\n",
    "        self.reg = LinearRegression()\n",
    "        self.reg.fit(self.features, self.target)\n",
    "        self.flag_fit_model = True\n",
    "\n",
    "    def get_model(self) -> LinearRegression:\n",
    "        \"\"\"\n",
    "        Возвращает обученную модель на данных полученных \n",
    "        при создании экземпляра класса\n",
    "            features\n",
    "            target\n",
    "        \"\"\"\n",
    "        if not self.flag_fit_model:\n",
    "            self.fit_line_regress()\n",
    "        return self.reg\n",
    "\n",
    "    def predict_line_regression(\n",
    "        self,\n",
    "        features_valid: pd.DataFrame = []\n",
    "    ) -> list:\n",
    "        \"\"\"\n",
    "        Возвращает предсказания по полученным данным:\n",
    "            features_valid\n",
    "        \"\"\"\n",
    "        \n",
    "        features, target = self.data_valid_input_or_self(\n",
    "            features_valid, [1]\n",
    "        )\n",
    "        if not self.flag_fit_model:\n",
    "            self.fit_line_regress()\n",
    "        y_pred = self.reg.predict(features)\n",
    "        return y_pred\n",
    "\n",
    "    def get_coef_model(self) -> dict:\n",
    "        \"\"\"\n",
    "        Возвращает словарь с коэффициентами уравнения регресси\n",
    "        \"\"\"\n",
    "        if not self.flag_fit_model:\n",
    "                self.fit_line_regress()\n",
    "                \n",
    "        res_dict = {\n",
    "            \"intercept\": self.reg.intercept_[0]\n",
    "        }\n",
    "        list_coef = [elem for sublist in self.reg.coef_ for elem in sublist] \n",
    "        for i in range(len(list_coef)):\n",
    "            res_dict[self.features.columns[i]] = list_coef[i]\n",
    "        return res_dict\n",
    "\n",
    "    def model_estimates(\n",
    "        self,\n",
    "        y_true: pd.DataFrame,\n",
    "        y_pred: pd.DataFrame\n",
    "    ) -> dict:\n",
    "        \"\"\"\n",
    "        Возращает словарь оценок модели:\n",
    "            MSE\n",
    "            RMSE\n",
    "            R2\n",
    "            MAE\n",
    "        \"\"\"\n",
    "        from sklearn.metrics import (\n",
    "            mean_squared_error,\n",
    "            mean_absolute_percentage_error,\n",
    "            r2_score,\n",
    "            mean_absolute_error\n",
    "        )\n",
    "        mse = mean_squared_error(y_true=y_true, y_pred=y_pred, squared=True)\n",
    "        rmse = mean_squared_error(y_true=y_true, y_pred=y_pred, squared=False)\n",
    "        r_2 = r2_score(y_true=y_true, y_pred=y_pred)\n",
    "        mae = mean_absolute_error(y_true=y_true, y_pred=y_pred)\n",
    "        return {\n",
    "            \"MSE\": mse,\n",
    "            \"RMSE\": rmse,\n",
    "            \"R2\": r_2,\n",
    "            \"MAE\": mae,\n",
    "        }\n",
    "\n",
    "    def prediction_evaluation(\n",
    "        self,\n",
    "        features_valid: pd.DataFrame = [],\n",
    "        target_valid: pd.DataFrame = []\n",
    "    ) -> dict:\n",
    "        \"\"\"\n",
    "        Предсказывает целевые значения по полученным данным\n",
    "        Возвращает словарь с оценками модели по  данным:\n",
    "            features_valid\n",
    "            target_valid\n",
    "        \"\"\"\n",
    "        features, target = self.data_valid_input_or_self(features_valid, target_valid)\n",
    "        if not self.flag_fit_model:\n",
    "            self.fit_line_regress()\n",
    "        y_pred = self.reg.predict(features)\n",
    "        y_true = target\n",
    "        return self.model_estimates(y_true, y_pred)\n",
    "\n",
    "    \n",
    "    def data_valid_input_or_self(\n",
    "        self,\n",
    "        features_valid: pd.DataFrame = [],\n",
    "        target_valid: pd.DataFrame = []\n",
    "    ):\n",
    "        \"\"\"\n",
    "        Проверяет были ли переданы новые данные для предсказания:\n",
    "            если да, возвращает новые данные, предварительно стандартизируя,\n",
    "            если нет, возвращает данные хранящиеся в классе,\n",
    "            если и те и другие пустые, выкидывает ошибку.\n",
    "        \"\"\"\n",
    "        if (\n",
    "            len(features_valid) != 0 and\n",
    "            len(target_valid) != 0\n",
    "        ):\n",
    "            features_valid = self.standartize_data(features_valid)\n",
    "            return features_valid, target_valid\n",
    "\n",
    "        elif (\n",
    "            len(self.features_valid) != 0 and\n",
    "            len(self.target_valid) != 0\n",
    "        ):\n",
    "            return self.features_valid, self.target_valid\n",
    "        \n",
    "        else:\n",
    "            raise Exception('Предоставьте данные для предсказания.')\n",
    "\n",
    "    def standartize_data(self, features: pd.DataFrame) -> pd.DataFrame:\n",
    "        \"\"\"\n",
    "        Стандартизирует данные внутри класса и возвращает стандартизированные данные.\n",
    "        \"\"\"\n",
    "        from sklearn.preprocessing import (\n",
    "            StandardScaler\n",
    "        )\n",
    "        columns = features.columns\n",
    "        data = StandardScaler().fit_transform(features)\n",
    "        return pd.DataFrame(data=data, columns=columns)\n"
   ]
  },
  {
   "cell_type": "code",
   "execution_count": 7,
   "metadata": {},
   "outputs": [],
   "source": [
    "features = pd.DataFrame(\n",
    "    [[76.6, 118.6, 200.8, 362.3, 648.9],\n",
    "    [17.6, 128.6, 2550.8, 391.3, 613.9],\n",
    "     [76.6, 118.6, 200.8, 362.3, 648.9],\n",
    "    [17.6, 128.6, 2550.8, 391.3, 613.9],\n",
    "    [17.6, 128.6, 2550.8, 391.3, 613.9]])\n",
    "target = pd.DataFrame([10, 20, 40, 80, 160])\n",
    "features_valid = pd.DataFrame(\n",
    "    [[76.6, 118.6, 200.8, 362.3, 648.9],\n",
    "    [77.6, 168.6, 270.8, 392.3, 678.9],\n",
    "    [77.6, 168.6, 270.8, 392.3, 678.9],\n",
    "    [77.6, 168.6, 270.8, 392.3, 678.9],\n",
    "    [17.6, 128.6, 2550.8, 391.3, 613.9]])\n",
    "target_valid = pd.DataFrame([10, 20, 40, 80, 160])"
   ]
  },
  {
   "cell_type": "code",
   "execution_count": 8,
   "metadata": {},
   "outputs": [],
   "source": [
    "dl = LinearRegressionData(\n",
    "    features,\n",
    "    target,\n",
    "    features_valid,\n",
    "    target_valid\n",
    ")"
   ]
  },
  {
   "cell_type": "code",
   "execution_count": 9,
   "metadata": {},
   "outputs": [
    {
     "data": {
      "text/plain": [
       "{'MSE': 1507.4191523745637,\n",
       " 'RMSE': 38.825496163919965,\n",
       " 'R2': 0.4934747471859665,\n",
       " 'MAE': 34.718493927941964}"
      ]
     },
     "execution_count": 9,
     "metadata": {},
     "output_type": "execute_result"
    }
   ],
   "source": [
    "dl.prediction_evaluation(features_valid, target_valid)"
   ]
  },
  {
   "cell_type": "code",
   "execution_count": 10,
   "metadata": {},
   "outputs": [
    {
     "data": {
      "text/plain": [
       "array([[37.62419223],\n",
       "       [59.58602129],\n",
       "       [59.58602129],\n",
       "       [59.58602129],\n",
       "       [93.61774389]])"
      ]
     },
     "execution_count": 10,
     "metadata": {},
     "output_type": "execute_result"
    }
   ],
   "source": [
    "dl.predict_line_regression(features_valid)"
   ]
  },
  {
   "cell_type": "code",
   "execution_count": 11,
   "metadata": {},
   "outputs": [
    {
     "data": {
      "text/plain": [
       "array([[37.62419223],\n",
       "       [59.58602129],\n",
       "       [59.58602129],\n",
       "       [59.58602129],\n",
       "       [93.61774389]])"
      ]
     },
     "execution_count": 11,
     "metadata": {},
     "output_type": "execute_result"
    }
   ],
   "source": [
    "dl.predict_line_regression()"
   ]
  },
  {
   "cell_type": "code",
   "execution_count": 12,
   "metadata": {},
   "outputs": [
    {
     "data": {
      "text/plain": [
       "{'intercept': 61.99999999999999,\n",
       " 0: -6.0420746988651715,\n",
       " 1: 6.042074698865175,\n",
       " 2: 6.042074698865173,\n",
       " 3: 6.042074698865174,\n",
       " 4: -6.042074698865173}"
      ]
     },
     "execution_count": 12,
     "metadata": {},
     "output_type": "execute_result"
    }
   ],
   "source": [
    "dl.get_coef_model()\n"
   ]
  },
  {
   "cell_type": "markdown",
   "metadata": {},
   "source": [
    "### Расчёт прибыли по выбранным мместорождениям"
   ]
  },
  {
   "cell_type": "code",
   "execution_count": 13,
   "metadata": {},
   "outputs": [],
   "source": [
    "def cacl_profit_wells(\n",
    "    data: pd.Series,\n",
    "    budget: float = 10_000_000_000, \n",
    "    revenue_per_unit_product: float = 450_000\n",
    ") -> float:\n",
    "    \"\"\"\n",
    "    Возращает суммарную прибыль по переданному списку месторождений\n",
    "    ----------\n",
    "    Параметры:\n",
    "        data: pd.Series - Данные по продукции\n",
    "        budget: float = 10_000_000_000 - Бюджет на разработку месторождений\n",
    "        revenue_per_unit_product: float = 450 000 - Стоимость \n",
    "            единицы, указанной в столбце в data\n",
    "    Возращается:\n",
    "        sum_profit: float - Суммарная прибыль\n",
    "    \"\"\"\n",
    "    data = pd.Series(data)\n",
    "    income = data * revenue_per_unit_product\n",
    "    profit = income.sum() - budget\n",
    "    return profit\n"
   ]
  },
  {
   "cell_type": "code",
   "execution_count": 14,
   "metadata": {},
   "outputs": [
    {
     "data": {
      "text/plain": [
       "-1000000000"
      ]
     },
     "execution_count": 14,
     "metadata": {},
     "output_type": "execute_result"
    }
   ],
   "source": [
    "test = [100 for x in range(200)]\n",
    "cacl_profit_wells(test)"
   ]
  },
  {
   "cell_type": "code",
   "execution_count": 15,
   "metadata": {},
   "outputs": [],
   "source": [
    "test = [111 for x in range(200)]"
   ]
  },
  {
   "cell_type": "code",
   "execution_count": 16,
   "metadata": {},
   "outputs": [
    {
     "data": {
      "text/plain": [
       "-10000000"
      ]
     },
     "execution_count": 16,
     "metadata": {},
     "output_type": "execute_result"
    }
   ],
   "source": [
    "cacl_profit_wells(test)"
   ]
  },
  {
   "cell_type": "code",
   "execution_count": 17,
   "metadata": {},
   "outputs": [
    {
     "data": {
      "text/plain": [
       "0.0"
      ]
     },
     "execution_count": 17,
     "metadata": {},
     "output_type": "execute_result"
    }
   ],
   "source": [
    "test = [111.11111111111111 for x in range(200)]\n",
    "cacl_profit_wells(test)"
   ]
  },
  {
   "cell_type": "code",
   "execution_count": 18,
   "metadata": {},
   "outputs": [
    {
     "data": {
      "text/plain": [
       "8000000.0"
      ]
     },
     "execution_count": 18,
     "metadata": {},
     "output_type": "execute_result"
    }
   ],
   "source": [
    "test = [111.20 for x in range(200)]\n",
    "cacl_profit_wells(test)"
   ]
  },
  {
   "cell_type": "code",
   "execution_count": 19,
   "metadata": {},
   "outputs": [
    {
     "data": {
      "text/plain": [
       "80000000"
      ]
     },
     "execution_count": 19,
     "metadata": {},
     "output_type": "execute_result"
    }
   ],
   "source": [
    "test = [112 for x in range(200)]\n",
    "cacl_profit_wells(test)"
   ]
  },
  {
   "cell_type": "code",
   "execution_count": 20,
   "metadata": {},
   "outputs": [
    {
     "data": {
      "text/plain": [
       "3500000000"
      ]
     },
     "execution_count": 20,
     "metadata": {},
     "output_type": "execute_result"
    }
   ],
   "source": [
    "test = [150 for x in range(200)]\n",
    "cacl_profit_wells(test)"
   ]
  },
  {
   "cell_type": "markdown",
   "metadata": {},
   "source": [
    "### Bootstrap для региона"
   ]
  },
  {
   "cell_type": "code",
   "execution_count": 21,
   "metadata": {},
   "outputs": [],
   "source": [
    "def bootstrap_for_region(\n",
    "    data_feauters: pd.DataFrame,\n",
    "    true_product: pd.Series,\n",
    "    RG: LinearRegressionData,\n",
    "    budget: int = 10_000_000_000,\n",
    "    start_number_wells: int = 500,\n",
    "    count_bootstrap: int = 1000,\n",
    "    number_best_wells: int = 200, \n",
    ") -> list:\n",
    "    \"\"\"\n",
    "    Возращает список с прибылью по заданному количеству подвыборок.\n",
    "    \n",
    "    Проводит мжножество случайных отборов из предсказанных значений.\n",
    "    Лучшие из отобранных отдает на предсказание  добычи.\n",
    "    Предсказанное количество добытого сырья передается на рассчёт прибыли. \n",
    "    Прибыль по группе складывает в список. Приводит значения к млн. руб.\n",
    "    Список возращает как результат.\n",
    "    ----------\n",
    "    Параметры:\n",
    "        predict: pd.DataFrame - Признаки для предсказания добычи сырья.\n",
    "        true_product: pd.Series - Реально добытое количество нефти.\n",
    "        budget: int = 10_000_000_000 - Бюджет на разработку.\n",
    "        start_number_wells: int = 500 - Начальный объём выборки \n",
    "            до отбора лучших.\n",
    "        count_bootstrap: int = 1000 - Количество повторений.\n",
    "        number_best_wells: int = 200 - Объём выборки лучших из \n",
    "            случайно выборки.\n",
    "    Возращается:\n",
    "        list_reg_profit: pd.Series - Список сумм прибыли по \n",
    "            выбокам полученным в ходе bootstrap в млн. руб.\n",
    "    \"\"\"\n",
    "    \n",
    "    list_reg_profit = []\n",
    "    random_state_for_bootrstrap = np.random.RandomState(12345)\n",
    "    data_feauters = data_feauters.reset_index(drop=True)\n",
    "    true_product = true_product.reset_index(drop=True)\n",
    "\n",
    "    for _ in tqdm(range(count_bootstrap)):\n",
    "        \n",
    "        temp = data_feauters.sample(\n",
    "            n=start_number_wells,\n",
    "            replace=True,\n",
    "            random_state=random_state_for_bootrstrap\n",
    "        )\n",
    "        predict = pd.Series(\n",
    "            RG.predict_line_regression(temp)\n",
    "        )\n",
    "        predict.index = temp.index\n",
    "        predict = predict.sort_values(ascending=False)\n",
    "        predict = predict.head(number_best_wells)\n",
    "        \n",
    "        best_true_product = true_product[predict.index]\n",
    "        profit = cacl_profit_wells(best_true_product, budget)\n",
    "        list_reg_profit.append(profit)\n",
    "\n",
    "    return pd.Series(list_reg_profit) / 1_000_000"
   ]
  },
  {
   "cell_type": "markdown",
   "metadata": {},
   "source": [
    "### Загрузка данных в датасет"
   ]
  },
  {
   "cell_type": "code",
   "execution_count": 22,
   "metadata": {},
   "outputs": [],
   "source": [
    "def data_input_dataset(\n",
    "    df: pd.DataFrame,\n",
    "    number_region: int,\n",
    "    list_reg_profit: list,\n",
    "    min_conf_interval: float,\n",
    "    max_conf_interval: float,\n",
    "    BOOTSTRAP: float = 1000\n",
    ") -> pd.DataFrame:\n",
    "    \"\"\"\n",
    "    Вставляет данные по доверительному интервалу, среднему и \n",
    "    проценте убыточных итераций в дастасет.\n",
    "    ----------\n",
    "    Параметры:\n",
    "        df: pd.DataFrame - Датасет, для вставки данных.\n",
    "        number_region: int - Номер региона.\n",
    "        list_reg_profit: list - Данные по распределнию прибыли.\n",
    "        min_conf_interval: float - Нижний уровень дов. интервала\n",
    "        max_conf_interval: float - Верхний уровень дов. интервала.\n",
    "        BOOTSTRAP: float = 1000 - Количество итераций.\n",
    "    Возращается:\n",
    "        df: pd.DataFrame - Дополненый датасет.\n",
    "    \"\"\"\n",
    "    df.loc[\n",
    "        \"reg_\"+str(number_region), 'profit_' + str(min_conf_interval)\n",
    "    ] = list_reg_profit.quantile(min_conf_interval) \n",
    "\n",
    "    df.loc[\n",
    "        \"reg_\"+str(number_region), 'profit_' + str(max_conf_interval)\n",
    "    ] = list_reg_profit.quantile(max_conf_interval)\n",
    "    \n",
    "    df.loc[\n",
    "        \"reg_\"+str(number_region), 'mean_profit'\n",
    "    ] = list_reg_profit.mean()\n",
    "    \n",
    "    df.loc[\n",
    "        \"reg_\"+str(number_region), 'percentage_losses'\n",
    "    ] = (\n",
    "        ((list_reg_profit<0).sum() / BOOTSTRAP) * 100\n",
    "    )\n",
    "    \n",
    "    return df"
   ]
  },
  {
   "cell_type": "markdown",
   "metadata": {},
   "source": [
    "### Выделение значений в датасете"
   ]
  },
  {
   "cell_type": "code",
   "execution_count": 23,
   "metadata": {},
   "outputs": [],
   "source": [
    "def allocation_target_region(series: pd.Series, col: str, threshold: float) -> str:\n",
    "    \"\"\"\n",
    "    Возращает датасет с окрашенными строками. \n",
    "    Если в значении столбца col больше threshold - красный цвет.\n",
    "    Если в значении столбца col меньше threshold - зеленый цвет.\n",
    "    ----------\n",
    "    Параметры:\n",
    "        series: pd.Series - Строка датасета.\n",
    "        col: str - Название ключевого столбца.\n",
    "        threshold: float - Пороговый уровень разделения.\n",
    "    Возращается:\n",
    "        str - CSS строки.\n",
    "    \"\"\"\n",
    "    if series[col] > threshold:\n",
    "        return ['background-color: red']*len(series)\n",
    "    else:\n",
    "        return ['background-color: green']*len(series)\n"
   ]
  },
  {
   "cell_type": "code",
   "execution_count": 24,
   "metadata": {},
   "outputs": [],
   "source": [
    "test = pd.DataFrame(\n",
    "    data = [\n",
    "        [150,20000],\n",
    "        [1121,200],\n",
    "        [11,21],\n",
    "        [12,45],\n",
    "        [1333,2],\n",
    "        [100,50],\n",
    "    ],\n",
    "    columns=['target', 'predict']\n",
    ")"
   ]
  },
  {
   "cell_type": "code",
   "execution_count": 25,
   "metadata": {},
   "outputs": [
    {
     "data": {
      "text/html": [
       "<style  type=\"text/css\" >\n",
       "#T_b4f15_row0_col0,#T_b4f15_row0_col1,#T_b4f15_row1_col0,#T_b4f15_row1_col1{\n",
       "            background-color:  red;\n",
       "        }#T_b4f15_row2_col0,#T_b4f15_row2_col1,#T_b4f15_row3_col0,#T_b4f15_row3_col1,#T_b4f15_row4_col0,#T_b4f15_row4_col1,#T_b4f15_row5_col0,#T_b4f15_row5_col1{\n",
       "            background-color:  green;\n",
       "        }</style><table id=\"T_b4f15_\" ><thead>    <tr>        <th class=\"blank level0\" ></th>        <th class=\"col_heading level0 col0\" >target</th>        <th class=\"col_heading level0 col1\" >predict</th>    </tr></thead><tbody>\n",
       "                <tr>\n",
       "                        <th id=\"T_b4f15_level0_row0\" class=\"row_heading level0 row0\" >0</th>\n",
       "                        <td id=\"T_b4f15_row0_col0\" class=\"data row0 col0\" >150</td>\n",
       "                        <td id=\"T_b4f15_row0_col1\" class=\"data row0 col1\" >20000</td>\n",
       "            </tr>\n",
       "            <tr>\n",
       "                        <th id=\"T_b4f15_level0_row1\" class=\"row_heading level0 row1\" >1</th>\n",
       "                        <td id=\"T_b4f15_row1_col0\" class=\"data row1 col0\" >1121</td>\n",
       "                        <td id=\"T_b4f15_row1_col1\" class=\"data row1 col1\" >200</td>\n",
       "            </tr>\n",
       "            <tr>\n",
       "                        <th id=\"T_b4f15_level0_row2\" class=\"row_heading level0 row2\" >2</th>\n",
       "                        <td id=\"T_b4f15_row2_col0\" class=\"data row2 col0\" >11</td>\n",
       "                        <td id=\"T_b4f15_row2_col1\" class=\"data row2 col1\" >21</td>\n",
       "            </tr>\n",
       "            <tr>\n",
       "                        <th id=\"T_b4f15_level0_row3\" class=\"row_heading level0 row3\" >3</th>\n",
       "                        <td id=\"T_b4f15_row3_col0\" class=\"data row3 col0\" >12</td>\n",
       "                        <td id=\"T_b4f15_row3_col1\" class=\"data row3 col1\" >45</td>\n",
       "            </tr>\n",
       "            <tr>\n",
       "                        <th id=\"T_b4f15_level0_row4\" class=\"row_heading level0 row4\" >4</th>\n",
       "                        <td id=\"T_b4f15_row4_col0\" class=\"data row4 col0\" >1333</td>\n",
       "                        <td id=\"T_b4f15_row4_col1\" class=\"data row4 col1\" >2</td>\n",
       "            </tr>\n",
       "            <tr>\n",
       "                        <th id=\"T_b4f15_level0_row5\" class=\"row_heading level0 row5\" >5</th>\n",
       "                        <td id=\"T_b4f15_row5_col0\" class=\"data row5 col0\" >100</td>\n",
       "                        <td id=\"T_b4f15_row5_col1\" class=\"data row5 col1\" >50</td>\n",
       "            </tr>\n",
       "    </tbody></table>"
      ],
      "text/plain": [
       "<pandas.io.formats.style.Styler at 0x7f29acb50610>"
      ]
     },
     "execution_count": 25,
     "metadata": {},
     "output_type": "execute_result"
    }
   ],
   "source": [
    "test.style.apply(allocation_target_region, col='predict', threshold=50, axis=1)"
   ]
  },
  {
   "cell_type": "markdown",
   "metadata": {},
   "source": [
    "## Загрузка и подготовка данных"
   ]
  },
  {
   "cell_type": "markdown",
   "metadata": {},
   "source": [
    "### Первое месторождение "
   ]
  },
  {
   "cell_type": "code",
   "execution_count": 26,
   "metadata": {},
   "outputs": [],
   "source": [
    "reg_1 = pd.read_csv(\"/datasets/geo_data_0.csv\")"
   ]
  },
  {
   "cell_type": "code",
   "execution_count": 27,
   "metadata": {
    "scrolled": false
   },
   "outputs": [
    {
     "name": "stdout",
     "output_type": "stream",
     "text": [
      "Датасет\n"
     ]
    },
    {
     "data": {
      "text/html": [
       "<div>\n",
       "<style scoped>\n",
       "    .dataframe tbody tr th:only-of-type {\n",
       "        vertical-align: middle;\n",
       "    }\n",
       "\n",
       "    .dataframe tbody tr th {\n",
       "        vertical-align: top;\n",
       "    }\n",
       "\n",
       "    .dataframe thead th {\n",
       "        text-align: right;\n",
       "    }\n",
       "</style>\n",
       "<table border=\"1\" class=\"dataframe\">\n",
       "  <thead>\n",
       "    <tr style=\"text-align: right;\">\n",
       "      <th></th>\n",
       "      <th>id</th>\n",
       "      <th>f0</th>\n",
       "      <th>f1</th>\n",
       "      <th>f2</th>\n",
       "      <th>product</th>\n",
       "    </tr>\n",
       "  </thead>\n",
       "  <tbody>\n",
       "    <tr>\n",
       "      <th>0</th>\n",
       "      <td>txEyH</td>\n",
       "      <td>0.705745</td>\n",
       "      <td>-0.497823</td>\n",
       "      <td>1.221170</td>\n",
       "      <td>105.280062</td>\n",
       "    </tr>\n",
       "    <tr>\n",
       "      <th>1</th>\n",
       "      <td>2acmU</td>\n",
       "      <td>1.334711</td>\n",
       "      <td>-0.340164</td>\n",
       "      <td>4.365080</td>\n",
       "      <td>73.037750</td>\n",
       "    </tr>\n",
       "    <tr>\n",
       "      <th>2</th>\n",
       "      <td>409Wp</td>\n",
       "      <td>1.022732</td>\n",
       "      <td>0.151990</td>\n",
       "      <td>1.419926</td>\n",
       "      <td>85.265647</td>\n",
       "    </tr>\n",
       "    <tr>\n",
       "      <th>3</th>\n",
       "      <td>iJLyR</td>\n",
       "      <td>-0.032172</td>\n",
       "      <td>0.139033</td>\n",
       "      <td>2.978566</td>\n",
       "      <td>168.620776</td>\n",
       "    </tr>\n",
       "    <tr>\n",
       "      <th>4</th>\n",
       "      <td>Xdl7t</td>\n",
       "      <td>1.988431</td>\n",
       "      <td>0.155413</td>\n",
       "      <td>4.751769</td>\n",
       "      <td>154.036647</td>\n",
       "    </tr>\n",
       "  </tbody>\n",
       "</table>\n",
       "</div>"
      ],
      "text/plain": [
       "      id        f0        f1        f2     product\n",
       "0  txEyH  0.705745 -0.497823  1.221170  105.280062\n",
       "1  2acmU  1.334711 -0.340164  4.365080   73.037750\n",
       "2  409Wp  1.022732  0.151990  1.419926   85.265647\n",
       "3  iJLyR -0.032172  0.139033  2.978566  168.620776\n",
       "4  Xdl7t  1.988431  0.155413  4.751769  154.036647"
      ]
     },
     "metadata": {},
     "output_type": "display_data"
    },
    {
     "name": "stdout",
     "output_type": "stream",
     "text": [
      "\n",
      " Информация о датасете\n",
      "<class 'pandas.core.frame.DataFrame'>\n",
      "RangeIndex: 100000 entries, 0 to 99999\n",
      "Data columns (total 5 columns):\n",
      " #   Column   Non-Null Count   Dtype  \n",
      "---  ------   --------------   -----  \n",
      " 0   id       100000 non-null  object \n",
      " 1   f0       100000 non-null  float64\n",
      " 2   f1       100000 non-null  float64\n",
      " 3   f2       100000 non-null  float64\n",
      " 4   product  100000 non-null  float64\n",
      "dtypes: float64(4), object(1)\n",
      "memory usage: 3.8+ MB\n"
     ]
    },
    {
     "data": {
      "text/plain": [
       "None"
      ]
     },
     "metadata": {},
     "output_type": "display_data"
    },
    {
     "name": "stdout",
     "output_type": "stream",
     "text": [
      "\n",
      " Описательная статитика\n"
     ]
    },
    {
     "data": {
      "text/html": [
       "<div>\n",
       "<style scoped>\n",
       "    .dataframe tbody tr th:only-of-type {\n",
       "        vertical-align: middle;\n",
       "    }\n",
       "\n",
       "    .dataframe tbody tr th {\n",
       "        vertical-align: top;\n",
       "    }\n",
       "\n",
       "    .dataframe thead th {\n",
       "        text-align: right;\n",
       "    }\n",
       "</style>\n",
       "<table border=\"1\" class=\"dataframe\">\n",
       "  <thead>\n",
       "    <tr style=\"text-align: right;\">\n",
       "      <th></th>\n",
       "      <th>f0</th>\n",
       "      <th>f1</th>\n",
       "      <th>f2</th>\n",
       "      <th>product</th>\n",
       "    </tr>\n",
       "  </thead>\n",
       "  <tbody>\n",
       "    <tr>\n",
       "      <th>count</th>\n",
       "      <td>100000.000000</td>\n",
       "      <td>100000.000000</td>\n",
       "      <td>100000.000000</td>\n",
       "      <td>100000.000000</td>\n",
       "    </tr>\n",
       "    <tr>\n",
       "      <th>mean</th>\n",
       "      <td>0.500419</td>\n",
       "      <td>0.250143</td>\n",
       "      <td>2.502647</td>\n",
       "      <td>92.500000</td>\n",
       "    </tr>\n",
       "    <tr>\n",
       "      <th>std</th>\n",
       "      <td>0.871832</td>\n",
       "      <td>0.504433</td>\n",
       "      <td>3.248248</td>\n",
       "      <td>44.288691</td>\n",
       "    </tr>\n",
       "    <tr>\n",
       "      <th>min</th>\n",
       "      <td>-1.408605</td>\n",
       "      <td>-0.848218</td>\n",
       "      <td>-12.088328</td>\n",
       "      <td>0.000000</td>\n",
       "    </tr>\n",
       "    <tr>\n",
       "      <th>25%</th>\n",
       "      <td>-0.072580</td>\n",
       "      <td>-0.200881</td>\n",
       "      <td>0.287748</td>\n",
       "      <td>56.497507</td>\n",
       "    </tr>\n",
       "    <tr>\n",
       "      <th>50%</th>\n",
       "      <td>0.502360</td>\n",
       "      <td>0.250252</td>\n",
       "      <td>2.515969</td>\n",
       "      <td>91.849972</td>\n",
       "    </tr>\n",
       "    <tr>\n",
       "      <th>75%</th>\n",
       "      <td>1.073581</td>\n",
       "      <td>0.700646</td>\n",
       "      <td>4.715088</td>\n",
       "      <td>128.564089</td>\n",
       "    </tr>\n",
       "    <tr>\n",
       "      <th>max</th>\n",
       "      <td>2.362331</td>\n",
       "      <td>1.343769</td>\n",
       "      <td>16.003790</td>\n",
       "      <td>185.364347</td>\n",
       "    </tr>\n",
       "  </tbody>\n",
       "</table>\n",
       "</div>"
      ],
      "text/plain": [
       "                  f0             f1             f2        product\n",
       "count  100000.000000  100000.000000  100000.000000  100000.000000\n",
       "mean        0.500419       0.250143       2.502647      92.500000\n",
       "std         0.871832       0.504433       3.248248      44.288691\n",
       "min        -1.408605      -0.848218     -12.088328       0.000000\n",
       "25%        -0.072580      -0.200881       0.287748      56.497507\n",
       "50%         0.502360       0.250252       2.515969      91.849972\n",
       "75%         1.073581       0.700646       4.715088     128.564089\n",
       "max         2.362331       1.343769      16.003790     185.364347"
      ]
     },
     "metadata": {},
     "output_type": "display_data"
    },
    {
     "name": "stdout",
     "output_type": "stream",
     "text": [
      "\n",
      " Количество дубликатов\n"
     ]
    },
    {
     "data": {
      "text/plain": [
       "10"
      ]
     },
     "metadata": {},
     "output_type": "display_data"
    },
    {
     "name": "stdout",
     "output_type": "stream",
     "text": [
      "\n",
      " Корреляции признаков\n"
     ]
    },
    {
     "data": {
      "text/html": [
       "<div>\n",
       "<style scoped>\n",
       "    .dataframe tbody tr th:only-of-type {\n",
       "        vertical-align: middle;\n",
       "    }\n",
       "\n",
       "    .dataframe tbody tr th {\n",
       "        vertical-align: top;\n",
       "    }\n",
       "\n",
       "    .dataframe thead th {\n",
       "        text-align: right;\n",
       "    }\n",
       "</style>\n",
       "<table border=\"1\" class=\"dataframe\">\n",
       "  <thead>\n",
       "    <tr style=\"text-align: right;\">\n",
       "      <th></th>\n",
       "      <th>f0</th>\n",
       "      <th>f1</th>\n",
       "      <th>f2</th>\n",
       "      <th>product</th>\n",
       "    </tr>\n",
       "  </thead>\n",
       "  <tbody>\n",
       "    <tr>\n",
       "      <th>f0</th>\n",
       "      <td>1.000000</td>\n",
       "      <td>-0.440723</td>\n",
       "      <td>-0.003153</td>\n",
       "      <td>0.143536</td>\n",
       "    </tr>\n",
       "    <tr>\n",
       "      <th>f1</th>\n",
       "      <td>-0.440723</td>\n",
       "      <td>1.000000</td>\n",
       "      <td>0.001724</td>\n",
       "      <td>-0.192356</td>\n",
       "    </tr>\n",
       "    <tr>\n",
       "      <th>f2</th>\n",
       "      <td>-0.003153</td>\n",
       "      <td>0.001724</td>\n",
       "      <td>1.000000</td>\n",
       "      <td>0.483663</td>\n",
       "    </tr>\n",
       "    <tr>\n",
       "      <th>product</th>\n",
       "      <td>0.143536</td>\n",
       "      <td>-0.192356</td>\n",
       "      <td>0.483663</td>\n",
       "      <td>1.000000</td>\n",
       "    </tr>\n",
       "  </tbody>\n",
       "</table>\n",
       "</div>"
      ],
      "text/plain": [
       "               f0        f1        f2   product\n",
       "f0       1.000000 -0.440723 -0.003153  0.143536\n",
       "f1      -0.440723  1.000000  0.001724 -0.192356\n",
       "f2      -0.003153  0.001724  1.000000  0.483663\n",
       "product  0.143536 -0.192356  0.483663  1.000000"
      ]
     },
     "metadata": {},
     "output_type": "display_data"
    }
   ],
   "source": [
    "about_data(reg_1)"
   ]
  },
  {
   "cell_type": "markdown",
   "metadata": {},
   "source": [
    "Имеется десять потворов, удалим, чтобы избежать ошибок"
   ]
  },
  {
   "cell_type": "code",
   "execution_count": 28,
   "metadata": {},
   "outputs": [],
   "source": [
    "reg_1 = reg_1.drop_duplicates(subset=['id'])"
   ]
  },
  {
   "cell_type": "markdown",
   "metadata": {},
   "source": [
    "Данные полные. Пропусков нет. Название столбцов адекватные. Разброс признаков адекватный. Были повторы - удалены."
   ]
  },
  {
   "cell_type": "markdown",
   "metadata": {},
   "source": [
    "### Второе месторождение "
   ]
  },
  {
   "cell_type": "code",
   "execution_count": 29,
   "metadata": {},
   "outputs": [],
   "source": [
    "reg_2 = pd.read_csv(\"/datasets/geo_data_1.csv\")"
   ]
  },
  {
   "cell_type": "code",
   "execution_count": 30,
   "metadata": {
    "scrolled": false
   },
   "outputs": [
    {
     "name": "stdout",
     "output_type": "stream",
     "text": [
      "Датасет\n"
     ]
    },
    {
     "data": {
      "text/html": [
       "<div>\n",
       "<style scoped>\n",
       "    .dataframe tbody tr th:only-of-type {\n",
       "        vertical-align: middle;\n",
       "    }\n",
       "\n",
       "    .dataframe tbody tr th {\n",
       "        vertical-align: top;\n",
       "    }\n",
       "\n",
       "    .dataframe thead th {\n",
       "        text-align: right;\n",
       "    }\n",
       "</style>\n",
       "<table border=\"1\" class=\"dataframe\">\n",
       "  <thead>\n",
       "    <tr style=\"text-align: right;\">\n",
       "      <th></th>\n",
       "      <th>id</th>\n",
       "      <th>f0</th>\n",
       "      <th>f1</th>\n",
       "      <th>f2</th>\n",
       "      <th>product</th>\n",
       "    </tr>\n",
       "  </thead>\n",
       "  <tbody>\n",
       "    <tr>\n",
       "      <th>0</th>\n",
       "      <td>kBEdx</td>\n",
       "      <td>-15.001348</td>\n",
       "      <td>-8.276000</td>\n",
       "      <td>-0.005876</td>\n",
       "      <td>3.179103</td>\n",
       "    </tr>\n",
       "    <tr>\n",
       "      <th>1</th>\n",
       "      <td>62mP7</td>\n",
       "      <td>14.272088</td>\n",
       "      <td>-3.475083</td>\n",
       "      <td>0.999183</td>\n",
       "      <td>26.953261</td>\n",
       "    </tr>\n",
       "    <tr>\n",
       "      <th>2</th>\n",
       "      <td>vyE1P</td>\n",
       "      <td>6.263187</td>\n",
       "      <td>-5.948386</td>\n",
       "      <td>5.001160</td>\n",
       "      <td>134.766305</td>\n",
       "    </tr>\n",
       "    <tr>\n",
       "      <th>3</th>\n",
       "      <td>KcrkZ</td>\n",
       "      <td>-13.081196</td>\n",
       "      <td>-11.506057</td>\n",
       "      <td>4.999415</td>\n",
       "      <td>137.945408</td>\n",
       "    </tr>\n",
       "    <tr>\n",
       "      <th>4</th>\n",
       "      <td>AHL4O</td>\n",
       "      <td>12.702195</td>\n",
       "      <td>-8.147433</td>\n",
       "      <td>5.004363</td>\n",
       "      <td>134.766305</td>\n",
       "    </tr>\n",
       "  </tbody>\n",
       "</table>\n",
       "</div>"
      ],
      "text/plain": [
       "      id         f0         f1        f2     product\n",
       "0  kBEdx -15.001348  -8.276000 -0.005876    3.179103\n",
       "1  62mP7  14.272088  -3.475083  0.999183   26.953261\n",
       "2  vyE1P   6.263187  -5.948386  5.001160  134.766305\n",
       "3  KcrkZ -13.081196 -11.506057  4.999415  137.945408\n",
       "4  AHL4O  12.702195  -8.147433  5.004363  134.766305"
      ]
     },
     "metadata": {},
     "output_type": "display_data"
    },
    {
     "name": "stdout",
     "output_type": "stream",
     "text": [
      "\n",
      " Информация о датасете\n",
      "<class 'pandas.core.frame.DataFrame'>\n",
      "RangeIndex: 100000 entries, 0 to 99999\n",
      "Data columns (total 5 columns):\n",
      " #   Column   Non-Null Count   Dtype  \n",
      "---  ------   --------------   -----  \n",
      " 0   id       100000 non-null  object \n",
      " 1   f0       100000 non-null  float64\n",
      " 2   f1       100000 non-null  float64\n",
      " 3   f2       100000 non-null  float64\n",
      " 4   product  100000 non-null  float64\n",
      "dtypes: float64(4), object(1)\n",
      "memory usage: 3.8+ MB\n"
     ]
    },
    {
     "data": {
      "text/plain": [
       "None"
      ]
     },
     "metadata": {},
     "output_type": "display_data"
    },
    {
     "name": "stdout",
     "output_type": "stream",
     "text": [
      "\n",
      " Описательная статитика\n"
     ]
    },
    {
     "data": {
      "text/html": [
       "<div>\n",
       "<style scoped>\n",
       "    .dataframe tbody tr th:only-of-type {\n",
       "        vertical-align: middle;\n",
       "    }\n",
       "\n",
       "    .dataframe tbody tr th {\n",
       "        vertical-align: top;\n",
       "    }\n",
       "\n",
       "    .dataframe thead th {\n",
       "        text-align: right;\n",
       "    }\n",
       "</style>\n",
       "<table border=\"1\" class=\"dataframe\">\n",
       "  <thead>\n",
       "    <tr style=\"text-align: right;\">\n",
       "      <th></th>\n",
       "      <th>f0</th>\n",
       "      <th>f1</th>\n",
       "      <th>f2</th>\n",
       "      <th>product</th>\n",
       "    </tr>\n",
       "  </thead>\n",
       "  <tbody>\n",
       "    <tr>\n",
       "      <th>count</th>\n",
       "      <td>100000.000000</td>\n",
       "      <td>100000.000000</td>\n",
       "      <td>100000.000000</td>\n",
       "      <td>100000.000000</td>\n",
       "    </tr>\n",
       "    <tr>\n",
       "      <th>mean</th>\n",
       "      <td>1.141296</td>\n",
       "      <td>-4.796579</td>\n",
       "      <td>2.494541</td>\n",
       "      <td>68.825000</td>\n",
       "    </tr>\n",
       "    <tr>\n",
       "      <th>std</th>\n",
       "      <td>8.965932</td>\n",
       "      <td>5.119872</td>\n",
       "      <td>1.703572</td>\n",
       "      <td>45.944423</td>\n",
       "    </tr>\n",
       "    <tr>\n",
       "      <th>min</th>\n",
       "      <td>-31.609576</td>\n",
       "      <td>-26.358598</td>\n",
       "      <td>-0.018144</td>\n",
       "      <td>0.000000</td>\n",
       "    </tr>\n",
       "    <tr>\n",
       "      <th>25%</th>\n",
       "      <td>-6.298551</td>\n",
       "      <td>-8.267985</td>\n",
       "      <td>1.000021</td>\n",
       "      <td>26.953261</td>\n",
       "    </tr>\n",
       "    <tr>\n",
       "      <th>50%</th>\n",
       "      <td>1.153055</td>\n",
       "      <td>-4.813172</td>\n",
       "      <td>2.011479</td>\n",
       "      <td>57.085625</td>\n",
       "    </tr>\n",
       "    <tr>\n",
       "      <th>75%</th>\n",
       "      <td>8.621015</td>\n",
       "      <td>-1.332816</td>\n",
       "      <td>3.999904</td>\n",
       "      <td>107.813044</td>\n",
       "    </tr>\n",
       "    <tr>\n",
       "      <th>max</th>\n",
       "      <td>29.421755</td>\n",
       "      <td>18.734063</td>\n",
       "      <td>5.019721</td>\n",
       "      <td>137.945408</td>\n",
       "    </tr>\n",
       "  </tbody>\n",
       "</table>\n",
       "</div>"
      ],
      "text/plain": [
       "                  f0             f1             f2        product\n",
       "count  100000.000000  100000.000000  100000.000000  100000.000000\n",
       "mean        1.141296      -4.796579       2.494541      68.825000\n",
       "std         8.965932       5.119872       1.703572      45.944423\n",
       "min       -31.609576     -26.358598      -0.018144       0.000000\n",
       "25%        -6.298551      -8.267985       1.000021      26.953261\n",
       "50%         1.153055      -4.813172       2.011479      57.085625\n",
       "75%         8.621015      -1.332816       3.999904     107.813044\n",
       "max        29.421755      18.734063       5.019721     137.945408"
      ]
     },
     "metadata": {},
     "output_type": "display_data"
    },
    {
     "name": "stdout",
     "output_type": "stream",
     "text": [
      "\n",
      " Количество дубликатов\n"
     ]
    },
    {
     "data": {
      "text/plain": [
       "4"
      ]
     },
     "metadata": {},
     "output_type": "display_data"
    },
    {
     "name": "stdout",
     "output_type": "stream",
     "text": [
      "\n",
      " Корреляции признаков\n"
     ]
    },
    {
     "data": {
      "text/html": [
       "<div>\n",
       "<style scoped>\n",
       "    .dataframe tbody tr th:only-of-type {\n",
       "        vertical-align: middle;\n",
       "    }\n",
       "\n",
       "    .dataframe tbody tr th {\n",
       "        vertical-align: top;\n",
       "    }\n",
       "\n",
       "    .dataframe thead th {\n",
       "        text-align: right;\n",
       "    }\n",
       "</style>\n",
       "<table border=\"1\" class=\"dataframe\">\n",
       "  <thead>\n",
       "    <tr style=\"text-align: right;\">\n",
       "      <th></th>\n",
       "      <th>f0</th>\n",
       "      <th>f1</th>\n",
       "      <th>f2</th>\n",
       "      <th>product</th>\n",
       "    </tr>\n",
       "  </thead>\n",
       "  <tbody>\n",
       "    <tr>\n",
       "      <th>f0</th>\n",
       "      <td>1.000000</td>\n",
       "      <td>0.182287</td>\n",
       "      <td>-0.001777</td>\n",
       "      <td>-0.030491</td>\n",
       "    </tr>\n",
       "    <tr>\n",
       "      <th>f1</th>\n",
       "      <td>0.182287</td>\n",
       "      <td>1.000000</td>\n",
       "      <td>-0.002595</td>\n",
       "      <td>-0.010155</td>\n",
       "    </tr>\n",
       "    <tr>\n",
       "      <th>f2</th>\n",
       "      <td>-0.001777</td>\n",
       "      <td>-0.002595</td>\n",
       "      <td>1.000000</td>\n",
       "      <td>0.999397</td>\n",
       "    </tr>\n",
       "    <tr>\n",
       "      <th>product</th>\n",
       "      <td>-0.030491</td>\n",
       "      <td>-0.010155</td>\n",
       "      <td>0.999397</td>\n",
       "      <td>1.000000</td>\n",
       "    </tr>\n",
       "  </tbody>\n",
       "</table>\n",
       "</div>"
      ],
      "text/plain": [
       "               f0        f1        f2   product\n",
       "f0       1.000000  0.182287 -0.001777 -0.030491\n",
       "f1       0.182287  1.000000 -0.002595 -0.010155\n",
       "f2      -0.001777 -0.002595  1.000000  0.999397\n",
       "product -0.030491 -0.010155  0.999397  1.000000"
      ]
     },
     "metadata": {},
     "output_type": "display_data"
    }
   ],
   "source": [
    "about_data(reg_2)"
   ]
  },
  {
   "cell_type": "code",
   "execution_count": 31,
   "metadata": {},
   "outputs": [],
   "source": [
    "reg_2 = reg_2.drop_duplicates(subset=['id'])"
   ]
  },
  {
   "cell_type": "markdown",
   "metadata": {},
   "source": [
    "Данные полные. Пропусков нет. Название столбцов адекватные. Разброс признаков адекватный. Были повторы - удалены."
   ]
  },
  {
   "cell_type": "markdown",
   "metadata": {},
   "source": [
    "### Третье месторождение "
   ]
  },
  {
   "cell_type": "code",
   "execution_count": 32,
   "metadata": {},
   "outputs": [],
   "source": [
    "reg_3 = pd.read_csv(\"/datasets/geo_data_2.csv\")"
   ]
  },
  {
   "cell_type": "code",
   "execution_count": 33,
   "metadata": {},
   "outputs": [
    {
     "name": "stdout",
     "output_type": "stream",
     "text": [
      "Датасет\n"
     ]
    },
    {
     "data": {
      "text/html": [
       "<div>\n",
       "<style scoped>\n",
       "    .dataframe tbody tr th:only-of-type {\n",
       "        vertical-align: middle;\n",
       "    }\n",
       "\n",
       "    .dataframe tbody tr th {\n",
       "        vertical-align: top;\n",
       "    }\n",
       "\n",
       "    .dataframe thead th {\n",
       "        text-align: right;\n",
       "    }\n",
       "</style>\n",
       "<table border=\"1\" class=\"dataframe\">\n",
       "  <thead>\n",
       "    <tr style=\"text-align: right;\">\n",
       "      <th></th>\n",
       "      <th>id</th>\n",
       "      <th>f0</th>\n",
       "      <th>f1</th>\n",
       "      <th>f2</th>\n",
       "      <th>product</th>\n",
       "    </tr>\n",
       "  </thead>\n",
       "  <tbody>\n",
       "    <tr>\n",
       "      <th>0</th>\n",
       "      <td>fwXo0</td>\n",
       "      <td>-1.146987</td>\n",
       "      <td>0.963328</td>\n",
       "      <td>-0.828965</td>\n",
       "      <td>27.758673</td>\n",
       "    </tr>\n",
       "    <tr>\n",
       "      <th>1</th>\n",
       "      <td>WJtFt</td>\n",
       "      <td>0.262778</td>\n",
       "      <td>0.269839</td>\n",
       "      <td>-2.530187</td>\n",
       "      <td>56.069697</td>\n",
       "    </tr>\n",
       "    <tr>\n",
       "      <th>2</th>\n",
       "      <td>ovLUW</td>\n",
       "      <td>0.194587</td>\n",
       "      <td>0.289035</td>\n",
       "      <td>-5.586433</td>\n",
       "      <td>62.871910</td>\n",
       "    </tr>\n",
       "    <tr>\n",
       "      <th>3</th>\n",
       "      <td>q6cA6</td>\n",
       "      <td>2.236060</td>\n",
       "      <td>-0.553760</td>\n",
       "      <td>0.930038</td>\n",
       "      <td>114.572842</td>\n",
       "    </tr>\n",
       "    <tr>\n",
       "      <th>4</th>\n",
       "      <td>WPMUX</td>\n",
       "      <td>-0.515993</td>\n",
       "      <td>1.716266</td>\n",
       "      <td>5.899011</td>\n",
       "      <td>149.600746</td>\n",
       "    </tr>\n",
       "  </tbody>\n",
       "</table>\n",
       "</div>"
      ],
      "text/plain": [
       "      id        f0        f1        f2     product\n",
       "0  fwXo0 -1.146987  0.963328 -0.828965   27.758673\n",
       "1  WJtFt  0.262778  0.269839 -2.530187   56.069697\n",
       "2  ovLUW  0.194587  0.289035 -5.586433   62.871910\n",
       "3  q6cA6  2.236060 -0.553760  0.930038  114.572842\n",
       "4  WPMUX -0.515993  1.716266  5.899011  149.600746"
      ]
     },
     "metadata": {},
     "output_type": "display_data"
    },
    {
     "name": "stdout",
     "output_type": "stream",
     "text": [
      "\n",
      " Информация о датасете\n",
      "<class 'pandas.core.frame.DataFrame'>\n",
      "RangeIndex: 100000 entries, 0 to 99999\n",
      "Data columns (total 5 columns):\n",
      " #   Column   Non-Null Count   Dtype  \n",
      "---  ------   --------------   -----  \n",
      " 0   id       100000 non-null  object \n",
      " 1   f0       100000 non-null  float64\n",
      " 2   f1       100000 non-null  float64\n",
      " 3   f2       100000 non-null  float64\n",
      " 4   product  100000 non-null  float64\n",
      "dtypes: float64(4), object(1)\n",
      "memory usage: 3.8+ MB\n"
     ]
    },
    {
     "data": {
      "text/plain": [
       "None"
      ]
     },
     "metadata": {},
     "output_type": "display_data"
    },
    {
     "name": "stdout",
     "output_type": "stream",
     "text": [
      "\n",
      " Описательная статитика\n"
     ]
    },
    {
     "data": {
      "text/html": [
       "<div>\n",
       "<style scoped>\n",
       "    .dataframe tbody tr th:only-of-type {\n",
       "        vertical-align: middle;\n",
       "    }\n",
       "\n",
       "    .dataframe tbody tr th {\n",
       "        vertical-align: top;\n",
       "    }\n",
       "\n",
       "    .dataframe thead th {\n",
       "        text-align: right;\n",
       "    }\n",
       "</style>\n",
       "<table border=\"1\" class=\"dataframe\">\n",
       "  <thead>\n",
       "    <tr style=\"text-align: right;\">\n",
       "      <th></th>\n",
       "      <th>f0</th>\n",
       "      <th>f1</th>\n",
       "      <th>f2</th>\n",
       "      <th>product</th>\n",
       "    </tr>\n",
       "  </thead>\n",
       "  <tbody>\n",
       "    <tr>\n",
       "      <th>count</th>\n",
       "      <td>100000.000000</td>\n",
       "      <td>100000.000000</td>\n",
       "      <td>100000.000000</td>\n",
       "      <td>100000.000000</td>\n",
       "    </tr>\n",
       "    <tr>\n",
       "      <th>mean</th>\n",
       "      <td>0.002023</td>\n",
       "      <td>-0.002081</td>\n",
       "      <td>2.495128</td>\n",
       "      <td>95.000000</td>\n",
       "    </tr>\n",
       "    <tr>\n",
       "      <th>std</th>\n",
       "      <td>1.732045</td>\n",
       "      <td>1.730417</td>\n",
       "      <td>3.473445</td>\n",
       "      <td>44.749921</td>\n",
       "    </tr>\n",
       "    <tr>\n",
       "      <th>min</th>\n",
       "      <td>-8.760004</td>\n",
       "      <td>-7.084020</td>\n",
       "      <td>-11.970335</td>\n",
       "      <td>0.000000</td>\n",
       "    </tr>\n",
       "    <tr>\n",
       "      <th>25%</th>\n",
       "      <td>-1.162288</td>\n",
       "      <td>-1.174820</td>\n",
       "      <td>0.130359</td>\n",
       "      <td>59.450441</td>\n",
       "    </tr>\n",
       "    <tr>\n",
       "      <th>50%</th>\n",
       "      <td>0.009424</td>\n",
       "      <td>-0.009482</td>\n",
       "      <td>2.484236</td>\n",
       "      <td>94.925613</td>\n",
       "    </tr>\n",
       "    <tr>\n",
       "      <th>75%</th>\n",
       "      <td>1.158535</td>\n",
       "      <td>1.163678</td>\n",
       "      <td>4.858794</td>\n",
       "      <td>130.595027</td>\n",
       "    </tr>\n",
       "    <tr>\n",
       "      <th>max</th>\n",
       "      <td>7.238262</td>\n",
       "      <td>7.844801</td>\n",
       "      <td>16.739402</td>\n",
       "      <td>190.029838</td>\n",
       "    </tr>\n",
       "  </tbody>\n",
       "</table>\n",
       "</div>"
      ],
      "text/plain": [
       "                  f0             f1             f2        product\n",
       "count  100000.000000  100000.000000  100000.000000  100000.000000\n",
       "mean        0.002023      -0.002081       2.495128      95.000000\n",
       "std         1.732045       1.730417       3.473445      44.749921\n",
       "min        -8.760004      -7.084020     -11.970335       0.000000\n",
       "25%        -1.162288      -1.174820       0.130359      59.450441\n",
       "50%         0.009424      -0.009482       2.484236      94.925613\n",
       "75%         1.158535       1.163678       4.858794     130.595027\n",
       "max         7.238262       7.844801      16.739402     190.029838"
      ]
     },
     "metadata": {},
     "output_type": "display_data"
    },
    {
     "name": "stdout",
     "output_type": "stream",
     "text": [
      "\n",
      " Количество дубликатов\n"
     ]
    },
    {
     "data": {
      "text/plain": [
       "4"
      ]
     },
     "metadata": {},
     "output_type": "display_data"
    },
    {
     "name": "stdout",
     "output_type": "stream",
     "text": [
      "\n",
      " Корреляции признаков\n"
     ]
    },
    {
     "data": {
      "text/html": [
       "<div>\n",
       "<style scoped>\n",
       "    .dataframe tbody tr th:only-of-type {\n",
       "        vertical-align: middle;\n",
       "    }\n",
       "\n",
       "    .dataframe tbody tr th {\n",
       "        vertical-align: top;\n",
       "    }\n",
       "\n",
       "    .dataframe thead th {\n",
       "        text-align: right;\n",
       "    }\n",
       "</style>\n",
       "<table border=\"1\" class=\"dataframe\">\n",
       "  <thead>\n",
       "    <tr style=\"text-align: right;\">\n",
       "      <th></th>\n",
       "      <th>f0</th>\n",
       "      <th>f1</th>\n",
       "      <th>f2</th>\n",
       "      <th>product</th>\n",
       "    </tr>\n",
       "  </thead>\n",
       "  <tbody>\n",
       "    <tr>\n",
       "      <th>f0</th>\n",
       "      <td>1.000000</td>\n",
       "      <td>0.000528</td>\n",
       "      <td>-0.000448</td>\n",
       "      <td>-0.001987</td>\n",
       "    </tr>\n",
       "    <tr>\n",
       "      <th>f1</th>\n",
       "      <td>0.000528</td>\n",
       "      <td>1.000000</td>\n",
       "      <td>0.000779</td>\n",
       "      <td>-0.001012</td>\n",
       "    </tr>\n",
       "    <tr>\n",
       "      <th>f2</th>\n",
       "      <td>-0.000448</td>\n",
       "      <td>0.000779</td>\n",
       "      <td>1.000000</td>\n",
       "      <td>0.445871</td>\n",
       "    </tr>\n",
       "    <tr>\n",
       "      <th>product</th>\n",
       "      <td>-0.001987</td>\n",
       "      <td>-0.001012</td>\n",
       "      <td>0.445871</td>\n",
       "      <td>1.000000</td>\n",
       "    </tr>\n",
       "  </tbody>\n",
       "</table>\n",
       "</div>"
      ],
      "text/plain": [
       "               f0        f1        f2   product\n",
       "f0       1.000000  0.000528 -0.000448 -0.001987\n",
       "f1       0.000528  1.000000  0.000779 -0.001012\n",
       "f2      -0.000448  0.000779  1.000000  0.445871\n",
       "product -0.001987 -0.001012  0.445871  1.000000"
      ]
     },
     "metadata": {},
     "output_type": "display_data"
    }
   ],
   "source": [
    "about_data(reg_3)"
   ]
  },
  {
   "cell_type": "markdown",
   "metadata": {},
   "source": [
    "Имеется четыре потвора, удалим, чтобы избежать ошибок"
   ]
  },
  {
   "cell_type": "code",
   "execution_count": 34,
   "metadata": {},
   "outputs": [],
   "source": [
    "reg_3 = reg_3.drop_duplicates(subset=['id'])"
   ]
  },
  {
   "cell_type": "markdown",
   "metadata": {},
   "source": [
    "Данные полные. Пропусков нет. Название столбцов адекватные. Разброс признаков адекватный. Были повторы - удалены."
   ]
  },
  {
   "cell_type": "markdown",
   "metadata": {},
   "source": [
    "## Обучение и проверка модели"
   ]
  },
  {
   "cell_type": "markdown",
   "metadata": {},
   "source": [
    "Датасет для сбора метрик моделей"
   ]
  },
  {
   "cell_type": "code",
   "execution_count": 35,
   "metadata": {},
   "outputs": [],
   "source": [
    "evaluation_models_region = pd.DataFrame(\n",
    "    columns=['reg_1', \"reg_2\", \"reg_3\"],\n",
    "    index=[\"MSE\", \"RMSE\", \"R2\", \"MAE\"]\n",
    ")"
   ]
  },
  {
   "cell_type": "markdown",
   "metadata": {},
   "source": [
    "Датасет для средних оценок продуктивности по регионам"
   ]
  },
  {
   "cell_type": "code",
   "execution_count": 36,
   "metadata": {},
   "outputs": [],
   "source": [
    "mean_product_region = pd.DataFrame(\n",
    "    index=['reg_1', \"reg_2\", \"reg_3\"],\n",
    "    columns=[\"predict\", \"true\"]\n",
    ")"
   ]
  },
  {
   "cell_type": "markdown",
   "metadata": {},
   "source": [
    "### Первое месторождение "
   ]
  },
  {
   "cell_type": "markdown",
   "metadata": {},
   "source": [
    "Разделим выборку и обучим модель"
   ]
  },
  {
   "cell_type": "code",
   "execution_count": 37,
   "metadata": {},
   "outputs": [],
   "source": [
    "features_train_1, features_valid_1, train_target_1, target_valid_1 =  train_test_split(\n",
    "    reg_1.drop(['id', 'product'], axis=1),\n",
    "    reg_1['product'],\n",
    "    test_size=0.25,\n",
    "    random_state=RANDOM_STATE\n",
    ")"
   ]
  },
  {
   "cell_type": "code",
   "execution_count": 38,
   "metadata": {},
   "outputs": [
    {
     "name": "stdout",
     "output_type": "stream",
     "text": [
      "Размер обучающей выборки (74992, 3)\n",
      "Размер валидационной выборки (24998, 3)\n"
     ]
    }
   ],
   "source": [
    "print('Размер обучающей выборки', features_train_1.shape)\n",
    "print('Размер валидационной выборки', features_valid_1.shape)"
   ]
  },
  {
   "cell_type": "code",
   "execution_count": 39,
   "metadata": {},
   "outputs": [],
   "source": [
    "RG_region_1 = LinearRegressionData(\n",
    "    features_train_1 , train_target_1, features_valid_1, target_valid_1\n",
    ")"
   ]
  },
  {
   "cell_type": "markdown",
   "metadata": {},
   "source": [
    "Посмотрим на показатели модели"
   ]
  },
  {
   "cell_type": "code",
   "execution_count": 40,
   "metadata": {},
   "outputs": [],
   "source": [
    "evaluation_models_region['reg_1'] = RG_region_1.prediction_evaluation().values()"
   ]
  },
  {
   "cell_type": "code",
   "execution_count": 41,
   "metadata": {
    "scrolled": true
   },
   "outputs": [
    {
     "name": "stdout",
     "output_type": "stream",
     "text": [
      "MSE  : 1420.136\n",
      "RMS  : 37.685\n",
      "R2   : 0.275\n",
      "MAE  : 31.030\n"
     ]
    }
   ],
   "source": [
    "for key, val in RG_region_1.prediction_evaluation().items():\n",
    "    print(f\"{key :<5.3}: {val:<5.3f}\")"
   ]
  },
  {
   "cell_type": "markdown",
   "metadata": {},
   "source": [
    "Показатели указывают на невысокую эффективность модели. Высокий уровень абсолютных ошибок и низкий коэффициент детерминации это подтверждают."
   ]
  },
  {
   "cell_type": "code",
   "execution_count": 42,
   "metadata": {},
   "outputs": [],
   "source": [
    "reg_1_predict = RG_region_1.predict_line_regression()\n",
    "reg_1_traget = target_valid_1"
   ]
  },
  {
   "cell_type": "code",
   "execution_count": 43,
   "metadata": {},
   "outputs": [],
   "source": [
    "mean_product_region.loc['reg_1', 'predict'] = reg_1_predict.mean()\n",
    "mean_product_region.loc['reg_1', 'true'] = reg_1['product'].mean()"
   ]
  },
  {
   "cell_type": "markdown",
   "metadata": {},
   "source": [
    "Предсказанное среднее"
   ]
  },
  {
   "cell_type": "code",
   "execution_count": 44,
   "metadata": {},
   "outputs": [
    {
     "data": {
      "text/plain": [
       "92.53665796438528"
      ]
     },
     "execution_count": 44,
     "metadata": {},
     "output_type": "execute_result"
    }
   ],
   "source": [
    "reg_1_predict.mean()"
   ]
  },
  {
   "cell_type": "markdown",
   "metadata": {},
   "source": [
    "Истринное среднее"
   ]
  },
  {
   "cell_type": "code",
   "execution_count": 45,
   "metadata": {
    "scrolled": true
   },
   "outputs": [
    {
     "data": {
      "text/plain": [
       "92.49968421774354"
      ]
     },
     "execution_count": 45,
     "metadata": {},
     "output_type": "execute_result"
    }
   ],
   "source": [
    "reg_1['product'].mean()"
   ]
  },
  {
   "cell_type": "markdown",
   "metadata": {},
   "source": [
    "Средние близки. Модель справляется с поставленной задачей."
   ]
  },
  {
   "cell_type": "markdown",
   "metadata": {},
   "source": [
    "### Второе месторождение "
   ]
  },
  {
   "cell_type": "markdown",
   "metadata": {},
   "source": [
    "Разделим выборку и обучим модель"
   ]
  },
  {
   "cell_type": "code",
   "execution_count": 46,
   "metadata": {},
   "outputs": [],
   "source": [
    "features_train_2, features_valid_2, train_target_2, target_valid_2 =  train_test_split(\n",
    "    reg_2.drop(['id', 'product'], axis=1),\n",
    "    reg_2['product'],\n",
    "    test_size=0.25,\n",
    "    random_state=RANDOM_STATE\n",
    ")"
   ]
  },
  {
   "cell_type": "code",
   "execution_count": 47,
   "metadata": {},
   "outputs": [
    {
     "name": "stdout",
     "output_type": "stream",
     "text": [
      "Размер обучающей выборки (74997, 3)\n",
      "Размер валидационной выборки (24999, 3)\n"
     ]
    }
   ],
   "source": [
    "print('Размер обучающей выборки', features_train_2.shape)\n",
    "print('Размер валидационной выборки', features_valid_2.shape)"
   ]
  },
  {
   "cell_type": "code",
   "execution_count": 48,
   "metadata": {},
   "outputs": [],
   "source": [
    "RG_region_2 = LinearRegressionData(\n",
    "    features_train_2 , train_target_2, features_valid_2, target_valid_2\n",
    ")"
   ]
  },
  {
   "cell_type": "markdown",
   "metadata": {},
   "source": [
    "Посмотрим на показатели модели"
   ]
  },
  {
   "cell_type": "code",
   "execution_count": 49,
   "metadata": {},
   "outputs": [],
   "source": [
    "evaluation_models_region['reg_2'] = RG_region_2.prediction_evaluation().values()"
   ]
  },
  {
   "cell_type": "code",
   "execution_count": 50,
   "metadata": {
    "scrolled": false
   },
   "outputs": [
    {
     "name": "stdout",
     "output_type": "stream",
     "text": [
      "MSE  : 0.900\n",
      "RMS  : 0.949\n",
      "R2   : 1.000\n",
      "MAE  : 0.763\n"
     ]
    }
   ],
   "source": [
    "for key, val in RG_region_2.prediction_evaluation().items():\n",
    "    print(f\"{key :<5.3}: {val:<5.3f}\")"
   ]
  },
  {
   "cell_type": "markdown",
   "metadata": {},
   "source": [
    "Показатели указывают на высокую эффективность модели. Низкий уровень абсолютных ошибок и высокий коэффициент детерминации это подтверждают."
   ]
  },
  {
   "cell_type": "code",
   "execution_count": 51,
   "metadata": {},
   "outputs": [],
   "source": [
    "reg_2_predict = RG_region_2.predict_line_regression()\n",
    "reg_2_traget = target_valid_2"
   ]
  },
  {
   "cell_type": "code",
   "execution_count": 52,
   "metadata": {},
   "outputs": [],
   "source": [
    "mean_product_region.loc['reg_2', 'predict'] = reg_2_predict.mean()\n",
    "mean_product_region.loc['reg_2', 'true'] = reg_2['product'].mean()"
   ]
  },
  {
   "cell_type": "markdown",
   "metadata": {},
   "source": [
    "Предсказанное среднее"
   ]
  },
  {
   "cell_type": "code",
   "execution_count": 53,
   "metadata": {},
   "outputs": [
    {
     "data": {
      "text/plain": [
       "68.9040159205154"
      ]
     },
     "execution_count": 53,
     "metadata": {},
     "output_type": "execute_result"
    }
   ],
   "source": [
    "reg_2_predict.mean()\n"
   ]
  },
  {
   "cell_type": "markdown",
   "metadata": {},
   "source": [
    "Истринное среднее"
   ]
  },
  {
   "cell_type": "code",
   "execution_count": 54,
   "metadata": {
    "scrolled": false
   },
   "outputs": [
    {
     "data": {
      "text/plain": [
       "68.82391591804064"
      ]
     },
     "execution_count": 54,
     "metadata": {},
     "output_type": "execute_result"
    }
   ],
   "source": [
    "reg_2['product'].mean()"
   ]
  },
  {
   "cell_type": "markdown",
   "metadata": {},
   "source": [
    "Среднии близки. Модель справляется с поставленной задачей."
   ]
  },
  {
   "cell_type": "markdown",
   "metadata": {},
   "source": [
    "### Третье месторождение "
   ]
  },
  {
   "cell_type": "markdown",
   "metadata": {},
   "source": [
    "Разделим выборку и обучим модель"
   ]
  },
  {
   "cell_type": "code",
   "execution_count": 55,
   "metadata": {},
   "outputs": [],
   "source": [
    "features_train_3, features_valid_3, train_target_3, target_valid_3 =  train_test_split(\n",
    "    reg_3.drop(['id', 'product'], axis=1),\n",
    "    reg_3['product'],\n",
    "    test_size=0.25,\n",
    "    random_state=RANDOM_STATE\n",
    ")"
   ]
  },
  {
   "cell_type": "code",
   "execution_count": 56,
   "metadata": {},
   "outputs": [
    {
     "name": "stdout",
     "output_type": "stream",
     "text": [
      "Размер обучающей выборки (74997, 3)\n",
      "Размер валидационной выборки (24999, 3)\n"
     ]
    }
   ],
   "source": [
    "print('Размер обучающей выборки', features_train_3.shape)\n",
    "print('Размер валидационной выборки', features_valid_3.shape)"
   ]
  },
  {
   "cell_type": "code",
   "execution_count": 57,
   "metadata": {},
   "outputs": [],
   "source": [
    "RG_region_3 = LinearRegressionData(\n",
    "    features_train_3 , train_target_3, features_valid_3, target_valid_3\n",
    ")"
   ]
  },
  {
   "cell_type": "markdown",
   "metadata": {},
   "source": [
    "Посмотрим на показатели модели"
   ]
  },
  {
   "cell_type": "code",
   "execution_count": 58,
   "metadata": {},
   "outputs": [],
   "source": [
    "evaluation_models_region['reg_3'] = RG_region_3.prediction_evaluation().values()"
   ]
  },
  {
   "cell_type": "code",
   "execution_count": 59,
   "metadata": {
    "scrolled": false
   },
   "outputs": [
    {
     "name": "stdout",
     "output_type": "stream",
     "text": [
      "MSE  : 1606.559\n",
      "RMS  : 40.082\n",
      "R2   : 0.195\n",
      "MAE  : 32.831\n"
     ]
    }
   ],
   "source": [
    "for key, val in RG_region_3.prediction_evaluation().items():\n",
    "    print(f\"{key :<5.3}: {val:<5.3f}\")"
   ]
  },
  {
   "cell_type": "markdown",
   "metadata": {},
   "source": [
    "Показатели указывают на невысокую эффективность модели. Высокий уровень абсолютных ошибок и низкий коэффициент детерминации это подтверждают."
   ]
  },
  {
   "cell_type": "code",
   "execution_count": 60,
   "metadata": {},
   "outputs": [],
   "source": [
    "reg_3_predict = RG_region_3.predict_line_regression()\n",
    "reg_3_traget = target_valid_3"
   ]
  },
  {
   "cell_type": "code",
   "execution_count": 61,
   "metadata": {},
   "outputs": [],
   "source": [
    "mean_product_region.loc['reg_3', 'predict'] = reg_3_predict.mean()\n",
    "mean_product_region.loc['reg_3', 'true'] = reg_3['product'].mean()"
   ]
  },
  {
   "cell_type": "markdown",
   "metadata": {},
   "source": [
    "Предсказанное среднее"
   ]
  },
  {
   "cell_type": "code",
   "execution_count": 62,
   "metadata": {},
   "outputs": [
    {
     "data": {
      "text/plain": [
       "94.91291058691559"
      ]
     },
     "execution_count": 62,
     "metadata": {},
     "output_type": "execute_result"
    }
   ],
   "source": [
    "reg_3_predict.mean()"
   ]
  },
  {
   "cell_type": "markdown",
   "metadata": {},
   "source": [
    "Истринное среднее"
   ]
  },
  {
   "cell_type": "code",
   "execution_count": 63,
   "metadata": {
    "scrolled": false
   },
   "outputs": [
    {
     "data": {
      "text/plain": [
       "94.99834211933378"
      ]
     },
     "execution_count": 63,
     "metadata": {},
     "output_type": "execute_result"
    }
   ],
   "source": [
    "reg_3['product'].mean()"
   ]
  },
  {
   "cell_type": "markdown",
   "metadata": {},
   "source": [
    "Среднии близки. Модель справляется с поставленной задачей."
   ]
  },
  {
   "cell_type": "markdown",
   "metadata": {},
   "source": [
    "### Общее заключение по моделям"
   ]
  },
  {
   "cell_type": "code",
   "execution_count": 64,
   "metadata": {
    "scrolled": false
   },
   "outputs": [
    {
     "data": {
      "text/html": [
       "<div>\n",
       "<style scoped>\n",
       "    .dataframe tbody tr th:only-of-type {\n",
       "        vertical-align: middle;\n",
       "    }\n",
       "\n",
       "    .dataframe tbody tr th {\n",
       "        vertical-align: top;\n",
       "    }\n",
       "\n",
       "    .dataframe thead th {\n",
       "        text-align: right;\n",
       "    }\n",
       "</style>\n",
       "<table border=\"1\" class=\"dataframe\">\n",
       "  <thead>\n",
       "    <tr style=\"text-align: right;\">\n",
       "      <th></th>\n",
       "      <th>reg_1</th>\n",
       "      <th>reg_2</th>\n",
       "      <th>reg_3</th>\n",
       "    </tr>\n",
       "  </thead>\n",
       "  <tbody>\n",
       "    <tr>\n",
       "      <th>MSE</th>\n",
       "      <td>1420.136401</td>\n",
       "      <td>0.900340</td>\n",
       "      <td>1606.558776</td>\n",
       "    </tr>\n",
       "    <tr>\n",
       "      <th>RMSE</th>\n",
       "      <td>37.684697</td>\n",
       "      <td>0.948863</td>\n",
       "      <td>40.081901</td>\n",
       "    </tr>\n",
       "    <tr>\n",
       "      <th>R2</th>\n",
       "      <td>0.274554</td>\n",
       "      <td>0.999574</td>\n",
       "      <td>0.194803</td>\n",
       "    </tr>\n",
       "    <tr>\n",
       "      <th>MAE</th>\n",
       "      <td>31.030018</td>\n",
       "      <td>0.763273</td>\n",
       "      <td>32.830531</td>\n",
       "    </tr>\n",
       "  </tbody>\n",
       "</table>\n",
       "</div>"
      ],
      "text/plain": [
       "            reg_1     reg_2        reg_3\n",
       "MSE   1420.136401  0.900340  1606.558776\n",
       "RMSE    37.684697  0.948863    40.081901\n",
       "R2       0.274554  0.999574     0.194803\n",
       "MAE     31.030018  0.763273    32.830531"
      ]
     },
     "execution_count": 64,
     "metadata": {},
     "output_type": "execute_result"
    }
   ],
   "source": [
    "evaluation_models_region"
   ]
  },
  {
   "cell_type": "markdown",
   "metadata": {},
   "source": [
    "Наиболее точной моделью является модель обученная на данных второго региона. Модели обученные на данных первого и третьего регионов показывают высокое число ошибок."
   ]
  },
  {
   "cell_type": "code",
   "execution_count": 65,
   "metadata": {
    "scrolled": true
   },
   "outputs": [
    {
     "data": {
      "text/html": [
       "<div>\n",
       "<style scoped>\n",
       "    .dataframe tbody tr th:only-of-type {\n",
       "        vertical-align: middle;\n",
       "    }\n",
       "\n",
       "    .dataframe tbody tr th {\n",
       "        vertical-align: top;\n",
       "    }\n",
       "\n",
       "    .dataframe thead th {\n",
       "        text-align: right;\n",
       "    }\n",
       "</style>\n",
       "<table border=\"1\" class=\"dataframe\">\n",
       "  <thead>\n",
       "    <tr style=\"text-align: right;\">\n",
       "      <th></th>\n",
       "      <th>predict</th>\n",
       "      <th>true</th>\n",
       "    </tr>\n",
       "  </thead>\n",
       "  <tbody>\n",
       "    <tr>\n",
       "      <th>reg_1</th>\n",
       "      <td>92.536658</td>\n",
       "      <td>92.499684</td>\n",
       "    </tr>\n",
       "    <tr>\n",
       "      <th>reg_2</th>\n",
       "      <td>68.904016</td>\n",
       "      <td>68.823916</td>\n",
       "    </tr>\n",
       "    <tr>\n",
       "      <th>reg_3</th>\n",
       "      <td>94.912911</td>\n",
       "      <td>94.998342</td>\n",
       "    </tr>\n",
       "  </tbody>\n",
       "</table>\n",
       "</div>"
      ],
      "text/plain": [
       "         predict       true\n",
       "reg_1  92.536658  92.499684\n",
       "reg_2  68.904016  68.823916\n",
       "reg_3  94.912911  94.998342"
      ]
     },
     "execution_count": 65,
     "metadata": {},
     "output_type": "execute_result"
    }
   ],
   "source": [
    "mean_product_region"
   ]
  },
  {
   "cell_type": "markdown",
   "metadata": {},
   "source": [
    "Средние предсказания продустивности моделей близки к иситинным значениям в регионах. Можно отметить, что наименьшая средняя добыча обнаружена во втором регионе."
   ]
  },
  {
   "cell_type": "markdown",
   "metadata": {},
   "source": [
    "## Подготовка к расчёту прибыли"
   ]
  },
  {
   "cell_type": "markdown",
   "metadata": {},
   "source": [
    "Бюджет на одну скважину"
   ]
  },
  {
   "cell_type": "code",
   "execution_count": 66,
   "metadata": {},
   "outputs": [
    {
     "data": {
      "text/plain": [
       "50000000.0"
      ]
     },
     "execution_count": 66,
     "metadata": {},
     "output_type": "execute_result"
    }
   ],
   "source": [
    "budet_one_well = BUDGET / NUMBER_BEST_WELLS\n",
    "budet_one_well"
   ]
  },
  {
   "cell_type": "markdown",
   "metadata": {},
   "source": [
    "Минимальный объём сырья, для того, чтобы месторождение было безубыточным"
   ]
  },
  {
   "cell_type": "code",
   "execution_count": 67,
   "metadata": {},
   "outputs": [
    {
     "data": {
      "text/plain": [
       "111.11111111111111"
      ]
     },
     "execution_count": 67,
     "metadata": {},
     "output_type": "execute_result"
    }
   ],
   "source": [
    "min_volumes_product = budet_one_well / REVENUE_PER_UNIT_PRODUCT\n",
    "min_volumes_product"
   ]
  },
  {
   "cell_type": "code",
   "execution_count": 68,
   "metadata": {},
   "outputs": [
    {
     "data": {
      "text/plain": [
       "50000000.0"
      ]
     },
     "execution_count": 68,
     "metadata": {},
     "output_type": "execute_result"
    }
   ],
   "source": [
    "min_volumes_product * 450_000"
   ]
  },
  {
   "cell_type": "markdown",
   "metadata": {},
   "source": [
    "Минимальный объём добычи для рентабельной работы составляет - 111.11 тыс. баррелей."
   ]
  },
  {
   "cell_type": "code",
   "execution_count": 69,
   "metadata": {},
   "outputs": [
    {
     "data": {
      "text/html": [
       "<div>\n",
       "<style scoped>\n",
       "    .dataframe tbody tr th:only-of-type {\n",
       "        vertical-align: middle;\n",
       "    }\n",
       "\n",
       "    .dataframe tbody tr th {\n",
       "        vertical-align: top;\n",
       "    }\n",
       "\n",
       "    .dataframe thead th {\n",
       "        text-align: right;\n",
       "    }\n",
       "</style>\n",
       "<table border=\"1\" class=\"dataframe\">\n",
       "  <thead>\n",
       "    <tr style=\"text-align: right;\">\n",
       "      <th></th>\n",
       "      <th>predict</th>\n",
       "      <th>true</th>\n",
       "    </tr>\n",
       "  </thead>\n",
       "  <tbody>\n",
       "    <tr>\n",
       "      <th>reg_1</th>\n",
       "      <td>92.536658</td>\n",
       "      <td>92.499684</td>\n",
       "    </tr>\n",
       "    <tr>\n",
       "      <th>reg_2</th>\n",
       "      <td>68.904016</td>\n",
       "      <td>68.823916</td>\n",
       "    </tr>\n",
       "    <tr>\n",
       "      <th>reg_3</th>\n",
       "      <td>94.912911</td>\n",
       "      <td>94.998342</td>\n",
       "    </tr>\n",
       "  </tbody>\n",
       "</table>\n",
       "</div>"
      ],
      "text/plain": [
       "         predict       true\n",
       "reg_1  92.536658  92.499684\n",
       "reg_2  68.904016  68.823916\n",
       "reg_3  94.912911  94.998342"
      ]
     },
     "execution_count": 69,
     "metadata": {},
     "output_type": "execute_result"
    }
   ],
   "source": [
    "mean_product_region"
   ]
  },
  {
   "cell_type": "markdown",
   "metadata": {},
   "source": [
    "Во всех регионах среднее количество добычи ниже, чем необходимое количество для безубыточной разработки."
   ]
  },
  {
   "cell_type": "markdown",
   "metadata": {},
   "source": [
    "## Расчёт прибыли и рисков "
   ]
  },
  {
   "cell_type": "markdown",
   "metadata": {},
   "source": [
    "### Датасет для сравнения регионов по бутстреп"
   ]
  },
  {
   "cell_type": "code",
   "execution_count": 70,
   "metadata": {},
   "outputs": [],
   "source": [
    "df_profit = pd.DataFrame(\n",
    "    index=['reg_1', 'reg_2', 'reg_3'],\n",
    "    columns=['mean_profit']\n",
    ")"
   ]
  },
  {
   "cell_type": "markdown",
   "metadata": {},
   "source": [
    "### Алгоритм расчёта прибыли и риска"
   ]
  },
  {
   "cell_type": "markdown",
   "metadata": {},
   "source": [
    "* Рассчитаем распределение прибыли по первому региону. Будем на основе признаков предсказывать продукцию, рассчитывать её стоимость. На основании суммарной стоимости оценим финансовый эффект региона. ДЛя удобства рзультаты будем представлятьв **млн. рублей**. \n",
    "* Риск будет оценен по нижней границе. Посмотрим, какое количество выборот даст убыточные результаты. Если это значение будет выше 2.5% от всех выборок, данный регион будет опасен для инвестиций.\n",
    "\n",
    "\n",
    "Подобный алгоритм будет использован для всех регионов."
   ]
  },
  {
   "cell_type": "markdown",
   "metadata": {},
   "source": [
    "### Границы доверительного интервала"
   ]
  },
  {
   "cell_type": "code",
   "execution_count": 71,
   "metadata": {},
   "outputs": [],
   "source": [
    "min_conf_interval = round((1 - CONFIDANCE_INTERVAL) / 2, 3)\n",
    "max_conf_interval = round((1 + CONFIDANCE_INTERVAL) / 2, 3)"
   ]
  },
  {
   "cell_type": "markdown",
   "metadata": {},
   "source": [
    "### Словарь с данным по прибылям регионов"
   ]
  },
  {
   "cell_type": "code",
   "execution_count": 72,
   "metadata": {},
   "outputs": [],
   "source": [
    "dict_region_profit = {}"
   ]
  },
  {
   "cell_type": "markdown",
   "metadata": {},
   "source": [
    "### Первое месторождение "
   ]
  },
  {
   "cell_type": "markdown",
   "metadata": {},
   "source": [
    "Расчитываем распределение прибыли"
   ]
  },
  {
   "cell_type": "code",
   "execution_count": 73,
   "metadata": {
    "scrolled": false
   },
   "outputs": [
    {
     "name": "stderr",
     "output_type": "stream",
     "text": [
      "100%|██████████| 1000/1000 [00:05<00:00, 186.66it/s]\n"
     ]
    }
   ],
   "source": [
    "list_reg_1_profit = bootstrap_for_region(\n",
    "    features_valid_1,\n",
    "    reg_1_traget,\n",
    "    RG_region_1\n",
    ")"
   ]
  },
  {
   "cell_type": "markdown",
   "metadata": {},
   "source": [
    "Складываем данные по региону в датасет"
   ]
  },
  {
   "cell_type": "code",
   "execution_count": 74,
   "metadata": {},
   "outputs": [],
   "source": [
    "dict_region_profit['region_1'] = list_reg_1_profit\n",
    "df_profit = data_input_dataset(\n",
    "    df_profit,\n",
    "    1,\n",
    "    list_reg_1_profit,\n",
    "    min_conf_interval,\n",
    "    max_conf_interval\n",
    ")"
   ]
  },
  {
   "cell_type": "code",
   "execution_count": 75,
   "metadata": {
    "scrolled": true
   },
   "outputs": [
    {
     "data": {
      "text/html": [
       "<div>\n",
       "<style scoped>\n",
       "    .dataframe tbody tr th:only-of-type {\n",
       "        vertical-align: middle;\n",
       "    }\n",
       "\n",
       "    .dataframe tbody tr th {\n",
       "        vertical-align: top;\n",
       "    }\n",
       "\n",
       "    .dataframe thead th {\n",
       "        text-align: right;\n",
       "    }\n",
       "</style>\n",
       "<table border=\"1\" class=\"dataframe\">\n",
       "  <thead>\n",
       "    <tr style=\"text-align: right;\">\n",
       "      <th></th>\n",
       "      <th>mean_profit</th>\n",
       "      <th>profit_0.025</th>\n",
       "      <th>profit_0.975</th>\n",
       "      <th>percentage_losses</th>\n",
       "    </tr>\n",
       "  </thead>\n",
       "  <tbody>\n",
       "    <tr>\n",
       "      <th>reg_1</th>\n",
       "      <td>416.910061</td>\n",
       "      <td>-90.244332</td>\n",
       "      <td>933.632539</td>\n",
       "      <td>5.8</td>\n",
       "    </tr>\n",
       "    <tr>\n",
       "      <th>reg_2</th>\n",
       "      <td>NaN</td>\n",
       "      <td>NaN</td>\n",
       "      <td>NaN</td>\n",
       "      <td>NaN</td>\n",
       "    </tr>\n",
       "    <tr>\n",
       "      <th>reg_3</th>\n",
       "      <td>NaN</td>\n",
       "      <td>NaN</td>\n",
       "      <td>NaN</td>\n",
       "      <td>NaN</td>\n",
       "    </tr>\n",
       "  </tbody>\n",
       "</table>\n",
       "</div>"
      ],
      "text/plain": [
       "      mean_profit  profit_0.025  profit_0.975  percentage_losses\n",
       "reg_1  416.910061    -90.244332    933.632539                5.8\n",
       "reg_2         NaN           NaN           NaN                NaN\n",
       "reg_3         NaN           NaN           NaN                NaN"
      ]
     },
     "execution_count": 75,
     "metadata": {},
     "output_type": "execute_result"
    }
   ],
   "source": [
    "df_profit"
   ]
  },
  {
   "cell_type": "markdown",
   "metadata": {},
   "source": [
    "### Второе месторождение "
   ]
  },
  {
   "cell_type": "markdown",
   "metadata": {},
   "source": [
    "Расчитываем распределение прибыли"
   ]
  },
  {
   "cell_type": "code",
   "execution_count": 76,
   "metadata": {
    "scrolled": false
   },
   "outputs": [
    {
     "name": "stderr",
     "output_type": "stream",
     "text": [
      "100%|██████████| 1000/1000 [00:05<00:00, 183.59it/s]\n"
     ]
    }
   ],
   "source": [
    "list_reg_2_profit = bootstrap_for_region(\n",
    "    features_valid_2,\n",
    "    reg_2_traget,\n",
    "    RG_region_2\n",
    ")"
   ]
  },
  {
   "cell_type": "markdown",
   "metadata": {},
   "source": [
    "Складываем данные по региону в датасет"
   ]
  },
  {
   "cell_type": "code",
   "execution_count": 77,
   "metadata": {},
   "outputs": [],
   "source": [
    "dict_region_profit['region_2'] = list_reg_2_profit\n",
    "df_profit = data_input_dataset(\n",
    "    df_profit,\n",
    "    2,\n",
    "    list_reg_2_profit,\n",
    "    min_conf_interval,\n",
    "    max_conf_interval\n",
    ")"
   ]
  },
  {
   "cell_type": "code",
   "execution_count": 78,
   "metadata": {
    "scrolled": true
   },
   "outputs": [
    {
     "data": {
      "text/html": [
       "<div>\n",
       "<style scoped>\n",
       "    .dataframe tbody tr th:only-of-type {\n",
       "        vertical-align: middle;\n",
       "    }\n",
       "\n",
       "    .dataframe tbody tr th {\n",
       "        vertical-align: top;\n",
       "    }\n",
       "\n",
       "    .dataframe thead th {\n",
       "        text-align: right;\n",
       "    }\n",
       "</style>\n",
       "<table border=\"1\" class=\"dataframe\">\n",
       "  <thead>\n",
       "    <tr style=\"text-align: right;\">\n",
       "      <th></th>\n",
       "      <th>mean_profit</th>\n",
       "      <th>profit_0.025</th>\n",
       "      <th>profit_0.975</th>\n",
       "      <th>percentage_losses</th>\n",
       "    </tr>\n",
       "  </thead>\n",
       "  <tbody>\n",
       "    <tr>\n",
       "      <th>reg_1</th>\n",
       "      <td>416.910061</td>\n",
       "      <td>-90.244332</td>\n",
       "      <td>933.632539</td>\n",
       "      <td>5.8</td>\n",
       "    </tr>\n",
       "    <tr>\n",
       "      <th>reg_2</th>\n",
       "      <td>432.016439</td>\n",
       "      <td>51.741836</td>\n",
       "      <td>863.042250</td>\n",
       "      <td>1.0</td>\n",
       "    </tr>\n",
       "    <tr>\n",
       "      <th>reg_3</th>\n",
       "      <td>NaN</td>\n",
       "      <td>NaN</td>\n",
       "      <td>NaN</td>\n",
       "      <td>NaN</td>\n",
       "    </tr>\n",
       "  </tbody>\n",
       "</table>\n",
       "</div>"
      ],
      "text/plain": [
       "      mean_profit  profit_0.025  profit_0.975  percentage_losses\n",
       "reg_1  416.910061    -90.244332    933.632539                5.8\n",
       "reg_2  432.016439     51.741836    863.042250                1.0\n",
       "reg_3         NaN           NaN           NaN                NaN"
      ]
     },
     "execution_count": 78,
     "metadata": {},
     "output_type": "execute_result"
    }
   ],
   "source": [
    "df_profit"
   ]
  },
  {
   "cell_type": "markdown",
   "metadata": {},
   "source": [
    "### Третье месторождение "
   ]
  },
  {
   "cell_type": "markdown",
   "metadata": {},
   "source": [
    "Расчитываем распределение прибыли"
   ]
  },
  {
   "cell_type": "code",
   "execution_count": 79,
   "metadata": {
    "scrolled": false
   },
   "outputs": [
    {
     "name": "stderr",
     "output_type": "stream",
     "text": [
      "100%|██████████| 1000/1000 [00:05<00:00, 176.50it/s]\n"
     ]
    }
   ],
   "source": [
    "list_reg_3_profit = bootstrap_for_region(\n",
    "    features_valid_3,\n",
    "    reg_3_traget,\n",
    "    RG_region_3\n",
    ")"
   ]
  },
  {
   "cell_type": "markdown",
   "metadata": {},
   "source": [
    "Складываем данные по региону в датасет"
   ]
  },
  {
   "cell_type": "code",
   "execution_count": 80,
   "metadata": {},
   "outputs": [],
   "source": [
    "dict_region_profit['region_3'] = list_reg_3_profit\n",
    "df_profit = data_input_dataset(\n",
    "    df_profit,\n",
    "    3,\n",
    "    list_reg_3_profit,\n",
    "    min_conf_interval,\n",
    "    max_conf_interval\n",
    ")"
   ]
  },
  {
   "cell_type": "code",
   "execution_count": 81,
   "metadata": {
    "scrolled": true
   },
   "outputs": [
    {
     "data": {
      "text/html": [
       "<div>\n",
       "<style scoped>\n",
       "    .dataframe tbody tr th:only-of-type {\n",
       "        vertical-align: middle;\n",
       "    }\n",
       "\n",
       "    .dataframe tbody tr th {\n",
       "        vertical-align: top;\n",
       "    }\n",
       "\n",
       "    .dataframe thead th {\n",
       "        text-align: right;\n",
       "    }\n",
       "</style>\n",
       "<table border=\"1\" class=\"dataframe\">\n",
       "  <thead>\n",
       "    <tr style=\"text-align: right;\">\n",
       "      <th></th>\n",
       "      <th>mean_profit</th>\n",
       "      <th>profit_0.025</th>\n",
       "      <th>profit_0.975</th>\n",
       "      <th>percentage_losses</th>\n",
       "    </tr>\n",
       "  </thead>\n",
       "  <tbody>\n",
       "    <tr>\n",
       "      <th>reg_1</th>\n",
       "      <td>416.910061</td>\n",
       "      <td>-90.244332</td>\n",
       "      <td>933.632539</td>\n",
       "      <td>5.8</td>\n",
       "    </tr>\n",
       "    <tr>\n",
       "      <th>reg_2</th>\n",
       "      <td>432.016439</td>\n",
       "      <td>51.741836</td>\n",
       "      <td>863.042250</td>\n",
       "      <td>1.0</td>\n",
       "    </tr>\n",
       "    <tr>\n",
       "      <th>reg_3</th>\n",
       "      <td>356.984291</td>\n",
       "      <td>-186.256155</td>\n",
       "      <td>892.099106</td>\n",
       "      <td>8.8</td>\n",
       "    </tr>\n",
       "  </tbody>\n",
       "</table>\n",
       "</div>"
      ],
      "text/plain": [
       "      mean_profit  profit_0.025  profit_0.975  percentage_losses\n",
       "reg_1  416.910061    -90.244332    933.632539                5.8\n",
       "reg_2  432.016439     51.741836    863.042250                1.0\n",
       "reg_3  356.984291   -186.256155    892.099106                8.8"
      ]
     },
     "execution_count": 81,
     "metadata": {},
     "output_type": "execute_result"
    }
   ],
   "source": [
    "df_profit"
   ]
  },
  {
   "cell_type": "markdown",
   "metadata": {},
   "source": [
    "## Общий вывод"
   ]
  },
  {
   "cell_type": "code",
   "execution_count": 82,
   "metadata": {
    "scrolled": false
   },
   "outputs": [],
   "source": [
    "threshold_estimation = df_profit['percentage_losses'] > THRESHOLD_PROBABILITY_LOSSES\n",
    "df_profit['exceeding_threshold'] = threshold_estimation\n",
    "df_profit['exceeding_threshold'] = df_profit['exceeding_threshold'].where(\n",
    "    threshold_estimation, \"Ниже порога\"\n",
    ")\n",
    "df_profit['exceeding_threshold'] = df_profit['exceeding_threshold'].where(\n",
    "    ~threshold_estimation, \"Выше порога\"\n",
    ")"
   ]
  },
  {
   "cell_type": "code",
   "execution_count": 83,
   "metadata": {
    "scrolled": false
   },
   "outputs": [
    {
     "data": {
      "text/html": [
       "<style  type=\"text/css\" >\n",
       "#T_9b138_row0_col0,#T_9b138_row0_col1,#T_9b138_row0_col2,#T_9b138_row0_col3,#T_9b138_row0_col4,#T_9b138_row2_col0,#T_9b138_row2_col1,#T_9b138_row2_col2,#T_9b138_row2_col3,#T_9b138_row2_col4{\n",
       "            background-color:  red;\n",
       "        }#T_9b138_row1_col0,#T_9b138_row1_col1,#T_9b138_row1_col2,#T_9b138_row1_col3,#T_9b138_row1_col4{\n",
       "            background-color:  green;\n",
       "        }</style><table id=\"T_9b138_\" ><thead>    <tr>        <th class=\"blank level0\" ></th>        <th class=\"col_heading level0 col0\" >mean_profit</th>        <th class=\"col_heading level0 col1\" >profit_0.025</th>        <th class=\"col_heading level0 col2\" >profit_0.975</th>        <th class=\"col_heading level0 col3\" >percentage_losses</th>        <th class=\"col_heading level0 col4\" >exceeding_threshold</th>    </tr></thead><tbody>\n",
       "                <tr>\n",
       "                        <th id=\"T_9b138_level0_row0\" class=\"row_heading level0 row0\" >reg_1</th>\n",
       "                        <td id=\"T_9b138_row0_col0\" class=\"data row0 col0\" >416.910061</td>\n",
       "                        <td id=\"T_9b138_row0_col1\" class=\"data row0 col1\" >-90.244332</td>\n",
       "                        <td id=\"T_9b138_row0_col2\" class=\"data row0 col2\" >933.632539</td>\n",
       "                        <td id=\"T_9b138_row0_col3\" class=\"data row0 col3\" >5.800000</td>\n",
       "                        <td id=\"T_9b138_row0_col4\" class=\"data row0 col4\" >Выше порога</td>\n",
       "            </tr>\n",
       "            <tr>\n",
       "                        <th id=\"T_9b138_level0_row1\" class=\"row_heading level0 row1\" >reg_2</th>\n",
       "                        <td id=\"T_9b138_row1_col0\" class=\"data row1 col0\" >432.016439</td>\n",
       "                        <td id=\"T_9b138_row1_col1\" class=\"data row1 col1\" >51.741836</td>\n",
       "                        <td id=\"T_9b138_row1_col2\" class=\"data row1 col2\" >863.042250</td>\n",
       "                        <td id=\"T_9b138_row1_col3\" class=\"data row1 col3\" >1.000000</td>\n",
       "                        <td id=\"T_9b138_row1_col4\" class=\"data row1 col4\" >Ниже порога</td>\n",
       "            </tr>\n",
       "            <tr>\n",
       "                        <th id=\"T_9b138_level0_row2\" class=\"row_heading level0 row2\" >reg_3</th>\n",
       "                        <td id=\"T_9b138_row2_col0\" class=\"data row2 col0\" >356.984291</td>\n",
       "                        <td id=\"T_9b138_row2_col1\" class=\"data row2 col1\" >-186.256155</td>\n",
       "                        <td id=\"T_9b138_row2_col2\" class=\"data row2 col2\" >892.099106</td>\n",
       "                        <td id=\"T_9b138_row2_col3\" class=\"data row2 col3\" >8.800000</td>\n",
       "                        <td id=\"T_9b138_row2_col4\" class=\"data row2 col4\" >Выше порога</td>\n",
       "            </tr>\n",
       "    </tbody></table>"
      ],
      "text/plain": [
       "<pandas.io.formats.style.Styler at 0x7f29a939b070>"
      ]
     },
     "execution_count": 83,
     "metadata": {},
     "output_type": "execute_result"
    }
   ],
   "source": [
    "df_profit.style.apply(\n",
    "    allocation_target_region,\n",
    "    col='percentage_losses',\n",
    "    threshold=THRESHOLD_PROBABILITY_LOSSES,\n",
    "    axis=1\n",
    ")"
   ]
  },
  {
   "cell_type": "code",
   "execution_count": 84,
   "metadata": {},
   "outputs": [
    {
     "data": {
      "image/png": "[encoded data removed]",
      "text/plain": [
       "<Figure size 576x432 with 1 Axes>"
      ]
     },
     "metadata": {
      "needs_background": "light"
     },
     "output_type": "display_data"
    }
   ],
   "source": [
    "fig = plt.figure(figsize=(8, 6))\n",
    "colors = ['g', 'r', 'b']\n",
    "count = 0\n",
    "for key, item in dict_region_profit.items():\n",
    "    sns.histplot(\n",
    "        data=item,\n",
    "        kde=True,\n",
    "        color=colors[count],\n",
    "        label=key\n",
    "    )\n",
    "    count += 1\n",
    "plt.legend()\n",
    "plt.title(\"Распределение прибылей с различных регионов нефтедобычи\")\n",
    "plt.xlabel(\"Прибыль полученная с группы скважин, млн. руб.\")\n",
    "plt.ylabel(\"Частота\")\n",
    "plt.show()"
   ]
  },
  {
   "cell_type": "markdown",
   "metadata": {},
   "source": [
    "* Все регионы в среднем являются прибыльными. Но так де в каждом имеются убыточные значения. Наименьшая вероятность получить убыточные значения во втором регионе.\n",
    "* Доверие к модели во **втором регионе** самое высокое среди изученных. Модели в остальных регионах показывают выские разброс значений при оценке продуктивности и, следовательно, могут сильно ошибаться при оценке продукции.\n",
    "* Наиболее оптимальным регионом для инвестиций будет **второй регион**, так как в целом его распределение смещено к более высоким областям прибыли. И данный регион имеет более низкий уровень вероятности получить убыль. Среднее значение прибыли второго региона выше, чем у других, и составляет - 432.016 млн. руб.\n"
   ]
  }
 ],
 "metadata": {
  "ExecuteTimeLog": [
   {
    "duration": 3227,
    "start_time": "2022-05-17T14:25:47.996Z"
   },
   {
    "duration": 4,
    "start_time": "2022-05-17T14:25:51.225Z"
   },
   {
    "duration": 71,
    "start_time": "2022-05-17T14:25:51.230Z"
   },
   {
    "duration": 9,
    "start_time": "2022-05-17T14:25:51.303Z"
   },
   {
    "duration": 99,
    "start_time": "2022-05-17T14:25:51.314Z"
   },
   {
    "duration": 17,
    "start_time": "2022-05-17T14:25:51.415Z"
   },
   {
    "duration": 7,
    "start_time": "2022-05-17T14:25:51.502Z"
   },
   {
    "duration": 13,
    "start_time": "2022-05-17T14:25:51.511Z"
   },
   {
    "duration": 79,
    "start_time": "2022-05-17T14:25:51.526Z"
   },
   {
    "duration": 10,
    "start_time": "2022-05-17T14:25:51.609Z"
   },
   {
    "duration": 8,
    "start_time": "2022-05-17T14:25:51.621Z"
   },
   {
    "duration": 70,
    "start_time": "2022-05-17T14:25:51.630Z"
   },
   {
    "duration": 7,
    "start_time": "2022-05-17T14:25:51.702Z"
   },
   {
    "duration": 8,
    "start_time": "2022-05-17T14:25:51.711Z"
   },
   {
    "duration": 5,
    "start_time": "2022-05-17T14:25:51.721Z"
   },
   {
    "duration": 6,
    "start_time": "2022-05-17T14:25:51.796Z"
   },
   {
    "duration": 6,
    "start_time": "2022-05-17T14:25:51.804Z"
   },
   {
    "duration": 7,
    "start_time": "2022-05-17T14:25:51.812Z"
   },
   {
    "duration": 75,
    "start_time": "2022-05-17T14:25:51.821Z"
   },
   {
    "duration": 6,
    "start_time": "2022-05-17T14:25:51.899Z"
   },
   {
    "duration": 7,
    "start_time": "2022-05-17T14:25:51.908Z"
   },
   {
    "duration": 12,
    "start_time": "2022-05-17T14:25:51.917Z"
   },
   {
    "duration": 275,
    "start_time": "2022-05-17T14:25:51.932Z"
   },
   {
    "duration": 130,
    "start_time": "2022-05-17T14:25:52.209Z"
   },
   {
    "duration": 70,
    "start_time": "2022-05-17T14:25:52.341Z"
   },
   {
    "duration": 196,
    "start_time": "2022-05-17T14:25:52.413Z"
   },
   {
    "duration": 112,
    "start_time": "2022-05-17T14:25:52.611Z"
   },
   {
    "duration": 26,
    "start_time": "2022-05-17T14:25:52.728Z"
   },
   {
    "duration": 149,
    "start_time": "2022-05-17T14:25:52.756Z"
   },
   {
    "duration": 115,
    "start_time": "2022-05-17T14:25:52.907Z"
   },
   {
    "duration": 26,
    "start_time": "2022-05-17T14:25:53.024Z"
   },
   {
    "duration": 5,
    "start_time": "2022-05-17T14:25:53.052Z"
   },
   {
    "duration": 11,
    "start_time": "2022-05-17T14:25:53.059Z"
   },
   {
    "duration": 33,
    "start_time": "2022-05-17T14:25:53.072Z"
   },
   {
    "duration": 4,
    "start_time": "2022-05-17T14:25:53.107Z"
   },
   {
    "duration": 23,
    "start_time": "2022-05-17T14:25:53.114Z"
   },
   {
    "duration": 68,
    "start_time": "2022-05-17T14:25:53.139Z"
   },
   {
    "duration": 95,
    "start_time": "2022-05-17T14:25:53.211Z"
   },
   {
    "duration": 91,
    "start_time": "2022-05-17T14:25:53.309Z"
   },
   {
    "duration": 6,
    "start_time": "2022-05-17T14:25:53.498Z"
   },
   {
    "duration": 92,
    "start_time": "2022-05-17T14:25:53.506Z"
   },
   {
    "duration": 7,
    "start_time": "2022-05-17T14:25:53.600Z"
   },
   {
    "duration": 16,
    "start_time": "2022-05-17T14:25:53.609Z"
   },
   {
    "duration": 5,
    "start_time": "2022-05-17T14:25:53.626Z"
   },
   {
    "duration": 17,
    "start_time": "2022-05-17T14:25:53.633Z"
   },
   {
    "duration": 50,
    "start_time": "2022-05-17T14:25:53.652Z"
   },
   {
    "duration": 11,
    "start_time": "2022-05-17T14:25:53.798Z"
   },
   {
    "duration": 92,
    "start_time": "2022-05-17T14:25:53.812Z"
   },
   {
    "duration": 94,
    "start_time": "2022-05-17T14:25:53.907Z"
   },
   {
    "duration": 101,
    "start_time": "2022-05-17T14:25:54.004Z"
   },
   {
    "duration": 6,
    "start_time": "2022-05-17T14:25:54.108Z"
   },
   {
    "duration": 14,
    "start_time": "2022-05-17T14:25:54.116Z"
   },
   {
    "duration": 3,
    "start_time": "2022-05-17T14:25:54.132Z"
   },
   {
    "duration": 17,
    "start_time": "2022-05-17T14:25:54.137Z"
   },
   {
    "duration": 52,
    "start_time": "2022-05-17T14:25:54.156Z"
   },
   {
    "duration": 12,
    "start_time": "2022-05-17T14:25:54.298Z"
   },
   {
    "duration": 89,
    "start_time": "2022-05-17T14:25:54.313Z"
   },
   {
    "duration": 94,
    "start_time": "2022-05-17T14:25:54.404Z"
   },
   {
    "duration": 11,
    "start_time": "2022-05-17T14:25:54.500Z"
   },
   {
    "duration": 5,
    "start_time": "2022-05-17T14:25:54.598Z"
   },
   {
    "duration": 9,
    "start_time": "2022-05-17T14:25:54.605Z"
   },
   {
    "duration": 9,
    "start_time": "2022-05-17T14:25:54.617Z"
   },
   {
    "duration": 9,
    "start_time": "2022-05-17T14:25:54.628Z"
   },
   {
    "duration": 5,
    "start_time": "2022-05-17T14:25:54.639Z"
   },
   {
    "duration": 5,
    "start_time": "2022-05-17T14:25:54.646Z"
   },
   {
    "duration": 46,
    "start_time": "2022-05-17T14:25:54.653Z"
   },
   {
    "duration": 7,
    "start_time": "2022-05-17T14:25:54.701Z"
   },
   {
    "duration": 5,
    "start_time": "2022-05-17T14:25:54.710Z"
   },
   {
    "duration": 4,
    "start_time": "2022-05-17T14:25:54.717Z"
   },
   {
    "duration": 5288,
    "start_time": "2022-05-17T14:25:54.723Z"
   },
   {
    "duration": 13,
    "start_time": "2022-05-17T14:26:00.013Z"
   },
   {
    "duration": 17,
    "start_time": "2022-05-17T14:26:00.029Z"
   },
   {
    "duration": 5241,
    "start_time": "2022-05-17T14:26:00.049Z"
   },
   {
    "duration": 8,
    "start_time": "2022-05-17T14:26:05.298Z"
   },
   {
    "duration": 10,
    "start_time": "2022-05-17T14:26:05.308Z"
   },
   {
    "duration": 5116,
    "start_time": "2022-05-17T14:26:05.319Z"
   },
   {
    "duration": 6,
    "start_time": "2022-05-17T14:26:10.437Z"
   },
   {
    "duration": 12,
    "start_time": "2022-05-17T14:26:10.445Z"
   },
   {
    "duration": 10,
    "start_time": "2022-05-17T14:26:10.459Z"
   },
   {
    "duration": 429,
    "start_time": "2022-05-17T14:26:10.471Z"
   },
   {
    "duration": 4,
    "start_time": "2022-05-17T14:29:20.036Z"
   },
   {
    "duration": 3,
    "start_time": "2022-05-17T14:29:22.224Z"
   },
   {
    "duration": 1497,
    "start_time": "2022-05-18T05:15:24.502Z"
   },
   {
    "duration": 4,
    "start_time": "2022-05-18T05:15:26.001Z"
   },
   {
    "duration": 10,
    "start_time": "2022-05-18T05:15:26.006Z"
   },
   {
    "duration": 9,
    "start_time": "2022-05-18T05:15:26.017Z"
   },
   {
    "duration": 36,
    "start_time": "2022-05-18T05:15:26.027Z"
   },
   {
    "duration": 13,
    "start_time": "2022-05-18T05:15:26.065Z"
   },
   {
    "duration": 11,
    "start_time": "2022-05-18T05:15:26.080Z"
   },
   {
    "duration": 13,
    "start_time": "2022-05-18T05:15:26.092Z"
   },
   {
    "duration": 30,
    "start_time": "2022-05-18T05:15:26.106Z"
   },
   {
    "duration": 9,
    "start_time": "2022-05-18T05:15:26.139Z"
   },
   {
    "duration": 10,
    "start_time": "2022-05-18T05:15:26.149Z"
   },
   {
    "duration": 10,
    "start_time": "2022-05-18T05:15:26.160Z"
   },
   {
    "duration": 14,
    "start_time": "2022-05-18T05:15:26.171Z"
   },
   {
    "duration": 33,
    "start_time": "2022-05-18T05:15:26.186Z"
   },
   {
    "duration": 10,
    "start_time": "2022-05-18T05:15:26.221Z"
   },
   {
    "duration": 9,
    "start_time": "2022-05-18T05:15:26.232Z"
   },
   {
    "duration": 9,
    "start_time": "2022-05-18T05:15:26.243Z"
   },
   {
    "duration": 6,
    "start_time": "2022-05-18T05:15:26.254Z"
   },
   {
    "duration": 8,
    "start_time": "2022-05-18T05:15:26.261Z"
   },
   {
    "duration": 7,
    "start_time": "2022-05-18T05:15:26.271Z"
   },
   {
    "duration": 7,
    "start_time": "2022-05-18T05:15:26.279Z"
   },
   {
    "duration": 8,
    "start_time": "2022-05-18T05:15:26.288Z"
   },
   {
    "duration": 348,
    "start_time": "2022-05-18T05:15:26.297Z"
   },
   {
    "duration": 93,
    "start_time": "2022-05-18T05:15:26.647Z"
   },
   {
    "duration": 23,
    "start_time": "2022-05-18T05:15:26.741Z"
   },
   {
    "duration": 179,
    "start_time": "2022-05-18T05:15:26.765Z"
   },
   {
    "duration": 93,
    "start_time": "2022-05-18T05:15:26.946Z"
   },
   {
    "duration": 23,
    "start_time": "2022-05-18T05:15:27.043Z"
   },
   {
    "duration": 175,
    "start_time": "2022-05-18T05:15:27.068Z"
   },
   {
    "duration": 94,
    "start_time": "2022-05-18T05:15:27.245Z"
   },
   {
    "duration": 22,
    "start_time": "2022-05-18T05:15:27.341Z"
   },
   {
    "duration": 4,
    "start_time": "2022-05-18T05:15:27.365Z"
   },
   {
    "duration": 19,
    "start_time": "2022-05-18T05:15:27.371Z"
   },
   {
    "duration": 21,
    "start_time": "2022-05-18T05:15:27.392Z"
   },
   {
    "duration": 29,
    "start_time": "2022-05-18T05:15:27.415Z"
   },
   {
    "duration": 28,
    "start_time": "2022-05-18T05:15:27.446Z"
   },
   {
    "duration": 21,
    "start_time": "2022-05-18T05:15:27.476Z"
   },
   {
    "duration": 100,
    "start_time": "2022-05-18T05:15:27.527Z"
   },
   {
    "duration": 7,
    "start_time": "2022-05-18T05:15:27.629Z"
   },
   {
    "duration": 6,
    "start_time": "2022-05-18T05:15:27.727Z"
   },
   {
    "duration": 99,
    "start_time": "2022-05-18T05:15:27.735Z"
   },
   {
    "duration": 5,
    "start_time": "2022-05-18T05:15:27.836Z"
   },
   {
    "duration": 14,
    "start_time": "2022-05-18T05:15:27.843Z"
   },
   {
    "duration": 4,
    "start_time": "2022-05-18T05:15:27.858Z"
   },
   {
    "duration": 17,
    "start_time": "2022-05-18T05:15:27.864Z"
   },
   {
    "duration": 43,
    "start_time": "2022-05-18T05:15:27.883Z"
   },
   {
    "duration": 101,
    "start_time": "2022-05-18T05:15:27.929Z"
   },
   {
    "duration": 94,
    "start_time": "2022-05-18T05:15:28.033Z"
   },
   {
    "duration": 97,
    "start_time": "2022-05-18T05:15:28.129Z"
   },
   {
    "duration": 107,
    "start_time": "2022-05-18T05:15:28.228Z"
   },
   {
    "duration": 7,
    "start_time": "2022-05-18T05:15:28.337Z"
   },
   {
    "duration": 15,
    "start_time": "2022-05-18T05:15:28.346Z"
   },
   {
    "duration": 4,
    "start_time": "2022-05-18T05:15:28.362Z"
   },
   {
    "duration": 17,
    "start_time": "2022-05-18T05:15:28.367Z"
   },
   {
    "duration": 41,
    "start_time": "2022-05-18T05:15:28.385Z"
   },
   {
    "duration": 195,
    "start_time": "2022-05-18T05:15:28.431Z"
   },
   {
    "duration": 5,
    "start_time": "2022-05-18T05:15:28.628Z"
   },
   {
    "duration": 95,
    "start_time": "2022-05-18T05:15:28.635Z"
   },
   {
    "duration": 94,
    "start_time": "2022-05-18T05:15:28.733Z"
   },
   {
    "duration": 12,
    "start_time": "2022-05-18T05:15:28.829Z"
   },
   {
    "duration": 10,
    "start_time": "2022-05-18T05:15:28.842Z"
   },
   {
    "duration": 10,
    "start_time": "2022-05-18T05:15:28.853Z"
   },
   {
    "duration": 11,
    "start_time": "2022-05-18T05:15:28.864Z"
   },
   {
    "duration": 8,
    "start_time": "2022-05-18T05:15:28.876Z"
   },
   {
    "duration": 9,
    "start_time": "2022-05-18T05:15:28.885Z"
   },
   {
    "duration": 17,
    "start_time": "2022-05-18T05:15:28.895Z"
   },
   {
    "duration": 6,
    "start_time": "2022-05-18T05:15:28.913Z"
   },
   {
    "duration": 8,
    "start_time": "2022-05-18T05:15:28.920Z"
   },
   {
    "duration": 8,
    "start_time": "2022-05-18T05:15:28.929Z"
   },
   {
    "duration": 4924,
    "start_time": "2022-05-18T05:15:28.938Z"
   },
   {
    "duration": 7,
    "start_time": "2022-05-18T05:15:33.864Z"
   },
   {
    "duration": 13,
    "start_time": "2022-05-18T05:15:33.872Z"
   },
   {
    "duration": 4819,
    "start_time": "2022-05-18T05:15:33.886Z"
   },
   {
    "duration": 20,
    "start_time": "2022-05-18T05:15:38.706Z"
   },
   {
    "duration": 22,
    "start_time": "2022-05-18T05:15:38.728Z"
   },
   {
    "duration": 4799,
    "start_time": "2022-05-18T05:15:38.752Z"
   },
   {
    "duration": 7,
    "start_time": "2022-05-18T05:15:43.552Z"
   },
   {
    "duration": 13,
    "start_time": "2022-05-18T05:15:43.560Z"
   },
   {
    "duration": 11,
    "start_time": "2022-05-18T05:15:43.574Z"
   },
   {
    "duration": 372,
    "start_time": "2022-05-18T05:15:43.586Z"
   },
   {
    "duration": 4,
    "start_time": "2022-05-18T05:22:07.079Z"
   },
   {
    "duration": 10,
    "start_time": "2022-05-18T05:22:11.631Z"
   },
   {
    "duration": 4,
    "start_time": "2022-05-18T05:22:21.437Z"
   },
   {
    "duration": 3,
    "start_time": "2022-05-18T05:22:26.576Z"
   },
   {
    "duration": 4,
    "start_time": "2022-05-18T05:22:32.641Z"
   },
   {
    "duration": 8,
    "start_time": "2022-05-18T05:22:33.169Z"
   },
   {
    "duration": 5,
    "start_time": "2022-05-18T05:25:24.430Z"
   },
   {
    "duration": 4,
    "start_time": "2022-05-18T05:25:55.544Z"
   },
   {
    "duration": 15,
    "start_time": "2022-05-18T05:25:58.369Z"
   },
   {
    "duration": 12,
    "start_time": "2022-05-18T05:26:07.860Z"
   },
   {
    "duration": 6,
    "start_time": "2022-05-18T05:26:23.678Z"
   },
   {
    "duration": 134,
    "start_time": "2022-05-18T05:26:48.114Z"
   },
   {
    "duration": 7,
    "start_time": "2022-05-18T05:27:16.297Z"
   },
   {
    "duration": 7,
    "start_time": "2022-05-18T05:27:41.099Z"
   },
   {
    "duration": 6,
    "start_time": "2022-05-18T05:27:57.551Z"
   },
   {
    "duration": 14,
    "start_time": "2022-05-18T05:28:10.145Z"
   },
   {
    "duration": 397,
    "start_time": "2022-05-18T05:30:18.212Z"
   },
   {
    "duration": 12,
    "start_time": "2022-05-18T05:30:32.790Z"
   },
   {
    "duration": 41,
    "start_time": "2022-05-18T05:30:38.920Z"
   },
   {
    "duration": 3,
    "start_time": "2022-05-18T05:31:45.180Z"
   },
   {
    "duration": 4,
    "start_time": "2022-05-18T05:32:04.474Z"
   },
   {
    "duration": 12,
    "start_time": "2022-05-18T05:32:04.878Z"
   },
   {
    "duration": 3,
    "start_time": "2022-05-18T05:32:18.721Z"
   },
   {
    "duration": 30,
    "start_time": "2022-05-18T05:32:19.209Z"
   },
   {
    "duration": 4,
    "start_time": "2022-05-18T05:32:23.272Z"
   },
   {
    "duration": 26,
    "start_time": "2022-05-18T05:32:23.488Z"
   },
   {
    "duration": 3,
    "start_time": "2022-05-18T05:32:43.964Z"
   },
   {
    "duration": 15,
    "start_time": "2022-05-18T05:32:44.469Z"
   },
   {
    "duration": 3,
    "start_time": "2022-05-18T05:32:47.572Z"
   },
   {
    "duration": 10,
    "start_time": "2022-05-18T05:32:48.053Z"
   },
   {
    "duration": 16,
    "start_time": "2022-05-18T05:32:58.947Z"
   },
   {
    "duration": 4,
    "start_time": "2022-05-18T05:32:59.766Z"
   },
   {
    "duration": 11,
    "start_time": "2022-05-18T05:32:59.942Z"
   },
   {
    "duration": 11,
    "start_time": "2022-05-18T05:33:46.151Z"
   },
   {
    "duration": 16,
    "start_time": "2022-05-18T05:33:53.503Z"
   },
   {
    "duration": 20,
    "start_time": "2022-05-18T05:34:06.698Z"
   },
   {
    "duration": 60,
    "start_time": "2022-05-18T05:34:16.390Z"
   },
   {
    "duration": 23,
    "start_time": "2022-05-18T05:34:19.405Z"
   },
   {
    "duration": 32,
    "start_time": "2022-05-18T05:34:23.749Z"
   },
   {
    "duration": 21,
    "start_time": "2022-05-18T05:34:26.270Z"
   },
   {
    "duration": 16,
    "start_time": "2022-05-18T05:34:28.886Z"
   },
   {
    "duration": 68,
    "start_time": "2022-05-18T05:35:20.998Z"
   },
   {
    "duration": 23,
    "start_time": "2022-05-18T05:35:25.278Z"
   },
   {
    "duration": 563,
    "start_time": "2022-05-18T05:35:56.668Z"
   },
   {
    "duration": 27,
    "start_time": "2022-05-18T05:36:07.806Z"
   },
   {
    "duration": 23,
    "start_time": "2022-05-18T05:37:06.081Z"
   },
   {
    "duration": 399,
    "start_time": "2022-05-18T05:37:06.263Z"
   },
   {
    "duration": 23,
    "start_time": "2022-05-18T05:37:22.562Z"
   },
   {
    "duration": 406,
    "start_time": "2022-05-18T05:37:23.105Z"
   },
   {
    "duration": 17,
    "start_time": "2022-05-18T05:37:36.270Z"
   },
   {
    "duration": 21,
    "start_time": "2022-05-18T05:37:51.947Z"
   },
   {
    "duration": 24,
    "start_time": "2022-05-18T05:38:01.064Z"
   },
   {
    "duration": 18,
    "start_time": "2022-05-18T05:38:09.424Z"
   },
   {
    "duration": 16,
    "start_time": "2022-05-18T05:38:19.740Z"
   },
   {
    "duration": 4,
    "start_time": "2022-05-18T05:41:58.385Z"
   },
   {
    "duration": 5,
    "start_time": "2022-05-18T05:43:01.514Z"
   },
   {
    "duration": 6,
    "start_time": "2022-05-18T05:43:29.649Z"
   },
   {
    "duration": 14,
    "start_time": "2022-05-18T05:44:30.042Z"
   },
   {
    "duration": 4,
    "start_time": "2022-05-18T05:44:33.888Z"
   },
   {
    "duration": 22,
    "start_time": "2022-05-18T05:45:24.816Z"
   },
   {
    "duration": 10,
    "start_time": "2022-05-18T05:45:29.164Z"
   },
   {
    "duration": 7,
    "start_time": "2022-05-18T05:45:39.591Z"
   },
   {
    "duration": 4,
    "start_time": "2022-05-18T05:48:50.865Z"
   },
   {
    "duration": 5,
    "start_time": "2022-05-18T05:48:52.089Z"
   },
   {
    "duration": 15,
    "start_time": "2022-05-18T05:48:52.550Z"
   },
   {
    "duration": 1479,
    "start_time": "2022-05-18T05:48:59.196Z"
   },
   {
    "duration": 3,
    "start_time": "2022-05-18T05:49:00.678Z"
   },
   {
    "duration": 22,
    "start_time": "2022-05-18T05:49:00.682Z"
   },
   {
    "duration": 60,
    "start_time": "2022-05-18T05:49:00.706Z"
   },
   {
    "duration": 50,
    "start_time": "2022-05-18T05:49:00.768Z"
   },
   {
    "duration": 18,
    "start_time": "2022-05-18T05:49:00.819Z"
   },
   {
    "duration": 55,
    "start_time": "2022-05-18T05:49:00.839Z"
   },
   {
    "duration": 27,
    "start_time": "2022-05-18T05:49:00.895Z"
   },
   {
    "duration": 67,
    "start_time": "2022-05-18T05:49:00.923Z"
   },
   {
    "duration": 20,
    "start_time": "2022-05-18T05:49:00.992Z"
   },
   {
    "duration": 69,
    "start_time": "2022-05-18T05:49:01.013Z"
   },
   {
    "duration": 12,
    "start_time": "2022-05-18T05:49:01.085Z"
   },
   {
    "duration": 11,
    "start_time": "2022-05-18T05:49:01.098Z"
   },
   {
    "duration": 20,
    "start_time": "2022-05-18T05:49:01.111Z"
   },
   {
    "duration": 41,
    "start_time": "2022-05-18T05:49:01.133Z"
   },
   {
    "duration": 16,
    "start_time": "2022-05-18T05:49:01.176Z"
   },
   {
    "duration": 22,
    "start_time": "2022-05-18T05:49:01.194Z"
   },
   {
    "duration": 36,
    "start_time": "2022-05-18T05:49:01.217Z"
   },
   {
    "duration": 10,
    "start_time": "2022-05-18T05:49:01.256Z"
   },
   {
    "duration": 14,
    "start_time": "2022-05-18T05:49:01.267Z"
   },
   {
    "duration": 13,
    "start_time": "2022-05-18T05:49:01.283Z"
   },
   {
    "duration": 20,
    "start_time": "2022-05-18T05:49:01.298Z"
   },
   {
    "duration": 54,
    "start_time": "2022-05-18T05:49:01.320Z"
   },
   {
    "duration": 37,
    "start_time": "2022-05-18T05:49:01.377Z"
   },
   {
    "duration": 104,
    "start_time": "2022-05-18T05:49:01.416Z"
   },
   {
    "duration": 188,
    "start_time": "2022-05-18T05:49:01.522Z"
   },
   {
    "duration": 107,
    "start_time": "2022-05-18T05:49:01.712Z"
   },
   {
    "duration": 52,
    "start_time": "2022-05-18T05:49:01.828Z"
   },
   {
    "duration": 169,
    "start_time": "2022-05-18T05:49:01.882Z"
   },
   {
    "duration": 139,
    "start_time": "2022-05-18T05:49:02.053Z"
   },
   {
    "duration": 29,
    "start_time": "2022-05-18T05:49:02.194Z"
   },
   {
    "duration": 174,
    "start_time": "2022-05-18T05:49:02.225Z"
   },
   {
    "duration": 103,
    "start_time": "2022-05-18T05:49:02.400Z"
   },
   {
    "duration": 44,
    "start_time": "2022-05-18T05:49:02.504Z"
   },
   {
    "duration": 10,
    "start_time": "2022-05-18T05:49:02.557Z"
   },
   {
    "duration": 10,
    "start_time": "2022-05-18T05:49:02.569Z"
   },
   {
    "duration": 29,
    "start_time": "2022-05-18T05:49:02.580Z"
   },
   {
    "duration": 7,
    "start_time": "2022-05-18T05:49:02.611Z"
   },
   {
    "duration": 20,
    "start_time": "2022-05-18T05:49:02.619Z"
   },
   {
    "duration": 100,
    "start_time": "2022-05-18T05:49:02.641Z"
   },
   {
    "duration": 107,
    "start_time": "2022-05-18T05:49:02.743Z"
   },
   {
    "duration": 105,
    "start_time": "2022-05-18T05:49:02.860Z"
   },
   {
    "duration": 86,
    "start_time": "2022-05-18T05:49:02.970Z"
   },
   {
    "duration": 83,
    "start_time": "2022-05-18T05:49:03.065Z"
   },
   {
    "duration": 9,
    "start_time": "2022-05-18T05:49:03.150Z"
   },
   {
    "duration": 27,
    "start_time": "2022-05-18T05:49:03.164Z"
   },
   {
    "duration": 9,
    "start_time": "2022-05-18T05:49:03.193Z"
   },
   {
    "duration": 16,
    "start_time": "2022-05-18T05:49:03.204Z"
   },
   {
    "duration": 48,
    "start_time": "2022-05-18T05:49:03.221Z"
   },
   {
    "duration": 170,
    "start_time": "2022-05-18T05:49:03.271Z"
   },
   {
    "duration": 188,
    "start_time": "2022-05-18T05:49:03.443Z"
   },
   {
    "duration": 98,
    "start_time": "2022-05-18T05:49:03.633Z"
   },
   {
    "duration": 43,
    "start_time": "2022-05-18T05:49:03.733Z"
   },
   {
    "duration": 8,
    "start_time": "2022-05-18T05:49:03.778Z"
   },
   {
    "duration": 15,
    "start_time": "2022-05-18T05:49:03.788Z"
   },
   {
    "duration": 4,
    "start_time": "2022-05-18T05:49:03.805Z"
   },
   {
    "duration": 61,
    "start_time": "2022-05-18T05:49:03.810Z"
   },
   {
    "duration": 59,
    "start_time": "2022-05-18T05:49:03.873Z"
   },
   {
    "duration": 87,
    "start_time": "2022-05-18T05:49:03.940Z"
   },
   {
    "duration": 136,
    "start_time": "2022-05-18T05:49:04.033Z"
   },
   {
    "duration": 65,
    "start_time": "2022-05-18T05:49:04.172Z"
   },
   {
    "duration": 119,
    "start_time": "2022-05-18T05:49:04.239Z"
   },
   {
    "duration": 10,
    "start_time": "2022-05-18T05:49:04.360Z"
   },
   {
    "duration": 12,
    "start_time": "2022-05-18T05:49:04.372Z"
   },
   {
    "duration": 17,
    "start_time": "2022-05-18T05:49:04.386Z"
   },
   {
    "duration": 14,
    "start_time": "2022-05-18T05:49:04.405Z"
   },
   {
    "duration": 41,
    "start_time": "2022-05-18T05:49:04.421Z"
   },
   {
    "duration": 9,
    "start_time": "2022-05-18T05:49:04.464Z"
   },
   {
    "duration": 14,
    "start_time": "2022-05-18T05:49:04.475Z"
   },
   {
    "duration": 25,
    "start_time": "2022-05-18T05:49:04.491Z"
   },
   {
    "duration": 62,
    "start_time": "2022-05-18T05:49:04.518Z"
   },
   {
    "duration": 16,
    "start_time": "2022-05-18T05:49:04.582Z"
   },
   {
    "duration": 5760,
    "start_time": "2022-05-18T05:49:04.600Z"
   },
   {
    "duration": 10,
    "start_time": "2022-05-18T05:49:10.362Z"
   },
   {
    "duration": 13,
    "start_time": "2022-05-18T05:49:10.374Z"
   },
   {
    "duration": 5791,
    "start_time": "2022-05-18T05:49:10.388Z"
   },
   {
    "duration": 7,
    "start_time": "2022-05-18T05:49:16.180Z"
   },
   {
    "duration": 11,
    "start_time": "2022-05-18T05:49:16.188Z"
   },
   {
    "duration": 5952,
    "start_time": "2022-05-18T05:49:16.200Z"
   },
   {
    "duration": 9,
    "start_time": "2022-05-18T05:49:22.156Z"
   },
   {
    "duration": 27,
    "start_time": "2022-05-18T05:49:22.167Z"
   },
   {
    "duration": 158,
    "start_time": "2022-05-18T05:49:22.200Z"
   },
   {
    "duration": 0,
    "start_time": "2022-05-18T05:49:22.365Z"
   },
   {
    "duration": 0,
    "start_time": "2022-05-18T05:49:22.366Z"
   },
   {
    "duration": 24,
    "start_time": "2022-05-18T05:49:56.857Z"
   },
   {
    "duration": 12,
    "start_time": "2022-05-18T05:50:13.606Z"
   },
   {
    "duration": 15,
    "start_time": "2022-05-18T05:50:14.694Z"
   },
   {
    "duration": 7,
    "start_time": "2022-05-18T05:50:19.072Z"
   },
   {
    "duration": 29,
    "start_time": "2022-05-18T05:50:19.511Z"
   },
   {
    "duration": 467,
    "start_time": "2022-05-18T05:50:21.650Z"
   },
   {
    "duration": 1304,
    "start_time": "2022-05-18T05:54:32.223Z"
   },
   {
    "duration": 3,
    "start_time": "2022-05-18T05:54:33.529Z"
   },
   {
    "duration": 21,
    "start_time": "2022-05-18T05:54:33.534Z"
   },
   {
    "duration": 42,
    "start_time": "2022-05-18T05:54:33.557Z"
   },
   {
    "duration": 57,
    "start_time": "2022-05-18T05:54:33.601Z"
   },
   {
    "duration": 14,
    "start_time": "2022-05-18T05:54:33.659Z"
   },
   {
    "duration": 17,
    "start_time": "2022-05-18T05:54:33.674Z"
   },
   {
    "duration": 33,
    "start_time": "2022-05-18T05:54:33.693Z"
   },
   {
    "duration": 57,
    "start_time": "2022-05-18T05:54:33.727Z"
   },
   {
    "duration": 43,
    "start_time": "2022-05-18T05:54:33.787Z"
   },
   {
    "duration": 10,
    "start_time": "2022-05-18T05:54:33.831Z"
   },
   {
    "duration": 11,
    "start_time": "2022-05-18T05:54:33.843Z"
   },
   {
    "duration": 11,
    "start_time": "2022-05-18T05:54:33.856Z"
   },
   {
    "duration": 10,
    "start_time": "2022-05-18T05:54:33.869Z"
   },
   {
    "duration": 15,
    "start_time": "2022-05-18T05:54:33.880Z"
   },
   {
    "duration": 13,
    "start_time": "2022-05-18T05:54:33.896Z"
   },
   {
    "duration": 8,
    "start_time": "2022-05-18T05:54:33.911Z"
   },
   {
    "duration": 21,
    "start_time": "2022-05-18T05:54:33.920Z"
   },
   {
    "duration": 7,
    "start_time": "2022-05-18T05:54:33.943Z"
   },
   {
    "duration": 34,
    "start_time": "2022-05-18T05:54:33.952Z"
   },
   {
    "duration": 18,
    "start_time": "2022-05-18T05:54:33.988Z"
   },
   {
    "duration": 17,
    "start_time": "2022-05-18T05:54:34.008Z"
   },
   {
    "duration": 11,
    "start_time": "2022-05-18T05:54:34.027Z"
   },
   {
    "duration": 33,
    "start_time": "2022-05-18T05:54:34.039Z"
   },
   {
    "duration": 49,
    "start_time": "2022-05-18T05:54:34.074Z"
   },
   {
    "duration": 141,
    "start_time": "2022-05-18T05:54:34.125Z"
   },
   {
    "duration": 120,
    "start_time": "2022-05-18T05:54:34.268Z"
   },
   {
    "duration": 52,
    "start_time": "2022-05-18T05:54:34.394Z"
   },
   {
    "duration": 148,
    "start_time": "2022-05-18T05:54:34.449Z"
   },
   {
    "duration": 106,
    "start_time": "2022-05-18T05:54:34.599Z"
   },
   {
    "duration": 40,
    "start_time": "2022-05-18T05:54:34.707Z"
   },
   {
    "duration": 130,
    "start_time": "2022-05-18T05:54:34.749Z"
   },
   {
    "duration": 120,
    "start_time": "2022-05-18T05:54:34.880Z"
   },
   {
    "duration": 40,
    "start_time": "2022-05-18T05:54:35.001Z"
   },
   {
    "duration": 4,
    "start_time": "2022-05-18T05:54:35.043Z"
   },
   {
    "duration": 16,
    "start_time": "2022-05-18T05:54:35.049Z"
   },
   {
    "duration": 16,
    "start_time": "2022-05-18T05:54:35.066Z"
   },
   {
    "duration": 3,
    "start_time": "2022-05-18T05:54:35.084Z"
   },
   {
    "duration": 19,
    "start_time": "2022-05-18T05:54:35.089Z"
   },
   {
    "duration": 26,
    "start_time": "2022-05-18T05:54:35.110Z"
   },
   {
    "duration": 100,
    "start_time": "2022-05-18T05:54:35.137Z"
   },
   {
    "duration": 108,
    "start_time": "2022-05-18T05:54:35.327Z"
   },
   {
    "duration": 202,
    "start_time": "2022-05-18T05:54:35.437Z"
   },
   {
    "duration": 34,
    "start_time": "2022-05-18T05:54:35.640Z"
   },
   {
    "duration": 20,
    "start_time": "2022-05-18T05:54:35.676Z"
   },
   {
    "duration": 52,
    "start_time": "2022-05-18T05:54:35.697Z"
   },
   {
    "duration": 28,
    "start_time": "2022-05-18T05:54:35.751Z"
   },
   {
    "duration": 31,
    "start_time": "2022-05-18T05:54:35.780Z"
   },
   {
    "duration": 17,
    "start_time": "2022-05-18T05:54:35.813Z"
   },
   {
    "duration": 193,
    "start_time": "2022-05-18T05:54:35.832Z"
   },
   {
    "duration": 106,
    "start_time": "2022-05-18T05:54:36.028Z"
   },
   {
    "duration": 195,
    "start_time": "2022-05-18T05:54:36.136Z"
   },
   {
    "duration": 8,
    "start_time": "2022-05-18T05:54:36.333Z"
   },
   {
    "duration": 8,
    "start_time": "2022-05-18T05:54:36.342Z"
   },
   {
    "duration": 17,
    "start_time": "2022-05-18T05:54:36.351Z"
   },
   {
    "duration": 5,
    "start_time": "2022-05-18T05:54:36.370Z"
   },
   {
    "duration": 23,
    "start_time": "2022-05-18T05:54:36.376Z"
   },
   {
    "duration": 32,
    "start_time": "2022-05-18T05:54:36.401Z"
   },
   {
    "duration": 99,
    "start_time": "2022-05-18T05:54:36.437Z"
   },
   {
    "duration": 189,
    "start_time": "2022-05-18T05:54:36.538Z"
   },
   {
    "duration": 101,
    "start_time": "2022-05-18T05:54:36.730Z"
   },
   {
    "duration": 9,
    "start_time": "2022-05-18T05:54:36.833Z"
   },
   {
    "duration": 8,
    "start_time": "2022-05-18T05:54:36.843Z"
   },
   {
    "duration": 11,
    "start_time": "2022-05-18T05:54:36.853Z"
   },
   {
    "duration": 11,
    "start_time": "2022-05-18T05:54:36.866Z"
   },
   {
    "duration": 9,
    "start_time": "2022-05-18T05:54:36.879Z"
   },
   {
    "duration": 7,
    "start_time": "2022-05-18T05:54:36.890Z"
   },
   {
    "duration": 5,
    "start_time": "2022-05-18T05:54:36.926Z"
   },
   {
    "duration": 12,
    "start_time": "2022-05-18T05:54:36.933Z"
   },
   {
    "duration": 9,
    "start_time": "2022-05-18T05:54:36.947Z"
   },
   {
    "duration": 7,
    "start_time": "2022-05-18T05:54:36.957Z"
   },
   {
    "duration": 8,
    "start_time": "2022-05-18T05:54:36.966Z"
   },
   {
    "duration": 5399,
    "start_time": "2022-05-18T05:54:36.976Z"
   },
   {
    "duration": 9,
    "start_time": "2022-05-18T05:54:42.378Z"
   },
   {
    "duration": 15,
    "start_time": "2022-05-18T05:54:42.388Z"
   },
   {
    "duration": 5308,
    "start_time": "2022-05-18T05:54:42.405Z"
   },
   {
    "duration": 16,
    "start_time": "2022-05-18T05:54:47.715Z"
   },
   {
    "duration": 18,
    "start_time": "2022-05-18T05:54:47.732Z"
   },
   {
    "duration": 5237,
    "start_time": "2022-05-18T05:54:47.752Z"
   },
   {
    "duration": 6,
    "start_time": "2022-05-18T05:54:52.991Z"
   },
   {
    "duration": 33,
    "start_time": "2022-05-18T05:54:52.999Z"
   },
   {
    "duration": 150,
    "start_time": "2022-05-18T05:54:53.038Z"
   },
   {
    "duration": 0,
    "start_time": "2022-05-18T05:54:53.189Z"
   },
   {
    "duration": 0,
    "start_time": "2022-05-18T05:54:53.191Z"
   },
   {
    "duration": 54,
    "start_time": "2022-05-18T05:55:25.544Z"
   },
   {
    "duration": 8,
    "start_time": "2022-05-18T05:55:47.993Z"
   },
   {
    "duration": 8,
    "start_time": "2022-05-18T05:55:54.666Z"
   },
   {
    "duration": 14,
    "start_time": "2022-05-18T05:55:55.089Z"
   },
   {
    "duration": 447,
    "start_time": "2022-05-18T05:55:56.191Z"
   },
   {
    "duration": 1475,
    "start_time": "2022-05-18T05:56:00.496Z"
   },
   {
    "duration": 4,
    "start_time": "2022-05-18T05:56:01.974Z"
   },
   {
    "duration": 27,
    "start_time": "2022-05-18T05:56:01.981Z"
   },
   {
    "duration": 36,
    "start_time": "2022-05-18T05:56:02.010Z"
   },
   {
    "duration": 77,
    "start_time": "2022-05-18T05:56:02.048Z"
   },
   {
    "duration": 18,
    "start_time": "2022-05-18T05:56:02.127Z"
   },
   {
    "duration": 151,
    "start_time": "2022-05-18T05:56:02.147Z"
   },
   {
    "duration": 35,
    "start_time": "2022-05-18T05:56:02.301Z"
   },
   {
    "duration": 39,
    "start_time": "2022-05-18T05:56:02.338Z"
   },
   {
    "duration": 41,
    "start_time": "2022-05-18T05:56:02.380Z"
   },
   {
    "duration": 31,
    "start_time": "2022-05-18T05:56:02.423Z"
   },
   {
    "duration": 21,
    "start_time": "2022-05-18T05:56:02.456Z"
   },
   {
    "duration": 14,
    "start_time": "2022-05-18T05:56:02.479Z"
   },
   {
    "duration": 14,
    "start_time": "2022-05-18T05:56:02.494Z"
   },
   {
    "duration": 24,
    "start_time": "2022-05-18T05:56:02.510Z"
   },
   {
    "duration": 12,
    "start_time": "2022-05-18T05:56:02.536Z"
   },
   {
    "duration": 23,
    "start_time": "2022-05-18T05:56:02.550Z"
   },
   {
    "duration": 31,
    "start_time": "2022-05-18T05:56:02.575Z"
   },
   {
    "duration": 11,
    "start_time": "2022-05-18T05:56:02.608Z"
   },
   {
    "duration": 23,
    "start_time": "2022-05-18T05:56:02.621Z"
   },
   {
    "duration": 27,
    "start_time": "2022-05-18T05:56:02.646Z"
   },
   {
    "duration": 29,
    "start_time": "2022-05-18T05:56:02.676Z"
   },
   {
    "duration": 18,
    "start_time": "2022-05-18T05:56:02.708Z"
   },
   {
    "duration": 45,
    "start_time": "2022-05-18T05:56:02.728Z"
   },
   {
    "duration": 95,
    "start_time": "2022-05-18T05:56:02.775Z"
   },
   {
    "duration": 140,
    "start_time": "2022-05-18T05:56:02.871Z"
   },
   {
    "duration": 136,
    "start_time": "2022-05-18T05:56:03.013Z"
   },
   {
    "duration": 35,
    "start_time": "2022-05-18T05:56:03.155Z"
   },
   {
    "duration": 164,
    "start_time": "2022-05-18T05:56:03.192Z"
   },
   {
    "duration": 138,
    "start_time": "2022-05-18T05:56:03.360Z"
   },
   {
    "duration": 43,
    "start_time": "2022-05-18T05:56:03.500Z"
   },
   {
    "duration": 133,
    "start_time": "2022-05-18T05:56:03.545Z"
   },
   {
    "duration": 118,
    "start_time": "2022-05-18T05:56:03.680Z"
   },
   {
    "duration": 56,
    "start_time": "2022-05-18T05:56:03.800Z"
   },
   {
    "duration": 7,
    "start_time": "2022-05-18T05:56:03.859Z"
   },
   {
    "duration": 17,
    "start_time": "2022-05-18T05:56:03.869Z"
   },
   {
    "duration": 22,
    "start_time": "2022-05-18T05:56:03.888Z"
   },
   {
    "duration": 15,
    "start_time": "2022-05-18T05:56:03.912Z"
   },
   {
    "duration": 22,
    "start_time": "2022-05-18T05:56:03.931Z"
   },
   {
    "duration": 76,
    "start_time": "2022-05-18T05:56:03.955Z"
   },
   {
    "duration": 100,
    "start_time": "2022-05-18T05:56:04.033Z"
   },
   {
    "duration": 93,
    "start_time": "2022-05-18T05:56:04.135Z"
   },
   {
    "duration": 100,
    "start_time": "2022-05-18T05:56:04.234Z"
   },
   {
    "duration": 88,
    "start_time": "2022-05-18T05:56:04.338Z"
   },
   {
    "duration": 6,
    "start_time": "2022-05-18T05:56:04.429Z"
   },
   {
    "duration": 19,
    "start_time": "2022-05-18T05:56:04.436Z"
   },
   {
    "duration": 14,
    "start_time": "2022-05-18T05:56:04.457Z"
   },
   {
    "duration": 22,
    "start_time": "2022-05-18T05:56:04.473Z"
   },
   {
    "duration": 49,
    "start_time": "2022-05-18T05:56:04.499Z"
   },
   {
    "duration": 86,
    "start_time": "2022-05-18T05:56:04.550Z"
   },
   {
    "duration": 192,
    "start_time": "2022-05-18T05:56:04.638Z"
   },
   {
    "duration": 207,
    "start_time": "2022-05-18T05:56:04.832Z"
   },
   {
    "duration": 9,
    "start_time": "2022-05-18T05:56:05.041Z"
   },
   {
    "duration": 10,
    "start_time": "2022-05-18T05:56:05.052Z"
   },
   {
    "duration": 18,
    "start_time": "2022-05-18T05:56:05.064Z"
   },
   {
    "duration": 3,
    "start_time": "2022-05-18T05:56:05.085Z"
   },
   {
    "duration": 30,
    "start_time": "2022-05-18T05:56:05.090Z"
   },
   {
    "duration": 23,
    "start_time": "2022-05-18T05:56:05.125Z"
   },
   {
    "duration": 79,
    "start_time": "2022-05-18T05:56:05.153Z"
   },
   {
    "duration": 192,
    "start_time": "2022-05-18T05:56:05.234Z"
   },
   {
    "duration": 109,
    "start_time": "2022-05-18T05:56:05.431Z"
   },
   {
    "duration": 16,
    "start_time": "2022-05-18T05:56:05.542Z"
   },
   {
    "duration": 20,
    "start_time": "2022-05-18T05:56:05.561Z"
   },
   {
    "duration": 14,
    "start_time": "2022-05-18T05:56:05.583Z"
   },
   {
    "duration": 26,
    "start_time": "2022-05-18T05:56:05.600Z"
   },
   {
    "duration": 14,
    "start_time": "2022-05-18T05:56:05.628Z"
   },
   {
    "duration": 8,
    "start_time": "2022-05-18T05:56:05.644Z"
   },
   {
    "duration": 10,
    "start_time": "2022-05-18T05:56:05.654Z"
   },
   {
    "duration": 13,
    "start_time": "2022-05-18T05:56:05.666Z"
   },
   {
    "duration": 13,
    "start_time": "2022-05-18T05:56:05.681Z"
   },
   {
    "duration": 6,
    "start_time": "2022-05-18T05:56:05.696Z"
   },
   {
    "duration": 10,
    "start_time": "2022-05-18T05:56:05.703Z"
   },
   {
    "duration": 5374,
    "start_time": "2022-05-18T05:56:05.725Z"
   },
   {
    "duration": 25,
    "start_time": "2022-05-18T05:56:11.101Z"
   },
   {
    "duration": 12,
    "start_time": "2022-05-18T05:56:11.129Z"
   },
   {
    "duration": 5456,
    "start_time": "2022-05-18T05:56:11.143Z"
   },
   {
    "duration": 8,
    "start_time": "2022-05-18T05:56:16.601Z"
   },
   {
    "duration": 24,
    "start_time": "2022-05-18T05:56:16.611Z"
   },
   {
    "duration": 5678,
    "start_time": "2022-05-18T05:56:16.637Z"
   },
   {
    "duration": 7,
    "start_time": "2022-05-18T05:56:22.326Z"
   },
   {
    "duration": 39,
    "start_time": "2022-05-18T05:56:22.335Z"
   },
   {
    "duration": 30,
    "start_time": "2022-05-18T05:56:22.381Z"
   },
   {
    "duration": 36,
    "start_time": "2022-05-18T05:56:22.413Z"
   },
   {
    "duration": 430,
    "start_time": "2022-05-18T05:56:22.451Z"
   }
  ],
  "kernelspec": {
   "display_name": "Python 3 (ipykernel)",
   "language": "python",
   "name": "python3"
  },
  "language_info": {
   "codemirror_mode": {
    "name": "ipython",
    "version": 3
   },
   "file_extension": ".py",
   "mimetype": "text/x-python",
   "name": "python",
   "nbconvert_exporter": "python",
   "pygments_lexer": "ipython3",
   "version": "3.9.7"
  },
  "toc": {
   "base_numbering": 1,
   "nav_menu": {},
   "number_sections": true,
   "sideBar": true,
   "skip_h1_title": true,
   "title_cell": "Table of Contents",
   "title_sidebar": "Contents",
   "toc_cell": false,
   "toc_position": {},
   "toc_section_display": true,
   "toc_window_display": false
  }
 },
 "nbformat": 4,
 "nbformat_minor": 2
}

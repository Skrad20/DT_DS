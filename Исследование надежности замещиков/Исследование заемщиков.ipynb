{
 "cells": [
  {
   "cell_type": "markdown",
   "id": "d2f2e6fc",
   "metadata": {},
   "source": [
    "# Исследование надежности заемщиков."
   ]
  },
  {
   "cell_type": "markdown",
   "id": "dd3d9a62",
   "metadata": {},
   "source": [
    "### О проекте\n",
    "Заказчик — кредитный отдел банка. \n",
    "\n",
    "Нужно разобраться, влияет ли семейное положение и количество детей клиента на факт погашения кредита в срок. \n",
    "\n",
    "Входные данные от банка — статистика о платёжеспособности клиентов.\n",
    "\n",
    "Результаты исследования будут учтены при построении модели кредитного скоринга — специальной системы, которая оценивает способность потенциального заёмщика вернуть кредит банку."
   ]
  },
  {
   "cell_type": "markdown",
   "id": "e75e26af",
   "metadata": {},
   "source": [
    "### Цели проекта установить:\n",
    "*     Есть ли зависимость между количеством детей и возвратом кредита в срок?\n",
    "*    Есть ли зависимость между семейным положением и возвратом кредита в срок?\n",
    "*    Есть ли зависимость между уровнем дохода и возвратом кредита в срок?\n",
    "*    Как разные цели кредита влияют на его возврат в срок?"
   ]
  },
  {
   "cell_type": "markdown",
   "id": "ffa5696d",
   "metadata": {},
   "source": [
    "Для удобства напишем пояснения к данным в столбцах"
   ]
  },
  {
   "cell_type": "code",
   "execution_count": 1,
   "id": "1d429d81",
   "metadata": {},
   "outputs": [],
   "source": [
    "dict_info_for_columns = {\n",
    "    'children': 'количество детей в семье',\n",
    "    'days_employed': 'общий трудовой стаж в днях',\n",
    "    'dob_years': 'возраст клиента в годах',\n",
    "    'education': 'уровень образования клиента',\n",
    "    'education_id': 'идентификатор уровня образования',\n",
    "    'family_status': 'семейное положение',\n",
    "    'family_status_id': 'идентификатор семейного положения',\n",
    "    'gender': 'пол клиента',\n",
    "    'income_type': 'тип занятости',\n",
    "    'debt': 'имел ли задолженность по возврату кредитов',\n",
    "    'total_income': 'ежемесячный доход',\n",
    "    'purpose': 'цель получения кредита',\n",
    "}"
   ]
  },
  {
   "cell_type": "markdown",
   "id": "2a5e7f93",
   "metadata": {},
   "source": [
    "### Шаг 1. Обзор данных"
   ]
  },
  {
   "cell_type": "code",
   "execution_count": 2,
   "id": "d6dc80fd",
   "metadata": {},
   "outputs": [],
   "source": [
    "import pandas as pd\n",
    "import matplotlib.pyplot as plt"
   ]
  },
  {
   "cell_type": "code",
   "execution_count": 3,
   "id": "bc8ca6e1",
   "metadata": {},
   "outputs": [],
   "source": [
    "df = pd.read_csv(\"/datasets/data.csv\")"
   ]
  },
  {
   "cell_type": "markdown",
   "id": "a37f1b40",
   "metadata": {},
   "source": [
    "Данные загружены, взглянем как выглядят данные"
   ]
  },
  {
   "cell_type": "code",
   "execution_count": 4,
   "id": "be408689",
   "metadata": {},
   "outputs": [
    {
     "data": {
      "text/html": [
       "<div>\n",
       "<style scoped>\n",
       "    .dataframe tbody tr th:only-of-type {\n",
       "        vertical-align: middle;\n",
       "    }\n",
       "\n",
       "    .dataframe tbody tr th {\n",
       "        vertical-align: top;\n",
       "    }\n",
       "\n",
       "    .dataframe thead th {\n",
       "        text-align: right;\n",
       "    }\n",
       "</style>\n",
       "<table border=\"1\" class=\"dataframe\">\n",
       "  <thead>\n",
       "    <tr style=\"text-align: right;\">\n",
       "      <th></th>\n",
       "      <th>children</th>\n",
       "      <th>days_employed</th>\n",
       "      <th>dob_years</th>\n",
       "      <th>education</th>\n",
       "      <th>education_id</th>\n",
       "      <th>family_status</th>\n",
       "      <th>family_status_id</th>\n",
       "      <th>gender</th>\n",
       "      <th>income_type</th>\n",
       "      <th>debt</th>\n",
       "      <th>total_income</th>\n",
       "      <th>purpose</th>\n",
       "    </tr>\n",
       "  </thead>\n",
       "  <tbody>\n",
       "    <tr>\n",
       "      <td>0</td>\n",
       "      <td>1</td>\n",
       "      <td>-8437.673028</td>\n",
       "      <td>42</td>\n",
       "      <td>высшее</td>\n",
       "      <td>0</td>\n",
       "      <td>женат / замужем</td>\n",
       "      <td>0</td>\n",
       "      <td>F</td>\n",
       "      <td>сотрудник</td>\n",
       "      <td>0</td>\n",
       "      <td>253875.639453</td>\n",
       "      <td>покупка жилья</td>\n",
       "    </tr>\n",
       "    <tr>\n",
       "      <td>1</td>\n",
       "      <td>1</td>\n",
       "      <td>-4024.803754</td>\n",
       "      <td>36</td>\n",
       "      <td>среднее</td>\n",
       "      <td>1</td>\n",
       "      <td>женат / замужем</td>\n",
       "      <td>0</td>\n",
       "      <td>F</td>\n",
       "      <td>сотрудник</td>\n",
       "      <td>0</td>\n",
       "      <td>112080.014102</td>\n",
       "      <td>приобретение автомобиля</td>\n",
       "    </tr>\n",
       "    <tr>\n",
       "      <td>2</td>\n",
       "      <td>0</td>\n",
       "      <td>-5623.422610</td>\n",
       "      <td>33</td>\n",
       "      <td>Среднее</td>\n",
       "      <td>1</td>\n",
       "      <td>женат / замужем</td>\n",
       "      <td>0</td>\n",
       "      <td>M</td>\n",
       "      <td>сотрудник</td>\n",
       "      <td>0</td>\n",
       "      <td>145885.952297</td>\n",
       "      <td>покупка жилья</td>\n",
       "    </tr>\n",
       "    <tr>\n",
       "      <td>3</td>\n",
       "      <td>3</td>\n",
       "      <td>-4124.747207</td>\n",
       "      <td>32</td>\n",
       "      <td>среднее</td>\n",
       "      <td>1</td>\n",
       "      <td>женат / замужем</td>\n",
       "      <td>0</td>\n",
       "      <td>M</td>\n",
       "      <td>сотрудник</td>\n",
       "      <td>0</td>\n",
       "      <td>267628.550329</td>\n",
       "      <td>дополнительное образование</td>\n",
       "    </tr>\n",
       "    <tr>\n",
       "      <td>4</td>\n",
       "      <td>0</td>\n",
       "      <td>340266.072047</td>\n",
       "      <td>53</td>\n",
       "      <td>среднее</td>\n",
       "      <td>1</td>\n",
       "      <td>гражданский брак</td>\n",
       "      <td>1</td>\n",
       "      <td>F</td>\n",
       "      <td>пенсионер</td>\n",
       "      <td>0</td>\n",
       "      <td>158616.077870</td>\n",
       "      <td>сыграть свадьбу</td>\n",
       "    </tr>\n",
       "  </tbody>\n",
       "</table>\n",
       "</div>"
      ],
      "text/plain": [
       "   children  days_employed  dob_years education  education_id  \\\n",
       "0         1   -8437.673028         42    высшее             0   \n",
       "1         1   -4024.803754         36   среднее             1   \n",
       "2         0   -5623.422610         33   Среднее             1   \n",
       "3         3   -4124.747207         32   среднее             1   \n",
       "4         0  340266.072047         53   среднее             1   \n",
       "\n",
       "      family_status  family_status_id gender income_type  debt   total_income  \\\n",
       "0   женат / замужем                 0      F   сотрудник     0  253875.639453   \n",
       "1   женат / замужем                 0      F   сотрудник     0  112080.014102   \n",
       "2   женат / замужем                 0      M   сотрудник     0  145885.952297   \n",
       "3   женат / замужем                 0      M   сотрудник     0  267628.550329   \n",
       "4  гражданский брак                 1      F   пенсионер     0  158616.077870   \n",
       "\n",
       "                      purpose  \n",
       "0               покупка жилья  \n",
       "1     приобретение автомобиля  \n",
       "2               покупка жилья  \n",
       "3  дополнительное образование  \n",
       "4             сыграть свадьбу  "
      ]
     },
     "execution_count": 4,
     "metadata": {},
     "output_type": "execute_result"
    }
   ],
   "source": [
    "df.head()"
   ]
  },
  {
   "cell_type": "markdown",
   "id": "cbf30dda",
   "metadata": {},
   "source": [
    "Оценим размеры датасета"
   ]
  },
  {
   "cell_type": "code",
   "execution_count": 5,
   "id": "a1337a7d",
   "metadata": {},
   "outputs": [
    {
     "data": {
      "text/plain": [
       "(21525, 12)"
      ]
     },
     "execution_count": 5,
     "metadata": {},
     "output_type": "execute_result"
    }
   ],
   "source": [
    "df.shape"
   ]
  },
  {
   "cell_type": "markdown",
   "id": "e5da9655",
   "metadata": {},
   "source": [
    "В дастасете 21525 строк и 12 столбцов. Оценим общее состояние датасета."
   ]
  },
  {
   "cell_type": "code",
   "execution_count": 6,
   "id": "57c51a83",
   "metadata": {},
   "outputs": [
    {
     "name": "stdout",
     "output_type": "stream",
     "text": [
      "<class 'pandas.core.frame.DataFrame'>\n",
      "RangeIndex: 21525 entries, 0 to 21524\n",
      "Data columns (total 12 columns):\n",
      "children            21525 non-null int64\n",
      "days_employed       19351 non-null float64\n",
      "dob_years           21525 non-null int64\n",
      "education           21525 non-null object\n",
      "education_id        21525 non-null int64\n",
      "family_status       21525 non-null object\n",
      "family_status_id    21525 non-null int64\n",
      "gender              21525 non-null object\n",
      "income_type         21525 non-null object\n",
      "debt                21525 non-null int64\n",
      "total_income        19351 non-null float64\n",
      "purpose             21525 non-null object\n",
      "dtypes: float64(2), int64(5), object(5)\n",
      "memory usage: 2.0+ MB\n"
     ]
    }
   ],
   "source": [
    "df.info()"
   ]
  },
  {
   "cell_type": "markdown",
   "id": "10866f4f",
   "metadata": {},
   "source": [
    "* Названия стоблцов адекватны содержимому. Названия без ошибок и в нижнем регистре.\n",
    "* Типы данных адекватные. Столбцы education, education_id, family_status, family_status_id, income_type, debt, purpose исходя из описания имееют категориальную природу. Возможно имеет смысл перевести их в соответствующий тип. Смысловое повторение столбцов говорит об избыточности данных.\n",
    "* В стоблцах days_employed и total_income есть пропуски. Они  занимают значительную часть данных, около 10%. Попробуем восстановить данные."
   ]
  },
  {
   "cell_type": "markdown",
   "id": "89a7e228",
   "metadata": {},
   "source": [
    "Проверим данные на адекватность"
   ]
  },
  {
   "cell_type": "code",
   "execution_count": 7,
   "id": "20f802bf",
   "metadata": {},
   "outputs": [
    {
     "data": {
      "text/html": [
       "<div>\n",
       "<style scoped>\n",
       "    .dataframe tbody tr th:only-of-type {\n",
       "        vertical-align: middle;\n",
       "    }\n",
       "\n",
       "    .dataframe tbody tr th {\n",
       "        vertical-align: top;\n",
       "    }\n",
       "\n",
       "    .dataframe thead th {\n",
       "        text-align: right;\n",
       "    }\n",
       "</style>\n",
       "<table border=\"1\" class=\"dataframe\">\n",
       "  <thead>\n",
       "    <tr style=\"text-align: right;\">\n",
       "      <th></th>\n",
       "      <th>children</th>\n",
       "      <th>days_employed</th>\n",
       "      <th>dob_years</th>\n",
       "      <th>education_id</th>\n",
       "      <th>family_status_id</th>\n",
       "      <th>debt</th>\n",
       "      <th>total_income</th>\n",
       "    </tr>\n",
       "  </thead>\n",
       "  <tbody>\n",
       "    <tr>\n",
       "      <td>count</td>\n",
       "      <td>21525.000000</td>\n",
       "      <td>19351.000000</td>\n",
       "      <td>21525.000000</td>\n",
       "      <td>21525.000000</td>\n",
       "      <td>21525.000000</td>\n",
       "      <td>21525.000000</td>\n",
       "      <td>1.935100e+04</td>\n",
       "    </tr>\n",
       "    <tr>\n",
       "      <td>mean</td>\n",
       "      <td>0.538908</td>\n",
       "      <td>63046.497661</td>\n",
       "      <td>43.293380</td>\n",
       "      <td>0.817236</td>\n",
       "      <td>0.972544</td>\n",
       "      <td>0.080883</td>\n",
       "      <td>1.674223e+05</td>\n",
       "    </tr>\n",
       "    <tr>\n",
       "      <td>std</td>\n",
       "      <td>1.381587</td>\n",
       "      <td>140827.311974</td>\n",
       "      <td>12.574584</td>\n",
       "      <td>0.548138</td>\n",
       "      <td>1.420324</td>\n",
       "      <td>0.272661</td>\n",
       "      <td>1.029716e+05</td>\n",
       "    </tr>\n",
       "    <tr>\n",
       "      <td>min</td>\n",
       "      <td>-1.000000</td>\n",
       "      <td>-18388.949901</td>\n",
       "      <td>0.000000</td>\n",
       "      <td>0.000000</td>\n",
       "      <td>0.000000</td>\n",
       "      <td>0.000000</td>\n",
       "      <td>2.066726e+04</td>\n",
       "    </tr>\n",
       "    <tr>\n",
       "      <td>25%</td>\n",
       "      <td>0.000000</td>\n",
       "      <td>-2747.423625</td>\n",
       "      <td>33.000000</td>\n",
       "      <td>1.000000</td>\n",
       "      <td>0.000000</td>\n",
       "      <td>0.000000</td>\n",
       "      <td>1.030532e+05</td>\n",
       "    </tr>\n",
       "    <tr>\n",
       "      <td>50%</td>\n",
       "      <td>0.000000</td>\n",
       "      <td>-1203.369529</td>\n",
       "      <td>42.000000</td>\n",
       "      <td>1.000000</td>\n",
       "      <td>0.000000</td>\n",
       "      <td>0.000000</td>\n",
       "      <td>1.450179e+05</td>\n",
       "    </tr>\n",
       "    <tr>\n",
       "      <td>75%</td>\n",
       "      <td>1.000000</td>\n",
       "      <td>-291.095954</td>\n",
       "      <td>53.000000</td>\n",
       "      <td>1.000000</td>\n",
       "      <td>1.000000</td>\n",
       "      <td>0.000000</td>\n",
       "      <td>2.034351e+05</td>\n",
       "    </tr>\n",
       "    <tr>\n",
       "      <td>max</td>\n",
       "      <td>20.000000</td>\n",
       "      <td>401755.400475</td>\n",
       "      <td>75.000000</td>\n",
       "      <td>4.000000</td>\n",
       "      <td>4.000000</td>\n",
       "      <td>1.000000</td>\n",
       "      <td>2.265604e+06</td>\n",
       "    </tr>\n",
       "  </tbody>\n",
       "</table>\n",
       "</div>"
      ],
      "text/plain": [
       "           children  days_employed     dob_years  education_id  \\\n",
       "count  21525.000000   19351.000000  21525.000000  21525.000000   \n",
       "mean       0.538908   63046.497661     43.293380      0.817236   \n",
       "std        1.381587  140827.311974     12.574584      0.548138   \n",
       "min       -1.000000  -18388.949901      0.000000      0.000000   \n",
       "25%        0.000000   -2747.423625     33.000000      1.000000   \n",
       "50%        0.000000   -1203.369529     42.000000      1.000000   \n",
       "75%        1.000000    -291.095954     53.000000      1.000000   \n",
       "max       20.000000  401755.400475     75.000000      4.000000   \n",
       "\n",
       "       family_status_id          debt  total_income  \n",
       "count      21525.000000  21525.000000  1.935100e+04  \n",
       "mean           0.972544      0.080883  1.674223e+05  \n",
       "std            1.420324      0.272661  1.029716e+05  \n",
       "min            0.000000      0.000000  2.066726e+04  \n",
       "25%            0.000000      0.000000  1.030532e+05  \n",
       "50%            0.000000      0.000000  1.450179e+05  \n",
       "75%            1.000000      0.000000  2.034351e+05  \n",
       "max            4.000000      1.000000  2.265604e+06  "
      ]
     },
     "execution_count": 7,
     "metadata": {},
     "output_type": "execute_result"
    }
   ],
   "source": [
    "df.describe()"
   ]
  },
  {
   "cell_type": "markdown",
   "id": "c1a5c8aa",
   "metadata": {},
   "source": [
    "Столбец children имеет сомнительный размах от -1 до 20 детей. Двадцать ещё можно принять, но минус один вызывает сомнения. Возможно, ошибка при заполнении данных, возможно проблема с выгрукой.\n",
    "\n",
    "Столбец days_employed имеет большое количество отрицательных значений (более 75%). Нужно выяснить с чем может быть связано такое распределение данных.\n",
    "\n",
    "Столбец dob_years имеет минимальное значение равное нулю, хотя в столбце должен быть указан возраст. Нужно проверить связь с другими наружениями в данных.\n"
   ]
  },
  {
   "cell_type": "markdown",
   "id": "370f2bca",
   "metadata": {},
   "source": [
    "Проверим данные на дубликаты"
   ]
  },
  {
   "cell_type": "code",
   "execution_count": 8,
   "id": "5ddcfd7b",
   "metadata": {},
   "outputs": [
    {
     "data": {
      "text/plain": [
       "54"
      ]
     },
     "execution_count": 8,
     "metadata": {},
     "output_type": "execute_result"
    }
   ],
   "source": [
    "df.duplicated().sum()"
   ]
  },
  {
   "cell_type": "markdown",
   "id": "45ba682a",
   "metadata": {},
   "source": [
    "Обнаружено 54 полных дубликата. Проверим наличие дубликатов в стоблца связанных с неверным обзначением групп. Количественные данные нет необходимости проверять."
   ]
  },
  {
   "cell_type": "code",
   "execution_count": 9,
   "id": "2e5bc3d4",
   "metadata": {},
   "outputs": [
    {
     "data": {
      "text/plain": [
       "среднее                13750\n",
       "высшее                  4718\n",
       "СРЕДНЕЕ                  772\n",
       "Среднее                  711\n",
       "неоконченное высшее      668\n",
       "ВЫСШЕЕ                   274\n",
       "Высшее                   268\n",
       "начальное                250\n",
       "Неоконченное высшее       47\n",
       "НЕОКОНЧЕННОЕ ВЫСШЕЕ       29\n",
       "НАЧАЛЬНОЕ                 17\n",
       "Начальное                 15\n",
       "ученая степень             4\n",
       "УЧЕНАЯ СТЕПЕНЬ             1\n",
       "Ученая степень             1\n",
       "Name: education, dtype: int64"
      ]
     },
     "execution_count": 9,
     "metadata": {},
     "output_type": "execute_result"
    }
   ],
   "source": [
    "df.education.value_counts()"
   ]
  },
  {
   "cell_type": "markdown",
   "id": "ca322ac3",
   "metadata": {},
   "source": [
    "Присутвуют неявные повторы связанные с различным написание категорий. Нужно привести всё к нижнему регистру. Все группы в достаточном количестве. Записи с учёными степенями представлены незначительно, всего шесть записей."
   ]
  },
  {
   "cell_type": "code",
   "execution_count": 10,
   "id": "4240cd49",
   "metadata": {},
   "outputs": [
    {
     "data": {
      "text/plain": [
       "женат / замужем          12380\n",
       "гражданский брак          4177\n",
       "Не женат / не замужем     2813\n",
       "в разводе                 1195\n",
       "вдовец / вдова             960\n",
       "Name: family_status, dtype: int64"
      ]
     },
     "execution_count": 10,
     "metadata": {},
     "output_type": "execute_result"
    }
   ],
   "source": [
    "df.family_status.value_counts()"
   ]
  },
  {
   "cell_type": "markdown",
   "id": "f6cd11a7",
   "metadata": {},
   "source": [
    "Поторов не обнаружено, но данные в разных регистрах, имеет смысл привести все к нижнему. Все группы хорошо представлены."
   ]
  },
  {
   "cell_type": "code",
   "execution_count": 11,
   "id": "0b3576e7",
   "metadata": {},
   "outputs": [
    {
     "data": {
      "text/plain": [
       "F      14236\n",
       "M       7288\n",
       "XNA        1\n",
       "Name: gender, dtype: int64"
      ]
     },
     "execution_count": 11,
     "metadata": {},
     "output_type": "execute_result"
    }
   ],
   "source": [
    "df.gender.value_counts()"
   ]
  },
  {
   "cell_type": "code",
   "execution_count": 12,
   "id": "251efb66",
   "metadata": {},
   "outputs": [
    {
     "data": {
      "text/html": [
       "<div>\n",
       "<style scoped>\n",
       "    .dataframe tbody tr th:only-of-type {\n",
       "        vertical-align: middle;\n",
       "    }\n",
       "\n",
       "    .dataframe tbody tr th {\n",
       "        vertical-align: top;\n",
       "    }\n",
       "\n",
       "    .dataframe thead th {\n",
       "        text-align: right;\n",
       "    }\n",
       "</style>\n",
       "<table border=\"1\" class=\"dataframe\">\n",
       "  <thead>\n",
       "    <tr style=\"text-align: right;\">\n",
       "      <th></th>\n",
       "      <th>children</th>\n",
       "      <th>days_employed</th>\n",
       "      <th>dob_years</th>\n",
       "      <th>education</th>\n",
       "      <th>education_id</th>\n",
       "      <th>family_status</th>\n",
       "      <th>family_status_id</th>\n",
       "      <th>gender</th>\n",
       "      <th>income_type</th>\n",
       "      <th>debt</th>\n",
       "      <th>total_income</th>\n",
       "      <th>purpose</th>\n",
       "    </tr>\n",
       "  </thead>\n",
       "  <tbody>\n",
       "    <tr>\n",
       "      <td>10701</td>\n",
       "      <td>0</td>\n",
       "      <td>-2358.600502</td>\n",
       "      <td>24</td>\n",
       "      <td>неоконченное высшее</td>\n",
       "      <td>2</td>\n",
       "      <td>гражданский брак</td>\n",
       "      <td>1</td>\n",
       "      <td>XNA</td>\n",
       "      <td>компаньон</td>\n",
       "      <td>0</td>\n",
       "      <td>203905.157261</td>\n",
       "      <td>покупка недвижимости</td>\n",
       "    </tr>\n",
       "  </tbody>\n",
       "</table>\n",
       "</div>"
      ],
      "text/plain": [
       "       children  days_employed  dob_years            education  education_id  \\\n",
       "10701         0   -2358.600502         24  неоконченное высшее             2   \n",
       "\n",
       "          family_status  family_status_id gender income_type  debt  \\\n",
       "10701  гражданский брак                 1    XNA   компаньон     0   \n",
       "\n",
       "        total_income               purpose  \n",
       "10701  203905.157261  покупка недвижимости  "
      ]
     },
     "execution_count": 12,
     "metadata": {},
     "output_type": "execute_result"
    }
   ],
   "source": [
    "df[df.gender == \"XNA\"]"
   ]
  },
  {
   "cell_type": "markdown",
   "id": "287d2ccb",
   "metadata": {},
   "source": [
    "Присутвует неизвестный тип XNA. Возможно, это связано с нежеланием указывать свой пол, такая запись всего одна. Возможно имеет смысл её удалить. "
   ]
  },
  {
   "cell_type": "code",
   "execution_count": 13,
   "id": "fd04b62f",
   "metadata": {},
   "outputs": [
    {
     "data": {
      "text/plain": [
       "array(['покупка жилья', 'приобретение автомобиля',\n",
       "       'дополнительное образование', 'сыграть свадьбу',\n",
       "       'операции с жильем', 'образование', 'на проведение свадьбы',\n",
       "       'покупка жилья для семьи', 'покупка недвижимости',\n",
       "       'покупка коммерческой недвижимости', 'покупка жилой недвижимости',\n",
       "       'строительство собственной недвижимости', 'недвижимость',\n",
       "       'строительство недвижимости', 'на покупку подержанного автомобиля',\n",
       "       'на покупку своего автомобиля',\n",
       "       'операции с коммерческой недвижимостью',\n",
       "       'строительство жилой недвижимости', 'жилье',\n",
       "       'операции со своей недвижимостью', 'автомобили',\n",
       "       'заняться образованием', 'сделка с подержанным автомобилем',\n",
       "       'получение образования', 'автомобиль', 'свадьба',\n",
       "       'получение дополнительного образования', 'покупка своего жилья',\n",
       "       'операции с недвижимостью', 'получение высшего образования',\n",
       "       'свой автомобиль', 'сделка с автомобилем',\n",
       "       'профильное образование', 'высшее образование',\n",
       "       'покупка жилья для сдачи', 'на покупку автомобиля', 'ремонт жилью',\n",
       "       'заняться высшим образованием'], dtype=object)"
      ]
     },
     "execution_count": 13,
     "metadata": {},
     "output_type": "execute_result"
    }
   ],
   "source": [
    "df.purpose.unique()"
   ]
  },
  {
   "cell_type": "markdown",
   "id": "81500641",
   "metadata": {},
   "source": [
    "В данных присутвуют неявные повторы. Цели кредитов сходятся, но записаны по разному. Возможно, имеет смысл стандартизировать цели."
   ]
  },
  {
   "cell_type": "code",
   "execution_count": 14,
   "id": "4f59fd3e",
   "metadata": {},
   "outputs": [
    {
     "data": {
      "text/plain": [
       "0    19784\n",
       "1     1741\n",
       "Name: debt, dtype: int64"
      ]
     },
     "execution_count": 14,
     "metadata": {},
     "output_type": "execute_result"
    }
   ],
   "source": [
    "df.debt.value_counts()"
   ]
  },
  {
   "cell_type": "markdown",
   "id": "5c8868ab",
   "metadata": {},
   "source": [
    "Две группы, как и должно быть"
   ]
  },
  {
   "cell_type": "code",
   "execution_count": 15,
   "id": "4aa85f7e",
   "metadata": {},
   "outputs": [
    {
     "data": {
      "text/plain": [
       " 0     14149\n",
       " 1      4818\n",
       " 2      2055\n",
       " 3       330\n",
       " 20       76\n",
       "-1        47\n",
       " 4        41\n",
       " 5         9\n",
       "Name: children, dtype: int64"
      ]
     },
     "execution_count": 15,
     "metadata": {},
     "output_type": "execute_result"
    }
   ],
   "source": [
    "df.children.value_counts()"
   ]
  },
  {
   "cell_type": "markdown",
   "id": "93f9e777",
   "metadata": {},
   "source": [
    "Повторяющихся групп не обнаружено. Группа с пятью детьми также содержит незначительное количество данных."
   ]
  },
  {
   "cell_type": "code",
   "execution_count": 16,
   "id": "30ba820d",
   "metadata": {},
   "outputs": [
    {
     "data": {
      "text/plain": [
       "сотрудник          11119\n",
       "компаньон           5085\n",
       "пенсионер           3856\n",
       "госслужащий         1459\n",
       "предприниматель        2\n",
       "безработный            2\n",
       "в декрете              1\n",
       "студент                1\n",
       "Name: income_type, dtype: int64"
      ]
     },
     "execution_count": 16,
     "metadata": {},
     "output_type": "execute_result"
    }
   ],
   "source": [
    "df.income_type.value_counts()"
   ]
  },
  {
   "cell_type": "markdown",
   "id": "b39712df",
   "metadata": {},
   "source": [
    "Группы адекватные, без дупликатов. В нескольких группах очень мало записей. Такие наблюдения нужно будет убрать из анализа."
   ]
  },
  {
   "cell_type": "markdown",
   "id": "91b0b2eb",
   "metadata": {},
   "source": [
    "* В целом данные избыточны, т.к. имеются повторения категориальных переменных в форме названия и обозначения числом. \n",
    "* При этом часть групп в категориальных перменных представлена слабо. От их использования придется отказаться.\n",
    "* Возможно, было бы необходимо, обсудить с колллегами необходимомть такой выгрузки. Так как за большим количеством стоблцов можно не увидеть других ошибок. \n",
    "* В частности, названия столбцов адекватны, типы данных нужно немного подправить.\n",
    "\n",
    "Основными задачами предобработки будут заполенение пропусков, исследование и утилизация аномалий, также необходимо провести работу с повторами. Особого внимания заслуживают повторы в целях для кредита."
   ]
  },
  {
   "cell_type": "markdown",
   "id": "a54fb8a8",
   "metadata": {},
   "source": [
    "### Шаг 2.0 Удаление несостоятельных групп"
   ]
  },
  {
   "cell_type": "markdown",
   "id": "9f537929",
   "metadata": {},
   "source": [
    "Для предобработки нужно удалить малые группы, чтобы они не мешали обработке и категоризации данных"
   ]
  },
  {
   "cell_type": "code",
   "execution_count": 17,
   "id": "10b9637d",
   "metadata": {},
   "outputs": [],
   "source": [
    "len_data_start = len(df)"
   ]
  },
  {
   "cell_type": "markdown",
   "id": "5ac13df8",
   "metadata": {},
   "source": [
    "Начнём с неизвестного пола. Там всего одно наблюдение."
   ]
  },
  {
   "cell_type": "code",
   "execution_count": 18,
   "id": "ed5aa8b9",
   "metadata": {},
   "outputs": [
    {
     "data": {
      "text/plain": [
       "F      14236\n",
       "M       7288\n",
       "XNA        1\n",
       "Name: gender, dtype: int64"
      ]
     },
     "execution_count": 18,
     "metadata": {},
     "output_type": "execute_result"
    }
   ],
   "source": [
    "df.gender.value_counts()"
   ]
  },
  {
   "cell_type": "code",
   "execution_count": 19,
   "id": "9b9ab71d",
   "metadata": {},
   "outputs": [
    {
     "name": "stdout",
     "output_type": "stream",
     "text": [
      "Удаленные данные занимают от всей выборки 0.0046%\n"
     ]
    }
   ],
   "source": [
    "count = len(list(df[df.gender == \"XNA\"].index))\n",
    "print(f\"Удаленные данные занимают от всей выборки {(count/len(df)):.4%}\")"
   ]
  },
  {
   "cell_type": "code",
   "execution_count": 20,
   "id": "96f596f7",
   "metadata": {},
   "outputs": [],
   "source": [
    "df = df.drop(list(df[df.gender == \"XNA\"].index), axis=0).reset_index(drop=True)"
   ]
  },
  {
   "cell_type": "code",
   "execution_count": 21,
   "id": "fdf0ba92",
   "metadata": {},
   "outputs": [
    {
     "data": {
      "text/plain": [
       "F    14236\n",
       "M     7288\n",
       "Name: gender, dtype: int64"
      ]
     },
     "execution_count": 21,
     "metadata": {},
     "output_type": "execute_result"
    }
   ],
   "source": [
    "df.gender.value_counts()"
   ]
  },
  {
   "cell_type": "markdown",
   "id": "65bbea2d",
   "metadata": {},
   "source": [
    "Занимаемая должность"
   ]
  },
  {
   "cell_type": "code",
   "execution_count": 22,
   "id": "e913d201",
   "metadata": {},
   "outputs": [
    {
     "data": {
      "text/plain": [
       "сотрудник          11119\n",
       "компаньон           5084\n",
       "пенсионер           3856\n",
       "госслужащий         1459\n",
       "предприниматель        2\n",
       "безработный            2\n",
       "в декрете              1\n",
       "студент                1\n",
       "Name: income_type, dtype: int64"
      ]
     },
     "execution_count": 22,
     "metadata": {},
     "output_type": "execute_result"
    }
   ],
   "source": [
    "df.income_type.value_counts()"
   ]
  },
  {
   "cell_type": "code",
   "execution_count": 23,
   "id": "ca8de6d2",
   "metadata": {},
   "outputs": [],
   "source": [
    "list_drop_income_type = [\n",
    "    'предприниматель', 'безработный',\n",
    "    'студент', 'в декрете'\n",
    "]"
   ]
  },
  {
   "cell_type": "code",
   "execution_count": 24,
   "id": "cab4b156",
   "metadata": {},
   "outputs": [],
   "source": [
    "count = 0\n",
    "for val in list_drop_income_type:\n",
    "    count += len(list(df[df.income_type == val].index))"
   ]
  },
  {
   "cell_type": "code",
   "execution_count": 25,
   "id": "14381558",
   "metadata": {},
   "outputs": [
    {
     "name": "stdout",
     "output_type": "stream",
     "text": [
      "Удаленные данные занимают от всей выборки 0.0279%\n"
     ]
    }
   ],
   "source": [
    "print(f\"Удаленные данные занимают от всей выборки {(count/len(df)):.4%}\")"
   ]
  },
  {
   "cell_type": "markdown",
   "id": "92b9f76d",
   "metadata": {},
   "source": [
    "ОБъём не значительный можно удалить"
   ]
  },
  {
   "cell_type": "code",
   "execution_count": 26,
   "id": "fa62d9c4",
   "metadata": {
    "scrolled": true
   },
   "outputs": [
    {
     "name": "stdout",
     "output_type": "stream",
     "text": [
      "предприниматель\n",
      "безработный\n",
      "студент\n",
      "в декрете\n"
     ]
    }
   ],
   "source": [
    "for val in list_drop_income_type:\n",
    "    print(val)\n",
    "    df = df.drop(list(df[df.income_type == val].index), axis=0).reset_index(drop=True)"
   ]
  },
  {
   "cell_type": "code",
   "execution_count": 27,
   "id": "16cae00b",
   "metadata": {},
   "outputs": [
    {
     "data": {
      "text/plain": [
       "сотрудник      11119\n",
       "компаньон       5084\n",
       "пенсионер       3856\n",
       "госслужащий     1459\n",
       "Name: income_type, dtype: int64"
      ]
     },
     "execution_count": 27,
     "metadata": {},
     "output_type": "execute_result"
    }
   ],
   "source": [
    "df.income_type.value_counts()"
   ]
  },
  {
   "cell_type": "markdown",
   "id": "8b740f3f",
   "metadata": {},
   "source": [
    "Образование"
   ]
  },
  {
   "cell_type": "code",
   "execution_count": 28,
   "id": "6163d678",
   "metadata": {},
   "outputs": [
    {
     "data": {
      "text/plain": [
       "среднее                13749\n",
       "высшее                  4715\n",
       "СРЕДНЕЕ                  771\n",
       "Среднее                  711\n",
       "неоконченное высшее      667\n",
       "ВЫСШЕЕ                   274\n",
       "Высшее                   267\n",
       "начальное                250\n",
       "Неоконченное высшее       47\n",
       "НЕОКОНЧЕННОЕ ВЫСШЕЕ       29\n",
       "НАЧАЛЬНОЕ                 17\n",
       "Начальное                 15\n",
       "ученая степень             4\n",
       "УЧЕНАЯ СТЕПЕНЬ             1\n",
       "Ученая степень             1\n",
       "Name: education, dtype: int64"
      ]
     },
     "execution_count": 28,
     "metadata": {},
     "output_type": "execute_result"
    }
   ],
   "source": [
    "df.education.value_counts()"
   ]
  },
  {
   "cell_type": "markdown",
   "id": "cea37f01",
   "metadata": {},
   "source": [
    "Приведем данные к нижнему регистру, для адекватной проверки на повторы"
   ]
  },
  {
   "cell_type": "code",
   "execution_count": 29,
   "id": "eb9af374",
   "metadata": {},
   "outputs": [],
   "source": [
    "df.education = df.education.str.lower()"
   ]
  },
  {
   "cell_type": "markdown",
   "id": "638b0fd4",
   "metadata": {},
   "source": [
    "Проверим"
   ]
  },
  {
   "cell_type": "code",
   "execution_count": 30,
   "id": "fd3eb66c",
   "metadata": {},
   "outputs": [
    {
     "data": {
      "text/plain": [
       "среднее                15231\n",
       "высшее                  5256\n",
       "неоконченное высшее      743\n",
       "начальное                282\n",
       "ученая степень             6\n",
       "Name: education, dtype: int64"
      ]
     },
     "execution_count": 30,
     "metadata": {},
     "output_type": "execute_result"
    }
   ],
   "source": [
    "df.education.value_counts()"
   ]
  },
  {
   "cell_type": "markdown",
   "id": "6b46099e",
   "metadata": {},
   "source": [
    "Объём записей с образованием - ученая степень, очень мал для полноценного анализа. Всего шесть записей. Посмотрим на долю от выбоки.\n"
   ]
  },
  {
   "cell_type": "code",
   "execution_count": 31,
   "id": "e0e31da8",
   "metadata": {},
   "outputs": [
    {
     "name": "stdout",
     "output_type": "stream",
     "text": [
      "Удаленные данные занимают от всей выборки 0.0279%\n"
     ]
    }
   ],
   "source": [
    "print(f\"Удаленные данные занимают от всей выборки {(6/len(df)):.4%}\")"
   ]
  },
  {
   "cell_type": "markdown",
   "id": "7c8fbe8f",
   "metadata": {},
   "source": [
    "ОБъём не значительный можно удалить"
   ]
  },
  {
   "cell_type": "code",
   "execution_count": 32,
   "id": "c74de860",
   "metadata": {
    "scrolled": true
   },
   "outputs": [],
   "source": [
    "df = df.drop(list(df[df.education == 'ученая степень'].index), axis=0).reset_index(drop=True)"
   ]
  },
  {
   "cell_type": "code",
   "execution_count": 33,
   "id": "01a0832f",
   "metadata": {},
   "outputs": [
    {
     "data": {
      "text/plain": [
       "сотрудник      11116\n",
       "компаньон       5084\n",
       "пенсионер       3854\n",
       "госслужащий     1458\n",
       "Name: income_type, dtype: int64"
      ]
     },
     "execution_count": 33,
     "metadata": {},
     "output_type": "execute_result"
    }
   ],
   "source": [
    "df.income_type.value_counts()"
   ]
  },
  {
   "cell_type": "markdown",
   "id": "aa814d14",
   "metadata": {},
   "source": [
    "Группы по количеству детей."
   ]
  },
  {
   "cell_type": "code",
   "execution_count": 34,
   "id": "4ff19f48",
   "metadata": {
    "scrolled": true
   },
   "outputs": [
    {
     "data": {
      "text/plain": [
       " 0     14140\n",
       " 1      4816\n",
       " 2      2054\n",
       " 3       329\n",
       " 20       76\n",
       "-1        47\n",
       " 4        41\n",
       " 5         9\n",
       "Name: children, dtype: int64"
      ]
     },
     "execution_count": 34,
     "metadata": {},
     "output_type": "execute_result"
    }
   ],
   "source": [
    "df.children.value_counts()"
   ]
  },
  {
   "cell_type": "markdown",
   "id": "49b6f617",
   "metadata": {},
   "source": [
    "Присутствуют две группы с неадекватными значениями 20 и -1. Имеет смысл от них избавиться. Также группа с 5-ю детьми имеет низкую представленость в выборке, для адекватных задач можно от нее избавиться. "
   ]
  },
  {
   "cell_type": "code",
   "execution_count": 35,
   "id": "f8453b8e",
   "metadata": {},
   "outputs": [
    {
     "name": "stdout",
     "output_type": "stream",
     "text": [
      "Удаленные данные занимают от всей выборки 0.0418%\n"
     ]
    }
   ],
   "source": [
    "print(f\"Удаленные данные занимают от всей выборки {(9/len(df)):.4%}\")"
   ]
  },
  {
   "cell_type": "code",
   "execution_count": 36,
   "id": "8a8942f0",
   "metadata": {},
   "outputs": [],
   "source": [
    "df = df.drop(list(df[df.children == 5].index), axis=0).reset_index(drop=True)"
   ]
  },
  {
   "cell_type": "markdown",
   "id": "bb2bf7ba",
   "metadata": {},
   "source": [
    "Посчитаем общие потери при очистке."
   ]
  },
  {
   "cell_type": "code",
   "execution_count": 37,
   "id": "ae3e45d2",
   "metadata": {},
   "outputs": [],
   "source": [
    "len_data_end = len(df)"
   ]
  },
  {
   "cell_type": "code",
   "execution_count": 38,
   "id": "2bb58ccb",
   "metadata": {},
   "outputs": [],
   "source": [
    "res_drop = (len_data_start - len_data_end) / len_data_start"
   ]
  },
  {
   "cell_type": "code",
   "execution_count": 39,
   "id": "80593654",
   "metadata": {
    "scrolled": true
   },
   "outputs": [
    {
     "name": "stdout",
     "output_type": "stream",
     "text": [
      "Общие потери составили 0.1022%\n"
     ]
    }
   ],
   "source": [
    "print(f\"Общие потери составили {res_drop:.4%}\")"
   ]
  },
  {
   "cell_type": "markdown",
   "id": "bc1f6159",
   "metadata": {},
   "source": [
    "Данные очищены от слабопредставленных групп. "
   ]
  },
  {
   "cell_type": "markdown",
   "id": "c03f0b06",
   "metadata": {},
   "source": [
    "### Шаг 2.1 Заполнение пропусков"
   ]
  },
  {
   "cell_type": "markdown",
   "id": "3c7d33c8",
   "metadata": {},
   "source": [
    "В стоблцах days_employed и total_income были обнаружены пропуски. Нужно выяснить их природу. \n",
    "\n",
    "Сравним количество пропусков в столбцах"
   ]
  },
  {
   "cell_type": "code",
   "execution_count": 40,
   "id": "c9f2b2f5",
   "metadata": {},
   "outputs": [
    {
     "data": {
      "text/plain": [
       "2172"
      ]
     },
     "execution_count": 40,
     "metadata": {},
     "output_type": "execute_result"
    }
   ],
   "source": [
    "len(df[df['days_employed'].isna()])"
   ]
  },
  {
   "cell_type": "code",
   "execution_count": 41,
   "id": "3ae357a5",
   "metadata": {},
   "outputs": [
    {
     "data": {
      "text/plain": [
       "2172"
      ]
     },
     "execution_count": 41,
     "metadata": {},
     "output_type": "execute_result"
    }
   ],
   "source": [
    "len(df[df['total_income'].isna()])"
   ]
  },
  {
   "cell_type": "markdown",
   "id": "5e33ceb3",
   "metadata": {},
   "source": [
    "Количетсво совпадает. Проверим, одни и те же это записи или разные.\n",
    "Выделим индексы строк с пропусками. Переведем их в множества и найдем количество пересечений двух множеств"
   ]
  },
  {
   "cell_type": "code",
   "execution_count": 42,
   "id": "090ffcdc",
   "metadata": {},
   "outputs": [],
   "source": [
    "days_employed_index_row = set(df[df['days_employed'].isna()].index)\n",
    "total_income_index_row = set(df[df['total_income'].isna()].index)"
   ]
  },
  {
   "cell_type": "code",
   "execution_count": 43,
   "id": "e5b14824",
   "metadata": {},
   "outputs": [
    {
     "data": {
      "text/plain": [
       "2172"
      ]
     },
     "execution_count": 43,
     "metadata": {},
     "output_type": "execute_result"
    }
   ],
   "source": [
    "len(days_employed_index_row & total_income_index_row)"
   ]
  },
  {
   "cell_type": "markdown",
   "id": "ad00abfc",
   "metadata": {},
   "source": [
    "Количество равно количеству провусков в каждом столбце. Следовательно пропуски связаны. Оба стобца логически связаны с вопросами работы. Посмотрим, как зависят данные от типа занимаемой должности"
   ]
  },
  {
   "cell_type": "code",
   "execution_count": 44,
   "id": "027492b1",
   "metadata": {},
   "outputs": [],
   "source": [
    "income_type_value_counts_for_nan = df[df['total_income'].isna()]['income_type'].value_counts().reset_index()"
   ]
  },
  {
   "cell_type": "code",
   "execution_count": 45,
   "id": "b4a7dfaa",
   "metadata": {},
   "outputs": [],
   "source": [
    "income_type_value_counts_for_df = df['income_type'].value_counts().reset_index()"
   ]
  },
  {
   "cell_type": "code",
   "execution_count": 46,
   "id": "3bb4e5af",
   "metadata": {},
   "outputs": [
    {
     "data": {
      "text/html": [
       "<div>\n",
       "<style scoped>\n",
       "    .dataframe tbody tr th:only-of-type {\n",
       "        vertical-align: middle;\n",
       "    }\n",
       "\n",
       "    .dataframe tbody tr th {\n",
       "        vertical-align: top;\n",
       "    }\n",
       "\n",
       "    .dataframe thead th {\n",
       "        text-align: right;\n",
       "    }\n",
       "</style>\n",
       "<table border=\"1\" class=\"dataframe\">\n",
       "  <thead>\n",
       "    <tr style=\"text-align: right;\">\n",
       "      <th></th>\n",
       "      <th>index</th>\n",
       "      <th>income_type_x</th>\n",
       "      <th>income_type_y</th>\n",
       "    </tr>\n",
       "  </thead>\n",
       "  <tbody>\n",
       "    <tr>\n",
       "      <td>0</td>\n",
       "      <td>сотрудник</td>\n",
       "      <td>11110</td>\n",
       "      <td>1104</td>\n",
       "    </tr>\n",
       "    <tr>\n",
       "      <td>1</td>\n",
       "      <td>компаньон</td>\n",
       "      <td>5082</td>\n",
       "      <td>508</td>\n",
       "    </tr>\n",
       "    <tr>\n",
       "      <td>2</td>\n",
       "      <td>пенсионер</td>\n",
       "      <td>3854</td>\n",
       "      <td>413</td>\n",
       "    </tr>\n",
       "    <tr>\n",
       "      <td>3</td>\n",
       "      <td>госслужащий</td>\n",
       "      <td>1457</td>\n",
       "      <td>147</td>\n",
       "    </tr>\n",
       "  </tbody>\n",
       "</table>\n",
       "</div>"
      ],
      "text/plain": [
       "         index  income_type_x  income_type_y\n",
       "0    сотрудник          11110           1104\n",
       "1    компаньон           5082            508\n",
       "2    пенсионер           3854            413\n",
       "3  госслужащий           1457            147"
      ]
     },
     "execution_count": 46,
     "metadata": {},
     "output_type": "execute_result"
    }
   ],
   "source": [
    "income_type_value_counts_for_df.merge(income_type_value_counts_for_nan, on='index')"
   ]
  },
  {
   "cell_type": "markdown",
   "id": "1fc16508",
   "metadata": {},
   "source": [
    "\n",
    "Пропуски характерны для всех групп, следователно, можно попытаться восстановаить количественных данные с помощью данных внутри группы. Сравним медианы и средние. Выявим, что лучше использовать."
   ]
  },
  {
   "cell_type": "markdown",
   "id": "fbd9f9ef",
   "metadata": {},
   "source": [
    "Анализируем зарплату"
   ]
  },
  {
   "cell_type": "code",
   "execution_count": 47,
   "id": "1d326678",
   "metadata": {},
   "outputs": [
    {
     "name": "stdout",
     "output_type": "stream",
     "text": [
      "Тип занятости: госслужащий\n",
      "Медиана: 150521.92\n",
      "Среднее: 170977.93\n",
      "Разница: 20456.01\n",
      "------------------------------\n",
      "Тип занятости: компаньон\n",
      "Медиана: 172319.27\n",
      "Среднее: 202424.16\n",
      "Разница: 30104.89\n",
      "------------------------------\n",
      "Тип занятости: пенсионер\n",
      "Медиана: 118514.49\n",
      "Среднее: 137104.24\n",
      "Разница: 18589.75\n",
      "------------------------------\n",
      "Тип занятости: сотрудник\n",
      "Медиана: 142563.42\n",
      "Среднее: 161364.62\n",
      "Разница: 18801.20\n"
     ]
    }
   ],
   "source": [
    "flag = False\n",
    "for group in df.groupby(by='income_type'):\n",
    "    if flag:\n",
    "        print(30 * \"-\")\n",
    "    print(\"Тип занятости:\", group[0])\n",
    "    print(f\"Медиана: {group[1]['total_income'].median():.2f}\")\n",
    "    print(f\"Среднее: {group[1]['total_income'].mean():.2f}\")\n",
    "    difference = abs(\n",
    "        group[1]['total_income'].mean() - group[1]['total_income'].median()\n",
    "    )\n",
    "    print(\n",
    "        f\"Разница: {difference:.2f}\")\n",
    "    flag = True"
   ]
  },
  {
   "cell_type": "markdown",
   "id": "ab26f709",
   "metadata": {},
   "source": [
    "Разница между медианой и средним значительная. Используем для вставки медиану, как более адекватную метрику группы"
   ]
  },
  {
   "cell_type": "markdown",
   "id": "ce4d1382",
   "metadata": {},
   "source": [
    "Трудовой стаж"
   ]
  },
  {
   "cell_type": "code",
   "execution_count": 48,
   "id": "c4840efa",
   "metadata": {},
   "outputs": [
    {
     "name": "stdout",
     "output_type": "stream",
     "text": [
      "Тип занятости: госслужащий\n",
      "Медиана: -2689.37\n",
      "Среднее: -3400.24\n",
      "Разница: 710.87\n",
      "------------------------------\n",
      "Тип занятости: компаньон\n",
      "Медиана: -1545.02\n",
      "Среднее: -2111.16\n",
      "Разница: 566.14\n",
      "------------------------------\n",
      "Тип занятости: пенсионер\n",
      "Медиана: 365213.31\n",
      "Среднее: 365008.18\n",
      "Разница: 205.12\n",
      "------------------------------\n",
      "Тип занятости: сотрудник\n",
      "Медиана: -1574.20\n",
      "Среднее: -2327.01\n",
      "Разница: 752.80\n"
     ]
    }
   ],
   "source": [
    "flag = False\n",
    "for group in df.groupby(by='income_type'):\n",
    "    if flag:\n",
    "        print(30 * \"-\")\n",
    "    print(\"Тип занятости:\", group[0])\n",
    "    print(f\"Медиана: {group[1]['days_employed'].median():.2f}\")\n",
    "    print(f\"Среднее: {group[1]['days_employed'].mean():.2f}\")\n",
    "    difference = abs(\n",
    "        group[1]['days_employed'].mean() - group[1]['days_employed'].median()\n",
    "    )\n",
    "    print(\n",
    "        f\"Разница: {difference:.2f}\")\n",
    "    flag = True"
   ]
  },
  {
   "cell_type": "markdown",
   "id": "3eb46115",
   "metadata": {},
   "source": [
    "Медиана также будет являтся более показательной.\n",
    "Проведем вставку отсутвующих данных"
   ]
  },
  {
   "cell_type": "markdown",
   "id": "cf4da61d",
   "metadata": {},
   "source": [
    "Сохраним средние до вставки"
   ]
  },
  {
   "cell_type": "code",
   "execution_count": 49,
   "id": "b2f2ec7c",
   "metadata": {},
   "outputs": [],
   "source": [
    "dict_mean_income_of_type = (\n",
    "    df\n",
    "    .groupby(by='income_type')['total_income']\n",
    "    .mean()\n",
    "    .to_dict()\n",
    ")"
   ]
  },
  {
   "cell_type": "markdown",
   "id": "64274e74",
   "metadata": {},
   "source": [
    "Выделим основные типы занятости и медианные значения дохода. И вставим их вместо пропусков в датасет"
   ]
  },
  {
   "cell_type": "code",
   "execution_count": 50,
   "id": "cbeacd02",
   "metadata": {},
   "outputs": [],
   "source": [
    "list_group_income_type = list(df['income_type'].unique())"
   ]
  },
  {
   "cell_type": "markdown",
   "id": "61fcff74",
   "metadata": {},
   "source": [
    "Выделим данные по медиане"
   ]
  },
  {
   "cell_type": "code",
   "execution_count": 51,
   "id": "3d5ce7cc",
   "metadata": {},
   "outputs": [],
   "source": [
    "dict_median_income_of_type = (\n",
    "    df\n",
    "    .groupby(by='income_type')['total_income']\n",
    "    .median()\n",
    "    .to_dict()\n",
    ")"
   ]
  },
  {
   "cell_type": "code",
   "execution_count": 52,
   "id": "a4496822",
   "metadata": {},
   "outputs": [],
   "source": [
    "for group in dict_median_income_of_type.keys():\n",
    "    (df.loc[\n",
    "        (df['total_income'].isna()) & \n",
    "        (df['income_type']==group), \"total_income\"\n",
    "    ]) = dict_median_income_of_type[group]"
   ]
  },
  {
   "cell_type": "code",
   "execution_count": 53,
   "id": "e58f7d9e",
   "metadata": {},
   "outputs": [],
   "source": [
    "dict_mean_income_of_type_after = (\n",
    "    df\n",
    "    .groupby(by='income_type')['total_income']\n",
    "    .mean()\n",
    "    .to_dict()\n",
    ")"
   ]
  },
  {
   "cell_type": "code",
   "execution_count": 54,
   "id": "786c91b0",
   "metadata": {},
   "outputs": [
    {
     "data": {
      "text/html": [
       "<div>\n",
       "<style scoped>\n",
       "    .dataframe tbody tr th:only-of-type {\n",
       "        vertical-align: middle;\n",
       "    }\n",
       "\n",
       "    .dataframe tbody tr th {\n",
       "        vertical-align: top;\n",
       "    }\n",
       "\n",
       "    .dataframe thead th {\n",
       "        text-align: right;\n",
       "    }\n",
       "</style>\n",
       "<table border=\"1\" class=\"dataframe\">\n",
       "  <thead>\n",
       "    <tr style=\"text-align: right;\">\n",
       "      <th></th>\n",
       "      <th>госслужащий</th>\n",
       "      <th>компаньон</th>\n",
       "      <th>пенсионер</th>\n",
       "      <th>сотрудник</th>\n",
       "    </tr>\n",
       "  </thead>\n",
       "  <tbody>\n",
       "    <tr>\n",
       "      <td>до_вставки</td>\n",
       "      <td>170977.929954</td>\n",
       "      <td>202424.161157</td>\n",
       "      <td>137104.239081</td>\n",
       "      <td>161364.617241</td>\n",
       "    </tr>\n",
       "    <tr>\n",
       "      <td>после_вставки</td>\n",
       "      <td>168914.076955</td>\n",
       "      <td>199414.856441</td>\n",
       "      <td>135112.135331</td>\n",
       "      <td>159496.343390</td>\n",
       "    </tr>\n",
       "    <tr>\n",
       "      <td>разница</td>\n",
       "      <td>2063.852999</td>\n",
       "      <td>3009.304716</td>\n",
       "      <td>1992.103750</td>\n",
       "      <td>1868.273851</td>\n",
       "    </tr>\n",
       "  </tbody>\n",
       "</table>\n",
       "</div>"
      ],
      "text/plain": [
       "                 госслужащий      компаньон      пенсионер      сотрудник\n",
       "до_вставки     170977.929954  202424.161157  137104.239081  161364.617241\n",
       "после_вставки  168914.076955  199414.856441  135112.135331  159496.343390\n",
       "разница          2063.852999    3009.304716    1992.103750    1868.273851"
      ]
     },
     "execution_count": 54,
     "metadata": {},
     "output_type": "execute_result"
    }
   ],
   "source": [
    "res_inser_income = pd.DataFrame(\n",
    "    data=[dict_mean_income_of_type, dict_mean_income_of_type_after], \n",
    "    index=['до_вставки', 'после_вставки']\n",
    ")\n",
    "res_inser_income.loc['разница', :] = abs(\n",
    "    res_inser_income.loc['до_вставки', :] -\n",
    "    res_inser_income.loc['после_вставки', :]\n",
    ")\n",
    "res_inser_income"
   ]
  },
  {
   "cell_type": "markdown",
   "id": "1b20ba1b",
   "metadata": {},
   "source": [
    "Получили однонаправленные изменения примерно в одной размерности. Для целей прогнозирования такая замена сгодится, но для других целей такое изменение может быть критичным."
   ]
  },
  {
   "cell_type": "markdown",
   "id": "c5333ffa",
   "metadata": {},
   "source": [
    "Тоже самое сделаем для трудового стажа"
   ]
  },
  {
   "cell_type": "code",
   "execution_count": 55,
   "id": "d1637ee6",
   "metadata": {},
   "outputs": [],
   "source": [
    "dict_mean_employed_of_type = (\n",
    "    df\n",
    "    .groupby(by='income_type')['days_employed']\n",
    "    .mean()\n",
    "    .to_dict()\n",
    ")"
   ]
  },
  {
   "cell_type": "code",
   "execution_count": 56,
   "id": "81416cc4",
   "metadata": {},
   "outputs": [],
   "source": [
    "dict_median_employed_of_type = (\n",
    "    df\n",
    "    .groupby(by='income_type')['days_employed']\n",
    "    .median()\n",
    "    .to_dict()\n",
    ")"
   ]
  },
  {
   "cell_type": "code",
   "execution_count": 57,
   "id": "c72dd63e",
   "metadata": {},
   "outputs": [],
   "source": [
    "for group in dict_median_employed_of_type.keys():\n",
    "    (df.loc[\n",
    "        (df['days_employed'].isna()) & \n",
    "        (df['income_type']==group), \"days_employed\"\n",
    "    ]) = dict_median_employed_of_type[group]"
   ]
  },
  {
   "cell_type": "code",
   "execution_count": 58,
   "id": "b77fe6e4",
   "metadata": {},
   "outputs": [],
   "source": [
    "dict_mean_employed_of_type_after = (\n",
    "    df\n",
    "    .groupby(by='income_type')['days_employed']\n",
    "    .mean()\n",
    "    .to_dict()\n",
    ")"
   ]
  },
  {
   "cell_type": "code",
   "execution_count": 59,
   "id": "e924b80b",
   "metadata": {},
   "outputs": [
    {
     "data": {
      "text/html": [
       "<div>\n",
       "<style scoped>\n",
       "    .dataframe tbody tr th:only-of-type {\n",
       "        vertical-align: middle;\n",
       "    }\n",
       "\n",
       "    .dataframe tbody tr th {\n",
       "        vertical-align: top;\n",
       "    }\n",
       "\n",
       "    .dataframe thead th {\n",
       "        text-align: right;\n",
       "    }\n",
       "</style>\n",
       "<table border=\"1\" class=\"dataframe\">\n",
       "  <thead>\n",
       "    <tr style=\"text-align: right;\">\n",
       "      <th></th>\n",
       "      <th>госслужащий</th>\n",
       "      <th>компаньон</th>\n",
       "      <th>пенсионер</th>\n",
       "      <th>сотрудник</th>\n",
       "    </tr>\n",
       "  </thead>\n",
       "  <tbody>\n",
       "    <tr>\n",
       "      <td>до_вставки</td>\n",
       "      <td>-3400.236139</td>\n",
       "      <td>-2111.161594</td>\n",
       "      <td>365008.183470</td>\n",
       "      <td>-2327.005242</td>\n",
       "    </tr>\n",
       "    <tr>\n",
       "      <td>после_вставки</td>\n",
       "      <td>-3328.515092</td>\n",
       "      <td>-2054.569988</td>\n",
       "      <td>365030.164714</td>\n",
       "      <td>-2252.199312</td>\n",
       "    </tr>\n",
       "    <tr>\n",
       "      <td>разница</td>\n",
       "      <td>71.721046</td>\n",
       "      <td>56.591606</td>\n",
       "      <td>21.981244</td>\n",
       "      <td>74.805929</td>\n",
       "    </tr>\n",
       "  </tbody>\n",
       "</table>\n",
       "</div>"
      ],
      "text/plain": [
       "               госслужащий    компаньон      пенсионер    сотрудник\n",
       "до_вставки    -3400.236139 -2111.161594  365008.183470 -2327.005242\n",
       "после_вставки -3328.515092 -2054.569988  365030.164714 -2252.199312\n",
       "разница          71.721046    56.591606      21.981244    74.805929"
      ]
     },
     "execution_count": 59,
     "metadata": {},
     "output_type": "execute_result"
    }
   ],
   "source": [
    "res_inser_employed = pd.DataFrame(\n",
    "    data=[dict_mean_employed_of_type, dict_mean_employed_of_type_after], \n",
    "    index=['до_вставки', 'после_вставки']\n",
    ")\n",
    "res_inser_employed.loc['разница', :] = abs(\n",
    "    res_inser_employed.loc['до_вставки', :] - \n",
    "    res_inser_employed.loc['после_вставки', :]\n",
    ")\n",
    "res_inser_employed"
   ]
  },
  {
   "cell_type": "markdown",
   "id": "ecf414a7",
   "metadata": {},
   "source": [
    "Получили однонаправленные изменения примерно в одной размерности. Для целей прогнозирования такая замена сгодится, но для других целей такое изменение может быть критичным.\n"
   ]
  },
  {
   "cell_type": "markdown",
   "id": "dab86782",
   "metadata": {},
   "source": [
    "Проверим"
   ]
  },
  {
   "cell_type": "code",
   "execution_count": 60,
   "id": "144486f8",
   "metadata": {},
   "outputs": [
    {
     "name": "stdout",
     "output_type": "stream",
     "text": [
      "<class 'pandas.core.frame.DataFrame'>\n",
      "RangeIndex: 21503 entries, 0 to 21502\n",
      "Data columns (total 12 columns):\n",
      "children            21503 non-null int64\n",
      "days_employed       21503 non-null float64\n",
      "dob_years           21503 non-null int64\n",
      "education           21503 non-null object\n",
      "education_id        21503 non-null int64\n",
      "family_status       21503 non-null object\n",
      "family_status_id    21503 non-null int64\n",
      "gender              21503 non-null object\n",
      "income_type         21503 non-null object\n",
      "debt                21503 non-null int64\n",
      "total_income        21503 non-null float64\n",
      "purpose             21503 non-null object\n",
      "dtypes: float64(2), int64(5), object(5)\n",
      "memory usage: 2.0+ MB\n"
     ]
    }
   ],
   "source": [
    "df.info()"
   ]
  },
  {
   "cell_type": "markdown",
   "id": "d9831622",
   "metadata": {},
   "source": [
    "Данные восстановлены. Пропуски отсутвуют."
   ]
  },
  {
   "cell_type": "markdown",
   "id": "ee79ddbe",
   "metadata": {},
   "source": [
    "### Шаг 2.2 Проверка данных на аномалии и исправления."
   ]
  },
  {
   "cell_type": "markdown",
   "id": "2ded4008",
   "metadata": {},
   "source": [
    "Частично данный шаг был пройден перед вставкой пропущенных значений. Там мы удалил незначительные группы."
   ]
  },
  {
   "cell_type": "markdown",
   "id": "085c896c",
   "metadata": {},
   "source": [
    "Теперь нужжно исследовать аномалии значений в стоблцах с количеством детей и общим трудовым стажем.\n",
    "Начнём с изучения информации о количестве детей."
   ]
  },
  {
   "cell_type": "code",
   "execution_count": 61,
   "id": "97e92c4e",
   "metadata": {},
   "outputs": [
    {
     "data": {
      "text/plain": [
       "count    21503.000000\n",
       "mean         0.537041\n",
       "std          1.379087\n",
       "min         -1.000000\n",
       "25%          0.000000\n",
       "50%          0.000000\n",
       "75%          1.000000\n",
       "max         20.000000\n",
       "Name: children, dtype: float64"
      ]
     },
     "execution_count": 61,
     "metadata": {},
     "output_type": "execute_result"
    }
   ],
   "source": [
    "df['children'].describe()"
   ]
  },
  {
   "cell_type": "markdown",
   "id": "dd89b638",
   "metadata": {},
   "source": [
    "В датасете есть значения о количестве детей -1 и 20. Взглянем на эти строки и посчитаем их количество"
   ]
  },
  {
   "cell_type": "code",
   "execution_count": 62,
   "id": "394be63d",
   "metadata": {},
   "outputs": [
    {
     "data": {
      "text/plain": [
       " 0     14140\n",
       " 1      4816\n",
       " 2      2054\n",
       " 3       329\n",
       " 20       76\n",
       "-1        47\n",
       " 4        41\n",
       "Name: children, dtype: int64"
      ]
     },
     "execution_count": 62,
     "metadata": {},
     "output_type": "execute_result"
    }
   ],
   "source": [
    "df['children'].value_counts()"
   ]
  },
  {
   "cell_type": "code",
   "execution_count": 63,
   "id": "f4b3a6b8",
   "metadata": {},
   "outputs": [
    {
     "data": {
      "text/html": [
       "<div>\n",
       "<style scoped>\n",
       "    .dataframe tbody tr th:only-of-type {\n",
       "        vertical-align: middle;\n",
       "    }\n",
       "\n",
       "    .dataframe tbody tr th {\n",
       "        vertical-align: top;\n",
       "    }\n",
       "\n",
       "    .dataframe thead th {\n",
       "        text-align: right;\n",
       "    }\n",
       "</style>\n",
       "<table border=\"1\" class=\"dataframe\">\n",
       "  <thead>\n",
       "    <tr style=\"text-align: right;\">\n",
       "      <th></th>\n",
       "      <th>children</th>\n",
       "      <th>days_employed</th>\n",
       "      <th>dob_years</th>\n",
       "      <th>education_id</th>\n",
       "      <th>family_status_id</th>\n",
       "      <th>debt</th>\n",
       "      <th>total_income</th>\n",
       "    </tr>\n",
       "  </thead>\n",
       "  <tbody>\n",
       "    <tr>\n",
       "      <td>count</td>\n",
       "      <td>76.0</td>\n",
       "      <td>76.000000</td>\n",
       "      <td>76.000000</td>\n",
       "      <td>76.000000</td>\n",
       "      <td>76.000000</td>\n",
       "      <td>76.000000</td>\n",
       "      <td>76.000000</td>\n",
       "    </tr>\n",
       "    <tr>\n",
       "      <td>mean</td>\n",
       "      <td>20.0</td>\n",
       "      <td>40994.848412</td>\n",
       "      <td>41.815789</td>\n",
       "      <td>0.842105</td>\n",
       "      <td>0.815789</td>\n",
       "      <td>0.105263</td>\n",
       "      <td>166269.397388</td>\n",
       "    </tr>\n",
       "    <tr>\n",
       "      <td>std</td>\n",
       "      <td>0.0</td>\n",
       "      <td>118482.493494</td>\n",
       "      <td>12.065058</td>\n",
       "      <td>0.433671</td>\n",
       "      <td>1.363432</td>\n",
       "      <td>0.308931</td>\n",
       "      <td>76459.099667</td>\n",
       "    </tr>\n",
       "    <tr>\n",
       "      <td>min</td>\n",
       "      <td>20.0</td>\n",
       "      <td>-11937.171389</td>\n",
       "      <td>0.000000</td>\n",
       "      <td>0.000000</td>\n",
       "      <td>0.000000</td>\n",
       "      <td>0.000000</td>\n",
       "      <td>53971.576721</td>\n",
       "    </tr>\n",
       "    <tr>\n",
       "      <td>25%</td>\n",
       "      <td>20.0</td>\n",
       "      <td>-2554.173601</td>\n",
       "      <td>33.750000</td>\n",
       "      <td>1.000000</td>\n",
       "      <td>0.000000</td>\n",
       "      <td>0.000000</td>\n",
       "      <td>118325.502601</td>\n",
       "    </tr>\n",
       "    <tr>\n",
       "      <td>50%</td>\n",
       "      <td>20.0</td>\n",
       "      <td>-1039.186009</td>\n",
       "      <td>41.500000</td>\n",
       "      <td>1.000000</td>\n",
       "      <td>0.000000</td>\n",
       "      <td>0.000000</td>\n",
       "      <td>144036.994898</td>\n",
       "    </tr>\n",
       "    <tr>\n",
       "      <td>75%</td>\n",
       "      <td>20.0</td>\n",
       "      <td>-486.576265</td>\n",
       "      <td>50.000000</td>\n",
       "      <td>1.000000</td>\n",
       "      <td>1.000000</td>\n",
       "      <td>0.000000</td>\n",
       "      <td>203490.401462</td>\n",
       "    </tr>\n",
       "    <tr>\n",
       "      <td>max</td>\n",
       "      <td>20.0</td>\n",
       "      <td>385267.263676</td>\n",
       "      <td>69.000000</td>\n",
       "      <td>2.000000</td>\n",
       "      <td>4.000000</td>\n",
       "      <td>1.000000</td>\n",
       "      <td>441721.334145</td>\n",
       "    </tr>\n",
       "  </tbody>\n",
       "</table>\n",
       "</div>"
      ],
      "text/plain": [
       "       children  days_employed  dob_years  education_id  family_status_id  \\\n",
       "count      76.0      76.000000  76.000000     76.000000         76.000000   \n",
       "mean       20.0   40994.848412  41.815789      0.842105          0.815789   \n",
       "std         0.0  118482.493494  12.065058      0.433671          1.363432   \n",
       "min        20.0  -11937.171389   0.000000      0.000000          0.000000   \n",
       "25%        20.0   -2554.173601  33.750000      1.000000          0.000000   \n",
       "50%        20.0   -1039.186009  41.500000      1.000000          0.000000   \n",
       "75%        20.0    -486.576265  50.000000      1.000000          1.000000   \n",
       "max        20.0  385267.263676  69.000000      2.000000          4.000000   \n",
       "\n",
       "            debt   total_income  \n",
       "count  76.000000      76.000000  \n",
       "mean    0.105263  166269.397388  \n",
       "std     0.308931   76459.099667  \n",
       "min     0.000000   53971.576721  \n",
       "25%     0.000000  118325.502601  \n",
       "50%     0.000000  144036.994898  \n",
       "75%     0.000000  203490.401462  \n",
       "max     1.000000  441721.334145  "
      ]
     },
     "execution_count": 63,
     "metadata": {},
     "output_type": "execute_result"
    }
   ],
   "source": [
    "df[df['children'] == 20].describe()"
   ]
  },
  {
   "cell_type": "code",
   "execution_count": 64,
   "id": "9845e078",
   "metadata": {},
   "outputs": [
    {
     "data": {
      "text/html": [
       "<div>\n",
       "<style scoped>\n",
       "    .dataframe tbody tr th:only-of-type {\n",
       "        vertical-align: middle;\n",
       "    }\n",
       "\n",
       "    .dataframe tbody tr th {\n",
       "        vertical-align: top;\n",
       "    }\n",
       "\n",
       "    .dataframe thead th {\n",
       "        text-align: right;\n",
       "    }\n",
       "</style>\n",
       "<table border=\"1\" class=\"dataframe\">\n",
       "  <thead>\n",
       "    <tr style=\"text-align: right;\">\n",
       "      <th></th>\n",
       "      <th>children</th>\n",
       "      <th>days_employed</th>\n",
       "      <th>dob_years</th>\n",
       "      <th>education_id</th>\n",
       "      <th>family_status_id</th>\n",
       "      <th>debt</th>\n",
       "      <th>total_income</th>\n",
       "    </tr>\n",
       "  </thead>\n",
       "  <tbody>\n",
       "    <tr>\n",
       "      <td>count</td>\n",
       "      <td>47.0</td>\n",
       "      <td>47.000000</td>\n",
       "      <td>47.000000</td>\n",
       "      <td>47.000000</td>\n",
       "      <td>47.000000</td>\n",
       "      <td>47.000000</td>\n",
       "      <td>47.000000</td>\n",
       "    </tr>\n",
       "    <tr>\n",
       "      <td>mean</td>\n",
       "      <td>-1.0</td>\n",
       "      <td>59206.163151</td>\n",
       "      <td>42.574468</td>\n",
       "      <td>0.829787</td>\n",
       "      <td>0.957447</td>\n",
       "      <td>0.021277</td>\n",
       "      <td>153263.340836</td>\n",
       "    </tr>\n",
       "    <tr>\n",
       "      <td>std</td>\n",
       "      <td>0.0</td>\n",
       "      <td>137631.143324</td>\n",
       "      <td>11.357328</td>\n",
       "      <td>0.433346</td>\n",
       "      <td>1.428856</td>\n",
       "      <td>0.145865</td>\n",
       "      <td>67482.252371</td>\n",
       "    </tr>\n",
       "    <tr>\n",
       "      <td>min</td>\n",
       "      <td>-1.0</td>\n",
       "      <td>-9851.184337</td>\n",
       "      <td>23.000000</td>\n",
       "      <td>0.000000</td>\n",
       "      <td>0.000000</td>\n",
       "      <td>0.000000</td>\n",
       "      <td>36052.447435</td>\n",
       "    </tr>\n",
       "    <tr>\n",
       "      <td>25%</td>\n",
       "      <td>-1.0</td>\n",
       "      <td>-2970.960064</td>\n",
       "      <td>33.500000</td>\n",
       "      <td>1.000000</td>\n",
       "      <td>0.000000</td>\n",
       "      <td>0.000000</td>\n",
       "      <td>114252.758940</td>\n",
       "    </tr>\n",
       "    <tr>\n",
       "      <td>50%</td>\n",
       "      <td>-1.0</td>\n",
       "      <td>-1422.668059</td>\n",
       "      <td>41.000000</td>\n",
       "      <td>1.000000</td>\n",
       "      <td>0.000000</td>\n",
       "      <td>0.000000</td>\n",
       "      <td>143008.454914</td>\n",
       "    </tr>\n",
       "    <tr>\n",
       "      <td>75%</td>\n",
       "      <td>-1.0</td>\n",
       "      <td>-414.948255</td>\n",
       "      <td>50.500000</td>\n",
       "      <td>1.000000</td>\n",
       "      <td>2.000000</td>\n",
       "      <td>0.000000</td>\n",
       "      <td>170762.762244</td>\n",
       "    </tr>\n",
       "    <tr>\n",
       "      <td>max</td>\n",
       "      <td>-1.0</td>\n",
       "      <td>398001.302888</td>\n",
       "      <td>69.000000</td>\n",
       "      <td>2.000000</td>\n",
       "      <td>4.000000</td>\n",
       "      <td>1.000000</td>\n",
       "      <td>321603.700207</td>\n",
       "    </tr>\n",
       "  </tbody>\n",
       "</table>\n",
       "</div>"
      ],
      "text/plain": [
       "       children  days_employed  dob_years  education_id  family_status_id  \\\n",
       "count      47.0      47.000000  47.000000     47.000000         47.000000   \n",
       "mean       -1.0   59206.163151  42.574468      0.829787          0.957447   \n",
       "std         0.0  137631.143324  11.357328      0.433346          1.428856   \n",
       "min        -1.0   -9851.184337  23.000000      0.000000          0.000000   \n",
       "25%        -1.0   -2970.960064  33.500000      1.000000          0.000000   \n",
       "50%        -1.0   -1422.668059  41.000000      1.000000          0.000000   \n",
       "75%        -1.0    -414.948255  50.500000      1.000000          2.000000   \n",
       "max        -1.0  398001.302888  69.000000      2.000000          4.000000   \n",
       "\n",
       "            debt   total_income  \n",
       "count  47.000000      47.000000  \n",
       "mean    0.021277  153263.340836  \n",
       "std     0.145865   67482.252371  \n",
       "min     0.000000   36052.447435  \n",
       "25%     0.000000  114252.758940  \n",
       "50%     0.000000  143008.454914  \n",
       "75%     0.000000  170762.762244  \n",
       "max     1.000000  321603.700207  "
      ]
     },
     "execution_count": 64,
     "metadata": {},
     "output_type": "execute_result"
    }
   ],
   "source": [
    "df[df['children'] == -1].describe()"
   ]
  },
  {
   "cell_type": "markdown",
   "id": "b5dacb33",
   "metadata": {},
   "source": [
    "Ничем примечательным строки не отличаются. Вероятно, это ошибки при сборе данных. Имело бы смылс обсудить с коллегами сбор данных."
   ]
  },
  {
   "cell_type": "code",
   "execution_count": 65,
   "id": "dd65da7d",
   "metadata": {},
   "outputs": [
    {
     "name": "stdout",
     "output_type": "stream",
     "text": [
      "Удаленные данные занимают от всей выборки 0.5720%\n"
     ]
    }
   ],
   "source": [
    "count = 76 + 47\n",
    "print(f\"Удаленные данные занимают от всей выборки {(count/len(df)):.4%}\")"
   ]
  },
  {
   "cell_type": "markdown",
   "id": "cc77beb1",
   "metadata": {},
   "source": [
    "Общее количество сомнительных строк составляет 123. Это 0,57% от всей выборки. Таким количеством данных можно принебречь, чтобы не допустить ложных выводов."
   ]
  },
  {
   "cell_type": "code",
   "execution_count": 66,
   "id": "5c9105c1",
   "metadata": {},
   "outputs": [],
   "source": [
    "df = (df[\n",
    "    (df['children'] != 20) &\n",
    "    (df['children'] != -1)\n",
    "]).reset_index(drop=True)"
   ]
  },
  {
   "cell_type": "markdown",
   "id": "4d8f5f7f",
   "metadata": {},
   "source": [
    "Вторая анамолия связана с нулевым возрастом клиентов. Так обслуживаются в банках только клиенты от 18 проверим сколько в датасете записей с возрастом меньше 18 лет."
   ]
  },
  {
   "cell_type": "code",
   "execution_count": 67,
   "id": "5ffac725",
   "metadata": {},
   "outputs": [
    {
     "data": {
      "text/plain": [
       "100"
      ]
     },
     "execution_count": 67,
     "metadata": {},
     "output_type": "execute_result"
    }
   ],
   "source": [
    "len(df[df['dob_years'] <18])"
   ]
  },
  {
   "cell_type": "markdown",
   "id": "1504e7dc",
   "metadata": {},
   "source": [
    "Таких 100 человек. Проверим разброс по возрасту."
   ]
  },
  {
   "cell_type": "code",
   "execution_count": 68,
   "id": "4614a08d",
   "metadata": {},
   "outputs": [
    {
     "data": {
      "text/plain": [
       "0    100\n",
       "Name: dob_years, dtype: int64"
      ]
     },
     "execution_count": 68,
     "metadata": {},
     "output_type": "execute_result"
    }
   ],
   "source": [
    "df[df['dob_years'] <18]['dob_years'].value_counts()"
   ]
  },
  {
   "cell_type": "markdown",
   "id": "64590377",
   "metadata": {},
   "source": [
    "Все они имеют нулевые значения. Проверим сколько они занимают от выборки"
   ]
  },
  {
   "cell_type": "code",
   "execution_count": 69,
   "id": "81f0d44f",
   "metadata": {},
   "outputs": [
    {
     "name": "stdout",
     "output_type": "stream",
     "text": [
      "Удаленные данные занимают от всей выборки 0.4677%\n"
     ]
    }
   ],
   "source": [
    "print(f\"Удаленные данные занимают от всей выборки {(len(df[df['dob_years'] < 18])/len(df)):.4%}\")"
   ]
  },
  {
   "cell_type": "markdown",
   "id": "1cbabe68",
   "metadata": {},
   "source": [
    "Занимают всего пол процента. Нужно избавиться от некорректных данных."
   ]
  },
  {
   "cell_type": "code",
   "execution_count": 70,
   "id": "1cdfd3cc",
   "metadata": {},
   "outputs": [],
   "source": [
    "df = df[df['dob_years'] >= 18].reset_index(drop=True)"
   ]
  },
  {
   "cell_type": "markdown",
   "id": "fd3c0970",
   "metadata": {},
   "source": [
    "Проверим"
   ]
  },
  {
   "cell_type": "code",
   "execution_count": 71,
   "id": "1eb1cd77",
   "metadata": {},
   "outputs": [
    {
     "data": {
      "text/plain": [
       "0"
      ]
     },
     "execution_count": 71,
     "metadata": {},
     "output_type": "execute_result"
    }
   ],
   "source": [
    "len(df[df['dob_years'] <18])"
   ]
  },
  {
   "cell_type": "markdown",
   "id": "fb66f496",
   "metadata": {},
   "source": [
    "Некорректные данные удалены."
   ]
  },
  {
   "cell_type": "markdown",
   "id": "d9c6a96a",
   "metadata": {},
   "source": [
    "Третья аномалия связана с различным сроком стажа. В датасете есть отрицательные и положительные значения. \n",
    "Проверим как это связано с категориальными данными типа занятости."
   ]
  },
  {
   "cell_type": "code",
   "execution_count": 72,
   "id": "24ba78cc",
   "metadata": {},
   "outputs": [
    {
     "data": {
      "text/plain": [
       "Index(['children', 'days_employed', 'dob_years', 'education', 'education_id',\n",
       "       'family_status', 'family_status_id', 'gender', 'income_type', 'debt',\n",
       "       'total_income', 'purpose'],\n",
       "      dtype='object')"
      ]
     },
     "execution_count": 72,
     "metadata": {},
     "output_type": "execute_result"
    }
   ],
   "source": [
    "df.columns"
   ]
  },
  {
   "cell_type": "code",
   "execution_count": 73,
   "id": "decd4611",
   "metadata": {},
   "outputs": [
    {
     "data": {
      "text/html": [
       "<div>\n",
       "<style scoped>\n",
       "    .dataframe tbody tr th:only-of-type {\n",
       "        vertical-align: middle;\n",
       "    }\n",
       "\n",
       "    .dataframe tbody tr th {\n",
       "        vertical-align: top;\n",
       "    }\n",
       "\n",
       "    .dataframe thead tr th {\n",
       "        text-align: left;\n",
       "    }\n",
       "\n",
       "    .dataframe thead tr:last-of-type th {\n",
       "        text-align: right;\n",
       "    }\n",
       "</style>\n",
       "<table border=\"1\" class=\"dataframe\">\n",
       "  <thead>\n",
       "    <tr>\n",
       "      <th></th>\n",
       "      <th colspan=\"4\" halign=\"left\">mean</th>\n",
       "    </tr>\n",
       "    <tr>\n",
       "      <th>education</th>\n",
       "      <th>высшее</th>\n",
       "      <th>начальное</th>\n",
       "      <th>неоконченное высшее</th>\n",
       "      <th>среднее</th>\n",
       "    </tr>\n",
       "    <tr>\n",
       "      <th>income_type</th>\n",
       "      <th></th>\n",
       "      <th></th>\n",
       "      <th></th>\n",
       "      <th></th>\n",
       "    </tr>\n",
       "  </thead>\n",
       "  <tbody>\n",
       "    <tr>\n",
       "      <td>госслужащий</td>\n",
       "      <td>-3114.149488</td>\n",
       "      <td>-3285.215665</td>\n",
       "      <td>-2271.427610</td>\n",
       "      <td>-3521.228708</td>\n",
       "    </tr>\n",
       "    <tr>\n",
       "      <td>компаньон</td>\n",
       "      <td>-1972.838184</td>\n",
       "      <td>-2003.500858</td>\n",
       "      <td>-1421.485677</td>\n",
       "      <td>-2176.303767</td>\n",
       "    </tr>\n",
       "    <tr>\n",
       "      <td>пенсионер</td>\n",
       "      <td>365319.359384</td>\n",
       "      <td>362465.636950</td>\n",
       "      <td>369124.749116</td>\n",
       "      <td>365042.037219</td>\n",
       "    </tr>\n",
       "    <tr>\n",
       "      <td>сотрудник</td>\n",
       "      <td>-2198.592263</td>\n",
       "      <td>-1841.611621</td>\n",
       "      <td>-1580.566999</td>\n",
       "      <td>-2303.555198</td>\n",
       "    </tr>\n",
       "  </tbody>\n",
       "</table>\n",
       "</div>"
      ],
      "text/plain": [
       "                      mean                                                  \n",
       "education           высшее      начальное неоконченное высшее        среднее\n",
       "income_type                                                                 \n",
       "госслужащий   -3114.149488   -3285.215665        -2271.427610   -3521.228708\n",
       "компаньон     -1972.838184   -2003.500858        -1421.485677   -2176.303767\n",
       "пенсионер    365319.359384  362465.636950       369124.749116  365042.037219\n",
       "сотрудник     -2198.592263   -1841.611621        -1580.566999   -2303.555198"
      ]
     },
     "execution_count": 73,
     "metadata": {},
     "output_type": "execute_result"
    }
   ],
   "source": [
    "df.pivot_table(\n",
    "    index=['income_type'],\n",
    "    columns=['education'],\n",
    "    values='days_employed', \n",
    "    aggfunc=['mean']\n",
    ")"
   ]
  },
  {
   "cell_type": "markdown",
   "id": "e37e889b",
   "metadata": {},
   "source": [
    "Из таблицы видно, что данные зависят только типа занятости. Вероятно, во всей таблице указан срок работы. В группе пенсионеров срок пенсионного стажа"
   ]
  },
  {
   "cell_type": "markdown",
   "id": "15733ee9",
   "metadata": {},
   "source": [
    "Тогда с возрастанием возраста должен возрастать и стаж."
   ]
  },
  {
   "cell_type": "code",
   "execution_count": 74,
   "id": "26b2d97d",
   "metadata": {},
   "outputs": [],
   "source": [
    "retiree_non_df = df[df['income_type'] != \"пенсионер\"][[\"dob_years\", \"days_employed\"]]"
   ]
  },
  {
   "cell_type": "markdown",
   "id": "7afd1f2d",
   "metadata": {},
   "source": [
    "Для удобства переведем дни в года"
   ]
  },
  {
   "cell_type": "code",
   "execution_count": 75,
   "id": "c73afb7e",
   "metadata": {},
   "outputs": [],
   "source": [
    "retiree_non_df['years_employed'] = retiree_non_df['days_employed'] / 365"
   ]
  },
  {
   "cell_type": "code",
   "execution_count": 76,
   "id": "f559ed19",
   "metadata": {},
   "outputs": [],
   "source": [
    "retiree_non_df = retiree_non_df.sort_values(by='dob_years')"
   ]
  },
  {
   "cell_type": "code",
   "execution_count": 77,
   "id": "84188ed9",
   "metadata": {},
   "outputs": [
    {
     "data": {
      "image/png": "[encoded data removed]",
      "text/plain": [
       "<Figure size 432x288 with 1 Axes>"
      ]
     },
     "metadata": {
      "needs_background": "light"
     },
     "output_type": "display_data"
    }
   ],
   "source": [
    "fig, ax = plt.subplots()\n",
    "ax.scatter(\n",
    "    retiree_non_df['dob_years'],\n",
    "    retiree_non_df['years_employed'],\n",
    ")\n",
    "ax.set_title(\"Зависимость стажа от возраста. Все кроме пенсионеров\")\n",
    "ax.set_xlabel('Возраст, лет') \n",
    "ax.set_ylabel('Стаж работы, лет')\n",
    "plt.show()"
   ]
  },
  {
   "cell_type": "markdown",
   "id": "e1f3b27c",
   "metadata": {},
   "source": [
    "Первая часть гипотезы верна. С возратанием возрата, всё большое количество людей имеют более высокий стаж."
   ]
  },
  {
   "cell_type": "code",
   "execution_count": 78,
   "id": "890a8d71",
   "metadata": {},
   "outputs": [],
   "source": [
    "retiree_df = df[df['income_type'] == \"пенсионер\"][[\"dob_years\", \"days_employed\"]]"
   ]
  },
  {
   "cell_type": "code",
   "execution_count": 79,
   "id": "f4b73801",
   "metadata": {},
   "outputs": [],
   "source": [
    "retiree_df['years_employed'] = retiree_df['days_employed'] / 365"
   ]
  },
  {
   "cell_type": "code",
   "execution_count": 80,
   "id": "5c2270ca",
   "metadata": {},
   "outputs": [],
   "source": [
    "retiree_df = retiree_df.sort_values(by='dob_years')"
   ]
  },
  {
   "cell_type": "code",
   "execution_count": 81,
   "id": "431a739e",
   "metadata": {
    "scrolled": true
   },
   "outputs": [
    {
     "data": {
      "image/png": "[encoded data removed]",
      "text/plain": [
       "<Figure size 432x288 with 1 Axes>"
      ]
     },
     "metadata": {
      "needs_background": "light"
     },
     "output_type": "display_data"
    }
   ],
   "source": [
    "fig, ax = plt.subplots()\n",
    "ax.scatter(\n",
    "    retiree_df['dob_years'],\n",
    "    retiree_df['years_employed'],\n",
    ")\n",
    "ax.set_title(\"Зависимость стажа от возраста. Пенсионеры\")\n",
    "ax.set_xlabel('Возраст, лет') \n",
    "ax.set_ylabel('Стаж работы, дней') \n",
    "plt.show()"
   ]
  },
  {
   "cell_type": "markdown",
   "id": "44eb0ce3",
   "metadata": {},
   "source": [
    "Данные по пенсионерам вызывают сомнения. Срок стажа у всех пенсионеров превосходит **900 лет**.\n",
    "Вероятнно, для них указывается другой показатель. Так как в целях проекта нет поиска зависимости между сроком стажа и возвращение кредита. Используем данные, но использовать стаж работы пенсионеров для других целей невозможно, без получения объяснения значений."
   ]
  },
  {
   "cell_type": "markdown",
   "id": "99517acd",
   "metadata": {},
   "source": [
    "На этапе ознакомления с данными было отмечено, что данны в стоблце, описывающем семейное положение имеют различный регистр. Приведем все данные к нижнему регистру"
   ]
  },
  {
   "cell_type": "code",
   "execution_count": 82,
   "id": "05c520f7",
   "metadata": {},
   "outputs": [],
   "source": [
    "df.family_status = df.family_status.str.lower()"
   ]
  },
  {
   "cell_type": "code",
   "execution_count": 83,
   "id": "fe08a645",
   "metadata": {},
   "outputs": [
    {
     "data": {
      "text/plain": [
       "женат / замужем          12240\n",
       "гражданский брак          4134\n",
       "не женат / не замужем     2781\n",
       "в разводе                 1178\n",
       "вдовец / вдова             947\n",
       "Name: family_status, dtype: int64"
      ]
     },
     "execution_count": 83,
     "metadata": {},
     "output_type": "execute_result"
    }
   ],
   "source": [
    "df.family_status.value_counts()"
   ]
  },
  {
   "cell_type": "markdown",
   "id": "04d25eba",
   "metadata": {},
   "source": [
    "Данные приведены к нижнему регистру"
   ]
  },
  {
   "cell_type": "markdown",
   "id": "e4f92500",
   "metadata": {},
   "source": [
    "### Шаг 2.3. Удаление дубликатов."
   ]
  },
  {
   "cell_type": "markdown",
   "id": "6ff5c558",
   "metadata": {},
   "source": [
    "В ходе обзора данных были обнаружены явные и неявные повторы. Неявные повторы были утилизированы в процессе предобработки данных.\n",
    "Удалим явные повторы"
   ]
  },
  {
   "cell_type": "code",
   "execution_count": 84,
   "id": "82dd82fa",
   "metadata": {},
   "outputs": [
    {
     "data": {
      "text/plain": [
       "71"
      ]
     },
     "execution_count": 84,
     "metadata": {},
     "output_type": "execute_result"
    }
   ],
   "source": [
    "df.duplicated().sum()"
   ]
  },
  {
   "cell_type": "code",
   "execution_count": 85,
   "id": "d9f6398b",
   "metadata": {},
   "outputs": [],
   "source": [
    "df = df.drop_duplicates().reset_index(drop=True)"
   ]
  },
  {
   "cell_type": "code",
   "execution_count": 86,
   "id": "cf24a94e",
   "metadata": {},
   "outputs": [
    {
     "data": {
      "text/plain": [
       "0"
      ]
     },
     "execution_count": 86,
     "metadata": {},
     "output_type": "execute_result"
    }
   ],
   "source": [
    "df.duplicated().sum()"
   ]
  },
  {
   "cell_type": "markdown",
   "id": "39d1d966",
   "metadata": {},
   "source": [
    "Явные повторы удалены"
   ]
  },
  {
   "cell_type": "markdown",
   "id": "2496c1ad",
   "metadata": {},
   "source": [
    "### Шаг 2.4. Изменение типов данных."
   ]
  },
  {
   "cell_type": "markdown",
   "id": "3ac01045",
   "metadata": {},
   "source": [
    "Взглянем на типы данных."
   ]
  },
  {
   "cell_type": "code",
   "execution_count": 87,
   "id": "70021124",
   "metadata": {
    "scrolled": true
   },
   "outputs": [
    {
     "data": {
      "text/plain": [
       "children              int64\n",
       "days_employed       float64\n",
       "dob_years             int64\n",
       "education            object\n",
       "education_id          int64\n",
       "family_status        object\n",
       "family_status_id      int64\n",
       "gender               object\n",
       "income_type          object\n",
       "debt                  int64\n",
       "total_income        float64\n",
       "purpose              object\n",
       "dtype: object"
      ]
     },
     "execution_count": 87,
     "metadata": {},
     "output_type": "execute_result"
    }
   ],
   "source": [
    "df.dtypes"
   ]
  },
  {
   "cell_type": "markdown",
   "id": "e14536ef",
   "metadata": {},
   "source": [
    "Типы данных адекватных. Для более быстрой работы можно перевести некоторые объектные данные в категориальный тип, а численные привести к удобному формату."
   ]
  },
  {
   "cell_type": "code",
   "execution_count": 88,
   "id": "663a7efe",
   "metadata": {
    "scrolled": true
   },
   "outputs": [
    {
     "data": {
      "text/plain": [
       "Index(['children', 'days_employed', 'dob_years', 'education', 'education_id',\n",
       "       'family_status', 'family_status_id', 'gender', 'income_type', 'debt',\n",
       "       'total_income', 'purpose'],\n",
       "      dtype='object')"
      ]
     },
     "execution_count": 88,
     "metadata": {},
     "output_type": "execute_result"
    }
   ],
   "source": [
    "df.columns"
   ]
  },
  {
   "cell_type": "code",
   "execution_count": 89,
   "id": "c9b0eb6c",
   "metadata": {},
   "outputs": [],
   "source": [
    "list_col_category_data = [\n",
    "    'children', 'education', 'education_id',\n",
    "    'family_status', 'family_status_id', \n",
    "    'gender', 'income_type',\n",
    "]\n",
    "for col in list_col_category_data:\n",
    "    df[col] = df[col].astype('category')"
   ]
  },
  {
   "cell_type": "code",
   "execution_count": 90,
   "id": "5ffe4e89",
   "metadata": {},
   "outputs": [],
   "source": [
    "list_col_numeric_data = [\n",
    "    'days_employed', 'dob_years', 'total_income',\n",
    "]\n",
    "for col in list_col_numeric_data:\n",
    "    df[col] = pd.to_numeric(df[col])"
   ]
  },
  {
   "cell_type": "code",
   "execution_count": 91,
   "id": "10acef23",
   "metadata": {},
   "outputs": [],
   "source": [
    "df.total_income = df.total_income.astype('int')"
   ]
  },
  {
   "cell_type": "code",
   "execution_count": 92,
   "id": "ae47dfd5",
   "metadata": {},
   "outputs": [
    {
     "name": "stdout",
     "output_type": "stream",
     "text": [
      "<class 'pandas.core.frame.DataFrame'>\n",
      "RangeIndex: 21209 entries, 0 to 21208\n",
      "Data columns (total 12 columns):\n",
      "children            21209 non-null category\n",
      "days_employed       21209 non-null float64\n",
      "dob_years           21209 non-null int64\n",
      "education           21209 non-null category\n",
      "education_id        21209 non-null category\n",
      "family_status       21209 non-null category\n",
      "family_status_id    21209 non-null category\n",
      "gender              21209 non-null category\n",
      "income_type         21209 non-null category\n",
      "debt                21209 non-null int64\n",
      "total_income        21209 non-null int64\n",
      "purpose             21209 non-null object\n",
      "dtypes: category(7), float64(1), int64(3), object(1)\n",
      "memory usage: 974.8+ KB\n"
     ]
    }
   ],
   "source": [
    "df.info()"
   ]
  },
  {
   "cell_type": "markdown",
   "id": "9614a056",
   "metadata": {},
   "source": [
    "### Шаг 2.5. Формирование дополнительных датафреймов словарей, декомпозиция исходного датафрейма."
   ]
  },
  {
   "cell_type": "markdown",
   "id": "8a8b4e52",
   "metadata": {},
   "source": [
    "Создадим два датасета-словаря, определяющих семейное положение и образование."
   ]
  },
  {
   "cell_type": "code",
   "execution_count": 93,
   "id": "6aea0156",
   "metadata": {},
   "outputs": [],
   "source": [
    "df_family = (df[['family_status', 'family_status_id']]\n",
    "             .drop_duplicates()\n",
    "             .reset_index(drop=True)\n",
    "            )\n",
    "df_education = (df[['education', 'education_id']]\n",
    "                .drop_duplicates()\n",
    "                .reset_index(drop=True)\n",
    "               )"
   ]
  },
  {
   "cell_type": "code",
   "execution_count": 94,
   "id": "6a676fd0",
   "metadata": {},
   "outputs": [],
   "source": [
    "df = df.drop(['family_status', 'education'], axis=1)"
   ]
  },
  {
   "cell_type": "markdown",
   "id": "0f4ca90f",
   "metadata": {},
   "source": [
    "Данные декомпозированы"
   ]
  },
  {
   "cell_type": "markdown",
   "id": "8967a2ed",
   "metadata": {},
   "source": [
    "### Шаг 2.6. Категоризация дохода."
   ]
  },
  {
   "cell_type": "markdown",
   "id": "92ed4b25",
   "metadata": {},
   "source": [
    "Проведем категоризацию дохода по предложенным группам\n",
    "\n",
    "    0–30000 — 'E';\n",
    "    30001–50000 — 'D';\n",
    "    50001–200000 — 'C';\n",
    "    200001–1000000 — 'B';\n",
    "    1000001 и выше — 'A'.\n",
    "\n",
    "Опишем функцию категоризующие наши данные"
   ]
  },
  {
   "cell_type": "code",
   "execution_count": 95,
   "id": "cf6acf6b",
   "metadata": {},
   "outputs": [],
   "source": [
    "def categorization_income(value: int) -> str:\n",
    "    \"\"\"\n",
    "    Функция возращает категорию дохода по следующим правилам:\n",
    "    0–30000 — 'E';\n",
    "    30001–50000 — 'D';\n",
    "    50001–200000 — 'C';\n",
    "    200001–1000000 — 'B';\n",
    "    1000001 и выше — 'A'.\n",
    "    \"\"\"\n",
    "    list_diapason = [\n",
    "        [0, 30_000, 'E'],\n",
    "        [30_001, 50_000, 'D'],\n",
    "        [50_001, 200_000, 'C'],\n",
    "        [200_001, 1_000_000, 'B'],\n",
    "        [1_000_001, float(\"inf\"), 'A'],\n",
    "    ]\n",
    "    for diapason in list_diapason:\n",
    "        if diapason[0] < value and diapason[1] > value:\n",
    "            return diapason[2]"
   ]
  },
  {
   "cell_type": "code",
   "execution_count": 96,
   "id": "4eab5170",
   "metadata": {},
   "outputs": [],
   "source": [
    "def test_function(value: int, res: str, function) -> None:\n",
    "    assert function(value) == res, f'Функция выводит некоррктное значение. {value} {res}'\n",
    "    print('Верное решение!')\n",
    "    "
   ]
  },
  {
   "cell_type": "code",
   "execution_count": 97,
   "id": "ade5f65e",
   "metadata": {},
   "outputs": [
    {
     "name": "stdout",
     "output_type": "stream",
     "text": [
      "Верное решение!\n",
      "Верное решение!\n",
      "Верное решение!\n",
      "Верное решение!\n",
      "Верное решение!\n"
     ]
    }
   ],
   "source": [
    "list_test = [\n",
    "    [2, 'E'],\n",
    "    [45_000, 'D'],\n",
    "    [70_000, 'C'],\n",
    "    [300_000, 'B'],\n",
    "    [2_0000_000_0000, 'A'],\n",
    "]\n",
    "for test_data in list_test:\n",
    "    test_function(test_data[0], test_data[1], categorization_income)"
   ]
  },
  {
   "cell_type": "code",
   "execution_count": 98,
   "id": "2e4a895d",
   "metadata": {},
   "outputs": [],
   "source": [
    "df['total_income_category'] = df['total_income'].apply(categorization_income)"
   ]
  },
  {
   "cell_type": "code",
   "execution_count": 99,
   "id": "95f355f2",
   "metadata": {},
   "outputs": [],
   "source": [
    "df['total_income_category'] = df['total_income_category'].astype('category')"
   ]
  },
  {
   "cell_type": "markdown",
   "id": "8215fbee",
   "metadata": {},
   "source": [
    "Данные по доходам категоризированы!"
   ]
  },
  {
   "cell_type": "markdown",
   "id": "6a45ce18",
   "metadata": {},
   "source": [
    "### Шаг 2.7. Категоризация целей кредита."
   ]
  },
  {
   "cell_type": "markdown",
   "id": "8b8f9969",
   "metadata": {},
   "source": [
    "Проведем категоризацию целей по предложенным группам\n",
    "\n",
    "* операции с автомобилем\n",
    "* операции с недвижимостью\n",
    "* проведение свадьбы\n",
    "* получение образования\n",
    "\n",
    "Опишем функцию категоризующие наши данные\n"
   ]
  },
  {
   "cell_type": "code",
   "execution_count": 100,
   "id": "1b153e3b",
   "metadata": {},
   "outputs": [],
   "source": [
    "def categorusation_purpose(purpose: str) -> str:\n",
    "    \"\"\"\n",
    "    Категоризация данных по целям на следующие группы:\n",
    "        \n",
    "    операции с автомобилем\n",
    "    операции с недвижимостью\n",
    "    проведение свадьбы\n",
    "    получение образования\n",
    "\n",
    "    \"\"\"\n",
    "    purpose = purpose.lower()\n",
    "    if \"жил\" in purpose or \"недвиж\" in purpose:\n",
    "        return \"операции с недвижимостью\"\n",
    "    elif  \"авто\" in purpose:\n",
    "        return \"операции с автомобилем\"\n",
    "    elif \"свадьб\" in purpose or \"свадеб\" in purpose:\n",
    "        return \"проведение свадьбы\"\n",
    "    elif \"образ\" in purpose:\n",
    "        return \"получение образования\"\n",
    "    "
   ]
  },
  {
   "cell_type": "code",
   "execution_count": 101,
   "id": "7a3c77c6",
   "metadata": {},
   "outputs": [],
   "source": [
    "test_data_purpose = [\n",
    "    ['приобретение автомобиля', \"операции с автомобилем\"],\n",
    "    ['на покупку подержанного автомобиля', \"операции с автомобилем\"],\n",
    "    ['автомобили', \"операции с автомобилем\"],\n",
    "    ['покупка жилья', \"операции с недвижимостью\"],\n",
    "    ['покупка коммерческой недвижимости', \"операции с недвижимостью\"],\n",
    "    ['покупка жилой недвижимости', \"операции с недвижимостью\"],\n",
    "    ['на проведение свадьбы', \"проведение свадьбы\"],\n",
    "    ['свадьба', \"проведение свадьбы\"],\n",
    "    ['свадебное путешествие', \"проведение свадьбы\"],\n",
    "    ['заняться высшим образованием', \"получение образования\"],\n",
    "    ['получение образования', \"получение образования\"],\n",
    "    ['получение дополнительного образования', \"получение образования\"],\n",
    "    \n",
    "]"
   ]
  },
  {
   "cell_type": "code",
   "execution_count": 102,
   "id": "281506a6",
   "metadata": {},
   "outputs": [
    {
     "name": "stdout",
     "output_type": "stream",
     "text": [
      "Верное решение!\n",
      "Верное решение!\n",
      "Верное решение!\n",
      "Верное решение!\n",
      "Верное решение!\n",
      "Верное решение!\n",
      "Верное решение!\n",
      "Верное решение!\n",
      "Верное решение!\n",
      "Верное решение!\n",
      "Верное решение!\n",
      "Верное решение!\n"
     ]
    }
   ],
   "source": [
    "for test in test_data_purpose:\n",
    "    test_function(test[0], test[1], categorusation_purpose)"
   ]
  },
  {
   "cell_type": "code",
   "execution_count": 103,
   "id": "8e965034",
   "metadata": {},
   "outputs": [],
   "source": [
    "df['purpose_category'] = df['purpose'].apply(categorusation_purpose)"
   ]
  },
  {
   "cell_type": "code",
   "execution_count": 104,
   "id": "0f0da416",
   "metadata": {},
   "outputs": [],
   "source": [
    "df['purpose_category'] = df['purpose_category'].astype('category')"
   ]
  },
  {
   "cell_type": "markdown",
   "id": "6b56d232",
   "metadata": {},
   "source": [
    "Данные по целям категоризованы."
   ]
  },
  {
   "cell_type": "markdown",
   "id": "8e39aaf8",
   "metadata": {},
   "source": [
    "### Ответы на вопросы."
   ]
  },
  {
   "cell_type": "markdown",
   "id": "3a140985",
   "metadata": {},
   "source": [
    "##### Вопрос 1:     Есть ли зависимость между количеством детей и возвратом кредита в срок?\n"
   ]
  },
  {
   "cell_type": "markdown",
   "id": "a18a7968",
   "metadata": {},
   "source": [
    "Посчитаем среднее(в этом случае частоту) невозвратов кредита в зависимости от количества детей."
   ]
  },
  {
   "cell_type": "code",
   "execution_count": 105,
   "id": "701329f2",
   "metadata": {},
   "outputs": [
    {
     "data": {
      "text/html": [
       "<div>\n",
       "<style scoped>\n",
       "    .dataframe tbody tr th:only-of-type {\n",
       "        vertical-align: middle;\n",
       "    }\n",
       "\n",
       "    .dataframe tbody tr th {\n",
       "        vertical-align: top;\n",
       "    }\n",
       "\n",
       "    .dataframe thead th {\n",
       "        text-align: right;\n",
       "    }\n",
       "</style>\n",
       "<table border=\"1\" class=\"dataframe\">\n",
       "  <thead>\n",
       "    <tr style=\"text-align: right;\">\n",
       "      <th></th>\n",
       "      <th>debt</th>\n",
       "    </tr>\n",
       "    <tr>\n",
       "      <th>children</th>\n",
       "      <th></th>\n",
       "    </tr>\n",
       "  </thead>\n",
       "  <tbody>\n",
       "    <tr>\n",
       "      <td>0</td>\n",
       "      <td>7.550132</td>\n",
       "    </tr>\n",
       "    <tr>\n",
       "      <td>1</td>\n",
       "      <td>9.185804</td>\n",
       "    </tr>\n",
       "    <tr>\n",
       "      <td>2</td>\n",
       "      <td>9.470069</td>\n",
       "    </tr>\n",
       "    <tr>\n",
       "      <td>3</td>\n",
       "      <td>8.256881</td>\n",
       "    </tr>\n",
       "    <tr>\n",
       "      <td>4</td>\n",
       "      <td>9.756098</td>\n",
       "    </tr>\n",
       "  </tbody>\n",
       "</table>\n",
       "</div>"
      ],
      "text/plain": [
       "              debt\n",
       "children          \n",
       "0         7.550132\n",
       "1         9.185804\n",
       "2         9.470069\n",
       "3         8.256881\n",
       "4         9.756098"
      ]
     },
     "execution_count": 105,
     "metadata": {},
     "output_type": "execute_result"
    }
   ],
   "source": [
    "res_children = df.pivot_table(index='children', values='debt', aggfunc='mean')*100\n",
    "res_children"
   ]
  },
  {
   "cell_type": "markdown",
   "id": "7be5ac4b",
   "metadata": {},
   "source": [
    "Добавим данные по возрасту и доходу"
   ]
  },
  {
   "cell_type": "code",
   "execution_count": 106,
   "id": "3c015062",
   "metadata": {},
   "outputs": [
    {
     "data": {
      "text/html": [
       "<div>\n",
       "<style scoped>\n",
       "    .dataframe tbody tr th:only-of-type {\n",
       "        vertical-align: middle;\n",
       "    }\n",
       "\n",
       "    .dataframe tbody tr th {\n",
       "        vertical-align: top;\n",
       "    }\n",
       "\n",
       "    .dataframe thead th {\n",
       "        text-align: right;\n",
       "    }\n",
       "</style>\n",
       "<table border=\"1\" class=\"dataframe\">\n",
       "  <thead>\n",
       "    <tr style=\"text-align: right;\">\n",
       "      <th></th>\n",
       "      <th>dob_years</th>\n",
       "    </tr>\n",
       "    <tr>\n",
       "      <th>children</th>\n",
       "      <th></th>\n",
       "    </tr>\n",
       "  </thead>\n",
       "  <tbody>\n",
       "    <tr>\n",
       "      <td>0</td>\n",
       "      <td>46.460216</td>\n",
       "    </tr>\n",
       "    <tr>\n",
       "      <td>1</td>\n",
       "      <td>38.504384</td>\n",
       "    </tr>\n",
       "    <tr>\n",
       "      <td>2</td>\n",
       "      <td>35.996075</td>\n",
       "    </tr>\n",
       "    <tr>\n",
       "      <td>3</td>\n",
       "      <td>36.510703</td>\n",
       "    </tr>\n",
       "    <tr>\n",
       "      <td>4</td>\n",
       "      <td>36.048780</td>\n",
       "    </tr>\n",
       "  </tbody>\n",
       "</table>\n",
       "</div>"
      ],
      "text/plain": [
       "          dob_years\n",
       "children           \n",
       "0         46.460216\n",
       "1         38.504384\n",
       "2         35.996075\n",
       "3         36.510703\n",
       "4         36.048780"
      ]
     },
     "execution_count": 106,
     "metadata": {},
     "output_type": "execute_result"
    }
   ],
   "source": [
    "res_age_children = (df.pivot_table(\n",
    "    index='children',\n",
    "    values='dob_years',\n",
    "    aggfunc='mean')\n",
    ")\n",
    "res_age_children"
   ]
  },
  {
   "cell_type": "code",
   "execution_count": 107,
   "id": "cd7b6a8f",
   "metadata": {},
   "outputs": [
    {
     "data": {
      "text/html": [
       "<div>\n",
       "<style scoped>\n",
       "    .dataframe tbody tr th:only-of-type {\n",
       "        vertical-align: middle;\n",
       "    }\n",
       "\n",
       "    .dataframe tbody tr th {\n",
       "        vertical-align: top;\n",
       "    }\n",
       "\n",
       "    .dataframe thead th {\n",
       "        text-align: right;\n",
       "    }\n",
       "</style>\n",
       "<table border=\"1\" class=\"dataframe\">\n",
       "  <thead>\n",
       "    <tr style=\"text-align: right;\">\n",
       "      <th></th>\n",
       "      <th>total_income</th>\n",
       "    </tr>\n",
       "    <tr>\n",
       "      <th>children</th>\n",
       "      <th></th>\n",
       "    </tr>\n",
       "  </thead>\n",
       "  <tbody>\n",
       "    <tr>\n",
       "      <td>0</td>\n",
       "      <td>163038.075216</td>\n",
       "    </tr>\n",
       "    <tr>\n",
       "      <td>1</td>\n",
       "      <td>169270.999165</td>\n",
       "    </tr>\n",
       "    <tr>\n",
       "      <td>2</td>\n",
       "      <td>169747.447007</td>\n",
       "    </tr>\n",
       "    <tr>\n",
       "      <td>3</td>\n",
       "      <td>180014.110092</td>\n",
       "    </tr>\n",
       "    <tr>\n",
       "      <td>4</td>\n",
       "      <td>166363.097561</td>\n",
       "    </tr>\n",
       "  </tbody>\n",
       "</table>\n",
       "</div>"
      ],
      "text/plain": [
       "           total_income\n",
       "children               \n",
       "0         163038.075216\n",
       "1         169270.999165\n",
       "2         169747.447007\n",
       "3         180014.110092\n",
       "4         166363.097561"
      ]
     },
     "execution_count": 107,
     "metadata": {},
     "output_type": "execute_result"
    }
   ],
   "source": [
    "res_income_children = (df.pivot_table(\n",
    "    index='children',\n",
    "    values='total_income',\n",
    "    aggfunc='mean')\n",
    ")\n",
    "res_income_children"
   ]
  },
  {
   "cell_type": "code",
   "execution_count": 108,
   "id": "3f9155d6",
   "metadata": {},
   "outputs": [
    {
     "data": {
      "text/html": [
       "<div>\n",
       "<style scoped>\n",
       "    .dataframe tbody tr th:only-of-type {\n",
       "        vertical-align: middle;\n",
       "    }\n",
       "\n",
       "    .dataframe tbody tr th {\n",
       "        vertical-align: top;\n",
       "    }\n",
       "\n",
       "    .dataframe thead th {\n",
       "        text-align: right;\n",
       "    }\n",
       "</style>\n",
       "<table border=\"1\" class=\"dataframe\">\n",
       "  <thead>\n",
       "    <tr style=\"text-align: right;\">\n",
       "      <th></th>\n",
       "      <th>children</th>\n",
       "      <th>debt</th>\n",
       "      <th>dob_years</th>\n",
       "      <th>total_income</th>\n",
       "    </tr>\n",
       "  </thead>\n",
       "  <tbody>\n",
       "    <tr>\n",
       "      <td>0</td>\n",
       "      <td>0</td>\n",
       "      <td>7.550132</td>\n",
       "      <td>46.460216</td>\n",
       "      <td>163038.075216</td>\n",
       "    </tr>\n",
       "    <tr>\n",
       "      <td>1</td>\n",
       "      <td>1</td>\n",
       "      <td>9.185804</td>\n",
       "      <td>38.504384</td>\n",
       "      <td>169270.999165</td>\n",
       "    </tr>\n",
       "    <tr>\n",
       "      <td>2</td>\n",
       "      <td>2</td>\n",
       "      <td>9.470069</td>\n",
       "      <td>35.996075</td>\n",
       "      <td>169747.447007</td>\n",
       "    </tr>\n",
       "    <tr>\n",
       "      <td>3</td>\n",
       "      <td>3</td>\n",
       "      <td>8.256881</td>\n",
       "      <td>36.510703</td>\n",
       "      <td>180014.110092</td>\n",
       "    </tr>\n",
       "    <tr>\n",
       "      <td>4</td>\n",
       "      <td>4</td>\n",
       "      <td>9.756098</td>\n",
       "      <td>36.048780</td>\n",
       "      <td>166363.097561</td>\n",
       "    </tr>\n",
       "  </tbody>\n",
       "</table>\n",
       "</div>"
      ],
      "text/plain": [
       "   children      debt  dob_years   total_income\n",
       "0         0  7.550132  46.460216  163038.075216\n",
       "1         1  9.185804  38.504384  169270.999165\n",
       "2         2  9.470069  35.996075  169747.447007\n",
       "3         3  8.256881  36.510703  180014.110092\n",
       "4         4  9.756098  36.048780  166363.097561"
      ]
     },
     "execution_count": 108,
     "metadata": {},
     "output_type": "execute_result"
    }
   ],
   "source": [
    "res_pt_children = res_children.merge(\n",
    "    res_age_children,\n",
    "    on='children'\n",
    ").merge(\n",
    "    res_income_children,\n",
    "    on='children'\n",
    ").sort_values(\n",
    "    by='children'\n",
    ").reset_index()\n",
    "res_pt_children['children'] = res_pt_children['children'].astype('int')\n",
    "res_pt_children"
   ]
  },
  {
   "cell_type": "code",
   "execution_count": 109,
   "id": "1889e68a",
   "metadata": {},
   "outputs": [
    {
     "data": {
      "image/png": "[encoded data removed]",
      "text/plain": [
       "<Figure size 432x288 with 1 Axes>"
      ]
     },
     "metadata": {
      "needs_background": "light"
     },
     "output_type": "display_data"
    }
   ],
   "source": [
    "fig, ax = plt.subplots()\n",
    "ax.plot(\n",
    "    res_pt_children['children'],\n",
    "    res_pt_children['debt']\n",
    ")\n",
    "ax.set_title(\"Процент невозврата в зависимости от количества детей\")\n",
    "plt.ylim(0,10)\n",
    "ax.set_xlabel('Количество детей, шт') \n",
    "ax.set_ylabel('%')\n",
    "plt.show()"
   ]
  },
  {
   "cell_type": "markdown",
   "id": "156dc94c",
   "metadata": {},
   "source": [
    "##### Вывод 1:"
   ]
  },
  {
   "cell_type": "markdown",
   "id": "3bba0683",
   "metadata": {},
   "source": [
    "Чёткой зависимости невозратов кредитов от **количества детей** не наблюдается. Вне зависимости от количества детей, процент невозратов составляет от 7% до 10%. Но наблюдается тенденция к повышению невозратов при увеличении количества детей."
   ]
  },
  {
   "cell_type": "markdown",
   "id": "93e61688",
   "metadata": {},
   "source": [
    "##### Вопрос 2:  Есть ли зависимость между семейным положением и возвратом кредита в срок?"
   ]
  },
  {
   "cell_type": "markdown",
   "id": "89deeb62",
   "metadata": {},
   "source": [
    "Сгруппируем данные по семеному статусу и применим функцию усреднения. Умножим на сто. В результате, процент невозратов в каждой группе."
   ]
  },
  {
   "cell_type": "code",
   "execution_count": 110,
   "id": "c4ad1170",
   "metadata": {},
   "outputs": [],
   "source": [
    "res_pt_family = df.pivot_table(index='family_status_id', values='debt', aggfunc='mean')*100"
   ]
  },
  {
   "cell_type": "code",
   "execution_count": 111,
   "id": "9b670848",
   "metadata": {
    "scrolled": true
   },
   "outputs": [
    {
     "data": {
      "text/html": [
       "<div>\n",
       "<style scoped>\n",
       "    .dataframe tbody tr th:only-of-type {\n",
       "        vertical-align: middle;\n",
       "    }\n",
       "\n",
       "    .dataframe tbody tr th {\n",
       "        vertical-align: top;\n",
       "    }\n",
       "\n",
       "    .dataframe thead th {\n",
       "        text-align: right;\n",
       "    }\n",
       "</style>\n",
       "<table border=\"1\" class=\"dataframe\">\n",
       "  <thead>\n",
       "    <tr style=\"text-align: right;\">\n",
       "      <th></th>\n",
       "      <th>family_status_id</th>\n",
       "      <th>debt</th>\n",
       "      <th>family_status</th>\n",
       "    </tr>\n",
       "  </thead>\n",
       "  <tbody>\n",
       "    <tr>\n",
       "      <td>0</td>\n",
       "      <td>0</td>\n",
       "      <td>7.549799</td>\n",
       "      <td>женат / замужем</td>\n",
       "    </tr>\n",
       "    <tr>\n",
       "      <td>1</td>\n",
       "      <td>1</td>\n",
       "      <td>9.323272</td>\n",
       "      <td>гражданский брак</td>\n",
       "    </tr>\n",
       "    <tr>\n",
       "      <td>2</td>\n",
       "      <td>2</td>\n",
       "      <td>6.553911</td>\n",
       "      <td>вдовец / вдова</td>\n",
       "    </tr>\n",
       "    <tr>\n",
       "      <td>3</td>\n",
       "      <td>3</td>\n",
       "      <td>7.130730</td>\n",
       "      <td>в разводе</td>\n",
       "    </tr>\n",
       "    <tr>\n",
       "      <td>4</td>\n",
       "      <td>4</td>\n",
       "      <td>9.791217</td>\n",
       "      <td>не женат / не замужем</td>\n",
       "    </tr>\n",
       "  </tbody>\n",
       "</table>\n",
       "</div>"
      ],
      "text/plain": [
       "  family_status_id      debt          family_status\n",
       "0                0  7.549799        женат / замужем\n",
       "1                1  9.323272       гражданский брак\n",
       "2                2  6.553911         вдовец / вдова\n",
       "3                3  7.130730              в разводе\n",
       "4                4  9.791217  не женат / не замужем"
      ]
     },
     "execution_count": 111,
     "metadata": {},
     "output_type": "execute_result"
    }
   ],
   "source": [
    "res_pt_family = res_pt_family.merge(df_family, on='family_status_id')\n",
    "res_pt_family"
   ]
  },
  {
   "cell_type": "markdown",
   "id": "b7a96802",
   "metadata": {},
   "source": [
    "Проверим, связь статуса с возрастом и средним доходом"
   ]
  },
  {
   "cell_type": "code",
   "execution_count": 112,
   "id": "81c86e78",
   "metadata": {},
   "outputs": [
    {
     "data": {
      "text/html": [
       "<div>\n",
       "<style scoped>\n",
       "    .dataframe tbody tr th:only-of-type {\n",
       "        vertical-align: middle;\n",
       "    }\n",
       "\n",
       "    .dataframe tbody tr th {\n",
       "        vertical-align: top;\n",
       "    }\n",
       "\n",
       "    .dataframe thead th {\n",
       "        text-align: right;\n",
       "    }\n",
       "</style>\n",
       "<table border=\"1\" class=\"dataframe\">\n",
       "  <thead>\n",
       "    <tr style=\"text-align: right;\">\n",
       "      <th></th>\n",
       "      <th>dob_years</th>\n",
       "    </tr>\n",
       "    <tr>\n",
       "      <th>family_status_id</th>\n",
       "      <th></th>\n",
       "    </tr>\n",
       "  </thead>\n",
       "  <tbody>\n",
       "    <tr>\n",
       "      <td>0</td>\n",
       "      <td>43.728666</td>\n",
       "    </tr>\n",
       "    <tr>\n",
       "      <td>1</td>\n",
       "      <td>42.291870</td>\n",
       "    </tr>\n",
       "    <tr>\n",
       "      <td>2</td>\n",
       "      <td>56.800211</td>\n",
       "    </tr>\n",
       "    <tr>\n",
       "      <td>3</td>\n",
       "      <td>45.955857</td>\n",
       "    </tr>\n",
       "    <tr>\n",
       "      <td>4</td>\n",
       "      <td>38.592513</td>\n",
       "    </tr>\n",
       "  </tbody>\n",
       "</table>\n",
       "</div>"
      ],
      "text/plain": [
       "                  dob_years\n",
       "family_status_id           \n",
       "0                 43.728666\n",
       "1                 42.291870\n",
       "2                 56.800211\n",
       "3                 45.955857\n",
       "4                 38.592513"
      ]
     },
     "execution_count": 112,
     "metadata": {},
     "output_type": "execute_result"
    }
   ],
   "source": [
    "res_age = (df.pivot_table(\n",
    "    index='family_status_id',\n",
    "    values='dob_years',\n",
    "    aggfunc='mean')\n",
    ")\n",
    "res_age"
   ]
  },
  {
   "cell_type": "code",
   "execution_count": 113,
   "id": "176ce556",
   "metadata": {},
   "outputs": [
    {
     "data": {
      "text/html": [
       "<div>\n",
       "<style scoped>\n",
       "    .dataframe tbody tr th:only-of-type {\n",
       "        vertical-align: middle;\n",
       "    }\n",
       "\n",
       "    .dataframe tbody tr th {\n",
       "        vertical-align: top;\n",
       "    }\n",
       "\n",
       "    .dataframe thead th {\n",
       "        text-align: right;\n",
       "    }\n",
       "</style>\n",
       "<table border=\"1\" class=\"dataframe\">\n",
       "  <thead>\n",
       "    <tr style=\"text-align: right;\">\n",
       "      <th></th>\n",
       "      <th>total_income</th>\n",
       "    </tr>\n",
       "    <tr>\n",
       "      <th>family_status_id</th>\n",
       "      <th></th>\n",
       "    </tr>\n",
       "  </thead>\n",
       "  <tbody>\n",
       "    <tr>\n",
       "      <td>0</td>\n",
       "      <td>166755.125256</td>\n",
       "    </tr>\n",
       "    <tr>\n",
       "      <td>1</td>\n",
       "      <td>164791.111490</td>\n",
       "    </tr>\n",
       "    <tr>\n",
       "      <td>2</td>\n",
       "      <td>142708.173362</td>\n",
       "    </tr>\n",
       "    <tr>\n",
       "      <td>3</td>\n",
       "      <td>168100.091681</td>\n",
       "    </tr>\n",
       "    <tr>\n",
       "      <td>4</td>\n",
       "      <td>166616.246580</td>\n",
       "    </tr>\n",
       "  </tbody>\n",
       "</table>\n",
       "</div>"
      ],
      "text/plain": [
       "                   total_income\n",
       "family_status_id               \n",
       "0                 166755.125256\n",
       "1                 164791.111490\n",
       "2                 142708.173362\n",
       "3                 168100.091681\n",
       "4                 166616.246580"
      ]
     },
     "execution_count": 113,
     "metadata": {},
     "output_type": "execute_result"
    }
   ],
   "source": [
    "res_income = (df.pivot_table(\n",
    "    index='family_status_id',\n",
    "    values='total_income',\n",
    "    aggfunc='mean')\n",
    ")\n",
    "res_income"
   ]
  },
  {
   "cell_type": "code",
   "execution_count": 114,
   "id": "1395e27a",
   "metadata": {},
   "outputs": [
    {
     "data": {
      "text/html": [
       "<div>\n",
       "<style scoped>\n",
       "    .dataframe tbody tr th:only-of-type {\n",
       "        vertical-align: middle;\n",
       "    }\n",
       "\n",
       "    .dataframe tbody tr th {\n",
       "        vertical-align: top;\n",
       "    }\n",
       "\n",
       "    .dataframe thead th {\n",
       "        text-align: right;\n",
       "    }\n",
       "</style>\n",
       "<table border=\"1\" class=\"dataframe\">\n",
       "  <thead>\n",
       "    <tr style=\"text-align: right;\">\n",
       "      <th></th>\n",
       "      <th>family_status_id</th>\n",
       "      <th>debt</th>\n",
       "      <th>family_status</th>\n",
       "      <th>dob_years</th>\n",
       "      <th>total_income</th>\n",
       "    </tr>\n",
       "  </thead>\n",
       "  <tbody>\n",
       "    <tr>\n",
       "      <td>0</td>\n",
       "      <td>4</td>\n",
       "      <td>9.791217</td>\n",
       "      <td>не женат / не замужем</td>\n",
       "      <td>38.592513</td>\n",
       "      <td>166616.246580</td>\n",
       "    </tr>\n",
       "    <tr>\n",
       "      <td>1</td>\n",
       "      <td>1</td>\n",
       "      <td>9.323272</td>\n",
       "      <td>гражданский брак</td>\n",
       "      <td>42.291870</td>\n",
       "      <td>164791.111490</td>\n",
       "    </tr>\n",
       "    <tr>\n",
       "      <td>2</td>\n",
       "      <td>0</td>\n",
       "      <td>7.549799</td>\n",
       "      <td>женат / замужем</td>\n",
       "      <td>43.728666</td>\n",
       "      <td>166755.125256</td>\n",
       "    </tr>\n",
       "    <tr>\n",
       "      <td>3</td>\n",
       "      <td>3</td>\n",
       "      <td>7.130730</td>\n",
       "      <td>в разводе</td>\n",
       "      <td>45.955857</td>\n",
       "      <td>168100.091681</td>\n",
       "    </tr>\n",
       "    <tr>\n",
       "      <td>4</td>\n",
       "      <td>2</td>\n",
       "      <td>6.553911</td>\n",
       "      <td>вдовец / вдова</td>\n",
       "      <td>56.800211</td>\n",
       "      <td>142708.173362</td>\n",
       "    </tr>\n",
       "  </tbody>\n",
       "</table>\n",
       "</div>"
      ],
      "text/plain": [
       "  family_status_id      debt          family_status  dob_years   total_income\n",
       "0                4  9.791217  не женат / не замужем  38.592513  166616.246580\n",
       "1                1  9.323272       гражданский брак  42.291870  164791.111490\n",
       "2                0  7.549799        женат / замужем  43.728666  166755.125256\n",
       "3                3  7.130730              в разводе  45.955857  168100.091681\n",
       "4                2  6.553911         вдовец / вдова  56.800211  142708.173362"
      ]
     },
     "execution_count": 114,
     "metadata": {},
     "output_type": "execute_result"
    }
   ],
   "source": [
    "res_pt_family = res_pt_family.merge(\n",
    "    res_age,\n",
    "    on='family_status_id'\n",
    ").sort_values(\n",
    "    by='dob_years'\n",
    ").merge(\n",
    "    res_income,\n",
    "    on='family_status_id'\n",
    ")\n",
    "res_pt_family"
   ]
  },
  {
   "cell_type": "code",
   "execution_count": 115,
   "id": "fe1bfcb4",
   "metadata": {},
   "outputs": [
    {
     "data": {
      "image/png": "[encoded data removed]",
      "text/plain": [
       "<Figure size 432x288 with 1 Axes>"
      ]
     },
     "metadata": {
      "needs_background": "light"
     },
     "output_type": "display_data"
    }
   ],
   "source": [
    "fig, ax = plt.subplots()\n",
    "ax.plot(\n",
    "    res_pt_family['dob_years'],\n",
    "    res_pt_family['debt'],\n",
    ")\n",
    "ax.set_title(\"Процент невозврата в зависимости от возраста\")\n",
    "plt.ylim(0,10)\n",
    "ax.set_xlabel('Возраст, лет') \n",
    "ax.set_ylabel('%')\n",
    "plt.show()"
   ]
  },
  {
   "cell_type": "markdown",
   "id": "b880b34b",
   "metadata": {},
   "source": [
    "##### Вывод 2:"
   ]
  },
  {
   "cell_type": "markdown",
   "id": "8381a814",
   "metadata": {},
   "source": [
    "Чёткой зависимости невозратов кредитов от **семейного статуса** не наблюдается. Вне зависимости от статуса, процент невозратов составляет от 6% до 10%. У людей бывших или состоящих **в оффициальных отношения**, невозрат кредитов **меньше** и составляет до 7,5%, в то время как у людей без оффициальных отношений невозратов больше. Вероятно, это связано, так же с более низким возраcтом людей в этиъ группах. Поэтому, вероятно, что существует зависимость между невозратом и возратом. **С возрастанием возраста возрастает и процент невозврата.**"
   ]
  },
  {
   "cell_type": "markdown",
   "id": "b55e33a2",
   "metadata": {},
   "source": [
    "#####  Вопрос 3: Есть ли зависимость между уровнем дохода и возвратом кредита в срок?"
   ]
  },
  {
   "cell_type": "markdown",
   "id": "ede6c931",
   "metadata": {},
   "source": [
    "Сгруппируем данные по уровню дохода и применим функцию усреднения. Умножим на сто. В результате, процент невозратов в каждой группе."
   ]
  },
  {
   "cell_type": "code",
   "execution_count": 116,
   "id": "b74fc84e",
   "metadata": {},
   "outputs": [
    {
     "data": {
      "text/html": [
       "<div>\n",
       "<style scoped>\n",
       "    .dataframe tbody tr th:only-of-type {\n",
       "        vertical-align: middle;\n",
       "    }\n",
       "\n",
       "    .dataframe tbody tr th {\n",
       "        vertical-align: top;\n",
       "    }\n",
       "\n",
       "    .dataframe thead th {\n",
       "        text-align: right;\n",
       "    }\n",
       "</style>\n",
       "<table border=\"1\" class=\"dataframe\">\n",
       "  <thead>\n",
       "    <tr style=\"text-align: right;\">\n",
       "      <th></th>\n",
       "      <th>debt</th>\n",
       "    </tr>\n",
       "    <tr>\n",
       "      <th>total_income_category</th>\n",
       "      <th></th>\n",
       "    </tr>\n",
       "  </thead>\n",
       "  <tbody>\n",
       "    <tr>\n",
       "      <td>A</td>\n",
       "      <td>8.000000</td>\n",
       "    </tr>\n",
       "    <tr>\n",
       "      <td>B</td>\n",
       "      <td>7.092626</td>\n",
       "    </tr>\n",
       "    <tr>\n",
       "      <td>C</td>\n",
       "      <td>8.485920</td>\n",
       "    </tr>\n",
       "    <tr>\n",
       "      <td>D</td>\n",
       "      <td>6.069364</td>\n",
       "    </tr>\n",
       "    <tr>\n",
       "      <td>E</td>\n",
       "      <td>9.090909</td>\n",
       "    </tr>\n",
       "  </tbody>\n",
       "</table>\n",
       "</div>"
      ],
      "text/plain": [
       "                           debt\n",
       "total_income_category          \n",
       "A                      8.000000\n",
       "B                      7.092626\n",
       "C                      8.485920\n",
       "D                      6.069364\n",
       "E                      9.090909"
      ]
     },
     "execution_count": 116,
     "metadata": {},
     "output_type": "execute_result"
    }
   ],
   "source": [
    "df.pivot_table(index='total_income_category', values='debt', aggfunc='mean')*100"
   ]
  },
  {
   "cell_type": "markdown",
   "id": "094159fc",
   "metadata": {},
   "source": [
    "##### Вывод 3:"
   ]
  },
  {
   "cell_type": "markdown",
   "id": "e5c1b175",
   "metadata": {},
   "source": [
    "Чёткой зависимости невозратов кредитов от **уровня дохода** не наблюдается. Вне зависимости от дохода, процент невозратов составляет от 6% до 9%."
   ]
  },
  {
   "cell_type": "markdown",
   "id": "b25a1aa6",
   "metadata": {},
   "source": [
    "#####  Вопрос 4: Как разные цели кредита влияют на его возврат в срок?"
   ]
  },
  {
   "cell_type": "markdown",
   "id": "34caa095",
   "metadata": {},
   "source": [
    "Сгруппируем данные по уровню дохода и применим функцию усреднения. Умножим на сто. В результате, процент невозратов в каждой группе."
   ]
  },
  {
   "cell_type": "code",
   "execution_count": 117,
   "id": "7d20059f",
   "metadata": {},
   "outputs": [
    {
     "data": {
      "text/html": [
       "<div>\n",
       "<style scoped>\n",
       "    .dataframe tbody tr th:only-of-type {\n",
       "        vertical-align: middle;\n",
       "    }\n",
       "\n",
       "    .dataframe tbody tr th {\n",
       "        vertical-align: top;\n",
       "    }\n",
       "\n",
       "    .dataframe thead th {\n",
       "        text-align: right;\n",
       "    }\n",
       "</style>\n",
       "<table border=\"1\" class=\"dataframe\">\n",
       "  <thead>\n",
       "    <tr style=\"text-align: right;\">\n",
       "      <th></th>\n",
       "      <th>debt</th>\n",
       "    </tr>\n",
       "    <tr>\n",
       "      <th>purpose_category</th>\n",
       "      <th></th>\n",
       "    </tr>\n",
       "  </thead>\n",
       "  <tbody>\n",
       "    <tr>\n",
       "      <td>операции с автомобилем</td>\n",
       "      <td>9.306698</td>\n",
       "    </tr>\n",
       "    <tr>\n",
       "      <td>операции с недвижимостью</td>\n",
       "      <td>7.259800</td>\n",
       "    </tr>\n",
       "    <tr>\n",
       "      <td>получение образования</td>\n",
       "      <td>9.299395</td>\n",
       "    </tr>\n",
       "    <tr>\n",
       "      <td>проведение свадьбы</td>\n",
       "      <td>7.879843</td>\n",
       "    </tr>\n",
       "  </tbody>\n",
       "</table>\n",
       "</div>"
      ],
      "text/plain": [
       "                              debt\n",
       "purpose_category                  \n",
       "операции с автомобилем    9.306698\n",
       "операции с недвижимостью  7.259800\n",
       "получение образования     9.299395\n",
       "проведение свадьбы        7.879843"
      ]
     },
     "execution_count": 117,
     "metadata": {},
     "output_type": "execute_result"
    }
   ],
   "source": [
    "df.pivot_table(index='purpose_category', values='debt', aggfunc='mean')*100"
   ]
  },
  {
   "cell_type": "markdown",
   "id": "e0512a1f",
   "metadata": {},
   "source": [
    "##### Вывод 4:"
   ]
  },
  {
   "cell_type": "markdown",
   "id": "9919dc3e",
   "metadata": {},
   "source": [
    "з анализа видно, что **операции с автомобилем** и **получение образования** чаще (около 9,3%) невозращают кредиты по сравнению с целями связанными с **операциями с недвижимостью** и **проведением свадьбы**"
   ]
  },
  {
   "cell_type": "markdown",
   "id": "d6f6c7d6",
   "metadata": {},
   "source": [
    "#### Проверим связь выделеных признаков"
   ]
  },
  {
   "cell_type": "markdown",
   "id": "2038b77b",
   "metadata": {},
   "source": [
    "Сгруппируем данные по выделеным ранее категориям"
   ]
  },
  {
   "cell_type": "code",
   "execution_count": 118,
   "id": "7ec08636",
   "metadata": {},
   "outputs": [],
   "source": [
    "df = df.merge(df_family, on='family_status_id')"
   ]
  },
  {
   "cell_type": "code",
   "execution_count": 119,
   "id": "7f467307",
   "metadata": {},
   "outputs": [
    {
     "data": {
      "text/html": [
       "<div>\n",
       "<style scoped>\n",
       "    .dataframe tbody tr th:only-of-type {\n",
       "        vertical-align: middle;\n",
       "    }\n",
       "\n",
       "    .dataframe tbody tr th {\n",
       "        vertical-align: top;\n",
       "    }\n",
       "\n",
       "    .dataframe thead th {\n",
       "        text-align: right;\n",
       "    }\n",
       "</style>\n",
       "<table border=\"1\" class=\"dataframe\">\n",
       "  <thead>\n",
       "    <tr style=\"text-align: right;\">\n",
       "      <th></th>\n",
       "      <th></th>\n",
       "      <th>debt</th>\n",
       "    </tr>\n",
       "    <tr>\n",
       "      <th>family_status</th>\n",
       "      <th>purpose_category</th>\n",
       "      <th></th>\n",
       "    </tr>\n",
       "  </thead>\n",
       "  <tbody>\n",
       "    <tr>\n",
       "      <td>гражданский брак</td>\n",
       "      <td>получение образования</td>\n",
       "      <td>0.149254</td>\n",
       "    </tr>\n",
       "    <tr>\n",
       "      <td>не женат / не замужем</td>\n",
       "      <td>операции с автомобилем</td>\n",
       "      <td>0.129747</td>\n",
       "    </tr>\n",
       "    <tr>\n",
       "      <td>гражданский брак</td>\n",
       "      <td>операции с автомобилем</td>\n",
       "      <td>0.119438</td>\n",
       "    </tr>\n",
       "    <tr>\n",
       "      <td>не женат / не замужем</td>\n",
       "      <td>получение образования</td>\n",
       "      <td>0.108581</td>\n",
       "    </tr>\n",
       "    <tr>\n",
       "      <td>гражданский брак</td>\n",
       "      <td>операции с недвижимостью</td>\n",
       "      <td>0.092668</td>\n",
       "    </tr>\n",
       "    <tr>\n",
       "      <td>вдовец / вдова</td>\n",
       "      <td>операции с автомобилем</td>\n",
       "      <td>0.087963</td>\n",
       "    </tr>\n",
       "    <tr>\n",
       "      <td rowspan=\"2\" valign=\"top\">женат / замужем</td>\n",
       "      <td>получение образования</td>\n",
       "      <td>0.083919</td>\n",
       "    </tr>\n",
       "    <tr>\n",
       "      <td>операции с автомобилем</td>\n",
       "      <td>0.082470</td>\n",
       "    </tr>\n",
       "    <tr>\n",
       "      <td>не женат / не замужем</td>\n",
       "      <td>операции с недвижимостью</td>\n",
       "      <td>0.081270</td>\n",
       "    </tr>\n",
       "    <tr>\n",
       "      <td>гражданский брак</td>\n",
       "      <td>проведение свадьбы</td>\n",
       "      <td>0.078798</td>\n",
       "    </tr>\n",
       "    <tr>\n",
       "      <td>вдовец / вдова</td>\n",
       "      <td>получение образования</td>\n",
       "      <td>0.076531</td>\n",
       "    </tr>\n",
       "    <tr>\n",
       "      <td rowspan=\"2\" valign=\"top\">в разводе</td>\n",
       "      <td>операции с автомобилем</td>\n",
       "      <td>0.076087</td>\n",
       "    </tr>\n",
       "    <tr>\n",
       "      <td>получение образования</td>\n",
       "      <td>0.071730</td>\n",
       "    </tr>\n",
       "    <tr>\n",
       "      <td>женат / замужем</td>\n",
       "      <td>операции с недвижимостью</td>\n",
       "      <td>0.069667</td>\n",
       "    </tr>\n",
       "    <tr>\n",
       "      <td>в разводе</td>\n",
       "      <td>операции с недвижимостью</td>\n",
       "      <td>0.069173</td>\n",
       "    </tr>\n",
       "    <tr>\n",
       "      <td>вдовец / вдова</td>\n",
       "      <td>операции с недвижимостью</td>\n",
       "      <td>0.052434</td>\n",
       "    </tr>\n",
       "  </tbody>\n",
       "</table>\n",
       "</div>"
      ],
      "text/plain": [
       "                                                    debt\n",
       "family_status         purpose_category                  \n",
       "гражданский брак      получение образования     0.149254\n",
       "не женат / не замужем операции с автомобилем    0.129747\n",
       "гражданский брак      операции с автомобилем    0.119438\n",
       "не женат / не замужем получение образования     0.108581\n",
       "гражданский брак      операции с недвижимостью  0.092668\n",
       "вдовец / вдова        операции с автомобилем    0.087963\n",
       "женат / замужем       получение образования     0.083919\n",
       "                      операции с автомобилем    0.082470\n",
       "не женат / не замужем операции с недвижимостью  0.081270\n",
       "гражданский брак      проведение свадьбы        0.078798\n",
       "вдовец / вдова        получение образования     0.076531\n",
       "в разводе             операции с автомобилем    0.076087\n",
       "                      получение образования     0.071730\n",
       "женат / замужем       операции с недвижимостью  0.069667\n",
       "в разводе             операции с недвижимостью  0.069173\n",
       "вдовец / вдова        операции с недвижимостью  0.052434"
      ]
     },
     "execution_count": 119,
     "metadata": {},
     "output_type": "execute_result"
    }
   ],
   "source": [
    "(df\n",
    " .pivot_table(\n",
    "     index=['family_status','purpose_category'],\n",
    "     values ='debt',\n",
    "     aggfunc='mean')\n",
    " .sort_values(by='debt', ascending=False)\n",
    ")"
   ]
  },
  {
   "cell_type": "markdown",
   "id": "bc819f00",
   "metadata": {},
   "source": [
    "Как видим, больше значение оказывает цель. Получени образования и операции с автомобилем, лидируют в рейтенге невозрата. Причём семейное положение не оказывает существенного влияния."
   ]
  },
  {
   "cell_type": "markdown",
   "id": "3d1fa9c6",
   "metadata": {},
   "source": [
    "Как видим, наименьшая встречаемость просрочек у людей имеющих/имевших семью и среди целей для кредита фигурирует операция с недвижимостью."
   ]
  },
  {
   "cell_type": "markdown",
   "id": "04ea8a09",
   "metadata": {},
   "source": [
    "## Общий вывод:"
   ]
  },
  {
   "cell_type": "markdown",
   "id": "219a1422",
   "metadata": {},
   "source": [
    "Исходя из полученных данных можно предположить, что **наиболее важными для формулирования критериев** возврата кредитных средств являются следующие показатели:\n",
    "* Цели кредита. Так кредиты на **операции с автомобилем и образованием на 2% чаще не вовращаются в банк вовремя**. Этот показатель стоит учитывать при выдачи кредита.\n",
    "* Показатели дохода, количества детей **не связаны четкой зависимостью** с процентом невозвратов кредита. Можно говорить о тенеденциях. \n",
    "** Так с повышением **количества детей** возможно будет увеличиваться количество невозратов. Но на данных имеющихся в этом датасете **нельзя говорить о чёткой связи**.\n",
    "** Уровень дохода имеет **разнонаправленню динамику**. Так группы с доходами 30 000 - 50 000 и 200 000 - 1 000 000 чаще вовращают кредиты, чем представители остальных групп. Возможно, это связано с различными целями и ценами за желаемую продукцию. Но **эта гипотеза, требует дополнительного исследования**.\n",
    "* Семейное положени показывает связь с уровнем невозврата, но вероятно, эта связь опосредована возратом людей берущих кредиты. Так **с увеличением возраста уменьшается уровень невозврата кредита**. Вероятно, возраст также связан и с семейным положением, более молоды люди чаще не состоят в оффициальных отношения, по сравнению с людьми старшего возраста. Поэтому так же была обнаружена связь **если люди состоят/состояли в оффициальных отношениях, как правило возрастает процент возврата кредита**.\n",
    "\n",
    "Поэтому основами для критериев выдачи кредитов являются: **цели кредитов, возраст и семейное положение**."
   ]
  }
 ],
 "metadata": {
  "ExecuteTimeLog": [
   {
    "duration": 796,
    "start_time": "2022-02-19T20:00:00.170Z"
   },
   {
    "duration": 32,
    "start_time": "2022-02-19T20:03:59.090Z"
   },
   {
    "duration": 26,
    "start_time": "2022-02-19T20:04:03.093Z"
   },
   {
    "duration": 75,
    "start_time": "2022-02-19T20:04:19.105Z"
   },
   {
    "duration": 66,
    "start_time": "2022-02-19T20:04:19.867Z"
   },
   {
    "duration": 13,
    "start_time": "2022-02-19T20:04:20.072Z"
   },
   {
    "duration": 63,
    "start_time": "2022-02-19T20:04:30.377Z"
   },
   {
    "duration": 61,
    "start_time": "2022-02-19T20:04:30.939Z"
   },
   {
    "duration": 33,
    "start_time": "2022-02-19T20:04:31.108Z"
   },
   {
    "duration": 571,
    "start_time": "2022-02-19T20:04:41.321Z"
   },
   {
    "duration": 5,
    "start_time": "2022-02-19T20:04:49.766Z"
   },
   {
    "duration": 19,
    "start_time": "2022-02-19T20:05:56.252Z"
   },
   {
    "duration": 18,
    "start_time": "2022-02-19T20:06:27.986Z"
   },
   {
    "duration": 6,
    "start_time": "2022-02-19T20:06:29.565Z"
   },
   {
    "duration": 15,
    "start_time": "2022-02-19T20:06:37.107Z"
   },
   {
    "duration": 51,
    "start_time": "2022-02-19T20:10:59.984Z"
   },
   {
    "duration": 84,
    "start_time": "2022-02-19T20:26:37.410Z"
   },
   {
    "duration": 283,
    "start_time": "2022-02-19T20:26:40.138Z"
   },
   {
    "duration": 24,
    "start_time": "2022-02-19T20:26:43.352Z"
   },
   {
    "duration": 23,
    "start_time": "2022-02-19T20:26:51.262Z"
   },
   {
    "duration": 23,
    "start_time": "2022-02-19T20:26:58.516Z"
   },
   {
    "duration": 17,
    "start_time": "2022-02-19T20:28:27.153Z"
   },
   {
    "duration": 8,
    "start_time": "2022-02-19T20:28:46.341Z"
   },
   {
    "duration": 249,
    "start_time": "2022-02-19T20:29:13.059Z"
   },
   {
    "duration": 249,
    "start_time": "2022-02-19T20:29:19.410Z"
   },
   {
    "duration": 34,
    "start_time": "2022-02-19T20:29:23.641Z"
   },
   {
    "duration": 6,
    "start_time": "2022-02-19T20:29:27.737Z"
   },
   {
    "duration": 7,
    "start_time": "2022-02-19T20:29:47.089Z"
   },
   {
    "duration": 6,
    "start_time": "2022-02-19T20:30:09.126Z"
   },
   {
    "duration": 8,
    "start_time": "2022-02-19T20:30:27.206Z"
   },
   {
    "duration": 9,
    "start_time": "2022-02-19T20:30:45.328Z"
   },
   {
    "duration": 7,
    "start_time": "2022-02-19T20:30:48.159Z"
   },
   {
    "duration": 7,
    "start_time": "2022-02-19T20:31:23.931Z"
   },
   {
    "duration": 8,
    "start_time": "2022-02-19T20:31:42.511Z"
   },
   {
    "duration": 7,
    "start_time": "2022-02-19T20:34:00.460Z"
   },
   {
    "duration": 77,
    "start_time": "2022-02-19T20:35:04.646Z"
   },
   {
    "duration": 8,
    "start_time": "2022-02-19T20:35:20.666Z"
   },
   {
    "duration": 6,
    "start_time": "2022-02-19T20:36:46.350Z"
   },
   {
    "duration": 7,
    "start_time": "2022-02-19T20:37:10.794Z"
   },
   {
    "duration": 79,
    "start_time": "2022-02-19T20:37:27.709Z"
   },
   {
    "duration": 6,
    "start_time": "2022-02-19T20:41:13.624Z"
   },
   {
    "duration": 264,
    "start_time": "2022-02-19T20:41:54.180Z"
   },
   {
    "duration": 261,
    "start_time": "2022-02-19T20:42:01.361Z"
   },
   {
    "duration": 235,
    "start_time": "2022-02-19T20:42:05.603Z"
   },
   {
    "duration": 242,
    "start_time": "2022-02-19T20:42:14.224Z"
   },
   {
    "duration": 14,
    "start_time": "2022-02-19T20:43:00.280Z"
   },
   {
    "duration": 45,
    "start_time": "2022-02-19T20:44:35.472Z"
   },
   {
    "duration": 7,
    "start_time": "2022-02-19T21:13:03.228Z"
   },
   {
    "duration": 7,
    "start_time": "2022-02-19T21:13:15.057Z"
   },
   {
    "duration": 35,
    "start_time": "2022-02-19T21:13:23.975Z"
   },
   {
    "duration": 10,
    "start_time": "2022-02-19T21:13:38.312Z"
   },
   {
    "duration": 9,
    "start_time": "2022-02-19T21:13:52.990Z"
   },
   {
    "duration": 34,
    "start_time": "2022-02-19T21:14:06.924Z"
   },
   {
    "duration": 8,
    "start_time": "2022-02-19T21:14:13.550Z"
   },
   {
    "duration": 8,
    "start_time": "2022-02-19T21:14:21.055Z"
   },
   {
    "duration": 9,
    "start_time": "2022-02-19T21:14:29.084Z"
   },
   {
    "duration": 115,
    "start_time": "2022-02-19T21:15:24.784Z"
   },
   {
    "duration": 103,
    "start_time": "2022-02-19T21:15:41.658Z"
   },
   {
    "duration": 8,
    "start_time": "2022-02-19T21:15:51.157Z"
   },
   {
    "duration": 39,
    "start_time": "2022-02-19T21:16:16.982Z"
   },
   {
    "duration": 62,
    "start_time": "2022-02-19T21:16:50.948Z"
   },
   {
    "duration": 22,
    "start_time": "2022-02-19T21:16:57.319Z"
   },
   {
    "duration": 20,
    "start_time": "2022-02-19T21:17:08.865Z"
   },
   {
    "duration": 378,
    "start_time": "2022-02-19T21:17:29.150Z"
   },
   {
    "duration": 20,
    "start_time": "2022-02-19T21:17:31.205Z"
   },
   {
    "duration": 8,
    "start_time": "2022-02-19T21:19:11.719Z"
   },
   {
    "duration": 10,
    "start_time": "2022-02-19T21:19:22.886Z"
   },
   {
    "duration": 24,
    "start_time": "2022-02-19T21:19:35.109Z"
   },
   {
    "duration": 6,
    "start_time": "2022-02-19T21:19:44.469Z"
   },
   {
    "duration": 5,
    "start_time": "2022-02-19T21:19:53.029Z"
   },
   {
    "duration": 6,
    "start_time": "2022-02-19T21:20:04.336Z"
   },
   {
    "duration": 102,
    "start_time": "2022-02-19T21:23:13.343Z"
   },
   {
    "duration": 37,
    "start_time": "2022-02-19T21:23:19.809Z"
   },
   {
    "duration": 17,
    "start_time": "2022-02-19T21:23:38.908Z"
   },
   {
    "duration": 263,
    "start_time": "2022-02-19T21:24:03.551Z"
   },
   {
    "duration": 13,
    "start_time": "2022-02-19T21:24:07.505Z"
   },
   {
    "duration": 10,
    "start_time": "2022-02-19T21:24:15.363Z"
   },
   {
    "duration": 38,
    "start_time": "2022-02-19T21:24:27.328Z"
   },
   {
    "duration": 11,
    "start_time": "2022-02-19T21:24:33.115Z"
   },
   {
    "duration": 9,
    "start_time": "2022-02-19T21:24:55.301Z"
   },
   {
    "duration": 8,
    "start_time": "2022-02-19T21:25:39.681Z"
   },
   {
    "duration": 8,
    "start_time": "2022-02-19T21:25:39.879Z"
   },
   {
    "duration": 274,
    "start_time": "2022-02-19T21:25:59.653Z"
   },
   {
    "duration": 272,
    "start_time": "2022-02-19T21:26:19.773Z"
   },
   {
    "duration": 11,
    "start_time": "2022-02-19T21:26:24.405Z"
   },
   {
    "duration": 10,
    "start_time": "2022-02-19T21:26:24.540Z"
   },
   {
    "duration": 12,
    "start_time": "2022-02-19T21:26:24.689Z"
   },
   {
    "duration": 15,
    "start_time": "2022-02-19T21:26:34.577Z"
   },
   {
    "duration": 259,
    "start_time": "2022-02-19T21:28:33.221Z"
   },
   {
    "duration": 11,
    "start_time": "2022-02-19T21:28:40.702Z"
   },
   {
    "duration": 13,
    "start_time": "2022-02-19T21:29:19.883Z"
   },
   {
    "duration": 8,
    "start_time": "2022-02-19T21:30:04.376Z"
   },
   {
    "duration": 10,
    "start_time": "2022-02-19T21:30:08.280Z"
   },
   {
    "duration": 29,
    "start_time": "2022-02-19T21:34:56.195Z"
   },
   {
    "duration": 11847,
    "start_time": "2022-02-19T21:35:04.165Z"
   },
   {
    "duration": 748,
    "start_time": "2022-02-19T21:35:28.860Z"
   },
   {
    "duration": 346,
    "start_time": "2022-02-19T21:36:00.961Z"
   },
   {
    "duration": 20,
    "start_time": "2022-02-19T21:36:17.038Z"
   },
   {
    "duration": 11,
    "start_time": "2022-02-19T21:36:26.633Z"
   },
   {
    "duration": 21,
    "start_time": "2022-02-19T21:36:29.015Z"
   },
   {
    "duration": 526,
    "start_time": "2022-02-19T21:36:42.585Z"
   },
   {
    "duration": 3,
    "start_time": "2022-02-19T21:37:01.277Z"
   },
   {
    "duration": 560,
    "start_time": "2022-02-19T21:37:18.060Z"
   },
   {
    "duration": 3,
    "start_time": "2022-02-19T21:37:44.434Z"
   },
   {
    "duration": 2349,
    "start_time": "2022-02-19T21:37:51.982Z"
   },
   {
    "duration": 2286,
    "start_time": "2022-02-19T21:38:03.429Z"
   },
   {
    "duration": 2397,
    "start_time": "2022-02-19T21:38:21.110Z"
   },
   {
    "duration": 206,
    "start_time": "2022-02-20T07:29:39.066Z"
   },
   {
    "duration": 3,
    "start_time": "2022-02-20T07:29:45.847Z"
   },
   {
    "duration": 616,
    "start_time": "2022-02-20T07:29:45.852Z"
   },
   {
    "duration": 45,
    "start_time": "2022-02-20T07:29:46.470Z"
   },
   {
    "duration": 19,
    "start_time": "2022-02-20T07:29:46.517Z"
   },
   {
    "duration": 4,
    "start_time": "2022-02-20T07:29:46.538Z"
   },
   {
    "duration": 12,
    "start_time": "2022-02-20T07:29:46.544Z"
   },
   {
    "duration": 31,
    "start_time": "2022-02-20T07:29:46.558Z"
   },
   {
    "duration": 49,
    "start_time": "2022-02-20T07:29:46.591Z"
   },
   {
    "duration": 7,
    "start_time": "2022-02-20T07:29:46.642Z"
   },
   {
    "duration": 8,
    "start_time": "2022-02-20T07:29:46.652Z"
   },
   {
    "duration": 9,
    "start_time": "2022-02-20T07:29:46.662Z"
   },
   {
    "duration": 234,
    "start_time": "2022-02-20T07:29:46.672Z"
   },
   {
    "duration": -896,
    "start_time": "2022-02-20T07:29:47.805Z"
   },
   {
    "duration": -900,
    "start_time": "2022-02-20T07:29:47.810Z"
   },
   {
    "duration": -902,
    "start_time": "2022-02-20T07:29:47.813Z"
   },
   {
    "duration": 7,
    "start_time": "2022-02-20T07:30:06.490Z"
   },
   {
    "duration": 7,
    "start_time": "2022-02-20T07:30:11.243Z"
   },
   {
    "duration": 13,
    "start_time": "2022-02-20T07:30:20.668Z"
   },
   {
    "duration": 185,
    "start_time": "2022-02-20T07:31:11.223Z"
   },
   {
    "duration": 53,
    "start_time": "2022-02-20T07:31:26.695Z"
   },
   {
    "duration": 78,
    "start_time": "2022-02-20T07:31:36.510Z"
   },
   {
    "duration": 7,
    "start_time": "2022-02-20T07:31:45.389Z"
   },
   {
    "duration": 7,
    "start_time": "2022-02-20T07:31:56.605Z"
   },
   {
    "duration": 56,
    "start_time": "2022-02-20T07:32:07.259Z"
   },
   {
    "duration": 59,
    "start_time": "2022-02-20T07:32:12.484Z"
   },
   {
    "duration": 175,
    "start_time": "2022-02-20T07:32:16.123Z"
   },
   {
    "duration": 62,
    "start_time": "2022-02-20T07:32:32.224Z"
   },
   {
    "duration": 186,
    "start_time": "2022-02-20T07:32:37.510Z"
   },
   {
    "duration": 59,
    "start_time": "2022-02-20T07:32:43.871Z"
   },
   {
    "duration": 66,
    "start_time": "2022-02-20T07:33:31.319Z"
   },
   {
    "duration": 67,
    "start_time": "2022-02-20T07:33:40.185Z"
   },
   {
    "duration": 186,
    "start_time": "2022-02-20T07:33:44.745Z"
   },
   {
    "duration": 169,
    "start_time": "2022-02-20T07:33:57.621Z"
   },
   {
    "duration": 209,
    "start_time": "2022-02-20T07:34:11.081Z"
   },
   {
    "duration": 177,
    "start_time": "2022-02-20T07:34:21.630Z"
   },
   {
    "duration": 193,
    "start_time": "2022-02-20T07:34:32.268Z"
   },
   {
    "duration": 7,
    "start_time": "2022-02-20T07:34:40.669Z"
   },
   {
    "duration": 7,
    "start_time": "2022-02-20T07:34:43.254Z"
   },
   {
    "duration": 7,
    "start_time": "2022-02-20T07:34:51.791Z"
   },
   {
    "duration": 26,
    "start_time": "2022-02-20T07:35:22.140Z"
   },
   {
    "duration": 165,
    "start_time": "2022-02-20T07:35:46.338Z"
   },
   {
    "duration": 7,
    "start_time": "2022-02-20T07:35:50.977Z"
   },
   {
    "duration": 8,
    "start_time": "2022-02-20T07:35:58.893Z"
   },
   {
    "duration": 8,
    "start_time": "2022-02-20T07:36:00.944Z"
   },
   {
    "duration": 4,
    "start_time": "2022-02-20T07:36:51.673Z"
   },
   {
    "duration": 4,
    "start_time": "2022-02-20T07:37:22.019Z"
   },
   {
    "duration": 3,
    "start_time": "2022-02-20T07:38:03.530Z"
   },
   {
    "duration": 3,
    "start_time": "2022-02-20T07:38:27.570Z"
   },
   {
    "duration": 4,
    "start_time": "2022-02-20T07:38:38.326Z"
   },
   {
    "duration": 8,
    "start_time": "2022-02-20T07:38:57.383Z"
   },
   {
    "duration": 10,
    "start_time": "2022-02-20T07:39:37.539Z"
   },
   {
    "duration": 6,
    "start_time": "2022-02-20T07:39:37.885Z"
   },
   {
    "duration": 6,
    "start_time": "2022-02-20T07:39:38.561Z"
   },
   {
    "duration": 8,
    "start_time": "2022-02-20T07:39:47.217Z"
   },
   {
    "duration": 7,
    "start_time": "2022-02-20T07:44:12.937Z"
   },
   {
    "duration": 4,
    "start_time": "2022-02-20T07:44:32.479Z"
   },
   {
    "duration": 8,
    "start_time": "2022-02-20T07:44:38.280Z"
   },
   {
    "duration": 9,
    "start_time": "2022-02-20T07:44:56.126Z"
   },
   {
    "duration": 192,
    "start_time": "2022-02-20T07:45:30.301Z"
   },
   {
    "duration": 7,
    "start_time": "2022-02-20T07:45:33.877Z"
   },
   {
    "duration": 8,
    "start_time": "2022-02-20T07:45:44.037Z"
   },
   {
    "duration": 3,
    "start_time": "2022-02-20T07:46:04.104Z"
   },
   {
    "duration": 2,
    "start_time": "2022-02-20T07:46:21.624Z"
   },
   {
    "duration": 65,
    "start_time": "2022-02-20T07:47:08.496Z"
   },
   {
    "duration": 11,
    "start_time": "2022-02-20T07:47:12.596Z"
   },
   {
    "duration": 10,
    "start_time": "2022-02-20T07:47:28.245Z"
   },
   {
    "duration": 6,
    "start_time": "2022-02-20T07:47:28.257Z"
   },
   {
    "duration": 4,
    "start_time": "2022-02-20T07:48:01.360Z"
   },
   {
    "duration": 21,
    "start_time": "2022-02-20T07:48:50.581Z"
   },
   {
    "duration": 7,
    "start_time": "2022-02-20T07:48:58.679Z"
   },
   {
    "duration": 7,
    "start_time": "2022-02-20T07:49:06.874Z"
   },
   {
    "duration": 3,
    "start_time": "2022-02-20T07:49:07.507Z"
   },
   {
    "duration": 10,
    "start_time": "2022-02-20T07:49:07.912Z"
   },
   {
    "duration": 3,
    "start_time": "2022-02-20T07:49:08.301Z"
   },
   {
    "duration": 20,
    "start_time": "2022-02-20T07:49:09.822Z"
   },
   {
    "duration": 8,
    "start_time": "2022-02-20T07:49:11.211Z"
   },
   {
    "duration": 8,
    "start_time": "2022-02-20T07:49:26.891Z"
   },
   {
    "duration": 22,
    "start_time": "2022-02-20T07:49:42.852Z"
   },
   {
    "duration": 7,
    "start_time": "2022-02-20T07:49:45.354Z"
   },
   {
    "duration": 8,
    "start_time": "2022-02-20T07:50:09.526Z"
   },
   {
    "duration": 7,
    "start_time": "2022-02-20T07:50:11.984Z"
   },
   {
    "duration": 20,
    "start_time": "2022-02-20T07:50:44.009Z"
   },
   {
    "duration": 7,
    "start_time": "2022-02-20T07:50:47.011Z"
   },
   {
    "duration": 4,
    "start_time": "2022-02-20T07:53:16.383Z"
   },
   {
    "duration": 7,
    "start_time": "2022-02-20T07:53:34.061Z"
   },
   {
    "duration": 7,
    "start_time": "2022-02-20T07:53:43.957Z"
   },
   {
    "duration": 7,
    "start_time": "2022-02-20T07:54:36.399Z"
   },
   {
    "duration": 5,
    "start_time": "2022-02-20T07:54:57.159Z"
   },
   {
    "duration": 3,
    "start_time": "2022-02-20T07:55:02.536Z"
   },
   {
    "duration": 5,
    "start_time": "2022-02-20T07:55:58.654Z"
   },
   {
    "duration": 6,
    "start_time": "2022-02-20T07:55:59.342Z"
   },
   {
    "duration": 8,
    "start_time": "2022-02-20T07:55:59.787Z"
   },
   {
    "duration": 4,
    "start_time": "2022-02-20T07:56:03.410Z"
   },
   {
    "duration": 15,
    "start_time": "2022-02-20T07:56:32.897Z"
   },
   {
    "duration": 8,
    "start_time": "2022-02-20T07:56:34.139Z"
   },
   {
    "duration": 61,
    "start_time": "2022-02-20T07:57:34.493Z"
   },
   {
    "duration": 4,
    "start_time": "2022-02-20T07:57:48.195Z"
   },
   {
    "duration": 2,
    "start_time": "2022-02-20T07:58:23.525Z"
   },
   {
    "duration": 2,
    "start_time": "2022-02-20T07:58:35.901Z"
   },
   {
    "duration": 4,
    "start_time": "2022-02-20T07:58:58.575Z"
   },
   {
    "duration": 2,
    "start_time": "2022-02-20T07:59:12.394Z"
   },
   {
    "duration": 4,
    "start_time": "2022-02-20T08:00:01.211Z"
   },
   {
    "duration": 659,
    "start_time": "2022-02-20T08:00:01.219Z"
   },
   {
    "duration": 45,
    "start_time": "2022-02-20T08:00:01.880Z"
   },
   {
    "duration": 13,
    "start_time": "2022-02-20T08:00:01.931Z"
   },
   {
    "duration": 3,
    "start_time": "2022-02-20T08:00:01.946Z"
   },
   {
    "duration": 21,
    "start_time": "2022-02-20T08:00:01.950Z"
   },
   {
    "duration": 36,
    "start_time": "2022-02-20T08:00:01.972Z"
   },
   {
    "duration": 27,
    "start_time": "2022-02-20T08:00:02.010Z"
   },
   {
    "duration": 6,
    "start_time": "2022-02-20T08:00:02.040Z"
   },
   {
    "duration": 9,
    "start_time": "2022-02-20T08:00:02.048Z"
   },
   {
    "duration": 9,
    "start_time": "2022-02-20T08:00:02.059Z"
   },
   {
    "duration": 17,
    "start_time": "2022-02-20T08:00:02.070Z"
   },
   {
    "duration": 7,
    "start_time": "2022-02-20T08:00:02.089Z"
   },
   {
    "duration": 33,
    "start_time": "2022-02-20T08:00:02.098Z"
   },
   {
    "duration": 7,
    "start_time": "2022-02-20T08:00:02.133Z"
   },
   {
    "duration": 9,
    "start_time": "2022-02-20T08:00:02.142Z"
   },
   {
    "duration": 13,
    "start_time": "2022-02-20T08:00:02.153Z"
   },
   {
    "duration": 11,
    "start_time": "2022-02-20T08:00:02.167Z"
   },
   {
    "duration": 14,
    "start_time": "2022-02-20T08:00:02.179Z"
   },
   {
    "duration": 16,
    "start_time": "2022-02-20T08:00:02.195Z"
   },
   {
    "duration": 24,
    "start_time": "2022-02-20T08:00:02.212Z"
   },
   {
    "duration": 9,
    "start_time": "2022-02-20T08:00:02.237Z"
   },
   {
    "duration": 15,
    "start_time": "2022-02-20T08:00:02.247Z"
   },
   {
    "duration": 6,
    "start_time": "2022-02-20T08:00:02.265Z"
   },
   {
    "duration": 26,
    "start_time": "2022-02-20T08:00:02.273Z"
   },
   {
    "duration": 6,
    "start_time": "2022-02-20T08:00:02.300Z"
   },
   {
    "duration": 23,
    "start_time": "2022-02-20T08:00:02.308Z"
   },
   {
    "duration": 6,
    "start_time": "2022-02-20T08:00:02.332Z"
   },
   {
    "duration": 19,
    "start_time": "2022-02-20T08:00:02.340Z"
   },
   {
    "duration": 17,
    "start_time": "2022-02-20T08:00:02.360Z"
   },
   {
    "duration": 23,
    "start_time": "2022-02-20T08:00:02.379Z"
   },
   {
    "duration": 7,
    "start_time": "2022-02-20T08:00:02.404Z"
   },
   {
    "duration": 21,
    "start_time": "2022-02-20T08:00:02.412Z"
   },
   {
    "duration": 8,
    "start_time": "2022-02-20T08:00:02.435Z"
   },
   {
    "duration": 9,
    "start_time": "2022-02-20T08:00:02.445Z"
   },
   {
    "duration": 10,
    "start_time": "2022-02-20T08:00:02.456Z"
   },
   {
    "duration": 8,
    "start_time": "2022-02-20T08:00:02.468Z"
   },
   {
    "duration": 8,
    "start_time": "2022-02-20T08:00:02.478Z"
   },
   {
    "duration": 6,
    "start_time": "2022-02-20T08:00:02.488Z"
   },
   {
    "duration": 6,
    "start_time": "2022-02-20T08:00:02.496Z"
   },
   {
    "duration": 10,
    "start_time": "2022-02-20T08:00:02.504Z"
   },
   {
    "duration": 20,
    "start_time": "2022-02-20T08:00:02.516Z"
   },
   {
    "duration": 762,
    "start_time": "2022-02-20T08:00:02.538Z"
   },
   {
    "duration": 15,
    "start_time": "2022-02-20T08:14:10.060Z"
   },
   {
    "duration": 17,
    "start_time": "2022-02-20T08:15:29.553Z"
   },
   {
    "duration": 19,
    "start_time": "2022-02-20T08:16:18.706Z"
   },
   {
    "duration": 20,
    "start_time": "2022-02-20T08:16:25.402Z"
   },
   {
    "duration": 19,
    "start_time": "2022-02-20T08:17:05.463Z"
   },
   {
    "duration": 17,
    "start_time": "2022-02-20T08:18:23.626Z"
   },
   {
    "duration": 16,
    "start_time": "2022-02-20T08:20:26.790Z"
   },
   {
    "duration": 17,
    "start_time": "2022-02-20T08:20:59.755Z"
   },
   {
    "duration": 17,
    "start_time": "2022-02-20T08:22:55.151Z"
   },
   {
    "duration": 18,
    "start_time": "2022-02-20T08:24:53.778Z"
   },
   {
    "duration": 5,
    "start_time": "2022-02-20T08:29:19.368Z"
   },
   {
    "duration": 16,
    "start_time": "2022-02-20T08:29:33.243Z"
   },
   {
    "duration": 13,
    "start_time": "2022-02-20T08:30:03.807Z"
   },
   {
    "duration": 7,
    "start_time": "2022-02-20T08:30:11.141Z"
   },
   {
    "duration": 5,
    "start_time": "2022-02-20T08:31:25.803Z"
   },
   {
    "duration": 7,
    "start_time": "2022-02-20T08:32:00.396Z"
   },
   {
    "duration": 7,
    "start_time": "2022-02-20T08:32:39.517Z"
   },
   {
    "duration": 5,
    "start_time": "2022-02-20T08:33:20.997Z"
   },
   {
    "duration": 5,
    "start_time": "2022-02-20T08:33:27.253Z"
   },
   {
    "duration": 4,
    "start_time": "2022-02-20T08:33:35.487Z"
   },
   {
    "duration": 21,
    "start_time": "2022-02-20T08:33:47.175Z"
   },
   {
    "duration": 14,
    "start_time": "2022-02-20T08:34:13.216Z"
   },
   {
    "duration": 3,
    "start_time": "2022-02-20T08:34:23.506Z"
   },
   {
    "duration": 5,
    "start_time": "2022-02-20T08:34:38.617Z"
   },
   {
    "duration": 3,
    "start_time": "2022-02-20T08:34:40.910Z"
   },
   {
    "duration": 4,
    "start_time": "2022-02-20T08:34:43.081Z"
   },
   {
    "duration": 14,
    "start_time": "2022-02-20T08:34:52.721Z"
   },
   {
    "duration": 10,
    "start_time": "2022-02-20T08:35:09.599Z"
   },
   {
    "duration": 24,
    "start_time": "2022-02-20T08:35:25.061Z"
   },
   {
    "duration": 7,
    "start_time": "2022-02-20T08:36:26.550Z"
   },
   {
    "duration": 15,
    "start_time": "2022-02-20T08:36:37.624Z"
   },
   {
    "duration": 23,
    "start_time": "2022-02-20T08:36:53.559Z"
   },
   {
    "duration": 16,
    "start_time": "2022-02-20T08:37:25.525Z"
   },
   {
    "duration": 9,
    "start_time": "2022-02-20T08:37:28.925Z"
   },
   {
    "duration": 4,
    "start_time": "2022-02-20T08:38:51.881Z"
   },
   {
    "duration": 5,
    "start_time": "2022-02-20T08:40:05.699Z"
   },
   {
    "duration": 15,
    "start_time": "2022-02-20T08:40:06.139Z"
   },
   {
    "duration": 19,
    "start_time": "2022-02-20T08:40:10.695Z"
   },
   {
    "duration": 5,
    "start_time": "2022-02-20T08:41:33.096Z"
   },
   {
    "duration": 5,
    "start_time": "2022-02-20T08:41:33.641Z"
   },
   {
    "duration": 16,
    "start_time": "2022-02-20T08:41:33.809Z"
   },
   {
    "duration": 65,
    "start_time": "2022-02-20T08:41:54.018Z"
   },
   {
    "duration": 59,
    "start_time": "2022-02-20T08:42:04.562Z"
   },
   {
    "duration": 57,
    "start_time": "2022-02-20T08:42:25.556Z"
   },
   {
    "duration": 17,
    "start_time": "2022-02-20T08:42:34.488Z"
   },
   {
    "duration": 6,
    "start_time": "2022-02-20T08:43:16.776Z"
   },
   {
    "duration": 15,
    "start_time": "2022-02-20T08:44:08.555Z"
   },
   {
    "duration": 10,
    "start_time": "2022-02-20T08:44:33.341Z"
   },
   {
    "duration": 6,
    "start_time": "2022-02-20T08:45:19.195Z"
   },
   {
    "duration": 4,
    "start_time": "2022-02-20T08:45:25.041Z"
   },
   {
    "duration": 9,
    "start_time": "2022-02-20T08:45:57.914Z"
   },
   {
    "duration": 9,
    "start_time": "2022-02-20T08:46:49.297Z"
   },
   {
    "duration": 6,
    "start_time": "2022-02-20T08:47:00.192Z"
   },
   {
    "duration": 16,
    "start_time": "2022-02-20T08:47:00.352Z"
   },
   {
    "duration": 6,
    "start_time": "2022-02-20T08:47:00.563Z"
   },
   {
    "duration": 9,
    "start_time": "2022-02-20T08:47:00.760Z"
   },
   {
    "duration": 5,
    "start_time": "2022-02-20T08:47:56.024Z"
   },
   {
    "duration": 5,
    "start_time": "2022-02-20T08:48:25.414Z"
   },
   {
    "duration": 8,
    "start_time": "2022-02-20T08:48:32.621Z"
   },
   {
    "duration": 1518,
    "start_time": "2022-02-20T08:49:54.189Z"
   },
   {
    "duration": 1206,
    "start_time": "2022-02-20T08:50:03.562Z"
   },
   {
    "duration": 8,
    "start_time": "2022-02-20T08:50:28.149Z"
   },
   {
    "duration": 6,
    "start_time": "2022-02-20T08:50:38.363Z"
   },
   {
    "duration": 12,
    "start_time": "2022-02-20T08:50:49.639Z"
   },
   {
    "duration": 5,
    "start_time": "2022-02-20T08:51:24.853Z"
   },
   {
    "duration": 5,
    "start_time": "2022-02-20T08:51:26.667Z"
   },
   {
    "duration": 16,
    "start_time": "2022-02-20T08:51:27.754Z"
   },
   {
    "duration": 174,
    "start_time": "2022-02-20T08:52:12.979Z"
   },
   {
    "duration": 4,
    "start_time": "2022-02-20T08:52:39.112Z"
   },
   {
    "duration": 653,
    "start_time": "2022-02-20T08:52:39.423Z"
   },
   {
    "duration": 46,
    "start_time": "2022-02-20T08:52:40.078Z"
   },
   {
    "duration": 14,
    "start_time": "2022-02-20T08:52:40.131Z"
   },
   {
    "duration": 9,
    "start_time": "2022-02-20T08:52:40.147Z"
   },
   {
    "duration": 16,
    "start_time": "2022-02-20T08:52:40.158Z"
   },
   {
    "duration": 34,
    "start_time": "2022-02-20T08:52:40.176Z"
   },
   {
    "duration": 32,
    "start_time": "2022-02-20T08:52:40.212Z"
   },
   {
    "duration": 7,
    "start_time": "2022-02-20T08:52:40.246Z"
   },
   {
    "duration": 10,
    "start_time": "2022-02-20T08:52:40.255Z"
   },
   {
    "duration": 10,
    "start_time": "2022-02-20T08:52:40.267Z"
   },
   {
    "duration": 22,
    "start_time": "2022-02-20T08:52:40.279Z"
   },
   {
    "duration": 8,
    "start_time": "2022-02-20T08:52:40.303Z"
   },
   {
    "duration": 5,
    "start_time": "2022-02-20T08:52:40.331Z"
   },
   {
    "duration": 10,
    "start_time": "2022-02-20T08:52:40.338Z"
   },
   {
    "duration": 5,
    "start_time": "2022-02-20T08:52:40.350Z"
   },
   {
    "duration": 12,
    "start_time": "2022-02-20T08:52:40.357Z"
   },
   {
    "duration": 8,
    "start_time": "2022-02-20T08:52:40.370Z"
   },
   {
    "duration": 8,
    "start_time": "2022-02-20T08:52:40.379Z"
   },
   {
    "duration": 7,
    "start_time": "2022-02-20T08:52:42.192Z"
   },
   {
    "duration": 8,
    "start_time": "2022-02-20T08:52:42.201Z"
   },
   {
    "duration": 3,
    "start_time": "2022-02-20T08:52:42.211Z"
   },
   {
    "duration": 13,
    "start_time": "2022-02-20T08:52:42.216Z"
   },
   {
    "duration": 4,
    "start_time": "2022-02-20T08:52:42.231Z"
   },
   {
    "duration": 23,
    "start_time": "2022-02-20T08:52:42.237Z"
   },
   {
    "duration": 7,
    "start_time": "2022-02-20T08:52:42.261Z"
   },
   {
    "duration": 11,
    "start_time": "2022-02-20T08:52:42.270Z"
   },
   {
    "duration": 9,
    "start_time": "2022-02-20T08:52:42.283Z"
   },
   {
    "duration": 10,
    "start_time": "2022-02-20T08:52:42.294Z"
   },
   {
    "duration": 28,
    "start_time": "2022-02-20T08:52:42.305Z"
   },
   {
    "duration": 19,
    "start_time": "2022-02-20T08:52:42.335Z"
   },
   {
    "duration": 7,
    "start_time": "2022-02-20T08:52:42.355Z"
   },
   {
    "duration": 5,
    "start_time": "2022-02-20T08:52:42.364Z"
   },
   {
    "duration": 3,
    "start_time": "2022-02-20T08:52:42.371Z"
   },
   {
    "duration": 5,
    "start_time": "2022-02-20T08:52:42.376Z"
   },
   {
    "duration": 8,
    "start_time": "2022-02-20T08:52:42.383Z"
   },
   {
    "duration": 5,
    "start_time": "2022-02-20T08:52:42.393Z"
   },
   {
    "duration": 6,
    "start_time": "2022-02-20T08:52:42.431Z"
   },
   {
    "duration": 7,
    "start_time": "2022-02-20T08:52:42.439Z"
   },
   {
    "duration": 7,
    "start_time": "2022-02-20T08:52:42.448Z"
   },
   {
    "duration": 6,
    "start_time": "2022-02-20T08:52:42.457Z"
   },
   {
    "duration": 12,
    "start_time": "2022-02-20T08:52:42.464Z"
   },
   {
    "duration": 17,
    "start_time": "2022-02-20T08:52:42.477Z"
   },
   {
    "duration": 53,
    "start_time": "2022-02-20T08:52:42.496Z"
   },
   {
    "duration": 5,
    "start_time": "2022-02-20T08:52:42.551Z"
   },
   {
    "duration": 6,
    "start_time": "2022-02-20T08:52:42.557Z"
   },
   {
    "duration": 16,
    "start_time": "2022-02-20T08:52:42.564Z"
   },
   {
    "duration": 4,
    "start_time": "2022-02-20T08:52:42.582Z"
   },
   {
    "duration": 45,
    "start_time": "2022-02-20T08:52:42.588Z"
   },
   {
    "duration": 6,
    "start_time": "2022-02-20T08:52:42.635Z"
   },
   {
    "duration": 6,
    "start_time": "2022-02-20T08:52:42.643Z"
   },
   {
    "duration": 16,
    "start_time": "2022-02-20T08:52:42.651Z"
   },
   {
    "duration": 5,
    "start_time": "2022-02-20T08:52:42.669Z"
   },
   {
    "duration": 11,
    "start_time": "2022-02-20T08:52:42.676Z"
   },
   {
    "duration": 50,
    "start_time": "2022-02-20T08:52:42.688Z"
   },
   {
    "duration": 84,
    "start_time": "2022-02-20T08:57:37.473Z"
   },
   {
    "duration": 327,
    "start_time": "2022-02-20T09:00:24.823Z"
   },
   {
    "duration": 21,
    "start_time": "2022-02-20T09:00:27.513Z"
   },
   {
    "duration": 5,
    "start_time": "2022-02-20T09:01:00.276Z"
   },
   {
    "duration": 7,
    "start_time": "2022-02-20T09:01:06.835Z"
   },
   {
    "duration": 7,
    "start_time": "2022-02-20T09:01:23.446Z"
   },
   {
    "duration": 21,
    "start_time": "2022-02-20T09:02:08.740Z"
   },
   {
    "duration": 6,
    "start_time": "2022-02-20T09:02:28.190Z"
   },
   {
    "duration": 5,
    "start_time": "2022-02-20T09:04:02.329Z"
   },
   {
    "duration": 6,
    "start_time": "2022-02-20T09:04:07.031Z"
   },
   {
    "duration": 64,
    "start_time": "2022-02-20T09:04:17.076Z"
   },
   {
    "duration": 22,
    "start_time": "2022-02-20T09:04:32.782Z"
   },
   {
    "duration": 6,
    "start_time": "2022-02-20T09:04:42.221Z"
   },
   {
    "duration": 23,
    "start_time": "2022-02-20T09:04:55.127Z"
   },
   {
    "duration": 5,
    "start_time": "2022-02-20T09:05:36.610Z"
   },
   {
    "duration": 27,
    "start_time": "2022-02-20T09:10:36.966Z"
   },
   {
    "duration": 28,
    "start_time": "2022-02-20T09:10:55.157Z"
   },
   {
    "duration": 28,
    "start_time": "2022-02-20T09:11:22.758Z"
   },
   {
    "duration": 4,
    "start_time": "2022-02-20T09:11:42.405Z"
   },
   {
    "duration": 4,
    "start_time": "2022-02-20T09:12:15.019Z"
   },
   {
    "duration": 59,
    "start_time": "2022-02-20T09:17:03.303Z"
   },
   {
    "duration": 63,
    "start_time": "2022-02-20T09:17:16.035Z"
   },
   {
    "duration": 51,
    "start_time": "2022-02-20T09:17:22.331Z"
   },
   {
    "duration": 53,
    "start_time": "2022-02-20T09:17:28.950Z"
   },
   {
    "duration": 227,
    "start_time": "2022-02-20T09:17:35.876Z"
   },
   {
    "duration": 10,
    "start_time": "2022-02-20T09:17:48.493Z"
   },
   {
    "duration": 11,
    "start_time": "2022-02-20T09:17:58.791Z"
   },
   {
    "duration": 30,
    "start_time": "2022-02-20T09:18:04.786Z"
   },
   {
    "duration": 60,
    "start_time": "2022-02-20T09:21:41.872Z"
   },
   {
    "duration": 15,
    "start_time": "2022-02-20T09:21:43.745Z"
   },
   {
    "duration": 172,
    "start_time": "2022-02-20T09:21:56.315Z"
   },
   {
    "duration": 16,
    "start_time": "2022-02-20T09:21:59.633Z"
   },
   {
    "duration": 4,
    "start_time": "2022-02-20T09:22:27.503Z"
   },
   {
    "duration": 207,
    "start_time": "2022-02-20T09:22:35.597Z"
   },
   {
    "duration": 21,
    "start_time": "2022-02-20T09:22:43.905Z"
   },
   {
    "duration": 28,
    "start_time": "2022-02-20T09:23:16.686Z"
   },
   {
    "duration": 27,
    "start_time": "2022-02-20T09:24:06.091Z"
   },
   {
    "duration": 26,
    "start_time": "2022-02-20T09:26:01.090Z"
   },
   {
    "duration": 262,
    "start_time": "2022-02-20T09:27:07.943Z"
   },
   {
    "duration": 267,
    "start_time": "2022-02-20T09:27:40.580Z"
   },
   {
    "duration": 7,
    "start_time": "2022-02-20T09:28:31.586Z"
   },
   {
    "duration": 9,
    "start_time": "2022-02-20T09:28:36.327Z"
   },
   {
    "duration": 320,
    "start_time": "2022-02-20T09:30:46.984Z"
   },
   {
    "duration": 283,
    "start_time": "2022-02-20T09:31:47.261Z"
   },
   {
    "duration": 4,
    "start_time": "2022-02-20T09:32:47.427Z"
   },
   {
    "duration": 164,
    "start_time": "2022-02-20T09:32:47.584Z"
   },
   {
    "duration": 9,
    "start_time": "2022-02-20T09:32:57.073Z"
   },
   {
    "duration": 316,
    "start_time": "2022-02-20T09:33:40.798Z"
   },
   {
    "duration": 4,
    "start_time": "2022-02-20T09:36:04.950Z"
   },
   {
    "duration": 6,
    "start_time": "2022-02-20T09:36:33.098Z"
   },
   {
    "duration": 6,
    "start_time": "2022-02-20T09:36:40.268Z"
   },
   {
    "duration": 9,
    "start_time": "2022-02-20T09:37:35.150Z"
   },
   {
    "duration": 5,
    "start_time": "2022-02-20T09:38:48.082Z"
   },
   {
    "duration": 7,
    "start_time": "2022-02-20T09:39:53.317Z"
   },
   {
    "duration": 8,
    "start_time": "2022-02-20T09:40:03.451Z"
   },
   {
    "duration": 6,
    "start_time": "2022-02-20T09:40:11.137Z"
   },
   {
    "duration": 4,
    "start_time": "2022-02-20T09:40:53.965Z"
   },
   {
    "duration": 27,
    "start_time": "2022-02-20T09:40:54.472Z"
   },
   {
    "duration": 7,
    "start_time": "2022-02-20T09:40:56.554Z"
   },
   {
    "duration": 4,
    "start_time": "2022-02-20T09:40:56.765Z"
   },
   {
    "duration": 319,
    "start_time": "2022-02-20T09:40:56.997Z"
   },
   {
    "duration": 10,
    "start_time": "2022-02-20T09:40:57.802Z"
   },
   {
    "duration": 7,
    "start_time": "2022-02-20T09:41:54.039Z"
   },
   {
    "duration": 4,
    "start_time": "2022-02-20T09:41:54.222Z"
   },
   {
    "duration": 287,
    "start_time": "2022-02-20T09:41:54.362Z"
   },
   {
    "duration": 8,
    "start_time": "2022-02-20T09:42:16.053Z"
   },
   {
    "duration": 9,
    "start_time": "2022-02-20T09:42:41.754Z"
   },
   {
    "duration": 8,
    "start_time": "2022-02-20T09:42:47.844Z"
   },
   {
    "duration": 6,
    "start_time": "2022-02-20T09:42:48.008Z"
   },
   {
    "duration": 410,
    "start_time": "2022-02-20T09:42:48.154Z"
   },
   {
    "duration": 9,
    "start_time": "2022-02-20T09:42:53.149Z"
   },
   {
    "duration": 421,
    "start_time": "2022-02-20T09:43:15.806Z"
   },
   {
    "duration": 294,
    "start_time": "2022-02-20T09:43:25.957Z"
   },
   {
    "duration": 409,
    "start_time": "2022-02-20T09:45:06.306Z"
   },
   {
    "duration": 305,
    "start_time": "2022-02-20T09:45:27.656Z"
   },
   {
    "duration": 414,
    "start_time": "2022-02-20T09:46:00.334Z"
   },
   {
    "duration": 3,
    "start_time": "2022-02-20T09:52:08.816Z"
   },
   {
    "duration": 4,
    "start_time": "2022-02-20T09:52:23.131Z"
   },
   {
    "duration": 4,
    "start_time": "2022-02-20T09:54:19.733Z"
   },
   {
    "duration": 446,
    "start_time": "2022-02-20T09:54:25.409Z"
   },
   {
    "duration": 409,
    "start_time": "2022-02-20T09:54:40.749Z"
   },
   {
    "duration": 208,
    "start_time": "2022-02-20T09:55:13.968Z"
   },
   {
    "duration": 203,
    "start_time": "2022-02-20T09:55:26.044Z"
   },
   {
    "duration": 5,
    "start_time": "2022-02-20T09:55:32.538Z"
   },
   {
    "duration": 322,
    "start_time": "2022-02-20T09:55:36.298Z"
   },
   {
    "duration": 205,
    "start_time": "2022-02-20T10:01:28.435Z"
   },
   {
    "duration": 166,
    "start_time": "2022-02-20T10:01:39.323Z"
   },
   {
    "duration": 17,
    "start_time": "2022-02-20T10:01:46.285Z"
   },
   {
    "duration": 15,
    "start_time": "2022-02-20T10:01:51.354Z"
   },
   {
    "duration": 31,
    "start_time": "2022-02-20T10:02:03.583Z"
   },
   {
    "duration": 19,
    "start_time": "2022-02-20T10:02:34.223Z"
   },
   {
    "duration": 19,
    "start_time": "2022-02-20T10:02:36.014Z"
   },
   {
    "duration": 17,
    "start_time": "2022-02-20T10:02:36.153Z"
   },
   {
    "duration": 68,
    "start_time": "2022-02-20T10:03:17.573Z"
   },
   {
    "duration": 4,
    "start_time": "2022-02-20T10:03:53.621Z"
   },
   {
    "duration": 9,
    "start_time": "2022-02-20T10:04:10.198Z"
   },
   {
    "duration": 14,
    "start_time": "2022-02-20T10:05:06.003Z"
   },
   {
    "duration": 9,
    "start_time": "2022-02-20T10:05:11.949Z"
   },
   {
    "duration": 229,
    "start_time": "2022-02-20T10:05:18.022Z"
   },
   {
    "duration": 188,
    "start_time": "2022-02-20T10:05:28.854Z"
   },
   {
    "duration": 5,
    "start_time": "2022-02-20T10:05:38.667Z"
   },
   {
    "duration": 613,
    "start_time": "2022-02-20T10:05:38.675Z"
   },
   {
    "duration": 49,
    "start_time": "2022-02-20T10:05:39.290Z"
   },
   {
    "duration": 16,
    "start_time": "2022-02-20T10:05:39.342Z"
   },
   {
    "duration": 3,
    "start_time": "2022-02-20T10:05:39.360Z"
   },
   {
    "duration": 13,
    "start_time": "2022-02-20T10:05:39.365Z"
   },
   {
    "duration": 55,
    "start_time": "2022-02-20T10:05:39.379Z"
   },
   {
    "duration": 17,
    "start_time": "2022-02-20T10:05:39.435Z"
   },
   {
    "duration": 7,
    "start_time": "2022-02-20T10:05:39.454Z"
   },
   {
    "duration": 8,
    "start_time": "2022-02-20T10:05:39.465Z"
   },
   {
    "duration": 9,
    "start_time": "2022-02-20T10:05:39.475Z"
   },
   {
    "duration": 12,
    "start_time": "2022-02-20T10:05:39.485Z"
   },
   {
    "duration": 33,
    "start_time": "2022-02-20T10:05:39.499Z"
   },
   {
    "duration": 5,
    "start_time": "2022-02-20T10:05:39.534Z"
   },
   {
    "duration": 8,
    "start_time": "2022-02-20T10:05:39.540Z"
   },
   {
    "duration": 3,
    "start_time": "2022-02-20T10:05:39.549Z"
   },
   {
    "duration": 14,
    "start_time": "2022-02-20T10:05:39.553Z"
   },
   {
    "duration": 8,
    "start_time": "2022-02-20T10:05:39.569Z"
   },
   {
    "duration": 11,
    "start_time": "2022-02-20T10:05:39.579Z"
   },
   {
    "duration": 8,
    "start_time": "2022-02-20T10:05:39.591Z"
   },
   {
    "duration": 7,
    "start_time": "2022-02-20T10:05:39.631Z"
   },
   {
    "duration": 8,
    "start_time": "2022-02-20T10:05:39.639Z"
   },
   {
    "duration": 12,
    "start_time": "2022-02-20T10:05:39.648Z"
   },
   {
    "duration": 8,
    "start_time": "2022-02-20T10:05:39.661Z"
   },
   {
    "duration": 25,
    "start_time": "2022-02-20T10:05:39.671Z"
   },
   {
    "duration": 6,
    "start_time": "2022-02-20T10:05:39.698Z"
   },
   {
    "duration": 28,
    "start_time": "2022-02-20T10:05:39.706Z"
   },
   {
    "duration": 5,
    "start_time": "2022-02-20T10:05:39.739Z"
   },
   {
    "duration": 8,
    "start_time": "2022-02-20T10:05:39.747Z"
   },
   {
    "duration": 7,
    "start_time": "2022-02-20T10:05:39.756Z"
   },
   {
    "duration": 21,
    "start_time": "2022-02-20T10:05:39.765Z"
   },
   {
    "duration": 6,
    "start_time": "2022-02-20T10:05:39.788Z"
   },
   {
    "duration": 4,
    "start_time": "2022-02-20T10:05:39.796Z"
   },
   {
    "duration": 3,
    "start_time": "2022-02-20T10:05:39.830Z"
   },
   {
    "duration": 9,
    "start_time": "2022-02-20T10:05:39.835Z"
   },
   {
    "duration": 6,
    "start_time": "2022-02-20T10:05:39.846Z"
   },
   {
    "duration": 5,
    "start_time": "2022-02-20T10:05:39.854Z"
   },
   {
    "duration": 6,
    "start_time": "2022-02-20T10:05:39.861Z"
   },
   {
    "duration": 4,
    "start_time": "2022-02-20T10:05:39.868Z"
   },
   {
    "duration": 10,
    "start_time": "2022-02-20T10:05:39.874Z"
   },
   {
    "duration": 6,
    "start_time": "2022-02-20T10:05:39.886Z"
   },
   {
    "duration": 42,
    "start_time": "2022-02-20T10:05:39.894Z"
   },
   {
    "duration": 21,
    "start_time": "2022-02-20T10:05:39.938Z"
   },
   {
    "duration": 20,
    "start_time": "2022-02-20T10:05:39.960Z"
   },
   {
    "duration": 5,
    "start_time": "2022-02-20T10:05:39.982Z"
   },
   {
    "duration": 3,
    "start_time": "2022-02-20T10:05:39.989Z"
   },
   {
    "duration": 37,
    "start_time": "2022-02-20T10:05:39.993Z"
   },
   {
    "duration": 18,
    "start_time": "2022-02-20T10:05:40.033Z"
   },
   {
    "duration": 5,
    "start_time": "2022-02-20T10:05:40.053Z"
   },
   {
    "duration": 13,
    "start_time": "2022-02-20T10:05:40.059Z"
   },
   {
    "duration": 5,
    "start_time": "2022-02-20T10:05:40.075Z"
   },
   {
    "duration": 6,
    "start_time": "2022-02-20T10:05:40.081Z"
   },
   {
    "duration": 49,
    "start_time": "2022-02-20T10:05:40.088Z"
   },
   {
    "duration": 5,
    "start_time": "2022-02-20T10:05:40.139Z"
   },
   {
    "duration": 13,
    "start_time": "2022-02-20T10:05:40.145Z"
   },
   {
    "duration": 13,
    "start_time": "2022-02-20T10:05:40.159Z"
   },
   {
    "duration": 7,
    "start_time": "2022-02-20T10:05:40.174Z"
   },
   {
    "duration": 6,
    "start_time": "2022-02-20T10:05:40.182Z"
   },
   {
    "duration": 57,
    "start_time": "2022-02-20T10:05:40.189Z"
   },
   {
    "duration": 25,
    "start_time": "2022-02-20T10:05:40.248Z"
   },
   {
    "duration": 3,
    "start_time": "2022-02-20T10:05:40.274Z"
   },
   {
    "duration": 9,
    "start_time": "2022-02-20T10:05:40.279Z"
   },
   {
    "duration": 5,
    "start_time": "2022-02-20T10:05:40.289Z"
   },
   {
    "duration": 37,
    "start_time": "2022-02-20T10:05:40.296Z"
   },
   {
    "duration": 4,
    "start_time": "2022-02-20T10:05:40.335Z"
   },
   {
    "duration": 9,
    "start_time": "2022-02-20T10:05:40.341Z"
   },
   {
    "duration": 5,
    "start_time": "2022-02-20T10:05:40.351Z"
   },
   {
    "duration": 7,
    "start_time": "2022-02-20T10:05:40.357Z"
   },
   {
    "duration": 27,
    "start_time": "2022-02-20T10:05:40.365Z"
   },
   {
    "duration": 7,
    "start_time": "2022-02-20T10:05:40.394Z"
   },
   {
    "duration": 31,
    "start_time": "2022-02-20T10:05:40.402Z"
   },
   {
    "duration": 6,
    "start_time": "2022-02-20T10:05:40.435Z"
   },
   {
    "duration": 452,
    "start_time": "2022-02-20T10:05:40.443Z"
   },
   {
    "duration": 6,
    "start_time": "2022-02-20T10:05:40.897Z"
   },
   {
    "duration": 6,
    "start_time": "2022-02-20T10:05:40.904Z"
   },
   {
    "duration": 20,
    "start_time": "2022-02-20T10:05:40.912Z"
   },
   {
    "duration": 340,
    "start_time": "2022-02-20T10:05:40.934Z"
   },
   {
    "duration": 16,
    "start_time": "2022-02-20T10:05:41.276Z"
   },
   {
    "duration": 16,
    "start_time": "2022-02-20T10:05:41.293Z"
   },
   {
    "duration": 32,
    "start_time": "2022-02-20T10:05:41.310Z"
   },
   {
    "duration": 7,
    "start_time": "2022-02-20T10:05:41.343Z"
   },
   {
    "duration": 11,
    "start_time": "2022-02-20T10:05:41.355Z"
   },
   {
    "duration": 8,
    "start_time": "2022-02-20T10:05:41.368Z"
   },
   {
    "duration": 11,
    "start_time": "2022-02-20T10:05:41.377Z"
   },
   {
    "duration": 10,
    "start_time": "2022-02-20T10:05:41.389Z"
   },
   {
    "duration": 10,
    "start_time": "2022-02-20T10:11:45.114Z"
   },
   {
    "duration": 175,
    "start_time": "2022-02-20T10:12:32.790Z"
   },
   {
    "duration": 5,
    "start_time": "2022-02-20T10:13:02.606Z"
   },
   {
    "duration": 4,
    "start_time": "2022-02-20T10:14:45.470Z"
   },
   {
    "duration": 5,
    "start_time": "2022-02-20T10:14:48.490Z"
   },
   {
    "duration": 176,
    "start_time": "2022-02-20T10:15:33.677Z"
   },
   {
    "duration": 4,
    "start_time": "2022-02-20T10:15:42.584Z"
   },
   {
    "duration": 19,
    "start_time": "2022-02-20T10:17:02.325Z"
   },
   {
    "duration": 1249,
    "start_time": "2022-02-20T10:18:49.596Z"
   },
   {
    "duration": 5,
    "start_time": "2022-02-20T10:19:06.350Z"
   },
   {
    "duration": 6,
    "start_time": "2022-02-20T10:19:25.691Z"
   },
   {
    "duration": 9,
    "start_time": "2022-02-20T10:23:36.355Z"
   },
   {
    "duration": 4,
    "start_time": "2022-02-20T10:27:42.528Z"
   },
   {
    "duration": 683,
    "start_time": "2022-02-20T10:30:02.546Z"
   },
   {
    "duration": 5,
    "start_time": "2022-02-20T10:30:15.684Z"
   },
   {
    "duration": 26,
    "start_time": "2022-02-20T10:30:20.976Z"
   },
   {
    "duration": 4,
    "start_time": "2022-02-20T10:32:23.471Z"
   },
   {
    "duration": 4,
    "start_time": "2022-02-20T10:32:24.427Z"
   },
   {
    "duration": 9,
    "start_time": "2022-02-20T10:32:24.612Z"
   },
   {
    "duration": 4,
    "start_time": "2022-02-20T11:33:14.442Z"
   },
   {
    "duration": 5,
    "start_time": "2022-02-20T11:33:21.305Z"
   },
   {
    "duration": 4,
    "start_time": "2022-02-20T11:33:25.895Z"
   },
   {
    "duration": 4,
    "start_time": "2022-02-20T11:34:35.422Z"
   },
   {
    "duration": 3,
    "start_time": "2022-02-20T11:35:33.102Z"
   },
   {
    "duration": 498,
    "start_time": "2022-02-20T11:36:08.755Z"
   },
   {
    "duration": 4,
    "start_time": "2022-02-20T11:36:22.831Z"
   },
   {
    "duration": 4,
    "start_time": "2022-02-20T11:36:22.975Z"
   },
   {
    "duration": 2,
    "start_time": "2022-02-20T11:36:23.222Z"
   },
   {
    "duration": 2,
    "start_time": "2022-02-20T11:36:35.329Z"
   },
   {
    "duration": 171,
    "start_time": "2022-02-20T11:39:19.337Z"
   },
   {
    "duration": 164,
    "start_time": "2022-02-20T11:39:24.845Z"
   },
   {
    "duration": 168,
    "start_time": "2022-02-20T11:39:39.674Z"
   },
   {
    "duration": 4,
    "start_time": "2022-02-20T11:39:49.360Z"
   },
   {
    "duration": 471,
    "start_time": "2022-02-20T11:39:50.019Z"
   },
   {
    "duration": 85,
    "start_time": "2022-02-20T11:40:16.881Z"
   },
   {
    "duration": 83,
    "start_time": "2022-02-20T11:40:55.066Z"
   },
   {
    "duration": 2,
    "start_time": "2022-02-20T11:41:06.901Z"
   },
   {
    "duration": 3,
    "start_time": "2022-02-20T11:41:09.519Z"
   },
   {
    "duration": 333,
    "start_time": "2022-02-20T11:41:09.681Z"
   },
   {
    "duration": 367,
    "start_time": "2022-02-20T11:43:47.271Z"
   },
   {
    "duration": 3,
    "start_time": "2022-02-20T11:44:31.398Z"
   },
   {
    "duration": 5,
    "start_time": "2022-02-20T11:44:31.871Z"
   },
   {
    "duration": 4,
    "start_time": "2022-02-20T11:46:15.860Z"
   },
   {
    "duration": 3,
    "start_time": "2022-02-20T11:46:16.020Z"
   },
   {
    "duration": 5,
    "start_time": "2022-02-20T11:46:16.214Z"
   },
   {
    "duration": 204,
    "start_time": "2022-02-20T11:46:16.914Z"
   },
   {
    "duration": 4,
    "start_time": "2022-02-20T11:47:09.070Z"
   },
   {
    "duration": 4,
    "start_time": "2022-02-20T11:47:09.640Z"
   },
   {
    "duration": 4,
    "start_time": "2022-02-20T11:47:26.420Z"
   },
   {
    "duration": 4,
    "start_time": "2022-02-20T11:47:26.828Z"
   },
   {
    "duration": 22,
    "start_time": "2022-02-20T11:47:40.521Z"
   },
   {
    "duration": 5,
    "start_time": "2022-02-20T11:47:50.189Z"
   },
   {
    "duration": 5,
    "start_time": "2022-02-20T11:49:36.959Z"
   },
   {
    "duration": 25,
    "start_time": "2022-02-20T11:49:41.403Z"
   },
   {
    "duration": 5,
    "start_time": "2022-02-20T11:49:52.498Z"
   },
   {
    "duration": 5,
    "start_time": "2022-02-20T11:50:10.327Z"
   },
   {
    "duration": 178,
    "start_time": "2022-02-20T11:50:25.130Z"
   },
   {
    "duration": 6,
    "start_time": "2022-02-20T11:50:27.617Z"
   },
   {
    "duration": 4,
    "start_time": "2022-02-20T11:51:02.929Z"
   },
   {
    "duration": 4,
    "start_time": "2022-02-20T11:51:08.294Z"
   },
   {
    "duration": 60,
    "start_time": "2022-02-20T11:55:25.302Z"
   },
   {
    "duration": 67,
    "start_time": "2022-02-20T11:55:34.509Z"
   },
   {
    "duration": 59,
    "start_time": "2022-02-20T11:55:39.259Z"
   },
   {
    "duration": 4,
    "start_time": "2022-02-20T11:55:45.056Z"
   },
   {
    "duration": 4,
    "start_time": "2022-02-20T11:55:53.555Z"
   },
   {
    "duration": 4,
    "start_time": "2022-02-20T11:56:03.292Z"
   },
   {
    "duration": 4,
    "start_time": "2022-02-20T12:07:53.658Z"
   },
   {
    "duration": 4,
    "start_time": "2022-02-20T12:08:10.252Z"
   },
   {
    "duration": 3,
    "start_time": "2022-02-20T12:15:06.490Z"
   },
   {
    "duration": 3,
    "start_time": "2022-02-20T12:15:07.210Z"
   },
   {
    "duration": 648,
    "start_time": "2022-02-20T12:15:08.612Z"
   },
   {
    "duration": 3,
    "start_time": "2022-02-20T12:15:43.401Z"
   },
   {
    "duration": 3,
    "start_time": "2022-02-20T12:15:43.650Z"
   },
   {
    "duration": 580,
    "start_time": "2022-02-20T12:15:43.983Z"
   },
   {
    "duration": 4,
    "start_time": "2022-02-20T12:15:54.067Z"
   },
   {
    "duration": 3,
    "start_time": "2022-02-20T12:16:08.336Z"
   },
   {
    "duration": 407,
    "start_time": "2022-02-20T12:16:08.792Z"
   },
   {
    "duration": 3,
    "start_time": "2022-02-20T12:16:58.273Z"
   },
   {
    "duration": 4,
    "start_time": "2022-02-20T12:16:58.464Z"
   },
   {
    "duration": 24,
    "start_time": "2022-02-20T12:16:59.092Z"
   },
   {
    "duration": 9,
    "start_time": "2022-02-20T12:16:59.117Z"
   },
   {
    "duration": 4,
    "start_time": "2022-02-20T12:17:00.334Z"
   },
   {
    "duration": 3,
    "start_time": "2022-02-20T12:17:00.800Z"
   },
   {
    "duration": 4,
    "start_time": "2022-02-20T12:17:01.357Z"
   },
   {
    "duration": 629,
    "start_time": "2022-02-20T12:17:02.150Z"
   },
   {
    "duration": 3,
    "start_time": "2022-02-20T12:17:35.165Z"
   },
   {
    "duration": 4,
    "start_time": "2022-02-20T12:17:35.848Z"
   },
   {
    "duration": 4,
    "start_time": "2022-02-20T12:17:36.007Z"
   },
   {
    "duration": 4,
    "start_time": "2022-02-20T12:17:36.172Z"
   },
   {
    "duration": 21,
    "start_time": "2022-02-20T12:18:30.685Z"
   },
   {
    "duration": 7,
    "start_time": "2022-02-20T12:18:36.536Z"
   },
   {
    "duration": 5,
    "start_time": "2022-02-20T12:19:31.469Z"
   },
   {
    "duration": 169,
    "start_time": "2022-02-20T12:21:16.689Z"
   },
   {
    "duration": 258,
    "start_time": "2022-02-20T12:21:28.233Z"
   },
   {
    "duration": 4,
    "start_time": "2022-02-20T12:21:32.301Z"
   },
   {
    "duration": 12,
    "start_time": "2022-02-20T12:21:52.654Z"
   },
   {
    "duration": 3,
    "start_time": "2022-02-20T12:22:50.828Z"
   },
   {
    "duration": 10,
    "start_time": "2022-02-20T12:22:56.147Z"
   },
   {
    "duration": 168,
    "start_time": "2022-02-20T12:23:50.006Z"
   },
   {
    "duration": 191,
    "start_time": "2022-02-20T12:23:54.003Z"
   },
   {
    "duration": 6,
    "start_time": "2022-02-20T12:25:07.984Z"
   },
   {
    "duration": 12,
    "start_time": "2022-02-20T12:25:12.288Z"
   },
   {
    "duration": 12,
    "start_time": "2022-02-20T12:26:55.098Z"
   },
   {
    "duration": 13,
    "start_time": "2022-02-20T12:27:23.725Z"
   },
   {
    "duration": 6,
    "start_time": "2022-02-20T12:29:49.566Z"
   },
   {
    "duration": 14,
    "start_time": "2022-02-20T12:29:50.514Z"
   },
   {
    "duration": 31,
    "start_time": "2022-02-20T12:31:40.836Z"
   },
   {
    "duration": 273,
    "start_time": "2022-02-20T12:31:59.578Z"
   },
   {
    "duration": 15,
    "start_time": "2022-02-20T12:32:12.346Z"
   },
   {
    "duration": 13,
    "start_time": "2022-02-20T12:32:32.729Z"
   },
   {
    "duration": 11,
    "start_time": "2022-02-20T12:34:23.622Z"
   },
   {
    "duration": 180,
    "start_time": "2022-02-20T12:35:30.959Z"
   },
   {
    "duration": 13,
    "start_time": "2022-02-20T12:35:50.438Z"
   },
   {
    "duration": 168,
    "start_time": "2022-02-20T12:35:59.485Z"
   },
   {
    "duration": 169,
    "start_time": "2022-02-20T12:36:09.331Z"
   },
   {
    "duration": 174,
    "start_time": "2022-02-20T12:36:18.650Z"
   },
   {
    "duration": 169,
    "start_time": "2022-02-20T12:39:04.076Z"
   },
   {
    "duration": 17,
    "start_time": "2022-02-20T12:39:10.406Z"
   },
   {
    "duration": 4,
    "start_time": "2022-02-20T12:39:27.489Z"
   },
   {
    "duration": 636,
    "start_time": "2022-02-20T12:39:27.494Z"
   },
   {
    "duration": 45,
    "start_time": "2022-02-20T12:39:28.132Z"
   },
   {
    "duration": 14,
    "start_time": "2022-02-20T12:39:28.179Z"
   },
   {
    "duration": 5,
    "start_time": "2022-02-20T12:39:28.194Z"
   },
   {
    "duration": 35,
    "start_time": "2022-02-20T12:39:28.200Z"
   },
   {
    "duration": 34,
    "start_time": "2022-02-20T12:39:28.238Z"
   },
   {
    "duration": 16,
    "start_time": "2022-02-20T12:39:28.274Z"
   },
   {
    "duration": 7,
    "start_time": "2022-02-20T12:39:28.292Z"
   },
   {
    "duration": 33,
    "start_time": "2022-02-20T12:39:28.301Z"
   },
   {
    "duration": 10,
    "start_time": "2022-02-20T12:39:28.336Z"
   },
   {
    "duration": 14,
    "start_time": "2022-02-20T12:39:28.348Z"
   },
   {
    "duration": 9,
    "start_time": "2022-02-20T12:39:28.363Z"
   },
   {
    "duration": 9,
    "start_time": "2022-02-20T12:39:28.374Z"
   },
   {
    "duration": 10,
    "start_time": "2022-02-20T12:39:28.384Z"
   },
   {
    "duration": 5,
    "start_time": "2022-02-20T12:39:28.396Z"
   },
   {
    "duration": 30,
    "start_time": "2022-02-20T12:39:28.403Z"
   },
   {
    "duration": 10,
    "start_time": "2022-02-20T12:39:28.434Z"
   },
   {
    "duration": 9,
    "start_time": "2022-02-20T12:39:28.447Z"
   },
   {
    "duration": 7,
    "start_time": "2022-02-20T12:39:28.458Z"
   },
   {
    "duration": 12,
    "start_time": "2022-02-20T12:39:28.466Z"
   },
   {
    "duration": 3,
    "start_time": "2022-02-20T12:39:28.480Z"
   },
   {
    "duration": 11,
    "start_time": "2022-02-20T12:39:28.484Z"
   },
   {
    "duration": 34,
    "start_time": "2022-02-20T12:39:28.496Z"
   },
   {
    "duration": 25,
    "start_time": "2022-02-20T12:39:28.532Z"
   },
   {
    "duration": 7,
    "start_time": "2022-02-20T12:39:28.559Z"
   },
   {
    "duration": 16,
    "start_time": "2022-02-20T12:39:28.568Z"
   },
   {
    "duration": 6,
    "start_time": "2022-02-20T12:39:28.586Z"
   },
   {
    "duration": 11,
    "start_time": "2022-02-20T12:39:28.593Z"
   },
   {
    "duration": 26,
    "start_time": "2022-02-20T12:39:28.606Z"
   },
   {
    "duration": 23,
    "start_time": "2022-02-20T12:39:28.633Z"
   },
   {
    "duration": 6,
    "start_time": "2022-02-20T12:39:28.658Z"
   },
   {
    "duration": 4,
    "start_time": "2022-02-20T12:39:28.665Z"
   },
   {
    "duration": 4,
    "start_time": "2022-02-20T12:39:28.670Z"
   },
   {
    "duration": 4,
    "start_time": "2022-02-20T12:39:28.676Z"
   },
   {
    "duration": 6,
    "start_time": "2022-02-20T12:39:28.681Z"
   },
   {
    "duration": 41,
    "start_time": "2022-02-20T12:39:28.689Z"
   },
   {
    "duration": 8,
    "start_time": "2022-02-20T12:39:28.732Z"
   },
   {
    "duration": 7,
    "start_time": "2022-02-20T12:39:28.742Z"
   },
   {
    "duration": 7,
    "start_time": "2022-02-20T12:39:28.751Z"
   },
   {
    "duration": 7,
    "start_time": "2022-02-20T12:39:28.760Z"
   },
   {
    "duration": 14,
    "start_time": "2022-02-20T12:39:28.769Z"
   },
   {
    "duration": 46,
    "start_time": "2022-02-20T12:39:28.785Z"
   },
   {
    "duration": 18,
    "start_time": "2022-02-20T12:39:28.833Z"
   },
   {
    "duration": 4,
    "start_time": "2022-02-20T12:39:28.852Z"
   },
   {
    "duration": 8,
    "start_time": "2022-02-20T12:39:28.858Z"
   },
   {
    "duration": 7,
    "start_time": "2022-02-20T12:39:28.867Z"
   },
   {
    "duration": 15,
    "start_time": "2022-02-20T12:39:28.876Z"
   },
   {
    "duration": 4,
    "start_time": "2022-02-20T12:39:28.893Z"
   },
   {
    "duration": 41,
    "start_time": "2022-02-20T12:39:28.898Z"
   },
   {
    "duration": 5,
    "start_time": "2022-02-20T12:39:28.940Z"
   },
   {
    "duration": 12,
    "start_time": "2022-02-20T12:39:28.946Z"
   },
   {
    "duration": 15,
    "start_time": "2022-02-20T12:39:28.960Z"
   },
   {
    "duration": 5,
    "start_time": "2022-02-20T12:39:28.977Z"
   },
   {
    "duration": 11,
    "start_time": "2022-02-20T12:39:28.986Z"
   },
   {
    "duration": 40,
    "start_time": "2022-02-20T12:39:28.999Z"
   },
   {
    "duration": 9,
    "start_time": "2022-02-20T12:39:29.041Z"
   },
   {
    "duration": 7,
    "start_time": "2022-02-20T12:39:29.052Z"
   },
   {
    "duration": 27,
    "start_time": "2022-02-20T12:39:29.060Z"
   },
   {
    "duration": 52,
    "start_time": "2022-02-20T12:39:29.089Z"
   },
   {
    "duration": 4,
    "start_time": "2022-02-20T12:39:29.143Z"
   },
   {
    "duration": 9,
    "start_time": "2022-02-20T12:39:29.148Z"
   },
   {
    "duration": 6,
    "start_time": "2022-02-20T12:39:29.158Z"
   },
   {
    "duration": 7,
    "start_time": "2022-02-20T12:39:29.166Z"
   },
   {
    "duration": 5,
    "start_time": "2022-02-20T12:39:29.174Z"
   },
   {
    "duration": 6,
    "start_time": "2022-02-20T12:39:29.180Z"
   },
   {
    "duration": 47,
    "start_time": "2022-02-20T12:39:29.188Z"
   },
   {
    "duration": 10,
    "start_time": "2022-02-20T12:39:29.236Z"
   },
   {
    "duration": 30,
    "start_time": "2022-02-20T12:39:29.248Z"
   },
   {
    "duration": 7,
    "start_time": "2022-02-20T12:39:29.280Z"
   },
   {
    "duration": 3,
    "start_time": "2022-02-20T12:39:29.289Z"
   },
   {
    "duration": 8,
    "start_time": "2022-02-20T12:39:29.294Z"
   },
   {
    "duration": 433,
    "start_time": "2022-02-20T12:39:29.330Z"
   },
   {
    "duration": 6,
    "start_time": "2022-02-20T12:39:29.764Z"
   },
   {
    "duration": 4,
    "start_time": "2022-02-20T12:39:29.771Z"
   },
   {
    "duration": 8,
    "start_time": "2022-02-20T12:39:29.777Z"
   },
   {
    "duration": 322,
    "start_time": "2022-02-20T12:39:29.787Z"
   },
   {
    "duration": 24,
    "start_time": "2022-02-20T12:39:30.110Z"
   },
   {
    "duration": 16,
    "start_time": "2022-02-20T12:39:30.135Z"
   },
   {
    "duration": 14,
    "start_time": "2022-02-20T12:39:30.153Z"
   },
   {
    "duration": 6,
    "start_time": "2022-02-20T12:39:30.169Z"
   },
   {
    "duration": 13,
    "start_time": "2022-02-20T12:39:30.177Z"
   },
   {
    "duration": 10,
    "start_time": "2022-02-20T12:39:30.192Z"
   },
   {
    "duration": 31,
    "start_time": "2022-02-20T12:39:30.204Z"
   },
   {
    "duration": 5,
    "start_time": "2022-02-20T12:39:30.237Z"
   },
   {
    "duration": 21,
    "start_time": "2022-02-20T12:39:30.244Z"
   },
   {
    "duration": 5,
    "start_time": "2022-02-20T12:39:30.266Z"
   },
   {
    "duration": 10,
    "start_time": "2022-02-20T12:39:30.273Z"
   },
   {
    "duration": 12,
    "start_time": "2022-02-20T12:39:30.284Z"
   },
   {
    "duration": 38,
    "start_time": "2022-02-20T12:39:30.298Z"
   },
   {
    "duration": 5,
    "start_time": "2022-02-20T12:39:30.338Z"
   },
   {
    "duration": 6,
    "start_time": "2022-02-20T12:39:30.344Z"
   },
   {
    "duration": 8,
    "start_time": "2022-02-20T12:39:30.351Z"
   },
   {
    "duration": 9,
    "start_time": "2022-02-20T12:39:30.361Z"
   },
   {
    "duration": 30,
    "start_time": "2022-02-20T12:39:30.372Z"
   },
   {
    "duration": 9,
    "start_time": "2022-02-20T12:39:30.404Z"
   },
   {
    "duration": 16,
    "start_time": "2022-02-20T12:39:30.415Z"
   },
   {
    "duration": 5,
    "start_time": "2022-02-20T12:39:30.433Z"
   },
   {
    "duration": 7,
    "start_time": "2022-02-20T12:39:30.439Z"
   },
   {
    "duration": 12,
    "start_time": "2022-02-20T12:39:30.447Z"
   },
   {
    "duration": 12,
    "start_time": "2022-02-20T12:39:30.461Z"
   },
   {
    "duration": 9,
    "start_time": "2022-02-20T12:39:30.475Z"
   },
   {
    "duration": 314,
    "start_time": "2022-02-20T12:39:30.485Z"
   },
   {
    "duration": 253,
    "start_time": "2022-02-20T12:39:30.548Z"
   },
   {
    "duration": 245,
    "start_time": "2022-02-20T12:39:30.557Z"
   },
   {
    "duration": 16,
    "start_time": "2022-02-20T12:41:52.256Z"
   },
   {
    "duration": 11,
    "start_time": "2022-02-20T12:41:56.018Z"
   },
   {
    "duration": 12,
    "start_time": "2022-02-20T12:41:58.595Z"
   },
   {
    "duration": 28,
    "start_time": "2022-02-20T12:44:00.980Z"
   },
   {
    "duration": 16,
    "start_time": "2022-02-20T12:45:42.208Z"
   },
   {
    "duration": 5,
    "start_time": "2022-02-20T12:47:16.381Z"
   },
   {
    "duration": 14,
    "start_time": "2022-02-20T12:47:32.513Z"
   },
   {
    "duration": 14,
    "start_time": "2022-02-20T12:59:33.360Z"
   },
   {
    "duration": 20,
    "start_time": "2022-02-20T12:59:41.115Z"
   },
   {
    "duration": 68,
    "start_time": "2022-02-20T13:00:06.272Z"
   },
   {
    "duration": 20,
    "start_time": "2022-02-20T13:00:12.943Z"
   },
   {
    "duration": 21,
    "start_time": "2022-02-20T13:01:09.273Z"
   },
   {
    "duration": 57,
    "start_time": "2022-02-20T13:02:48.638Z"
   },
   {
    "duration": 10,
    "start_time": "2022-02-20T13:03:05.693Z"
   },
   {
    "duration": 13,
    "start_time": "2022-02-20T13:03:46.921Z"
   },
   {
    "duration": 8,
    "start_time": "2022-02-20T13:03:53.540Z"
   },
   {
    "duration": 8,
    "start_time": "2022-02-20T13:03:55.089Z"
   },
   {
    "duration": 11,
    "start_time": "2022-02-20T13:03:55.909Z"
   },
   {
    "duration": 17,
    "start_time": "2022-02-20T13:03:56.094Z"
   },
   {
    "duration": 15,
    "start_time": "2022-02-20T13:04:03.426Z"
   },
   {
    "duration": 11,
    "start_time": "2022-02-20T13:04:09.460Z"
   },
   {
    "duration": 13,
    "start_time": "2022-02-20T13:04:09.689Z"
   },
   {
    "duration": 10,
    "start_time": "2022-02-20T13:04:10.923Z"
   },
   {
    "duration": 14,
    "start_time": "2022-02-20T13:04:11.332Z"
   },
   {
    "duration": 14,
    "start_time": "2022-02-20T13:04:42.722Z"
   },
   {
    "duration": 14,
    "start_time": "2022-02-20T13:07:27.654Z"
   },
   {
    "duration": 438,
    "start_time": "2022-02-20T13:08:26.762Z"
   },
   {
    "duration": 11,
    "start_time": "2022-02-20T13:08:35.205Z"
   },
   {
    "duration": 186,
    "start_time": "2022-02-20T13:09:26.650Z"
   },
   {
    "duration": 16,
    "start_time": "2022-02-20T13:09:43.067Z"
   },
   {
    "duration": 16,
    "start_time": "2022-02-20T13:09:48.659Z"
   },
   {
    "duration": 12,
    "start_time": "2022-02-20T13:10:11.810Z"
   },
   {
    "duration": 13,
    "start_time": "2022-02-20T13:10:12.017Z"
   },
   {
    "duration": 14,
    "start_time": "2022-02-20T13:10:12.370Z"
   },
   {
    "duration": 15,
    "start_time": "2022-02-20T13:10:12.600Z"
   },
   {
    "duration": 175,
    "start_time": "2022-02-20T13:10:12.819Z"
   },
   {
    "duration": 16,
    "start_time": "2022-02-20T13:11:27.793Z"
   },
   {
    "duration": 11,
    "start_time": "2022-02-20T13:12:14.414Z"
   },
   {
    "duration": 187,
    "start_time": "2022-02-20T13:13:13.822Z"
   },
   {
    "duration": 12,
    "start_time": "2022-02-20T13:13:27.882Z"
   },
   {
    "duration": 13,
    "start_time": "2022-02-20T13:13:28.732Z"
   },
   {
    "duration": 14,
    "start_time": "2022-02-20T13:13:28.747Z"
   },
   {
    "duration": 13,
    "start_time": "2022-02-20T13:13:28.766Z"
   },
   {
    "duration": 17,
    "start_time": "2022-02-20T13:13:28.986Z"
   },
   {
    "duration": 4706,
    "start_time": "2022-02-20T13:13:29.229Z"
   },
   {
    "duration": 322,
    "start_time": "2022-02-20T13:14:21.242Z"
   },
   {
    "duration": 324,
    "start_time": "2022-02-20T13:14:46.067Z"
   },
   {
    "duration": 178,
    "start_time": "2022-02-20T13:14:59.538Z"
   },
   {
    "duration": 366,
    "start_time": "2022-02-20T13:16:12.279Z"
   },
   {
    "duration": 505,
    "start_time": "2022-02-20T13:16:18.908Z"
   },
   {
    "duration": 158,
    "start_time": "2022-02-20T13:16:34.806Z"
   },
   {
    "duration": 146,
    "start_time": "2022-02-20T13:17:22.087Z"
   },
   {
    "duration": 15,
    "start_time": "2022-02-20T13:19:22.132Z"
   },
   {
    "duration": 14,
    "start_time": "2022-02-20T13:19:42.207Z"
   },
   {
    "duration": 17,
    "start_time": "2022-02-20T13:20:24.316Z"
   },
   {
    "duration": 190,
    "start_time": "2022-02-20T13:20:45.761Z"
   },
   {
    "duration": 17,
    "start_time": "2022-02-20T13:20:53.818Z"
   },
   {
    "duration": 18,
    "start_time": "2022-02-20T13:21:15.087Z"
   },
   {
    "duration": 4588,
    "start_time": "2022-02-20T13:21:45.387Z"
   },
   {
    "duration": 6415,
    "start_time": "2022-02-20T13:22:02.431Z"
   },
   {
    "duration": 428,
    "start_time": "2022-02-20T13:22:28.929Z"
   },
   {
    "duration": 21,
    "start_time": "2022-02-20T13:22:46.789Z"
   },
   {
    "duration": 332,
    "start_time": "2022-02-20T13:22:50.156Z"
   },
   {
    "duration": 368,
    "start_time": "2022-02-20T13:23:04.001Z"
   },
   {
    "duration": 19,
    "start_time": "2022-02-20T13:23:50.036Z"
   },
   {
    "duration": 155,
    "start_time": "2022-02-20T13:23:53.976Z"
   },
   {
    "duration": 7,
    "start_time": "2022-02-20T13:26:24.913Z"
   },
   {
    "duration": 6,
    "start_time": "2022-02-20T13:29:42.473Z"
   },
   {
    "duration": 3,
    "start_time": "2022-02-20T13:31:15.054Z"
   },
   {
    "duration": 10,
    "start_time": "2022-02-20T13:31:18.473Z"
   },
   {
    "duration": 2,
    "start_time": "2022-02-20T13:32:42.951Z"
   },
   {
    "duration": 2,
    "start_time": "2022-02-20T13:32:43.136Z"
   },
   {
    "duration": 3,
    "start_time": "2022-02-20T13:32:43.304Z"
   },
   {
    "duration": 4,
    "start_time": "2022-02-20T13:32:56.251Z"
   },
   {
    "duration": 634,
    "start_time": "2022-02-20T13:32:56.259Z"
   },
   {
    "duration": 57,
    "start_time": "2022-02-20T13:32:56.895Z"
   },
   {
    "duration": 16,
    "start_time": "2022-02-20T13:32:56.957Z"
   },
   {
    "duration": 3,
    "start_time": "2022-02-20T13:32:56.975Z"
   },
   {
    "duration": 12,
    "start_time": "2022-02-20T13:32:56.980Z"
   },
   {
    "duration": 64,
    "start_time": "2022-02-20T13:32:56.994Z"
   },
   {
    "duration": 17,
    "start_time": "2022-02-20T13:32:57.062Z"
   },
   {
    "duration": 8,
    "start_time": "2022-02-20T13:32:57.082Z"
   },
   {
    "duration": 8,
    "start_time": "2022-02-20T13:32:57.092Z"
   },
   {
    "duration": 7,
    "start_time": "2022-02-20T13:32:57.130Z"
   },
   {
    "duration": 13,
    "start_time": "2022-02-20T13:32:57.139Z"
   },
   {
    "duration": 8,
    "start_time": "2022-02-20T13:32:57.154Z"
   },
   {
    "duration": 5,
    "start_time": "2022-02-20T13:32:57.164Z"
   },
   {
    "duration": 6,
    "start_time": "2022-02-20T13:32:57.170Z"
   },
   {
    "duration": 53,
    "start_time": "2022-02-20T13:32:57.178Z"
   },
   {
    "duration": 4,
    "start_time": "2022-02-20T13:32:57.233Z"
   },
   {
    "duration": 11,
    "start_time": "2022-02-20T13:32:57.239Z"
   },
   {
    "duration": 7,
    "start_time": "2022-02-20T13:32:57.252Z"
   },
   {
    "duration": 11,
    "start_time": "2022-02-20T13:32:57.260Z"
   },
   {
    "duration": 7,
    "start_time": "2022-02-20T13:32:57.272Z"
   },
   {
    "duration": 9,
    "start_time": "2022-02-20T13:32:57.281Z"
   },
   {
    "duration": 3,
    "start_time": "2022-02-20T13:32:57.333Z"
   },
   {
    "duration": 19,
    "start_time": "2022-02-20T13:32:57.340Z"
   },
   {
    "duration": 8,
    "start_time": "2022-02-20T13:32:57.362Z"
   },
   {
    "duration": 25,
    "start_time": "2022-02-20T13:32:57.371Z"
   },
   {
    "duration": 6,
    "start_time": "2022-02-20T13:32:57.398Z"
   },
   {
    "duration": 8,
    "start_time": "2022-02-20T13:32:57.430Z"
   },
   {
    "duration": 17,
    "start_time": "2022-02-20T13:32:57.439Z"
   },
   {
    "duration": 11,
    "start_time": "2022-02-20T13:32:57.457Z"
   },
   {
    "duration": 4,
    "start_time": "2022-02-20T13:32:57.470Z"
   },
   {
    "duration": 20,
    "start_time": "2022-02-20T13:32:57.476Z"
   },
   {
    "duration": 31,
    "start_time": "2022-02-20T13:32:57.499Z"
   },
   {
    "duration": 8,
    "start_time": "2022-02-20T13:32:57.532Z"
   },
   {
    "duration": 4,
    "start_time": "2022-02-20T13:32:57.542Z"
   },
   {
    "duration": 9,
    "start_time": "2022-02-20T13:32:57.548Z"
   },
   {
    "duration": 2,
    "start_time": "2022-02-20T13:32:57.559Z"
   },
   {
    "duration": 4,
    "start_time": "2022-02-20T13:32:57.563Z"
   },
   {
    "duration": 11,
    "start_time": "2022-02-20T13:32:57.569Z"
   },
   {
    "duration": 7,
    "start_time": "2022-02-20T13:32:57.582Z"
   },
   {
    "duration": 40,
    "start_time": "2022-02-20T13:32:57.591Z"
   },
   {
    "duration": 8,
    "start_time": "2022-02-20T13:32:57.633Z"
   },
   {
    "duration": 6,
    "start_time": "2022-02-20T13:32:57.642Z"
   },
   {
    "duration": 12,
    "start_time": "2022-02-20T13:32:57.649Z"
   },
   {
    "duration": 8,
    "start_time": "2022-02-20T13:32:57.663Z"
   },
   {
    "duration": 12,
    "start_time": "2022-02-20T13:32:57.673Z"
   },
   {
    "duration": 52,
    "start_time": "2022-02-20T13:32:57.687Z"
   },
   {
    "duration": 20,
    "start_time": "2022-02-20T13:32:57.741Z"
   },
   {
    "duration": 4,
    "start_time": "2022-02-20T13:32:57.763Z"
   },
   {
    "duration": 4,
    "start_time": "2022-02-20T13:32:57.769Z"
   },
   {
    "duration": 7,
    "start_time": "2022-02-20T13:32:57.774Z"
   },
   {
    "duration": 47,
    "start_time": "2022-02-20T13:32:57.783Z"
   },
   {
    "duration": 6,
    "start_time": "2022-02-20T13:32:57.832Z"
   },
   {
    "duration": 14,
    "start_time": "2022-02-20T13:32:57.839Z"
   },
   {
    "duration": 5,
    "start_time": "2022-02-20T13:32:57.855Z"
   },
   {
    "duration": 10,
    "start_time": "2022-02-20T13:32:57.861Z"
   },
   {
    "duration": 15,
    "start_time": "2022-02-20T13:32:57.873Z"
   },
   {
    "duration": 4,
    "start_time": "2022-02-20T13:32:57.890Z"
   },
   {
    "duration": 45,
    "start_time": "2022-02-20T13:32:57.896Z"
   },
   {
    "duration": 21,
    "start_time": "2022-02-20T13:32:57.943Z"
   },
   {
    "duration": 7,
    "start_time": "2022-02-20T13:32:57.966Z"
   },
   {
    "duration": 6,
    "start_time": "2022-02-20T13:32:57.975Z"
   },
   {
    "duration": 29,
    "start_time": "2022-02-20T13:32:57.982Z"
   },
   {
    "duration": 40,
    "start_time": "2022-02-20T13:32:58.013Z"
   },
   {
    "duration": 4,
    "start_time": "2022-02-20T13:32:58.056Z"
   },
   {
    "duration": 12,
    "start_time": "2022-02-20T13:32:58.062Z"
   },
   {
    "duration": 6,
    "start_time": "2022-02-20T13:32:58.076Z"
   },
   {
    "duration": 9,
    "start_time": "2022-02-20T13:32:58.088Z"
   },
   {
    "duration": 39,
    "start_time": "2022-02-20T13:32:58.100Z"
   },
   {
    "duration": 11,
    "start_time": "2022-02-20T13:32:58.141Z"
   },
   {
    "duration": 11,
    "start_time": "2022-02-20T13:32:58.154Z"
   },
   {
    "duration": 6,
    "start_time": "2022-02-20T13:32:58.167Z"
   },
   {
    "duration": 56,
    "start_time": "2022-02-20T13:32:58.175Z"
   },
   {
    "duration": 9,
    "start_time": "2022-02-20T13:32:58.234Z"
   },
   {
    "duration": 5,
    "start_time": "2022-02-20T13:32:58.245Z"
   },
   {
    "duration": 6,
    "start_time": "2022-02-20T13:32:58.252Z"
   },
   {
    "duration": 439,
    "start_time": "2022-02-20T13:32:58.259Z"
   },
   {
    "duration": 7,
    "start_time": "2022-02-20T13:32:58.699Z"
   },
   {
    "duration": 6,
    "start_time": "2022-02-20T13:32:58.707Z"
   },
   {
    "duration": 15,
    "start_time": "2022-02-20T13:32:58.715Z"
   },
   {
    "duration": 348,
    "start_time": "2022-02-20T13:32:58.731Z"
   },
   {
    "duration": 15,
    "start_time": "2022-02-20T13:32:59.081Z"
   },
   {
    "duration": 32,
    "start_time": "2022-02-20T13:32:59.098Z"
   },
   {
    "duration": 17,
    "start_time": "2022-02-20T13:32:59.132Z"
   },
   {
    "duration": 7,
    "start_time": "2022-02-20T13:32:59.151Z"
   },
   {
    "duration": 16,
    "start_time": "2022-02-20T13:32:59.160Z"
   },
   {
    "duration": 15,
    "start_time": "2022-02-20T13:32:59.178Z"
   },
   {
    "duration": 7,
    "start_time": "2022-02-20T13:32:59.195Z"
   },
   {
    "duration": 28,
    "start_time": "2022-02-20T13:32:59.203Z"
   },
   {
    "duration": 20,
    "start_time": "2022-02-20T13:32:59.233Z"
   },
   {
    "duration": 5,
    "start_time": "2022-02-20T13:32:59.255Z"
   },
   {
    "duration": 11,
    "start_time": "2022-02-20T13:32:59.261Z"
   },
   {
    "duration": 12,
    "start_time": "2022-02-20T13:32:59.274Z"
   },
   {
    "duration": 10,
    "start_time": "2022-02-20T13:32:59.288Z"
   },
   {
    "duration": 6,
    "start_time": "2022-02-20T13:32:59.299Z"
   },
   {
    "duration": 4,
    "start_time": "2022-02-20T13:32:59.330Z"
   },
   {
    "duration": 5,
    "start_time": "2022-02-20T13:32:59.336Z"
   },
   {
    "duration": 8,
    "start_time": "2022-02-20T13:32:59.343Z"
   },
   {
    "duration": 35,
    "start_time": "2022-02-20T13:32:59.353Z"
   },
   {
    "duration": 7,
    "start_time": "2022-02-20T13:32:59.390Z"
   },
   {
    "duration": 9,
    "start_time": "2022-02-20T13:32:59.399Z"
   },
   {
    "duration": 5,
    "start_time": "2022-02-20T13:32:59.430Z"
   },
   {
    "duration": 16,
    "start_time": "2022-02-20T13:32:59.437Z"
   },
   {
    "duration": 7,
    "start_time": "2022-02-20T13:32:59.455Z"
   },
   {
    "duration": 14,
    "start_time": "2022-02-20T13:32:59.464Z"
   },
   {
    "duration": 7,
    "start_time": "2022-02-20T13:32:59.480Z"
   },
   {
    "duration": 16,
    "start_time": "2022-02-20T13:32:59.489Z"
   },
   {
    "duration": 14,
    "start_time": "2022-02-20T13:32:59.531Z"
   },
   {
    "duration": 16,
    "start_time": "2022-02-20T13:32:59.547Z"
   },
   {
    "duration": 26,
    "start_time": "2022-02-20T13:32:59.565Z"
   },
   {
    "duration": 271,
    "start_time": "2022-02-20T13:32:59.593Z"
   },
   {
    "duration": 13,
    "start_time": "2022-02-20T13:32:59.866Z"
   },
   {
    "duration": 13,
    "start_time": "2022-02-20T13:32:59.881Z"
   },
   {
    "duration": 36,
    "start_time": "2022-02-20T13:32:59.895Z"
   },
   {
    "duration": 14,
    "start_time": "2022-02-20T13:32:59.933Z"
   },
   {
    "duration": 82,
    "start_time": "2022-02-20T13:32:59.948Z"
   },
   {
    "duration": 254,
    "start_time": "2022-02-20T13:33:00.032Z"
   },
   {
    "duration": 15,
    "start_time": "2022-02-20T13:33:00.288Z"
   },
   {
    "duration": 32,
    "start_time": "2022-02-20T13:33:00.305Z"
   },
   {
    "duration": 5,
    "start_time": "2022-02-20T13:58:22.362Z"
   },
   {
    "duration": 270,
    "start_time": "2022-02-20T13:59:07.963Z"
   },
   {
    "duration": 230,
    "start_time": "2022-02-20T13:59:11.643Z"
   },
   {
    "duration": 35,
    "start_time": "2022-02-20T13:59:22.751Z"
   },
   {
    "duration": 33,
    "start_time": "2022-02-20T13:59:50.890Z"
   },
   {
    "duration": 35,
    "start_time": "2022-02-20T14:00:07.886Z"
   },
   {
    "duration": 34,
    "start_time": "2022-02-20T14:00:25.968Z"
   },
   {
    "duration": 7,
    "start_time": "2022-02-20T14:01:29.159Z"
   },
   {
    "duration": 11,
    "start_time": "2022-02-20T14:01:33.969Z"
   },
   {
    "duration": 37,
    "start_time": "2022-02-20T14:01:43.032Z"
   },
   {
    "duration": 29,
    "start_time": "2022-02-20T14:03:16.332Z"
   },
   {
    "duration": 31,
    "start_time": "2022-02-20T14:03:54.610Z"
   },
   {
    "duration": 30,
    "start_time": "2022-02-20T14:04:35.801Z"
   },
   {
    "duration": 4,
    "start_time": "2022-02-20T16:17:46.640Z"
   },
   {
    "duration": 641,
    "start_time": "2022-02-20T16:17:46.647Z"
   },
   {
    "duration": 49,
    "start_time": "2022-02-20T16:17:47.289Z"
   },
   {
    "duration": 14,
    "start_time": "2022-02-20T16:17:47.342Z"
   },
   {
    "duration": 3,
    "start_time": "2022-02-20T16:17:47.357Z"
   },
   {
    "duration": 11,
    "start_time": "2022-02-20T16:17:47.361Z"
   },
   {
    "duration": 54,
    "start_time": "2022-02-20T16:17:47.374Z"
   },
   {
    "duration": 14,
    "start_time": "2022-02-20T16:17:47.430Z"
   },
   {
    "duration": 7,
    "start_time": "2022-02-20T16:17:47.446Z"
   },
   {
    "duration": 8,
    "start_time": "2022-02-20T16:17:47.454Z"
   },
   {
    "duration": 7,
    "start_time": "2022-02-20T16:17:47.463Z"
   },
   {
    "duration": 13,
    "start_time": "2022-02-20T16:17:47.471Z"
   },
   {
    "duration": 5,
    "start_time": "2022-02-20T16:17:47.485Z"
   },
   {
    "duration": 5,
    "start_time": "2022-02-20T16:17:47.519Z"
   },
   {
    "duration": 5,
    "start_time": "2022-02-20T16:17:47.525Z"
   },
   {
    "duration": 6,
    "start_time": "2022-02-20T16:17:47.531Z"
   },
   {
    "duration": 4,
    "start_time": "2022-02-20T16:17:47.538Z"
   },
   {
    "duration": 8,
    "start_time": "2022-02-20T16:17:47.543Z"
   },
   {
    "duration": 8,
    "start_time": "2022-02-20T16:17:47.552Z"
   },
   {
    "duration": 9,
    "start_time": "2022-02-20T16:17:47.561Z"
   },
   {
    "duration": 5,
    "start_time": "2022-02-20T16:17:47.572Z"
   },
   {
    "duration": 46,
    "start_time": "2022-02-20T16:17:47.579Z"
   },
   {
    "duration": 2,
    "start_time": "2022-02-20T16:17:47.630Z"
   },
   {
    "duration": 10,
    "start_time": "2022-02-20T16:17:47.634Z"
   },
   {
    "duration": 4,
    "start_time": "2022-02-20T16:17:47.646Z"
   },
   {
    "duration": 28,
    "start_time": "2022-02-20T16:17:47.651Z"
   },
   {
    "duration": 7,
    "start_time": "2022-02-20T16:17:47.680Z"
   },
   {
    "duration": 33,
    "start_time": "2022-02-20T16:17:47.688Z"
   },
   {
    "duration": 5,
    "start_time": "2022-02-20T16:17:47.722Z"
   },
   {
    "duration": 9,
    "start_time": "2022-02-20T16:17:47.729Z"
   },
   {
    "duration": 3,
    "start_time": "2022-02-20T16:17:47.739Z"
   },
   {
    "duration": 18,
    "start_time": "2022-02-20T16:17:47.743Z"
   },
   {
    "duration": 8,
    "start_time": "2022-02-20T16:17:47.763Z"
   },
   {
    "duration": 5,
    "start_time": "2022-02-20T16:17:47.772Z"
   },
   {
    "duration": 4,
    "start_time": "2022-02-20T16:17:47.779Z"
   },
   {
    "duration": 40,
    "start_time": "2022-02-20T16:17:47.784Z"
   },
   {
    "duration": 3,
    "start_time": "2022-02-20T16:17:47.825Z"
   },
   {
    "duration": 4,
    "start_time": "2022-02-20T16:17:47.829Z"
   },
   {
    "duration": 5,
    "start_time": "2022-02-20T16:17:47.834Z"
   },
   {
    "duration": 8,
    "start_time": "2022-02-20T16:17:47.840Z"
   },
   {
    "duration": 5,
    "start_time": "2022-02-20T16:17:47.849Z"
   },
   {
    "duration": 6,
    "start_time": "2022-02-20T16:17:47.855Z"
   },
   {
    "duration": 4,
    "start_time": "2022-02-20T16:17:47.862Z"
   },
   {
    "duration": 7,
    "start_time": "2022-02-20T16:17:47.867Z"
   },
   {
    "duration": 46,
    "start_time": "2022-02-20T16:17:47.875Z"
   },
   {
    "duration": 10,
    "start_time": "2022-02-20T16:17:47.923Z"
   },
   {
    "duration": 17,
    "start_time": "2022-02-20T16:17:47.935Z"
   },
   {
    "duration": 19,
    "start_time": "2022-02-20T16:17:47.954Z"
   },
   {
    "duration": 5,
    "start_time": "2022-02-20T16:17:47.974Z"
   },
   {
    "duration": 39,
    "start_time": "2022-02-20T16:17:47.980Z"
   },
   {
    "duration": 6,
    "start_time": "2022-02-20T16:17:48.020Z"
   },
   {
    "duration": 16,
    "start_time": "2022-02-20T16:17:48.027Z"
   },
   {
    "duration": 4,
    "start_time": "2022-02-20T16:17:48.045Z"
   },
   {
    "duration": 19,
    "start_time": "2022-02-20T16:17:48.051Z"
   },
   {
    "duration": 5,
    "start_time": "2022-02-20T16:17:48.072Z"
   },
   {
    "duration": 8,
    "start_time": "2022-02-20T16:17:48.078Z"
   },
   {
    "duration": 40,
    "start_time": "2022-02-20T16:17:48.088Z"
   },
   {
    "duration": 5,
    "start_time": "2022-02-20T16:17:48.130Z"
   },
   {
    "duration": 10,
    "start_time": "2022-02-20T16:17:48.136Z"
   },
   {
    "duration": 15,
    "start_time": "2022-02-20T16:17:48.148Z"
   },
   {
    "duration": 9,
    "start_time": "2022-02-20T16:17:48.164Z"
   },
   {
    "duration": 6,
    "start_time": "2022-02-20T16:17:48.174Z"
   },
   {
    "duration": 56,
    "start_time": "2022-02-20T16:17:48.181Z"
   },
   {
    "duration": 27,
    "start_time": "2022-02-20T16:17:48.239Z"
   },
   {
    "duration": 3,
    "start_time": "2022-02-20T16:17:48.267Z"
   },
   {
    "duration": 8,
    "start_time": "2022-02-20T16:17:48.272Z"
   },
   {
    "duration": 5,
    "start_time": "2022-02-20T16:17:48.281Z"
   },
   {
    "duration": 7,
    "start_time": "2022-02-20T16:17:48.320Z"
   },
   {
    "duration": 5,
    "start_time": "2022-02-20T16:17:48.329Z"
   },
   {
    "duration": 7,
    "start_time": "2022-02-20T16:17:48.336Z"
   },
   {
    "duration": 7,
    "start_time": "2022-02-20T16:17:48.345Z"
   },
   {
    "duration": 6,
    "start_time": "2022-02-20T16:17:48.354Z"
   },
   {
    "duration": 65,
    "start_time": "2022-02-20T16:17:48.361Z"
   },
   {
    "duration": 9,
    "start_time": "2022-02-20T16:17:48.428Z"
   },
   {
    "duration": 4,
    "start_time": "2022-02-20T16:17:48.439Z"
   },
   {
    "duration": 6,
    "start_time": "2022-02-20T16:17:48.445Z"
   },
   {
    "duration": 436,
    "start_time": "2022-02-20T16:17:48.452Z"
   },
   {
    "duration": 7,
    "start_time": "2022-02-20T16:17:48.890Z"
   },
   {
    "duration": 21,
    "start_time": "2022-02-20T16:17:48.898Z"
   },
   {
    "duration": 5,
    "start_time": "2022-02-20T16:17:48.920Z"
   },
   {
    "duration": 369,
    "start_time": "2022-02-20T16:17:48.926Z"
   },
   {
    "duration": 24,
    "start_time": "2022-02-20T16:17:49.297Z"
   },
   {
    "duration": 19,
    "start_time": "2022-02-20T16:17:49.323Z"
   },
   {
    "duration": 16,
    "start_time": "2022-02-20T16:17:49.344Z"
   },
   {
    "duration": 7,
    "start_time": "2022-02-20T16:17:49.363Z"
   },
   {
    "duration": 12,
    "start_time": "2022-02-20T16:17:49.372Z"
   },
   {
    "duration": 39,
    "start_time": "2022-02-20T16:17:49.386Z"
   },
   {
    "duration": 6,
    "start_time": "2022-02-20T16:17:49.427Z"
   },
   {
    "duration": 5,
    "start_time": "2022-02-20T16:17:49.435Z"
   },
   {
    "duration": 23,
    "start_time": "2022-02-20T16:17:49.442Z"
   },
   {
    "duration": 4,
    "start_time": "2022-02-20T16:17:49.467Z"
   },
   {
    "duration": 7,
    "start_time": "2022-02-20T16:17:49.473Z"
   },
   {
    "duration": 42,
    "start_time": "2022-02-20T16:17:49.481Z"
   },
   {
    "duration": 10,
    "start_time": "2022-02-20T16:17:49.524Z"
   },
   {
    "duration": 5,
    "start_time": "2022-02-20T16:17:49.535Z"
   },
   {
    "duration": 5,
    "start_time": "2022-02-20T16:17:49.542Z"
   },
   {
    "duration": 12,
    "start_time": "2022-02-20T16:17:49.549Z"
   },
   {
    "duration": 6,
    "start_time": "2022-02-20T16:17:49.562Z"
   },
   {
    "duration": 20,
    "start_time": "2022-02-20T16:17:49.570Z"
   },
   {
    "duration": 30,
    "start_time": "2022-02-20T16:17:49.592Z"
   },
   {
    "duration": 6,
    "start_time": "2022-02-20T16:17:49.624Z"
   },
   {
    "duration": 4,
    "start_time": "2022-02-20T16:17:49.632Z"
   },
   {
    "duration": 8,
    "start_time": "2022-02-20T16:17:49.638Z"
   },
   {
    "duration": 11,
    "start_time": "2022-02-20T16:17:49.647Z"
   },
   {
    "duration": 13,
    "start_time": "2022-02-20T16:17:49.660Z"
   },
   {
    "duration": 7,
    "start_time": "2022-02-20T16:17:49.674Z"
   },
   {
    "duration": 48,
    "start_time": "2022-02-20T16:17:49.683Z"
   },
   {
    "duration": 13,
    "start_time": "2022-02-20T16:17:49.733Z"
   },
   {
    "duration": 12,
    "start_time": "2022-02-20T16:17:49.747Z"
   },
   {
    "duration": 19,
    "start_time": "2022-02-20T16:17:49.761Z"
   },
   {
    "duration": 201,
    "start_time": "2022-02-20T16:17:49.781Z"
   },
   {
    "duration": 12,
    "start_time": "2022-02-20T16:17:49.983Z"
   },
   {
    "duration": 25,
    "start_time": "2022-02-20T16:17:49.996Z"
   },
   {
    "duration": 20,
    "start_time": "2022-02-20T16:17:50.022Z"
   },
   {
    "duration": 12,
    "start_time": "2022-02-20T16:17:50.044Z"
   },
   {
    "duration": 72,
    "start_time": "2022-02-20T16:17:50.057Z"
   },
   {
    "duration": 184,
    "start_time": "2022-02-20T16:17:50.130Z"
   },
   {
    "duration": 15,
    "start_time": "2022-02-20T16:17:50.318Z"
   },
   {
    "duration": 14,
    "start_time": "2022-02-20T16:17:50.334Z"
   },
   {
    "duration": 34,
    "start_time": "2022-02-20T16:17:50.349Z"
   },
   {
    "duration": 29,
    "start_time": "2022-02-20T16:17:50.385Z"
   },
   {
    "duration": 26,
    "start_time": "2022-02-20T16:17:50.415Z"
   },
   {
    "duration": 19,
    "start_time": "2022-02-20T16:20:22.772Z"
   },
   {
    "duration": 23,
    "start_time": "2022-02-20T16:20:36.458Z"
   },
   {
    "duration": 21,
    "start_time": "2022-02-20T16:20:52.386Z"
   },
   {
    "duration": 21,
    "start_time": "2022-02-20T16:23:07.980Z"
   },
   {
    "duration": 6,
    "start_time": "2022-02-20T16:25:00.332Z"
   },
   {
    "duration": 1039,
    "start_time": "2022-02-20T16:25:00.340Z"
   },
   {
    "duration": 57,
    "start_time": "2022-02-20T16:25:01.381Z"
   },
   {
    "duration": 17,
    "start_time": "2022-02-20T16:25:01.441Z"
   },
   {
    "duration": 27,
    "start_time": "2022-02-20T16:25:01.461Z"
   },
   {
    "duration": 30,
    "start_time": "2022-02-20T16:25:01.489Z"
   },
   {
    "duration": 51,
    "start_time": "2022-02-20T16:25:01.523Z"
   },
   {
    "duration": 15,
    "start_time": "2022-02-20T16:25:01.576Z"
   },
   {
    "duration": 21,
    "start_time": "2022-02-20T16:25:01.593Z"
   },
   {
    "duration": 29,
    "start_time": "2022-02-20T16:25:01.615Z"
   },
   {
    "duration": 21,
    "start_time": "2022-02-20T16:25:01.647Z"
   },
   {
    "duration": 35,
    "start_time": "2022-02-20T16:25:01.669Z"
   },
   {
    "duration": 30,
    "start_time": "2022-02-20T16:25:01.705Z"
   },
   {
    "duration": 18,
    "start_time": "2022-02-20T16:25:01.738Z"
   },
   {
    "duration": 34,
    "start_time": "2022-02-20T16:25:01.758Z"
   },
   {
    "duration": 18,
    "start_time": "2022-02-20T16:25:01.793Z"
   },
   {
    "duration": 23,
    "start_time": "2022-02-20T16:25:01.813Z"
   },
   {
    "duration": 22,
    "start_time": "2022-02-20T16:25:01.839Z"
   },
   {
    "duration": 35,
    "start_time": "2022-02-20T16:25:01.865Z"
   },
   {
    "duration": 21,
    "start_time": "2022-02-20T16:25:01.903Z"
   },
   {
    "duration": 24,
    "start_time": "2022-02-20T16:25:01.927Z"
   },
   {
    "duration": 8,
    "start_time": "2022-02-20T16:25:01.953Z"
   },
   {
    "duration": 3,
    "start_time": "2022-02-20T16:25:01.963Z"
   },
   {
    "duration": 13,
    "start_time": "2022-02-20T16:25:01.968Z"
   },
   {
    "duration": 7,
    "start_time": "2022-02-20T16:25:01.983Z"
   },
   {
    "duration": 45,
    "start_time": "2022-02-20T16:25:01.992Z"
   },
   {
    "duration": 11,
    "start_time": "2022-02-20T16:25:02.040Z"
   },
   {
    "duration": 10,
    "start_time": "2022-02-20T16:25:02.052Z"
   },
   {
    "duration": 7,
    "start_time": "2022-02-20T16:25:02.064Z"
   },
   {
    "duration": 11,
    "start_time": "2022-02-20T16:25:02.073Z"
   },
   {
    "duration": 7,
    "start_time": "2022-02-20T16:25:02.086Z"
   },
   {
    "duration": 51,
    "start_time": "2022-02-20T16:25:02.094Z"
   },
   {
    "duration": 8,
    "start_time": "2022-02-20T16:25:02.148Z"
   },
   {
    "duration": 9,
    "start_time": "2022-02-20T16:25:02.158Z"
   },
   {
    "duration": 3,
    "start_time": "2022-02-20T16:25:02.169Z"
   },
   {
    "duration": 12,
    "start_time": "2022-02-20T16:25:02.173Z"
   },
   {
    "duration": 2,
    "start_time": "2022-02-20T16:25:02.186Z"
   },
   {
    "duration": 32,
    "start_time": "2022-02-20T16:25:02.190Z"
   },
   {
    "duration": 6,
    "start_time": "2022-02-20T16:25:02.224Z"
   },
   {
    "duration": 8,
    "start_time": "2022-02-20T16:25:02.233Z"
   },
   {
    "duration": 6,
    "start_time": "2022-02-20T16:25:02.244Z"
   },
   {
    "duration": 6,
    "start_time": "2022-02-20T16:25:02.251Z"
   },
   {
    "duration": 4,
    "start_time": "2022-02-20T16:25:02.258Z"
   },
   {
    "duration": 6,
    "start_time": "2022-02-20T16:25:02.264Z"
   },
   {
    "duration": 52,
    "start_time": "2022-02-20T16:25:02.271Z"
   },
   {
    "duration": 16,
    "start_time": "2022-02-20T16:25:02.325Z"
   },
   {
    "duration": 19,
    "start_time": "2022-02-20T16:25:02.343Z"
   },
   {
    "duration": 15,
    "start_time": "2022-02-20T16:25:02.363Z"
   },
   {
    "duration": 4,
    "start_time": "2022-02-20T16:25:02.380Z"
   },
   {
    "duration": 5,
    "start_time": "2022-02-20T16:25:02.420Z"
   },
   {
    "duration": 9,
    "start_time": "2022-02-20T16:25:02.428Z"
   },
   {
    "duration": 19,
    "start_time": "2022-02-20T16:25:02.439Z"
   },
   {
    "duration": 6,
    "start_time": "2022-02-20T16:25:02.459Z"
   },
   {
    "duration": 13,
    "start_time": "2022-02-20T16:25:02.467Z"
   },
   {
    "duration": 7,
    "start_time": "2022-02-20T16:25:02.518Z"
   },
   {
    "duration": 7,
    "start_time": "2022-02-20T16:25:02.529Z"
   },
   {
    "duration": 20,
    "start_time": "2022-02-20T16:25:02.539Z"
   },
   {
    "duration": 5,
    "start_time": "2022-02-20T16:25:02.560Z"
   },
   {
    "duration": 16,
    "start_time": "2022-02-20T16:25:02.566Z"
   },
   {
    "duration": 43,
    "start_time": "2022-02-20T16:25:02.584Z"
   },
   {
    "duration": 13,
    "start_time": "2022-02-20T16:25:02.630Z"
   },
   {
    "duration": 5,
    "start_time": "2022-02-20T16:25:02.646Z"
   },
   {
    "duration": 31,
    "start_time": "2022-02-20T16:25:02.653Z"
   },
   {
    "duration": 70,
    "start_time": "2022-02-20T16:25:02.686Z"
   },
   {
    "duration": 3,
    "start_time": "2022-02-20T16:25:02.758Z"
   },
   {
    "duration": 11,
    "start_time": "2022-02-20T16:25:02.763Z"
   },
   {
    "duration": 5,
    "start_time": "2022-02-20T16:25:02.776Z"
   },
   {
    "duration": 35,
    "start_time": "2022-02-20T16:25:02.783Z"
   },
   {
    "duration": 6,
    "start_time": "2022-02-20T16:25:02.821Z"
   },
   {
    "duration": 11,
    "start_time": "2022-02-20T16:25:02.830Z"
   },
   {
    "duration": 8,
    "start_time": "2022-02-20T16:25:02.844Z"
   },
   {
    "duration": 5,
    "start_time": "2022-02-20T16:25:02.854Z"
   },
   {
    "duration": 69,
    "start_time": "2022-02-20T16:25:02.861Z"
   },
   {
    "duration": 11,
    "start_time": "2022-02-20T16:25:02.933Z"
   },
   {
    "duration": 4,
    "start_time": "2022-02-20T16:25:02.946Z"
   },
   {
    "duration": 8,
    "start_time": "2022-02-20T16:25:02.952Z"
   },
   {
    "duration": 553,
    "start_time": "2022-02-20T16:25:02.962Z"
   },
   {
    "duration": 9,
    "start_time": "2022-02-20T16:25:03.519Z"
   },
   {
    "duration": 5,
    "start_time": "2022-02-20T16:25:03.531Z"
   },
   {
    "duration": 7,
    "start_time": "2022-02-20T16:25:03.539Z"
   },
   {
    "duration": 390,
    "start_time": "2022-02-20T16:25:03.547Z"
   },
   {
    "duration": 19,
    "start_time": "2022-02-20T16:25:03.939Z"
   },
   {
    "duration": 15,
    "start_time": "2022-02-20T16:25:03.960Z"
   },
   {
    "duration": 14,
    "start_time": "2022-02-20T16:25:03.977Z"
   },
   {
    "duration": 34,
    "start_time": "2022-02-20T16:25:03.992Z"
   },
   {
    "duration": 18,
    "start_time": "2022-02-20T16:25:04.029Z"
   },
   {
    "duration": 9,
    "start_time": "2022-02-20T16:25:04.049Z"
   },
   {
    "duration": 7,
    "start_time": "2022-02-20T16:25:04.060Z"
   },
   {
    "duration": 5,
    "start_time": "2022-02-20T16:25:04.068Z"
   },
   {
    "duration": 52,
    "start_time": "2022-02-20T16:25:04.075Z"
   },
   {
    "duration": 9,
    "start_time": "2022-02-20T16:25:04.130Z"
   },
   {
    "duration": 9,
    "start_time": "2022-02-20T16:25:04.141Z"
   },
   {
    "duration": 9,
    "start_time": "2022-02-20T16:25:04.152Z"
   },
   {
    "duration": 9,
    "start_time": "2022-02-20T16:25:04.163Z"
   },
   {
    "duration": 4,
    "start_time": "2022-02-20T16:25:04.174Z"
   },
   {
    "duration": 4,
    "start_time": "2022-02-20T16:25:04.180Z"
   },
   {
    "duration": 4,
    "start_time": "2022-02-20T16:25:04.186Z"
   },
   {
    "duration": 6,
    "start_time": "2022-02-20T16:25:04.220Z"
   },
   {
    "duration": 28,
    "start_time": "2022-02-20T16:25:04.228Z"
   },
   {
    "duration": 4,
    "start_time": "2022-02-20T16:25:04.258Z"
   },
   {
    "duration": 5,
    "start_time": "2022-02-20T16:25:04.264Z"
   },
   {
    "duration": 3,
    "start_time": "2022-02-20T16:25:04.271Z"
   },
   {
    "duration": 5,
    "start_time": "2022-02-20T16:25:04.276Z"
   },
   {
    "duration": 44,
    "start_time": "2022-02-20T16:25:04.283Z"
   },
   {
    "duration": 21,
    "start_time": "2022-02-20T16:25:04.330Z"
   },
   {
    "duration": 6,
    "start_time": "2022-02-20T16:25:04.353Z"
   },
   {
    "duration": 14,
    "start_time": "2022-02-20T16:25:04.361Z"
   },
   {
    "duration": 43,
    "start_time": "2022-02-20T16:25:04.377Z"
   },
   {
    "duration": 21,
    "start_time": "2022-02-20T16:25:04.422Z"
   },
   {
    "duration": 19,
    "start_time": "2022-02-20T16:25:04.446Z"
   },
   {
    "duration": 263,
    "start_time": "2022-02-20T16:25:04.467Z"
   },
   {
    "duration": 17,
    "start_time": "2022-02-20T16:25:04.733Z"
   },
   {
    "duration": 14,
    "start_time": "2022-02-20T16:25:04.751Z"
   },
   {
    "duration": 14,
    "start_time": "2022-02-20T16:25:04.766Z"
   },
   {
    "duration": 45,
    "start_time": "2022-02-20T16:25:04.782Z"
   },
   {
    "duration": 68,
    "start_time": "2022-02-20T16:25:04.830Z"
   },
   {
    "duration": 231,
    "start_time": "2022-02-20T16:25:04.899Z"
   },
   {
    "duration": 21,
    "start_time": "2022-02-20T16:25:05.132Z"
   },
   {
    "duration": 17,
    "start_time": "2022-02-20T16:25:05.155Z"
   },
   {
    "duration": 11,
    "start_time": "2022-02-20T16:25:05.173Z"
   },
   {
    "duration": 59,
    "start_time": "2022-02-20T16:25:05.185Z"
   },
   {
    "duration": 81,
    "start_time": "2022-03-02T10:52:15.676Z"
   },
   {
    "duration": 5,
    "start_time": "2022-03-02T18:15:02.107Z"
   },
   {
    "duration": 898,
    "start_time": "2022-03-02T18:15:02.116Z"
   },
   {
    "duration": 68,
    "start_time": "2022-03-02T18:15:03.017Z"
   },
   {
    "duration": 23,
    "start_time": "2022-03-02T18:15:03.089Z"
   },
   {
    "duration": 12,
    "start_time": "2022-03-02T18:15:03.116Z"
   },
   {
    "duration": 31,
    "start_time": "2022-03-02T18:15:03.130Z"
   },
   {
    "duration": 46,
    "start_time": "2022-03-02T18:15:03.164Z"
   },
   {
    "duration": 45,
    "start_time": "2022-03-02T18:15:03.212Z"
   },
   {
    "duration": 9,
    "start_time": "2022-03-02T18:15:03.261Z"
   },
   {
    "duration": 10,
    "start_time": "2022-03-02T18:15:03.273Z"
   },
   {
    "duration": 14,
    "start_time": "2022-03-02T18:15:03.285Z"
   },
   {
    "duration": 59,
    "start_time": "2022-03-02T18:15:03.301Z"
   },
   {
    "duration": 8,
    "start_time": "2022-03-02T18:15:03.363Z"
   },
   {
    "duration": 7,
    "start_time": "2022-03-02T18:15:03.373Z"
   },
   {
    "duration": 9,
    "start_time": "2022-03-02T18:15:03.383Z"
   },
   {
    "duration": 57,
    "start_time": "2022-03-02T18:15:03.394Z"
   },
   {
    "duration": 4,
    "start_time": "2022-03-02T18:15:03.454Z"
   },
   {
    "duration": 15,
    "start_time": "2022-03-02T18:15:03.461Z"
   },
   {
    "duration": 9,
    "start_time": "2022-03-02T18:15:03.478Z"
   },
   {
    "duration": 12,
    "start_time": "2022-03-02T18:15:03.490Z"
   },
   {
    "duration": 47,
    "start_time": "2022-03-02T18:15:03.505Z"
   },
   {
    "duration": 11,
    "start_time": "2022-03-02T18:15:03.555Z"
   },
   {
    "duration": 5,
    "start_time": "2022-03-02T18:15:03.569Z"
   },
   {
    "duration": 13,
    "start_time": "2022-03-02T18:15:03.580Z"
   },
   {
    "duration": 6,
    "start_time": "2022-03-02T18:15:03.598Z"
   },
   {
    "duration": 76,
    "start_time": "2022-03-02T18:15:03.607Z"
   },
   {
    "duration": 10,
    "start_time": "2022-03-02T18:15:03.685Z"
   },
   {
    "duration": 18,
    "start_time": "2022-03-02T18:15:03.697Z"
   },
   {
    "duration": 45,
    "start_time": "2022-03-02T18:15:03.718Z"
   },
   {
    "duration": 308,
    "start_time": "2022-03-02T18:15:03.765Z"
   },
   {
    "duration": -278,
    "start_time": "2022-03-02T18:15:04.356Z"
   },
   {
    "duration": -293,
    "start_time": "2022-03-02T18:15:04.373Z"
   },
   {
    "duration": -321,
    "start_time": "2022-03-02T18:15:04.402Z"
   },
   {
    "duration": -343,
    "start_time": "2022-03-02T18:15:04.426Z"
   },
   {
    "duration": -361,
    "start_time": "2022-03-02T18:15:04.445Z"
   },
   {
    "duration": -369,
    "start_time": "2022-03-02T18:15:04.455Z"
   },
   {
    "duration": -385,
    "start_time": "2022-03-02T18:15:04.472Z"
   },
   {
    "duration": -403,
    "start_time": "2022-03-02T18:15:04.491Z"
   },
   {
    "duration": -418,
    "start_time": "2022-03-02T18:15:04.508Z"
   },
   {
    "duration": -432,
    "start_time": "2022-03-02T18:15:04.523Z"
   },
   {
    "duration": -447,
    "start_time": "2022-03-02T18:15:04.539Z"
   },
   {
    "duration": -462,
    "start_time": "2022-03-02T18:15:04.555Z"
   },
   {
    "duration": -475,
    "start_time": "2022-03-02T18:15:04.570Z"
   },
   {
    "duration": -491,
    "start_time": "2022-03-02T18:15:04.587Z"
   },
   {
    "duration": -509,
    "start_time": "2022-03-02T18:15:04.607Z"
   },
   {
    "duration": -529,
    "start_time": "2022-03-02T18:15:04.628Z"
   },
   {
    "duration": -540,
    "start_time": "2022-03-02T18:15:04.640Z"
   },
   {
    "duration": -554,
    "start_time": "2022-03-02T18:15:04.655Z"
   },
   {
    "duration": -568,
    "start_time": "2022-03-02T18:15:04.671Z"
   },
   {
    "duration": -583,
    "start_time": "2022-03-02T18:15:04.687Z"
   },
   {
    "duration": -592,
    "start_time": "2022-03-02T18:15:04.698Z"
   },
   {
    "duration": -605,
    "start_time": "2022-03-02T18:15:04.712Z"
   },
   {
    "duration": -614,
    "start_time": "2022-03-02T18:15:04.722Z"
   },
   {
    "duration": -624,
    "start_time": "2022-03-02T18:15:04.733Z"
   },
   {
    "duration": -634,
    "start_time": "2022-03-02T18:15:04.745Z"
   },
   {
    "duration": -642,
    "start_time": "2022-03-02T18:15:04.754Z"
   },
   {
    "duration": -650,
    "start_time": "2022-03-02T18:15:04.764Z"
   },
   {
    "duration": -662,
    "start_time": "2022-03-02T18:15:04.777Z"
   },
   {
    "duration": -669,
    "start_time": "2022-03-02T18:15:04.786Z"
   },
   {
    "duration": -645,
    "start_time": "2022-03-02T18:15:04.796Z"
   },
   {
    "duration": -652,
    "start_time": "2022-03-02T18:15:04.805Z"
   },
   {
    "duration": -660,
    "start_time": "2022-03-02T18:15:04.814Z"
   },
   {
    "duration": -671,
    "start_time": "2022-03-02T18:15:04.827Z"
   },
   {
    "duration": -678,
    "start_time": "2022-03-02T18:15:04.836Z"
   },
   {
    "duration": -688,
    "start_time": "2022-03-02T18:15:04.847Z"
   },
   {
    "duration": -699,
    "start_time": "2022-03-02T18:15:04.860Z"
   },
   {
    "duration": -706,
    "start_time": "2022-03-02T18:15:04.869Z"
   },
   {
    "duration": -717,
    "start_time": "2022-03-02T18:15:04.881Z"
   },
   {
    "duration": -728,
    "start_time": "2022-03-02T18:15:04.894Z"
   },
   {
    "duration": -735,
    "start_time": "2022-03-02T18:15:04.903Z"
   },
   {
    "duration": -745,
    "start_time": "2022-03-02T18:15:04.914Z"
   },
   {
    "duration": -759,
    "start_time": "2022-03-02T18:15:04.930Z"
   },
   {
    "duration": -771,
    "start_time": "2022-03-02T18:15:04.943Z"
   },
   {
    "duration": -779,
    "start_time": "2022-03-02T18:15:04.953Z"
   },
   {
    "duration": -786,
    "start_time": "2022-03-02T18:15:04.962Z"
   },
   {
    "duration": -793,
    "start_time": "2022-03-02T18:15:04.970Z"
   },
   {
    "duration": -802,
    "start_time": "2022-03-02T18:15:04.981Z"
   },
   {
    "duration": -815,
    "start_time": "2022-03-02T18:15:04.995Z"
   },
   {
    "duration": -824,
    "start_time": "2022-03-02T18:15:05.006Z"
   },
   {
    "duration": -836,
    "start_time": "2022-03-02T18:15:05.020Z"
   },
   {
    "duration": -848,
    "start_time": "2022-03-02T18:15:05.033Z"
   },
   {
    "duration": -860,
    "start_time": "2022-03-02T18:15:05.047Z"
   },
   {
    "duration": -874,
    "start_time": "2022-03-02T18:15:05.062Z"
   },
   {
    "duration": -883,
    "start_time": "2022-03-02T18:15:05.073Z"
   },
   {
    "duration": -832,
    "start_time": "2022-03-02T18:15:05.085Z"
   },
   {
    "duration": -848,
    "start_time": "2022-03-02T18:15:05.103Z"
   },
   {
    "duration": -859,
    "start_time": "2022-03-02T18:15:05.115Z"
   },
   {
    "duration": -871,
    "start_time": "2022-03-02T18:15:05.129Z"
   },
   {
    "duration": -886,
    "start_time": "2022-03-02T18:15:05.146Z"
   },
   {
    "duration": -901,
    "start_time": "2022-03-02T18:15:05.162Z"
   },
   {
    "duration": -912,
    "start_time": "2022-03-02T18:15:05.175Z"
   },
   {
    "duration": -928,
    "start_time": "2022-03-02T18:15:05.193Z"
   },
   {
    "duration": -946,
    "start_time": "2022-03-02T18:15:05.212Z"
   },
   {
    "duration": -956,
    "start_time": "2022-03-02T18:15:05.224Z"
   },
   {
    "duration": -968,
    "start_time": "2022-03-02T18:15:05.238Z"
   },
   {
    "duration": -981,
    "start_time": "2022-03-02T18:15:05.252Z"
   },
   {
    "duration": -993,
    "start_time": "2022-03-02T18:15:05.266Z"
   },
   {
    "duration": -1006,
    "start_time": "2022-03-02T18:15:05.280Z"
   },
   {
    "duration": -1019,
    "start_time": "2022-03-02T18:15:05.295Z"
   },
   {
    "duration": -1026,
    "start_time": "2022-03-02T18:15:05.303Z"
   },
   {
    "duration": -1039,
    "start_time": "2022-03-02T18:15:05.318Z"
   },
   {
    "duration": -1054,
    "start_time": "2022-03-02T18:15:05.334Z"
   },
   {
    "duration": -1069,
    "start_time": "2022-03-02T18:15:05.351Z"
   },
   {
    "duration": -1082,
    "start_time": "2022-03-02T18:15:05.365Z"
   },
   {
    "duration": -1099,
    "start_time": "2022-03-02T18:15:05.384Z"
   },
   {
    "duration": -1115,
    "start_time": "2022-03-02T18:15:05.401Z"
   },
   {
    "duration": -1101,
    "start_time": "2022-03-02T18:15:05.452Z"
   },
   {
    "duration": -1115,
    "start_time": "2022-03-02T18:15:05.468Z"
   },
   {
    "duration": -1126,
    "start_time": "2022-03-02T18:15:05.480Z"
   },
   {
    "duration": -1141,
    "start_time": "2022-03-02T18:15:05.496Z"
   },
   {
    "duration": -1154,
    "start_time": "2022-03-02T18:15:05.511Z"
   },
   {
    "duration": -1163,
    "start_time": "2022-03-02T18:15:05.522Z"
   },
   {
    "duration": -1177,
    "start_time": "2022-03-02T18:15:05.537Z"
   },
   {
    "duration": -1190,
    "start_time": "2022-03-02T18:15:05.551Z"
   },
   {
    "duration": -1201,
    "start_time": "2022-03-02T18:15:05.564Z"
   },
   {
    "duration": -1214,
    "start_time": "2022-03-02T18:15:05.578Z"
   },
   {
    "duration": -1224,
    "start_time": "2022-03-02T18:15:05.589Z"
   },
   {
    "duration": -1234,
    "start_time": "2022-03-02T18:15:05.601Z"
   },
   {
    "duration": -1244,
    "start_time": "2022-03-02T18:15:05.612Z"
   },
   {
    "duration": -1252,
    "start_time": "2022-03-02T18:15:05.622Z"
   },
   {
    "duration": -1265,
    "start_time": "2022-03-02T18:15:05.636Z"
   },
   {
    "duration": -1274,
    "start_time": "2022-03-02T18:15:05.646Z"
   },
   {
    "duration": -1285,
    "start_time": "2022-03-02T18:15:05.659Z"
   },
   {
    "duration": 12,
    "start_time": "2022-03-02T18:15:34.638Z"
   },
   {
    "duration": 5,
    "start_time": "2022-03-02T18:17:23.392Z"
   },
   {
    "duration": 12,
    "start_time": "2022-03-02T18:18:20.963Z"
   },
   {
    "duration": 10,
    "start_time": "2022-03-02T18:18:21.406Z"
   },
   {
    "duration": 9,
    "start_time": "2022-03-02T18:18:24.355Z"
   },
   {
    "duration": 4,
    "start_time": "2022-03-02T18:18:24.960Z"
   },
   {
    "duration": 5,
    "start_time": "2022-03-02T19:01:49.458Z"
   },
   {
    "duration": 834,
    "start_time": "2022-03-02T19:01:49.468Z"
   },
   {
    "duration": 71,
    "start_time": "2022-03-02T19:01:50.305Z"
   },
   {
    "duration": 22,
    "start_time": "2022-03-02T19:01:50.379Z"
   },
   {
    "duration": 7,
    "start_time": "2022-03-02T19:01:50.404Z"
   },
   {
    "duration": 46,
    "start_time": "2022-03-02T19:01:50.414Z"
   },
   {
    "duration": 44,
    "start_time": "2022-03-02T19:01:50.463Z"
   },
   {
    "duration": 42,
    "start_time": "2022-03-02T19:01:50.510Z"
   },
   {
    "duration": 9,
    "start_time": "2022-03-02T19:01:50.556Z"
   },
   {
    "duration": 12,
    "start_time": "2022-03-02T19:01:50.568Z"
   },
   {
    "duration": 9,
    "start_time": "2022-03-02T19:01:50.583Z"
   },
   {
    "duration": 18,
    "start_time": "2022-03-02T19:01:50.595Z"
   },
   {
    "duration": 8,
    "start_time": "2022-03-02T19:01:50.652Z"
   },
   {
    "duration": 7,
    "start_time": "2022-03-02T19:01:50.662Z"
   },
   {
    "duration": 11,
    "start_time": "2022-03-02T19:01:50.671Z"
   },
   {
    "duration": 10,
    "start_time": "2022-03-02T19:01:50.684Z"
   },
   {
    "duration": 5,
    "start_time": "2022-03-02T19:01:50.696Z"
   },
   {
    "duration": 55,
    "start_time": "2022-03-02T19:01:50.703Z"
   },
   {
    "duration": 9,
    "start_time": "2022-03-02T19:01:50.761Z"
   },
   {
    "duration": 16,
    "start_time": "2022-03-02T19:01:50.773Z"
   },
   {
    "duration": 10,
    "start_time": "2022-03-02T19:01:50.791Z"
   },
   {
    "duration": 48,
    "start_time": "2022-03-02T19:01:50.804Z"
   },
   {
    "duration": 9,
    "start_time": "2022-03-02T19:01:50.854Z"
   },
   {
    "duration": 14,
    "start_time": "2022-03-02T19:01:50.869Z"
   },
   {
    "duration": 4,
    "start_time": "2022-03-02T19:01:50.886Z"
   },
   {
    "duration": 66,
    "start_time": "2022-03-02T19:01:50.893Z"
   },
   {
    "duration": 10,
    "start_time": "2022-03-02T19:01:50.961Z"
   },
   {
    "duration": 10,
    "start_time": "2022-03-02T19:01:50.973Z"
   },
   {
    "duration": 17,
    "start_time": "2022-03-02T19:01:50.985Z"
   },
   {
    "duration": 10,
    "start_time": "2022-03-02T19:01:51.004Z"
   },
   {
    "duration": 4,
    "start_time": "2022-03-02T19:01:51.052Z"
   },
   {
    "duration": 15,
    "start_time": "2022-03-02T19:01:51.059Z"
   },
   {
    "duration": 9,
    "start_time": "2022-03-02T19:01:51.076Z"
   },
   {
    "duration": 8,
    "start_time": "2022-03-02T19:01:51.087Z"
   },
   {
    "duration": 4,
    "start_time": "2022-03-02T19:01:51.097Z"
   },
   {
    "duration": 62,
    "start_time": "2022-03-02T19:01:51.104Z"
   },
   {
    "duration": 4,
    "start_time": "2022-03-02T19:01:51.169Z"
   },
   {
    "duration": 5,
    "start_time": "2022-03-02T19:01:51.176Z"
   },
   {
    "duration": 5,
    "start_time": "2022-03-02T19:01:51.183Z"
   },
   {
    "duration": 9,
    "start_time": "2022-03-02T19:01:51.191Z"
   },
   {
    "duration": 53,
    "start_time": "2022-03-02T19:01:51.203Z"
   },
   {
    "duration": 8,
    "start_time": "2022-03-02T19:01:51.258Z"
   },
   {
    "duration": 5,
    "start_time": "2022-03-02T19:01:51.268Z"
   },
   {
    "duration": 8,
    "start_time": "2022-03-02T19:01:51.276Z"
   },
   {
    "duration": 15,
    "start_time": "2022-03-02T19:01:51.287Z"
   },
   {
    "duration": 49,
    "start_time": "2022-03-02T19:01:51.304Z"
   },
   {
    "duration": 27,
    "start_time": "2022-03-02T19:01:51.356Z"
   },
   {
    "duration": 24,
    "start_time": "2022-03-02T19:01:51.385Z"
   },
   {
    "duration": 43,
    "start_time": "2022-03-02T19:01:51.412Z"
   },
   {
    "duration": 8,
    "start_time": "2022-03-02T19:01:51.457Z"
   },
   {
    "duration": 10,
    "start_time": "2022-03-02T19:01:51.467Z"
   },
   {
    "duration": 22,
    "start_time": "2022-03-02T19:01:51.480Z"
   },
   {
    "duration": 7,
    "start_time": "2022-03-02T19:01:51.504Z"
   },
   {
    "duration": 48,
    "start_time": "2022-03-02T19:01:51.513Z"
   },
   {
    "duration": 6,
    "start_time": "2022-03-02T19:01:51.564Z"
   },
   {
    "duration": 7,
    "start_time": "2022-03-02T19:01:51.573Z"
   },
   {
    "duration": 21,
    "start_time": "2022-03-02T19:01:51.582Z"
   },
   {
    "duration": 47,
    "start_time": "2022-03-02T19:01:51.605Z"
   },
   {
    "duration": 16,
    "start_time": "2022-03-02T19:01:51.655Z"
   },
   {
    "duration": 17,
    "start_time": "2022-03-02T19:01:51.673Z"
   },
   {
    "duration": 10,
    "start_time": "2022-03-02T19:01:51.693Z"
   },
   {
    "duration": 7,
    "start_time": "2022-03-02T19:01:51.706Z"
   },
   {
    "duration": 53,
    "start_time": "2022-03-02T19:01:51.753Z"
   },
   {
    "duration": 70,
    "start_time": "2022-03-02T19:01:51.809Z"
   },
   {
    "duration": 5,
    "start_time": "2022-03-02T19:01:51.881Z"
   },
   {
    "duration": 15,
    "start_time": "2022-03-02T19:01:51.889Z"
   },
   {
    "duration": 7,
    "start_time": "2022-03-02T19:01:51.906Z"
   },
   {
    "duration": 38,
    "start_time": "2022-03-02T19:01:51.915Z"
   },
   {
    "duration": 7,
    "start_time": "2022-03-02T19:01:51.962Z"
   },
   {
    "duration": 10,
    "start_time": "2022-03-02T19:01:51.972Z"
   },
   {
    "duration": 7,
    "start_time": "2022-03-02T19:01:51.984Z"
   },
   {
    "duration": 7,
    "start_time": "2022-03-02T19:01:51.993Z"
   },
   {
    "duration": 86,
    "start_time": "2022-03-02T19:01:52.001Z"
   },
   {
    "duration": 9,
    "start_time": "2022-03-02T19:01:52.090Z"
   },
   {
    "duration": 5,
    "start_time": "2022-03-02T19:01:52.102Z"
   },
   {
    "duration": 7,
    "start_time": "2022-03-02T19:01:52.109Z"
   },
   {
    "duration": 635,
    "start_time": "2022-03-02T19:01:52.119Z"
   },
   {
    "duration": 11,
    "start_time": "2022-03-02T19:01:52.756Z"
   },
   {
    "duration": 8,
    "start_time": "2022-03-02T19:01:52.769Z"
   },
   {
    "duration": 8,
    "start_time": "2022-03-02T19:01:52.779Z"
   },
   {
    "duration": 496,
    "start_time": "2022-03-02T19:01:52.789Z"
   },
   {
    "duration": 23,
    "start_time": "2022-03-02T19:01:53.287Z"
   },
   {
    "duration": 47,
    "start_time": "2022-03-02T19:01:53.312Z"
   },
   {
    "duration": 24,
    "start_time": "2022-03-02T19:01:53.361Z"
   },
   {
    "duration": 7,
    "start_time": "2022-03-02T19:01:53.387Z"
   },
   {
    "duration": 6,
    "start_time": "2022-03-02T19:01:53.396Z"
   },
   {
    "duration": 64,
    "start_time": "2022-03-02T19:01:53.404Z"
   },
   {
    "duration": 5,
    "start_time": "2022-03-02T19:01:53.471Z"
   },
   {
    "duration": 6,
    "start_time": "2022-03-02T19:01:53.479Z"
   },
   {
    "duration": 14,
    "start_time": "2022-03-02T19:01:53.487Z"
   },
   {
    "duration": 13,
    "start_time": "2022-03-02T19:01:53.504Z"
   },
   {
    "duration": 34,
    "start_time": "2022-03-02T19:01:53.520Z"
   },
   {
    "duration": 8,
    "start_time": "2022-03-02T19:01:53.557Z"
   },
   {
    "duration": 5,
    "start_time": "2022-03-02T19:01:53.568Z"
   },
   {
    "duration": 10,
    "start_time": "2022-03-02T19:01:53.576Z"
   },
   {
    "duration": 62,
    "start_time": "2022-03-02T19:01:53.589Z"
   },
   {
    "duration": 7,
    "start_time": "2022-03-02T19:01:53.653Z"
   },
   {
    "duration": 8,
    "start_time": "2022-03-02T19:01:53.663Z"
   },
   {
    "duration": 5,
    "start_time": "2022-03-02T19:01:53.673Z"
   },
   {
    "duration": 11,
    "start_time": "2022-03-02T19:01:53.680Z"
   },
   {
    "duration": 12,
    "start_time": "2022-03-02T19:01:53.693Z"
   },
   {
    "duration": 51,
    "start_time": "2022-03-02T19:01:53.707Z"
   },
   {
    "duration": 12,
    "start_time": "2022-03-02T19:01:53.760Z"
   },
   {
    "duration": 21,
    "start_time": "2022-03-02T19:01:53.774Z"
   },
   {
    "duration": 20,
    "start_time": "2022-03-02T19:01:53.798Z"
   },
   {
    "duration": 46,
    "start_time": "2022-03-02T19:01:53.820Z"
   },
   {
    "duration": 27,
    "start_time": "2022-03-02T19:01:53.869Z"
   },
   {
    "duration": 289,
    "start_time": "2022-03-02T19:01:53.898Z"
   },
   {
    "duration": 16,
    "start_time": "2022-03-02T19:01:54.189Z"
   },
   {
    "duration": 21,
    "start_time": "2022-03-02T19:01:54.207Z"
   },
   {
    "duration": 38,
    "start_time": "2022-03-02T19:01:54.231Z"
   },
   {
    "duration": 18,
    "start_time": "2022-03-02T19:01:54.271Z"
   },
   {
    "duration": 93,
    "start_time": "2022-03-02T19:01:54.291Z"
   },
   {
    "duration": 267,
    "start_time": "2022-03-02T19:01:54.386Z"
   },
   {
    "duration": 20,
    "start_time": "2022-03-02T19:01:54.656Z"
   },
   {
    "duration": 20,
    "start_time": "2022-03-02T19:01:54.678Z"
   },
   {
    "duration": 13,
    "start_time": "2022-03-02T19:01:54.700Z"
   },
   {
    "duration": 62,
    "start_time": "2022-03-02T19:01:54.716Z"
   },
   {
    "duration": 326,
    "start_time": "2022-03-02T19:04:39.419Z"
   },
   {
    "duration": 48,
    "start_time": "2022-03-02T19:04:42.664Z"
   },
   {
    "duration": 6,
    "start_time": "2022-03-02T19:08:53.103Z"
   },
   {
    "duration": 916,
    "start_time": "2022-03-02T19:08:53.113Z"
   },
   {
    "duration": 65,
    "start_time": "2022-03-02T19:08:54.053Z"
   },
   {
    "duration": 30,
    "start_time": "2022-03-02T19:08:54.121Z"
   },
   {
    "duration": 4,
    "start_time": "2022-03-02T19:08:54.154Z"
   },
   {
    "duration": 17,
    "start_time": "2022-03-02T19:08:54.160Z"
   },
   {
    "duration": 44,
    "start_time": "2022-03-02T19:08:54.179Z"
   },
   {
    "duration": 22,
    "start_time": "2022-03-02T19:08:54.251Z"
   },
   {
    "duration": 9,
    "start_time": "2022-03-02T19:08:54.277Z"
   },
   {
    "duration": 14,
    "start_time": "2022-03-02T19:08:54.289Z"
   },
   {
    "duration": 11,
    "start_time": "2022-03-02T19:08:54.305Z"
   },
   {
    "duration": 19,
    "start_time": "2022-03-02T19:08:54.352Z"
   },
   {
    "duration": 10,
    "start_time": "2022-03-02T19:08:54.373Z"
   },
   {
    "duration": 8,
    "start_time": "2022-03-02T19:08:54.385Z"
   },
   {
    "duration": 7,
    "start_time": "2022-03-02T19:08:54.395Z"
   },
   {
    "duration": 52,
    "start_time": "2022-03-02T19:08:54.404Z"
   },
   {
    "duration": 5,
    "start_time": "2022-03-02T19:08:54.458Z"
   },
   {
    "duration": 11,
    "start_time": "2022-03-02T19:08:54.465Z"
   },
   {
    "duration": 9,
    "start_time": "2022-03-02T19:08:54.479Z"
   },
   {
    "duration": 15,
    "start_time": "2022-03-02T19:08:54.491Z"
   },
   {
    "duration": 48,
    "start_time": "2022-03-02T19:08:54.508Z"
   },
   {
    "duration": 12,
    "start_time": "2022-03-02T19:08:54.558Z"
   },
   {
    "duration": 8,
    "start_time": "2022-03-02T19:08:54.572Z"
   },
   {
    "duration": 14,
    "start_time": "2022-03-02T19:08:54.582Z"
   },
   {
    "duration": 6,
    "start_time": "2022-03-02T19:08:54.598Z"
   },
   {
    "duration": 78,
    "start_time": "2022-03-02T19:08:54.607Z"
   },
   {
    "duration": 9,
    "start_time": "2022-03-02T19:08:54.693Z"
   },
   {
    "duration": 10,
    "start_time": "2022-03-02T19:08:54.706Z"
   },
   {
    "duration": 40,
    "start_time": "2022-03-02T19:08:54.718Z"
   },
   {
    "duration": 11,
    "start_time": "2022-03-02T19:08:54.761Z"
   },
   {
    "duration": 5,
    "start_time": "2022-03-02T19:08:54.774Z"
   },
   {
    "duration": 12,
    "start_time": "2022-03-02T19:08:54.782Z"
   },
   {
    "duration": 9,
    "start_time": "2022-03-02T19:08:54.797Z"
   },
   {
    "duration": 45,
    "start_time": "2022-03-02T19:08:54.808Z"
   },
   {
    "duration": 5,
    "start_time": "2022-03-02T19:08:54.855Z"
   },
   {
    "duration": 11,
    "start_time": "2022-03-02T19:08:54.862Z"
   },
   {
    "duration": 4,
    "start_time": "2022-03-02T19:08:54.876Z"
   },
   {
    "duration": 5,
    "start_time": "2022-03-02T19:08:54.883Z"
   },
   {
    "duration": 10,
    "start_time": "2022-03-02T19:08:54.890Z"
   },
   {
    "duration": 56,
    "start_time": "2022-03-02T19:08:54.903Z"
   },
   {
    "duration": 8,
    "start_time": "2022-03-02T19:08:54.961Z"
   },
   {
    "duration": 9,
    "start_time": "2022-03-02T19:08:54.971Z"
   },
   {
    "duration": 9,
    "start_time": "2022-03-02T19:08:54.982Z"
   },
   {
    "duration": 10,
    "start_time": "2022-03-02T19:08:54.993Z"
   },
   {
    "duration": 49,
    "start_time": "2022-03-02T19:08:55.006Z"
   },
   {
    "duration": 18,
    "start_time": "2022-03-02T19:08:55.057Z"
   },
   {
    "duration": 29,
    "start_time": "2022-03-02T19:08:55.077Z"
   },
   {
    "duration": 57,
    "start_time": "2022-03-02T19:08:55.108Z"
   },
   {
    "duration": 7,
    "start_time": "2022-03-02T19:08:55.167Z"
   },
   {
    "duration": 5,
    "start_time": "2022-03-02T19:08:55.176Z"
   },
   {
    "duration": 7,
    "start_time": "2022-03-02T19:08:55.183Z"
   },
   {
    "duration": 22,
    "start_time": "2022-03-02T19:08:55.192Z"
   },
   {
    "duration": 6,
    "start_time": "2022-03-02T19:08:55.251Z"
   },
   {
    "duration": 18,
    "start_time": "2022-03-02T19:08:55.260Z"
   },
   {
    "duration": 6,
    "start_time": "2022-03-02T19:08:55.280Z"
   },
   {
    "duration": 7,
    "start_time": "2022-03-02T19:08:55.288Z"
   },
   {
    "duration": 58,
    "start_time": "2022-03-02T19:08:55.297Z"
   },
   {
    "duration": 7,
    "start_time": "2022-03-02T19:08:55.357Z"
   },
   {
    "duration": 16,
    "start_time": "2022-03-02T19:08:55.366Z"
   },
   {
    "duration": 16,
    "start_time": "2022-03-02T19:08:55.385Z"
   },
   {
    "duration": 48,
    "start_time": "2022-03-02T19:08:55.403Z"
   },
   {
    "duration": 8,
    "start_time": "2022-03-02T19:08:55.453Z"
   },
   {
    "duration": 44,
    "start_time": "2022-03-02T19:08:55.464Z"
   },
   {
    "duration": 72,
    "start_time": "2022-03-02T19:08:55.511Z"
   },
   {
    "duration": 4,
    "start_time": "2022-03-02T19:08:55.585Z"
   },
   {
    "duration": 13,
    "start_time": "2022-03-02T19:08:55.591Z"
   },
   {
    "duration": 6,
    "start_time": "2022-03-02T19:08:55.607Z"
   },
   {
    "duration": 43,
    "start_time": "2022-03-02T19:08:55.615Z"
   },
   {
    "duration": 6,
    "start_time": "2022-03-02T19:08:55.660Z"
   },
   {
    "duration": 8,
    "start_time": "2022-03-02T19:08:55.669Z"
   },
   {
    "duration": 7,
    "start_time": "2022-03-02T19:08:55.679Z"
   },
   {
    "duration": 5,
    "start_time": "2022-03-02T19:08:55.689Z"
   },
   {
    "duration": 83,
    "start_time": "2022-03-02T19:08:55.696Z"
   },
   {
    "duration": 9,
    "start_time": "2022-03-02T19:08:55.782Z"
   },
   {
    "duration": 6,
    "start_time": "2022-03-02T19:08:55.793Z"
   },
   {
    "duration": 7,
    "start_time": "2022-03-02T19:08:55.801Z"
   },
   {
    "duration": 622,
    "start_time": "2022-03-02T19:08:55.810Z"
   },
   {
    "duration": 18,
    "start_time": "2022-03-02T19:08:56.434Z"
   },
   {
    "duration": 5,
    "start_time": "2022-03-02T19:08:56.454Z"
   },
   {
    "duration": 11,
    "start_time": "2022-03-02T19:08:56.461Z"
   },
   {
    "duration": 436,
    "start_time": "2022-03-02T19:08:56.482Z"
   },
   {
    "duration": 364,
    "start_time": "2022-03-02T19:08:56.922Z"
   },
   {
    "duration": 384,
    "start_time": "2022-03-02T19:08:56.906Z"
   },
   {
    "duration": 362,
    "start_time": "2022-03-02T19:08:56.929Z"
   },
   {
    "duration": 351,
    "start_time": "2022-03-02T19:08:56.942Z"
   },
   {
    "duration": 335,
    "start_time": "2022-03-02T19:08:56.959Z"
   },
   {
    "duration": 321,
    "start_time": "2022-03-02T19:08:56.975Z"
   },
   {
    "duration": 266,
    "start_time": "2022-03-02T19:08:57.031Z"
   },
   {
    "duration": 255,
    "start_time": "2022-03-02T19:08:57.044Z"
   },
   {
    "duration": 240,
    "start_time": "2022-03-02T19:08:57.060Z"
   },
   {
    "duration": 227,
    "start_time": "2022-03-02T19:08:57.075Z"
   },
   {
    "duration": 212,
    "start_time": "2022-03-02T19:08:57.092Z"
   },
   {
    "duration": 197,
    "start_time": "2022-03-02T19:08:57.108Z"
   },
   {
    "duration": 183,
    "start_time": "2022-03-02T19:08:57.123Z"
   },
   {
    "duration": 172,
    "start_time": "2022-03-02T19:08:57.136Z"
   },
   {
    "duration": 160,
    "start_time": "2022-03-02T19:08:57.149Z"
   },
   {
    "duration": 142,
    "start_time": "2022-03-02T19:08:57.169Z"
   },
   {
    "duration": 125,
    "start_time": "2022-03-02T19:08:57.187Z"
   },
   {
    "duration": 109,
    "start_time": "2022-03-02T19:08:57.205Z"
   },
   {
    "duration": 87,
    "start_time": "2022-03-02T19:08:57.228Z"
   },
   {
    "duration": 68,
    "start_time": "2022-03-02T19:08:57.248Z"
   },
   {
    "duration": 56,
    "start_time": "2022-03-02T19:08:57.262Z"
   },
   {
    "duration": 38,
    "start_time": "2022-03-02T19:08:57.281Z"
   },
   {
    "duration": 27,
    "start_time": "2022-03-02T19:08:57.293Z"
   },
   {
    "duration": 12,
    "start_time": "2022-03-02T19:08:57.310Z"
   },
   {
    "duration": -5,
    "start_time": "2022-03-02T19:08:57.328Z"
   },
   {
    "duration": -22,
    "start_time": "2022-03-02T19:08:57.346Z"
   },
   {
    "duration": -33,
    "start_time": "2022-03-02T19:08:57.359Z"
   },
   {
    "duration": -30,
    "start_time": "2022-03-02T19:08:57.381Z"
   },
   {
    "duration": -47,
    "start_time": "2022-03-02T19:08:57.399Z"
   },
   {
    "duration": -62,
    "start_time": "2022-03-02T19:08:57.416Z"
   },
   {
    "duration": -77,
    "start_time": "2022-03-02T19:08:57.432Z"
   },
   {
    "duration": -95,
    "start_time": "2022-03-02T19:08:57.452Z"
   },
   {
    "duration": -112,
    "start_time": "2022-03-02T19:08:57.470Z"
   },
   {
    "duration": -129,
    "start_time": "2022-03-02T19:08:57.488Z"
   },
   {
    "duration": -146,
    "start_time": "2022-03-02T19:08:57.507Z"
   },
   {
    "duration": -162,
    "start_time": "2022-03-02T19:08:57.524Z"
   },
   {
    "duration": -178,
    "start_time": "2022-03-02T19:08:57.542Z"
   },
   {
    "duration": -196,
    "start_time": "2022-03-02T19:08:57.561Z"
   },
   {
    "duration": -219,
    "start_time": "2022-03-02T19:08:57.586Z"
   },
   {
    "duration": 17,
    "start_time": "2022-03-02T19:09:08.410Z"
   },
   {
    "duration": 230,
    "start_time": "2022-03-02T19:09:09.867Z"
   },
   {
    "duration": 242,
    "start_time": "2022-03-02T19:09:16.056Z"
   },
   {
    "duration": 224,
    "start_time": "2022-03-02T19:09:37.233Z"
   },
   {
    "duration": 225,
    "start_time": "2022-03-02T19:09:37.724Z"
   },
   {
    "duration": 5,
    "start_time": "2022-03-02T19:09:46.318Z"
   },
   {
    "duration": 876,
    "start_time": "2022-03-02T19:09:46.326Z"
   },
   {
    "duration": 56,
    "start_time": "2022-03-02T19:09:47.205Z"
   },
   {
    "duration": 22,
    "start_time": "2022-03-02T19:09:47.264Z"
   },
   {
    "duration": 7,
    "start_time": "2022-03-02T19:09:47.288Z"
   },
   {
    "duration": 16,
    "start_time": "2022-03-02T19:09:47.297Z"
   },
   {
    "duration": 74,
    "start_time": "2022-03-02T19:09:47.316Z"
   },
   {
    "duration": 20,
    "start_time": "2022-03-02T19:09:47.393Z"
   },
   {
    "duration": 9,
    "start_time": "2022-03-02T19:09:47.416Z"
   },
   {
    "duration": 9,
    "start_time": "2022-03-02T19:09:47.452Z"
   },
   {
    "duration": 11,
    "start_time": "2022-03-02T19:09:47.463Z"
   },
   {
    "duration": 20,
    "start_time": "2022-03-02T19:09:47.476Z"
   },
   {
    "duration": 10,
    "start_time": "2022-03-02T19:09:47.498Z"
   },
   {
    "duration": 43,
    "start_time": "2022-03-02T19:09:47.511Z"
   },
   {
    "duration": 8,
    "start_time": "2022-03-02T19:09:47.556Z"
   },
   {
    "duration": 9,
    "start_time": "2022-03-02T19:09:47.566Z"
   },
   {
    "duration": 4,
    "start_time": "2022-03-02T19:09:47.577Z"
   },
   {
    "duration": 9,
    "start_time": "2022-03-02T19:09:47.583Z"
   },
   {
    "duration": 56,
    "start_time": "2022-03-02T19:09:47.598Z"
   },
   {
    "duration": 18,
    "start_time": "2022-03-02T19:09:47.658Z"
   },
   {
    "duration": 10,
    "start_time": "2022-03-02T19:09:47.679Z"
   },
   {
    "duration": 12,
    "start_time": "2022-03-02T19:09:47.691Z"
   },
   {
    "duration": 4,
    "start_time": "2022-03-02T19:09:47.705Z"
   },
   {
    "duration": 49,
    "start_time": "2022-03-02T19:09:47.711Z"
   },
   {
    "duration": 6,
    "start_time": "2022-03-02T19:09:47.763Z"
   },
   {
    "duration": 37,
    "start_time": "2022-03-02T19:09:47.771Z"
   },
   {
    "duration": 40,
    "start_time": "2022-03-02T19:09:47.811Z"
   },
   {
    "duration": 10,
    "start_time": "2022-03-02T19:09:47.853Z"
   },
   {
    "duration": 15,
    "start_time": "2022-03-02T19:09:47.865Z"
   },
   {
    "duration": 13,
    "start_time": "2022-03-02T19:09:47.883Z"
   },
   {
    "duration": 5,
    "start_time": "2022-03-02T19:09:47.898Z"
   },
   {
    "duration": 49,
    "start_time": "2022-03-02T19:09:47.905Z"
   },
   {
    "duration": 9,
    "start_time": "2022-03-02T19:09:47.956Z"
   },
   {
    "duration": 9,
    "start_time": "2022-03-02T19:09:47.968Z"
   },
   {
    "duration": 4,
    "start_time": "2022-03-02T19:09:47.980Z"
   },
   {
    "duration": 13,
    "start_time": "2022-03-02T19:09:47.986Z"
   },
   {
    "duration": 3,
    "start_time": "2022-03-02T19:09:48.001Z"
   },
   {
    "duration": 45,
    "start_time": "2022-03-02T19:09:48.007Z"
   },
   {
    "duration": 6,
    "start_time": "2022-03-02T19:09:48.055Z"
   },
   {
    "duration": 8,
    "start_time": "2022-03-02T19:09:48.064Z"
   },
   {
    "duration": 9,
    "start_time": "2022-03-02T19:09:48.075Z"
   },
   {
    "duration": 10,
    "start_time": "2022-03-02T19:09:48.087Z"
   },
   {
    "duration": 5,
    "start_time": "2022-03-02T19:09:48.099Z"
   },
   {
    "duration": 9,
    "start_time": "2022-03-02T19:09:48.152Z"
   },
   {
    "duration": 8,
    "start_time": "2022-03-02T19:09:48.163Z"
   },
   {
    "duration": 17,
    "start_time": "2022-03-02T19:09:48.173Z"
   },
   {
    "duration": 67,
    "start_time": "2022-03-02T19:09:48.192Z"
   },
   {
    "duration": 27,
    "start_time": "2022-03-02T19:09:48.262Z"
   },
   {
    "duration": 8,
    "start_time": "2022-03-02T19:09:48.292Z"
   },
   {
    "duration": 5,
    "start_time": "2022-03-02T19:09:48.303Z"
   },
   {
    "duration": 47,
    "start_time": "2022-03-02T19:09:48.311Z"
   },
   {
    "duration": 26,
    "start_time": "2022-03-02T19:09:48.360Z"
   },
   {
    "duration": 9,
    "start_time": "2022-03-02T19:09:48.388Z"
   },
   {
    "duration": 56,
    "start_time": "2022-03-02T19:09:48.400Z"
   },
   {
    "duration": 7,
    "start_time": "2022-03-02T19:09:48.467Z"
   },
   {
    "duration": 8,
    "start_time": "2022-03-02T19:09:48.479Z"
   },
   {
    "duration": 23,
    "start_time": "2022-03-02T19:09:48.490Z"
   },
   {
    "duration": 9,
    "start_time": "2022-03-02T19:09:48.552Z"
   },
   {
    "duration": 16,
    "start_time": "2022-03-02T19:09:48.564Z"
   },
   {
    "duration": 17,
    "start_time": "2022-03-02T19:09:48.583Z"
   },
   {
    "duration": 52,
    "start_time": "2022-03-02T19:09:48.603Z"
   },
   {
    "duration": 8,
    "start_time": "2022-03-02T19:09:48.657Z"
   },
   {
    "duration": 41,
    "start_time": "2022-03-02T19:09:48.667Z"
   },
   {
    "duration": 80,
    "start_time": "2022-03-02T19:09:48.710Z"
   },
   {
    "duration": 4,
    "start_time": "2022-03-02T19:09:48.792Z"
   },
   {
    "duration": 16,
    "start_time": "2022-03-02T19:09:48.798Z"
   },
   {
    "duration": 34,
    "start_time": "2022-03-02T19:09:48.816Z"
   },
   {
    "duration": 11,
    "start_time": "2022-03-02T19:09:48.852Z"
   },
   {
    "duration": 6,
    "start_time": "2022-03-02T19:09:48.866Z"
   },
   {
    "duration": 11,
    "start_time": "2022-03-02T19:09:48.874Z"
   },
   {
    "duration": 7,
    "start_time": "2022-03-02T19:09:48.888Z"
   },
   {
    "duration": 6,
    "start_time": "2022-03-02T19:09:48.897Z"
   },
   {
    "duration": 35,
    "start_time": "2022-03-02T19:09:48.952Z"
   },
   {
    "duration": 10,
    "start_time": "2022-03-02T19:09:48.990Z"
   },
   {
    "duration": 5,
    "start_time": "2022-03-02T19:09:49.003Z"
   },
   {
    "duration": 41,
    "start_time": "2022-03-02T19:09:49.010Z"
   },
   {
    "duration": 590,
    "start_time": "2022-03-02T19:09:49.054Z"
   },
   {
    "duration": 9,
    "start_time": "2022-03-02T19:09:49.651Z"
   },
   {
    "duration": 5,
    "start_time": "2022-03-02T19:09:49.662Z"
   },
   {
    "duration": 6,
    "start_time": "2022-03-02T19:09:49.669Z"
   },
   {
    "duration": 442,
    "start_time": "2022-03-02T19:09:49.677Z"
   },
   {
    "duration": 18,
    "start_time": "2022-03-02T19:09:50.121Z"
   },
   {
    "duration": 11,
    "start_time": "2022-03-02T19:09:50.152Z"
   },
   {
    "duration": 27,
    "start_time": "2022-03-02T19:09:50.165Z"
   },
   {
    "duration": 56,
    "start_time": "2022-03-02T19:09:50.195Z"
   },
   {
    "duration": 23,
    "start_time": "2022-03-02T19:09:50.254Z"
   },
   {
    "duration": 6,
    "start_time": "2022-03-02T19:09:50.279Z"
   },
   {
    "duration": 8,
    "start_time": "2022-03-02T19:09:50.288Z"
   },
   {
    "duration": 54,
    "start_time": "2022-03-02T19:09:50.298Z"
   },
   {
    "duration": 5,
    "start_time": "2022-03-02T19:09:50.354Z"
   },
   {
    "duration": 8,
    "start_time": "2022-03-02T19:09:50.361Z"
   },
   {
    "duration": 16,
    "start_time": "2022-03-02T19:09:50.371Z"
   },
   {
    "duration": 14,
    "start_time": "2022-03-02T19:09:50.389Z"
   },
   {
    "duration": 6,
    "start_time": "2022-03-02T19:09:50.404Z"
   },
   {
    "duration": 42,
    "start_time": "2022-03-02T19:09:50.412Z"
   },
   {
    "duration": 7,
    "start_time": "2022-03-02T19:09:50.457Z"
   },
   {
    "duration": 8,
    "start_time": "2022-03-02T19:09:50.466Z"
   },
   {
    "duration": 33,
    "start_time": "2022-03-02T19:09:50.476Z"
   },
   {
    "duration": 6,
    "start_time": "2022-03-02T19:09:50.512Z"
   },
   {
    "duration": 5,
    "start_time": "2022-03-02T19:09:50.551Z"
   },
   {
    "duration": 5,
    "start_time": "2022-03-02T19:09:50.558Z"
   },
   {
    "duration": 9,
    "start_time": "2022-03-02T19:09:50.566Z"
   },
   {
    "duration": 14,
    "start_time": "2022-03-02T19:09:50.577Z"
   },
   {
    "duration": 19,
    "start_time": "2022-03-02T19:09:50.593Z"
   },
   {
    "duration": 40,
    "start_time": "2022-03-02T19:09:50.614Z"
   },
   {
    "duration": 27,
    "start_time": "2022-03-02T19:09:50.657Z"
   },
   {
    "duration": 19,
    "start_time": "2022-03-02T19:09:50.686Z"
   },
   {
    "duration": 46,
    "start_time": "2022-03-02T19:09:50.707Z"
   },
   {
    "duration": 29,
    "start_time": "2022-03-02T19:09:50.756Z"
   },
   {
    "duration": 291,
    "start_time": "2022-03-02T19:09:50.787Z"
   },
   {
    "duration": 17,
    "start_time": "2022-03-02T19:09:51.080Z"
   },
   {
    "duration": 18,
    "start_time": "2022-03-02T19:09:51.100Z"
   },
   {
    "duration": 49,
    "start_time": "2022-03-02T19:09:51.121Z"
   },
   {
    "duration": 22,
    "start_time": "2022-03-02T19:09:51.173Z"
   },
   {
    "duration": 98,
    "start_time": "2022-03-02T19:09:51.197Z"
   },
   {
    "duration": 290,
    "start_time": "2022-03-02T19:09:51.298Z"
   },
   {
    "duration": 22,
    "start_time": "2022-03-02T19:09:51.591Z"
   },
   {
    "duration": 39,
    "start_time": "2022-03-02T19:09:51.615Z"
   },
   {
    "duration": 18,
    "start_time": "2022-03-02T19:09:51.657Z"
   },
   {
    "duration": 34,
    "start_time": "2022-03-02T19:09:51.677Z"
   },
   {
    "duration": 6,
    "start_time": "2022-03-02T19:15:58.773Z"
   },
   {
    "duration": 799,
    "start_time": "2022-03-02T19:15:58.781Z"
   },
   {
    "duration": 70,
    "start_time": "2022-03-02T19:15:59.584Z"
   },
   {
    "duration": 23,
    "start_time": "2022-03-02T19:15:59.657Z"
   },
   {
    "duration": 8,
    "start_time": "2022-03-02T19:15:59.682Z"
   },
   {
    "duration": 21,
    "start_time": "2022-03-02T19:15:59.693Z"
   },
   {
    "duration": 50,
    "start_time": "2022-03-02T19:15:59.753Z"
   },
   {
    "duration": 51,
    "start_time": "2022-03-02T19:15:59.807Z"
   },
   {
    "duration": 10,
    "start_time": "2022-03-02T19:15:59.861Z"
   },
   {
    "duration": 12,
    "start_time": "2022-03-02T19:15:59.874Z"
   },
   {
    "duration": 11,
    "start_time": "2022-03-02T19:15:59.889Z"
   },
   {
    "duration": 21,
    "start_time": "2022-03-02T19:15:59.951Z"
   },
   {
    "duration": 9,
    "start_time": "2022-03-02T19:15:59.974Z"
   },
   {
    "duration": 7,
    "start_time": "2022-03-02T19:15:59.985Z"
   },
   {
    "duration": 8,
    "start_time": "2022-03-02T19:15:59.994Z"
   },
   {
    "duration": 57,
    "start_time": "2022-03-02T19:16:00.005Z"
   },
   {
    "duration": 4,
    "start_time": "2022-03-02T19:16:00.065Z"
   },
   {
    "duration": 14,
    "start_time": "2022-03-02T19:16:00.072Z"
   },
   {
    "duration": 14,
    "start_time": "2022-03-02T19:16:00.091Z"
   },
   {
    "duration": 58,
    "start_time": "2022-03-02T19:16:00.109Z"
   },
   {
    "duration": 9,
    "start_time": "2022-03-02T19:16:00.169Z"
   },
   {
    "duration": 13,
    "start_time": "2022-03-02T19:16:00.181Z"
   },
   {
    "duration": 13,
    "start_time": "2022-03-02T19:16:00.196Z"
   },
   {
    "duration": 45,
    "start_time": "2022-03-02T19:16:00.211Z"
   },
   {
    "duration": 8,
    "start_time": "2022-03-02T19:16:00.259Z"
   },
   {
    "duration": 42,
    "start_time": "2022-03-02T19:16:00.270Z"
   },
   {
    "duration": 40,
    "start_time": "2022-03-02T19:16:00.314Z"
   },
   {
    "duration": 17,
    "start_time": "2022-03-02T19:16:00.356Z"
   },
   {
    "duration": 18,
    "start_time": "2022-03-02T19:16:00.376Z"
   },
   {
    "duration": 17,
    "start_time": "2022-03-02T19:16:00.396Z"
   },
   {
    "duration": 12,
    "start_time": "2022-03-02T19:16:00.415Z"
   },
   {
    "duration": 31,
    "start_time": "2022-03-02T19:16:00.429Z"
   },
   {
    "duration": 11,
    "start_time": "2022-03-02T19:16:00.463Z"
   },
   {
    "duration": 13,
    "start_time": "2022-03-02T19:16:00.477Z"
   },
   {
    "duration": 11,
    "start_time": "2022-03-02T19:16:00.492Z"
   },
   {
    "duration": 23,
    "start_time": "2022-03-02T19:16:00.505Z"
   },
   {
    "duration": 4,
    "start_time": "2022-03-02T19:16:00.551Z"
   },
   {
    "duration": 11,
    "start_time": "2022-03-02T19:16:00.558Z"
   },
   {
    "duration": 8,
    "start_time": "2022-03-02T19:16:00.572Z"
   },
   {
    "duration": 10,
    "start_time": "2022-03-02T19:16:00.583Z"
   },
   {
    "duration": 8,
    "start_time": "2022-03-02T19:16:00.595Z"
   },
   {
    "duration": 46,
    "start_time": "2022-03-02T19:16:00.605Z"
   },
   {
    "duration": 5,
    "start_time": "2022-03-02T19:16:00.654Z"
   },
   {
    "duration": 16,
    "start_time": "2022-03-02T19:16:00.661Z"
   },
   {
    "duration": 10,
    "start_time": "2022-03-02T19:16:00.680Z"
   },
   {
    "duration": 17,
    "start_time": "2022-03-02T19:16:00.693Z"
   },
   {
    "duration": 61,
    "start_time": "2022-03-02T19:16:00.713Z"
   },
   {
    "duration": 25,
    "start_time": "2022-03-02T19:16:00.777Z"
   },
   {
    "duration": 6,
    "start_time": "2022-03-02T19:16:00.804Z"
   },
   {
    "duration": 38,
    "start_time": "2022-03-02T19:16:00.813Z"
   },
   {
    "duration": 12,
    "start_time": "2022-03-02T19:16:00.854Z"
   },
   {
    "duration": 32,
    "start_time": "2022-03-02T19:16:00.868Z"
   },
   {
    "duration": 7,
    "start_time": "2022-03-02T19:16:00.902Z"
   },
   {
    "duration": 40,
    "start_time": "2022-03-02T19:16:00.911Z"
   },
   {
    "duration": 8,
    "start_time": "2022-03-02T19:16:00.959Z"
   },
   {
    "duration": 13,
    "start_time": "2022-03-02T19:16:00.970Z"
   },
   {
    "duration": 25,
    "start_time": "2022-03-02T19:16:00.986Z"
   },
   {
    "duration": 7,
    "start_time": "2022-03-02T19:16:01.013Z"
   },
   {
    "duration": 40,
    "start_time": "2022-03-02T19:16:01.022Z"
   },
   {
    "duration": 45,
    "start_time": "2022-03-02T19:16:01.065Z"
   },
   {
    "duration": 10,
    "start_time": "2022-03-02T19:16:01.113Z"
   },
   {
    "duration": 12,
    "start_time": "2022-03-02T19:16:01.126Z"
   },
   {
    "duration": 51,
    "start_time": "2022-03-02T19:16:01.140Z"
   },
   {
    "duration": 67,
    "start_time": "2022-03-02T19:16:01.193Z"
   },
   {
    "duration": 5,
    "start_time": "2022-03-02T19:16:01.263Z"
   },
   {
    "duration": 14,
    "start_time": "2022-03-02T19:16:01.270Z"
   },
   {
    "duration": 10,
    "start_time": "2022-03-02T19:16:01.287Z"
   },
   {
    "duration": 11,
    "start_time": "2022-03-02T19:16:01.300Z"
   },
   {
    "duration": 44,
    "start_time": "2022-03-02T19:16:01.313Z"
   },
   {
    "duration": 22,
    "start_time": "2022-03-02T19:16:01.359Z"
   },
   {
    "duration": 12,
    "start_time": "2022-03-02T19:16:01.383Z"
   },
   {
    "duration": 13,
    "start_time": "2022-03-02T19:16:01.398Z"
   },
   {
    "duration": 51,
    "start_time": "2022-03-02T19:16:01.413Z"
   },
   {
    "duration": 11,
    "start_time": "2022-03-02T19:16:01.467Z"
   },
   {
    "duration": 6,
    "start_time": "2022-03-02T19:16:01.480Z"
   },
   {
    "duration": 12,
    "start_time": "2022-03-02T19:16:01.488Z"
   },
   {
    "duration": 689,
    "start_time": "2022-03-02T19:16:01.502Z"
   },
   {
    "duration": 13,
    "start_time": "2022-03-02T19:16:02.193Z"
   },
   {
    "duration": 6,
    "start_time": "2022-03-02T19:16:02.209Z"
   },
   {
    "duration": 35,
    "start_time": "2022-03-02T19:16:02.217Z"
   },
   {
    "duration": 456,
    "start_time": "2022-03-02T19:16:02.254Z"
   },
   {
    "duration": 16,
    "start_time": "2022-03-02T19:16:02.713Z"
   },
   {
    "duration": 29,
    "start_time": "2022-03-02T19:16:02.732Z"
   },
   {
    "duration": 29,
    "start_time": "2022-03-02T19:16:02.763Z"
   },
   {
    "duration": 26,
    "start_time": "2022-03-02T19:16:02.794Z"
   },
   {
    "duration": 49,
    "start_time": "2022-03-02T19:16:02.822Z"
   },
   {
    "duration": 7,
    "start_time": "2022-03-02T19:16:02.873Z"
   },
   {
    "duration": 23,
    "start_time": "2022-03-02T19:16:02.882Z"
   },
   {
    "duration": 26,
    "start_time": "2022-03-02T19:16:02.907Z"
   },
   {
    "duration": 7,
    "start_time": "2022-03-02T19:16:02.952Z"
   },
   {
    "duration": 9,
    "start_time": "2022-03-02T19:16:02.961Z"
   },
   {
    "duration": 17,
    "start_time": "2022-03-02T19:16:02.972Z"
   },
   {
    "duration": 13,
    "start_time": "2022-03-02T19:16:02.991Z"
   },
   {
    "duration": 6,
    "start_time": "2022-03-02T19:16:03.006Z"
   },
   {
    "duration": 39,
    "start_time": "2022-03-02T19:16:03.015Z"
   },
   {
    "duration": 6,
    "start_time": "2022-03-02T19:16:03.057Z"
   },
   {
    "duration": 10,
    "start_time": "2022-03-02T19:16:03.065Z"
   },
   {
    "duration": 38,
    "start_time": "2022-03-02T19:16:03.077Z"
   },
   {
    "duration": 40,
    "start_time": "2022-03-02T19:16:03.117Z"
   },
   {
    "duration": 13,
    "start_time": "2022-03-02T19:16:03.160Z"
   },
   {
    "duration": 11,
    "start_time": "2022-03-02T19:16:03.176Z"
   },
   {
    "duration": 11,
    "start_time": "2022-03-02T19:16:03.190Z"
   },
   {
    "duration": 49,
    "start_time": "2022-03-02T19:16:03.203Z"
   },
   {
    "duration": 8,
    "start_time": "2022-03-02T19:16:03.254Z"
   },
   {
    "duration": 28,
    "start_time": "2022-03-02T19:16:03.264Z"
   },
   {
    "duration": 20,
    "start_time": "2022-03-02T19:16:03.294Z"
   },
   {
    "duration": 50,
    "start_time": "2022-03-02T19:16:03.316Z"
   },
   {
    "duration": 27,
    "start_time": "2022-03-02T19:16:03.368Z"
   },
   {
    "duration": 302,
    "start_time": "2022-03-02T19:16:03.398Z"
   },
   {
    "duration": 16,
    "start_time": "2022-03-02T19:16:03.703Z"
   },
   {
    "duration": 39,
    "start_time": "2022-03-02T19:16:03.721Z"
   },
   {
    "duration": 22,
    "start_time": "2022-03-02T19:16:03.762Z"
   },
   {
    "duration": 19,
    "start_time": "2022-03-02T19:16:03.786Z"
   },
   {
    "duration": 94,
    "start_time": "2022-03-02T19:16:03.807Z"
   },
   {
    "duration": 285,
    "start_time": "2022-03-02T19:16:03.903Z"
   },
   {
    "duration": 22,
    "start_time": "2022-03-02T19:16:04.191Z"
   },
   {
    "duration": 42,
    "start_time": "2022-03-02T19:16:04.215Z"
   },
   {
    "duration": 16,
    "start_time": "2022-03-02T19:16:04.259Z"
   },
   {
    "duration": 31,
    "start_time": "2022-03-02T19:16:04.277Z"
   }
  ],
  "kernelspec": {
   "display_name": "Python 3 (ipykernel)",
   "language": "python",
   "name": "python3"
  },
  "language_info": {
   "codemirror_mode": {
    "name": "ipython",
    "version": 3
   },
   "file_extension": ".py",
   "mimetype": "text/x-python",
   "name": "python",
   "nbconvert_exporter": "python",
   "pygments_lexer": "ipython3",
   "version": "3.9.7"
  },
  "toc": {
   "base_numbering": 1,
   "nav_menu": {},
   "number_sections": true,
   "sideBar": true,
   "skip_h1_title": true,
   "title_cell": "Table of Contents",
   "title_sidebar": "Contents",
   "toc_cell": false,
   "toc_position": {
    "height": "605.283px",
    "left": "34px",
    "top": "66.7833px",
    "width": "321.533px"
   },
   "toc_section_display": true,
   "toc_window_display": true
  }
 },
 "nbformat": 4,
 "nbformat_minor": 5
}
